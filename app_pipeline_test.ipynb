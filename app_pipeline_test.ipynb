{
 "cells": [
  {
   "cell_type": "code",
   "execution_count": null,
   "id": "initial_id",
   "metadata": {
    "collapsed": true
   },
   "outputs": [],
   "source": [
    "# In this notebook, we'll test out the functionality of the app. It's easier to test here than in the streamlit output"
   ]
  },
  {
   "cell_type": "code",
   "execution_count": null,
   "outputs": [],
   "source": [
    "## Make widgets as the UI"
   ],
   "metadata": {
    "collapsed": false
   },
   "id": "1b457681766c40ce"
  },
  {
   "cell_type": "code",
   "execution_count": null,
   "outputs": [],
   "source": [],
   "metadata": {
    "collapsed": false
   },
   "id": "d47ca051c092f043"
  },
  {
   "cell_type": "code",
   "execution_count": null,
   "outputs": [],
   "source": [
    "import ipywidgets as widgets\n",
    "import datetime\n",
    "\n",
    "import matplotlib.pyplot as plt\n",
    "import pandas as pd"
   ],
   "metadata": {
    "collapsed": false
   },
   "id": "3f9b184e606af9e1"
  },
  {
   "cell_type": "code",
   "execution_count": null,
   "outputs": [],
   "source": [
    "X = pd.read_csv('test_X.csv')\n",
    "time = pd.read_csv('test_time.csv')\n",
    "demand = pd.read_csv('test_demand.csv')\n",
    "future_weather = pd.read_csv('test_future_weather.csv')"
   ],
   "metadata": {
    "collapsed": false
   },
   "id": "e70061d265f5e7e3"
  },
  {
   "cell_type": "code",
   "execution_count": null,
   "outputs": [],
   "source": [
    "demand.info()"
   ],
   "metadata": {
    "collapsed": false
   },
   "id": "e022f72087d01fb6"
  },
  {
   "cell_type": "code",
   "execution_count": null,
   "outputs": [],
   "source": [
    "X"
   ],
   "metadata": {
    "collapsed": false
   },
   "id": "64d6ae76421bde3c"
  },
  {
   "cell_type": "code",
   "execution_count": null,
   "outputs": [],
   "source": [
    "demand"
   ],
   "metadata": {
    "collapsed": false
   },
   "id": "e6f274145f373a99"
  },
  {
   "cell_type": "code",
   "execution_count": null,
   "outputs": [],
   "source": [
    "demand[demand.actual_demand_MW == demand.actual_demand_MW.max()]"
   ],
   "metadata": {
    "collapsed": false
   },
   "id": "61508a75103d962d"
  },
  {
   "cell_type": "code",
   "execution_count": null,
   "outputs": [],
   "source": [
    "# demand[['datetime','actual_demand_MW']].plot()\n",
    "import matplotlib.pyplot as plt\n",
    "plt.figure(figsize=(10,1))\n",
    "plt.plot(pd.to_datetime(demand['datetime']), demand['actual_demand_MW'])"
   ],
   "metadata": {
    "collapsed": false
   },
   "id": "2ae3bf03d0c764d0"
  },
  {
   "cell_type": "code",
   "execution_count": null,
   "outputs": [],
   "source": [
    "plt.figure(figsize=(10,1))\n",
    "plt.plot(pd.to_datetime(demand['INTERVALSTARTTIME_GMT']), demand['actual_demand_MW'])"
   ],
   "metadata": {
    "collapsed": false
   },
   "id": "dee2ba31063d3184"
  },
  {
   "cell_type": "code",
   "execution_count": null,
   "outputs": [],
   "source": [
    "demand[demand['MARKET_RUN_ID'] == '7DA']"
   ],
   "metadata": {
    "collapsed": false
   },
   "id": "24424339dcec1cea"
  },
  {
   "cell_type": "code",
   "execution_count": null,
   "outputs": [],
   "source": [
    "# ?pd.DataFrame.to_csv\n",
    "future_weather[['index','site']]"
   ],
   "metadata": {
    "collapsed": false
   },
   "id": "67dfdbde23cf383f"
  },
  {
   "cell_type": "code",
   "execution_count": null,
   "outputs": [],
   "source": [
    "import pickle\n",
    "model_final = pickle.load(open('models/model_04_10.pkl', 'rb'))\n",
    "model_final"
   ],
   "metadata": {
    "collapsed": false
   },
   "id": "85b931e0e807c3a2"
  },
  {
   "cell_type": "code",
   "execution_count": null,
   "outputs": [],
   "source": [
    "model_final.predict(X)"
   ],
   "metadata": {
    "collapsed": false
   },
   "id": "78ff5d570b15d5f9"
  },
  {
   "cell_type": "code",
   "execution_count": null,
   "outputs": [],
   "source": [
    "pred = model_final.predict(X)\n",
    "plt.plot(range(len(pred)), pred)"
   ],
   "metadata": {
    "collapsed": false
   },
   "id": "de145642fb080a2"
  },
  {
   "cell_type": "code",
   "execution_count": null,
   "outputs": [],
   "source": [
    "X"
   ],
   "metadata": {
    "collapsed": false
   },
   "id": "7ac2dea977a592e7"
  },
  {
   "cell_type": "code",
   "execution_count": null,
   "outputs": [],
   "source": [
    "prediction = pd.Series(model_final.predict(X) * 100, index=pd.to_datetime(X['datetime']), name='% available')\n",
    "plt.plot(prediction)"
   ],
   "metadata": {
    "collapsed": false
   },
   "id": "25825212a967fd21"
  },
  {
   "cell_type": "code",
   "execution_count": null,
   "outputs": [],
   "source": [
    "widgets.FloatProgress(\n",
    "    value=7.5,\n",
    "    min=0,\n",
    "    max=10.0,\n",
    "    description='Loading:',\n",
    "    bar_style='info',\n",
    "    style={'bar_color': '#ffff00'},\n",
    "    orientation='horizontal'\n",
    ")\n",
    "widgets.Dropdown(\n",
    "    options=[('Caltech','Caltech'), ('JPL','JPL'), ('Office001','Office001')],\n",
    "    value='Caltech',\n",
    "    description='Site:',\n",
    ")\n",
    "\n",
    "widgets.ToggleButtons(\n",
    "    options=['Slow', 'Regular', 'Fast'],\n",
    "    description='Speed:',\n",
    "    disabled=False,\n",
    "    button_style='', # 'success', 'info', 'warning', 'danger' or ''\n",
    "    tooltips=['Description of slow', 'Description of regular', 'Description of fast'],\n",
    "#     icons=['check'] * 3\n",
    ")\n",
    "\n",
    "button = widgets.Button(\n",
    "    description='Click me',\n",
    "    disabled=False,\n",
    "    button_style='', # 'success', 'info', 'warning', 'danger' or ''\n",
    "    tooltip='Click me',\n",
    "    icon='check' # (FontAwesome names without the `fa-` prefix)\n",
    ")\n",
    "button\n",
    "\n",
    "widgets.DatePicker(\n",
    "    description='Pick a Date',\n",
    "    disabled=False\n",
    ")"
   ],
   "metadata": {
    "collapsed": false
   },
   "id": "ce8f1e6c24d4c93c"
  },
  {
   "cell_type": "code",
   "execution_count": null,
   "outputs": [],
   "source": [
    "today = datetime.today().date()"
   ],
   "metadata": {
    "collapsed": false
   },
   "id": "737a0da3640ad74b"
  },
  {
   "cell_type": "code",
   "execution_count": null,
   "outputs": [],
   "source": [
    "# with selection\n",
    "site = 'Caltech'\n",
    "user_preferences = 'No Preference'\n",
    "\n",
    "start_date = today\n",
    "end_date = today + pd.Timedelta('1d')"
   ],
   "metadata": {
    "collapsed": false
   },
   "id": "f011724fd22f5957"
  },
  {
   "cell_type": "markdown",
   "source": [
    "# This is what the app does:\n",
    "1. create the UI\n",
    "2. makes graphs\n",
    "3. get weather data (date and location)\n",
    "4. get caiso data (date and location)\n",
    "5. get the date range\n",
    "6. get the location\n",
    "7. makes X variable\n",
    "8. loads model\n",
    "9. performs inference\n",
    "10. graphs results"
   ],
   "metadata": {
    "collapsed": false
   },
   "id": "824535a4c852678c"
  },
  {
   "cell_type": "code",
   "execution_count": null,
   "outputs": [],
   "source": [
    "from src.weather import get_processed_hourly_7day_weather"
   ],
   "metadata": {
    "collapsed": false
   },
   "id": "239e52e6c9a70070"
  },
  {
   "cell_type": "code",
   "execution_count": null,
   "outputs": [],
   "source": [
    "site2latlon = {'Caltech':(34.134785646454844, -118.11691382579643),\n",
    "               'Office001':(37.33680466796926, -121.90743423142634),\n",
    "               'JPL':(34.20142342818471, -118.17126565774107)}"
   ],
   "metadata": {
    "collapsed": false
   },
   "id": "90c356cfdf82f43"
  },
  {
   "cell_type": "code",
   "execution_count": null,
   "outputs": [],
   "source": [
    "cal_weather = get_processed_hourly_7day_weather(*site2latlon[site])"
   ],
   "metadata": {
    "collapsed": false
   },
   "id": "64f9e89e8f50dd96"
  },
  {
   "cell_type": "code",
   "execution_count": null,
   "outputs": [],
   "source": [
    "cal_weather.columns"
   ],
   "metadata": {
    "collapsed": false
   },
   "id": "b5b14808cba0f8c6"
  }
 ],
 "metadata": {
  "kernelspec": {
   "display_name": "Python 3",
   "language": "python",
   "name": "python3"
  },
  "language_info": {
   "codemirror_mode": {
    "name": "ipython",
    "version": 2
   },
   "file_extension": ".py",
   "mimetype": "text/x-python",
   "name": "python",
   "nbconvert_exporter": "python",
   "pygments_lexer": "ipython2",
   "version": "2.7.6"
  }
 },
 "nbformat": 4,
 "nbformat_minor": 5
}
