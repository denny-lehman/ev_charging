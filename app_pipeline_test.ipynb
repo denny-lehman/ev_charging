{
 "cells": [
  {
   "cell_type": "code",
   "execution_count": 1,
   "id": "initial_id",
   "metadata": {
    "collapsed": true,
    "ExecuteTime": {
     "end_time": "2024-04-13T06:58:30.071930890Z",
     "start_time": "2024-04-13T06:58:29.605716986Z"
    }
   },
   "outputs": [],
   "source": [
    "# In this notebook, we'll test out the functionality of the app. It's easier to test here than in the streamlit output"
   ]
  },
  {
   "cell_type": "code",
   "execution_count": 2,
   "outputs": [],
   "source": [
    "## Make widgets as the UI"
   ],
   "metadata": {
    "collapsed": false,
    "ExecuteTime": {
     "end_time": "2024-04-13T06:58:30.072139982Z",
     "start_time": "2024-04-13T06:58:29.605827383Z"
    }
   },
   "id": "1b457681766c40ce"
  },
  {
   "cell_type": "code",
   "execution_count": 2,
   "outputs": [],
   "source": [],
   "metadata": {
    "collapsed": false,
    "ExecuteTime": {
     "end_time": "2024-04-13T06:58:30.072182514Z",
     "start_time": "2024-04-13T06:58:29.605857079Z"
    }
   },
   "id": "d47ca051c092f043"
  },
  {
   "cell_type": "code",
   "execution_count": 3,
   "outputs": [],
   "source": [
    "import ipywidgets as widgets\n",
    "import datetime\n",
    "\n",
    "import matplotlib.pyplot as plt\n",
    "import pandas as pd"
   ],
   "metadata": {
    "collapsed": false,
    "ExecuteTime": {
     "end_time": "2024-04-13T06:58:30.305932580Z",
     "start_time": "2024-04-13T06:58:29.605887338Z"
    }
   },
   "id": "3f9b184e606af9e1"
  },
  {
   "cell_type": "code",
   "execution_count": 4,
   "outputs": [],
   "source": [
    "X = pd.read_csv('test_X.csv')\n",
    "time = pd.read_csv('test_time.csv')\n",
    "demand = pd.read_csv('test_demand.csv')\n",
    "future_weather = pd.read_csv('test_future_weather.csv')"
   ],
   "metadata": {
    "collapsed": false,
    "ExecuteTime": {
     "end_time": "2024-04-13T06:58:30.341552133Z",
     "start_time": "2024-04-13T06:58:30.307954064Z"
    }
   },
   "id": "e70061d265f5e7e3"
  },
  {
   "cell_type": "code",
   "execution_count": 5,
   "outputs": [
    {
     "name": "stdout",
     "output_type": "stream",
     "text": [
      "<class 'pandas.core.frame.DataFrame'>\n",
      "RangeIndex: 168 entries, 0 to 167\n",
      "Data columns (total 16 columns):\n",
      " #   Column                 Non-Null Count  Dtype  \n",
      "---  ------                 --------------  -----  \n",
      " 0   datetime               168 non-null    object \n",
      " 1   INTERVALSTARTTIME_GMT  168 non-null    object \n",
      " 2   INTERVALENDTIME_GMT    168 non-null    object \n",
      " 3   LOAD_TYPE              168 non-null    int64  \n",
      " 4   OPR_DT                 168 non-null    object \n",
      " 5   OPR_HR                 168 non-null    int64  \n",
      " 6   OPR_INTERVAL           168 non-null    int64  \n",
      " 7   MARKET_RUN_ID          168 non-null    object \n",
      " 8   TAC_AREA_NAME          168 non-null    object \n",
      " 9   LABEL                  168 non-null    object \n",
      " 10  XML_DATA_ITEM          168 non-null    object \n",
      " 11  POS                    168 non-null    float64\n",
      " 12  actual_demand_MW       168 non-null    float64\n",
      " 13  EXECUTION_TYPE         168 non-null    object \n",
      " 14  GROUP                  168 non-null    int64  \n",
      " 15  site                   168 non-null    object \n",
      "dtypes: float64(2), int64(4), object(10)\n",
      "memory usage: 21.1+ KB\n"
     ]
    }
   ],
   "source": [
    "demand.info()"
   ],
   "metadata": {
    "collapsed": false,
    "ExecuteTime": {
     "end_time": "2024-04-13T06:58:30.345257087Z",
     "start_time": "2024-04-13T06:58:30.325043012Z"
    }
   },
   "id": "e022f72087d01fb6"
  },
  {
   "cell_type": "code",
   "execution_count": 6,
   "outputs": [
    {
     "data": {
      "text/plain": "                      datetime  dow  hour  month  is_holiday  \\\n0    2024-04-13 00:00:00-07:00    5     0      4       False   \n1    2024-04-13 01:00:00-07:00    5     1      4       False   \n2    2024-04-13 02:00:00-07:00    5     2      4       False   \n3    2024-04-13 03:00:00-07:00    5     3      4       False   \n4    2024-04-13 04:00:00-07:00    5     4      4       False   \n..                         ...  ...   ...    ...         ...   \n140  2024-04-18 20:00:00-07:00    3    20      4       False   \n141  2024-04-18 21:00:00-07:00    3    21      4       False   \n142  2024-04-18 22:00:00-07:00    3    22      4       False   \n143  2024-04-18 23:00:00-07:00    3    23      4       False   \n144  2024-04-19 00:00:00-07:00    4     0      4       False   \n\n     actual_demand_MW  temperature_degC  dewpoint_degC  relative_humidity_%  \\\n0             9598.82             12.22         -73.33                   89   \n1             9598.82             12.22         -73.33                   91   \n2             9165.42             12.22         -73.33                   87   \n3             8815.08             12.22         -73.33                   86   \n4             8602.39             12.22         -73.33                   85   \n..                ...               ...            ...                  ...   \n140          10974.11             18.89         -73.33                   56   \n141          11136.39             17.22         -73.33                   62   \n142          10891.39             16.11         -73.33                   67   \n143          10300.23             15.56         -73.33                   71   \n144           9639.77             15.00         -73.33                   73   \n\n     wind_speed_mph     site  \n0                10  Caltech  \n1                10  Caltech  \n2                10  Caltech  \n3                10  Caltech  \n4                10  Caltech  \n..              ...      ...  \n140              10  Caltech  \n141              10  Caltech  \n142              10  Caltech  \n143               5  Caltech  \n144               5  Caltech  \n\n[145 rows x 11 columns]",
      "text/html": "<div>\n<style scoped>\n    .dataframe tbody tr th:only-of-type {\n        vertical-align: middle;\n    }\n\n    .dataframe tbody tr th {\n        vertical-align: top;\n    }\n\n    .dataframe thead th {\n        text-align: right;\n    }\n</style>\n<table border=\"1\" class=\"dataframe\">\n  <thead>\n    <tr style=\"text-align: right;\">\n      <th></th>\n      <th>datetime</th>\n      <th>dow</th>\n      <th>hour</th>\n      <th>month</th>\n      <th>is_holiday</th>\n      <th>actual_demand_MW</th>\n      <th>temperature_degC</th>\n      <th>dewpoint_degC</th>\n      <th>relative_humidity_%</th>\n      <th>wind_speed_mph</th>\n      <th>site</th>\n    </tr>\n  </thead>\n  <tbody>\n    <tr>\n      <th>0</th>\n      <td>2024-04-13 00:00:00-07:00</td>\n      <td>5</td>\n      <td>0</td>\n      <td>4</td>\n      <td>False</td>\n      <td>9598.82</td>\n      <td>12.22</td>\n      <td>-73.33</td>\n      <td>89</td>\n      <td>10</td>\n      <td>Caltech</td>\n    </tr>\n    <tr>\n      <th>1</th>\n      <td>2024-04-13 01:00:00-07:00</td>\n      <td>5</td>\n      <td>1</td>\n      <td>4</td>\n      <td>False</td>\n      <td>9598.82</td>\n      <td>12.22</td>\n      <td>-73.33</td>\n      <td>91</td>\n      <td>10</td>\n      <td>Caltech</td>\n    </tr>\n    <tr>\n      <th>2</th>\n      <td>2024-04-13 02:00:00-07:00</td>\n      <td>5</td>\n      <td>2</td>\n      <td>4</td>\n      <td>False</td>\n      <td>9165.42</td>\n      <td>12.22</td>\n      <td>-73.33</td>\n      <td>87</td>\n      <td>10</td>\n      <td>Caltech</td>\n    </tr>\n    <tr>\n      <th>3</th>\n      <td>2024-04-13 03:00:00-07:00</td>\n      <td>5</td>\n      <td>3</td>\n      <td>4</td>\n      <td>False</td>\n      <td>8815.08</td>\n      <td>12.22</td>\n      <td>-73.33</td>\n      <td>86</td>\n      <td>10</td>\n      <td>Caltech</td>\n    </tr>\n    <tr>\n      <th>4</th>\n      <td>2024-04-13 04:00:00-07:00</td>\n      <td>5</td>\n      <td>4</td>\n      <td>4</td>\n      <td>False</td>\n      <td>8602.39</td>\n      <td>12.22</td>\n      <td>-73.33</td>\n      <td>85</td>\n      <td>10</td>\n      <td>Caltech</td>\n    </tr>\n    <tr>\n      <th>...</th>\n      <td>...</td>\n      <td>...</td>\n      <td>...</td>\n      <td>...</td>\n      <td>...</td>\n      <td>...</td>\n      <td>...</td>\n      <td>...</td>\n      <td>...</td>\n      <td>...</td>\n      <td>...</td>\n    </tr>\n    <tr>\n      <th>140</th>\n      <td>2024-04-18 20:00:00-07:00</td>\n      <td>3</td>\n      <td>20</td>\n      <td>4</td>\n      <td>False</td>\n      <td>10974.11</td>\n      <td>18.89</td>\n      <td>-73.33</td>\n      <td>56</td>\n      <td>10</td>\n      <td>Caltech</td>\n    </tr>\n    <tr>\n      <th>141</th>\n      <td>2024-04-18 21:00:00-07:00</td>\n      <td>3</td>\n      <td>21</td>\n      <td>4</td>\n      <td>False</td>\n      <td>11136.39</td>\n      <td>17.22</td>\n      <td>-73.33</td>\n      <td>62</td>\n      <td>10</td>\n      <td>Caltech</td>\n    </tr>\n    <tr>\n      <th>142</th>\n      <td>2024-04-18 22:00:00-07:00</td>\n      <td>3</td>\n      <td>22</td>\n      <td>4</td>\n      <td>False</td>\n      <td>10891.39</td>\n      <td>16.11</td>\n      <td>-73.33</td>\n      <td>67</td>\n      <td>10</td>\n      <td>Caltech</td>\n    </tr>\n    <tr>\n      <th>143</th>\n      <td>2024-04-18 23:00:00-07:00</td>\n      <td>3</td>\n      <td>23</td>\n      <td>4</td>\n      <td>False</td>\n      <td>10300.23</td>\n      <td>15.56</td>\n      <td>-73.33</td>\n      <td>71</td>\n      <td>5</td>\n      <td>Caltech</td>\n    </tr>\n    <tr>\n      <th>144</th>\n      <td>2024-04-19 00:00:00-07:00</td>\n      <td>4</td>\n      <td>0</td>\n      <td>4</td>\n      <td>False</td>\n      <td>9639.77</td>\n      <td>15.00</td>\n      <td>-73.33</td>\n      <td>73</td>\n      <td>5</td>\n      <td>Caltech</td>\n    </tr>\n  </tbody>\n</table>\n<p>145 rows × 11 columns</p>\n</div>"
     },
     "execution_count": 6,
     "metadata": {},
     "output_type": "execute_result"
    }
   ],
   "source": [
    "X"
   ],
   "metadata": {
    "collapsed": false,
    "ExecuteTime": {
     "end_time": "2024-04-13T06:58:30.347079046Z",
     "start_time": "2024-04-13T06:58:30.328853054Z"
    }
   },
   "id": "64d6ae76421bde3c"
  },
  {
   "cell_type": "code",
   "execution_count": 7,
   "outputs": [
    {
     "data": {
      "text/plain": "                      datetime      INTERVALSTARTTIME_GMT  \\\n0    2024-04-13 01:00:00-07:00  2024-04-13T07:00:00-00:00   \n1    2024-04-13 02:00:00-07:00  2024-04-13T08:00:00-00:00   \n2    2024-04-13 03:00:00-07:00  2024-04-13T09:00:00-00:00   \n3    2024-04-13 04:00:00-07:00  2024-04-13T10:00:00-00:00   \n4    2024-04-13 05:00:00-07:00  2024-04-13T11:00:00-00:00   \n..                         ...                        ...   \n163  2024-04-19 20:00:00-07:00  2024-04-20T02:00:00-00:00   \n164  2024-04-19 21:00:00-07:00  2024-04-20T03:00:00-00:00   \n165  2024-04-19 22:00:00-07:00  2024-04-20T04:00:00-00:00   \n166  2024-04-19 23:00:00-07:00  2024-04-20T05:00:00-00:00   \n167  2024-04-20 00:00:00-07:00  2024-04-20T06:00:00-00:00   \n\n           INTERVALENDTIME_GMT  LOAD_TYPE      OPR_DT  OPR_HR  OPR_INTERVAL  \\\n0    2024-04-13T08:00:00-00:00          0  2024-04-13       1             0   \n1    2024-04-13T09:00:00-00:00          0  2024-04-13       2             0   \n2    2024-04-13T10:00:00-00:00          0  2024-04-13       3             0   \n3    2024-04-13T11:00:00-00:00          0  2024-04-13       4             0   \n4    2024-04-13T12:00:00-00:00          0  2024-04-13       5             0   \n..                         ...        ...         ...     ...           ...   \n163  2024-04-20T03:00:00-00:00          0  2024-04-19      20             0   \n164  2024-04-20T04:00:00-00:00          0  2024-04-19      21             0   \n165  2024-04-20T05:00:00-00:00          0  2024-04-19      22             0   \n166  2024-04-20T06:00:00-00:00          0  2024-04-19      23             0   \n167  2024-04-20T07:00:00-00:00          0  2024-04-19      24             0   \n\n    MARKET_RUN_ID TAC_AREA_NAME                        LABEL    XML_DATA_ITEM  \\\n0             7DA       SCE-TAC  Demand Forecast 7-Day Ahead  SYS_FCST_7DA_MW   \n1             7DA       SCE-TAC  Demand Forecast 7-Day Ahead  SYS_FCST_7DA_MW   \n2             7DA       SCE-TAC  Demand Forecast 7-Day Ahead  SYS_FCST_7DA_MW   \n3             7DA       SCE-TAC  Demand Forecast 7-Day Ahead  SYS_FCST_7DA_MW   \n4             7DA       SCE-TAC  Demand Forecast 7-Day Ahead  SYS_FCST_7DA_MW   \n..            ...           ...                          ...              ...   \n163           7DA       SCE-TAC  Demand Forecast 7-Day Ahead  SYS_FCST_7DA_MW   \n164           7DA       SCE-TAC  Demand Forecast 7-Day Ahead  SYS_FCST_7DA_MW   \n165           7DA       SCE-TAC  Demand Forecast 7-Day Ahead  SYS_FCST_7DA_MW   \n166           7DA       SCE-TAC  Demand Forecast 7-Day Ahead  SYS_FCST_7DA_MW   \n167           7DA       SCE-TAC  Demand Forecast 7-Day Ahead  SYS_FCST_7DA_MW   \n\n     POS  actual_demand_MW EXECUTION_TYPE  GROUP     site  \n0    0.2           9598.82            7DA     58  Caltech  \n1    0.2           9165.42            7DA     58  Caltech  \n2    0.2           8815.08            7DA     58  Caltech  \n3    0.2           8602.39            7DA     58  Caltech  \n4    0.2           8579.17            7DA     58  Caltech  \n..   ...               ...            ...    ...      ...  \n163  0.2          10697.15            7DA    365  Caltech  \n164  0.2          10910.74            7DA    365  Caltech  \n165  0.2          10754.85            7DA    365  Caltech  \n166  0.2          10285.53            7DA    365  Caltech  \n167  0.2           9680.98            7DA    365  Caltech  \n\n[168 rows x 16 columns]",
      "text/html": "<div>\n<style scoped>\n    .dataframe tbody tr th:only-of-type {\n        vertical-align: middle;\n    }\n\n    .dataframe tbody tr th {\n        vertical-align: top;\n    }\n\n    .dataframe thead th {\n        text-align: right;\n    }\n</style>\n<table border=\"1\" class=\"dataframe\">\n  <thead>\n    <tr style=\"text-align: right;\">\n      <th></th>\n      <th>datetime</th>\n      <th>INTERVALSTARTTIME_GMT</th>\n      <th>INTERVALENDTIME_GMT</th>\n      <th>LOAD_TYPE</th>\n      <th>OPR_DT</th>\n      <th>OPR_HR</th>\n      <th>OPR_INTERVAL</th>\n      <th>MARKET_RUN_ID</th>\n      <th>TAC_AREA_NAME</th>\n      <th>LABEL</th>\n      <th>XML_DATA_ITEM</th>\n      <th>POS</th>\n      <th>actual_demand_MW</th>\n      <th>EXECUTION_TYPE</th>\n      <th>GROUP</th>\n      <th>site</th>\n    </tr>\n  </thead>\n  <tbody>\n    <tr>\n      <th>0</th>\n      <td>2024-04-13 01:00:00-07:00</td>\n      <td>2024-04-13T07:00:00-00:00</td>\n      <td>2024-04-13T08:00:00-00:00</td>\n      <td>0</td>\n      <td>2024-04-13</td>\n      <td>1</td>\n      <td>0</td>\n      <td>7DA</td>\n      <td>SCE-TAC</td>\n      <td>Demand Forecast 7-Day Ahead</td>\n      <td>SYS_FCST_7DA_MW</td>\n      <td>0.2</td>\n      <td>9598.82</td>\n      <td>7DA</td>\n      <td>58</td>\n      <td>Caltech</td>\n    </tr>\n    <tr>\n      <th>1</th>\n      <td>2024-04-13 02:00:00-07:00</td>\n      <td>2024-04-13T08:00:00-00:00</td>\n      <td>2024-04-13T09:00:00-00:00</td>\n      <td>0</td>\n      <td>2024-04-13</td>\n      <td>2</td>\n      <td>0</td>\n      <td>7DA</td>\n      <td>SCE-TAC</td>\n      <td>Demand Forecast 7-Day Ahead</td>\n      <td>SYS_FCST_7DA_MW</td>\n      <td>0.2</td>\n      <td>9165.42</td>\n      <td>7DA</td>\n      <td>58</td>\n      <td>Caltech</td>\n    </tr>\n    <tr>\n      <th>2</th>\n      <td>2024-04-13 03:00:00-07:00</td>\n      <td>2024-04-13T09:00:00-00:00</td>\n      <td>2024-04-13T10:00:00-00:00</td>\n      <td>0</td>\n      <td>2024-04-13</td>\n      <td>3</td>\n      <td>0</td>\n      <td>7DA</td>\n      <td>SCE-TAC</td>\n      <td>Demand Forecast 7-Day Ahead</td>\n      <td>SYS_FCST_7DA_MW</td>\n      <td>0.2</td>\n      <td>8815.08</td>\n      <td>7DA</td>\n      <td>58</td>\n      <td>Caltech</td>\n    </tr>\n    <tr>\n      <th>3</th>\n      <td>2024-04-13 04:00:00-07:00</td>\n      <td>2024-04-13T10:00:00-00:00</td>\n      <td>2024-04-13T11:00:00-00:00</td>\n      <td>0</td>\n      <td>2024-04-13</td>\n      <td>4</td>\n      <td>0</td>\n      <td>7DA</td>\n      <td>SCE-TAC</td>\n      <td>Demand Forecast 7-Day Ahead</td>\n      <td>SYS_FCST_7DA_MW</td>\n      <td>0.2</td>\n      <td>8602.39</td>\n      <td>7DA</td>\n      <td>58</td>\n      <td>Caltech</td>\n    </tr>\n    <tr>\n      <th>4</th>\n      <td>2024-04-13 05:00:00-07:00</td>\n      <td>2024-04-13T11:00:00-00:00</td>\n      <td>2024-04-13T12:00:00-00:00</td>\n      <td>0</td>\n      <td>2024-04-13</td>\n      <td>5</td>\n      <td>0</td>\n      <td>7DA</td>\n      <td>SCE-TAC</td>\n      <td>Demand Forecast 7-Day Ahead</td>\n      <td>SYS_FCST_7DA_MW</td>\n      <td>0.2</td>\n      <td>8579.17</td>\n      <td>7DA</td>\n      <td>58</td>\n      <td>Caltech</td>\n    </tr>\n    <tr>\n      <th>...</th>\n      <td>...</td>\n      <td>...</td>\n      <td>...</td>\n      <td>...</td>\n      <td>...</td>\n      <td>...</td>\n      <td>...</td>\n      <td>...</td>\n      <td>...</td>\n      <td>...</td>\n      <td>...</td>\n      <td>...</td>\n      <td>...</td>\n      <td>...</td>\n      <td>...</td>\n      <td>...</td>\n    </tr>\n    <tr>\n      <th>163</th>\n      <td>2024-04-19 20:00:00-07:00</td>\n      <td>2024-04-20T02:00:00-00:00</td>\n      <td>2024-04-20T03:00:00-00:00</td>\n      <td>0</td>\n      <td>2024-04-19</td>\n      <td>20</td>\n      <td>0</td>\n      <td>7DA</td>\n      <td>SCE-TAC</td>\n      <td>Demand Forecast 7-Day Ahead</td>\n      <td>SYS_FCST_7DA_MW</td>\n      <td>0.2</td>\n      <td>10697.15</td>\n      <td>7DA</td>\n      <td>365</td>\n      <td>Caltech</td>\n    </tr>\n    <tr>\n      <th>164</th>\n      <td>2024-04-19 21:00:00-07:00</td>\n      <td>2024-04-20T03:00:00-00:00</td>\n      <td>2024-04-20T04:00:00-00:00</td>\n      <td>0</td>\n      <td>2024-04-19</td>\n      <td>21</td>\n      <td>0</td>\n      <td>7DA</td>\n      <td>SCE-TAC</td>\n      <td>Demand Forecast 7-Day Ahead</td>\n      <td>SYS_FCST_7DA_MW</td>\n      <td>0.2</td>\n      <td>10910.74</td>\n      <td>7DA</td>\n      <td>365</td>\n      <td>Caltech</td>\n    </tr>\n    <tr>\n      <th>165</th>\n      <td>2024-04-19 22:00:00-07:00</td>\n      <td>2024-04-20T04:00:00-00:00</td>\n      <td>2024-04-20T05:00:00-00:00</td>\n      <td>0</td>\n      <td>2024-04-19</td>\n      <td>22</td>\n      <td>0</td>\n      <td>7DA</td>\n      <td>SCE-TAC</td>\n      <td>Demand Forecast 7-Day Ahead</td>\n      <td>SYS_FCST_7DA_MW</td>\n      <td>0.2</td>\n      <td>10754.85</td>\n      <td>7DA</td>\n      <td>365</td>\n      <td>Caltech</td>\n    </tr>\n    <tr>\n      <th>166</th>\n      <td>2024-04-19 23:00:00-07:00</td>\n      <td>2024-04-20T05:00:00-00:00</td>\n      <td>2024-04-20T06:00:00-00:00</td>\n      <td>0</td>\n      <td>2024-04-19</td>\n      <td>23</td>\n      <td>0</td>\n      <td>7DA</td>\n      <td>SCE-TAC</td>\n      <td>Demand Forecast 7-Day Ahead</td>\n      <td>SYS_FCST_7DA_MW</td>\n      <td>0.2</td>\n      <td>10285.53</td>\n      <td>7DA</td>\n      <td>365</td>\n      <td>Caltech</td>\n    </tr>\n    <tr>\n      <th>167</th>\n      <td>2024-04-20 00:00:00-07:00</td>\n      <td>2024-04-20T06:00:00-00:00</td>\n      <td>2024-04-20T07:00:00-00:00</td>\n      <td>0</td>\n      <td>2024-04-19</td>\n      <td>24</td>\n      <td>0</td>\n      <td>7DA</td>\n      <td>SCE-TAC</td>\n      <td>Demand Forecast 7-Day Ahead</td>\n      <td>SYS_FCST_7DA_MW</td>\n      <td>0.2</td>\n      <td>9680.98</td>\n      <td>7DA</td>\n      <td>365</td>\n      <td>Caltech</td>\n    </tr>\n  </tbody>\n</table>\n<p>168 rows × 16 columns</p>\n</div>"
     },
     "execution_count": 7,
     "metadata": {},
     "output_type": "execute_result"
    }
   ],
   "source": [
    "demand"
   ],
   "metadata": {
    "collapsed": false,
    "ExecuteTime": {
     "end_time": "2024-04-13T06:58:30.468198926Z",
     "start_time": "2024-04-13T06:58:30.349728733Z"
    }
   },
   "id": "e6f274145f373a99"
  },
  {
   "cell_type": "code",
   "execution_count": 8,
   "outputs": [
    {
     "data": {
      "text/plain": "                     datetime      INTERVALSTARTTIME_GMT  \\\n92  2024-04-16 21:00:00-07:00  2024-04-17T03:00:00-00:00   \n\n          INTERVALENDTIME_GMT  LOAD_TYPE      OPR_DT  OPR_HR  OPR_INTERVAL  \\\n92  2024-04-17T04:00:00-00:00          0  2024-04-16      21             0   \n\n   MARKET_RUN_ID TAC_AREA_NAME                        LABEL    XML_DATA_ITEM  \\\n92           7DA       SCE-TAC  Demand Forecast 7-Day Ahead  SYS_FCST_7DA_MW   \n\n    POS  actual_demand_MW EXECUTION_TYPE  GROUP     site  \n92  0.2          11170.34            7DA    263  Caltech  ",
      "text/html": "<div>\n<style scoped>\n    .dataframe tbody tr th:only-of-type {\n        vertical-align: middle;\n    }\n\n    .dataframe tbody tr th {\n        vertical-align: top;\n    }\n\n    .dataframe thead th {\n        text-align: right;\n    }\n</style>\n<table border=\"1\" class=\"dataframe\">\n  <thead>\n    <tr style=\"text-align: right;\">\n      <th></th>\n      <th>datetime</th>\n      <th>INTERVALSTARTTIME_GMT</th>\n      <th>INTERVALENDTIME_GMT</th>\n      <th>LOAD_TYPE</th>\n      <th>OPR_DT</th>\n      <th>OPR_HR</th>\n      <th>OPR_INTERVAL</th>\n      <th>MARKET_RUN_ID</th>\n      <th>TAC_AREA_NAME</th>\n      <th>LABEL</th>\n      <th>XML_DATA_ITEM</th>\n      <th>POS</th>\n      <th>actual_demand_MW</th>\n      <th>EXECUTION_TYPE</th>\n      <th>GROUP</th>\n      <th>site</th>\n    </tr>\n  </thead>\n  <tbody>\n    <tr>\n      <th>92</th>\n      <td>2024-04-16 21:00:00-07:00</td>\n      <td>2024-04-17T03:00:00-00:00</td>\n      <td>2024-04-17T04:00:00-00:00</td>\n      <td>0</td>\n      <td>2024-04-16</td>\n      <td>21</td>\n      <td>0</td>\n      <td>7DA</td>\n      <td>SCE-TAC</td>\n      <td>Demand Forecast 7-Day Ahead</td>\n      <td>SYS_FCST_7DA_MW</td>\n      <td>0.2</td>\n      <td>11170.34</td>\n      <td>7DA</td>\n      <td>263</td>\n      <td>Caltech</td>\n    </tr>\n  </tbody>\n</table>\n</div>"
     },
     "execution_count": 8,
     "metadata": {},
     "output_type": "execute_result"
    }
   ],
   "source": [
    "demand[demand.actual_demand_MW == demand.actual_demand_MW.max()]"
   ],
   "metadata": {
    "collapsed": false,
    "ExecuteTime": {
     "end_time": "2024-04-13T06:58:30.468804635Z",
     "start_time": "2024-04-13T06:58:30.375727053Z"
    }
   },
   "id": "61508a75103d962d"
  },
  {
   "cell_type": "code",
   "execution_count": 9,
   "outputs": [
    {
     "data": {
      "text/plain": "[<matplotlib.lines.Line2D at 0x74c45e624fd0>]"
     },
     "execution_count": 9,
     "metadata": {},
     "output_type": "execute_result"
    },
    {
     "data": {
      "text/plain": "<Figure size 1000x100 with 1 Axes>",
      "image/png": "[encoded data removed]"
     },
     "metadata": {},
     "output_type": "display_data"
    }
   ],
   "source": [
    "# demand[['datetime','actual_demand_MW']].plot()\n",
    "import matplotlib.pyplot as plt\n",
    "plt.figure(figsize=(10,1))\n",
    "plt.plot(pd.to_datetime(demand['datetime']), demand['actual_demand_MW'])"
   ],
   "metadata": {
    "collapsed": false,
    "ExecuteTime": {
     "end_time": "2024-04-13T06:58:30.627188128Z",
     "start_time": "2024-04-13T06:58:30.378672224Z"
    }
   },
   "id": "2ae3bf03d0c764d0"
  },
  {
   "cell_type": "code",
   "execution_count": 10,
   "outputs": [
    {
     "data": {
      "text/plain": "[<matplotlib.lines.Line2D at 0x74c45dfc5190>]"
     },
     "execution_count": 10,
     "metadata": {},
     "output_type": "execute_result"
    },
    {
     "data": {
      "text/plain": "<Figure size 1000x100 with 1 Axes>",
      "image/png": "[encoded data removed]"
     },
     "metadata": {},
     "output_type": "display_data"
    }
   ],
   "source": [
    "plt.figure(figsize=(10,1))\n",
    "plt.plot(pd.to_datetime(demand['INTERVALSTARTTIME_GMT']), demand['actual_demand_MW'])"
   ],
   "metadata": {
    "collapsed": false,
    "ExecuteTime": {
     "end_time": "2024-04-13T06:58:30.830265673Z",
     "start_time": "2024-04-13T06:58:30.544970643Z"
    }
   },
   "id": "dee2ba31063d3184"
  },
  {
   "cell_type": "code",
   "execution_count": 11,
   "outputs": [
    {
     "data": {
      "text/plain": "                      datetime      INTERVALSTARTTIME_GMT  \\\n0    2024-04-13 01:00:00-07:00  2024-04-13T07:00:00-00:00   \n1    2024-04-13 02:00:00-07:00  2024-04-13T08:00:00-00:00   \n2    2024-04-13 03:00:00-07:00  2024-04-13T09:00:00-00:00   \n3    2024-04-13 04:00:00-07:00  2024-04-13T10:00:00-00:00   \n4    2024-04-13 05:00:00-07:00  2024-04-13T11:00:00-00:00   \n..                         ...                        ...   \n163  2024-04-19 20:00:00-07:00  2024-04-20T02:00:00-00:00   \n164  2024-04-19 21:00:00-07:00  2024-04-20T03:00:00-00:00   \n165  2024-04-19 22:00:00-07:00  2024-04-20T04:00:00-00:00   \n166  2024-04-19 23:00:00-07:00  2024-04-20T05:00:00-00:00   \n167  2024-04-20 00:00:00-07:00  2024-04-20T06:00:00-00:00   \n\n           INTERVALENDTIME_GMT  LOAD_TYPE      OPR_DT  OPR_HR  OPR_INTERVAL  \\\n0    2024-04-13T08:00:00-00:00          0  2024-04-13       1             0   \n1    2024-04-13T09:00:00-00:00          0  2024-04-13       2             0   \n2    2024-04-13T10:00:00-00:00          0  2024-04-13       3             0   \n3    2024-04-13T11:00:00-00:00          0  2024-04-13       4             0   \n4    2024-04-13T12:00:00-00:00          0  2024-04-13       5             0   \n..                         ...        ...         ...     ...           ...   \n163  2024-04-20T03:00:00-00:00          0  2024-04-19      20             0   \n164  2024-04-20T04:00:00-00:00          0  2024-04-19      21             0   \n165  2024-04-20T05:00:00-00:00          0  2024-04-19      22             0   \n166  2024-04-20T06:00:00-00:00          0  2024-04-19      23             0   \n167  2024-04-20T07:00:00-00:00          0  2024-04-19      24             0   \n\n    MARKET_RUN_ID TAC_AREA_NAME                        LABEL    XML_DATA_ITEM  \\\n0             7DA       SCE-TAC  Demand Forecast 7-Day Ahead  SYS_FCST_7DA_MW   \n1             7DA       SCE-TAC  Demand Forecast 7-Day Ahead  SYS_FCST_7DA_MW   \n2             7DA       SCE-TAC  Demand Forecast 7-Day Ahead  SYS_FCST_7DA_MW   \n3             7DA       SCE-TAC  Demand Forecast 7-Day Ahead  SYS_FCST_7DA_MW   \n4             7DA       SCE-TAC  Demand Forecast 7-Day Ahead  SYS_FCST_7DA_MW   \n..            ...           ...                          ...              ...   \n163           7DA       SCE-TAC  Demand Forecast 7-Day Ahead  SYS_FCST_7DA_MW   \n164           7DA       SCE-TAC  Demand Forecast 7-Day Ahead  SYS_FCST_7DA_MW   \n165           7DA       SCE-TAC  Demand Forecast 7-Day Ahead  SYS_FCST_7DA_MW   \n166           7DA       SCE-TAC  Demand Forecast 7-Day Ahead  SYS_FCST_7DA_MW   \n167           7DA       SCE-TAC  Demand Forecast 7-Day Ahead  SYS_FCST_7DA_MW   \n\n     POS  actual_demand_MW EXECUTION_TYPE  GROUP     site  \n0    0.2           9598.82            7DA     58  Caltech  \n1    0.2           9165.42            7DA     58  Caltech  \n2    0.2           8815.08            7DA     58  Caltech  \n3    0.2           8602.39            7DA     58  Caltech  \n4    0.2           8579.17            7DA     58  Caltech  \n..   ...               ...            ...    ...      ...  \n163  0.2          10697.15            7DA    365  Caltech  \n164  0.2          10910.74            7DA    365  Caltech  \n165  0.2          10754.85            7DA    365  Caltech  \n166  0.2          10285.53            7DA    365  Caltech  \n167  0.2           9680.98            7DA    365  Caltech  \n\n[168 rows x 16 columns]",
      "text/html": "<div>\n<style scoped>\n    .dataframe tbody tr th:only-of-type {\n        vertical-align: middle;\n    }\n\n    .dataframe tbody tr th {\n        vertical-align: top;\n    }\n\n    .dataframe thead th {\n        text-align: right;\n    }\n</style>\n<table border=\"1\" class=\"dataframe\">\n  <thead>\n    <tr style=\"text-align: right;\">\n      <th></th>\n      <th>datetime</th>\n      <th>INTERVALSTARTTIME_GMT</th>\n      <th>INTERVALENDTIME_GMT</th>\n      <th>LOAD_TYPE</th>\n      <th>OPR_DT</th>\n      <th>OPR_HR</th>\n      <th>OPR_INTERVAL</th>\n      <th>MARKET_RUN_ID</th>\n      <th>TAC_AREA_NAME</th>\n      <th>LABEL</th>\n      <th>XML_DATA_ITEM</th>\n      <th>POS</th>\n      <th>actual_demand_MW</th>\n      <th>EXECUTION_TYPE</th>\n      <th>GROUP</th>\n      <th>site</th>\n    </tr>\n  </thead>\n  <tbody>\n    <tr>\n      <th>0</th>\n      <td>2024-04-13 01:00:00-07:00</td>\n      <td>2024-04-13T07:00:00-00:00</td>\n      <td>2024-04-13T08:00:00-00:00</td>\n      <td>0</td>\n      <td>2024-04-13</td>\n      <td>1</td>\n      <td>0</td>\n      <td>7DA</td>\n      <td>SCE-TAC</td>\n      <td>Demand Forecast 7-Day Ahead</td>\n      <td>SYS_FCST_7DA_MW</td>\n      <td>0.2</td>\n      <td>9598.82</td>\n      <td>7DA</td>\n      <td>58</td>\n      <td>Caltech</td>\n    </tr>\n    <tr>\n      <th>1</th>\n      <td>2024-04-13 02:00:00-07:00</td>\n      <td>2024-04-13T08:00:00-00:00</td>\n      <td>2024-04-13T09:00:00-00:00</td>\n      <td>0</td>\n      <td>2024-04-13</td>\n      <td>2</td>\n      <td>0</td>\n      <td>7DA</td>\n      <td>SCE-TAC</td>\n      <td>Demand Forecast 7-Day Ahead</td>\n      <td>SYS_FCST_7DA_MW</td>\n      <td>0.2</td>\n      <td>9165.42</td>\n      <td>7DA</td>\n      <td>58</td>\n      <td>Caltech</td>\n    </tr>\n    <tr>\n      <th>2</th>\n      <td>2024-04-13 03:00:00-07:00</td>\n      <td>2024-04-13T09:00:00-00:00</td>\n      <td>2024-04-13T10:00:00-00:00</td>\n      <td>0</td>\n      <td>2024-04-13</td>\n      <td>3</td>\n      <td>0</td>\n      <td>7DA</td>\n      <td>SCE-TAC</td>\n      <td>Demand Forecast 7-Day Ahead</td>\n      <td>SYS_FCST_7DA_MW</td>\n      <td>0.2</td>\n      <td>8815.08</td>\n      <td>7DA</td>\n      <td>58</td>\n      <td>Caltech</td>\n    </tr>\n    <tr>\n      <th>3</th>\n      <td>2024-04-13 04:00:00-07:00</td>\n      <td>2024-04-13T10:00:00-00:00</td>\n      <td>2024-04-13T11:00:00-00:00</td>\n      <td>0</td>\n      <td>2024-04-13</td>\n      <td>4</td>\n      <td>0</td>\n      <td>7DA</td>\n      <td>SCE-TAC</td>\n      <td>Demand Forecast 7-Day Ahead</td>\n      <td>SYS_FCST_7DA_MW</td>\n      <td>0.2</td>\n      <td>8602.39</td>\n      <td>7DA</td>\n      <td>58</td>\n      <td>Caltech</td>\n    </tr>\n    <tr>\n      <th>4</th>\n      <td>2024-04-13 05:00:00-07:00</td>\n      <td>2024-04-13T11:00:00-00:00</td>\n      <td>2024-04-13T12:00:00-00:00</td>\n      <td>0</td>\n      <td>2024-04-13</td>\n      <td>5</td>\n      <td>0</td>\n      <td>7DA</td>\n      <td>SCE-TAC</td>\n      <td>Demand Forecast 7-Day Ahead</td>\n      <td>SYS_FCST_7DA_MW</td>\n      <td>0.2</td>\n      <td>8579.17</td>\n      <td>7DA</td>\n      <td>58</td>\n      <td>Caltech</td>\n    </tr>\n    <tr>\n      <th>...</th>\n      <td>...</td>\n      <td>...</td>\n      <td>...</td>\n      <td>...</td>\n      <td>...</td>\n      <td>...</td>\n      <td>...</td>\n      <td>...</td>\n      <td>...</td>\n      <td>...</td>\n      <td>...</td>\n      <td>...</td>\n      <td>...</td>\n      <td>...</td>\n      <td>...</td>\n      <td>...</td>\n    </tr>\n    <tr>\n      <th>163</th>\n      <td>2024-04-19 20:00:00-07:00</td>\n      <td>2024-04-20T02:00:00-00:00</td>\n      <td>2024-04-20T03:00:00-00:00</td>\n      <td>0</td>\n      <td>2024-04-19</td>\n      <td>20</td>\n      <td>0</td>\n      <td>7DA</td>\n      <td>SCE-TAC</td>\n      <td>Demand Forecast 7-Day Ahead</td>\n      <td>SYS_FCST_7DA_MW</td>\n      <td>0.2</td>\n      <td>10697.15</td>\n      <td>7DA</td>\n      <td>365</td>\n      <td>Caltech</td>\n    </tr>\n    <tr>\n      <th>164</th>\n      <td>2024-04-19 21:00:00-07:00</td>\n      <td>2024-04-20T03:00:00-00:00</td>\n      <td>2024-04-20T04:00:00-00:00</td>\n      <td>0</td>\n      <td>2024-04-19</td>\n      <td>21</td>\n      <td>0</td>\n      <td>7DA</td>\n      <td>SCE-TAC</td>\n      <td>Demand Forecast 7-Day Ahead</td>\n      <td>SYS_FCST_7DA_MW</td>\n      <td>0.2</td>\n      <td>10910.74</td>\n      <td>7DA</td>\n      <td>365</td>\n      <td>Caltech</td>\n    </tr>\n    <tr>\n      <th>165</th>\n      <td>2024-04-19 22:00:00-07:00</td>\n      <td>2024-04-20T04:00:00-00:00</td>\n      <td>2024-04-20T05:00:00-00:00</td>\n      <td>0</td>\n      <td>2024-04-19</td>\n      <td>22</td>\n      <td>0</td>\n      <td>7DA</td>\n      <td>SCE-TAC</td>\n      <td>Demand Forecast 7-Day Ahead</td>\n      <td>SYS_FCST_7DA_MW</td>\n      <td>0.2</td>\n      <td>10754.85</td>\n      <td>7DA</td>\n      <td>365</td>\n      <td>Caltech</td>\n    </tr>\n    <tr>\n      <th>166</th>\n      <td>2024-04-19 23:00:00-07:00</td>\n      <td>2024-04-20T05:00:00-00:00</td>\n      <td>2024-04-20T06:00:00-00:00</td>\n      <td>0</td>\n      <td>2024-04-19</td>\n      <td>23</td>\n      <td>0</td>\n      <td>7DA</td>\n      <td>SCE-TAC</td>\n      <td>Demand Forecast 7-Day Ahead</td>\n      <td>SYS_FCST_7DA_MW</td>\n      <td>0.2</td>\n      <td>10285.53</td>\n      <td>7DA</td>\n      <td>365</td>\n      <td>Caltech</td>\n    </tr>\n    <tr>\n      <th>167</th>\n      <td>2024-04-20 00:00:00-07:00</td>\n      <td>2024-04-20T06:00:00-00:00</td>\n      <td>2024-04-20T07:00:00-00:00</td>\n      <td>0</td>\n      <td>2024-04-19</td>\n      <td>24</td>\n      <td>0</td>\n      <td>7DA</td>\n      <td>SCE-TAC</td>\n      <td>Demand Forecast 7-Day Ahead</td>\n      <td>SYS_FCST_7DA_MW</td>\n      <td>0.2</td>\n      <td>9680.98</td>\n      <td>7DA</td>\n      <td>365</td>\n      <td>Caltech</td>\n    </tr>\n  </tbody>\n</table>\n<p>168 rows × 16 columns</p>\n</div>"
     },
     "execution_count": 11,
     "metadata": {},
     "output_type": "execute_result"
    }
   ],
   "source": [
    "demand[demand['MARKET_RUN_ID'] == '7DA']"
   ],
   "metadata": {
    "collapsed": false,
    "ExecuteTime": {
     "end_time": "2024-04-13T06:58:30.830999066Z",
     "start_time": "2024-04-13T06:58:30.713342543Z"
    }
   },
   "id": "24424339dcec1cea"
  },
  {
   "cell_type": "code",
   "execution_count": 12,
   "outputs": [
    {
     "data": {
      "text/plain": "                         index     site\n0    2024-04-13 00:00:00+00:00  Caltech\n1    2024-04-13 01:00:00+00:00  Caltech\n2    2024-04-13 02:00:00+00:00  Caltech\n3    2024-04-13 03:00:00+00:00  Caltech\n4    2024-04-13 04:00:00+00:00  Caltech\n..                         ...      ...\n157  2024-04-19 13:00:00+00:00  Caltech\n158  2024-04-19 14:00:00+00:00  Caltech\n159  2024-04-19 15:00:00+00:00  Caltech\n160  2024-04-19 16:00:00+00:00  Caltech\n161  2024-04-19 17:00:00+00:00  Caltech\n\n[162 rows x 2 columns]",
      "text/html": "<div>\n<style scoped>\n    .dataframe tbody tr th:only-of-type {\n        vertical-align: middle;\n    }\n\n    .dataframe tbody tr th {\n        vertical-align: top;\n    }\n\n    .dataframe thead th {\n        text-align: right;\n    }\n</style>\n<table border=\"1\" class=\"dataframe\">\n  <thead>\n    <tr style=\"text-align: right;\">\n      <th></th>\n      <th>index</th>\n      <th>site</th>\n    </tr>\n  </thead>\n  <tbody>\n    <tr>\n      <th>0</th>\n      <td>2024-04-13 00:00:00+00:00</td>\n      <td>Caltech</td>\n    </tr>\n    <tr>\n      <th>1</th>\n      <td>2024-04-13 01:00:00+00:00</td>\n      <td>Caltech</td>\n    </tr>\n    <tr>\n      <th>2</th>\n      <td>2024-04-13 02:00:00+00:00</td>\n      <td>Caltech</td>\n    </tr>\n    <tr>\n      <th>3</th>\n      <td>2024-04-13 03:00:00+00:00</td>\n      <td>Caltech</td>\n    </tr>\n    <tr>\n      <th>4</th>\n      <td>2024-04-13 04:00:00+00:00</td>\n      <td>Caltech</td>\n    </tr>\n    <tr>\n      <th>...</th>\n      <td>...</td>\n      <td>...</td>\n    </tr>\n    <tr>\n      <th>157</th>\n      <td>2024-04-19 13:00:00+00:00</td>\n      <td>Caltech</td>\n    </tr>\n    <tr>\n      <th>158</th>\n      <td>2024-04-19 14:00:00+00:00</td>\n      <td>Caltech</td>\n    </tr>\n    <tr>\n      <th>159</th>\n      <td>2024-04-19 15:00:00+00:00</td>\n      <td>Caltech</td>\n    </tr>\n    <tr>\n      <th>160</th>\n      <td>2024-04-19 16:00:00+00:00</td>\n      <td>Caltech</td>\n    </tr>\n    <tr>\n      <th>161</th>\n      <td>2024-04-19 17:00:00+00:00</td>\n      <td>Caltech</td>\n    </tr>\n  </tbody>\n</table>\n<p>162 rows × 2 columns</p>\n</div>"
     },
     "execution_count": 12,
     "metadata": {},
     "output_type": "execute_result"
    }
   ],
   "source": [
    "# ?pd.DataFrame.to_csv\n",
    "future_weather[['index','site']]"
   ],
   "metadata": {
    "collapsed": false,
    "ExecuteTime": {
     "end_time": "2024-04-13T06:58:30.832784848Z",
     "start_time": "2024-04-13T06:58:30.724589274Z"
    }
   },
   "id": "67dfdbde23cf383f"
  },
  {
   "cell_type": "code",
   "execution_count": 13,
   "outputs": [
    {
     "data": {
      "text/plain": "DatePicker(value=None, description='Pick a Date')",
      "application/vnd.jupyter.widget-view+json": {
       "version_major": 2,
       "version_minor": 0,
       "model_id": "6dd6f8d005a941878313761477d0f952"
      }
     },
     "metadata": {},
     "output_type": "display_data"
    }
   ],
   "source": [
    "widgets.FloatProgress(\n",
    "    value=7.5,\n",
    "    min=0,\n",
    "    max=10.0,\n",
    "    description='Loading:',\n",
    "    bar_style='info',\n",
    "    style={'bar_color': '#ffff00'},\n",
    "    orientation='horizontal'\n",
    ")\n",
    "widgets.Dropdown(\n",
    "    options=[('Caltech','Caltech'), ('JPL','JPL'), ('Office001','Office001')],\n",
    "    value='Caltech',\n",
    "    description='Site:',\n",
    ")\n",
    "\n",
    "widgets.ToggleButtons(\n",
    "    options=['Slow', 'Regular', 'Fast'],\n",
    "    description='Speed:',\n",
    "    disabled=False,\n",
    "    button_style='', # 'success', 'info', 'warning', 'danger' or ''\n",
    "    tooltips=['Description of slow', 'Description of regular', 'Description of fast'],\n",
    "#     icons=['check'] * 3\n",
    ")\n",
    "\n",
    "button = widgets.Button(\n",
    "    description='Click me',\n",
    "    disabled=False,\n",
    "    button_style='', # 'success', 'info', 'warning', 'danger' or ''\n",
    "    tooltip='Click me',\n",
    "    icon='check' # (FontAwesome names without the `fa-` prefix)\n",
    ")\n",
    "button\n",
    "\n",
    "widgets.DatePicker(\n",
    "    description='Pick a Date',\n",
    "    disabled=False\n",
    ")"
   ],
   "metadata": {
    "collapsed": false,
    "ExecuteTime": {
     "end_time": "2024-04-13T06:58:30.832974567Z",
     "start_time": "2024-04-13T06:58:30.758731542Z"
    }
   },
   "id": "ce8f1e6c24d4c93c"
  },
  {
   "cell_type": "code",
   "execution_count": 14,
   "outputs": [
    {
     "ename": "AttributeError",
     "evalue": "module 'datetime' has no attribute 'today'",
     "output_type": "error",
     "traceback": [
      "\u001B[0;31m---------------------------------------------------------------------------\u001B[0m",
      "\u001B[0;31mAttributeError\u001B[0m                            Traceback (most recent call last)",
      "Cell \u001B[0;32mIn[14], line 1\u001B[0m\n\u001B[0;32m----> 1\u001B[0m today \u001B[38;5;241m=\u001B[39m datetime\u001B[38;5;241m.\u001B[39mtoday()\u001B[38;5;241m.\u001B[39mdate()\n",
      "\u001B[0;31mAttributeError\u001B[0m: module 'datetime' has no attribute 'today'"
     ]
    }
   ],
   "source": [
    "today = datetime.today().date()"
   ],
   "metadata": {
    "collapsed": false,
    "ExecuteTime": {
     "end_time": "2024-04-13T06:58:31.145186173Z",
     "start_time": "2024-04-13T06:58:30.764595315Z"
    }
   },
   "id": "737a0da3640ad74b"
  },
  {
   "cell_type": "code",
   "execution_count": null,
   "outputs": [],
   "source": [
    "# with selection\n",
    "site = 'Caltech'\n",
    "user_preferences = 'No Preference'\n",
    "\n",
    "start_date = today\n",
    "end_date = today + pd.Timedelta('1d')"
   ],
   "metadata": {
    "collapsed": false,
    "ExecuteTime": {
     "end_time": "2024-04-13T06:58:31.145915025Z",
     "start_time": "2024-04-13T06:58:31.145344961Z"
    }
   },
   "id": "f011724fd22f5957"
  },
  {
   "cell_type": "markdown",
   "source": [
    "# This is what the app does:\n",
    "1. create the UI\n",
    "2. makes graphs\n",
    "3. get weather data (date and location)\n",
    "4. get caiso data (date and location)\n",
    "5. get the date range\n",
    "6. get the location\n",
    "7. makes X variable\n",
    "8. loads model\n",
    "9. performs inference\n",
    "10. graphs results"
   ],
   "metadata": {
    "collapsed": false
   },
   "id": "824535a4c852678c"
  },
  {
   "cell_type": "code",
   "execution_count": null,
   "outputs": [],
   "source": [
    "from src.weather import get_processed_hourly_7day_weather"
   ],
   "metadata": {
    "collapsed": false,
    "ExecuteTime": {
     "start_time": "2024-04-13T06:58:31.146524774Z"
    }
   },
   "id": "239e52e6c9a70070"
  },
  {
   "cell_type": "code",
   "execution_count": null,
   "outputs": [],
   "source": [
    "site2latlon = {'Caltech':(34.134785646454844, -118.11691382579643),\n",
    "               'Office001':(37.33680466796926, -121.90743423142634),\n",
    "               'JPL':(34.20142342818471, -118.17126565774107)}"
   ],
   "metadata": {
    "collapsed": false,
    "ExecuteTime": {
     "end_time": "2024-04-13T06:58:31.150781465Z",
     "start_time": "2024-04-13T06:58:31.147481401Z"
    }
   },
   "id": "90c356cfdf82f43"
  },
  {
   "cell_type": "code",
   "execution_count": null,
   "outputs": [],
   "source": [
    "cal_weather = get_processed_hourly_7day_weather(*site2latlon[site])"
   ],
   "metadata": {
    "collapsed": false,
    "ExecuteTime": {
     "start_time": "2024-04-13T06:58:31.148291584Z"
    }
   },
   "id": "64f9e89e8f50dd96"
  },
  {
   "cell_type": "code",
   "execution_count": null,
   "outputs": [],
   "source": [
    "cal_weather.columns"
   ],
   "metadata": {
    "collapsed": false,
    "ExecuteTime": {
     "start_time": "2024-04-13T06:58:31.149239168Z"
    }
   },
   "id": "b5b14808cba0f8c6"
  }
 ],
 "metadata": {
  "kernelspec": {
   "display_name": "Python 3",
   "language": "python",
   "name": "python3"
  },
  "language_info": {
   "codemirror_mode": {
    "name": "ipython",
    "version": 2
   },
   "file_extension": ".py",
   "mimetype": "text/x-python",
   "name": "python",
   "nbconvert_exporter": "python",
   "pygments_lexer": "ipython2",
   "version": "2.7.6"
  }
 },
 "nbformat": 4,
 "nbformat_minor": 5
}
