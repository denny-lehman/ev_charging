{
 "cells": [
  {
   "cell_type": "code",
   "execution_count": 1,
   "id": "initial_id",
   "metadata": {
    "collapsed": true,
    "ExecuteTime": {
     "end_time": "2024-03-14T03:19:59.559123795Z",
     "start_time": "2024-03-14T03:19:59.115649494Z"
    }
   },
   "outputs": [
    {
     "name": "stdout",
     "output_type": "stream",
     "text": [
      "in the right place!\n"
     ]
    },
    {
     "data": {
      "text/plain": "'/home/denny/Documents/mids/ev_charging'"
     },
     "execution_count": 1,
     "metadata": {},
     "output_type": "execute_result"
    }
   ],
   "source": [
    "import os\n",
    "if 'src' == os.getcwd().split('/')[-1]: os.chdir('..')\n",
    "if 'ev_charging' == os.getcwd().split('/')[-1]: print('in the right place!')\n",
    "else: os.chdir('/Users/varunvenkatesh/Documents/Github/ev_charging')\n",
    "os.getcwd()"
   ]
  },
  {
   "cell_type": "code",
   "execution_count": 2,
   "outputs": [],
   "source": [
    "import pandas as pd\n",
    "from src.data_preprocessing import holiday_processing, holiday_processing_series"
   ],
   "metadata": {
    "collapsed": false,
    "ExecuteTime": {
     "end_time": "2024-03-14T03:19:59.820113200Z",
     "start_time": "2024-03-14T03:19:59.129448497Z"
    }
   },
   "id": "754564e26eb25fbc"
  },
  {
   "cell_type": "code",
   "execution_count": 3,
   "outputs": [],
   "source": [
    "df_of = pd.read_parquet('data/ACN-API/office001/').reset_index(drop=True)"
   ],
   "metadata": {
    "collapsed": false,
    "ExecuteTime": {
     "end_time": "2024-03-14T03:19:59.960842762Z",
     "start_time": "2024-03-14T03:19:59.804009002Z"
    }
   },
   "id": "ce1afc38c746f248"
  },
  {
   "cell_type": "code",
   "execution_count": 4,
   "outputs": [
    {
     "data": {
      "text/plain": "576"
     },
     "execution_count": 4,
     "metadata": {},
     "output_type": "execute_result"
    }
   ],
   "source": [
    "# holiday_processing(df_of)\n",
    "X = pd.DataFrame(index=pd.date_range('2019-03-25','2021-09-12', inclusive='both', freq='h', tz=0),columns=['dow','hour','month'])\n",
    "X = holiday_processing(X)\n",
    "X.is_holiday.sum()"
   ],
   "metadata": {
    "collapsed": false,
    "ExecuteTime": {
     "end_time": "2024-03-14T03:19:59.963601125Z",
     "start_time": "2024-03-14T03:19:59.872509239Z"
    }
   },
   "id": "a9690a42b4677039"
  },
  {
   "cell_type": "code",
   "execution_count": 5,
   "outputs": [
    {
     "name": "stdout",
     "output_type": "stream",
     "text": [
      "santa's coming\n"
     ]
    },
    {
     "data": {
      "text/plain": "                           dow hour month  is_holiday\n2019-12-24 23:00:00+00:00  NaN  NaN   NaN       False\n2019-12-25 00:00:00+00:00  NaN  NaN   NaN        True\n2019-12-25 01:00:00+00:00  NaN  NaN   NaN        True\n2019-12-25 02:00:00+00:00  NaN  NaN   NaN        True\n2019-12-25 03:00:00+00:00  NaN  NaN   NaN        True\n...                        ...  ...   ...         ...\n2021-09-11 20:00:00+00:00  NaN  NaN   NaN       False\n2021-09-11 21:00:00+00:00  NaN  NaN   NaN       False\n2021-09-11 22:00:00+00:00  NaN  NaN   NaN       False\n2021-09-11 23:00:00+00:00  NaN  NaN   NaN       False\n2021-09-12 00:00:00+00:00  NaN  NaN   NaN       False\n\n[15050 rows x 4 columns]",
      "text/html": "<div>\n<style scoped>\n    .dataframe tbody tr th:only-of-type {\n        vertical-align: middle;\n    }\n\n    .dataframe tbody tr th {\n        vertical-align: top;\n    }\n\n    .dataframe thead th {\n        text-align: right;\n    }\n</style>\n<table border=\"1\" class=\"dataframe\">\n  <thead>\n    <tr style=\"text-align: right;\">\n      <th></th>\n      <th>dow</th>\n      <th>hour</th>\n      <th>month</th>\n      <th>is_holiday</th>\n    </tr>\n  </thead>\n  <tbody>\n    <tr>\n      <th>2019-12-24 23:00:00+00:00</th>\n      <td>NaN</td>\n      <td>NaN</td>\n      <td>NaN</td>\n      <td>False</td>\n    </tr>\n    <tr>\n      <th>2019-12-25 00:00:00+00:00</th>\n      <td>NaN</td>\n      <td>NaN</td>\n      <td>NaN</td>\n      <td>True</td>\n    </tr>\n    <tr>\n      <th>2019-12-25 01:00:00+00:00</th>\n      <td>NaN</td>\n      <td>NaN</td>\n      <td>NaN</td>\n      <td>True</td>\n    </tr>\n    <tr>\n      <th>2019-12-25 02:00:00+00:00</th>\n      <td>NaN</td>\n      <td>NaN</td>\n      <td>NaN</td>\n      <td>True</td>\n    </tr>\n    <tr>\n      <th>2019-12-25 03:00:00+00:00</th>\n      <td>NaN</td>\n      <td>NaN</td>\n      <td>NaN</td>\n      <td>True</td>\n    </tr>\n    <tr>\n      <th>...</th>\n      <td>...</td>\n      <td>...</td>\n      <td>...</td>\n      <td>...</td>\n    </tr>\n    <tr>\n      <th>2021-09-11 20:00:00+00:00</th>\n      <td>NaN</td>\n      <td>NaN</td>\n      <td>NaN</td>\n      <td>False</td>\n    </tr>\n    <tr>\n      <th>2021-09-11 21:00:00+00:00</th>\n      <td>NaN</td>\n      <td>NaN</td>\n      <td>NaN</td>\n      <td>False</td>\n    </tr>\n    <tr>\n      <th>2021-09-11 22:00:00+00:00</th>\n      <td>NaN</td>\n      <td>NaN</td>\n      <td>NaN</td>\n      <td>False</td>\n    </tr>\n    <tr>\n      <th>2021-09-11 23:00:00+00:00</th>\n      <td>NaN</td>\n      <td>NaN</td>\n      <td>NaN</td>\n      <td>False</td>\n    </tr>\n    <tr>\n      <th>2021-09-12 00:00:00+00:00</th>\n      <td>NaN</td>\n      <td>NaN</td>\n      <td>NaN</td>\n      <td>False</td>\n    </tr>\n  </tbody>\n</table>\n<p>15050 rows × 4 columns</p>\n</div>"
     },
     "execution_count": 5,
     "metadata": {},
     "output_type": "execute_result"
    }
   ],
   "source": [
    "print('santa\\'s coming')\n",
    "X[X.index >'2019-12-24 22:00:00']"
   ],
   "metadata": {
    "collapsed": false,
    "ExecuteTime": {
     "end_time": "2024-03-14T03:19:59.971752442Z",
     "start_time": "2024-03-14T03:19:59.928765282Z"
    }
   },
   "id": "f95ea38d653b3d40"
  },
  {
   "cell_type": "code",
   "execution_count": 6,
   "outputs": [
    {
     "data": {
      "text/plain": "array([False, False, False, False, False, False, False, False, False,\n       False, False, False, False, False, False, False, False, False,\n       False, False, False, False, False, False,  True,  True,  True,\n        True,  True,  True,  True,  True,  True,  True,  True,  True,\n        True,  True,  True,  True,  True,  True,  True,  True,  True,\n        True,  True,  True, False])"
     },
     "execution_count": 6,
     "metadata": {},
     "output_type": "execute_result"
    }
   ],
   "source": [
    "X = pd.DataFrame(index=pd.date_range('2019-12-24','2019-12-26', inclusive='both', freq='h', tz=0),columns=['dow','hour','month'])\n",
    "holiday_processing_series(X.index.min(), X.index.max(), X.index)"
   ],
   "metadata": {
    "collapsed": false,
    "ExecuteTime": {
     "end_time": "2024-03-14T03:20:00.095690548Z",
     "start_time": "2024-03-14T03:19:59.974372652Z"
    }
   },
   "id": "59975f2afde65c36"
  },
  {
   "cell_type": "code",
   "execution_count": 7,
   "outputs": [],
   "source": [
    "import datetime\n",
    "start, end = (datetime.date(2019, 3, 25), datetime.date(2021, 9, 12))"
   ],
   "metadata": {
    "collapsed": false,
    "ExecuteTime": {
     "end_time": "2024-03-14T03:59:01.687578127Z",
     "start_time": "2024-03-14T03:59:01.643277953Z"
    }
   },
   "id": "e305862b3073c653"
  },
  {
   "cell_type": "code",
   "execution_count": 8,
   "outputs": [],
   "source": [
    "x = pd.DataFrame(index=pd.date_range(start, end, inclusive='both', freq='h', tz=0),\n",
    "                 columns=['dow', 'hour', 'month', 'is_sunny'])\n",
    "x['dow'] = x.index.dayofweek\n",
    "x['hour'] = x.index.hour\n",
    "x['month'] = x.index.month\n",
    "x['is_sunny'] = 0"
   ],
   "metadata": {
    "collapsed": false,
    "ExecuteTime": {
     "end_time": "2024-03-14T03:59:02.527471152Z",
     "start_time": "2024-03-14T03:59:02.501626388Z"
    }
   },
   "id": "dae344ed7616b2b8"
  },
  {
   "cell_type": "code",
   "execution_count": 11,
   "outputs": [
    {
     "data": {
      "text/plain": "                           dow  hour  month  is_sunny  is_holiday\n2019-03-25 00:00:00+00:00    0     0      3         0       False\n2019-03-25 01:00:00+00:00    0     1      3         0       False\n2019-03-25 02:00:00+00:00    0     2      3         0       False\n2019-03-25 03:00:00+00:00    0     3      3         0       False\n2019-03-25 04:00:00+00:00    0     4      3         0       False\n...                        ...   ...    ...       ...         ...\n2021-09-11 20:00:00+00:00    5    20      9         0       False\n2021-09-11 21:00:00+00:00    5    21      9         0       False\n2021-09-11 22:00:00+00:00    5    22      9         0       False\n2021-09-11 23:00:00+00:00    5    23      9         0       False\n2021-09-12 00:00:00+00:00    6     0      9         0       False\n\n[21649 rows x 5 columns]",
      "text/html": "<div>\n<style scoped>\n    .dataframe tbody tr th:only-of-type {\n        vertical-align: middle;\n    }\n\n    .dataframe tbody tr th {\n        vertical-align: top;\n    }\n\n    .dataframe thead th {\n        text-align: right;\n    }\n</style>\n<table border=\"1\" class=\"dataframe\">\n  <thead>\n    <tr style=\"text-align: right;\">\n      <th></th>\n      <th>dow</th>\n      <th>hour</th>\n      <th>month</th>\n      <th>is_sunny</th>\n      <th>is_holiday</th>\n    </tr>\n  </thead>\n  <tbody>\n    <tr>\n      <th>2019-03-25 00:00:00+00:00</th>\n      <td>0</td>\n      <td>0</td>\n      <td>3</td>\n      <td>0</td>\n      <td>False</td>\n    </tr>\n    <tr>\n      <th>2019-03-25 01:00:00+00:00</th>\n      <td>0</td>\n      <td>1</td>\n      <td>3</td>\n      <td>0</td>\n      <td>False</td>\n    </tr>\n    <tr>\n      <th>2019-03-25 02:00:00+00:00</th>\n      <td>0</td>\n      <td>2</td>\n      <td>3</td>\n      <td>0</td>\n      <td>False</td>\n    </tr>\n    <tr>\n      <th>2019-03-25 03:00:00+00:00</th>\n      <td>0</td>\n      <td>3</td>\n      <td>3</td>\n      <td>0</td>\n      <td>False</td>\n    </tr>\n    <tr>\n      <th>2019-03-25 04:00:00+00:00</th>\n      <td>0</td>\n      <td>4</td>\n      <td>3</td>\n      <td>0</td>\n      <td>False</td>\n    </tr>\n    <tr>\n      <th>...</th>\n      <td>...</td>\n      <td>...</td>\n      <td>...</td>\n      <td>...</td>\n      <td>...</td>\n    </tr>\n    <tr>\n      <th>2021-09-11 20:00:00+00:00</th>\n      <td>5</td>\n      <td>20</td>\n      <td>9</td>\n      <td>0</td>\n      <td>False</td>\n    </tr>\n    <tr>\n      <th>2021-09-11 21:00:00+00:00</th>\n      <td>5</td>\n      <td>21</td>\n      <td>9</td>\n      <td>0</td>\n      <td>False</td>\n    </tr>\n    <tr>\n      <th>2021-09-11 22:00:00+00:00</th>\n      <td>5</td>\n      <td>22</td>\n      <td>9</td>\n      <td>0</td>\n      <td>False</td>\n    </tr>\n    <tr>\n      <th>2021-09-11 23:00:00+00:00</th>\n      <td>5</td>\n      <td>23</td>\n      <td>9</td>\n      <td>0</td>\n      <td>False</td>\n    </tr>\n    <tr>\n      <th>2021-09-12 00:00:00+00:00</th>\n      <td>6</td>\n      <td>0</td>\n      <td>9</td>\n      <td>0</td>\n      <td>False</td>\n    </tr>\n  </tbody>\n</table>\n<p>21649 rows × 5 columns</p>\n</div>"
     },
     "execution_count": 11,
     "metadata": {},
     "output_type": "execute_result"
    }
   ],
   "source": [
    "# x['is_holiday'] = (\n",
    "holiday_processing(x)"
   ],
   "metadata": {
    "collapsed": false,
    "ExecuteTime": {
     "end_time": "2024-03-14T03:59:37.415050179Z",
     "start_time": "2024-03-14T03:59:37.373154350Z"
    }
   },
   "id": "481fe76afde38ecb"
  }
 ],
 "metadata": {
  "kernelspec": {
   "display_name": "Python 3",
   "language": "python",
   "name": "python3"
  },
  "language_info": {
   "codemirror_mode": {
    "name": "ipython",
    "version": 2
   },
   "file_extension": ".py",
   "mimetype": "text/x-python",
   "name": "python",
   "nbconvert_exporter": "python",
   "pygments_lexer": "ipython2",
   "version": "2.7.6"
  }
 },
 "nbformat": 4,
 "nbformat_minor": 5
}
