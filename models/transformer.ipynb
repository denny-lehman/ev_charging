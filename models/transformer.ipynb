{
 "cells": [
  {
   "cell_type": "code",
   "execution_count": 1,
   "id": "initial_id",
   "metadata": {
    "collapsed": true,
    "ExecuteTime": {
     "end_time": "2024-02-27T01:34:05.182133Z",
     "start_time": "2024-02-27T01:34:00.743265Z"
    }
   },
   "outputs": [],
   "source": [
    "import pandas as pd\n",
    "import numpy as np\n",
    "import matplotlib.pyplot as plt\n",
    "from src.data_preprocessing import datetime_processing, userinput_processing, holiday_processing\n",
    "\n",
    "from sklearn.model_selection import train_test_split\n",
    "from sklearn.linear_model import LogisticRegression\n",
    "from sklearn.preprocessing import OneHotEncoder\n",
    "from sklearn.pipeline import Pipeline\n",
    "\n",
    "from sklearn.metrics import confusion_matrix, ConfusionMatrixDisplay, f1_score, precision_score, recall_score, accuracy_score"
   ]
  },
  {
   "cell_type": "code",
   "outputs": [
    {
     "data": {
      "text/plain": "'/Users/varunvenkatesh/Documents/GitHub/ev_charging'"
     },
     "execution_count": 2,
     "metadata": {},
     "output_type": "execute_result"
    }
   ],
   "source": [
    "import os\n",
    "os.chdir('..')\n",
    "os.getcwd()"
   ],
   "metadata": {
    "collapsed": false,
    "ExecuteTime": {
     "end_time": "2024-02-27T01:34:05.205696Z",
     "start_time": "2024-02-27T01:34:05.181332Z"
    }
   },
   "id": "327bb068e01e5757",
   "execution_count": 2
  },
  {
   "cell_type": "code",
   "outputs": [],
   "source": [
    "df = pd.read_parquet('data/sessions/caltech/').reset_index(drop=True)\n",
    "df = datetime_processing(df)\n",
    "df = userinput_processing(df)\n",
    "df = holiday_processing(df)"
   ],
   "metadata": {
    "collapsed": false,
    "ExecuteTime": {
     "end_time": "2024-02-27T01:34:16.795822Z",
     "start_time": "2024-02-27T01:34:05.196137Z"
    }
   },
   "id": "f819a8923d068970",
   "execution_count": 3
  },
  {
   "cell_type": "code",
   "outputs": [
    {
     "data": {
      "text/plain": "                        _id                               sessionID  \\\n0  5bc9160af9af8b0dad3c0690   2_39_95_27_2018-05-01 13:23:18.374684   \n1  5bc9160af9af8b0dad3c0691  2_39_79_380_2018-05-01 13:54:33.599590   \n2  5bc9160af9af8b0dad3c0692  2_39_139_28_2018-05-01 14:46:04.441389   \n3  5bc9160af9af8b0dad3c0693  2_39_79_378_2018-05-01 14:56:28.908623   \n4  5bc9160af9af8b0dad3c0694   2_39_88_24_2018-05-01 15:14:50.443137   \n\n     stationID spaceID  siteID  clusterID            connectionTime  \\\n0   2-39-95-27  CA-319       2         39 2018-05-01 13:23:18+00:00   \n1  2-39-79-380  CA-489       2         39 2018-05-01 13:54:34+00:00   \n2  2-39-139-28  CA-303       2         39 2018-05-01 14:46:04+00:00   \n3  2-39-79-378  CA-326       2         39 2018-05-01 14:56:29+00:00   \n4   2-39-88-24  CA-314       2         39 2018-05-01 15:14:50+00:00   \n\n             disconnectTime  kWhDelivered          doneChargingTime  ...  \\\n0 2018-05-02 01:53:41+00:00        13.410 2018-05-01 17:17:07+00:00  ...   \n1 2018-05-01 23:15:35+00:00         8.618 2018-05-01 15:35:39+00:00  ...   \n2 2018-05-02 00:54:07+00:00        13.969 2018-05-01 23:57:02+00:00  ...   \n3 2018-05-01 21:52:45+00:00         6.914 2018-05-01 16:07:56+00:00  ...   \n4 2018-05-01 22:51:30+00:00        13.785 2018-05-01 20:18:12+00:00  ...   \n\n  doneChargingTimeDay  userID  milesRequested  WhPerMile  minutesAvailable  \\\n0                 1.0     NaN             NaN        NaN               NaN   \n1                 1.0     NaN             NaN        NaN               NaN   \n2                 1.0     NaN             NaN        NaN               NaN   \n3                 1.0     NaN             NaN        NaN               NaN   \n4                 1.0     NaN             NaN        NaN               NaN   \n\n   modifiedAt  paymentRequired  requestedDeparture  kWhRequested  is_holiday  \n0        None             None                None           NaN       False  \n1        None             None                None           NaN       False  \n2        None             None                None           NaN       False  \n3        None             None                None           NaN       False  \n4        None             None                None           NaN       False  \n\n[5 rows x 26 columns]",
      "text/html": "<div>\n<style scoped>\n    .dataframe tbody tr th:only-of-type {\n        vertical-align: middle;\n    }\n\n    .dataframe tbody tr th {\n        vertical-align: top;\n    }\n\n    .dataframe thead th {\n        text-align: right;\n    }\n</style>\n<table border=\"1\" class=\"dataframe\">\n  <thead>\n    <tr style=\"text-align: right;\">\n      <th></th>\n      <th>_id</th>\n      <th>sessionID</th>\n      <th>stationID</th>\n      <th>spaceID</th>\n      <th>siteID</th>\n      <th>clusterID</th>\n      <th>connectionTime</th>\n      <th>disconnectTime</th>\n      <th>kWhDelivered</th>\n      <th>doneChargingTime</th>\n      <th>...</th>\n      <th>doneChargingTimeDay</th>\n      <th>userID</th>\n      <th>milesRequested</th>\n      <th>WhPerMile</th>\n      <th>minutesAvailable</th>\n      <th>modifiedAt</th>\n      <th>paymentRequired</th>\n      <th>requestedDeparture</th>\n      <th>kWhRequested</th>\n      <th>is_holiday</th>\n    </tr>\n  </thead>\n  <tbody>\n    <tr>\n      <th>0</th>\n      <td>5bc9160af9af8b0dad3c0690</td>\n      <td>2_39_95_27_2018-05-01 13:23:18.374684</td>\n      <td>2-39-95-27</td>\n      <td>CA-319</td>\n      <td>2</td>\n      <td>39</td>\n      <td>2018-05-01 13:23:18+00:00</td>\n      <td>2018-05-02 01:53:41+00:00</td>\n      <td>13.410</td>\n      <td>2018-05-01 17:17:07+00:00</td>\n      <td>...</td>\n      <td>1.0</td>\n      <td>NaN</td>\n      <td>NaN</td>\n      <td>NaN</td>\n      <td>NaN</td>\n      <td>None</td>\n      <td>None</td>\n      <td>None</td>\n      <td>NaN</td>\n      <td>False</td>\n    </tr>\n    <tr>\n      <th>1</th>\n      <td>5bc9160af9af8b0dad3c0691</td>\n      <td>2_39_79_380_2018-05-01 13:54:33.599590</td>\n      <td>2-39-79-380</td>\n      <td>CA-489</td>\n      <td>2</td>\n      <td>39</td>\n      <td>2018-05-01 13:54:34+00:00</td>\n      <td>2018-05-01 23:15:35+00:00</td>\n      <td>8.618</td>\n      <td>2018-05-01 15:35:39+00:00</td>\n      <td>...</td>\n      <td>1.0</td>\n      <td>NaN</td>\n      <td>NaN</td>\n      <td>NaN</td>\n      <td>NaN</td>\n      <td>None</td>\n      <td>None</td>\n      <td>None</td>\n      <td>NaN</td>\n      <td>False</td>\n    </tr>\n    <tr>\n      <th>2</th>\n      <td>5bc9160af9af8b0dad3c0692</td>\n      <td>2_39_139_28_2018-05-01 14:46:04.441389</td>\n      <td>2-39-139-28</td>\n      <td>CA-303</td>\n      <td>2</td>\n      <td>39</td>\n      <td>2018-05-01 14:46:04+00:00</td>\n      <td>2018-05-02 00:54:07+00:00</td>\n      <td>13.969</td>\n      <td>2018-05-01 23:57:02+00:00</td>\n      <td>...</td>\n      <td>1.0</td>\n      <td>NaN</td>\n      <td>NaN</td>\n      <td>NaN</td>\n      <td>NaN</td>\n      <td>None</td>\n      <td>None</td>\n      <td>None</td>\n      <td>NaN</td>\n      <td>False</td>\n    </tr>\n    <tr>\n      <th>3</th>\n      <td>5bc9160af9af8b0dad3c0693</td>\n      <td>2_39_79_378_2018-05-01 14:56:28.908623</td>\n      <td>2-39-79-378</td>\n      <td>CA-326</td>\n      <td>2</td>\n      <td>39</td>\n      <td>2018-05-01 14:56:29+00:00</td>\n      <td>2018-05-01 21:52:45+00:00</td>\n      <td>6.914</td>\n      <td>2018-05-01 16:07:56+00:00</td>\n      <td>...</td>\n      <td>1.0</td>\n      <td>NaN</td>\n      <td>NaN</td>\n      <td>NaN</td>\n      <td>NaN</td>\n      <td>None</td>\n      <td>None</td>\n      <td>None</td>\n      <td>NaN</td>\n      <td>False</td>\n    </tr>\n    <tr>\n      <th>4</th>\n      <td>5bc9160af9af8b0dad3c0694</td>\n      <td>2_39_88_24_2018-05-01 15:14:50.443137</td>\n      <td>2-39-88-24</td>\n      <td>CA-314</td>\n      <td>2</td>\n      <td>39</td>\n      <td>2018-05-01 15:14:50+00:00</td>\n      <td>2018-05-01 22:51:30+00:00</td>\n      <td>13.785</td>\n      <td>2018-05-01 20:18:12+00:00</td>\n      <td>...</td>\n      <td>1.0</td>\n      <td>NaN</td>\n      <td>NaN</td>\n      <td>NaN</td>\n      <td>NaN</td>\n      <td>None</td>\n      <td>None</td>\n      <td>None</td>\n      <td>NaN</td>\n      <td>False</td>\n    </tr>\n  </tbody>\n</table>\n<p>5 rows × 26 columns</p>\n</div>"
     },
     "execution_count": 4,
     "metadata": {},
     "output_type": "execute_result"
    }
   ],
   "source": [
    "df.head()"
   ],
   "metadata": {
    "collapsed": false,
    "ExecuteTime": {
     "end_time": "2024-02-27T01:34:16.846161Z",
     "start_time": "2024-02-27T01:34:16.802985Z"
    }
   },
   "id": "d4367b4a837731e7",
   "execution_count": 4
  },
  {
   "cell_type": "code",
   "outputs": [],
   "source": [
    "def get_results(y_test, prediction):\n",
    "    cm = confusion_matrix(y_test,prediction)\n",
    "    make_classification_plot(cm)\n",
    "    \n",
    "    results = {'tpr': cm[1, 1]/np.sum(cm[1]),\n",
    "               'fpr': cm[0,1]/np.sum(cm[0]),\n",
    "               'accuracy': accuracy_score(y_test, prediction),\n",
    "               'precision': precision_score(y_test, prediction),\n",
    "               'recall': recall_score(y_test, prediction),\n",
    "        'f1':f1_score(y_test,prediction)}\n",
    "    return results"
   ],
   "metadata": {
    "collapsed": false,
    "ExecuteTime": {
     "end_time": "2024-02-27T01:34:16.847726Z",
     "start_time": "2024-02-27T01:34:16.834215Z"
    }
   },
   "id": "196e9838b4e672ca",
   "execution_count": 5
  },
  {
   "cell_type": "code",
   "outputs": [],
   "source": [
    "def make_classification_plot(cm):\n",
    "    disp = ConfusionMatrixDisplay(cm)\n",
    "    disp = disp.plot(include_values=True, cmap='viridis', ax=None, xticks_rotation='horizontal')\n",
    "    plt.grid(False)\n",
    "    plt.show()"
   ],
   "metadata": {
    "collapsed": false,
    "ExecuteTime": {
     "end_time": "2024-02-27T01:34:16.866690Z",
     "start_time": "2024-02-27T01:34:16.842013Z"
    }
   },
   "id": "90d5fcd9331993b2",
   "execution_count": 6
  },
  {
   "cell_type": "code",
   "outputs": [],
   "source": [
    "results = {}"
   ],
   "metadata": {
    "collapsed": false,
    "ExecuteTime": {
     "end_time": "2024-02-27T01:34:16.869832Z",
     "start_time": "2024-02-27T01:34:16.848251Z"
    }
   },
   "id": "5d4d6100fda7d696",
   "execution_count": 7
  },
  {
   "cell_type": "code",
   "outputs": [
    {
     "name": "stderr",
     "output_type": "stream",
     "text": [
      "/var/folders/7p/8d9trt0n3szgfv_nhh5rk6v00000gn/T/ipykernel_33350/3721555578.py:1: FutureWarning: Treating datetime data as categorical rather than numeric in `.describe` is deprecated and will be removed in a future version of pandas. Specify `datetime_is_numeric=True` to silence this warning and adopt the future behavior now.\n",
      "  df['connectionTime'].describe()\n"
     ]
    },
    {
     "data": {
      "text/plain": "count                         31125\nunique                        31081\ntop       2018-08-28 15:54:35+00:00\nfreq                              8\nfirst     2018-05-01 13:23:18+00:00\nlast      2021-09-13 06:31:02+00:00\nName: connectionTime, dtype: object"
     },
     "execution_count": 8,
     "metadata": {},
     "output_type": "execute_result"
    }
   ],
   "source": [
    "df['connectionTime'].describe()"
   ],
   "metadata": {
    "collapsed": false,
    "ExecuteTime": {
     "end_time": "2024-02-27T01:34:16.912840Z",
     "start_time": "2024-02-27T01:34:16.854793Z"
    }
   },
   "id": "f09a63880bdd38fd",
   "execution_count": 8
  },
  {
   "cell_type": "code",
   "outputs": [
    {
     "data": {
      "text/plain": "CA-303      1792\nCA-305      1399\nCA-307      1136\n11900388    1126\nCA-315      1086\nCA-311      1042\nCA-309      1022\nCA-304       994\nCA-327       932\nCA-313       908\nCA-489       892\nCA-321       862\nCA-317       846\nCA-325       820\nCA-306       789\nCA-323       759\nCA-319       737\nCA-314       694\nCA-492       683\nCA-312       665\nCA-326       645\nCA-320       615\nCA-308       612\nCA-490       587\nCA-324       581\nCA-322       578\nCA-316       567\nCA-310       561\nCA-318       558\nCA-494       533\nCA-493       529\nCA-491       506\nCA-498       503\nCA-495       458\nCA-499       452\nCA-496       452\nCA-500       432\nCA-497       396\nCA-502       332\nCA-501       330\nCA-503       247\nCA-212       200\nCA-512       175\nCA-504       149\nCA-510       136\nCA-506       124\nCA-508       120\nCA-513       108\nCA-511       104\nCA-507        90\nCA-509        88\nCA-149        76\nCA-505        74\nCA-213        15\nCA-148         8\nName: spaceID, dtype: int64"
     },
     "execution_count": 9,
     "metadata": {},
     "output_type": "execute_result"
    }
   ],
   "source": [
    "df['spaceID'].value_counts()"
   ],
   "metadata": {
    "collapsed": false,
    "ExecuteTime": {
     "end_time": "2024-02-27T01:34:16.962805Z",
     "start_time": "2024-02-27T01:34:16.881743Z"
    }
   },
   "id": "4095f67a5dc8f517",
   "execution_count": 9
  },
  {
   "cell_type": "code",
   "outputs": [],
   "source": [
    "tmp = df.copy()\n",
    "tmp = tmp[tmp['spaceID'] == 'CA-303'].sort_index()"
   ],
   "metadata": {
    "collapsed": false,
    "ExecuteTime": {
     "end_time": "2024-02-27T02:20:42.587396Z",
     "start_time": "2024-02-27T02:20:40.083237Z"
    }
   },
   "id": "2eb25a34772d82cf",
   "execution_count": 27
  },
  {
   "cell_type": "code",
   "outputs": [],
   "source": [
    "y = pd.DataFrame(index=pd.date_range('2018-05-1','2021-09-13', inclusive='both', freq='h', tz=0),columns=['is_available','sessionID'])\n",
    "y['is_available'] = 1\n",
    "tmp.reset_index(inplace=True)\n",
    "for i in list(tmp.index):\n",
    "    start_ = tmp.loc[i,'connectionTime']\n",
    "    end_ = tmp.loc[i,'disconnectTime'] \n",
    "    session_ = tmp.loc[i,'sessionID']\n",
    "    y.loc[start_:end_,['is_available','sessionID']] = 0, session_"
   ],
   "metadata": {
    "collapsed": false,
    "ExecuteTime": {
     "end_time": "2024-02-27T02:21:05.868795Z",
     "start_time": "2024-02-27T02:20:47.738254Z"
    }
   },
   "id": "6bc6af8d638c2eed",
   "execution_count": 28
  },
  {
   "cell_type": "code",
   "outputs": [
    {
     "data": {
      "text/plain": "                           is_available  \\\n2018-05-01 00:00:00+00:00             1   \n2018-05-01 01:00:00+00:00             1   \n2018-05-01 02:00:00+00:00             1   \n2018-05-01 03:00:00+00:00             1   \n2018-05-01 04:00:00+00:00             1   \n2018-05-01 05:00:00+00:00             1   \n2018-05-01 06:00:00+00:00             1   \n2018-05-01 07:00:00+00:00             1   \n2018-05-01 08:00:00+00:00             1   \n2018-05-01 09:00:00+00:00             1   \n2018-05-01 10:00:00+00:00             1   \n2018-05-01 11:00:00+00:00             1   \n2018-05-01 12:00:00+00:00             1   \n2018-05-01 13:00:00+00:00             1   \n2018-05-01 14:00:00+00:00             1   \n2018-05-01 15:00:00+00:00             0   \n2018-05-01 16:00:00+00:00             0   \n2018-05-01 17:00:00+00:00             0   \n2018-05-01 18:00:00+00:00             0   \n2018-05-01 19:00:00+00:00             0   \n2018-05-01 20:00:00+00:00             0   \n2018-05-01 21:00:00+00:00             0   \n2018-05-01 22:00:00+00:00             0   \n2018-05-01 23:00:00+00:00             0   \n2018-05-02 00:00:00+00:00             0   \n2018-05-02 01:00:00+00:00             1   \n2018-05-02 02:00:00+00:00             0   \n2018-05-02 03:00:00+00:00             0   \n2018-05-02 04:00:00+00:00             0   \n2018-05-02 05:00:00+00:00             0   \n\n                                                        sessionID  \n2018-05-01 00:00:00+00:00                                     NaN  \n2018-05-01 01:00:00+00:00                                     NaN  \n2018-05-01 02:00:00+00:00                                     NaN  \n2018-05-01 03:00:00+00:00                                     NaN  \n2018-05-01 04:00:00+00:00                                     NaN  \n2018-05-01 05:00:00+00:00                                     NaN  \n2018-05-01 06:00:00+00:00                                     NaN  \n2018-05-01 07:00:00+00:00                                     NaN  \n2018-05-01 08:00:00+00:00                                     NaN  \n2018-05-01 09:00:00+00:00                                     NaN  \n2018-05-01 10:00:00+00:00                                     NaN  \n2018-05-01 11:00:00+00:00                                     NaN  \n2018-05-01 12:00:00+00:00                                     NaN  \n2018-05-01 13:00:00+00:00                                     NaN  \n2018-05-01 14:00:00+00:00                                     NaN  \n2018-05-01 15:00:00+00:00  2_39_139_28_2018-05-01 14:46:04.441389  \n2018-05-01 16:00:00+00:00  2_39_139_28_2018-05-01 14:46:04.441389  \n2018-05-01 17:00:00+00:00  2_39_139_28_2018-05-01 14:46:04.441389  \n2018-05-01 18:00:00+00:00  2_39_139_28_2018-05-01 14:46:04.441389  \n2018-05-01 19:00:00+00:00  2_39_139_28_2018-05-01 14:46:04.441389  \n2018-05-01 20:00:00+00:00  2_39_139_28_2018-05-01 14:46:04.441389  \n2018-05-01 21:00:00+00:00  2_39_139_28_2018-05-01 14:46:04.441389  \n2018-05-01 22:00:00+00:00  2_39_139_28_2018-05-01 14:46:04.441389  \n2018-05-01 23:00:00+00:00  2_39_139_28_2018-05-01 14:46:04.441389  \n2018-05-02 00:00:00+00:00  2_39_139_28_2018-05-01 14:46:04.441389  \n2018-05-02 01:00:00+00:00                                     NaN  \n2018-05-02 02:00:00+00:00  2_39_139_28_2018-05-02 01:46:00.259900  \n2018-05-02 03:00:00+00:00  2_39_139_28_2018-05-02 01:46:00.259900  \n2018-05-02 04:00:00+00:00  2_39_139_28_2018-05-02 01:46:00.259900  \n2018-05-02 05:00:00+00:00  2_39_139_28_2018-05-02 01:46:00.259900  ",
      "text/html": "<div>\n<style scoped>\n    .dataframe tbody tr th:only-of-type {\n        vertical-align: middle;\n    }\n\n    .dataframe tbody tr th {\n        vertical-align: top;\n    }\n\n    .dataframe thead th {\n        text-align: right;\n    }\n</style>\n<table border=\"1\" class=\"dataframe\">\n  <thead>\n    <tr style=\"text-align: right;\">\n      <th></th>\n      <th>is_available</th>\n      <th>sessionID</th>\n    </tr>\n  </thead>\n  <tbody>\n    <tr>\n      <th>2018-05-01 00:00:00+00:00</th>\n      <td>1</td>\n      <td>NaN</td>\n    </tr>\n    <tr>\n      <th>2018-05-01 01:00:00+00:00</th>\n      <td>1</td>\n      <td>NaN</td>\n    </tr>\n    <tr>\n      <th>2018-05-01 02:00:00+00:00</th>\n      <td>1</td>\n      <td>NaN</td>\n    </tr>\n    <tr>\n      <th>2018-05-01 03:00:00+00:00</th>\n      <td>1</td>\n      <td>NaN</td>\n    </tr>\n    <tr>\n      <th>2018-05-01 04:00:00+00:00</th>\n      <td>1</td>\n      <td>NaN</td>\n    </tr>\n    <tr>\n      <th>2018-05-01 05:00:00+00:00</th>\n      <td>1</td>\n      <td>NaN</td>\n    </tr>\n    <tr>\n      <th>2018-05-01 06:00:00+00:00</th>\n      <td>1</td>\n      <td>NaN</td>\n    </tr>\n    <tr>\n      <th>2018-05-01 07:00:00+00:00</th>\n      <td>1</td>\n      <td>NaN</td>\n    </tr>\n    <tr>\n      <th>2018-05-01 08:00:00+00:00</th>\n      <td>1</td>\n      <td>NaN</td>\n    </tr>\n    <tr>\n      <th>2018-05-01 09:00:00+00:00</th>\n      <td>1</td>\n      <td>NaN</td>\n    </tr>\n    <tr>\n      <th>2018-05-01 10:00:00+00:00</th>\n      <td>1</td>\n      <td>NaN</td>\n    </tr>\n    <tr>\n      <th>2018-05-01 11:00:00+00:00</th>\n      <td>1</td>\n      <td>NaN</td>\n    </tr>\n    <tr>\n      <th>2018-05-01 12:00:00+00:00</th>\n      <td>1</td>\n      <td>NaN</td>\n    </tr>\n    <tr>\n      <th>2018-05-01 13:00:00+00:00</th>\n      <td>1</td>\n      <td>NaN</td>\n    </tr>\n    <tr>\n      <th>2018-05-01 14:00:00+00:00</th>\n      <td>1</td>\n      <td>NaN</td>\n    </tr>\n    <tr>\n      <th>2018-05-01 15:00:00+00:00</th>\n      <td>0</td>\n      <td>2_39_139_28_2018-05-01 14:46:04.441389</td>\n    </tr>\n    <tr>\n      <th>2018-05-01 16:00:00+00:00</th>\n      <td>0</td>\n      <td>2_39_139_28_2018-05-01 14:46:04.441389</td>\n    </tr>\n    <tr>\n      <th>2018-05-01 17:00:00+00:00</th>\n      <td>0</td>\n      <td>2_39_139_28_2018-05-01 14:46:04.441389</td>\n    </tr>\n    <tr>\n      <th>2018-05-01 18:00:00+00:00</th>\n      <td>0</td>\n      <td>2_39_139_28_2018-05-01 14:46:04.441389</td>\n    </tr>\n    <tr>\n      <th>2018-05-01 19:00:00+00:00</th>\n      <td>0</td>\n      <td>2_39_139_28_2018-05-01 14:46:04.441389</td>\n    </tr>\n    <tr>\n      <th>2018-05-01 20:00:00+00:00</th>\n      <td>0</td>\n      <td>2_39_139_28_2018-05-01 14:46:04.441389</td>\n    </tr>\n    <tr>\n      <th>2018-05-01 21:00:00+00:00</th>\n      <td>0</td>\n      <td>2_39_139_28_2018-05-01 14:46:04.441389</td>\n    </tr>\n    <tr>\n      <th>2018-05-01 22:00:00+00:00</th>\n      <td>0</td>\n      <td>2_39_139_28_2018-05-01 14:46:04.441389</td>\n    </tr>\n    <tr>\n      <th>2018-05-01 23:00:00+00:00</th>\n      <td>0</td>\n      <td>2_39_139_28_2018-05-01 14:46:04.441389</td>\n    </tr>\n    <tr>\n      <th>2018-05-02 00:00:00+00:00</th>\n      <td>0</td>\n      <td>2_39_139_28_2018-05-01 14:46:04.441389</td>\n    </tr>\n    <tr>\n      <th>2018-05-02 01:00:00+00:00</th>\n      <td>1</td>\n      <td>NaN</td>\n    </tr>\n    <tr>\n      <th>2018-05-02 02:00:00+00:00</th>\n      <td>0</td>\n      <td>2_39_139_28_2018-05-02 01:46:00.259900</td>\n    </tr>\n    <tr>\n      <th>2018-05-02 03:00:00+00:00</th>\n      <td>0</td>\n      <td>2_39_139_28_2018-05-02 01:46:00.259900</td>\n    </tr>\n    <tr>\n      <th>2018-05-02 04:00:00+00:00</th>\n      <td>0</td>\n      <td>2_39_139_28_2018-05-02 01:46:00.259900</td>\n    </tr>\n    <tr>\n      <th>2018-05-02 05:00:00+00:00</th>\n      <td>0</td>\n      <td>2_39_139_28_2018-05-02 01:46:00.259900</td>\n    </tr>\n  </tbody>\n</table>\n</div>"
     },
     "execution_count": 32,
     "metadata": {},
     "output_type": "execute_result"
    }
   ],
   "source": [
    "y.head()"
   ],
   "metadata": {
    "collapsed": false,
    "ExecuteTime": {
     "end_time": "2024-02-27T02:22:35.219967Z",
     "start_time": "2024-02-27T02:22:34.752468Z"
    }
   },
   "id": "e0183212b0c5adc8",
   "execution_count": 32
  },
  {
   "cell_type": "code",
   "outputs": [],
   "source": [
    "y.drop(columns='sessionID', inplace=True)"
   ],
   "metadata": {
    "collapsed": false,
    "ExecuteTime": {
     "end_time": "2024-02-27T01:34:19.785345Z",
     "start_time": "2024-02-27T01:34:19.744745Z"
    }
   },
   "id": "50f9cd24136668ba",
   "execution_count": 13
  },
  {
   "cell_type": "code",
   "outputs": [
    {
     "data": {
      "text/plain": "1    20671\n0     8874\nName: is_available, dtype: int64"
     },
     "execution_count": 14,
     "metadata": {},
     "output_type": "execute_result"
    }
   ],
   "source": [
    "y['is_available'].value_counts()"
   ],
   "metadata": {
    "collapsed": false,
    "ExecuteTime": {
     "end_time": "2024-02-27T01:34:19.787886Z",
     "start_time": "2024-02-27T01:34:19.753496Z"
    }
   },
   "id": "ba1739087f8b8adf",
   "execution_count": 14
  },
  {
   "cell_type": "code",
   "outputs": [
    {
     "name": "stdout",
     "output_type": "stream",
     "text": [
      "<class 'pandas.core.frame.DataFrame'>\n",
      "RangeIndex: 354816 entries, 0 to 354815\n",
      "Data columns (total 38 columns):\n",
      " #   Column                                   Non-Null Count   Dtype              \n",
      "---  ------                                   --------------   -----              \n",
      " 0   date                                     354816 non-null  object             \n",
      " 1   Time                                     354816 non-null  object             \n",
      " 2   Day ahead forecast                       354768 non-null  float64            \n",
      " 3   Hour ahead forecast                      354792 non-null  float64            \n",
      " 4   Current demand                           354761 non-null  float64            \n",
      " 5   Net demand                               354185 non-null  float64            \n",
      " 6   Net demand forecast                      8064 non-null    float64            \n",
      " 7   Solar                                    354471 non-null  float64            \n",
      " 8   Wind                                     354759 non-null  float64            \n",
      " 9   Geothermal                               354471 non-null  float64            \n",
      " 10  Biomass                                  354759 non-null  float64            \n",
      " 11  Biogas                                   354759 non-null  float64            \n",
      " 12  Small hydro                              354759 non-null  float64            \n",
      " 13  Coal                                     354759 non-null  float64            \n",
      " 14  Nuclear                                  354759 non-null  float64            \n",
      " 15  Natural gas                              344679 non-null  float64            \n",
      " 16  Large hydro                              344967 non-null  float64            \n",
      " 17  Batteries                                354759 non-null  float64            \n",
      " 18  Imports                                  354471 non-null  float64            \n",
      " 19  Other                                    354471 non-null  float64            \n",
      " 20  Natural Gas                              9792 non-null    float64            \n",
      " 21  Large Hydro                              9792 non-null    float64            \n",
      " 22  Biogas CO2                               354759 non-null  float64            \n",
      " 23  Biomass CO2                              354759 non-null  float64            \n",
      " 24  Natural Gas CO2                          354759 non-null  float64            \n",
      " 25  Coal CO2                                 354471 non-null  float64            \n",
      " 26  Imports CO2                              354759 non-null  float64            \n",
      " 27  Geothermal CO2                           354759 non-null  float64            \n",
      " 28  Demand                                   9792 non-null    float64            \n",
      " 29  Net Demand                               9792 non-null    float64            \n",
      " 30  Day-ahead demand forecast                9792 non-null    float64            \n",
      " 31  Day-ahead net demand forecast            8352 non-null    float64            \n",
      " 32  Resource adequacy capacity forecast      9792 non-null    float64            \n",
      " 33  Net resource adequacy capacity forecast  9792 non-null    float64            \n",
      " 34  Reserve requirement                      9759 non-null    float64            \n",
      " 35  Reserve requirement forecast             9792 non-null    float64            \n",
      " 36  Resource adequacy credits                9792 non-null    float64            \n",
      " 37  datetime                                 354816 non-null  datetime64[ns, UTC]\n",
      "dtypes: datetime64[ns, UTC](1), float64(35), object(2)\n",
      "memory usage: 102.9+ MB\n"
     ]
    }
   ],
   "source": [
    "caiso_df = pd.read_csv('data/caiso_dataset_5min.csv')\n",
    "caiso_df['datetime'] = pd.to_datetime(caiso_df['date'] + ' ' + caiso_df['Time'], utc=True)\n",
    "caiso_df.info()"
   ],
   "metadata": {
    "collapsed": false,
    "ExecuteTime": {
     "end_time": "2024-02-27T02:45:06.779775Z",
     "start_time": "2024-02-27T02:44:52.043055Z"
    }
   },
   "id": "2a8be6c1c7d6d8ae",
   "execution_count": 53
  },
  {
   "cell_type": "code",
   "outputs": [
    {
     "name": "stderr",
     "output_type": "stream",
     "text": [
      "/var/folders/7p/8d9trt0n3szgfv_nhh5rk6v00000gn/T/ipykernel_33350/423073254.py:2: FutureWarning: The default value of numeric_only in DataFrameGroupBy.mean is deprecated. In a future version, numeric_only will default to False. Either specify numeric_only or select only columns which should be valid for the function.\n",
      "  caiso_hourly = caiso_df.groupby(pd.Grouper(freq='1h')).mean()\n"
     ]
    },
    {
     "data": {
      "text/plain": "                           Day ahead forecast  Hour ahead forecast  \\\ndatetime                                                             \n2018-05-01 00:00:00+00:00        21013.666667         21496.500000   \n2018-05-01 01:00:00+00:00        20133.083333         20673.916667   \n2018-05-01 02:00:00+00:00        19582.666667         20174.083333   \n2018-05-01 03:00:00+00:00        19423.500000         19905.083333   \n2018-05-01 04:00:00+00:00        19879.583333         20325.833333   \n\n                           Current demand    Net demand  Net demand forecast  \\\ndatetime                                                                       \n2018-05-01 00:00:00+00:00    21378.500000  17906.000000                  NaN   \n2018-05-01 01:00:00+00:00    20644.583333  17251.333333                  NaN   \n2018-05-01 02:00:00+00:00    20089.166667  16399.916667                  NaN   \n2018-05-01 03:00:00+00:00    19822.250000  15958.416667                  NaN   \n2018-05-01 04:00:00+00:00    20321.166667  16600.583333                  NaN   \n\n                           Solar         Wind  Geothermal     Biomass  \\\ndatetime                                                                \n2018-05-01 00:00:00+00:00    0.0  3503.583333  938.083333  318.500000   \n2018-05-01 01:00:00+00:00    0.0  3418.000000  937.666667  314.333333   \n2018-05-01 02:00:00+00:00    0.0  3703.166667  936.666667  317.166667   \n2018-05-01 03:00:00+00:00    0.0  3865.833333  935.833333  320.500000   \n2018-05-01 04:00:00+00:00    0.0  3686.416667  936.000000  314.250000   \n\n                               Biogas  ...  Geothermal CO2  Demand  \\\ndatetime                               ...                           \n2018-05-01 00:00:00+00:00  241.916667  ...        9.083333     NaN   \n2018-05-01 01:00:00+00:00  242.416667  ...       10.000000     NaN   \n2018-05-01 02:00:00+00:00  242.416667  ...       10.000000     NaN   \n2018-05-01 03:00:00+00:00  242.083333  ...       10.000000     NaN   \n2018-05-01 04:00:00+00:00  242.250000  ...       10.000000     NaN   \n\n                           Net Demand  Day-ahead demand forecast  \\\ndatetime                                                           \n2018-05-01 00:00:00+00:00         NaN                        NaN   \n2018-05-01 01:00:00+00:00         NaN                        NaN   \n2018-05-01 02:00:00+00:00         NaN                        NaN   \n2018-05-01 03:00:00+00:00         NaN                        NaN   \n2018-05-01 04:00:00+00:00         NaN                        NaN   \n\n                           Day-ahead net demand forecast  \\\ndatetime                                                   \n2018-05-01 00:00:00+00:00                            NaN   \n2018-05-01 01:00:00+00:00                            NaN   \n2018-05-01 02:00:00+00:00                            NaN   \n2018-05-01 03:00:00+00:00                            NaN   \n2018-05-01 04:00:00+00:00                            NaN   \n\n                           Resource adequacy capacity forecast  \\\ndatetime                                                         \n2018-05-01 00:00:00+00:00                                  NaN   \n2018-05-01 01:00:00+00:00                                  NaN   \n2018-05-01 02:00:00+00:00                                  NaN   \n2018-05-01 03:00:00+00:00                                  NaN   \n2018-05-01 04:00:00+00:00                                  NaN   \n\n                           Net resource adequacy capacity forecast  \\\ndatetime                                                             \n2018-05-01 00:00:00+00:00                                      NaN   \n2018-05-01 01:00:00+00:00                                      NaN   \n2018-05-01 02:00:00+00:00                                      NaN   \n2018-05-01 03:00:00+00:00                                      NaN   \n2018-05-01 04:00:00+00:00                                      NaN   \n\n                           Reserve requirement  Reserve requirement forecast  \\\ndatetime                                                                       \n2018-05-01 00:00:00+00:00                  NaN                           NaN   \n2018-05-01 01:00:00+00:00                  NaN                           NaN   \n2018-05-01 02:00:00+00:00                  NaN                           NaN   \n2018-05-01 03:00:00+00:00                  NaN                           NaN   \n2018-05-01 04:00:00+00:00                  NaN                           NaN   \n\n                           Resource adequacy credits  \ndatetime                                              \n2018-05-01 00:00:00+00:00                        NaN  \n2018-05-01 01:00:00+00:00                        NaN  \n2018-05-01 02:00:00+00:00                        NaN  \n2018-05-01 03:00:00+00:00                        NaN  \n2018-05-01 04:00:00+00:00                        NaN  \n\n[5 rows x 35 columns]",
      "text/html": "<div>\n<style scoped>\n    .dataframe tbody tr th:only-of-type {\n        vertical-align: middle;\n    }\n\n    .dataframe tbody tr th {\n        vertical-align: top;\n    }\n\n    .dataframe thead th {\n        text-align: right;\n    }\n</style>\n<table border=\"1\" class=\"dataframe\">\n  <thead>\n    <tr style=\"text-align: right;\">\n      <th></th>\n      <th>Day ahead forecast</th>\n      <th>Hour ahead forecast</th>\n      <th>Current demand</th>\n      <th>Net demand</th>\n      <th>Net demand forecast</th>\n      <th>Solar</th>\n      <th>Wind</th>\n      <th>Geothermal</th>\n      <th>Biomass</th>\n      <th>Biogas</th>\n      <th>...</th>\n      <th>Geothermal CO2</th>\n      <th>Demand</th>\n      <th>Net Demand</th>\n      <th>Day-ahead demand forecast</th>\n      <th>Day-ahead net demand forecast</th>\n      <th>Resource adequacy capacity forecast</th>\n      <th>Net resource adequacy capacity forecast</th>\n      <th>Reserve requirement</th>\n      <th>Reserve requirement forecast</th>\n      <th>Resource adequacy credits</th>\n    </tr>\n    <tr>\n      <th>datetime</th>\n      <th></th>\n      <th></th>\n      <th></th>\n      <th></th>\n      <th></th>\n      <th></th>\n      <th></th>\n      <th></th>\n      <th></th>\n      <th></th>\n      <th></th>\n      <th></th>\n      <th></th>\n      <th></th>\n      <th></th>\n      <th></th>\n      <th></th>\n      <th></th>\n      <th></th>\n      <th></th>\n      <th></th>\n    </tr>\n  </thead>\n  <tbody>\n    <tr>\n      <th>2018-05-01 00:00:00+00:00</th>\n      <td>21013.666667</td>\n      <td>21496.500000</td>\n      <td>21378.500000</td>\n      <td>17906.000000</td>\n      <td>NaN</td>\n      <td>0.0</td>\n      <td>3503.583333</td>\n      <td>938.083333</td>\n      <td>318.500000</td>\n      <td>241.916667</td>\n      <td>...</td>\n      <td>9.083333</td>\n      <td>NaN</td>\n      <td>NaN</td>\n      <td>NaN</td>\n      <td>NaN</td>\n      <td>NaN</td>\n      <td>NaN</td>\n      <td>NaN</td>\n      <td>NaN</td>\n      <td>NaN</td>\n    </tr>\n    <tr>\n      <th>2018-05-01 01:00:00+00:00</th>\n      <td>20133.083333</td>\n      <td>20673.916667</td>\n      <td>20644.583333</td>\n      <td>17251.333333</td>\n      <td>NaN</td>\n      <td>0.0</td>\n      <td>3418.000000</td>\n      <td>937.666667</td>\n      <td>314.333333</td>\n      <td>242.416667</td>\n      <td>...</td>\n      <td>10.000000</td>\n      <td>NaN</td>\n      <td>NaN</td>\n      <td>NaN</td>\n      <td>NaN</td>\n      <td>NaN</td>\n      <td>NaN</td>\n      <td>NaN</td>\n      <td>NaN</td>\n      <td>NaN</td>\n    </tr>\n    <tr>\n      <th>2018-05-01 02:00:00+00:00</th>\n      <td>19582.666667</td>\n      <td>20174.083333</td>\n      <td>20089.166667</td>\n      <td>16399.916667</td>\n      <td>NaN</td>\n      <td>0.0</td>\n      <td>3703.166667</td>\n      <td>936.666667</td>\n      <td>317.166667</td>\n      <td>242.416667</td>\n      <td>...</td>\n      <td>10.000000</td>\n      <td>NaN</td>\n      <td>NaN</td>\n      <td>NaN</td>\n      <td>NaN</td>\n      <td>NaN</td>\n      <td>NaN</td>\n      <td>NaN</td>\n      <td>NaN</td>\n      <td>NaN</td>\n    </tr>\n    <tr>\n      <th>2018-05-01 03:00:00+00:00</th>\n      <td>19423.500000</td>\n      <td>19905.083333</td>\n      <td>19822.250000</td>\n      <td>15958.416667</td>\n      <td>NaN</td>\n      <td>0.0</td>\n      <td>3865.833333</td>\n      <td>935.833333</td>\n      <td>320.500000</td>\n      <td>242.083333</td>\n      <td>...</td>\n      <td>10.000000</td>\n      <td>NaN</td>\n      <td>NaN</td>\n      <td>NaN</td>\n      <td>NaN</td>\n      <td>NaN</td>\n      <td>NaN</td>\n      <td>NaN</td>\n      <td>NaN</td>\n      <td>NaN</td>\n    </tr>\n    <tr>\n      <th>2018-05-01 04:00:00+00:00</th>\n      <td>19879.583333</td>\n      <td>20325.833333</td>\n      <td>20321.166667</td>\n      <td>16600.583333</td>\n      <td>NaN</td>\n      <td>0.0</td>\n      <td>3686.416667</td>\n      <td>936.000000</td>\n      <td>314.250000</td>\n      <td>242.250000</td>\n      <td>...</td>\n      <td>10.000000</td>\n      <td>NaN</td>\n      <td>NaN</td>\n      <td>NaN</td>\n      <td>NaN</td>\n      <td>NaN</td>\n      <td>NaN</td>\n      <td>NaN</td>\n      <td>NaN</td>\n      <td>NaN</td>\n    </tr>\n  </tbody>\n</table>\n<p>5 rows × 35 columns</p>\n</div>"
     },
     "execution_count": 56,
     "metadata": {},
     "output_type": "execute_result"
    }
   ],
   "source": [
    "caiso_df = caiso_df.set_index('datetime')\n",
    "caiso_hourly = caiso_df.groupby(pd.Grouper(freq='1h')).mean()\n",
    "caiso_hourly.index.tz_localize(None)\n",
    "caiso_hourly.head()"
   ],
   "metadata": {
    "collapsed": false,
    "ExecuteTime": {
     "end_time": "2024-02-27T02:48:51.745567Z",
     "start_time": "2024-02-27T02:48:49.358377Z"
    }
   },
   "id": "417cd34f774684c3",
   "execution_count": 56
  },
  {
   "cell_type": "code",
   "outputs": [
    {
     "name": "stdout",
     "output_type": "stream",
     "text": [
      "24\n"
     ]
    }
   ],
   "source": [
    "print(len(caiso_hourly))"
   ],
   "metadata": {
    "collapsed": false,
    "ExecuteTime": {
     "end_time": "2024-02-27T02:39:36.922133Z",
     "start_time": "2024-02-27T02:39:35.914667Z"
    }
   },
   "id": "be289ab066b1c9f",
   "execution_count": 46
  },
  {
   "cell_type": "code",
   "outputs": [],
   "source": [
    "X = pd.DataFrame(index=pd.date_range('2018-05-1','2021-09-13', inclusive='both', freq='h', tz=0),columns=['dow','hour','month'])\n",
    "X = X.join(caiso_hourly)"
   ],
   "metadata": {
    "collapsed": false,
    "ExecuteTime": {
     "end_time": "2024-02-27T02:50:13.312234Z",
     "start_time": "2024-02-27T02:50:12.379560Z"
    }
   },
   "id": "4c0ca1228c27dbbf",
   "execution_count": 57
  },
  {
   "cell_type": "code",
   "outputs": [
    {
     "data": {
      "text/plain": "                           dow hour month  Day ahead forecast  \\\n2018-05-01 00:00:00+00:00  NaN  NaN   NaN        21013.666667   \n2018-05-01 01:00:00+00:00  NaN  NaN   NaN        20133.083333   \n2018-05-01 02:00:00+00:00  NaN  NaN   NaN        19582.666667   \n2018-05-01 03:00:00+00:00  NaN  NaN   NaN        19423.500000   \n2018-05-01 04:00:00+00:00  NaN  NaN   NaN        19879.583333   \n\n                           Hour ahead forecast  Current demand    Net demand  \\\n2018-05-01 00:00:00+00:00         21496.500000    21378.500000  17906.000000   \n2018-05-01 01:00:00+00:00         20673.916667    20644.583333  17251.333333   \n2018-05-01 02:00:00+00:00         20174.083333    20089.166667  16399.916667   \n2018-05-01 03:00:00+00:00         19905.083333    19822.250000  15958.416667   \n2018-05-01 04:00:00+00:00         20325.833333    20321.166667  16600.583333   \n\n                           Net demand forecast  Solar         Wind  ...  \\\n2018-05-01 00:00:00+00:00                  NaN    0.0  3503.583333  ...   \n2018-05-01 01:00:00+00:00                  NaN    0.0  3418.000000  ...   \n2018-05-01 02:00:00+00:00                  NaN    0.0  3703.166667  ...   \n2018-05-01 03:00:00+00:00                  NaN    0.0  3865.833333  ...   \n2018-05-01 04:00:00+00:00                  NaN    0.0  3686.416667  ...   \n\n                           Geothermal CO2  Demand  Net Demand  \\\n2018-05-01 00:00:00+00:00        9.083333     NaN         NaN   \n2018-05-01 01:00:00+00:00       10.000000     NaN         NaN   \n2018-05-01 02:00:00+00:00       10.000000     NaN         NaN   \n2018-05-01 03:00:00+00:00       10.000000     NaN         NaN   \n2018-05-01 04:00:00+00:00       10.000000     NaN         NaN   \n\n                           Day-ahead demand forecast  \\\n2018-05-01 00:00:00+00:00                        NaN   \n2018-05-01 01:00:00+00:00                        NaN   \n2018-05-01 02:00:00+00:00                        NaN   \n2018-05-01 03:00:00+00:00                        NaN   \n2018-05-01 04:00:00+00:00                        NaN   \n\n                           Day-ahead net demand forecast  \\\n2018-05-01 00:00:00+00:00                            NaN   \n2018-05-01 01:00:00+00:00                            NaN   \n2018-05-01 02:00:00+00:00                            NaN   \n2018-05-01 03:00:00+00:00                            NaN   \n2018-05-01 04:00:00+00:00                            NaN   \n\n                           Resource adequacy capacity forecast  \\\n2018-05-01 00:00:00+00:00                                  NaN   \n2018-05-01 01:00:00+00:00                                  NaN   \n2018-05-01 02:00:00+00:00                                  NaN   \n2018-05-01 03:00:00+00:00                                  NaN   \n2018-05-01 04:00:00+00:00                                  NaN   \n\n                           Net resource adequacy capacity forecast  \\\n2018-05-01 00:00:00+00:00                                      NaN   \n2018-05-01 01:00:00+00:00                                      NaN   \n2018-05-01 02:00:00+00:00                                      NaN   \n2018-05-01 03:00:00+00:00                                      NaN   \n2018-05-01 04:00:00+00:00                                      NaN   \n\n                           Reserve requirement  Reserve requirement forecast  \\\n2018-05-01 00:00:00+00:00                  NaN                           NaN   \n2018-05-01 01:00:00+00:00                  NaN                           NaN   \n2018-05-01 02:00:00+00:00                  NaN                           NaN   \n2018-05-01 03:00:00+00:00                  NaN                           NaN   \n2018-05-01 04:00:00+00:00                  NaN                           NaN   \n\n                           Resource adequacy credits  \n2018-05-01 00:00:00+00:00                        NaN  \n2018-05-01 01:00:00+00:00                        NaN  \n2018-05-01 02:00:00+00:00                        NaN  \n2018-05-01 03:00:00+00:00                        NaN  \n2018-05-01 04:00:00+00:00                        NaN  \n\n[5 rows x 38 columns]",
      "text/html": "<div>\n<style scoped>\n    .dataframe tbody tr th:only-of-type {\n        vertical-align: middle;\n    }\n\n    .dataframe tbody tr th {\n        vertical-align: top;\n    }\n\n    .dataframe thead th {\n        text-align: right;\n    }\n</style>\n<table border=\"1\" class=\"dataframe\">\n  <thead>\n    <tr style=\"text-align: right;\">\n      <th></th>\n      <th>dow</th>\n      <th>hour</th>\n      <th>month</th>\n      <th>Day ahead forecast</th>\n      <th>Hour ahead forecast</th>\n      <th>Current demand</th>\n      <th>Net demand</th>\n      <th>Net demand forecast</th>\n      <th>Solar</th>\n      <th>Wind</th>\n      <th>...</th>\n      <th>Geothermal CO2</th>\n      <th>Demand</th>\n      <th>Net Demand</th>\n      <th>Day-ahead demand forecast</th>\n      <th>Day-ahead net demand forecast</th>\n      <th>Resource adequacy capacity forecast</th>\n      <th>Net resource adequacy capacity forecast</th>\n      <th>Reserve requirement</th>\n      <th>Reserve requirement forecast</th>\n      <th>Resource adequacy credits</th>\n    </tr>\n  </thead>\n  <tbody>\n    <tr>\n      <th>2018-05-01 00:00:00+00:00</th>\n      <td>NaN</td>\n      <td>NaN</td>\n      <td>NaN</td>\n      <td>21013.666667</td>\n      <td>21496.500000</td>\n      <td>21378.500000</td>\n      <td>17906.000000</td>\n      <td>NaN</td>\n      <td>0.0</td>\n      <td>3503.583333</td>\n      <td>...</td>\n      <td>9.083333</td>\n      <td>NaN</td>\n      <td>NaN</td>\n      <td>NaN</td>\n      <td>NaN</td>\n      <td>NaN</td>\n      <td>NaN</td>\n      <td>NaN</td>\n      <td>NaN</td>\n      <td>NaN</td>\n    </tr>\n    <tr>\n      <th>2018-05-01 01:00:00+00:00</th>\n      <td>NaN</td>\n      <td>NaN</td>\n      <td>NaN</td>\n      <td>20133.083333</td>\n      <td>20673.916667</td>\n      <td>20644.583333</td>\n      <td>17251.333333</td>\n      <td>NaN</td>\n      <td>0.0</td>\n      <td>3418.000000</td>\n      <td>...</td>\n      <td>10.000000</td>\n      <td>NaN</td>\n      <td>NaN</td>\n      <td>NaN</td>\n      <td>NaN</td>\n      <td>NaN</td>\n      <td>NaN</td>\n      <td>NaN</td>\n      <td>NaN</td>\n      <td>NaN</td>\n    </tr>\n    <tr>\n      <th>2018-05-01 02:00:00+00:00</th>\n      <td>NaN</td>\n      <td>NaN</td>\n      <td>NaN</td>\n      <td>19582.666667</td>\n      <td>20174.083333</td>\n      <td>20089.166667</td>\n      <td>16399.916667</td>\n      <td>NaN</td>\n      <td>0.0</td>\n      <td>3703.166667</td>\n      <td>...</td>\n      <td>10.000000</td>\n      <td>NaN</td>\n      <td>NaN</td>\n      <td>NaN</td>\n      <td>NaN</td>\n      <td>NaN</td>\n      <td>NaN</td>\n      <td>NaN</td>\n      <td>NaN</td>\n      <td>NaN</td>\n    </tr>\n    <tr>\n      <th>2018-05-01 03:00:00+00:00</th>\n      <td>NaN</td>\n      <td>NaN</td>\n      <td>NaN</td>\n      <td>19423.500000</td>\n      <td>19905.083333</td>\n      <td>19822.250000</td>\n      <td>15958.416667</td>\n      <td>NaN</td>\n      <td>0.0</td>\n      <td>3865.833333</td>\n      <td>...</td>\n      <td>10.000000</td>\n      <td>NaN</td>\n      <td>NaN</td>\n      <td>NaN</td>\n      <td>NaN</td>\n      <td>NaN</td>\n      <td>NaN</td>\n      <td>NaN</td>\n      <td>NaN</td>\n      <td>NaN</td>\n    </tr>\n    <tr>\n      <th>2018-05-01 04:00:00+00:00</th>\n      <td>NaN</td>\n      <td>NaN</td>\n      <td>NaN</td>\n      <td>19879.583333</td>\n      <td>20325.833333</td>\n      <td>20321.166667</td>\n      <td>16600.583333</td>\n      <td>NaN</td>\n      <td>0.0</td>\n      <td>3686.416667</td>\n      <td>...</td>\n      <td>10.000000</td>\n      <td>NaN</td>\n      <td>NaN</td>\n      <td>NaN</td>\n      <td>NaN</td>\n      <td>NaN</td>\n      <td>NaN</td>\n      <td>NaN</td>\n      <td>NaN</td>\n      <td>NaN</td>\n    </tr>\n  </tbody>\n</table>\n<p>5 rows × 38 columns</p>\n</div>"
     },
     "execution_count": 58,
     "metadata": {},
     "output_type": "execute_result"
    }
   ],
   "source": [
    "X.head()"
   ],
   "metadata": {
    "collapsed": false,
    "ExecuteTime": {
     "end_time": "2024-02-27T02:50:30.610469Z",
     "start_time": "2024-02-27T02:50:30.201021Z"
    }
   },
   "id": "7f8e89e998e0fd05",
   "execution_count": 58
  },
  {
   "cell_type": "code",
   "outputs": [
    {
     "data": {
      "text/plain": "                           dow  hour  month  Day ahead forecast  \\\n2018-05-01 00:00:00+00:00    1     0      5        21013.666667   \n2018-05-01 01:00:00+00:00    1     1      5        20133.083333   \n2018-05-01 02:00:00+00:00    1     2      5        19582.666667   \n2018-05-01 03:00:00+00:00    1     3      5        19423.500000   \n2018-05-01 04:00:00+00:00    1     4      5        19879.583333   \n\n                           Hour ahead forecast  Current demand    Net demand  \\\n2018-05-01 00:00:00+00:00         21496.500000    21378.500000  17906.000000   \n2018-05-01 01:00:00+00:00         20673.916667    20644.583333  17251.333333   \n2018-05-01 02:00:00+00:00         20174.083333    20089.166667  16399.916667   \n2018-05-01 03:00:00+00:00         19905.083333    19822.250000  15958.416667   \n2018-05-01 04:00:00+00:00         20325.833333    20321.166667  16600.583333   \n\n                           Net demand forecast  Solar         Wind  ...  \\\n2018-05-01 00:00:00+00:00                  NaN    0.0  3503.583333  ...   \n2018-05-01 01:00:00+00:00                  NaN    0.0  3418.000000  ...   \n2018-05-01 02:00:00+00:00                  NaN    0.0  3703.166667  ...   \n2018-05-01 03:00:00+00:00                  NaN    0.0  3865.833333  ...   \n2018-05-01 04:00:00+00:00                  NaN    0.0  3686.416667  ...   \n\n                           Demand  Net Demand  Day-ahead demand forecast  \\\n2018-05-01 00:00:00+00:00     NaN         NaN                        NaN   \n2018-05-01 01:00:00+00:00     NaN         NaN                        NaN   \n2018-05-01 02:00:00+00:00     NaN         NaN                        NaN   \n2018-05-01 03:00:00+00:00     NaN         NaN                        NaN   \n2018-05-01 04:00:00+00:00     NaN         NaN                        NaN   \n\n                           Day-ahead net demand forecast  \\\n2018-05-01 00:00:00+00:00                            NaN   \n2018-05-01 01:00:00+00:00                            NaN   \n2018-05-01 02:00:00+00:00                            NaN   \n2018-05-01 03:00:00+00:00                            NaN   \n2018-05-01 04:00:00+00:00                            NaN   \n\n                           Resource adequacy capacity forecast  \\\n2018-05-01 00:00:00+00:00                                  NaN   \n2018-05-01 01:00:00+00:00                                  NaN   \n2018-05-01 02:00:00+00:00                                  NaN   \n2018-05-01 03:00:00+00:00                                  NaN   \n2018-05-01 04:00:00+00:00                                  NaN   \n\n                           Net resource adequacy capacity forecast  \\\n2018-05-01 00:00:00+00:00                                      NaN   \n2018-05-01 01:00:00+00:00                                      NaN   \n2018-05-01 02:00:00+00:00                                      NaN   \n2018-05-01 03:00:00+00:00                                      NaN   \n2018-05-01 04:00:00+00:00                                      NaN   \n\n                           Reserve requirement  Reserve requirement forecast  \\\n2018-05-01 00:00:00+00:00                  NaN                           NaN   \n2018-05-01 01:00:00+00:00                  NaN                           NaN   \n2018-05-01 02:00:00+00:00                  NaN                           NaN   \n2018-05-01 03:00:00+00:00                  NaN                           NaN   \n2018-05-01 04:00:00+00:00                  NaN                           NaN   \n\n                           Resource adequacy credits  is_holiday  \n2018-05-01 00:00:00+00:00                        NaN       False  \n2018-05-01 01:00:00+00:00                        NaN       False  \n2018-05-01 02:00:00+00:00                        NaN       False  \n2018-05-01 03:00:00+00:00                        NaN       False  \n2018-05-01 04:00:00+00:00                        NaN       False  \n\n[5 rows x 39 columns]",
      "text/html": "<div>\n<style scoped>\n    .dataframe tbody tr th:only-of-type {\n        vertical-align: middle;\n    }\n\n    .dataframe tbody tr th {\n        vertical-align: top;\n    }\n\n    .dataframe thead th {\n        text-align: right;\n    }\n</style>\n<table border=\"1\" class=\"dataframe\">\n  <thead>\n    <tr style=\"text-align: right;\">\n      <th></th>\n      <th>dow</th>\n      <th>hour</th>\n      <th>month</th>\n      <th>Day ahead forecast</th>\n      <th>Hour ahead forecast</th>\n      <th>Current demand</th>\n      <th>Net demand</th>\n      <th>Net demand forecast</th>\n      <th>Solar</th>\n      <th>Wind</th>\n      <th>...</th>\n      <th>Demand</th>\n      <th>Net Demand</th>\n      <th>Day-ahead demand forecast</th>\n      <th>Day-ahead net demand forecast</th>\n      <th>Resource adequacy capacity forecast</th>\n      <th>Net resource adequacy capacity forecast</th>\n      <th>Reserve requirement</th>\n      <th>Reserve requirement forecast</th>\n      <th>Resource adequacy credits</th>\n      <th>is_holiday</th>\n    </tr>\n  </thead>\n  <tbody>\n    <tr>\n      <th>2018-05-01 00:00:00+00:00</th>\n      <td>1</td>\n      <td>0</td>\n      <td>5</td>\n      <td>21013.666667</td>\n      <td>21496.500000</td>\n      <td>21378.500000</td>\n      <td>17906.000000</td>\n      <td>NaN</td>\n      <td>0.0</td>\n      <td>3503.583333</td>\n      <td>...</td>\n      <td>NaN</td>\n      <td>NaN</td>\n      <td>NaN</td>\n      <td>NaN</td>\n      <td>NaN</td>\n      <td>NaN</td>\n      <td>NaN</td>\n      <td>NaN</td>\n      <td>NaN</td>\n      <td>False</td>\n    </tr>\n    <tr>\n      <th>2018-05-01 01:00:00+00:00</th>\n      <td>1</td>\n      <td>1</td>\n      <td>5</td>\n      <td>20133.083333</td>\n      <td>20673.916667</td>\n      <td>20644.583333</td>\n      <td>17251.333333</td>\n      <td>NaN</td>\n      <td>0.0</td>\n      <td>3418.000000</td>\n      <td>...</td>\n      <td>NaN</td>\n      <td>NaN</td>\n      <td>NaN</td>\n      <td>NaN</td>\n      <td>NaN</td>\n      <td>NaN</td>\n      <td>NaN</td>\n      <td>NaN</td>\n      <td>NaN</td>\n      <td>False</td>\n    </tr>\n    <tr>\n      <th>2018-05-01 02:00:00+00:00</th>\n      <td>1</td>\n      <td>2</td>\n      <td>5</td>\n      <td>19582.666667</td>\n      <td>20174.083333</td>\n      <td>20089.166667</td>\n      <td>16399.916667</td>\n      <td>NaN</td>\n      <td>0.0</td>\n      <td>3703.166667</td>\n      <td>...</td>\n      <td>NaN</td>\n      <td>NaN</td>\n      <td>NaN</td>\n      <td>NaN</td>\n      <td>NaN</td>\n      <td>NaN</td>\n      <td>NaN</td>\n      <td>NaN</td>\n      <td>NaN</td>\n      <td>False</td>\n    </tr>\n    <tr>\n      <th>2018-05-01 03:00:00+00:00</th>\n      <td>1</td>\n      <td>3</td>\n      <td>5</td>\n      <td>19423.500000</td>\n      <td>19905.083333</td>\n      <td>19822.250000</td>\n      <td>15958.416667</td>\n      <td>NaN</td>\n      <td>0.0</td>\n      <td>3865.833333</td>\n      <td>...</td>\n      <td>NaN</td>\n      <td>NaN</td>\n      <td>NaN</td>\n      <td>NaN</td>\n      <td>NaN</td>\n      <td>NaN</td>\n      <td>NaN</td>\n      <td>NaN</td>\n      <td>NaN</td>\n      <td>False</td>\n    </tr>\n    <tr>\n      <th>2018-05-01 04:00:00+00:00</th>\n      <td>1</td>\n      <td>4</td>\n      <td>5</td>\n      <td>19879.583333</td>\n      <td>20325.833333</td>\n      <td>20321.166667</td>\n      <td>16600.583333</td>\n      <td>NaN</td>\n      <td>0.0</td>\n      <td>3686.416667</td>\n      <td>...</td>\n      <td>NaN</td>\n      <td>NaN</td>\n      <td>NaN</td>\n      <td>NaN</td>\n      <td>NaN</td>\n      <td>NaN</td>\n      <td>NaN</td>\n      <td>NaN</td>\n      <td>NaN</td>\n      <td>False</td>\n    </tr>\n  </tbody>\n</table>\n<p>5 rows × 39 columns</p>\n</div>"
     },
     "execution_count": 59,
     "metadata": {},
     "output_type": "execute_result"
    }
   ],
   "source": [
    "X['dow'] = X.index.dayofweek\n",
    "X['hour'] = X.index.hour\n",
    "X['month'] = X.index.month\n",
    "X['connectionTime'] = X.index\n",
    "X = holiday_processing(X).drop(columns=['connectionTime'])\n",
    "X.head()"
   ],
   "metadata": {
    "collapsed": false,
    "ExecuteTime": {
     "end_time": "2024-02-27T02:51:19.857369Z",
     "start_time": "2024-02-27T02:51:18.499407Z"
    }
   },
   "id": "84cbd37ea1d0f694",
   "execution_count": 59
  },
  {
   "cell_type": "code",
   "outputs": [
    {
     "name": "stdout",
     "output_type": "stream",
     "text": [
      "charger CA-303 is available is_available    69.964\n",
      "dtype: float64% of the time\n"
     ]
    }
   ],
   "source": [
    "print(f'charger CA-303 is available {np.round(y.mean()*100,3)}% of the time')"
   ],
   "metadata": {
    "collapsed": false,
    "ExecuteTime": {
     "end_time": "2024-02-27T01:34:19.937769Z",
     "start_time": "2024-02-27T01:34:19.826427Z"
    }
   },
   "id": "21d6e1b9a8eb63bf",
   "execution_count": 16
  },
  {
   "cell_type": "code",
   "outputs": [
    {
     "data": {
      "text/plain": "True"
     },
     "execution_count": 17,
     "metadata": {},
     "output_type": "execute_result"
    }
   ],
   "source": [
    "X.shape[0] == y.shape[0]"
   ],
   "metadata": {
    "collapsed": false,
    "ExecuteTime": {
     "end_time": "2024-02-27T01:34:19.943694Z",
     "start_time": "2024-02-27T01:34:19.835416Z"
    }
   },
   "id": "3fcd5be72586dcbb",
   "execution_count": 17
  },
  {
   "cell_type": "markdown",
   "source": [
    "# LSTM"
   ],
   "metadata": {
    "collapsed": false
   },
   "id": "baa5daf8007c1f1f"
  },
  {
   "cell_type": "code",
   "outputs": [
    {
     "name": "stdout",
     "output_type": "stream",
     "text": [
      "the training data has an average availability of is_available    69.652\n",
      "dtype: float64%\n"
     ]
    },
    {
     "name": "stderr",
     "output_type": "stream",
     "text": [
      "/var/folders/7p/8d9trt0n3szgfv_nhh5rk6v00000gn/T/ipykernel_33350/2810031212.py:4: FutureWarning: The default value of numeric_only in DataFrame.mean is deprecated. In a future version, it will default to False. In addition, specifying 'numeric_only=None' is deprecated. Select only valid columns or specify the value of numeric_only to silence this warning.\n",
      "  print(f'the training data has an average availability of {np.round(y_train.mean()*100,3)}%')\n"
     ]
    }
   ],
   "source": [
    "# Create hold out test set\n",
    "bin_numbers = pd.qcut(y['is_available'], q=10, labels=False, duplicates='drop')\n",
    "X_train, X_test, y_train, y_test = train_test_split(X, y, test_size = .2, stratify=bin_numbers, random_state=42)\n",
    "print(f'the training data has an average availability of {np.round(y_train.mean()*100,3)}%')"
   ],
   "metadata": {
    "collapsed": false,
    "ExecuteTime": {
     "end_time": "2024-02-27T02:55:31.491058Z",
     "start_time": "2024-02-27T02:55:31.125218Z"
    }
   },
   "id": "4cf4910a8b67b42f",
   "execution_count": 77
  },
  {
   "cell_type": "code",
   "outputs": [
    {
     "name": "stdout",
     "output_type": "stream",
     "text": [
      "<class 'pandas.core.frame.DataFrame'>\n",
      "DatetimeIndex: 23636 entries, 2018-10-07 10:00:00+00:00 to 2018-07-06 18:00:00+00:00\n",
      "Data columns (total 39 columns):\n",
      " #   Column                                   Non-Null Count  Dtype  \n",
      "---  ------                                   --------------  -----  \n",
      " 0   dow                                      23636 non-null  int64  \n",
      " 1   hour                                     23636 non-null  int64  \n",
      " 2   month                                    23636 non-null  int64  \n",
      " 3   Day ahead forecast                       23633 non-null  float64\n",
      " 4   Hour ahead forecast                      23634 non-null  float64\n",
      " 5   Current demand                           23633 non-null  float64\n",
      " 6   Net demand                               23595 non-null  float64\n",
      " 7   Net demand forecast                      515 non-null    float64\n",
      " 8   Solar                                    23612 non-null  float64\n",
      " 9   Wind                                     23633 non-null  float64\n",
      " 10  Geothermal                               23613 non-null  float64\n",
      " 11  Biomass                                  23633 non-null  float64\n",
      " 12  Biogas                                   23633 non-null  float64\n",
      " 13  Small hydro                              23633 non-null  float64\n",
      " 14  Coal                                     23633 non-null  float64\n",
      " 15  Nuclear                                  23633 non-null  float64\n",
      " 16  Natural gas                              22987 non-null  float64\n",
      " 17  Large hydro                              23008 non-null  float64\n",
      " 18  Batteries                                23633 non-null  float64\n",
      " 19  Imports                                  23612 non-null  float64\n",
      " 20  Other                                    23612 non-null  float64\n",
      " 21  Natural Gas                              625 non-null    float64\n",
      " 22  Large Hydro                              625 non-null    float64\n",
      " 23  Biogas CO2                               23633 non-null  float64\n",
      " 24  Biomass CO2                              23633 non-null  float64\n",
      " 25  Natural Gas CO2                          23633 non-null  float64\n",
      " 26  Coal CO2                                 23613 non-null  float64\n",
      " 27  Imports CO2                              23633 non-null  float64\n",
      " 28  Geothermal CO2                           23633 non-null  float64\n",
      " 29  Demand                                   625 non-null    float64\n",
      " 30  Net Demand                               625 non-null    float64\n",
      " 31  Day-ahead demand forecast                625 non-null    float64\n",
      " 32  Day-ahead net demand forecast            533 non-null    float64\n",
      " 33  Resource adequacy capacity forecast      625 non-null    float64\n",
      " 34  Net resource adequacy capacity forecast  625 non-null    float64\n",
      " 35  Reserve requirement                      625 non-null    float64\n",
      " 36  Reserve requirement forecast             625 non-null    float64\n",
      " 37  Resource adequacy credits                625 non-null    float64\n",
      " 38  is_holiday                               23636 non-null  bool   \n",
      "dtypes: bool(1), float64(35), int64(3)\n",
      "memory usage: 7.1 MB\n"
     ]
    }
   ],
   "source": [
    "X_train.info()"
   ],
   "metadata": {
    "collapsed": false,
    "ExecuteTime": {
     "end_time": "2024-02-27T02:55:44.733147Z",
     "start_time": "2024-02-27T02:55:44.376250Z"
    }
   },
   "id": "5b35a1e32d355dde",
   "execution_count": 78
  },
  {
   "cell_type": "code",
   "outputs": [],
   "source": [
    "from sklearn.preprocessing import MinMaxScaler\n",
    "import tensorflow as tf\n",
    "from tensorflow.keras.layers import LSTM, Dense, Dropout\n",
    "from tensorflow.keras.models import Sequential\n",
    "tf.random.set_seed(42)"
   ],
   "metadata": {
    "collapsed": false,
    "ExecuteTime": {
     "end_time": "2024-02-27T02:54:46.669128Z",
     "start_time": "2024-02-27T02:54:45.678434Z"
    }
   },
   "id": "20eb8fa6ce3abd1d",
   "execution_count": 70
  },
  {
   "cell_type": "code",
   "outputs": [],
   "source": [
    "#scaler = MinMaxScaler(feature_range=(0,1))\n",
    "look_back = 1"
   ],
   "metadata": {
    "collapsed": false,
    "ExecuteTime": {
     "end_time": "2024-02-27T02:54:48.737195Z",
     "start_time": "2024-02-27T02:54:47.003824Z"
    }
   },
   "id": "8a29fa550e4333b5",
   "execution_count": 71
  },
  {
   "cell_type": "code",
   "outputs": [],
   "source": [
    "model = Sequential()\n",
    "model.add(LSTM(4, input_shape=(1,39)))\n",
    "model.add(Dense(1))\n",
    "model.compile(loss='mean_squared_error', optimizer='adam')"
   ],
   "metadata": {
    "collapsed": false,
    "ExecuteTime": {
     "end_time": "2024-02-27T02:54:55.327517Z",
     "start_time": "2024-02-27T02:54:49.822871Z"
    }
   },
   "id": "ab6614c14f604bf",
   "execution_count": 72
  },
  {
   "cell_type": "code",
   "outputs": [],
   "source": [
    "X_train = np.reshape(X_train.values.astype(float), (X_train.shape[0], 1, X_train.shape[1]))\n",
    "X_test = np.reshape(X_test.values.astype(float), (X_test.shape[0], 1, X_test.shape[1]))"
   ],
   "metadata": {
    "collapsed": false,
    "ExecuteTime": {
     "end_time": "2024-02-27T02:54:59.908408Z",
     "start_time": "2024-02-27T02:54:58.626814Z"
    }
   },
   "id": "4d3589df17bcc2b8",
   "execution_count": 73
  },
  {
   "cell_type": "code",
   "outputs": [
    {
     "data": {
      "text/plain": "array([[[6.00000000e+00, 1.00000000e+01, 1.00000000e+01, ...,\n                    nan,            nan, 0.00000000e+00]],\n\n       [[1.00000000e+00, 1.00000000e+01, 8.00000000e+00, ...,\n                    nan,            nan, 0.00000000e+00]],\n\n       [[5.00000000e+00, 1.20000000e+01, 9.00000000e+00, ...,\n         2.34083333e+03, 1.95600000e+03, 0.00000000e+00]],\n\n       ...,\n\n       [[1.00000000e+00, 2.00000000e+01, 3.00000000e+00, ...,\n                    nan,            nan, 0.00000000e+00]],\n\n       [[2.00000000e+00, 2.30000000e+01, 4.00000000e+00, ...,\n                    nan,            nan, 0.00000000e+00]],\n\n       [[4.00000000e+00, 1.80000000e+01, 7.00000000e+00, ...,\n                    nan,            nan, 0.00000000e+00]]])"
     },
     "execution_count": 74,
     "metadata": {},
     "output_type": "execute_result"
    }
   ],
   "source": [
    "X_train"
   ],
   "metadata": {
    "collapsed": false,
    "ExecuteTime": {
     "end_time": "2024-02-27T02:55:02.487878Z",
     "start_time": "2024-02-27T02:55:02.007114Z"
    }
   },
   "id": "76bcc59aea8a81ba",
   "execution_count": 74
  },
  {
   "cell_type": "code",
   "outputs": [
    {
     "data": {
      "text/plain": "(23636, 1, 39)"
     },
     "execution_count": 75,
     "metadata": {},
     "output_type": "execute_result"
    }
   ],
   "source": [
    "X_train.shape"
   ],
   "metadata": {
    "collapsed": false,
    "ExecuteTime": {
     "end_time": "2024-02-27T02:55:05.138022Z",
     "start_time": "2024-02-27T02:55:04.675310Z"
    }
   },
   "id": "dfda6a1daa43aed8",
   "execution_count": 75
  },
  {
   "cell_type": "code",
   "outputs": [
    {
     "ename": "ValueError",
     "evalue": "Failed to convert a NumPy array to a Tensor (Unsupported object type int).",
     "output_type": "error",
     "traceback": [
      "\u001B[0;31m---------------------------------------------------------------------------\u001B[0m",
      "\u001B[0;31mValueError\u001B[0m                                Traceback (most recent call last)",
      "Cell \u001B[0;32mIn[76], line 1\u001B[0m\n\u001B[0;32m----> 1\u001B[0m \u001B[43mmodel\u001B[49m\u001B[38;5;241;43m.\u001B[39;49m\u001B[43mfit\u001B[49m\u001B[43m(\u001B[49m\u001B[43mX_train\u001B[49m\u001B[43m,\u001B[49m\u001B[43m \u001B[49m\u001B[43my_train\u001B[49m\u001B[43m,\u001B[49m\u001B[43m \u001B[49m\u001B[43mepochs\u001B[49m\u001B[38;5;241;43m=\u001B[39;49m\u001B[38;5;241;43m10\u001B[39;49m\u001B[43m,\u001B[49m\u001B[43m \u001B[49m\u001B[43mbatch_size\u001B[49m\u001B[38;5;241;43m=\u001B[39;49m\u001B[38;5;241;43m8\u001B[39;49m\u001B[43m,\u001B[49m\u001B[43m \u001B[49m\u001B[43mverbose\u001B[49m\u001B[38;5;241;43m=\u001B[39;49m\u001B[38;5;241;43m2\u001B[39;49m\u001B[43m)\u001B[49m\n",
      "File \u001B[0;32m/Applications/anaconda3/envs/tf/lib/python3.10/site-packages/keras/utils/traceback_utils.py:70\u001B[0m, in \u001B[0;36mfilter_traceback.<locals>.error_handler\u001B[0;34m(*args, **kwargs)\u001B[0m\n\u001B[1;32m     67\u001B[0m     filtered_tb \u001B[38;5;241m=\u001B[39m _process_traceback_frames(e\u001B[38;5;241m.\u001B[39m__traceback__)\n\u001B[1;32m     68\u001B[0m     \u001B[38;5;66;03m# To get the full stack trace, call:\u001B[39;00m\n\u001B[1;32m     69\u001B[0m     \u001B[38;5;66;03m# `tf.debugging.disable_traceback_filtering()`\u001B[39;00m\n\u001B[0;32m---> 70\u001B[0m     \u001B[38;5;28;01mraise\u001B[39;00m e\u001B[38;5;241m.\u001B[39mwith_traceback(filtered_tb) \u001B[38;5;28;01mfrom\u001B[39;00m \u001B[38;5;28;01mNone\u001B[39;00m\n\u001B[1;32m     71\u001B[0m \u001B[38;5;28;01mfinally\u001B[39;00m:\n\u001B[1;32m     72\u001B[0m     \u001B[38;5;28;01mdel\u001B[39;00m filtered_tb\n",
      "File \u001B[0;32m/Applications/anaconda3/envs/tf/lib/python3.10/site-packages/tensorflow/python/framework/constant_op.py:102\u001B[0m, in \u001B[0;36mconvert_to_eager_tensor\u001B[0;34m(value, ctx, dtype)\u001B[0m\n\u001B[1;32m    100\u001B[0m     dtype \u001B[38;5;241m=\u001B[39m dtypes\u001B[38;5;241m.\u001B[39mas_dtype(dtype)\u001B[38;5;241m.\u001B[39mas_datatype_enum\n\u001B[1;32m    101\u001B[0m ctx\u001B[38;5;241m.\u001B[39mensure_initialized()\n\u001B[0;32m--> 102\u001B[0m \u001B[38;5;28;01mreturn\u001B[39;00m \u001B[43mops\u001B[49m\u001B[38;5;241;43m.\u001B[39;49m\u001B[43mEagerTensor\u001B[49m\u001B[43m(\u001B[49m\u001B[43mvalue\u001B[49m\u001B[43m,\u001B[49m\u001B[43m \u001B[49m\u001B[43mctx\u001B[49m\u001B[38;5;241;43m.\u001B[39;49m\u001B[43mdevice_name\u001B[49m\u001B[43m,\u001B[49m\u001B[43m \u001B[49m\u001B[43mdtype\u001B[49m\u001B[43m)\u001B[49m\n",
      "\u001B[0;31mValueError\u001B[0m: Failed to convert a NumPy array to a Tensor (Unsupported object type int)."
     ]
    }
   ],
   "source": [
    "model.fit(X_train, y_train, epochs=10, batch_size=8, verbose=2)"
   ],
   "metadata": {
    "collapsed": false,
    "ExecuteTime": {
     "end_time": "2024-02-27T02:55:07.968359Z",
     "start_time": "2024-02-27T02:55:07.060404Z"
    }
   },
   "id": "8f361723b734b37a",
   "execution_count": 76
  },
  {
   "cell_type": "code",
   "outputs": [
    {
     "name": "stdout",
     "output_type": "stream",
     "text": [
      "185/185 [==============================] - 1s 2ms/step\n"
     ]
    }
   ],
   "source": [
    "predictions = model.predict(X_test)"
   ],
   "metadata": {
    "collapsed": false,
    "ExecuteTime": {
     "end_time": "2024-02-27T01:35:22.500590Z",
     "start_time": "2024-02-27T01:35:21.313457Z"
    }
   },
   "id": "d29c229d5ea17451",
   "execution_count": 24
  },
  {
   "cell_type": "code",
   "outputs": [],
   "source": [
    "from sklearn.metrics import mean_squared_error"
   ],
   "metadata": {
    "collapsed": false,
    "ExecuteTime": {
     "end_time": "2024-02-27T01:35:22.525735Z",
     "start_time": "2024-02-27T01:35:22.502729Z"
    }
   },
   "id": "c4c9771eddeb4dfd",
   "execution_count": 25
  },
  {
   "cell_type": "code",
   "outputs": [
    {
     "name": "stdout",
     "output_type": "stream",
     "text": [
      "Mean Squared Error: 0.19237030540507316\n"
     ]
    }
   ],
   "source": [
    "score = mean_squared_error(y_test, predictions)\n",
    "print(f'Mean Squared Error: {score}')"
   ],
   "metadata": {
    "collapsed": false,
    "ExecuteTime": {
     "end_time": "2024-02-27T01:35:22.551530Z",
     "start_time": "2024-02-27T01:35:22.518795Z"
    }
   },
   "id": "d985a35071cb4e8d",
   "execution_count": 26
  },
  {
   "cell_type": "code",
   "outputs": [],
   "source": [],
   "metadata": {
    "collapsed": false,
    "ExecuteTime": {
     "end_time": "2024-02-27T01:35:22.553079Z",
     "start_time": "2024-02-27T01:35:22.530082Z"
    }
   },
   "id": "f783a44876220a15",
   "execution_count": 26
  }
 ],
 "metadata": {
  "kernelspec": {
   "display_name": "Python 3",
   "language": "python",
   "name": "python3"
  },
  "language_info": {
   "codemirror_mode": {
    "name": "ipython",
    "version": 2
   },
   "file_extension": ".py",
   "mimetype": "text/x-python",
   "name": "python",
   "nbconvert_exporter": "python",
   "pygments_lexer": "ipython2",
   "version": "2.7.6"
  }
 },
 "nbformat": 4,
 "nbformat_minor": 5
}
