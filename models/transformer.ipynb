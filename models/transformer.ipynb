{
 "cells": [
  {
   "cell_type": "code",
   "execution_count": 1,
   "id": "initial_id",
   "metadata": {
    "collapsed": true,
    "ExecuteTime": {
     "end_time": "2024-02-27T20:49:49.926990Z",
     "start_time": "2024-02-27T20:49:49.646038Z"
    }
   },
   "outputs": [],
   "source": [
    "import pandas as pd\n",
    "import numpy as np\n",
    "import matplotlib.pyplot as plt\n",
    "from src.data_preprocessing import datetime_processing, userinput_processing, holiday_processing, create_x, create_y\n",
    "\n",
    "from sklearn.model_selection import train_test_split\n",
    "from sklearn.linear_model import LogisticRegression\n",
    "from sklearn.preprocessing import OneHotEncoder\n",
    "from sklearn.pipeline import Pipeline\n",
    "\n",
    "from sklearn.metrics import confusion_matrix, ConfusionMatrixDisplay, f1_score, precision_score, recall_score, accuracy_score"
   ]
  },
  {
   "cell_type": "code",
   "outputs": [
    {
     "data": {
      "text/plain": "'/Users/varunvenkatesh/Documents/GitHub/ev_charging'"
     },
     "execution_count": 2,
     "metadata": {},
     "output_type": "execute_result"
    }
   ],
   "source": [
    "import os\n",
    "os.chdir('/Users/varunvenkatesh/Documents/Github/ev_charging')\n",
    "os.getcwd()"
   ],
   "metadata": {
    "collapsed": false,
    "ExecuteTime": {
     "end_time": "2024-02-27T20:49:49.941449Z",
     "start_time": "2024-02-27T20:49:49.928485Z"
    }
   },
   "id": "327bb068e01e5757",
   "execution_count": 2
  },
  {
   "cell_type": "code",
   "outputs": [],
   "source": [
    "df = pd.read_parquet('data/sessions/caltech/').reset_index(drop=True)\n",
    "df = datetime_processing(df)\n",
    "df = userinput_processing(df)\n",
    "df = holiday_processing(df)"
   ],
   "metadata": {
    "collapsed": false,
    "ExecuteTime": {
     "end_time": "2024-02-27T20:50:01.662135Z",
     "start_time": "2024-02-27T20:49:49.943145Z"
    }
   },
   "id": "f819a8923d068970",
   "execution_count": 3
  },
  {
   "cell_type": "code",
   "outputs": [
    {
     "data": {
      "text/plain": "                        _id                               sessionID  \\\n0  5bc9160af9af8b0dad3c0690   2_39_95_27_2018-05-01 13:23:18.374684   \n1  5bc9160af9af8b0dad3c0691  2_39_79_380_2018-05-01 13:54:33.599590   \n2  5bc9160af9af8b0dad3c0692  2_39_139_28_2018-05-01 14:46:04.441389   \n3  5bc9160af9af8b0dad3c0693  2_39_79_378_2018-05-01 14:56:28.908623   \n4  5bc9160af9af8b0dad3c0694   2_39_88_24_2018-05-01 15:14:50.443137   \n\n     stationID spaceID  siteID  clusterID            connectionTime  \\\n0   2-39-95-27  CA-319       2         39 2018-05-01 13:23:18+00:00   \n1  2-39-79-380  CA-489       2         39 2018-05-01 13:54:34+00:00   \n2  2-39-139-28  CA-303       2         39 2018-05-01 14:46:04+00:00   \n3  2-39-79-378  CA-326       2         39 2018-05-01 14:56:29+00:00   \n4   2-39-88-24  CA-314       2         39 2018-05-01 15:14:50+00:00   \n\n             disconnectTime  kWhDelivered          doneChargingTime  ...  \\\n0 2018-05-02 01:53:41+00:00        13.410 2018-05-01 17:17:07+00:00  ...   \n1 2018-05-01 23:15:35+00:00         8.618 2018-05-01 15:35:39+00:00  ...   \n2 2018-05-02 00:54:07+00:00        13.969 2018-05-01 23:57:02+00:00  ...   \n3 2018-05-01 21:52:45+00:00         6.914 2018-05-01 16:07:56+00:00  ...   \n4 2018-05-01 22:51:30+00:00        13.785 2018-05-01 20:18:12+00:00  ...   \n\n  doneChargingTimeDay  userID  milesRequested  WhPerMile  minutesAvailable  \\\n0                 1.0     NaN             NaN        NaN               NaN   \n1                 1.0     NaN             NaN        NaN               NaN   \n2                 1.0     NaN             NaN        NaN               NaN   \n3                 1.0     NaN             NaN        NaN               NaN   \n4                 1.0     NaN             NaN        NaN               NaN   \n\n   modifiedAt  paymentRequired  requestedDeparture  kWhRequested  is_holiday  \n0        None             None                None           NaN       False  \n1        None             None                None           NaN       False  \n2        None             None                None           NaN       False  \n3        None             None                None           NaN       False  \n4        None             None                None           NaN       False  \n\n[5 rows x 26 columns]",
      "text/html": "<div>\n<style scoped>\n    .dataframe tbody tr th:only-of-type {\n        vertical-align: middle;\n    }\n\n    .dataframe tbody tr th {\n        vertical-align: top;\n    }\n\n    .dataframe thead th {\n        text-align: right;\n    }\n</style>\n<table border=\"1\" class=\"dataframe\">\n  <thead>\n    <tr style=\"text-align: right;\">\n      <th></th>\n      <th>_id</th>\n      <th>sessionID</th>\n      <th>stationID</th>\n      <th>spaceID</th>\n      <th>siteID</th>\n      <th>clusterID</th>\n      <th>connectionTime</th>\n      <th>disconnectTime</th>\n      <th>kWhDelivered</th>\n      <th>doneChargingTime</th>\n      <th>...</th>\n      <th>doneChargingTimeDay</th>\n      <th>userID</th>\n      <th>milesRequested</th>\n      <th>WhPerMile</th>\n      <th>minutesAvailable</th>\n      <th>modifiedAt</th>\n      <th>paymentRequired</th>\n      <th>requestedDeparture</th>\n      <th>kWhRequested</th>\n      <th>is_holiday</th>\n    </tr>\n  </thead>\n  <tbody>\n    <tr>\n      <th>0</th>\n      <td>5bc9160af9af8b0dad3c0690</td>\n      <td>2_39_95_27_2018-05-01 13:23:18.374684</td>\n      <td>2-39-95-27</td>\n      <td>CA-319</td>\n      <td>2</td>\n      <td>39</td>\n      <td>2018-05-01 13:23:18+00:00</td>\n      <td>2018-05-02 01:53:41+00:00</td>\n      <td>13.410</td>\n      <td>2018-05-01 17:17:07+00:00</td>\n      <td>...</td>\n      <td>1.0</td>\n      <td>NaN</td>\n      <td>NaN</td>\n      <td>NaN</td>\n      <td>NaN</td>\n      <td>None</td>\n      <td>None</td>\n      <td>None</td>\n      <td>NaN</td>\n      <td>False</td>\n    </tr>\n    <tr>\n      <th>1</th>\n      <td>5bc9160af9af8b0dad3c0691</td>\n      <td>2_39_79_380_2018-05-01 13:54:33.599590</td>\n      <td>2-39-79-380</td>\n      <td>CA-489</td>\n      <td>2</td>\n      <td>39</td>\n      <td>2018-05-01 13:54:34+00:00</td>\n      <td>2018-05-01 23:15:35+00:00</td>\n      <td>8.618</td>\n      <td>2018-05-01 15:35:39+00:00</td>\n      <td>...</td>\n      <td>1.0</td>\n      <td>NaN</td>\n      <td>NaN</td>\n      <td>NaN</td>\n      <td>NaN</td>\n      <td>None</td>\n      <td>None</td>\n      <td>None</td>\n      <td>NaN</td>\n      <td>False</td>\n    </tr>\n    <tr>\n      <th>2</th>\n      <td>5bc9160af9af8b0dad3c0692</td>\n      <td>2_39_139_28_2018-05-01 14:46:04.441389</td>\n      <td>2-39-139-28</td>\n      <td>CA-303</td>\n      <td>2</td>\n      <td>39</td>\n      <td>2018-05-01 14:46:04+00:00</td>\n      <td>2018-05-02 00:54:07+00:00</td>\n      <td>13.969</td>\n      <td>2018-05-01 23:57:02+00:00</td>\n      <td>...</td>\n      <td>1.0</td>\n      <td>NaN</td>\n      <td>NaN</td>\n      <td>NaN</td>\n      <td>NaN</td>\n      <td>None</td>\n      <td>None</td>\n      <td>None</td>\n      <td>NaN</td>\n      <td>False</td>\n    </tr>\n    <tr>\n      <th>3</th>\n      <td>5bc9160af9af8b0dad3c0693</td>\n      <td>2_39_79_378_2018-05-01 14:56:28.908623</td>\n      <td>2-39-79-378</td>\n      <td>CA-326</td>\n      <td>2</td>\n      <td>39</td>\n      <td>2018-05-01 14:56:29+00:00</td>\n      <td>2018-05-01 21:52:45+00:00</td>\n      <td>6.914</td>\n      <td>2018-05-01 16:07:56+00:00</td>\n      <td>...</td>\n      <td>1.0</td>\n      <td>NaN</td>\n      <td>NaN</td>\n      <td>NaN</td>\n      <td>NaN</td>\n      <td>None</td>\n      <td>None</td>\n      <td>None</td>\n      <td>NaN</td>\n      <td>False</td>\n    </tr>\n    <tr>\n      <th>4</th>\n      <td>5bc9160af9af8b0dad3c0694</td>\n      <td>2_39_88_24_2018-05-01 15:14:50.443137</td>\n      <td>2-39-88-24</td>\n      <td>CA-314</td>\n      <td>2</td>\n      <td>39</td>\n      <td>2018-05-01 15:14:50+00:00</td>\n      <td>2018-05-01 22:51:30+00:00</td>\n      <td>13.785</td>\n      <td>2018-05-01 20:18:12+00:00</td>\n      <td>...</td>\n      <td>1.0</td>\n      <td>NaN</td>\n      <td>NaN</td>\n      <td>NaN</td>\n      <td>NaN</td>\n      <td>None</td>\n      <td>None</td>\n      <td>None</td>\n      <td>NaN</td>\n      <td>False</td>\n    </tr>\n  </tbody>\n</table>\n<p>5 rows × 26 columns</p>\n</div>"
     },
     "execution_count": 4,
     "metadata": {},
     "output_type": "execute_result"
    }
   ],
   "source": [
    "df.head()"
   ],
   "metadata": {
    "collapsed": false,
    "ExecuteTime": {
     "end_time": "2024-02-27T20:50:01.707903Z",
     "start_time": "2024-02-27T20:50:01.664557Z"
    }
   },
   "id": "d4367b4a837731e7",
   "execution_count": 4
  },
  {
   "cell_type": "code",
   "outputs": [
    {
     "data": {
      "text/plain": "2-39-139-28     1792\n2-39-131-30     1399\n2-39-129-17     1136\n2-39-81-4550    1126\n2-39-89-25      1086\n2-39-125-21     1042\n2-39-127-19     1022\n2-39-138-29      994\n2-39-79-379      932\n2-39-123-23      908\n2-39-79-380      892\n2-39-78-365      862\n2-39-91-437      846\n2-39-79-377      820\n2-39-130-31      789\n2-39-78-366      759\n2-39-95-27       737\n2-39-88-24       694\n2-39-79-383      683\n2-39-124-22      665\n2-39-79-378      645\n2-39-78-363      615\n2-39-128-18      612\n2-39-79-381      587\n2-39-79-376      581\n2-39-78-360      578\n2-39-90-26       567\n2-39-126-20      561\n2-39-92-436      558\n2-39-78-367      533\n2-39-78-361      529\n2-39-79-382      506\n2-39-92-442      503\n2-39-78-364      458\n2-39-91-441      452\n2-39-78-362      452\n2-39-90-440      432\n2-39-95-444      396\n2-39-88-438      332\n2-39-89-439      330\n2-39-123-557     247\n2-39-83-386      200\n2-39-138-566     175\n2-39-124-558     149\n2-39-130-564     136\n2-39-126-560     124\n2-39-128-562     120\n2-39-139-567     108\n2-39-131-565     104\n2-39-127-561      90\n2-39-129-563      88\n2-39-83-387       76\n2-39-125-559      74\n2-39-82-384       15\n2-39-82-385        8\nName: stationID, dtype: int64"
     },
     "execution_count": 37,
     "metadata": {},
     "output_type": "execute_result"
    }
   ],
   "source": [
    "df.stationID.value_counts()"
   ],
   "metadata": {
    "collapsed": false,
    "ExecuteTime": {
     "end_time": "2024-02-27T22:36:26.916729Z",
     "start_time": "2024-02-27T22:36:26.875104Z"
    }
   },
   "id": "9d32fd1fadb6adff",
   "execution_count": 37
  },
  {
   "cell_type": "code",
   "outputs": [],
   "source": [
    "def get_results(y_test, prediction):\n",
    "    cm = confusion_matrix(y_test,prediction)\n",
    "    make_classification_plot(cm)\n",
    "    \n",
    "    results = {'tpr': cm[1, 1]/np.sum(cm[1]),\n",
    "               'fpr': cm[0,1]/np.sum(cm[0]),\n",
    "               'accuracy': accuracy_score(y_test, prediction),\n",
    "               'precision': precision_score(y_test, prediction),\n",
    "               'recall': recall_score(y_test, prediction),\n",
    "        'f1':f1_score(y_test,prediction)}\n",
    "    return results"
   ],
   "metadata": {
    "collapsed": false,
    "ExecuteTime": {
     "end_time": "2024-02-27T20:50:01.709916Z",
     "start_time": "2024-02-27T20:50:01.694154Z"
    }
   },
   "id": "196e9838b4e672ca",
   "execution_count": 5
  },
  {
   "cell_type": "code",
   "outputs": [],
   "source": [
    "def make_classification_plot(cm):\n",
    "    disp = ConfusionMatrixDisplay(cm)\n",
    "    disp = disp.plot(include_values=True, cmap='viridis', ax=None, xticks_rotation='horizontal')\n",
    "    plt.grid(False)\n",
    "    plt.show()"
   ],
   "metadata": {
    "collapsed": false,
    "ExecuteTime": {
     "end_time": "2024-02-27T20:50:01.731699Z",
     "start_time": "2024-02-27T20:50:01.701261Z"
    }
   },
   "id": "90d5fcd9331993b2",
   "execution_count": 6
  },
  {
   "cell_type": "code",
   "outputs": [],
   "source": [
    "results = {}"
   ],
   "metadata": {
    "collapsed": false,
    "ExecuteTime": {
     "end_time": "2024-02-27T20:50:01.743952Z",
     "start_time": "2024-02-27T20:50:01.712195Z"
    }
   },
   "id": "5d4d6100fda7d696",
   "execution_count": 7
  },
  {
   "cell_type": "code",
   "outputs": [],
   "source": [
    "# create x and y \n",
    "start = '2018-05-01'\n",
    "end = '2021-09-13'\n",
    "spaceID = 'CA-303'\n",
    "caiso_fp = 'data/caiso_dataset_5min.csv'"
   ],
   "metadata": {
    "collapsed": false,
    "ExecuteTime": {
     "end_time": "2024-02-27T20:50:01.759604Z",
     "start_time": "2024-02-27T20:50:01.716687Z"
    }
   },
   "id": "af878a9be37fce90",
   "execution_count": 8
  },
  {
   "cell_type": "code",
   "outputs": [
    {
     "name": "stderr",
     "output_type": "stream",
     "text": [
      "/Users/varunvenkatesh/Documents/GitHub/ev_charging/src/data_preprocessing.py:67: FutureWarning: The default value of numeric_only in DataFrameGroupBy.mean is deprecated. In a future version, numeric_only will default to False. Either specify numeric_only or select only columns which should be valid for the function.\n",
      "  caiso_hourly = caiso.groupby(pd.Grouper(freq='1h')).mean()\n"
     ]
    }
   ],
   "source": [
    "X = create_x(start, end, caiso_fp)\n",
    "y = create_y(df, start, end, spaceID)"
   ],
   "metadata": {
    "collapsed": false,
    "ExecuteTime": {
     "end_time": "2024-02-27T20:50:06.702170Z",
     "start_time": "2024-02-27T20:50:01.729505Z"
    }
   },
   "id": "ef3d78d26fe1b5b8",
   "execution_count": 9
  },
  {
   "cell_type": "code",
   "outputs": [],
   "source": [
    "#tmp = df.copy()\n",
    "#tmp = tmp[tmp['spaceID'] == 'CA-303'].sort_index()"
   ],
   "metadata": {
    "collapsed": false,
    "ExecuteTime": {
     "end_time": "2024-02-27T20:50:06.716260Z",
     "start_time": "2024-02-27T20:50:06.702676Z"
    }
   },
   "id": "2eb25a34772d82cf",
   "execution_count": 10
  },
  {
   "cell_type": "code",
   "outputs": [],
   "source": [
    "#y = pd.DataFrame(index=pd.date_range('2018-05-1','2021-09-13', inclusive='both', freq='h', tz=0),columns=['is_available','sessionID'])\n",
    "#y['is_available'] = 1\n",
    "#tmp.reset_index(inplace=True)\n",
    "#for i in list(tmp.index):\n",
    "#    start_ = tmp.loc[i,'connectionTime']\n",
    "#    end_ = tmp.loc[i,'disconnectTime'] \n",
    "#    session_ = tmp.loc[i,'sessionID']\n",
    "#    y.loc[start_:end_,['is_available','sessionID']] = 0, session_"
   ],
   "metadata": {
    "collapsed": false,
    "ExecuteTime": {
     "end_time": "2024-02-27T20:50:06.717735Z",
     "start_time": "2024-02-27T20:50:06.708155Z"
    }
   },
   "id": "6bc6af8d638c2eed",
   "execution_count": 11
  },
  {
   "cell_type": "code",
   "outputs": [],
   "source": [
    "#y.drop(columns='sessionID', inplace=True)"
   ],
   "metadata": {
    "collapsed": false,
    "ExecuteTime": {
     "end_time": "2024-02-27T20:50:06.748077Z",
     "start_time": "2024-02-27T20:50:06.719937Z"
    }
   },
   "id": "50f9cd24136668ba",
   "execution_count": 12
  },
  {
   "cell_type": "code",
   "outputs": [],
   "source": [
    "#y['is_available'].value_counts()"
   ],
   "metadata": {
    "collapsed": false,
    "ExecuteTime": {
     "end_time": "2024-02-27T20:50:06.750340Z",
     "start_time": "2024-02-27T20:50:06.724994Z"
    }
   },
   "id": "ba1739087f8b8adf",
   "execution_count": 13
  },
  {
   "cell_type": "code",
   "outputs": [],
   "source": [
    "#caiso_df = pd.read_csv('data/caiso_dataset_5min.csv')\n",
    "#caiso_df['datetime'] = pd.to_datetime(caiso_df['date'] + ' ' + caiso_df['Time'], utc=True)\n",
    "#caiso_df.info()"
   ],
   "metadata": {
    "collapsed": false,
    "ExecuteTime": {
     "end_time": "2024-02-27T20:50:06.752301Z",
     "start_time": "2024-02-27T20:50:06.730829Z"
    }
   },
   "id": "2a8be6c1c7d6d8ae",
   "execution_count": 14
  },
  {
   "cell_type": "code",
   "outputs": [],
   "source": [
    "#caiso_df = caiso_df.set_index('datetime')\n",
    "#caiso_hourly = caiso_df.groupby(pd.Grouper(freq='1h')).mean()\n",
    "#caiso_hourly.index.tz_localize(None)\n",
    "#caiso_hourly.head()"
   ],
   "metadata": {
    "collapsed": false,
    "ExecuteTime": {
     "end_time": "2024-02-27T20:50:06.770809Z",
     "start_time": "2024-02-27T20:50:06.737Z"
    }
   },
   "id": "417cd34f774684c3",
   "execution_count": 15
  },
  {
   "cell_type": "code",
   "outputs": [],
   "source": [
    "#print(len(caiso_hourly))"
   ],
   "metadata": {
    "collapsed": false,
    "ExecuteTime": {
     "end_time": "2024-02-27T20:50:06.786776Z",
     "start_time": "2024-02-27T20:50:06.743856Z"
    }
   },
   "id": "be289ab066b1c9f",
   "execution_count": 16
  },
  {
   "cell_type": "code",
   "outputs": [],
   "source": [
    "#X = pd.DataFrame(index=pd.date_range('2018-05-1','2021-09-13', inclusive='both', freq='h', tz=0),columns=['dow','hour','month'])\n",
    "#X = X.join(caiso_hourly)"
   ],
   "metadata": {
    "collapsed": false,
    "ExecuteTime": {
     "end_time": "2024-02-27T20:50:06.808444Z",
     "start_time": "2024-02-27T20:50:06.751431Z"
    }
   },
   "id": "4c0ca1228c27dbbf",
   "execution_count": 17
  },
  {
   "cell_type": "code",
   "outputs": [
    {
     "data": {
      "text/plain": "                           dow  hour  month  is_holiday  Day ahead forecast  \\\n2018-05-01 00:00:00+00:00    1     0      5       False        21013.666667   \n2018-05-01 01:00:00+00:00    1     1      5       False        20133.083333   \n2018-05-01 02:00:00+00:00    1     2      5       False        19582.666667   \n2018-05-01 03:00:00+00:00    1     3      5       False        19423.500000   \n2018-05-01 04:00:00+00:00    1     4      5       False        19879.583333   \n\n                           Hour ahead forecast  Current demand    Net demand  \\\n2018-05-01 00:00:00+00:00         21496.500000    21378.500000  17906.000000   \n2018-05-01 01:00:00+00:00         20673.916667    20644.583333  17251.333333   \n2018-05-01 02:00:00+00:00         20174.083333    20089.166667  16399.916667   \n2018-05-01 03:00:00+00:00         19905.083333    19822.250000  15958.416667   \n2018-05-01 04:00:00+00:00         20325.833333    20321.166667  16600.583333   \n\n                           Net demand forecast  Solar  ...  Geothermal CO2  \\\n2018-05-01 00:00:00+00:00                  NaN    0.0  ...        9.083333   \n2018-05-01 01:00:00+00:00                  NaN    0.0  ...       10.000000   \n2018-05-01 02:00:00+00:00                  NaN    0.0  ...       10.000000   \n2018-05-01 03:00:00+00:00                  NaN    0.0  ...       10.000000   \n2018-05-01 04:00:00+00:00                  NaN    0.0  ...       10.000000   \n\n                           Demand  Net Demand  Day-ahead demand forecast  \\\n2018-05-01 00:00:00+00:00     NaN         NaN                        NaN   \n2018-05-01 01:00:00+00:00     NaN         NaN                        NaN   \n2018-05-01 02:00:00+00:00     NaN         NaN                        NaN   \n2018-05-01 03:00:00+00:00     NaN         NaN                        NaN   \n2018-05-01 04:00:00+00:00     NaN         NaN                        NaN   \n\n                           Day-ahead net demand forecast  \\\n2018-05-01 00:00:00+00:00                            NaN   \n2018-05-01 01:00:00+00:00                            NaN   \n2018-05-01 02:00:00+00:00                            NaN   \n2018-05-01 03:00:00+00:00                            NaN   \n2018-05-01 04:00:00+00:00                            NaN   \n\n                           Resource adequacy capacity forecast  \\\n2018-05-01 00:00:00+00:00                                  NaN   \n2018-05-01 01:00:00+00:00                                  NaN   \n2018-05-01 02:00:00+00:00                                  NaN   \n2018-05-01 03:00:00+00:00                                  NaN   \n2018-05-01 04:00:00+00:00                                  NaN   \n\n                           Net resource adequacy capacity forecast  \\\n2018-05-01 00:00:00+00:00                                      NaN   \n2018-05-01 01:00:00+00:00                                      NaN   \n2018-05-01 02:00:00+00:00                                      NaN   \n2018-05-01 03:00:00+00:00                                      NaN   \n2018-05-01 04:00:00+00:00                                      NaN   \n\n                           Reserve requirement  Reserve requirement forecast  \\\n2018-05-01 00:00:00+00:00                  NaN                           NaN   \n2018-05-01 01:00:00+00:00                  NaN                           NaN   \n2018-05-01 02:00:00+00:00                  NaN                           NaN   \n2018-05-01 03:00:00+00:00                  NaN                           NaN   \n2018-05-01 04:00:00+00:00                  NaN                           NaN   \n\n                           Resource adequacy credits  \n2018-05-01 00:00:00+00:00                        NaN  \n2018-05-01 01:00:00+00:00                        NaN  \n2018-05-01 02:00:00+00:00                        NaN  \n2018-05-01 03:00:00+00:00                        NaN  \n2018-05-01 04:00:00+00:00                        NaN  \n\n[5 rows x 39 columns]",
      "text/html": "<div>\n<style scoped>\n    .dataframe tbody tr th:only-of-type {\n        vertical-align: middle;\n    }\n\n    .dataframe tbody tr th {\n        vertical-align: top;\n    }\n\n    .dataframe thead th {\n        text-align: right;\n    }\n</style>\n<table border=\"1\" class=\"dataframe\">\n  <thead>\n    <tr style=\"text-align: right;\">\n      <th></th>\n      <th>dow</th>\n      <th>hour</th>\n      <th>month</th>\n      <th>is_holiday</th>\n      <th>Day ahead forecast</th>\n      <th>Hour ahead forecast</th>\n      <th>Current demand</th>\n      <th>Net demand</th>\n      <th>Net demand forecast</th>\n      <th>Solar</th>\n      <th>...</th>\n      <th>Geothermal CO2</th>\n      <th>Demand</th>\n      <th>Net Demand</th>\n      <th>Day-ahead demand forecast</th>\n      <th>Day-ahead net demand forecast</th>\n      <th>Resource adequacy capacity forecast</th>\n      <th>Net resource adequacy capacity forecast</th>\n      <th>Reserve requirement</th>\n      <th>Reserve requirement forecast</th>\n      <th>Resource adequacy credits</th>\n    </tr>\n  </thead>\n  <tbody>\n    <tr>\n      <th>2018-05-01 00:00:00+00:00</th>\n      <td>1</td>\n      <td>0</td>\n      <td>5</td>\n      <td>False</td>\n      <td>21013.666667</td>\n      <td>21496.500000</td>\n      <td>21378.500000</td>\n      <td>17906.000000</td>\n      <td>NaN</td>\n      <td>0.0</td>\n      <td>...</td>\n      <td>9.083333</td>\n      <td>NaN</td>\n      <td>NaN</td>\n      <td>NaN</td>\n      <td>NaN</td>\n      <td>NaN</td>\n      <td>NaN</td>\n      <td>NaN</td>\n      <td>NaN</td>\n      <td>NaN</td>\n    </tr>\n    <tr>\n      <th>2018-05-01 01:00:00+00:00</th>\n      <td>1</td>\n      <td>1</td>\n      <td>5</td>\n      <td>False</td>\n      <td>20133.083333</td>\n      <td>20673.916667</td>\n      <td>20644.583333</td>\n      <td>17251.333333</td>\n      <td>NaN</td>\n      <td>0.0</td>\n      <td>...</td>\n      <td>10.000000</td>\n      <td>NaN</td>\n      <td>NaN</td>\n      <td>NaN</td>\n      <td>NaN</td>\n      <td>NaN</td>\n      <td>NaN</td>\n      <td>NaN</td>\n      <td>NaN</td>\n      <td>NaN</td>\n    </tr>\n    <tr>\n      <th>2018-05-01 02:00:00+00:00</th>\n      <td>1</td>\n      <td>2</td>\n      <td>5</td>\n      <td>False</td>\n      <td>19582.666667</td>\n      <td>20174.083333</td>\n      <td>20089.166667</td>\n      <td>16399.916667</td>\n      <td>NaN</td>\n      <td>0.0</td>\n      <td>...</td>\n      <td>10.000000</td>\n      <td>NaN</td>\n      <td>NaN</td>\n      <td>NaN</td>\n      <td>NaN</td>\n      <td>NaN</td>\n      <td>NaN</td>\n      <td>NaN</td>\n      <td>NaN</td>\n      <td>NaN</td>\n    </tr>\n    <tr>\n      <th>2018-05-01 03:00:00+00:00</th>\n      <td>1</td>\n      <td>3</td>\n      <td>5</td>\n      <td>False</td>\n      <td>19423.500000</td>\n      <td>19905.083333</td>\n      <td>19822.250000</td>\n      <td>15958.416667</td>\n      <td>NaN</td>\n      <td>0.0</td>\n      <td>...</td>\n      <td>10.000000</td>\n      <td>NaN</td>\n      <td>NaN</td>\n      <td>NaN</td>\n      <td>NaN</td>\n      <td>NaN</td>\n      <td>NaN</td>\n      <td>NaN</td>\n      <td>NaN</td>\n      <td>NaN</td>\n    </tr>\n    <tr>\n      <th>2018-05-01 04:00:00+00:00</th>\n      <td>1</td>\n      <td>4</td>\n      <td>5</td>\n      <td>False</td>\n      <td>19879.583333</td>\n      <td>20325.833333</td>\n      <td>20321.166667</td>\n      <td>16600.583333</td>\n      <td>NaN</td>\n      <td>0.0</td>\n      <td>...</td>\n      <td>10.000000</td>\n      <td>NaN</td>\n      <td>NaN</td>\n      <td>NaN</td>\n      <td>NaN</td>\n      <td>NaN</td>\n      <td>NaN</td>\n      <td>NaN</td>\n      <td>NaN</td>\n      <td>NaN</td>\n    </tr>\n  </tbody>\n</table>\n<p>5 rows × 39 columns</p>\n</div>"
     },
     "execution_count": 18,
     "metadata": {},
     "output_type": "execute_result"
    }
   ],
   "source": [
    "X.head()"
   ],
   "metadata": {
    "collapsed": false,
    "ExecuteTime": {
     "end_time": "2024-02-27T20:50:06.827610Z",
     "start_time": "2024-02-27T20:50:06.780445Z"
    }
   },
   "id": "7f8e89e998e0fd05",
   "execution_count": 18
  },
  {
   "cell_type": "code",
   "outputs": [],
   "source": [
    "#X['dow'] = X.index.dayofweek\n",
    "#X['hour'] = X.index.hour\n",
    "#X['month'] = X.index.month\n",
    "#X['connectionTime'] = X.index\n",
    "#X = holiday_processing(X).drop(columns=['connectionTime'])\n",
    "#X.head()"
   ],
   "metadata": {
    "collapsed": false,
    "ExecuteTime": {
     "end_time": "2024-02-27T20:50:06.831475Z",
     "start_time": "2024-02-27T20:50:06.787462Z"
    }
   },
   "id": "84cbd37ea1d0f694",
   "execution_count": 19
  },
  {
   "cell_type": "code",
   "outputs": [
    {
     "name": "stdout",
     "output_type": "stream",
     "text": [
      "charger CA-303 is available is_available    69.964\n",
      "dtype: float64% of the time\n"
     ]
    },
    {
     "name": "stderr",
     "output_type": "stream",
     "text": [
      "/var/folders/7p/8d9trt0n3szgfv_nhh5rk6v00000gn/T/ipykernel_43218/1108395309.py:1: FutureWarning: The default value of numeric_only in DataFrame.mean is deprecated. In a future version, it will default to False. In addition, specifying 'numeric_only=None' is deprecated. Select only valid columns or specify the value of numeric_only to silence this warning.\n",
      "  print(f'charger CA-303 is available {np.round(y.mean()*100,3)}% of the time')\n"
     ]
    }
   ],
   "source": [
    "print(f'charger CA-303 is available {np.round(y.mean()*100,3)}% of the time')"
   ],
   "metadata": {
    "collapsed": false,
    "ExecuteTime": {
     "end_time": "2024-02-27T20:50:06.871621Z",
     "start_time": "2024-02-27T20:50:06.800709Z"
    }
   },
   "id": "21d6e1b9a8eb63bf",
   "execution_count": 20
  },
  {
   "cell_type": "code",
   "outputs": [],
   "source": [
    "X.fillna(0.0, inplace=True)"
   ],
   "metadata": {
    "collapsed": false,
    "ExecuteTime": {
     "end_time": "2024-02-27T20:50:06.895802Z",
     "start_time": "2024-02-27T20:50:06.811710Z"
    }
   },
   "id": "9417d2cf7cd9652d",
   "execution_count": 21
  },
  {
   "cell_type": "code",
   "outputs": [
    {
     "name": "stdout",
     "output_type": "stream",
     "text": [
      "<class 'pandas.core.frame.DataFrame'>\n",
      "DatetimeIndex: 29545 entries, 2018-05-01 00:00:00+00:00 to 2021-09-13 00:00:00+00:00\n",
      "Freq: H\n",
      "Data columns (total 39 columns):\n",
      " #   Column                                   Non-Null Count  Dtype  \n",
      "---  ------                                   --------------  -----  \n",
      " 0   dow                                      29545 non-null  int64  \n",
      " 1   hour                                     29545 non-null  int64  \n",
      " 2   month                                    29545 non-null  int64  \n",
      " 3   is_holiday                               29545 non-null  bool   \n",
      " 4   Day ahead forecast                       29545 non-null  float64\n",
      " 5   Hour ahead forecast                      29545 non-null  float64\n",
      " 6   Current demand                           29545 non-null  float64\n",
      " 7   Net demand                               29545 non-null  float64\n",
      " 8   Net demand forecast                      29545 non-null  float64\n",
      " 9   Solar                                    29545 non-null  float64\n",
      " 10  Wind                                     29545 non-null  float64\n",
      " 11  Geothermal                               29545 non-null  float64\n",
      " 12  Biomass                                  29545 non-null  float64\n",
      " 13  Biogas                                   29545 non-null  float64\n",
      " 14  Small hydro                              29545 non-null  float64\n",
      " 15  Coal                                     29545 non-null  float64\n",
      " 16  Nuclear                                  29545 non-null  float64\n",
      " 17  Natural gas                              29545 non-null  float64\n",
      " 18  Large hydro                              29545 non-null  float64\n",
      " 19  Batteries                                29545 non-null  float64\n",
      " 20  Imports                                  29545 non-null  float64\n",
      " 21  Other                                    29545 non-null  float64\n",
      " 22  Natural Gas                              29545 non-null  float64\n",
      " 23  Large Hydro                              29545 non-null  float64\n",
      " 24  Biogas CO2                               29545 non-null  float64\n",
      " 25  Biomass CO2                              29545 non-null  float64\n",
      " 26  Natural Gas CO2                          29545 non-null  float64\n",
      " 27  Coal CO2                                 29545 non-null  float64\n",
      " 28  Imports CO2                              29545 non-null  float64\n",
      " 29  Geothermal CO2                           29545 non-null  float64\n",
      " 30  Demand                                   29545 non-null  float64\n",
      " 31  Net Demand                               29545 non-null  float64\n",
      " 32  Day-ahead demand forecast                29545 non-null  float64\n",
      " 33  Day-ahead net demand forecast            29545 non-null  float64\n",
      " 34  Resource adequacy capacity forecast      29545 non-null  float64\n",
      " 35  Net resource adequacy capacity forecast  29545 non-null  float64\n",
      " 36  Reserve requirement                      29545 non-null  float64\n",
      " 37  Reserve requirement forecast             29545 non-null  float64\n",
      " 38  Resource adequacy credits                29545 non-null  float64\n",
      "dtypes: bool(1), float64(35), int64(3)\n",
      "memory usage: 9.8 MB\n"
     ]
    }
   ],
   "source": [
    "X.info()"
   ],
   "metadata": {
    "collapsed": false,
    "ExecuteTime": {
     "end_time": "2024-02-27T20:50:06.919452Z",
     "start_time": "2024-02-27T20:50:06.837485Z"
    }
   },
   "id": "880c02b692be5005",
   "execution_count": 22
  },
  {
   "cell_type": "code",
   "outputs": [
    {
     "data": {
      "text/plain": "True"
     },
     "execution_count": 23,
     "metadata": {},
     "output_type": "execute_result"
    }
   ],
   "source": [
    "X.shape[0] == y.shape[0]"
   ],
   "metadata": {
    "collapsed": false,
    "ExecuteTime": {
     "end_time": "2024-02-27T20:50:07.012981Z",
     "start_time": "2024-02-27T20:50:06.858145Z"
    }
   },
   "id": "3fcd5be72586dcbb",
   "execution_count": 23
  },
  {
   "cell_type": "markdown",
   "source": [
    "# LSTM"
   ],
   "metadata": {
    "collapsed": false
   },
   "id": "baa5daf8007c1f1f"
  },
  {
   "cell_type": "code",
   "outputs": [
    {
     "name": "stdout",
     "output_type": "stream",
     "text": [
      "the training data has an average availability of is_available    69.652\n",
      "dtype: float64%\n"
     ]
    },
    {
     "name": "stderr",
     "output_type": "stream",
     "text": [
      "/var/folders/7p/8d9trt0n3szgfv_nhh5rk6v00000gn/T/ipykernel_43218/2810031212.py:4: FutureWarning: The default value of numeric_only in DataFrame.mean is deprecated. In a future version, it will default to False. In addition, specifying 'numeric_only=None' is deprecated. Select only valid columns or specify the value of numeric_only to silence this warning.\n",
      "  print(f'the training data has an average availability of {np.round(y_train.mean()*100,3)}%')\n"
     ]
    }
   ],
   "source": [
    "# Create hold out test set\n",
    "bin_numbers = pd.qcut(y['is_available'], q=10, labels=False, duplicates='drop')\n",
    "X_train, X_test, y_train, y_test = train_test_split(X, y, test_size = .2, stratify=bin_numbers, random_state=42)\n",
    "print(f'the training data has an average availability of {np.round(y_train.mean()*100,3)}%')"
   ],
   "metadata": {
    "collapsed": false,
    "ExecuteTime": {
     "end_time": "2024-02-27T20:50:07.070162Z",
     "start_time": "2024-02-27T20:50:06.870860Z"
    }
   },
   "id": "4cf4910a8b67b42f",
   "execution_count": 24
  },
  {
   "cell_type": "code",
   "outputs": [
    {
     "name": "stderr",
     "output_type": "stream",
     "text": [
      "2024-02-27 12:50:06.992272: I tensorflow/core/platform/cpu_feature_guard.cc:193] This TensorFlow binary is optimized with oneAPI Deep Neural Network Library (oneDNN) to use the following CPU instructions in performance-critical operations:  SSE4.1 SSE4.2 AVX AVX2 FMA\n",
      "To enable them in other operations, rebuild TensorFlow with the appropriate compiler flags.\n"
     ]
    }
   ],
   "source": [
    "from sklearn.preprocessing import MinMaxScaler\n",
    "import tensorflow as tf\n",
    "from tensorflow.keras.layers import LSTM, Dense, Dropout\n",
    "from tensorflow.keras.models import Sequential\n",
    "tf.random.set_seed(42)"
   ],
   "metadata": {
    "collapsed": false,
    "ExecuteTime": {
     "end_time": "2024-02-27T20:50:11.205144Z",
     "start_time": "2024-02-27T20:50:06.908360Z"
    }
   },
   "id": "20eb8fa6ce3abd1d",
   "execution_count": 25
  },
  {
   "cell_type": "code",
   "outputs": [],
   "source": [
    "#scaler = MinMaxScaler(feature_range=(0,1))\n",
    "look_back = 1"
   ],
   "metadata": {
    "collapsed": false,
    "ExecuteTime": {
     "end_time": "2024-02-27T20:50:11.220433Z",
     "start_time": "2024-02-27T20:50:11.205755Z"
    }
   },
   "id": "8a29fa550e4333b5",
   "execution_count": 26
  },
  {
   "cell_type": "code",
   "outputs": [
    {
     "name": "stderr",
     "output_type": "stream",
     "text": [
      "2024-02-27 12:50:11.215044: I tensorflow/core/platform/cpu_feature_guard.cc:193] This TensorFlow binary is optimized with oneAPI Deep Neural Network Library (oneDNN) to use the following CPU instructions in performance-critical operations:  SSE4.1 SSE4.2 AVX AVX2 FMA\n",
      "To enable them in other operations, rebuild TensorFlow with the appropriate compiler flags.\n"
     ]
    }
   ],
   "source": [
    "model = Sequential()\n",
    "model.add(LSTM(4, input_shape=(1,39)))\n",
    "model.add(Dense(1))\n",
    "model.compile(loss='mean_squared_error', optimizer='adam')"
   ],
   "metadata": {
    "collapsed": false,
    "ExecuteTime": {
     "end_time": "2024-02-27T20:50:11.722165Z",
     "start_time": "2024-02-27T20:50:11.213742Z"
    }
   },
   "id": "ab6614c14f604bf",
   "execution_count": 27
  },
  {
   "cell_type": "code",
   "outputs": [],
   "source": [
    "X_train = np.reshape(X_train.values.astype(float), (X_train.shape[0], 1, X_train.shape[1]))\n",
    "X_test = np.reshape(X_test.values.astype(float), (X_test.shape[0], 1, X_test.shape[1]))"
   ],
   "metadata": {
    "collapsed": false,
    "ExecuteTime": {
     "end_time": "2024-02-27T20:50:11.844386Z",
     "start_time": "2024-02-27T20:50:11.724482Z"
    }
   },
   "id": "4d3589df17bcc2b8",
   "execution_count": 28
  },
  {
   "cell_type": "code",
   "outputs": [
    {
     "name": "stdout",
     "output_type": "stream",
     "text": [
      "(None, 1, 39) <dtype: 'float32'>\n",
      "(None, 1) <dtype: 'float32'>\n",
      "lstm (None, 1, 39) float32\n",
      "dense (None, 4) float32\n"
     ]
    },
    {
     "data": {
      "text/plain": "[None, None]"
     },
     "execution_count": 29,
     "metadata": {},
     "output_type": "execute_result"
    }
   ],
   "source": [
    "[print(i.shape, i.dtype) for i in model.inputs]\n",
    "[print(o.shape, o.dtype) for o in model.outputs]\n",
    "[print(l.name, l.input_shape, l.dtype) for l in model.layers]"
   ],
   "metadata": {
    "collapsed": false,
    "ExecuteTime": {
     "end_time": "2024-02-27T20:50:11.851848Z",
     "start_time": "2024-02-27T20:50:11.845172Z"
    }
   },
   "id": "46a164c7d2f40e6d",
   "execution_count": 29
  },
  {
   "cell_type": "code",
   "outputs": [
    {
     "data": {
      "text/plain": "(23636, 1, 39)"
     },
     "execution_count": 30,
     "metadata": {},
     "output_type": "execute_result"
    }
   ],
   "source": [
    "X_train.shape"
   ],
   "metadata": {
    "collapsed": false,
    "ExecuteTime": {
     "end_time": "2024-02-27T20:50:11.867772Z",
     "start_time": "2024-02-27T20:50:11.851742Z"
    }
   },
   "id": "dfda6a1daa43aed8",
   "execution_count": 30
  },
  {
   "cell_type": "code",
   "outputs": [],
   "source": [],
   "metadata": {
    "collapsed": false,
    "ExecuteTime": {
     "end_time": "2024-02-27T20:50:11.869412Z",
     "start_time": "2024-02-27T20:50:11.858464Z"
    }
   },
   "id": "395dd32c6dabd4bf",
   "execution_count": 30
  },
  {
   "cell_type": "code",
   "outputs": [],
   "source": [
    "y_train = y_train.drop('sessionID', axis=1) \n",
    "y_test = y_test.drop('sessionID', axis=1)"
   ],
   "metadata": {
    "collapsed": false,
    "ExecuteTime": {
     "end_time": "2024-02-27T20:50:11.914665Z",
     "start_time": "2024-02-27T20:50:11.864674Z"
    }
   },
   "id": "7400a2d72281f281",
   "execution_count": 31
  },
  {
   "cell_type": "code",
   "outputs": [
    {
     "name": "stdout",
     "output_type": "stream",
     "text": [
      "Epoch 1/10\n",
      "2955/2955 - 7s - loss: 0.3650 - 7s/epoch - 3ms/step\n",
      "Epoch 2/10\n",
      "2955/2955 - 5s - loss: 0.2070 - 5s/epoch - 2ms/step\n",
      "Epoch 3/10\n",
      "2955/2955 - 4s - loss: 0.2104 - 4s/epoch - 1ms/step\n",
      "Epoch 4/10\n",
      "2955/2955 - 4s - loss: 0.2112 - 4s/epoch - 1ms/step\n",
      "Epoch 5/10\n",
      "2955/2955 - 4s - loss: 0.2111 - 4s/epoch - 1ms/step\n",
      "Epoch 6/10\n",
      "2955/2955 - 4s - loss: 0.2113 - 4s/epoch - 1ms/step\n",
      "Epoch 7/10\n",
      "2955/2955 - 4s - loss: 0.2112 - 4s/epoch - 1ms/step\n",
      "Epoch 8/10\n",
      "2955/2955 - 4s - loss: 0.2112 - 4s/epoch - 2ms/step\n",
      "Epoch 9/10\n",
      "2955/2955 - 5s - loss: 0.2112 - 5s/epoch - 2ms/step\n",
      "Epoch 10/10\n",
      "2955/2955 - 4s - loss: 0.2111 - 4s/epoch - 2ms/step\n"
     ]
    },
    {
     "data": {
      "text/plain": "<keras.callbacks.History at 0x7fd6404f99c0>"
     },
     "execution_count": 32,
     "metadata": {},
     "output_type": "execute_result"
    }
   ],
   "source": [
    "model.fit(X_train, y_train, epochs=10, batch_size=8, verbose=2)"
   ],
   "metadata": {
    "collapsed": false,
    "ExecuteTime": {
     "end_time": "2024-02-27T20:50:59.628266Z",
     "start_time": "2024-02-27T20:50:11.873846Z"
    }
   },
   "id": "8f361723b734b37a",
   "execution_count": 32
  },
  {
   "cell_type": "code",
   "outputs": [
    {
     "name": "stdout",
     "output_type": "stream",
     "text": [
      "185/185 [==============================] - 1s 1ms/step\n"
     ]
    }
   ],
   "source": [
    "predictions = model.predict(X_test)"
   ],
   "metadata": {
    "collapsed": false,
    "ExecuteTime": {
     "end_time": "2024-02-27T20:51:00.484569Z",
     "start_time": "2024-02-27T20:50:59.626168Z"
    }
   },
   "id": "d29c229d5ea17451",
   "execution_count": 33
  },
  {
   "cell_type": "code",
   "outputs": [],
   "source": [
    "from sklearn.metrics import mean_squared_error"
   ],
   "metadata": {
    "collapsed": false,
    "ExecuteTime": {
     "end_time": "2024-02-27T20:51:00.495172Z",
     "start_time": "2024-02-27T20:51:00.485619Z"
    }
   },
   "id": "c4c9771eddeb4dfd",
   "execution_count": 34
  },
  {
   "cell_type": "code",
   "outputs": [
    {
     "name": "stdout",
     "output_type": "stream",
     "text": [
      "Mean Squared Error: 0.20553199554367607\n"
     ]
    }
   ],
   "source": [
    "# MSE with CAISO\n",
    "score = mean_squared_error(y_test, predictions)\n",
    "print(f'Mean Squared Error: {score}')"
   ],
   "metadata": {
    "collapsed": false,
    "ExecuteTime": {
     "end_time": "2024-02-27T20:51:00.499713Z",
     "start_time": "2024-02-27T20:51:00.493517Z"
    }
   },
   "id": "f01801a36bfda0c1",
   "execution_count": 35
  },
  {
   "cell_type": "markdown",
   "source": [
    "# XGBoost"
   ],
   "metadata": {
    "collapsed": false
   },
   "id": "19c0401ad88d967d"
  },
  {
   "cell_type": "code",
   "outputs": [],
   "source": [
    "from xgboost import XGBClassifier"
   ],
   "metadata": {
    "collapsed": false
   },
   "id": "f05de45290c91b4e"
  }
 ],
 "metadata": {
  "kernelspec": {
   "display_name": "Python 3",
   "language": "python",
   "name": "python3"
  },
  "language_info": {
   "codemirror_mode": {
    "name": "ipython",
    "version": 2
   },
   "file_extension": ".py",
   "mimetype": "text/x-python",
   "name": "python",
   "nbconvert_exporter": "python",
   "pygments_lexer": "ipython2",
   "version": "2.7.6"
  }
 },
 "nbformat": 4,
 "nbformat_minor": 5
}
