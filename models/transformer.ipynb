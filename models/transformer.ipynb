{
 "cells": [
  {
   "cell_type": "code",
   "execution_count": 1,
   "id": "initial_id",
   "metadata": {
    "collapsed": true,
    "ExecuteTime": {
     "end_time": "2024-03-04T19:50:06.814798Z",
     "start_time": "2024-03-04T19:50:06.477871Z"
    }
   },
   "outputs": [],
   "source": [
    "import warnings\n",
    "warnings.simplefilter(action='ignore', category=FutureWarning)\n",
    "\n",
    "import pandas as pd\n",
    "import numpy as np\n",
    "import matplotlib.pyplot as plt\n",
    "from src.data_preprocessing import datetime_processing, userinput_processing, holiday_processing, create_x, create_y\n",
    "\n",
    "from sklearn.model_selection import train_test_split\n",
    "from sklearn.linear_model import LogisticRegression\n",
    "from sklearn.preprocessing import OneHotEncoder\n",
    "from sklearn.pipeline import Pipeline\n",
    "\n",
    "from sklearn.metrics import confusion_matrix, ConfusionMatrixDisplay, f1_score, precision_score, recall_score, accuracy_score"
   ]
  },
  {
   "cell_type": "code",
   "outputs": [
    {
     "data": {
      "text/plain": "'/Users/varunvenkatesh/Documents/GitHub/ev_charging'"
     },
     "execution_count": 2,
     "metadata": {},
     "output_type": "execute_result"
    }
   ],
   "source": [
    "import os\n",
    "os.chdir('/Users/varunvenkatesh/Documents/Github/ev_charging')\n",
    "os.getcwd()"
   ],
   "metadata": {
    "collapsed": false,
    "ExecuteTime": {
     "end_time": "2024-03-04T19:50:06.824223Z",
     "start_time": "2024-03-04T19:50:06.816349Z"
    }
   },
   "id": "327bb068e01e5757",
   "execution_count": 2
  },
  {
   "cell_type": "code",
   "outputs": [],
   "source": [
    "df = pd.read_parquet('data/sessions/caltech/').reset_index(drop=True)\n",
    "df = datetime_processing(df)\n",
    "df = userinput_processing(df)\n",
    "df = holiday_processing(df)"
   ],
   "metadata": {
    "collapsed": false,
    "ExecuteTime": {
     "end_time": "2024-03-04T19:50:20.302743Z",
     "start_time": "2024-03-04T19:50:06.829363Z"
    }
   },
   "id": "f819a8923d068970",
   "execution_count": 3
  },
  {
   "cell_type": "code",
   "outputs": [
    {
     "data": {
      "text/plain": "                        _id                               sessionID  \\\n0  5bc9160af9af8b0dad3c0690   2_39_95_27_2018-05-01 13:23:18.374684   \n1  5bc9160af9af8b0dad3c0691  2_39_79_380_2018-05-01 13:54:33.599590   \n2  5bc9160af9af8b0dad3c0692  2_39_139_28_2018-05-01 14:46:04.441389   \n3  5bc9160af9af8b0dad3c0693  2_39_79_378_2018-05-01 14:56:28.908623   \n4  5bc9160af9af8b0dad3c0694   2_39_88_24_2018-05-01 15:14:50.443137   \n\n     stationID spaceID  siteID  clusterID            connectionTime  \\\n0   2-39-95-27  CA-319       2         39 2018-05-01 13:23:18+00:00   \n1  2-39-79-380  CA-489       2         39 2018-05-01 13:54:34+00:00   \n2  2-39-139-28  CA-303       2         39 2018-05-01 14:46:04+00:00   \n3  2-39-79-378  CA-326       2         39 2018-05-01 14:56:29+00:00   \n4   2-39-88-24  CA-314       2         39 2018-05-01 15:14:50+00:00   \n\n             disconnectTime  kWhDelivered          doneChargingTime  ...  \\\n0 2018-05-02 01:53:41+00:00        13.410 2018-05-01 17:17:07+00:00  ...   \n1 2018-05-01 23:15:35+00:00         8.618 2018-05-01 15:35:39+00:00  ...   \n2 2018-05-02 00:54:07+00:00        13.969 2018-05-01 23:57:02+00:00  ...   \n3 2018-05-01 21:52:45+00:00         6.914 2018-05-01 16:07:56+00:00  ...   \n4 2018-05-01 22:51:30+00:00        13.785 2018-05-01 20:18:12+00:00  ...   \n\n  doneChargingTimeDay  userID  milesRequested  WhPerMile  minutesAvailable  \\\n0                 1.0     NaN             NaN        NaN               NaN   \n1                 1.0     NaN             NaN        NaN               NaN   \n2                 1.0     NaN             NaN        NaN               NaN   \n3                 1.0     NaN             NaN        NaN               NaN   \n4                 1.0     NaN             NaN        NaN               NaN   \n\n   modifiedAt  paymentRequired  requestedDeparture  kWhRequested  is_holiday  \n0        None             None                None           NaN       False  \n1        None             None                None           NaN       False  \n2        None             None                None           NaN       False  \n3        None             None                None           NaN       False  \n4        None             None                None           NaN       False  \n\n[5 rows x 26 columns]",
      "text/html": "<div>\n<style scoped>\n    .dataframe tbody tr th:only-of-type {\n        vertical-align: middle;\n    }\n\n    .dataframe tbody tr th {\n        vertical-align: top;\n    }\n\n    .dataframe thead th {\n        text-align: right;\n    }\n</style>\n<table border=\"1\" class=\"dataframe\">\n  <thead>\n    <tr style=\"text-align: right;\">\n      <th></th>\n      <th>_id</th>\n      <th>sessionID</th>\n      <th>stationID</th>\n      <th>spaceID</th>\n      <th>siteID</th>\n      <th>clusterID</th>\n      <th>connectionTime</th>\n      <th>disconnectTime</th>\n      <th>kWhDelivered</th>\n      <th>doneChargingTime</th>\n      <th>...</th>\n      <th>doneChargingTimeDay</th>\n      <th>userID</th>\n      <th>milesRequested</th>\n      <th>WhPerMile</th>\n      <th>minutesAvailable</th>\n      <th>modifiedAt</th>\n      <th>paymentRequired</th>\n      <th>requestedDeparture</th>\n      <th>kWhRequested</th>\n      <th>is_holiday</th>\n    </tr>\n  </thead>\n  <tbody>\n    <tr>\n      <th>0</th>\n      <td>5bc9160af9af8b0dad3c0690</td>\n      <td>2_39_95_27_2018-05-01 13:23:18.374684</td>\n      <td>2-39-95-27</td>\n      <td>CA-319</td>\n      <td>2</td>\n      <td>39</td>\n      <td>2018-05-01 13:23:18+00:00</td>\n      <td>2018-05-02 01:53:41+00:00</td>\n      <td>13.410</td>\n      <td>2018-05-01 17:17:07+00:00</td>\n      <td>...</td>\n      <td>1.0</td>\n      <td>NaN</td>\n      <td>NaN</td>\n      <td>NaN</td>\n      <td>NaN</td>\n      <td>None</td>\n      <td>None</td>\n      <td>None</td>\n      <td>NaN</td>\n      <td>False</td>\n    </tr>\n    <tr>\n      <th>1</th>\n      <td>5bc9160af9af8b0dad3c0691</td>\n      <td>2_39_79_380_2018-05-01 13:54:33.599590</td>\n      <td>2-39-79-380</td>\n      <td>CA-489</td>\n      <td>2</td>\n      <td>39</td>\n      <td>2018-05-01 13:54:34+00:00</td>\n      <td>2018-05-01 23:15:35+00:00</td>\n      <td>8.618</td>\n      <td>2018-05-01 15:35:39+00:00</td>\n      <td>...</td>\n      <td>1.0</td>\n      <td>NaN</td>\n      <td>NaN</td>\n      <td>NaN</td>\n      <td>NaN</td>\n      <td>None</td>\n      <td>None</td>\n      <td>None</td>\n      <td>NaN</td>\n      <td>False</td>\n    </tr>\n    <tr>\n      <th>2</th>\n      <td>5bc9160af9af8b0dad3c0692</td>\n      <td>2_39_139_28_2018-05-01 14:46:04.441389</td>\n      <td>2-39-139-28</td>\n      <td>CA-303</td>\n      <td>2</td>\n      <td>39</td>\n      <td>2018-05-01 14:46:04+00:00</td>\n      <td>2018-05-02 00:54:07+00:00</td>\n      <td>13.969</td>\n      <td>2018-05-01 23:57:02+00:00</td>\n      <td>...</td>\n      <td>1.0</td>\n      <td>NaN</td>\n      <td>NaN</td>\n      <td>NaN</td>\n      <td>NaN</td>\n      <td>None</td>\n      <td>None</td>\n      <td>None</td>\n      <td>NaN</td>\n      <td>False</td>\n    </tr>\n    <tr>\n      <th>3</th>\n      <td>5bc9160af9af8b0dad3c0693</td>\n      <td>2_39_79_378_2018-05-01 14:56:28.908623</td>\n      <td>2-39-79-378</td>\n      <td>CA-326</td>\n      <td>2</td>\n      <td>39</td>\n      <td>2018-05-01 14:56:29+00:00</td>\n      <td>2018-05-01 21:52:45+00:00</td>\n      <td>6.914</td>\n      <td>2018-05-01 16:07:56+00:00</td>\n      <td>...</td>\n      <td>1.0</td>\n      <td>NaN</td>\n      <td>NaN</td>\n      <td>NaN</td>\n      <td>NaN</td>\n      <td>None</td>\n      <td>None</td>\n      <td>None</td>\n      <td>NaN</td>\n      <td>False</td>\n    </tr>\n    <tr>\n      <th>4</th>\n      <td>5bc9160af9af8b0dad3c0694</td>\n      <td>2_39_88_24_2018-05-01 15:14:50.443137</td>\n      <td>2-39-88-24</td>\n      <td>CA-314</td>\n      <td>2</td>\n      <td>39</td>\n      <td>2018-05-01 15:14:50+00:00</td>\n      <td>2018-05-01 22:51:30+00:00</td>\n      <td>13.785</td>\n      <td>2018-05-01 20:18:12+00:00</td>\n      <td>...</td>\n      <td>1.0</td>\n      <td>NaN</td>\n      <td>NaN</td>\n      <td>NaN</td>\n      <td>NaN</td>\n      <td>None</td>\n      <td>None</td>\n      <td>None</td>\n      <td>NaN</td>\n      <td>False</td>\n    </tr>\n  </tbody>\n</table>\n<p>5 rows × 26 columns</p>\n</div>"
     },
     "execution_count": 4,
     "metadata": {},
     "output_type": "execute_result"
    }
   ],
   "source": [
    "df.head()"
   ],
   "metadata": {
    "collapsed": false,
    "ExecuteTime": {
     "end_time": "2024-03-04T19:50:20.340792Z",
     "start_time": "2024-03-04T19:50:20.304628Z"
    }
   },
   "id": "d4367b4a837731e7",
   "execution_count": 4
  },
  {
   "cell_type": "code",
   "outputs": [
    {
     "data": {
      "text/plain": "2-39-139-28     1792\n2-39-131-30     1399\n2-39-129-17     1136\n2-39-81-4550    1126\n2-39-89-25      1086\n2-39-125-21     1042\n2-39-127-19     1022\n2-39-138-29      994\n2-39-79-379      932\n2-39-123-23      908\n2-39-79-380      892\n2-39-78-365      862\n2-39-91-437      846\n2-39-79-377      820\n2-39-130-31      789\n2-39-78-366      759\n2-39-95-27       737\n2-39-88-24       694\n2-39-79-383      683\n2-39-124-22      665\n2-39-79-378      645\n2-39-78-363      615\n2-39-128-18      612\n2-39-79-381      587\n2-39-79-376      581\n2-39-78-360      578\n2-39-90-26       567\n2-39-126-20      561\n2-39-92-436      558\n2-39-78-367      533\n2-39-78-361      529\n2-39-79-382      506\n2-39-92-442      503\n2-39-78-364      458\n2-39-91-441      452\n2-39-78-362      452\n2-39-90-440      432\n2-39-95-444      396\n2-39-88-438      332\n2-39-89-439      330\n2-39-123-557     247\n2-39-83-386      200\n2-39-138-566     175\n2-39-124-558     149\n2-39-130-564     136\n2-39-126-560     124\n2-39-128-562     120\n2-39-139-567     108\n2-39-131-565     104\n2-39-127-561      90\n2-39-129-563      88\n2-39-83-387       76\n2-39-125-559      74\n2-39-82-384       15\n2-39-82-385        8\nName: stationID, dtype: int64"
     },
     "execution_count": 5,
     "metadata": {},
     "output_type": "execute_result"
    }
   ],
   "source": [
    "df.stationID.value_counts()"
   ],
   "metadata": {
    "collapsed": false,
    "ExecuteTime": {
     "end_time": "2024-03-04T19:50:20.357189Z",
     "start_time": "2024-03-04T19:50:20.343346Z"
    }
   },
   "id": "9d32fd1fadb6adff",
   "execution_count": 5
  },
  {
   "cell_type": "code",
   "outputs": [],
   "source": [
    "def get_results(y_test, prediction):\n",
    "    cm = confusion_matrix(y_test,prediction)\n",
    "    make_classification_plot(cm)\n",
    "    \n",
    "    results = {'tpr': cm[1, 1]/np.sum(cm[1]),\n",
    "               'fpr': cm[0,1]/np.sum(cm[0]),\n",
    "               'accuracy': accuracy_score(y_test, prediction),\n",
    "               'precision': precision_score(y_test, prediction),\n",
    "               'recall': recall_score(y_test, prediction),\n",
    "        'f1':f1_score(y_test,prediction)}\n",
    "    return results"
   ],
   "metadata": {
    "collapsed": false,
    "ExecuteTime": {
     "end_time": "2024-03-04T19:50:20.368629Z",
     "start_time": "2024-03-04T19:50:20.360619Z"
    }
   },
   "id": "196e9838b4e672ca",
   "execution_count": 6
  },
  {
   "cell_type": "code",
   "outputs": [],
   "source": [
    "def make_classification_plot(cm):\n",
    "    disp = ConfusionMatrixDisplay(cm)\n",
    "    disp = disp.plot(include_values=True, cmap='viridis', ax=None, xticks_rotation='horizontal')\n",
    "    plt.grid(False)\n",
    "    plt.show()"
   ],
   "metadata": {
    "collapsed": false,
    "ExecuteTime": {
     "end_time": "2024-03-04T19:50:20.379318Z",
     "start_time": "2024-03-04T19:50:20.372110Z"
    }
   },
   "id": "90d5fcd9331993b2",
   "execution_count": 7
  },
  {
   "cell_type": "code",
   "outputs": [],
   "source": [
    "results = {}"
   ],
   "metadata": {
    "collapsed": false,
    "ExecuteTime": {
     "end_time": "2024-03-04T19:50:20.390590Z",
     "start_time": "2024-03-04T19:50:20.386064Z"
    }
   },
   "id": "5d4d6100fda7d696",
   "execution_count": 8
  },
  {
   "cell_type": "code",
   "outputs": [],
   "source": [
    "# create x and y \n",
    "start = '2018-05-01'\n",
    "end = '2021-09-13'\n",
    "spaceID = 'CA-303'\n",
    "caiso_fp = 'data/caiso_dataset_5min.csv'\n",
    "sun_fp = 'data/ct_sr_ss.csv'"
   ],
   "metadata": {
    "collapsed": false,
    "ExecuteTime": {
     "end_time": "2024-03-04T19:50:20.415181Z",
     "start_time": "2024-03-04T19:50:20.405794Z"
    }
   },
   "id": "af878a9be37fce90",
   "execution_count": 9
  },
  {
   "cell_type": "code",
   "outputs": [
    {
     "name": "stderr",
     "output_type": "stream",
     "text": [
      "/Users/varunvenkatesh/Documents/GitHub/ev_charging/src/data_preprocessing.py:68: FutureWarning: The default value of numeric_only in DataFrameGroupBy.mean is deprecated. In a future version, numeric_only will default to False. Either specify numeric_only or select only columns which should be valid for the function.\n",
      "  caiso_hourly = caiso.groupby(pd.Grouper(freq='1h')).mean()\n"
     ]
    }
   ],
   "source": [
    "X = create_x(start, end, caiso_fp, sun_fp)\n",
    "y = create_y(df, start, end, spaceID)"
   ],
   "metadata": {
    "collapsed": false,
    "ExecuteTime": {
     "end_time": "2024-03-04T19:50:27.090797Z",
     "start_time": "2024-03-04T19:50:20.418727Z"
    }
   },
   "id": "ef3d78d26fe1b5b8",
   "execution_count": 10
  },
  {
   "cell_type": "code",
   "outputs": [
    {
     "data": {
      "text/plain": "                           dow  hour  month  is_sunny  is_holiday  \\\n2018-05-01 00:00:00+00:00    1     0      5         0       False   \n2018-05-01 01:00:00+00:00    1     1      5         0       False   \n2018-05-01 02:00:00+00:00    1     2      5         0       False   \n2018-05-01 03:00:00+00:00    1     3      5         0       False   \n2018-05-01 04:00:00+00:00    1     4      5         0       False   \n2018-05-01 05:00:00+00:00    1     5      5         0       False   \n2018-05-01 06:00:00+00:00    1     6      5         0       False   \n2018-05-01 07:00:00+00:00    1     7      5         1       False   \n2018-05-01 08:00:00+00:00    1     8      5         1       False   \n2018-05-01 09:00:00+00:00    1     9      5         1       False   \n2018-05-01 10:00:00+00:00    1    10      5         1       False   \n2018-05-01 11:00:00+00:00    1    11      5         1       False   \n2018-05-01 12:00:00+00:00    1    12      5         1       False   \n2018-05-01 13:00:00+00:00    1    13      5         1       False   \n2018-05-01 14:00:00+00:00    1    14      5         1       False   \n2018-05-01 15:00:00+00:00    1    15      5         1       False   \n2018-05-01 16:00:00+00:00    1    16      5         1       False   \n2018-05-01 17:00:00+00:00    1    17      5         1       False   \n2018-05-01 18:00:00+00:00    1    18      5         1       False   \n2018-05-01 19:00:00+00:00    1    19      5         1       False   \n2018-05-01 20:00:00+00:00    1    20      5         0       False   \n2018-05-01 21:00:00+00:00    1    21      5         0       False   \n2018-05-01 22:00:00+00:00    1    22      5         0       False   \n2018-05-01 23:00:00+00:00    1    23      5         0       False   \n2018-05-02 00:00:00+00:00    2     0      5         0       False   \n2018-05-02 01:00:00+00:00    2     1      5         0       False   \n2018-05-02 02:00:00+00:00    2     2      5         0       False   \n2018-05-02 03:00:00+00:00    2     3      5         0       False   \n2018-05-02 04:00:00+00:00    2     4      5         0       False   \n2018-05-02 05:00:00+00:00    2     5      5         0       False   \n\n                           Day ahead forecast  Hour ahead forecast  \\\n2018-05-01 00:00:00+00:00        21013.666667         21496.500000   \n2018-05-01 01:00:00+00:00        20133.083333         20673.916667   \n2018-05-01 02:00:00+00:00        19582.666667         20174.083333   \n2018-05-01 03:00:00+00:00        19423.500000         19905.083333   \n2018-05-01 04:00:00+00:00        19879.583333         20325.833333   \n2018-05-01 05:00:00+00:00        21337.333333         21718.916667   \n2018-05-01 06:00:00+00:00        23149.000000         23605.916667   \n2018-05-01 07:00:00+00:00        24480.833333         25012.750000   \n2018-05-01 08:00:00+00:00        24527.500000         25217.166667   \n2018-05-01 09:00:00+00:00        24332.250000         25026.916667   \n2018-05-01 10:00:00+00:00        24082.166667         24842.416667   \n2018-05-01 11:00:00+00:00        23736.500000         24403.083333   \n2018-05-01 12:00:00+00:00        23411.833333         24069.916667   \n2018-05-01 13:00:00+00:00        23451.916667         24066.583333   \n2018-05-01 14:00:00+00:00        23632.166667         23807.333333   \n2018-05-01 15:00:00+00:00        24053.166667         23947.583333   \n2018-05-01 16:00:00+00:00        24799.500000         24464.500000   \n2018-05-01 17:00:00+00:00        25496.500000         24929.750000   \n2018-05-01 18:00:00+00:00        25966.500000         25723.750000   \n2018-05-01 19:00:00+00:00        26686.000000         26965.333333   \n2018-05-01 20:00:00+00:00        27572.083333         27998.083333   \n2018-05-01 21:00:00+00:00        26615.750000         26988.333333   \n2018-05-01 22:00:00+00:00        24399.916667         24967.333333   \n2018-05-01 23:00:00+00:00        22480.000000         23180.500000   \n2018-05-02 00:00:00+00:00        21236.750000         21943.083333   \n2018-05-02 01:00:00+00:00        20389.083333         21065.166667   \n2018-05-02 02:00:00+00:00        19834.250000         20591.750000   \n2018-05-02 03:00:00+00:00        19673.583333         20271.500000   \n2018-05-02 04:00:00+00:00        20119.500000         20530.666667   \n2018-05-02 05:00:00+00:00        21443.416667         21658.583333   \n\n                           Current demand    Net demand  Net demand forecast  \\\n2018-05-01 00:00:00+00:00    21378.500000  17906.000000                  NaN   \n2018-05-01 01:00:00+00:00    20644.583333  17251.333333                  NaN   \n2018-05-01 02:00:00+00:00    20089.166667  16399.916667                  NaN   \n2018-05-01 03:00:00+00:00    19822.250000  15958.416667                  NaN   \n2018-05-01 04:00:00+00:00    20321.166667  16600.583333                  NaN   \n2018-05-01 05:00:00+00:00    21718.666667  18034.833333                  NaN   \n2018-05-01 06:00:00+00:00    23639.250000  19678.416667                  NaN   \n2018-05-01 07:00:00+00:00    24989.333333  18528.916667                  NaN   \n2018-05-01 08:00:00+00:00    25220.916667  16230.166667                  NaN   \n2018-05-01 09:00:00+00:00    25010.250000  15238.083333                  NaN   \n2018-05-01 10:00:00+00:00    24869.916667  14351.166667                  NaN   \n2018-05-01 11:00:00+00:00    24370.500000  14130.166667                  NaN   \n2018-05-01 12:00:00+00:00    24096.000000  14156.166667                  NaN   \n2018-05-01 13:00:00+00:00    24014.250000  13647.500000                  NaN   \n2018-05-01 14:00:00+00:00    23803.500000  13816.250000                  NaN   \n2018-05-01 15:00:00+00:00    23929.750000  14382.750000                  NaN   \n2018-05-01 16:00:00+00:00    24481.666667  15650.083333                  NaN   \n2018-05-01 17:00:00+00:00    24989.416667  16802.250000                  NaN   \n2018-05-01 18:00:00+00:00    25805.666667  19998.666667                  NaN   \n2018-05-01 19:00:00+00:00    27002.083333  22978.250000                  NaN   \n2018-05-01 20:00:00+00:00    27955.000000  24485.666667                  NaN   \n2018-05-01 21:00:00+00:00    27003.250000  23698.083333                  NaN   \n2018-05-01 22:00:00+00:00    24995.333333  21398.416667                  NaN   \n2018-05-01 23:00:00+00:00    23132.833333  19671.583333                  NaN   \n2018-05-02 00:00:00+00:00    21800.666667  18936.250000                  NaN   \n2018-05-02 01:00:00+00:00    21028.916667  18519.583333                  NaN   \n2018-05-02 02:00:00+00:00    20538.500000  17476.750000                  NaN   \n2018-05-02 03:00:00+00:00    20188.916667  16399.916667                  NaN   \n2018-05-02 04:00:00+00:00    20442.250000  16565.750000                  NaN   \n2018-05-02 05:00:00+00:00    21596.750000  17818.083333                  NaN   \n\n                           ...  Geothermal CO2  Demand  Net Demand  \\\n2018-05-01 00:00:00+00:00  ...        9.083333     NaN         NaN   \n2018-05-01 01:00:00+00:00  ...       10.000000     NaN         NaN   \n2018-05-01 02:00:00+00:00  ...       10.000000     NaN         NaN   \n2018-05-01 03:00:00+00:00  ...       10.000000     NaN         NaN   \n2018-05-01 04:00:00+00:00  ...       10.000000     NaN         NaN   \n2018-05-01 05:00:00+00:00  ...        9.083333     NaN         NaN   \n2018-05-01 06:00:00+00:00  ...        9.000000     NaN         NaN   \n2018-05-01 07:00:00+00:00  ...        9.000000     NaN         NaN   \n2018-05-01 08:00:00+00:00  ...        9.666667     NaN         NaN   \n2018-05-01 09:00:00+00:00  ...       10.000000     NaN         NaN   \n2018-05-01 10:00:00+00:00  ...       10.000000     NaN         NaN   \n2018-05-01 11:00:00+00:00  ...       10.000000     NaN         NaN   \n2018-05-01 12:00:00+00:00  ...       10.000000     NaN         NaN   \n2018-05-01 13:00:00+00:00  ...       10.000000     NaN         NaN   \n2018-05-01 14:00:00+00:00  ...       10.000000     NaN         NaN   \n2018-05-01 15:00:00+00:00  ...        9.916667     NaN         NaN   \n2018-05-01 16:00:00+00:00  ...        9.083333     NaN         NaN   \n2018-05-01 17:00:00+00:00  ...        9.333333     NaN         NaN   \n2018-05-01 18:00:00+00:00  ...        9.583333     NaN         NaN   \n2018-05-01 19:00:00+00:00  ...       10.000000     NaN         NaN   \n2018-05-01 20:00:00+00:00  ...       10.000000     NaN         NaN   \n2018-05-01 21:00:00+00:00  ...        9.666667     NaN         NaN   \n2018-05-01 22:00:00+00:00  ...        9.166667     NaN         NaN   \n2018-05-01 23:00:00+00:00  ...        9.000000     NaN         NaN   \n2018-05-02 00:00:00+00:00  ...        9.000000     NaN         NaN   \n2018-05-02 01:00:00+00:00  ...        9.833333     NaN         NaN   \n2018-05-02 02:00:00+00:00  ...       10.000000     NaN         NaN   \n2018-05-02 03:00:00+00:00  ...       10.000000     NaN         NaN   \n2018-05-02 04:00:00+00:00  ...       10.000000     NaN         NaN   \n2018-05-02 05:00:00+00:00  ...        9.833333     NaN         NaN   \n\n                           Day-ahead demand forecast  \\\n2018-05-01 00:00:00+00:00                        NaN   \n2018-05-01 01:00:00+00:00                        NaN   \n2018-05-01 02:00:00+00:00                        NaN   \n2018-05-01 03:00:00+00:00                        NaN   \n2018-05-01 04:00:00+00:00                        NaN   \n2018-05-01 05:00:00+00:00                        NaN   \n2018-05-01 06:00:00+00:00                        NaN   \n2018-05-01 07:00:00+00:00                        NaN   \n2018-05-01 08:00:00+00:00                        NaN   \n2018-05-01 09:00:00+00:00                        NaN   \n2018-05-01 10:00:00+00:00                        NaN   \n2018-05-01 11:00:00+00:00                        NaN   \n2018-05-01 12:00:00+00:00                        NaN   \n2018-05-01 13:00:00+00:00                        NaN   \n2018-05-01 14:00:00+00:00                        NaN   \n2018-05-01 15:00:00+00:00                        NaN   \n2018-05-01 16:00:00+00:00                        NaN   \n2018-05-01 17:00:00+00:00                        NaN   \n2018-05-01 18:00:00+00:00                        NaN   \n2018-05-01 19:00:00+00:00                        NaN   \n2018-05-01 20:00:00+00:00                        NaN   \n2018-05-01 21:00:00+00:00                        NaN   \n2018-05-01 22:00:00+00:00                        NaN   \n2018-05-01 23:00:00+00:00                        NaN   \n2018-05-02 00:00:00+00:00                        NaN   \n2018-05-02 01:00:00+00:00                        NaN   \n2018-05-02 02:00:00+00:00                        NaN   \n2018-05-02 03:00:00+00:00                        NaN   \n2018-05-02 04:00:00+00:00                        NaN   \n2018-05-02 05:00:00+00:00                        NaN   \n\n                           Day-ahead net demand forecast  \\\n2018-05-01 00:00:00+00:00                            NaN   \n2018-05-01 01:00:00+00:00                            NaN   \n2018-05-01 02:00:00+00:00                            NaN   \n2018-05-01 03:00:00+00:00                            NaN   \n2018-05-01 04:00:00+00:00                            NaN   \n2018-05-01 05:00:00+00:00                            NaN   \n2018-05-01 06:00:00+00:00                            NaN   \n2018-05-01 07:00:00+00:00                            NaN   \n2018-05-01 08:00:00+00:00                            NaN   \n2018-05-01 09:00:00+00:00                            NaN   \n2018-05-01 10:00:00+00:00                            NaN   \n2018-05-01 11:00:00+00:00                            NaN   \n2018-05-01 12:00:00+00:00                            NaN   \n2018-05-01 13:00:00+00:00                            NaN   \n2018-05-01 14:00:00+00:00                            NaN   \n2018-05-01 15:00:00+00:00                            NaN   \n2018-05-01 16:00:00+00:00                            NaN   \n2018-05-01 17:00:00+00:00                            NaN   \n2018-05-01 18:00:00+00:00                            NaN   \n2018-05-01 19:00:00+00:00                            NaN   \n2018-05-01 20:00:00+00:00                            NaN   \n2018-05-01 21:00:00+00:00                            NaN   \n2018-05-01 22:00:00+00:00                            NaN   \n2018-05-01 23:00:00+00:00                            NaN   \n2018-05-02 00:00:00+00:00                            NaN   \n2018-05-02 01:00:00+00:00                            NaN   \n2018-05-02 02:00:00+00:00                            NaN   \n2018-05-02 03:00:00+00:00                            NaN   \n2018-05-02 04:00:00+00:00                            NaN   \n2018-05-02 05:00:00+00:00                            NaN   \n\n                           Resource adequacy capacity forecast  \\\n2018-05-01 00:00:00+00:00                                  NaN   \n2018-05-01 01:00:00+00:00                                  NaN   \n2018-05-01 02:00:00+00:00                                  NaN   \n2018-05-01 03:00:00+00:00                                  NaN   \n2018-05-01 04:00:00+00:00                                  NaN   \n2018-05-01 05:00:00+00:00                                  NaN   \n2018-05-01 06:00:00+00:00                                  NaN   \n2018-05-01 07:00:00+00:00                                  NaN   \n2018-05-01 08:00:00+00:00                                  NaN   \n2018-05-01 09:00:00+00:00                                  NaN   \n2018-05-01 10:00:00+00:00                                  NaN   \n2018-05-01 11:00:00+00:00                                  NaN   \n2018-05-01 12:00:00+00:00                                  NaN   \n2018-05-01 13:00:00+00:00                                  NaN   \n2018-05-01 14:00:00+00:00                                  NaN   \n2018-05-01 15:00:00+00:00                                  NaN   \n2018-05-01 16:00:00+00:00                                  NaN   \n2018-05-01 17:00:00+00:00                                  NaN   \n2018-05-01 18:00:00+00:00                                  NaN   \n2018-05-01 19:00:00+00:00                                  NaN   \n2018-05-01 20:00:00+00:00                                  NaN   \n2018-05-01 21:00:00+00:00                                  NaN   \n2018-05-01 22:00:00+00:00                                  NaN   \n2018-05-01 23:00:00+00:00                                  NaN   \n2018-05-02 00:00:00+00:00                                  NaN   \n2018-05-02 01:00:00+00:00                                  NaN   \n2018-05-02 02:00:00+00:00                                  NaN   \n2018-05-02 03:00:00+00:00                                  NaN   \n2018-05-02 04:00:00+00:00                                  NaN   \n2018-05-02 05:00:00+00:00                                  NaN   \n\n                           Net resource adequacy capacity forecast  \\\n2018-05-01 00:00:00+00:00                                      NaN   \n2018-05-01 01:00:00+00:00                                      NaN   \n2018-05-01 02:00:00+00:00                                      NaN   \n2018-05-01 03:00:00+00:00                                      NaN   \n2018-05-01 04:00:00+00:00                                      NaN   \n2018-05-01 05:00:00+00:00                                      NaN   \n2018-05-01 06:00:00+00:00                                      NaN   \n2018-05-01 07:00:00+00:00                                      NaN   \n2018-05-01 08:00:00+00:00                                      NaN   \n2018-05-01 09:00:00+00:00                                      NaN   \n2018-05-01 10:00:00+00:00                                      NaN   \n2018-05-01 11:00:00+00:00                                      NaN   \n2018-05-01 12:00:00+00:00                                      NaN   \n2018-05-01 13:00:00+00:00                                      NaN   \n2018-05-01 14:00:00+00:00                                      NaN   \n2018-05-01 15:00:00+00:00                                      NaN   \n2018-05-01 16:00:00+00:00                                      NaN   \n2018-05-01 17:00:00+00:00                                      NaN   \n2018-05-01 18:00:00+00:00                                      NaN   \n2018-05-01 19:00:00+00:00                                      NaN   \n2018-05-01 20:00:00+00:00                                      NaN   \n2018-05-01 21:00:00+00:00                                      NaN   \n2018-05-01 22:00:00+00:00                                      NaN   \n2018-05-01 23:00:00+00:00                                      NaN   \n2018-05-02 00:00:00+00:00                                      NaN   \n2018-05-02 01:00:00+00:00                                      NaN   \n2018-05-02 02:00:00+00:00                                      NaN   \n2018-05-02 03:00:00+00:00                                      NaN   \n2018-05-02 04:00:00+00:00                                      NaN   \n2018-05-02 05:00:00+00:00                                      NaN   \n\n                           Reserve requirement  Reserve requirement forecast  \\\n2018-05-01 00:00:00+00:00                  NaN                           NaN   \n2018-05-01 01:00:00+00:00                  NaN                           NaN   \n2018-05-01 02:00:00+00:00                  NaN                           NaN   \n2018-05-01 03:00:00+00:00                  NaN                           NaN   \n2018-05-01 04:00:00+00:00                  NaN                           NaN   \n2018-05-01 05:00:00+00:00                  NaN                           NaN   \n2018-05-01 06:00:00+00:00                  NaN                           NaN   \n2018-05-01 07:00:00+00:00                  NaN                           NaN   \n2018-05-01 08:00:00+00:00                  NaN                           NaN   \n2018-05-01 09:00:00+00:00                  NaN                           NaN   \n2018-05-01 10:00:00+00:00                  NaN                           NaN   \n2018-05-01 11:00:00+00:00                  NaN                           NaN   \n2018-05-01 12:00:00+00:00                  NaN                           NaN   \n2018-05-01 13:00:00+00:00                  NaN                           NaN   \n2018-05-01 14:00:00+00:00                  NaN                           NaN   \n2018-05-01 15:00:00+00:00                  NaN                           NaN   \n2018-05-01 16:00:00+00:00                  NaN                           NaN   \n2018-05-01 17:00:00+00:00                  NaN                           NaN   \n2018-05-01 18:00:00+00:00                  NaN                           NaN   \n2018-05-01 19:00:00+00:00                  NaN                           NaN   \n2018-05-01 20:00:00+00:00                  NaN                           NaN   \n2018-05-01 21:00:00+00:00                  NaN                           NaN   \n2018-05-01 22:00:00+00:00                  NaN                           NaN   \n2018-05-01 23:00:00+00:00                  NaN                           NaN   \n2018-05-02 00:00:00+00:00                  NaN                           NaN   \n2018-05-02 01:00:00+00:00                  NaN                           NaN   \n2018-05-02 02:00:00+00:00                  NaN                           NaN   \n2018-05-02 03:00:00+00:00                  NaN                           NaN   \n2018-05-02 04:00:00+00:00                  NaN                           NaN   \n2018-05-02 05:00:00+00:00                  NaN                           NaN   \n\n                           Resource adequacy credits  \n2018-05-01 00:00:00+00:00                        NaN  \n2018-05-01 01:00:00+00:00                        NaN  \n2018-05-01 02:00:00+00:00                        NaN  \n2018-05-01 03:00:00+00:00                        NaN  \n2018-05-01 04:00:00+00:00                        NaN  \n2018-05-01 05:00:00+00:00                        NaN  \n2018-05-01 06:00:00+00:00                        NaN  \n2018-05-01 07:00:00+00:00                        NaN  \n2018-05-01 08:00:00+00:00                        NaN  \n2018-05-01 09:00:00+00:00                        NaN  \n2018-05-01 10:00:00+00:00                        NaN  \n2018-05-01 11:00:00+00:00                        NaN  \n2018-05-01 12:00:00+00:00                        NaN  \n2018-05-01 13:00:00+00:00                        NaN  \n2018-05-01 14:00:00+00:00                        NaN  \n2018-05-01 15:00:00+00:00                        NaN  \n2018-05-01 16:00:00+00:00                        NaN  \n2018-05-01 17:00:00+00:00                        NaN  \n2018-05-01 18:00:00+00:00                        NaN  \n2018-05-01 19:00:00+00:00                        NaN  \n2018-05-01 20:00:00+00:00                        NaN  \n2018-05-01 21:00:00+00:00                        NaN  \n2018-05-01 22:00:00+00:00                        NaN  \n2018-05-01 23:00:00+00:00                        NaN  \n2018-05-02 00:00:00+00:00                        NaN  \n2018-05-02 01:00:00+00:00                        NaN  \n2018-05-02 02:00:00+00:00                        NaN  \n2018-05-02 03:00:00+00:00                        NaN  \n2018-05-02 04:00:00+00:00                        NaN  \n2018-05-02 05:00:00+00:00                        NaN  \n\n[30 rows x 40 columns]",
      "text/html": "<div>\n<style scoped>\n    .dataframe tbody tr th:only-of-type {\n        vertical-align: middle;\n    }\n\n    .dataframe tbody tr th {\n        vertical-align: top;\n    }\n\n    .dataframe thead th {\n        text-align: right;\n    }\n</style>\n<table border=\"1\" class=\"dataframe\">\n  <thead>\n    <tr style=\"text-align: right;\">\n      <th></th>\n      <th>dow</th>\n      <th>hour</th>\n      <th>month</th>\n      <th>is_sunny</th>\n      <th>is_holiday</th>\n      <th>Day ahead forecast</th>\n      <th>Hour ahead forecast</th>\n      <th>Current demand</th>\n      <th>Net demand</th>\n      <th>Net demand forecast</th>\n      <th>...</th>\n      <th>Geothermal CO2</th>\n      <th>Demand</th>\n      <th>Net Demand</th>\n      <th>Day-ahead demand forecast</th>\n      <th>Day-ahead net demand forecast</th>\n      <th>Resource adequacy capacity forecast</th>\n      <th>Net resource adequacy capacity forecast</th>\n      <th>Reserve requirement</th>\n      <th>Reserve requirement forecast</th>\n      <th>Resource adequacy credits</th>\n    </tr>\n  </thead>\n  <tbody>\n    <tr>\n      <th>2018-05-01 00:00:00+00:00</th>\n      <td>1</td>\n      <td>0</td>\n      <td>5</td>\n      <td>0</td>\n      <td>False</td>\n      <td>21013.666667</td>\n      <td>21496.500000</td>\n      <td>21378.500000</td>\n      <td>17906.000000</td>\n      <td>NaN</td>\n      <td>...</td>\n      <td>9.083333</td>\n      <td>NaN</td>\n      <td>NaN</td>\n      <td>NaN</td>\n      <td>NaN</td>\n      <td>NaN</td>\n      <td>NaN</td>\n      <td>NaN</td>\n      <td>NaN</td>\n      <td>NaN</td>\n    </tr>\n    <tr>\n      <th>2018-05-01 01:00:00+00:00</th>\n      <td>1</td>\n      <td>1</td>\n      <td>5</td>\n      <td>0</td>\n      <td>False</td>\n      <td>20133.083333</td>\n      <td>20673.916667</td>\n      <td>20644.583333</td>\n      <td>17251.333333</td>\n      <td>NaN</td>\n      <td>...</td>\n      <td>10.000000</td>\n      <td>NaN</td>\n      <td>NaN</td>\n      <td>NaN</td>\n      <td>NaN</td>\n      <td>NaN</td>\n      <td>NaN</td>\n      <td>NaN</td>\n      <td>NaN</td>\n      <td>NaN</td>\n    </tr>\n    <tr>\n      <th>2018-05-01 02:00:00+00:00</th>\n      <td>1</td>\n      <td>2</td>\n      <td>5</td>\n      <td>0</td>\n      <td>False</td>\n      <td>19582.666667</td>\n      <td>20174.083333</td>\n      <td>20089.166667</td>\n      <td>16399.916667</td>\n      <td>NaN</td>\n      <td>...</td>\n      <td>10.000000</td>\n      <td>NaN</td>\n      <td>NaN</td>\n      <td>NaN</td>\n      <td>NaN</td>\n      <td>NaN</td>\n      <td>NaN</td>\n      <td>NaN</td>\n      <td>NaN</td>\n      <td>NaN</td>\n    </tr>\n    <tr>\n      <th>2018-05-01 03:00:00+00:00</th>\n      <td>1</td>\n      <td>3</td>\n      <td>5</td>\n      <td>0</td>\n      <td>False</td>\n      <td>19423.500000</td>\n      <td>19905.083333</td>\n      <td>19822.250000</td>\n      <td>15958.416667</td>\n      <td>NaN</td>\n      <td>...</td>\n      <td>10.000000</td>\n      <td>NaN</td>\n      <td>NaN</td>\n      <td>NaN</td>\n      <td>NaN</td>\n      <td>NaN</td>\n      <td>NaN</td>\n      <td>NaN</td>\n      <td>NaN</td>\n      <td>NaN</td>\n    </tr>\n    <tr>\n      <th>2018-05-01 04:00:00+00:00</th>\n      <td>1</td>\n      <td>4</td>\n      <td>5</td>\n      <td>0</td>\n      <td>False</td>\n      <td>19879.583333</td>\n      <td>20325.833333</td>\n      <td>20321.166667</td>\n      <td>16600.583333</td>\n      <td>NaN</td>\n      <td>...</td>\n      <td>10.000000</td>\n      <td>NaN</td>\n      <td>NaN</td>\n      <td>NaN</td>\n      <td>NaN</td>\n      <td>NaN</td>\n      <td>NaN</td>\n      <td>NaN</td>\n      <td>NaN</td>\n      <td>NaN</td>\n    </tr>\n    <tr>\n      <th>2018-05-01 05:00:00+00:00</th>\n      <td>1</td>\n      <td>5</td>\n      <td>5</td>\n      <td>0</td>\n      <td>False</td>\n      <td>21337.333333</td>\n      <td>21718.916667</td>\n      <td>21718.666667</td>\n      <td>18034.833333</td>\n      <td>NaN</td>\n      <td>...</td>\n      <td>9.083333</td>\n      <td>NaN</td>\n      <td>NaN</td>\n      <td>NaN</td>\n      <td>NaN</td>\n      <td>NaN</td>\n      <td>NaN</td>\n      <td>NaN</td>\n      <td>NaN</td>\n      <td>NaN</td>\n    </tr>\n    <tr>\n      <th>2018-05-01 06:00:00+00:00</th>\n      <td>1</td>\n      <td>6</td>\n      <td>5</td>\n      <td>0</td>\n      <td>False</td>\n      <td>23149.000000</td>\n      <td>23605.916667</td>\n      <td>23639.250000</td>\n      <td>19678.416667</td>\n      <td>NaN</td>\n      <td>...</td>\n      <td>9.000000</td>\n      <td>NaN</td>\n      <td>NaN</td>\n      <td>NaN</td>\n      <td>NaN</td>\n      <td>NaN</td>\n      <td>NaN</td>\n      <td>NaN</td>\n      <td>NaN</td>\n      <td>NaN</td>\n    </tr>\n    <tr>\n      <th>2018-05-01 07:00:00+00:00</th>\n      <td>1</td>\n      <td>7</td>\n      <td>5</td>\n      <td>1</td>\n      <td>False</td>\n      <td>24480.833333</td>\n      <td>25012.750000</td>\n      <td>24989.333333</td>\n      <td>18528.916667</td>\n      <td>NaN</td>\n      <td>...</td>\n      <td>9.000000</td>\n      <td>NaN</td>\n      <td>NaN</td>\n      <td>NaN</td>\n      <td>NaN</td>\n      <td>NaN</td>\n      <td>NaN</td>\n      <td>NaN</td>\n      <td>NaN</td>\n      <td>NaN</td>\n    </tr>\n    <tr>\n      <th>2018-05-01 08:00:00+00:00</th>\n      <td>1</td>\n      <td>8</td>\n      <td>5</td>\n      <td>1</td>\n      <td>False</td>\n      <td>24527.500000</td>\n      <td>25217.166667</td>\n      <td>25220.916667</td>\n      <td>16230.166667</td>\n      <td>NaN</td>\n      <td>...</td>\n      <td>9.666667</td>\n      <td>NaN</td>\n      <td>NaN</td>\n      <td>NaN</td>\n      <td>NaN</td>\n      <td>NaN</td>\n      <td>NaN</td>\n      <td>NaN</td>\n      <td>NaN</td>\n      <td>NaN</td>\n    </tr>\n    <tr>\n      <th>2018-05-01 09:00:00+00:00</th>\n      <td>1</td>\n      <td>9</td>\n      <td>5</td>\n      <td>1</td>\n      <td>False</td>\n      <td>24332.250000</td>\n      <td>25026.916667</td>\n      <td>25010.250000</td>\n      <td>15238.083333</td>\n      <td>NaN</td>\n      <td>...</td>\n      <td>10.000000</td>\n      <td>NaN</td>\n      <td>NaN</td>\n      <td>NaN</td>\n      <td>NaN</td>\n      <td>NaN</td>\n      <td>NaN</td>\n      <td>NaN</td>\n      <td>NaN</td>\n      <td>NaN</td>\n    </tr>\n    <tr>\n      <th>2018-05-01 10:00:00+00:00</th>\n      <td>1</td>\n      <td>10</td>\n      <td>5</td>\n      <td>1</td>\n      <td>False</td>\n      <td>24082.166667</td>\n      <td>24842.416667</td>\n      <td>24869.916667</td>\n      <td>14351.166667</td>\n      <td>NaN</td>\n      <td>...</td>\n      <td>10.000000</td>\n      <td>NaN</td>\n      <td>NaN</td>\n      <td>NaN</td>\n      <td>NaN</td>\n      <td>NaN</td>\n      <td>NaN</td>\n      <td>NaN</td>\n      <td>NaN</td>\n      <td>NaN</td>\n    </tr>\n    <tr>\n      <th>2018-05-01 11:00:00+00:00</th>\n      <td>1</td>\n      <td>11</td>\n      <td>5</td>\n      <td>1</td>\n      <td>False</td>\n      <td>23736.500000</td>\n      <td>24403.083333</td>\n      <td>24370.500000</td>\n      <td>14130.166667</td>\n      <td>NaN</td>\n      <td>...</td>\n      <td>10.000000</td>\n      <td>NaN</td>\n      <td>NaN</td>\n      <td>NaN</td>\n      <td>NaN</td>\n      <td>NaN</td>\n      <td>NaN</td>\n      <td>NaN</td>\n      <td>NaN</td>\n      <td>NaN</td>\n    </tr>\n    <tr>\n      <th>2018-05-01 12:00:00+00:00</th>\n      <td>1</td>\n      <td>12</td>\n      <td>5</td>\n      <td>1</td>\n      <td>False</td>\n      <td>23411.833333</td>\n      <td>24069.916667</td>\n      <td>24096.000000</td>\n      <td>14156.166667</td>\n      <td>NaN</td>\n      <td>...</td>\n      <td>10.000000</td>\n      <td>NaN</td>\n      <td>NaN</td>\n      <td>NaN</td>\n      <td>NaN</td>\n      <td>NaN</td>\n      <td>NaN</td>\n      <td>NaN</td>\n      <td>NaN</td>\n      <td>NaN</td>\n    </tr>\n    <tr>\n      <th>2018-05-01 13:00:00+00:00</th>\n      <td>1</td>\n      <td>13</td>\n      <td>5</td>\n      <td>1</td>\n      <td>False</td>\n      <td>23451.916667</td>\n      <td>24066.583333</td>\n      <td>24014.250000</td>\n      <td>13647.500000</td>\n      <td>NaN</td>\n      <td>...</td>\n      <td>10.000000</td>\n      <td>NaN</td>\n      <td>NaN</td>\n      <td>NaN</td>\n      <td>NaN</td>\n      <td>NaN</td>\n      <td>NaN</td>\n      <td>NaN</td>\n      <td>NaN</td>\n      <td>NaN</td>\n    </tr>\n    <tr>\n      <th>2018-05-01 14:00:00+00:00</th>\n      <td>1</td>\n      <td>14</td>\n      <td>5</td>\n      <td>1</td>\n      <td>False</td>\n      <td>23632.166667</td>\n      <td>23807.333333</td>\n      <td>23803.500000</td>\n      <td>13816.250000</td>\n      <td>NaN</td>\n      <td>...</td>\n      <td>10.000000</td>\n      <td>NaN</td>\n      <td>NaN</td>\n      <td>NaN</td>\n      <td>NaN</td>\n      <td>NaN</td>\n      <td>NaN</td>\n      <td>NaN</td>\n      <td>NaN</td>\n      <td>NaN</td>\n    </tr>\n    <tr>\n      <th>2018-05-01 15:00:00+00:00</th>\n      <td>1</td>\n      <td>15</td>\n      <td>5</td>\n      <td>1</td>\n      <td>False</td>\n      <td>24053.166667</td>\n      <td>23947.583333</td>\n      <td>23929.750000</td>\n      <td>14382.750000</td>\n      <td>NaN</td>\n      <td>...</td>\n      <td>9.916667</td>\n      <td>NaN</td>\n      <td>NaN</td>\n      <td>NaN</td>\n      <td>NaN</td>\n      <td>NaN</td>\n      <td>NaN</td>\n      <td>NaN</td>\n      <td>NaN</td>\n      <td>NaN</td>\n    </tr>\n    <tr>\n      <th>2018-05-01 16:00:00+00:00</th>\n      <td>1</td>\n      <td>16</td>\n      <td>5</td>\n      <td>1</td>\n      <td>False</td>\n      <td>24799.500000</td>\n      <td>24464.500000</td>\n      <td>24481.666667</td>\n      <td>15650.083333</td>\n      <td>NaN</td>\n      <td>...</td>\n      <td>9.083333</td>\n      <td>NaN</td>\n      <td>NaN</td>\n      <td>NaN</td>\n      <td>NaN</td>\n      <td>NaN</td>\n      <td>NaN</td>\n      <td>NaN</td>\n      <td>NaN</td>\n      <td>NaN</td>\n    </tr>\n    <tr>\n      <th>2018-05-01 17:00:00+00:00</th>\n      <td>1</td>\n      <td>17</td>\n      <td>5</td>\n      <td>1</td>\n      <td>False</td>\n      <td>25496.500000</td>\n      <td>24929.750000</td>\n      <td>24989.416667</td>\n      <td>16802.250000</td>\n      <td>NaN</td>\n      <td>...</td>\n      <td>9.333333</td>\n      <td>NaN</td>\n      <td>NaN</td>\n      <td>NaN</td>\n      <td>NaN</td>\n      <td>NaN</td>\n      <td>NaN</td>\n      <td>NaN</td>\n      <td>NaN</td>\n      <td>NaN</td>\n    </tr>\n    <tr>\n      <th>2018-05-01 18:00:00+00:00</th>\n      <td>1</td>\n      <td>18</td>\n      <td>5</td>\n      <td>1</td>\n      <td>False</td>\n      <td>25966.500000</td>\n      <td>25723.750000</td>\n      <td>25805.666667</td>\n      <td>19998.666667</td>\n      <td>NaN</td>\n      <td>...</td>\n      <td>9.583333</td>\n      <td>NaN</td>\n      <td>NaN</td>\n      <td>NaN</td>\n      <td>NaN</td>\n      <td>NaN</td>\n      <td>NaN</td>\n      <td>NaN</td>\n      <td>NaN</td>\n      <td>NaN</td>\n    </tr>\n    <tr>\n      <th>2018-05-01 19:00:00+00:00</th>\n      <td>1</td>\n      <td>19</td>\n      <td>5</td>\n      <td>1</td>\n      <td>False</td>\n      <td>26686.000000</td>\n      <td>26965.333333</td>\n      <td>27002.083333</td>\n      <td>22978.250000</td>\n      <td>NaN</td>\n      <td>...</td>\n      <td>10.000000</td>\n      <td>NaN</td>\n      <td>NaN</td>\n      <td>NaN</td>\n      <td>NaN</td>\n      <td>NaN</td>\n      <td>NaN</td>\n      <td>NaN</td>\n      <td>NaN</td>\n      <td>NaN</td>\n    </tr>\n    <tr>\n      <th>2018-05-01 20:00:00+00:00</th>\n      <td>1</td>\n      <td>20</td>\n      <td>5</td>\n      <td>0</td>\n      <td>False</td>\n      <td>27572.083333</td>\n      <td>27998.083333</td>\n      <td>27955.000000</td>\n      <td>24485.666667</td>\n      <td>NaN</td>\n      <td>...</td>\n      <td>10.000000</td>\n      <td>NaN</td>\n      <td>NaN</td>\n      <td>NaN</td>\n      <td>NaN</td>\n      <td>NaN</td>\n      <td>NaN</td>\n      <td>NaN</td>\n      <td>NaN</td>\n      <td>NaN</td>\n    </tr>\n    <tr>\n      <th>2018-05-01 21:00:00+00:00</th>\n      <td>1</td>\n      <td>21</td>\n      <td>5</td>\n      <td>0</td>\n      <td>False</td>\n      <td>26615.750000</td>\n      <td>26988.333333</td>\n      <td>27003.250000</td>\n      <td>23698.083333</td>\n      <td>NaN</td>\n      <td>...</td>\n      <td>9.666667</td>\n      <td>NaN</td>\n      <td>NaN</td>\n      <td>NaN</td>\n      <td>NaN</td>\n      <td>NaN</td>\n      <td>NaN</td>\n      <td>NaN</td>\n      <td>NaN</td>\n      <td>NaN</td>\n    </tr>\n    <tr>\n      <th>2018-05-01 22:00:00+00:00</th>\n      <td>1</td>\n      <td>22</td>\n      <td>5</td>\n      <td>0</td>\n      <td>False</td>\n      <td>24399.916667</td>\n      <td>24967.333333</td>\n      <td>24995.333333</td>\n      <td>21398.416667</td>\n      <td>NaN</td>\n      <td>...</td>\n      <td>9.166667</td>\n      <td>NaN</td>\n      <td>NaN</td>\n      <td>NaN</td>\n      <td>NaN</td>\n      <td>NaN</td>\n      <td>NaN</td>\n      <td>NaN</td>\n      <td>NaN</td>\n      <td>NaN</td>\n    </tr>\n    <tr>\n      <th>2018-05-01 23:00:00+00:00</th>\n      <td>1</td>\n      <td>23</td>\n      <td>5</td>\n      <td>0</td>\n      <td>False</td>\n      <td>22480.000000</td>\n      <td>23180.500000</td>\n      <td>23132.833333</td>\n      <td>19671.583333</td>\n      <td>NaN</td>\n      <td>...</td>\n      <td>9.000000</td>\n      <td>NaN</td>\n      <td>NaN</td>\n      <td>NaN</td>\n      <td>NaN</td>\n      <td>NaN</td>\n      <td>NaN</td>\n      <td>NaN</td>\n      <td>NaN</td>\n      <td>NaN</td>\n    </tr>\n    <tr>\n      <th>2018-05-02 00:00:00+00:00</th>\n      <td>2</td>\n      <td>0</td>\n      <td>5</td>\n      <td>0</td>\n      <td>False</td>\n      <td>21236.750000</td>\n      <td>21943.083333</td>\n      <td>21800.666667</td>\n      <td>18936.250000</td>\n      <td>NaN</td>\n      <td>...</td>\n      <td>9.000000</td>\n      <td>NaN</td>\n      <td>NaN</td>\n      <td>NaN</td>\n      <td>NaN</td>\n      <td>NaN</td>\n      <td>NaN</td>\n      <td>NaN</td>\n      <td>NaN</td>\n      <td>NaN</td>\n    </tr>\n    <tr>\n      <th>2018-05-02 01:00:00+00:00</th>\n      <td>2</td>\n      <td>1</td>\n      <td>5</td>\n      <td>0</td>\n      <td>False</td>\n      <td>20389.083333</td>\n      <td>21065.166667</td>\n      <td>21028.916667</td>\n      <td>18519.583333</td>\n      <td>NaN</td>\n      <td>...</td>\n      <td>9.833333</td>\n      <td>NaN</td>\n      <td>NaN</td>\n      <td>NaN</td>\n      <td>NaN</td>\n      <td>NaN</td>\n      <td>NaN</td>\n      <td>NaN</td>\n      <td>NaN</td>\n      <td>NaN</td>\n    </tr>\n    <tr>\n      <th>2018-05-02 02:00:00+00:00</th>\n      <td>2</td>\n      <td>2</td>\n      <td>5</td>\n      <td>0</td>\n      <td>False</td>\n      <td>19834.250000</td>\n      <td>20591.750000</td>\n      <td>20538.500000</td>\n      <td>17476.750000</td>\n      <td>NaN</td>\n      <td>...</td>\n      <td>10.000000</td>\n      <td>NaN</td>\n      <td>NaN</td>\n      <td>NaN</td>\n      <td>NaN</td>\n      <td>NaN</td>\n      <td>NaN</td>\n      <td>NaN</td>\n      <td>NaN</td>\n      <td>NaN</td>\n    </tr>\n    <tr>\n      <th>2018-05-02 03:00:00+00:00</th>\n      <td>2</td>\n      <td>3</td>\n      <td>5</td>\n      <td>0</td>\n      <td>False</td>\n      <td>19673.583333</td>\n      <td>20271.500000</td>\n      <td>20188.916667</td>\n      <td>16399.916667</td>\n      <td>NaN</td>\n      <td>...</td>\n      <td>10.000000</td>\n      <td>NaN</td>\n      <td>NaN</td>\n      <td>NaN</td>\n      <td>NaN</td>\n      <td>NaN</td>\n      <td>NaN</td>\n      <td>NaN</td>\n      <td>NaN</td>\n      <td>NaN</td>\n    </tr>\n    <tr>\n      <th>2018-05-02 04:00:00+00:00</th>\n      <td>2</td>\n      <td>4</td>\n      <td>5</td>\n      <td>0</td>\n      <td>False</td>\n      <td>20119.500000</td>\n      <td>20530.666667</td>\n      <td>20442.250000</td>\n      <td>16565.750000</td>\n      <td>NaN</td>\n      <td>...</td>\n      <td>10.000000</td>\n      <td>NaN</td>\n      <td>NaN</td>\n      <td>NaN</td>\n      <td>NaN</td>\n      <td>NaN</td>\n      <td>NaN</td>\n      <td>NaN</td>\n      <td>NaN</td>\n      <td>NaN</td>\n    </tr>\n    <tr>\n      <th>2018-05-02 05:00:00+00:00</th>\n      <td>2</td>\n      <td>5</td>\n      <td>5</td>\n      <td>0</td>\n      <td>False</td>\n      <td>21443.416667</td>\n      <td>21658.583333</td>\n      <td>21596.750000</td>\n      <td>17818.083333</td>\n      <td>NaN</td>\n      <td>...</td>\n      <td>9.833333</td>\n      <td>NaN</td>\n      <td>NaN</td>\n      <td>NaN</td>\n      <td>NaN</td>\n      <td>NaN</td>\n      <td>NaN</td>\n      <td>NaN</td>\n      <td>NaN</td>\n      <td>NaN</td>\n    </tr>\n  </tbody>\n</table>\n<p>30 rows × 40 columns</p>\n</div>"
     },
     "execution_count": 19,
     "metadata": {},
     "output_type": "execute_result"
    }
   ],
   "source": [
    "X.head(30)"
   ],
   "metadata": {
    "collapsed": false,
    "ExecuteTime": {
     "end_time": "2024-03-04T19:50:27.193006Z",
     "start_time": "2024-03-04T19:50:27.156608Z"
    }
   },
   "id": "7f8e89e998e0fd05",
   "execution_count": 19
  },
  {
   "cell_type": "code",
   "outputs": [
    {
     "name": "stdout",
     "output_type": "stream",
     "text": [
      "charger CA-303 is available is_available    69.964\n",
      "dtype: float64% of the time\n"
     ]
    },
    {
     "name": "stderr",
     "output_type": "stream",
     "text": [
      "/var/folders/7p/8d9trt0n3szgfv_nhh5rk6v00000gn/T/ipykernel_6274/1108395309.py:1: FutureWarning: The default value of numeric_only in DataFrame.mean is deprecated. In a future version, it will default to False. In addition, specifying 'numeric_only=None' is deprecated. Select only valid columns or specify the value of numeric_only to silence this warning.\n",
      "  print(f'charger CA-303 is available {np.round(y.mean()*100,3)}% of the time')\n"
     ]
    }
   ],
   "source": [
    "print(f'charger CA-303 is available {np.round(y.mean()*100,3)}% of the time')"
   ],
   "metadata": {
    "collapsed": false,
    "ExecuteTime": {
     "end_time": "2024-03-04T19:50:27.213414Z",
     "start_time": "2024-03-04T19:50:27.201069Z"
    }
   },
   "id": "21d6e1b9a8eb63bf",
   "execution_count": 21
  },
  {
   "cell_type": "code",
   "outputs": [],
   "source": [
    "X.fillna(0.0, inplace=True)"
   ],
   "metadata": {
    "collapsed": false,
    "ExecuteTime": {
     "end_time": "2024-03-04T19:50:27.239381Z",
     "start_time": "2024-03-04T19:50:27.215437Z"
    }
   },
   "id": "9417d2cf7cd9652d",
   "execution_count": 22
  },
  {
   "cell_type": "code",
   "outputs": [
    {
     "name": "stdout",
     "output_type": "stream",
     "text": [
      "<class 'pandas.core.frame.DataFrame'>\n",
      "DatetimeIndex: 29545 entries, 2018-05-01 00:00:00+00:00 to 2021-09-13 00:00:00+00:00\n",
      "Freq: H\n",
      "Data columns (total 40 columns):\n",
      " #   Column                                   Non-Null Count  Dtype  \n",
      "---  ------                                   --------------  -----  \n",
      " 0   dow                                      29545 non-null  int64  \n",
      " 1   hour                                     29545 non-null  int64  \n",
      " 2   month                                    29545 non-null  int64  \n",
      " 3   is_sunny                                 29545 non-null  int64  \n",
      " 4   is_holiday                               29545 non-null  bool   \n",
      " 5   Day ahead forecast                       29545 non-null  float64\n",
      " 6   Hour ahead forecast                      29545 non-null  float64\n",
      " 7   Current demand                           29545 non-null  float64\n",
      " 8   Net demand                               29545 non-null  float64\n",
      " 9   Net demand forecast                      29545 non-null  float64\n",
      " 10  Solar                                    29545 non-null  float64\n",
      " 11  Wind                                     29545 non-null  float64\n",
      " 12  Geothermal                               29545 non-null  float64\n",
      " 13  Biomass                                  29545 non-null  float64\n",
      " 14  Biogas                                   29545 non-null  float64\n",
      " 15  Small hydro                              29545 non-null  float64\n",
      " 16  Coal                                     29545 non-null  float64\n",
      " 17  Nuclear                                  29545 non-null  float64\n",
      " 18  Natural gas                              29545 non-null  float64\n",
      " 19  Large hydro                              29545 non-null  float64\n",
      " 20  Batteries                                29545 non-null  float64\n",
      " 21  Imports                                  29545 non-null  float64\n",
      " 22  Other                                    29545 non-null  float64\n",
      " 23  Natural Gas                              29545 non-null  float64\n",
      " 24  Large Hydro                              29545 non-null  float64\n",
      " 25  Biogas CO2                               29545 non-null  float64\n",
      " 26  Biomass CO2                              29545 non-null  float64\n",
      " 27  Natural Gas CO2                          29545 non-null  float64\n",
      " 28  Coal CO2                                 29545 non-null  float64\n",
      " 29  Imports CO2                              29545 non-null  float64\n",
      " 30  Geothermal CO2                           29545 non-null  float64\n",
      " 31  Demand                                   29545 non-null  float64\n",
      " 32  Net Demand                               29545 non-null  float64\n",
      " 33  Day-ahead demand forecast                29545 non-null  float64\n",
      " 34  Day-ahead net demand forecast            29545 non-null  float64\n",
      " 35  Resource adequacy capacity forecast      29545 non-null  float64\n",
      " 36  Net resource adequacy capacity forecast  29545 non-null  float64\n",
      " 37  Reserve requirement                      29545 non-null  float64\n",
      " 38  Reserve requirement forecast             29545 non-null  float64\n",
      " 39  Resource adequacy credits                29545 non-null  float64\n",
      "dtypes: bool(1), float64(35), int64(4)\n",
      "memory usage: 10.1 MB\n"
     ]
    }
   ],
   "source": [
    "X.info()"
   ],
   "metadata": {
    "collapsed": false,
    "ExecuteTime": {
     "end_time": "2024-03-04T19:50:27.291540Z",
     "start_time": "2024-03-04T19:50:27.242055Z"
    }
   },
   "id": "880c02b692be5005",
   "execution_count": 23
  },
  {
   "cell_type": "code",
   "outputs": [
    {
     "data": {
      "text/plain": "True"
     },
     "execution_count": 24,
     "metadata": {},
     "output_type": "execute_result"
    }
   ],
   "source": [
    "X.shape[0] == y.shape[0]"
   ],
   "metadata": {
    "collapsed": false,
    "ExecuteTime": {
     "end_time": "2024-03-04T19:50:27.305635Z",
     "start_time": "2024-03-04T19:50:27.298788Z"
    }
   },
   "id": "3fcd5be72586dcbb",
   "execution_count": 24
  },
  {
   "cell_type": "markdown",
   "source": [
    "# LSTM"
   ],
   "metadata": {
    "collapsed": false
   },
   "id": "baa5daf8007c1f1f"
  },
  {
   "cell_type": "code",
   "outputs": [
    {
     "name": "stdout",
     "output_type": "stream",
     "text": [
      "the training data has an average availability of is_available    69.652\n",
      "dtype: float64%\n"
     ]
    },
    {
     "name": "stderr",
     "output_type": "stream",
     "text": [
      "/var/folders/7p/8d9trt0n3szgfv_nhh5rk6v00000gn/T/ipykernel_6274/2810031212.py:4: FutureWarning: The default value of numeric_only in DataFrame.mean is deprecated. In a future version, it will default to False. In addition, specifying 'numeric_only=None' is deprecated. Select only valid columns or specify the value of numeric_only to silence this warning.\n",
      "  print(f'the training data has an average availability of {np.round(y_train.mean()*100,3)}%')\n"
     ]
    }
   ],
   "source": [
    "# Create hold out test set\n",
    "bin_numbers = pd.qcut(y['is_available'], q=10, labels=False, duplicates='drop')\n",
    "X_train, X_test, y_train, y_test = train_test_split(X, y, test_size = .2, stratify=bin_numbers, random_state=42)\n",
    "print(f'the training data has an average availability of {np.round(y_train.mean()*100,3)}%')"
   ],
   "metadata": {
    "collapsed": false,
    "ExecuteTime": {
     "end_time": "2024-03-04T19:50:27.350071Z",
     "start_time": "2024-03-04T19:50:27.308594Z"
    }
   },
   "id": "4cf4910a8b67b42f",
   "execution_count": 25
  },
  {
   "cell_type": "code",
   "outputs": [
    {
     "name": "stderr",
     "output_type": "stream",
     "text": [
      "2024-03-04 11:50:27.472374: I tensorflow/core/platform/cpu_feature_guard.cc:193] This TensorFlow binary is optimized with oneAPI Deep Neural Network Library (oneDNN) to use the following CPU instructions in performance-critical operations:  SSE4.1 SSE4.2 AVX AVX2 FMA\n",
      "To enable them in other operations, rebuild TensorFlow with the appropriate compiler flags.\n"
     ]
    }
   ],
   "source": [
    "from sklearn.preprocessing import MinMaxScaler\n",
    "import tensorflow as tf\n",
    "from tensorflow.keras.layers import LSTM, Dense, Dropout\n",
    "from tensorflow.keras.models import Sequential\n",
    "tf.random.set_seed(42)"
   ],
   "metadata": {
    "collapsed": false,
    "ExecuteTime": {
     "end_time": "2024-03-04T19:50:33.138703Z",
     "start_time": "2024-03-04T19:50:27.352024Z"
    }
   },
   "id": "20eb8fa6ce3abd1d",
   "execution_count": 26
  },
  {
   "cell_type": "code",
   "outputs": [],
   "source": [
    "#scaler = MinMaxScaler(feature_range=(0,1))\n",
    "look_back = 1"
   ],
   "metadata": {
    "collapsed": false,
    "ExecuteTime": {
     "end_time": "2024-03-04T19:50:33.150134Z",
     "start_time": "2024-03-04T19:50:33.145897Z"
    }
   },
   "id": "8a29fa550e4333b5",
   "execution_count": 27
  },
  {
   "cell_type": "code",
   "outputs": [
    {
     "name": "stderr",
     "output_type": "stream",
     "text": [
      "2024-03-04 11:50:33.156895: I tensorflow/core/platform/cpu_feature_guard.cc:193] This TensorFlow binary is optimized with oneAPI Deep Neural Network Library (oneDNN) to use the following CPU instructions in performance-critical operations:  SSE4.1 SSE4.2 AVX AVX2 FMA\n",
      "To enable them in other operations, rebuild TensorFlow with the appropriate compiler flags.\n"
     ]
    }
   ],
   "source": [
    "model = Sequential()\n",
    "model.add(LSTM(4, input_shape=(1,40)))\n",
    "model.add(Dense(1))\n",
    "model.compile(loss='mean_squared_error', optimizer='adam')"
   ],
   "metadata": {
    "collapsed": false,
    "ExecuteTime": {
     "end_time": "2024-03-04T19:50:33.631232Z",
     "start_time": "2024-03-04T19:50:33.152529Z"
    }
   },
   "id": "ab6614c14f604bf",
   "execution_count": 28
  },
  {
   "cell_type": "code",
   "outputs": [],
   "source": [
    "X_train = np.reshape(X_train.values.astype(float), (X_train.shape[0], 1, X_train.shape[1]))\n",
    "X_test = np.reshape(X_test.values.astype(float), (X_test.shape[0], 1, X_test.shape[1]))"
   ],
   "metadata": {
    "collapsed": false,
    "ExecuteTime": {
     "end_time": "2024-03-04T19:50:33.755863Z",
     "start_time": "2024-03-04T19:50:33.634828Z"
    }
   },
   "id": "4d3589df17bcc2b8",
   "execution_count": 29
  },
  {
   "cell_type": "code",
   "outputs": [
    {
     "name": "stdout",
     "output_type": "stream",
     "text": [
      "(None, 1, 40) <dtype: 'float32'>\n",
      "(None, 1) <dtype: 'float32'>\n",
      "lstm (None, 1, 40) float32\n",
      "dense (None, 4) float32\n"
     ]
    },
    {
     "data": {
      "text/plain": "[None, None]"
     },
     "execution_count": 30,
     "metadata": {},
     "output_type": "execute_result"
    }
   ],
   "source": [
    "[print(i.shape, i.dtype) for i in model.inputs]\n",
    "[print(o.shape, o.dtype) for o in model.outputs]\n",
    "[print(l.name, l.input_shape, l.dtype) for l in model.layers]"
   ],
   "metadata": {
    "collapsed": false,
    "ExecuteTime": {
     "end_time": "2024-03-04T19:50:33.764480Z",
     "start_time": "2024-03-04T19:50:33.757719Z"
    }
   },
   "id": "46a164c7d2f40e6d",
   "execution_count": 30
  },
  {
   "cell_type": "code",
   "outputs": [
    {
     "data": {
      "text/plain": "(23636, 1, 40)"
     },
     "execution_count": 31,
     "metadata": {},
     "output_type": "execute_result"
    }
   ],
   "source": [
    "X_train.shape"
   ],
   "metadata": {
    "collapsed": false,
    "ExecuteTime": {
     "end_time": "2024-03-04T19:50:33.773561Z",
     "start_time": "2024-03-04T19:50:33.766346Z"
    }
   },
   "id": "dfda6a1daa43aed8",
   "execution_count": 31
  },
  {
   "cell_type": "code",
   "outputs": [],
   "source": [],
   "metadata": {
    "collapsed": false,
    "ExecuteTime": {
     "end_time": "2024-03-04T19:50:33.779652Z",
     "start_time": "2024-03-04T19:50:33.776676Z"
    }
   },
   "id": "395dd32c6dabd4bf",
   "execution_count": 31
  },
  {
   "cell_type": "code",
   "outputs": [],
   "source": [
    "y_train = y_train.drop('sessionID', axis=1) \n",
    "y_test = y_test.drop('sessionID', axis=1)"
   ],
   "metadata": {
    "collapsed": false,
    "ExecuteTime": {
     "end_time": "2024-03-04T19:50:33.790264Z",
     "start_time": "2024-03-04T19:50:33.782172Z"
    }
   },
   "id": "7400a2d72281f281",
   "execution_count": 32
  },
  {
   "cell_type": "code",
   "outputs": [
    {
     "name": "stdout",
     "output_type": "stream",
     "text": [
      "Epoch 1/10\n",
      "2955/2955 - 7s - loss: 0.2499 - 7s/epoch - 2ms/step\n",
      "Epoch 2/10\n",
      "2955/2955 - 5s - loss: 0.2158 - 5s/epoch - 2ms/step\n",
      "Epoch 3/10\n",
      "2955/2955 - 5s - loss: 0.2140 - 5s/epoch - 2ms/step\n",
      "Epoch 4/10\n",
      "2955/2955 - 5s - loss: 0.2130 - 5s/epoch - 2ms/step\n",
      "Epoch 5/10\n",
      "2955/2955 - 5s - loss: 0.2124 - 5s/epoch - 2ms/step\n",
      "Epoch 6/10\n",
      "2955/2955 - 6s - loss: 0.2121 - 6s/epoch - 2ms/step\n",
      "Epoch 7/10\n",
      "2955/2955 - 4s - loss: 0.2118 - 4s/epoch - 2ms/step\n",
      "Epoch 8/10\n",
      "2955/2955 - 4s - loss: 0.2118 - 4s/epoch - 1ms/step\n",
      "Epoch 9/10\n",
      "2955/2955 - 4s - loss: 0.2116 - 4s/epoch - 1ms/step\n",
      "Epoch 10/10\n",
      "2955/2955 - 4s - loss: 0.2115 - 4s/epoch - 1ms/step\n"
     ]
    },
    {
     "data": {
      "text/plain": "<keras.callbacks.History at 0x7f9f4760b100>"
     },
     "execution_count": 33,
     "metadata": {},
     "output_type": "execute_result"
    }
   ],
   "source": [
    "model.fit(X_train, y_train, epochs=10, batch_size=8, verbose=2)"
   ],
   "metadata": {
    "collapsed": false,
    "ExecuteTime": {
     "end_time": "2024-03-04T19:51:22.220949Z",
     "start_time": "2024-03-04T19:50:33.793561Z"
    }
   },
   "id": "8f361723b734b37a",
   "execution_count": 33
  },
  {
   "cell_type": "code",
   "outputs": [
    {
     "name": "stdout",
     "output_type": "stream",
     "text": [
      "185/185 [==============================] - 1s 1ms/step\n"
     ]
    }
   ],
   "source": [
    "predictions = model.predict(X_test)"
   ],
   "metadata": {
    "collapsed": false,
    "ExecuteTime": {
     "end_time": "2024-03-04T19:51:23.046056Z",
     "start_time": "2024-03-04T19:51:22.222517Z"
    }
   },
   "id": "d29c229d5ea17451",
   "execution_count": 34
  },
  {
   "cell_type": "code",
   "outputs": [],
   "source": [
    "from sklearn.metrics import mean_squared_error"
   ],
   "metadata": {
    "collapsed": false,
    "ExecuteTime": {
     "end_time": "2024-03-04T19:51:23.050785Z",
     "start_time": "2024-03-04T19:51:23.047470Z"
    }
   },
   "id": "c4c9771eddeb4dfd",
   "execution_count": 35
  },
  {
   "cell_type": "code",
   "outputs": [
    {
     "name": "stdout",
     "output_type": "stream",
     "text": [
      "Mean Squared Error: 0.20589560512488717\n"
     ]
    }
   ],
   "source": [
    "# MSE with CAISO\n",
    "score = mean_squared_error(y_test, predictions)\n",
    "print(f'Mean Squared Error: {score}')"
   ],
   "metadata": {
    "collapsed": false,
    "ExecuteTime": {
     "end_time": "2024-03-04T19:51:23.059672Z",
     "start_time": "2024-03-04T19:51:23.052930Z"
    }
   },
   "id": "f01801a36bfda0c1",
   "execution_count": 36
  },
  {
   "cell_type": "markdown",
   "source": [
    "# XGBoost"
   ],
   "metadata": {
    "collapsed": false
   },
   "id": "19c0401ad88d967d"
  },
  {
   "cell_type": "code",
   "outputs": [],
   "source": [
    "from xgboost import XGBClassifier"
   ],
   "metadata": {
    "collapsed": false,
    "ExecuteTime": {
     "end_time": "2024-03-04T19:51:23.630337Z",
     "start_time": "2024-03-04T19:51:23.061360Z"
    }
   },
   "id": "f05de45290c91b4e",
   "execution_count": 37
  }
 ],
 "metadata": {
  "kernelspec": {
   "display_name": "Python 3",
   "language": "python",
   "name": "python3"
  },
  "language_info": {
   "codemirror_mode": {
    "name": "ipython",
    "version": 2
   },
   "file_extension": ".py",
   "mimetype": "text/x-python",
   "name": "python",
   "nbconvert_exporter": "python",
   "pygments_lexer": "ipython2",
   "version": "2.7.6"
  }
 },
 "nbformat": 4,
 "nbformat_minor": 5
}
