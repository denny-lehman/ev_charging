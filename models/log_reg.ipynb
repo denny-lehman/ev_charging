{
 "cells": [
  {
   "cell_type": "markdown",
   "source": [
    "# Logistic regression model\n",
    "Goal is to make a binary classification model for a single charging spot, in this case can predict when spot 02 will be available of the office01 site\n",
    "\n",
    "1st model, assume each time point is independent\n",
    "\n"
   ],
   "metadata": {
    "collapsed": false
   },
   "id": "84c030c26aee9d09"
  },
  {
   "cell_type": "markdown",
   "source": [
    "## 0 imports"
   ],
   "metadata": {
    "collapsed": false
   },
   "id": "4782fc2a5d6ccf9d"
  },
  {
   "cell_type": "code",
   "execution_count": 1,
   "outputs": [
    {
     "name": "stdout",
     "output_type": "stream",
     "text": [
      "in the right place!\n"
     ]
    },
    {
     "data": {
      "text/plain": "'/home/denny/Documents/mids/ev_charging'"
     },
     "execution_count": 1,
     "metadata": {},
     "output_type": "execute_result"
    }
   ],
   "source": [
    "import os\n",
    "if 'models' == os.getcwd().split('/')[-1]: os.chdir('..')\n",
    "if 'ev_charging' == os.getcwd().split('/')[-1]: print('in the right place!')\n",
    "else: os.chdir('/Users/varunvenkatesh/Documents/Github/ev_charging')\n",
    "os.getcwd()"
   ],
   "metadata": {
    "collapsed": false,
    "ExecuteTime": {
     "end_time": "2024-03-14T04:37:54.919179699Z",
     "start_time": "2024-03-14T04:37:53.486559610Z"
    }
   },
   "id": "22fb8e3336ae7737"
  },
  {
   "cell_type": "code",
   "execution_count": 2,
   "outputs": [],
   "source": [
    "import pandas as pd\n",
    "import numpy as np\n",
    "import matplotlib.pyplot as plt\n",
    "from src.data_preprocessing import datetime_processing, userinput_processing, holiday_processing, get_start_end_times, create_wide_y, create_all_site_y, create_x\n",
    "\n",
    "from sklearn.model_selection import train_test_split\n",
    "from sklearn.linear_model import LogisticRegression\n",
    "from sklearn.preprocessing import OneHotEncoder\n",
    "from sklearn.pipeline import Pipeline\n",
    "\n",
    "from sklearn.metrics import confusion_matrix, ConfusionMatrixDisplay, f1_score, precision_score, recall_score, accuracy_score\n"
   ],
   "metadata": {
    "collapsed": false,
    "ExecuteTime": {
     "end_time": "2024-03-14T04:37:57.288046677Z",
     "start_time": "2024-03-14T04:37:53.502822833Z"
    }
   },
   "id": "9d3c2746d7b8a87b"
  },
  {
   "cell_type": "markdown",
   "source": [
    "## 1 Data and Cleaning"
   ],
   "metadata": {
    "collapsed": false
   },
   "id": "d561042eae32d82d"
  },
  {
   "cell_type": "code",
   "execution_count": 3,
   "outputs": [],
   "source": [
    "# load office data"
   ],
   "metadata": {
    "collapsed": false,
    "ExecuteTime": {
     "end_time": "2024-03-14T04:37:57.299144717Z",
     "start_time": "2024-03-14T04:37:54.609535524Z"
    }
   },
   "id": "cae6656692aeb3a8"
  },
  {
   "cell_type": "code",
   "execution_count": 4,
   "outputs": [],
   "source": [
    "df_of = pd.read_parquet('data/ACN-API/office001/').reset_index(drop=True)\n",
    "df_of = datetime_processing(df_of)\n",
    "df_of = userinput_processing(df_of)\n"
   ],
   "metadata": {
    "collapsed": false,
    "ExecuteTime": {
     "end_time": "2024-03-14T04:37:57.495071016Z",
     "start_time": "2024-03-14T04:37:54.609816654Z"
    }
   },
   "id": "7bc3a080bbc6076d"
  },
  {
   "cell_type": "code",
   "execution_count": 5,
   "outputs": [
    {
     "data": {
      "text/plain": "                        _id  userID  \\\n0  5cd1d47af9af8b68f0e96713    None   \n1  5cd1d47af9af8b68f0e96714    None   \n2  5cd1d47af9af8b68f0e96715    None   \n3  5cd1d47df9af8b68f0e96716    None   \n4  5cd1d47ef9af8b68f0e96717    None   \n\n                                    sessionID        stationID spaceID  \\\n0  19_102_260_1633_2019-03-25 16:24:42.408146  19-102-260-1633      02   \n1  19_102_260_1634_2019-03-25 17:19:26.896309  19-102-260-1634      03   \n2  19_102_260_1640_2019-03-25 21:27:32.338192  19-102-260-1640      08   \n3  19_102_260_1640_2019-03-26 18:33:56.204855  19-102-260-1640      08   \n4  19_102_260_1640_2019-03-27 18:28:00.642220  19-102-260-1640      08   \n\n   siteID  clusterID            connectionTime            disconnectTime  \\\n0      19        102 2019-03-25 16:24:42+00:00 2019-03-26 01:32:12+00:00   \n1      19        102 2019-03-25 17:19:27+00:00 2019-03-26 00:38:50+00:00   \n2      19        102 2019-03-25 21:27:32+00:00 2019-03-26 03:32:03+00:00   \n3      19        102 2019-03-26 18:33:56+00:00 2019-03-27 00:45:33+00:00   \n4      19        102 2019-03-27 18:28:01+00:00 2019-03-28 00:37:47+00:00   \n\n   kWhDelivered  ... doneChargingTimeHour  doneChargingTimeDay  userID  \\\n0         6.146  ...                 17.0                 25.0     NaN   \n1         3.658  ...                 18.0                 25.0     NaN   \n2        28.330  ...                  2.0                 26.0     NaN   \n3        12.978  ...                 22.0                 26.0     NaN   \n4        10.688  ...                 21.0                 27.0     NaN   \n\n   milesRequested  WhPerMile  minutesAvailable  modifiedAt  paymentRequired  \\\n0             NaN        NaN               NaN        None             None   \n1             NaN        NaN               NaN        None             None   \n2             NaN        NaN               NaN        None             None   \n3             NaN        NaN               NaN        None             None   \n4             NaN        NaN               NaN        None             None   \n\n   requestedDeparture  kWhRequested  \n0                None           NaN  \n1                None           NaN  \n2                None           NaN  \n3                None           NaN  \n4                None           NaN  \n\n[5 rows x 25 columns]",
      "text/html": "<div>\n<style scoped>\n    .dataframe tbody tr th:only-of-type {\n        vertical-align: middle;\n    }\n\n    .dataframe tbody tr th {\n        vertical-align: top;\n    }\n\n    .dataframe thead th {\n        text-align: right;\n    }\n</style>\n<table border=\"1\" class=\"dataframe\">\n  <thead>\n    <tr style=\"text-align: right;\">\n      <th></th>\n      <th>_id</th>\n      <th>userID</th>\n      <th>sessionID</th>\n      <th>stationID</th>\n      <th>spaceID</th>\n      <th>siteID</th>\n      <th>clusterID</th>\n      <th>connectionTime</th>\n      <th>disconnectTime</th>\n      <th>kWhDelivered</th>\n      <th>...</th>\n      <th>doneChargingTimeHour</th>\n      <th>doneChargingTimeDay</th>\n      <th>userID</th>\n      <th>milesRequested</th>\n      <th>WhPerMile</th>\n      <th>minutesAvailable</th>\n      <th>modifiedAt</th>\n      <th>paymentRequired</th>\n      <th>requestedDeparture</th>\n      <th>kWhRequested</th>\n    </tr>\n  </thead>\n  <tbody>\n    <tr>\n      <th>0</th>\n      <td>5cd1d47af9af8b68f0e96713</td>\n      <td>None</td>\n      <td>19_102_260_1633_2019-03-25 16:24:42.408146</td>\n      <td>19-102-260-1633</td>\n      <td>02</td>\n      <td>19</td>\n      <td>102</td>\n      <td>2019-03-25 16:24:42+00:00</td>\n      <td>2019-03-26 01:32:12+00:00</td>\n      <td>6.146</td>\n      <td>...</td>\n      <td>17.0</td>\n      <td>25.0</td>\n      <td>NaN</td>\n      <td>NaN</td>\n      <td>NaN</td>\n      <td>NaN</td>\n      <td>None</td>\n      <td>None</td>\n      <td>None</td>\n      <td>NaN</td>\n    </tr>\n    <tr>\n      <th>1</th>\n      <td>5cd1d47af9af8b68f0e96714</td>\n      <td>None</td>\n      <td>19_102_260_1634_2019-03-25 17:19:26.896309</td>\n      <td>19-102-260-1634</td>\n      <td>03</td>\n      <td>19</td>\n      <td>102</td>\n      <td>2019-03-25 17:19:27+00:00</td>\n      <td>2019-03-26 00:38:50+00:00</td>\n      <td>3.658</td>\n      <td>...</td>\n      <td>18.0</td>\n      <td>25.0</td>\n      <td>NaN</td>\n      <td>NaN</td>\n      <td>NaN</td>\n      <td>NaN</td>\n      <td>None</td>\n      <td>None</td>\n      <td>None</td>\n      <td>NaN</td>\n    </tr>\n    <tr>\n      <th>2</th>\n      <td>5cd1d47af9af8b68f0e96715</td>\n      <td>None</td>\n      <td>19_102_260_1640_2019-03-25 21:27:32.338192</td>\n      <td>19-102-260-1640</td>\n      <td>08</td>\n      <td>19</td>\n      <td>102</td>\n      <td>2019-03-25 21:27:32+00:00</td>\n      <td>2019-03-26 03:32:03+00:00</td>\n      <td>28.330</td>\n      <td>...</td>\n      <td>2.0</td>\n      <td>26.0</td>\n      <td>NaN</td>\n      <td>NaN</td>\n      <td>NaN</td>\n      <td>NaN</td>\n      <td>None</td>\n      <td>None</td>\n      <td>None</td>\n      <td>NaN</td>\n    </tr>\n    <tr>\n      <th>3</th>\n      <td>5cd1d47df9af8b68f0e96716</td>\n      <td>None</td>\n      <td>19_102_260_1640_2019-03-26 18:33:56.204855</td>\n      <td>19-102-260-1640</td>\n      <td>08</td>\n      <td>19</td>\n      <td>102</td>\n      <td>2019-03-26 18:33:56+00:00</td>\n      <td>2019-03-27 00:45:33+00:00</td>\n      <td>12.978</td>\n      <td>...</td>\n      <td>22.0</td>\n      <td>26.0</td>\n      <td>NaN</td>\n      <td>NaN</td>\n      <td>NaN</td>\n      <td>NaN</td>\n      <td>None</td>\n      <td>None</td>\n      <td>None</td>\n      <td>NaN</td>\n    </tr>\n    <tr>\n      <th>4</th>\n      <td>5cd1d47ef9af8b68f0e96717</td>\n      <td>None</td>\n      <td>19_102_260_1640_2019-03-27 18:28:00.642220</td>\n      <td>19-102-260-1640</td>\n      <td>08</td>\n      <td>19</td>\n      <td>102</td>\n      <td>2019-03-27 18:28:01+00:00</td>\n      <td>2019-03-28 00:37:47+00:00</td>\n      <td>10.688</td>\n      <td>...</td>\n      <td>21.0</td>\n      <td>27.0</td>\n      <td>NaN</td>\n      <td>NaN</td>\n      <td>NaN</td>\n      <td>NaN</td>\n      <td>None</td>\n      <td>None</td>\n      <td>None</td>\n      <td>NaN</td>\n    </tr>\n  </tbody>\n</table>\n<p>5 rows × 25 columns</p>\n</div>"
     },
     "execution_count": 5,
     "metadata": {},
     "output_type": "execute_result"
    }
   ],
   "source": [
    "df_of.head()"
   ],
   "metadata": {
    "collapsed": false,
    "ExecuteTime": {
     "end_time": "2024-03-14T04:37:57.500053677Z",
     "start_time": "2024-03-14T04:37:54.954623179Z"
    }
   },
   "id": "27c9099dc7a00dd3"
  },
  {
   "cell_type": "code",
   "execution_count": 6,
   "outputs": [
    {
     "name": "stdout",
     "output_type": "stream",
     "text": [
      "<class 'pandas.core.frame.DataFrame'>\n",
      "RangeIndex: 1681 entries, 0 to 1680\n",
      "Data columns (total 25 columns):\n",
      " #   Column                Non-Null Count  Dtype              \n",
      "---  ------                --------------  -----              \n",
      " 0   _id                   1681 non-null   object             \n",
      " 1   userID                583 non-null    object             \n",
      " 2   sessionID             1681 non-null   object             \n",
      " 3   stationID             1681 non-null   object             \n",
      " 4   spaceID               1681 non-null   object             \n",
      " 5   siteID                1681 non-null   int64              \n",
      " 6   clusterID             1681 non-null   int64              \n",
      " 7   connectionTime        1681 non-null   datetime64[ns, UTC]\n",
      " 8   disconnectTime        1681 non-null   datetime64[ns, UTC]\n",
      " 9   kWhDelivered          1681 non-null   float64            \n",
      " 10  doneChargingTime      1627 non-null   datetime64[ns, UTC]\n",
      " 11  connectionTimeHour    1681 non-null   int32              \n",
      " 12  connectionTimeDay     1681 non-null   int32              \n",
      " 13  disconnectTimeHour    1681 non-null   int32              \n",
      " 14  disconnectTimeDay     1681 non-null   int32              \n",
      " 15  doneChargingTimeHour  1627 non-null   float64            \n",
      " 16  doneChargingTimeDay   1627 non-null   float64            \n",
      " 17  userID                583 non-null    float64            \n",
      " 18  milesRequested        583 non-null    float64            \n",
      " 19  WhPerMile             583 non-null    float64            \n",
      " 20  minutesAvailable      583 non-null    float64            \n",
      " 21  modifiedAt            583 non-null    object             \n",
      " 22  paymentRequired       583 non-null    object             \n",
      " 23  requestedDeparture    583 non-null    object             \n",
      " 24  kWhRequested          583 non-null    float64            \n",
      "dtypes: datetime64[ns, UTC](3), float64(8), int32(4), int64(2), object(8)\n",
      "memory usage: 302.2+ KB\n"
     ]
    }
   ],
   "source": [
    "df_of.info()\n"
   ],
   "metadata": {
    "collapsed": false,
    "ExecuteTime": {
     "end_time": "2024-03-14T04:37:57.500350688Z",
     "start_time": "2024-03-14T04:37:54.980990592Z"
    }
   },
   "id": "19dd8e0aeadbccbb"
  },
  {
   "cell_type": "markdown",
   "source": [
    "## 2 plotting and eval"
   ],
   "metadata": {
    "collapsed": false
   },
   "id": "2fd1517a24cbcc89"
  },
  {
   "cell_type": "code",
   "execution_count": 7,
   "outputs": [],
   "source": [
    "def make_classification_plot(cm):\n",
    "    disp = ConfusionMatrixDisplay(cm)\n",
    "    disp = disp.plot(include_values=True, cmap='viridis', ax=None, xticks_rotation='horizontal')\n",
    "    plt.grid(False)\n",
    "    plt.show()"
   ],
   "metadata": {
    "collapsed": false,
    "ExecuteTime": {
     "end_time": "2024-03-14T04:37:57.500415317Z",
     "start_time": "2024-03-14T04:37:54.985585114Z"
    }
   },
   "id": "23577dbf759a1c93"
  },
  {
   "cell_type": "code",
   "execution_count": 8,
   "outputs": [],
   "source": [
    "def get_results(y_test, prediction):\n",
    "    cm = confusion_matrix(y_test,prediction)\n",
    "    make_classification_plot(cm)\n",
    "    \n",
    "    results = {'tpr': cm[1, 1]/np.sum(cm[1]),\n",
    "               'fpr': cm[0,1]/np.sum(cm[0]),\n",
    "               'accuracy': accuracy_score(y_test, prediction),\n",
    "               'precision': precision_score(y_test, prediction),\n",
    "               'recall': recall_score(y_test, prediction),\n",
    "        'f1':f1_score(y_test,prediction)}\n",
    "    return results\n",
    "    "
   ],
   "metadata": {
    "collapsed": false,
    "ExecuteTime": {
     "end_time": "2024-03-14T04:37:57.500458295Z",
     "start_time": "2024-03-14T04:37:55.033410686Z"
    }
   },
   "id": "4c9ba2ce14ee28a7"
  },
  {
   "cell_type": "code",
   "execution_count": 9,
   "outputs": [],
   "source": [
    "results = {}"
   ],
   "metadata": {
    "collapsed": false,
    "ExecuteTime": {
     "end_time": "2024-03-14T04:37:57.500499329Z",
     "start_time": "2024-03-14T04:37:55.033588617Z"
    }
   },
   "id": "b84972c27f9c0d21"
  },
  {
   "cell_type": "markdown",
   "source": [
    "# 3 Make X and y values"
   ],
   "metadata": {
    "collapsed": false
   },
   "id": "212245d109773fb7"
  },
  {
   "cell_type": "code",
   "execution_count": 10,
   "outputs": [],
   "source": [
    "space_ = '02'\n",
    "df = df_of[df_of['spaceID'] == '02']\n",
    "start_date, end_date = get_start_end_times(df)\n",
    "y = create_all_site_y(df, regression=False).rename(columns={space_:'is_available'})\n",
    "\n",
    "# convert to series\n",
    "y = y['is_available']"
   ],
   "metadata": {
    "collapsed": false,
    "ExecuteTime": {
     "end_time": "2024-03-14T04:37:57.500568142Z",
     "start_time": "2024-03-14T04:37:55.033650829Z"
    }
   },
   "id": "b694a396c1edd091"
  },
  {
   "cell_type": "code",
   "execution_count": 11,
   "outputs": [],
   "source": [
    "# tmp = df_of.copy().set_index('connectionTime')\n",
    "# tmp = tmp[tmp['spaceID'] == '02'].sort_index()"
   ],
   "metadata": {
    "collapsed": false,
    "ExecuteTime": {
     "end_time": "2024-03-14T04:37:57.500610722Z",
     "start_time": "2024-03-14T04:37:55.147061470Z"
    }
   },
   "id": "a4dacd35e4747513"
  },
  {
   "cell_type": "code",
   "execution_count": 12,
   "outputs": [],
   "source": [
    "# # TODO: make better variable names ie start_ -> session_start_time\n",
    "# y = pd.DataFrame(index=pd.date_range('2019-03-25','2021-09-12', inclusive='both', freq='h', tz=0),columns=['is_available','sessionID'])\n",
    "# y['is_available'] = 1\n",
    "# for i in range(len(tmp)):\n",
    "#     start_ = tmp.index[i]\n",
    "#     end_ = tmp.loc[start_,'disconnectTime'] \n",
    "#     session_ = tmp.loc[start_,'sessionID']\n",
    "#     # print(start_,'\\t', end_,'\\t', session_)\n",
    "#     y.loc[start_:end_,['is_available','sessionID']] = 0, session_"
   ],
   "metadata": {
    "collapsed": false,
    "ExecuteTime": {
     "end_time": "2024-03-14T04:37:57.500651190Z",
     "start_time": "2024-03-14T04:37:55.189557511Z"
    }
   },
   "id": "2bd44672916d0ee3"
  },
  {
   "cell_type": "code",
   "execution_count": 13,
   "outputs": [],
   "source": [
    "# y = y['is_available']"
   ],
   "metadata": {
    "collapsed": false,
    "ExecuteTime": {
     "end_time": "2024-03-14T04:37:57.500690877Z",
     "start_time": "2024-03-14T04:37:55.189813187Z"
    }
   },
   "id": "2170f2c724d45de9"
  },
  {
   "cell_type": "code",
   "execution_count": 14,
   "outputs": [],
   "source": [
    "X = create_x(start_date, end_date, caiso_fp=False)"
   ],
   "metadata": {
    "collapsed": false,
    "ExecuteTime": {
     "end_time": "2024-03-14T04:37:57.500734209Z",
     "start_time": "2024-03-14T04:37:55.189904789Z"
    }
   },
   "id": "9b187cfec8bfa873"
  },
  {
   "cell_type": "code",
   "execution_count": 15,
   "outputs": [],
   "source": [
    "# X = pd.DataFrame(index=pd.date_range('2019-03-25','2021-09-12', inclusive='both', freq='h', tz=0),columns=['dow','hour','month'])\n",
    "# # X['dow'] = X.index.dt.hour\n",
    "# X['dow'] = X.index.dayofweek\n",
    "# X['hour'] = X.index.hour\n",
    "# X['month'] = X.index.month\n",
    "# X['connectionTime'] = X.index\n",
    "# X = holiday_processing(X).drop(columns=['connectionTime'])\n",
    "# X.head()"
   ],
   "metadata": {
    "collapsed": false,
    "ExecuteTime": {
     "end_time": "2024-03-14T04:37:57.500776147Z",
     "start_time": "2024-03-14T04:37:55.208472559Z"
    }
   },
   "id": "460da19ef084d6c1"
  },
  {
   "cell_type": "code",
   "execution_count": 16,
   "outputs": [
    {
     "name": "stdout",
     "output_type": "stream",
     "text": [
      "charger spot #2 is available 89.274% of the time\n"
     ]
    }
   ],
   "source": [
    "# print(f'charger spot #2 is available {np.round(y.is_available.mean()*100,3)}% of the time')\n",
    "print(f'charger spot #2 is available {np.round(y.mean()*100,3)}% of the time')"
   ],
   "metadata": {
    "collapsed": false,
    "ExecuteTime": {
     "end_time": "2024-03-14T04:37:57.500895231Z",
     "start_time": "2024-03-14T04:37:55.253131942Z"
    }
   },
   "id": "57aa459620800b43"
  },
  {
   "cell_type": "code",
   "execution_count": 17,
   "outputs": [
    {
     "data": {
      "text/plain": "True"
     },
     "execution_count": 17,
     "metadata": {},
     "output_type": "execute_result"
    }
   ],
   "source": [
    "X.shape[0] == y.shape[0]"
   ],
   "metadata": {
    "collapsed": false,
    "ExecuteTime": {
     "end_time": "2024-03-14T04:37:57.501051976Z",
     "start_time": "2024-03-14T04:37:55.253323781Z"
    }
   },
   "id": "1df7bca93d99eee8"
  },
  {
   "cell_type": "markdown",
   "source": [
    "# 4 model time"
   ],
   "metadata": {
    "collapsed": false
   },
   "id": "d2eafe29d26fa2d6"
  },
  {
   "cell_type": "markdown",
   "source": [
    "## using a stratified train test split as often as possible\n",
    "https://www.investopedia.com/terms/stratified_random_sampling.asp"
   ],
   "metadata": {
    "collapsed": false
   },
   "id": "22d5c3ab78571759"
  },
  {
   "cell_type": "code",
   "execution_count": 19,
   "outputs": [
    {
     "name": "stdout",
     "output_type": "stream",
     "text": [
      "the training data has an average availability of 89.271%\n"
     ]
    }
   ],
   "source": [
    "# Create hold out test set\n",
    "X_train, X_test, y_train, y_test = train_test_split(X, y, test_size = .2, stratify=y)\n",
    "print(f'the training data has an average availability of {np.round(y_train.mean()*100,3)}%')\n"
   ],
   "metadata": {
    "collapsed": false,
    "ExecuteTime": {
     "end_time": "2024-03-14T04:37:57.501314468Z",
     "start_time": "2024-03-14T04:37:55.253510128Z"
    }
   },
   "id": "d6dac9150ac9056"
  },
  {
   "cell_type": "markdown",
   "source": [
    "## 4.1 Baselines"
   ],
   "metadata": {
    "collapsed": false
   },
   "id": "82a31e1197bd54b3"
  },
  {
   "cell_type": "markdown",
   "source": [
    "### 4.10 Guess always available (baseline)"
   ],
   "metadata": {
    "collapsed": false
   },
   "id": "6637e190339687b8"
  },
  {
   "cell_type": "code",
   "execution_count": 20,
   "outputs": [
    {
     "name": "stdout",
     "output_type": "stream",
     "text": [
      "guess always available and never available\n"
     ]
    },
    {
     "data": {
      "text/plain": "<Figure size 640x480 with 2 Axes>",
      "image/png": "[encoded data removed]"
     },
     "metadata": {},
     "output_type": "display_data"
    }
   ],
   "source": [
    "print('guess always available and never available')\n",
    "results['always_available'] = get_results(y_test, [1] * len(y_test))\n"
   ],
   "metadata": {
    "collapsed": false,
    "ExecuteTime": {
     "end_time": "2024-03-14T04:37:57.501899481Z",
     "start_time": "2024-03-14T04:37:55.256615082Z"
    }
   },
   "id": "c99ea90ad33c5a70"
  },
  {
   "cell_type": "markdown",
   "source": [
    "### 4.11 Guess never available (baseline)"
   ],
   "metadata": {
    "collapsed": false
   },
   "id": "8080feefa3068d9b"
  },
  {
   "cell_type": "code",
   "execution_count": 21,
   "outputs": [
    {
     "name": "stdout",
     "output_type": "stream",
     "text": [
      "guess never available\n"
     ]
    },
    {
     "data": {
      "text/plain": "<Figure size 640x480 with 2 Axes>",
      "image/png": "[encoded data removed]"
     },
     "metadata": {},
     "output_type": "display_data"
    },
    {
     "name": "stderr",
     "output_type": "stream",
     "text": [
      "/home/denny/anaconda3/envs/ev/lib/python3.11/site-packages/sklearn/metrics/_classification.py:1509: UndefinedMetricWarning: Precision is ill-defined and being set to 0.0 due to no predicted samples. Use `zero_division` parameter to control this behavior.\n",
      "  _warn_prf(average, modifier, f\"{metric.capitalize()} is\", len(result))\n"
     ]
    }
   ],
   "source": [
    "print('guess never available') \n",
    "results['never_available'] = get_results(y_test, [0] * len(y_test))"
   ],
   "metadata": {
    "collapsed": false,
    "ExecuteTime": {
     "end_time": "2024-03-14T04:37:57.502157183Z",
     "start_time": "2024-03-14T04:37:55.435079659Z"
    }
   },
   "id": "f42bacd27a8ad7ad"
  },
  {
   "cell_type": "markdown",
   "source": [
    "## 4.2 Sklearn logistic regression models"
   ],
   "metadata": {
    "collapsed": false
   },
   "id": "693ddf8bdb5eb790"
  },
  {
   "cell_type": "markdown",
   "source": [
    "## 4.21 L2 penalty"
   ],
   "metadata": {
    "collapsed": false
   },
   "id": "8428123169eb95cc"
  },
  {
   "cell_type": "code",
   "execution_count": 22,
   "outputs": [
    {
     "name": "stdout",
     "output_type": "stream",
     "text": [
      "The average accuracy is 0.893 ± 0.001\n",
      "test accuracy is 0.8926174496644296\n"
     ]
    },
    {
     "data": {
      "text/plain": "<Figure size 640x480 with 2 Axes>",
      "image/png": "[encoded data removed]"
     },
     "metadata": {},
     "output_type": "display_data"
    }
   ],
   "source": [
    "from sklearn.model_selection import StratifiedKFold, KFold\n",
    "from sklearn.model_selection import cross_validate\n",
    "from sklearn.model_selection import train_test_split\n",
    "from sklearn.linear_model import LogisticRegression\n",
    "from sklearn.preprocessing import OneHotEncoder\n",
    "from sklearn.pipeline import Pipeline\n",
    "\n",
    "\n",
    "model = LogisticRegression(penalty='l2')\n",
    "pipe = Pipeline([\n",
    "    ('ohe', OneHotEncoder(sparse_output=False, handle_unknown='ignore', drop='first')),\n",
    "    ('lr', model),\n",
    "])\n",
    "\n",
    "skf = StratifiedKFold(n_splits=3)\n",
    "cv_results = cross_validate(pipe, X_train, y_train, cv=skf)\n",
    "test_score = cv_results[\"test_score\"]\n",
    "print(\n",
    "    f\"The average accuracy is {test_score.mean():.3f} ± {test_score.std():.3f}\"\n",
    ")\n",
    "pipe.fit(X_train, y_train)\n",
    "pred = pipe.predict(X_test)\n",
    "print(f'test accuracy is {pipe.score(X_test, y_test)}')\n",
    "\n",
    "results['sk_log_l2_skf'] = get_results(y_test, pred)\n"
   ],
   "metadata": {
    "collapsed": false,
    "ExecuteTime": {
     "end_time": "2024-03-14T04:37:57.502535339Z",
     "start_time": "2024-03-14T04:37:55.601816215Z"
    }
   },
   "id": "ea52e8a17bcd4141"
  },
  {
   "cell_type": "code",
   "execution_count": 23,
   "outputs": [
    {
     "data": {
      "text/plain": "array([0.8921875 , 0.89392361, 0.89253472])"
     },
     "execution_count": 23,
     "metadata": {},
     "output_type": "execute_result"
    }
   ],
   "source": [
    "from sklearn.model_selection import cross_val_score\n",
    "cross_val_score(pipe, X_train, y_train, cv=skf)"
   ],
   "metadata": {
    "collapsed": false,
    "ExecuteTime": {
     "end_time": "2024-03-14T04:37:57.502698589Z",
     "start_time": "2024-03-14T04:37:55.923733072Z"
    }
   },
   "id": "7b72c2262fd1bcae"
  },
  {
   "cell_type": "code",
   "execution_count": 24,
   "outputs": [],
   "source": [
    "# standard error for the model"
   ],
   "metadata": {
    "collapsed": false,
    "ExecuteTime": {
     "end_time": "2024-03-14T04:37:57.502754133Z",
     "start_time": "2024-03-14T04:37:56.072719819Z"
    }
   },
   "id": "531cddcaf5fb74f9"
  },
  {
   "cell_type": "code",
   "execution_count": 25,
   "outputs": [
    {
     "name": "stdout",
     "output_type": "stream",
     "text": [
      "X shape : 17280 42\n"
     ]
    },
    {
     "data": {
      "text/plain": "        coefficient  estimation  standard_error\n0         intercept    1.274228        0.757073\n1             dow_1   -0.183464       -0.015384\n2             dow_2   -0.341636       -0.031223\n3             dow_3   -0.344232       -0.031133\n4             dow_4   -0.403077       -0.036453\n5             dow_5    1.778714        0.098488\n6             dow_6    4.582491        0.124161\n7            hour_1    0.120978        0.059440\n8            hour_2    0.868163        0.125020\n9            hour_3    2.143759        0.178268\n10           hour_4    2.715825        0.185273\n11           hour_5    2.989411        0.191253\n12           hour_6    3.105553        0.191827\n13           hour_7    3.275562        0.194590\n14           hour_8    3.125355        0.192978\n15           hour_9    3.285659        0.193061\n16          hour_10    3.624939        0.195621\n17          hour_11    3.147182        0.195034\n18          hour_12    3.136922        0.194382\n19          hour_13    3.256601        0.195550\n20          hour_14    3.282849        0.194347\n21          hour_15    0.995522        0.132997\n22          hour_16   -0.063533        0.036550\n23          hour_17   -0.736442       -0.061742\n24          hour_18   -0.835505       -0.080560\n25          hour_19   -0.877147       -0.088517\n26          hour_20   -0.847092       -0.084363\n27          hour_21   -0.850146       -0.081419\n28          hour_22   -0.667285       -0.052923\n29          hour_23   -0.593097       -0.039472\n30          month_2    0.127752        0.015005\n31          month_3   -0.136933       -0.008472\n32          month_4    0.409330        0.035633\n33          month_5    0.605848        0.048879\n34          month_6    0.573057        0.046601\n35          month_7    0.407304        0.035505\n36          month_8    0.410230        0.036908\n37          month_9    0.200925        0.019564\n38         month_10    0.120241        0.013625\n39         month_11    0.424982        0.037039\n40         month_12    0.415593        0.035652\n41  is_holiday_True    1.189287        0.088184",
      "text/html": "<div>\n<style scoped>\n    .dataframe tbody tr th:only-of-type {\n        vertical-align: middle;\n    }\n\n    .dataframe tbody tr th {\n        vertical-align: top;\n    }\n\n    .dataframe thead th {\n        text-align: right;\n    }\n</style>\n<table border=\"1\" class=\"dataframe\">\n  <thead>\n    <tr style=\"text-align: right;\">\n      <th></th>\n      <th>coefficient</th>\n      <th>estimation</th>\n      <th>standard_error</th>\n    </tr>\n  </thead>\n  <tbody>\n    <tr>\n      <th>0</th>\n      <td>intercept</td>\n      <td>1.274228</td>\n      <td>0.757073</td>\n    </tr>\n    <tr>\n      <th>1</th>\n      <td>dow_1</td>\n      <td>-0.183464</td>\n      <td>-0.015384</td>\n    </tr>\n    <tr>\n      <th>2</th>\n      <td>dow_2</td>\n      <td>-0.341636</td>\n      <td>-0.031223</td>\n    </tr>\n    <tr>\n      <th>3</th>\n      <td>dow_3</td>\n      <td>-0.344232</td>\n      <td>-0.031133</td>\n    </tr>\n    <tr>\n      <th>4</th>\n      <td>dow_4</td>\n      <td>-0.403077</td>\n      <td>-0.036453</td>\n    </tr>\n    <tr>\n      <th>5</th>\n      <td>dow_5</td>\n      <td>1.778714</td>\n      <td>0.098488</td>\n    </tr>\n    <tr>\n      <th>6</th>\n      <td>dow_6</td>\n      <td>4.582491</td>\n      <td>0.124161</td>\n    </tr>\n    <tr>\n      <th>7</th>\n      <td>hour_1</td>\n      <td>0.120978</td>\n      <td>0.059440</td>\n    </tr>\n    <tr>\n      <th>8</th>\n      <td>hour_2</td>\n      <td>0.868163</td>\n      <td>0.125020</td>\n    </tr>\n    <tr>\n      <th>9</th>\n      <td>hour_3</td>\n      <td>2.143759</td>\n      <td>0.178268</td>\n    </tr>\n    <tr>\n      <th>10</th>\n      <td>hour_4</td>\n      <td>2.715825</td>\n      <td>0.185273</td>\n    </tr>\n    <tr>\n      <th>11</th>\n      <td>hour_5</td>\n      <td>2.989411</td>\n      <td>0.191253</td>\n    </tr>\n    <tr>\n      <th>12</th>\n      <td>hour_6</td>\n      <td>3.105553</td>\n      <td>0.191827</td>\n    </tr>\n    <tr>\n      <th>13</th>\n      <td>hour_7</td>\n      <td>3.275562</td>\n      <td>0.194590</td>\n    </tr>\n    <tr>\n      <th>14</th>\n      <td>hour_8</td>\n      <td>3.125355</td>\n      <td>0.192978</td>\n    </tr>\n    <tr>\n      <th>15</th>\n      <td>hour_9</td>\n      <td>3.285659</td>\n      <td>0.193061</td>\n    </tr>\n    <tr>\n      <th>16</th>\n      <td>hour_10</td>\n      <td>3.624939</td>\n      <td>0.195621</td>\n    </tr>\n    <tr>\n      <th>17</th>\n      <td>hour_11</td>\n      <td>3.147182</td>\n      <td>0.195034</td>\n    </tr>\n    <tr>\n      <th>18</th>\n      <td>hour_12</td>\n      <td>3.136922</td>\n      <td>0.194382</td>\n    </tr>\n    <tr>\n      <th>19</th>\n      <td>hour_13</td>\n      <td>3.256601</td>\n      <td>0.195550</td>\n    </tr>\n    <tr>\n      <th>20</th>\n      <td>hour_14</td>\n      <td>3.282849</td>\n      <td>0.194347</td>\n    </tr>\n    <tr>\n      <th>21</th>\n      <td>hour_15</td>\n      <td>0.995522</td>\n      <td>0.132997</td>\n    </tr>\n    <tr>\n      <th>22</th>\n      <td>hour_16</td>\n      <td>-0.063533</td>\n      <td>0.036550</td>\n    </tr>\n    <tr>\n      <th>23</th>\n      <td>hour_17</td>\n      <td>-0.736442</td>\n      <td>-0.061742</td>\n    </tr>\n    <tr>\n      <th>24</th>\n      <td>hour_18</td>\n      <td>-0.835505</td>\n      <td>-0.080560</td>\n    </tr>\n    <tr>\n      <th>25</th>\n      <td>hour_19</td>\n      <td>-0.877147</td>\n      <td>-0.088517</td>\n    </tr>\n    <tr>\n      <th>26</th>\n      <td>hour_20</td>\n      <td>-0.847092</td>\n      <td>-0.084363</td>\n    </tr>\n    <tr>\n      <th>27</th>\n      <td>hour_21</td>\n      <td>-0.850146</td>\n      <td>-0.081419</td>\n    </tr>\n    <tr>\n      <th>28</th>\n      <td>hour_22</td>\n      <td>-0.667285</td>\n      <td>-0.052923</td>\n    </tr>\n    <tr>\n      <th>29</th>\n      <td>hour_23</td>\n      <td>-0.593097</td>\n      <td>-0.039472</td>\n    </tr>\n    <tr>\n      <th>30</th>\n      <td>month_2</td>\n      <td>0.127752</td>\n      <td>0.015005</td>\n    </tr>\n    <tr>\n      <th>31</th>\n      <td>month_3</td>\n      <td>-0.136933</td>\n      <td>-0.008472</td>\n    </tr>\n    <tr>\n      <th>32</th>\n      <td>month_4</td>\n      <td>0.409330</td>\n      <td>0.035633</td>\n    </tr>\n    <tr>\n      <th>33</th>\n      <td>month_5</td>\n      <td>0.605848</td>\n      <td>0.048879</td>\n    </tr>\n    <tr>\n      <th>34</th>\n      <td>month_6</td>\n      <td>0.573057</td>\n      <td>0.046601</td>\n    </tr>\n    <tr>\n      <th>35</th>\n      <td>month_7</td>\n      <td>0.407304</td>\n      <td>0.035505</td>\n    </tr>\n    <tr>\n      <th>36</th>\n      <td>month_8</td>\n      <td>0.410230</td>\n      <td>0.036908</td>\n    </tr>\n    <tr>\n      <th>37</th>\n      <td>month_9</td>\n      <td>0.200925</td>\n      <td>0.019564</td>\n    </tr>\n    <tr>\n      <th>38</th>\n      <td>month_10</td>\n      <td>0.120241</td>\n      <td>0.013625</td>\n    </tr>\n    <tr>\n      <th>39</th>\n      <td>month_11</td>\n      <td>0.424982</td>\n      <td>0.037039</td>\n    </tr>\n    <tr>\n      <th>40</th>\n      <td>month_12</td>\n      <td>0.415593</td>\n      <td>0.035652</td>\n    </tr>\n    <tr>\n      <th>41</th>\n      <td>is_holiday_True</td>\n      <td>1.189287</td>\n      <td>0.088184</td>\n    </tr>\n  </tbody>\n</table>\n</div>"
     },
     "execution_count": 25,
     "metadata": {},
     "output_type": "execute_result"
    }
   ],
   "source": [
    "# https://stackoverflow.com/questions/22381497/python-scikit-learn-linear-model-parameter-standard-error\n",
    "N = len(X_train)\n",
    "p = len(pipe[0].get_feature_names_out()) + 1  # plus one because LinearRegression adds an intercept term\n",
    "print('X shape :', N,p)\n",
    "X_with_intercept = np.empty(shape=(N, p), dtype='float')\n",
    "X_with_intercept[:, 0] = 1\n",
    "X_with_intercept[:, 1:p] = pipe[0].transform(X_train)# ohe.transform(X_train)\n",
    "beta_hat = np.linalg.inv(X_with_intercept.T @ X_with_intercept) @ X_with_intercept.T @ y_train.values\n",
    "coefs_intercept = np.concatenate((pipe[1].intercept_, pipe[1].coef_.reshape(-1)))\n",
    "beta_hat = beta_hat.reshape(-1)\n",
    "assert beta_hat.shape == coefs_intercept.shape, f'the shapes dont match for beta_hat and coefs intercept\\n{beta_hat.shape} != {coefs_intercept.shape}'\n",
    "col_names = ['intercept'] + list(pipe[:-1].get_feature_names_out())\n",
    "pd.DataFrame(data=np.concatenate([[coefs_intercept], [beta_hat]]),\n",
    "             columns=['intercept'] + list(pipe[:-1].get_feature_names_out())).T.reset_index().rename(columns={0:'estimation',1:'standard_error','index':'coefficient'})"
   ],
   "metadata": {
    "collapsed": false,
    "ExecuteTime": {
     "end_time": "2024-03-14T04:37:57.503368562Z",
     "start_time": "2024-03-14T04:37:56.114352142Z"
    }
   },
   "id": "800cf48a0a2461c0"
  },
  {
   "cell_type": "markdown",
   "source": [
    "## 4.22 L1 penalty"
   ],
   "metadata": {
    "collapsed": false
   },
   "id": "b3d4c169f11d2641"
  },
  {
   "cell_type": "code",
   "execution_count": 26,
   "outputs": [
    {
     "name": "stdout",
     "output_type": "stream",
     "text": [
      "The average accuracy is 0.893 ± 0.001\n",
      "test accuracy is 0.8930803054848415\n"
     ]
    },
    {
     "data": {
      "text/plain": "<Figure size 640x480 with 2 Axes>",
      "image/png": "[encoded data removed]"
     },
     "metadata": {},
     "output_type": "display_data"
    }
   ],
   "source": [
    "model = LogisticRegression(penalty='l1', solver='liblinear')\n",
    "pipe = Pipeline([\n",
    "    ('ohe', OneHotEncoder()),\n",
    "    ('lrl1', model),\n",
    "])\n",
    "\n",
    "skf = StratifiedKFold(n_splits=3)\n",
    "cv_results = cross_validate(pipe, X_train, y_train, cv=skf)\n",
    "test_score = cv_results[\"test_score\"]\n",
    "print(\n",
    "    f\"The average accuracy is {test_score.mean():.3f} ± {test_score.std():.3f}\"\n",
    ")\n",
    "pipe.fit(X_train, y_train)\n",
    "pred = pipe.predict(X_test)\n",
    "print(f'test accuracy is {pipe.score(X_test, y_test)}')\n",
    "\n",
    "results['sk_log_reg_l1_skf'] = get_results(y_test, pred)\n"
   ],
   "metadata": {
    "collapsed": false,
    "ExecuteTime": {
     "end_time": "2024-03-14T04:37:57.504087843Z",
     "start_time": "2024-03-14T04:37:56.133440073Z"
    }
   },
   "id": "1e61c8276fab844"
  },
  {
   "cell_type": "code",
   "execution_count": 27,
   "outputs": [
    {
     "name": "stdout",
     "output_type": "stream",
     "text": [
      "(1, 45)\n"
     ]
    },
    {
     "data": {
      "text/plain": "                         0\ndow_0             0.331930\ndow_1             0.153904\ndow_2             0.000000\ndow_3            -0.001335\ndow_4            -0.048620\ndow_5             2.145914\ndow_6             6.384804\nhour_0           -1.360168\nhour_1           -0.874617\nhour_2           -0.112905\nhour_3            1.187274\nhour_4            1.838460\nhour_5            2.295156\nhour_6            2.507607\nhour_7            2.821562\nhour_8            2.531414\nhour_9            2.833943\nhour_10           3.876705\nhour_11           2.556750\nhour_12           2.545053\nhour_13           2.798324\nhour_14           2.830386\nhour_15           0.000000\nhour_16          -1.069433\nhour_17          -1.754737\nhour_18          -1.850885\nhour_19          -1.892334\nhour_20          -1.862460\nhour_21          -1.867386\nhour_22          -1.684790\nhour_23          -1.612680\nmonth_1          -0.443893\nmonth_2          -0.271398\nmonth_3          -0.542261\nmonth_4           0.000963\nmonth_5           0.200487\nmonth_6           0.165493\nmonth_7           0.000000\nmonth_8           0.000000\nmonth_9          -0.195135\nmonth_10         -0.274751\nmonth_11          0.013717\nmonth_12          0.002350\nis_holiday_False  0.000000\nis_holiday_True   1.207507",
      "text/html": "<div>\n<style scoped>\n    .dataframe tbody tr th:only-of-type {\n        vertical-align: middle;\n    }\n\n    .dataframe tbody tr th {\n        vertical-align: top;\n    }\n\n    .dataframe thead th {\n        text-align: right;\n    }\n</style>\n<table border=\"1\" class=\"dataframe\">\n  <thead>\n    <tr style=\"text-align: right;\">\n      <th></th>\n      <th>0</th>\n    </tr>\n  </thead>\n  <tbody>\n    <tr>\n      <th>dow_0</th>\n      <td>0.331930</td>\n    </tr>\n    <tr>\n      <th>dow_1</th>\n      <td>0.153904</td>\n    </tr>\n    <tr>\n      <th>dow_2</th>\n      <td>0.000000</td>\n    </tr>\n    <tr>\n      <th>dow_3</th>\n      <td>-0.001335</td>\n    </tr>\n    <tr>\n      <th>dow_4</th>\n      <td>-0.048620</td>\n    </tr>\n    <tr>\n      <th>dow_5</th>\n      <td>2.145914</td>\n    </tr>\n    <tr>\n      <th>dow_6</th>\n      <td>6.384804</td>\n    </tr>\n    <tr>\n      <th>hour_0</th>\n      <td>-1.360168</td>\n    </tr>\n    <tr>\n      <th>hour_1</th>\n      <td>-0.874617</td>\n    </tr>\n    <tr>\n      <th>hour_2</th>\n      <td>-0.112905</td>\n    </tr>\n    <tr>\n      <th>hour_3</th>\n      <td>1.187274</td>\n    </tr>\n    <tr>\n      <th>hour_4</th>\n      <td>1.838460</td>\n    </tr>\n    <tr>\n      <th>hour_5</th>\n      <td>2.295156</td>\n    </tr>\n    <tr>\n      <th>hour_6</th>\n      <td>2.507607</td>\n    </tr>\n    <tr>\n      <th>hour_7</th>\n      <td>2.821562</td>\n    </tr>\n    <tr>\n      <th>hour_8</th>\n      <td>2.531414</td>\n    </tr>\n    <tr>\n      <th>hour_9</th>\n      <td>2.833943</td>\n    </tr>\n    <tr>\n      <th>hour_10</th>\n      <td>3.876705</td>\n    </tr>\n    <tr>\n      <th>hour_11</th>\n      <td>2.556750</td>\n    </tr>\n    <tr>\n      <th>hour_12</th>\n      <td>2.545053</td>\n    </tr>\n    <tr>\n      <th>hour_13</th>\n      <td>2.798324</td>\n    </tr>\n    <tr>\n      <th>hour_14</th>\n      <td>2.830386</td>\n    </tr>\n    <tr>\n      <th>hour_15</th>\n      <td>0.000000</td>\n    </tr>\n    <tr>\n      <th>hour_16</th>\n      <td>-1.069433</td>\n    </tr>\n    <tr>\n      <th>hour_17</th>\n      <td>-1.754737</td>\n    </tr>\n    <tr>\n      <th>hour_18</th>\n      <td>-1.850885</td>\n    </tr>\n    <tr>\n      <th>hour_19</th>\n      <td>-1.892334</td>\n    </tr>\n    <tr>\n      <th>hour_20</th>\n      <td>-1.862460</td>\n    </tr>\n    <tr>\n      <th>hour_21</th>\n      <td>-1.867386</td>\n    </tr>\n    <tr>\n      <th>hour_22</th>\n      <td>-1.684790</td>\n    </tr>\n    <tr>\n      <th>hour_23</th>\n      <td>-1.612680</td>\n    </tr>\n    <tr>\n      <th>month_1</th>\n      <td>-0.443893</td>\n    </tr>\n    <tr>\n      <th>month_2</th>\n      <td>-0.271398</td>\n    </tr>\n    <tr>\n      <th>month_3</th>\n      <td>-0.542261</td>\n    </tr>\n    <tr>\n      <th>month_4</th>\n      <td>0.000963</td>\n    </tr>\n    <tr>\n      <th>month_5</th>\n      <td>0.200487</td>\n    </tr>\n    <tr>\n      <th>month_6</th>\n      <td>0.165493</td>\n    </tr>\n    <tr>\n      <th>month_7</th>\n      <td>0.000000</td>\n    </tr>\n    <tr>\n      <th>month_8</th>\n      <td>0.000000</td>\n    </tr>\n    <tr>\n      <th>month_9</th>\n      <td>-0.195135</td>\n    </tr>\n    <tr>\n      <th>month_10</th>\n      <td>-0.274751</td>\n    </tr>\n    <tr>\n      <th>month_11</th>\n      <td>0.013717</td>\n    </tr>\n    <tr>\n      <th>month_12</th>\n      <td>0.002350</td>\n    </tr>\n    <tr>\n      <th>is_holiday_False</th>\n      <td>0.000000</td>\n    </tr>\n    <tr>\n      <th>is_holiday_True</th>\n      <td>1.207507</td>\n    </tr>\n  </tbody>\n</table>\n</div>"
     },
     "execution_count": 27,
     "metadata": {},
     "output_type": "execute_result"
    }
   ],
   "source": [
    "print(pipe[-1].coef_.shape)\n",
    "pipe[-1].n_features_in_\n",
    "pipe[-1].intercept_\n",
    "pipe[-1].classes_\n",
    "pd.DataFrame(pipe[-1].coef_, columns=pipe[:-1].get_feature_names_out()).T\n",
    "# ?pipe[-1]\n",
    "# pipe[:-1].get_feature_names_out()"
   ],
   "metadata": {
    "collapsed": false,
    "ExecuteTime": {
     "end_time": "2024-03-14T04:37:57.504607740Z",
     "start_time": "2024-03-14T04:37:57.271256410Z"
    }
   },
   "id": "dd4551a30f94d31c"
  },
  {
   "cell_type": "code",
   "execution_count": 28,
   "outputs": [
    {
     "name": "stdout",
     "output_type": "stream",
     "text": [
      "[3086 3085 3085 3085 3085]\n",
      "[0 0 0 0 0]\n"
     ]
    }
   ],
   "source": [
    "from sklearn.model_selection import cross_validate\n",
    "from sklearn.metrics import confusion_matrix\n",
    "# A sample toy binary classification dataset\n",
    "# X, y = datasets.make_classification(n_classes=2, random_state=0)\n",
    "# svm = LinearSVC(dual=\"auto\", random_state=0)\n",
    "lr = LogisticRegression(penalty=\"l2\")\n",
    "def confusion_matrix_scorer(clf, X, y):\n",
    "     y_pred = clf.predict(X)\n",
    "     cm = confusion_matrix(y, y_pred)\n",
    "     return {'tn': cm[0, 0], 'fp': cm[0, 1],\n",
    "             'fn': cm[1, 0], 'tp': cm[1, 1]}\n",
    "cv_results = cross_validate(lr, X_train, y_train, cv=5,\n",
    "                            scoring=confusion_matrix_scorer)\n",
    "# Getting the test set true positive scores\n",
    "print(cv_results['test_tp'])\n",
    "# Getting the test set false negative scores\n",
    "print(cv_results['test_fn'])"
   ],
   "metadata": {
    "collapsed": false,
    "ExecuteTime": {
     "end_time": "2024-03-14T04:37:57.544367447Z",
     "start_time": "2024-03-14T04:37:57.277522574Z"
    }
   },
   "id": "7c5bc02f40819210"
  },
  {
   "cell_type": "markdown",
   "source": [
    "## 4.23 elastic net penalty"
   ],
   "metadata": {
    "collapsed": false
   },
   "id": "c8c4df6d891eeabe"
  },
  {
   "cell_type": "markdown",
   "source": [
    "# TO DO: use gridsearch to find best l1 ratio"
   ],
   "metadata": {
    "collapsed": false
   },
   "id": "3ff3d0634e1a7c5a"
  },
  {
   "cell_type": "code",
   "execution_count": 29,
   "outputs": [
    {
     "name": "stderr",
     "output_type": "stream",
     "text": [
      "/home/denny/anaconda3/envs/ev/lib/python3.11/site-packages/sklearn/linear_model/_sag.py:350: ConvergenceWarning: The max_iter was reached which means the coef_ did not converge\n",
      "  warnings.warn(\n",
      "/home/denny/anaconda3/envs/ev/lib/python3.11/site-packages/sklearn/linear_model/_sag.py:350: ConvergenceWarning: The max_iter was reached which means the coef_ did not converge\n",
      "  warnings.warn(\n",
      "/home/denny/anaconda3/envs/ev/lib/python3.11/site-packages/sklearn/linear_model/_sag.py:350: ConvergenceWarning: The max_iter was reached which means the coef_ did not converge\n",
      "  warnings.warn(\n"
     ]
    },
    {
     "name": "stdout",
     "output_type": "stream",
     "text": [
      "The average accuracy is 0.893 ± 0.001\n",
      "test accuracy is 0.8930803054848415\n"
     ]
    },
    {
     "name": "stderr",
     "output_type": "stream",
     "text": [
      "/home/denny/anaconda3/envs/ev/lib/python3.11/site-packages/sklearn/linear_model/_sag.py:350: ConvergenceWarning: The max_iter was reached which means the coef_ did not converge\n",
      "  warnings.warn(\n"
     ]
    },
    {
     "data": {
      "text/plain": "<Figure size 640x480 with 2 Axes>",
      "image/png": "[encoded data removed]"
     },
     "metadata": {},
     "output_type": "display_data"
    }
   ],
   "source": [
    "model = LogisticRegression(penalty='elasticnet', solver='saga', l1_ratio=0.1)\n",
    "pipe = Pipeline([\n",
    "    ('ohe', OneHotEncoder()),\n",
    "    ('lrl1', model),\n",
    "])\n",
    "\n",
    "skf = StratifiedKFold(n_splits=3)\n",
    "cv_results = cross_validate(pipe, X_train, y_train, cv=skf)\n",
    "test_score = cv_results[\"test_score\"]\n",
    "print(\n",
    "    f\"The average accuracy is {test_score.mean():.3f} ± {test_score.std():.3f}\"\n",
    ")\n",
    "pipe.fit(X_train, y_train)\n",
    "pred = pipe.predict(X_test)\n",
    "print(f'test accuracy is {pipe.score(X_test, y_test)}')\n",
    "\n",
    "results['sk_log_elasticnet_skf'] = get_results(y_test, pred)"
   ],
   "metadata": {
    "collapsed": false,
    "ExecuteTime": {
     "end_time": "2024-03-14T04:37:59.028771001Z",
     "start_time": "2024-03-14T04:37:57.503767905Z"
    }
   },
   "id": "1b93131c37011e46"
  },
  {
   "cell_type": "markdown",
   "source": [
    "## 4.3 Sklearn Random Forrest Classifier"
   ],
   "metadata": {
    "collapsed": false
   },
   "id": "4b66e415a2586e5d"
  },
  {
   "cell_type": "code",
   "execution_count": 30,
   "outputs": [
    {
     "name": "stdout",
     "output_type": "stream",
     "text": [
      "The average accuracy is 0.870 ± 0.000\n",
      "test accuracy is 0.8789632029622773\n"
     ]
    },
    {
     "data": {
      "text/plain": "<Figure size 640x480 with 2 Axes>",
      "image/png": "[encoded data removed]"
     },
     "metadata": {},
     "output_type": "display_data"
    }
   ],
   "source": [
    "# tree models\n",
    "from sklearn.ensemble import RandomForestClassifier\n",
    "\n",
    "model = RandomForestClassifier()\n",
    "pipe = Pipeline([\n",
    "    ('ohe', OneHotEncoder()),\n",
    "    ('rf', model),\n",
    "])\n",
    "\n",
    "skf = StratifiedKFold(n_splits=3)\n",
    "cv_results = cross_validate(pipe, X_train, y_train, cv=skf)\n",
    "test_score = cv_results[\"test_score\"]\n",
    "print(\n",
    "    f\"The average accuracy is {test_score.mean():.3f} ± {test_score.std():.3f}\"\n",
    ")\n",
    "pipe.fit(X_train, y_train)\n",
    "pred = pipe.predict(X_test)\n",
    "print(f'test accuracy is {pipe.score(X_test, y_test)}')\n",
    "\n",
    "results['sk_rf_classification_skf'] = get_results(y_test, pred)\n"
   ],
   "metadata": {
    "collapsed": false,
    "ExecuteTime": {
     "end_time": "2024-03-14T04:38:10.713636158Z",
     "start_time": "2024-03-14T04:37:58.987551423Z"
    }
   },
   "id": "d0b53300e915f758"
  },
  {
   "cell_type": "markdown",
   "source": [
    "# 4.4 stats model version"
   ],
   "metadata": {
    "collapsed": false
   },
   "id": "e2f8266e4484885c"
  },
  {
   "cell_type": "code",
   "execution_count": 31,
   "outputs": [
    {
     "name": "stdout",
     "output_type": "stream",
     "text": [
      "\u001B[33mWARNING: Skipping /home/denny/anaconda3/envs/ev/lib/python3.11/site-packages/tensorflow_estimator-2.12.0.dist-info due to invalid metadata entry 'name'\u001B[0m\u001B[33m\r\n",
      "\u001B[0mRequirement already satisfied: statsmodels in /home/denny/anaconda3/envs/ev/lib/python3.11/site-packages (0.14.1)\r\n",
      "Requirement already satisfied: numpy<2,>=1.18 in /home/denny/anaconda3/envs/ev/lib/python3.11/site-packages (from statsmodels) (1.23.5)\r\n",
      "Requirement already satisfied: scipy!=1.9.2,>=1.4 in /home/denny/anaconda3/envs/ev/lib/python3.11/site-packages (from statsmodels) (1.11.4)\r\n",
      "Requirement already satisfied: pandas!=2.1.0,>=1.0 in /home/denny/anaconda3/envs/ev/lib/python3.11/site-packages (from statsmodels) (2.1.4)\r\n",
      "Requirement already satisfied: patsy>=0.5.4 in /home/denny/anaconda3/envs/ev/lib/python3.11/site-packages (from statsmodels) (0.5.6)\r\n",
      "Requirement already satisfied: packaging>=21.3 in /home/denny/anaconda3/envs/ev/lib/python3.11/site-packages (from statsmodels) (23.2)\r\n",
      "Requirement already satisfied: python-dateutil>=2.8.2 in /home/denny/anaconda3/envs/ev/lib/python3.11/site-packages (from pandas!=2.1.0,>=1.0->statsmodels) (2.8.2)\r\n",
      "Requirement already satisfied: pytz>=2020.1 in /home/denny/anaconda3/envs/ev/lib/python3.11/site-packages (from pandas!=2.1.0,>=1.0->statsmodels) (2023.3.post1)\r\n",
      "Requirement already satisfied: tzdata>=2022.1 in /home/denny/anaconda3/envs/ev/lib/python3.11/site-packages (from pandas!=2.1.0,>=1.0->statsmodels) (2023.3)\r\n",
      "Requirement already satisfied: six in /home/denny/anaconda3/envs/ev/lib/python3.11/site-packages (from patsy>=0.5.4->statsmodels) (1.16.0)\r\n",
      "\u001B[33mWARNING: Skipping /home/denny/anaconda3/envs/ev/lib/python3.11/site-packages/tensorflow_estimator-2.12.0.dist-info due to invalid metadata entry 'name'\u001B[0m\u001B[33m\r\n",
      "\u001B[0m"
     ]
    }
   ],
   "source": [
    "# ! pip install statsmodels"
   ],
   "metadata": {
    "collapsed": false,
    "ExecuteTime": {
     "end_time": "2024-03-14T04:38:12.665083263Z",
     "start_time": "2024-03-14T04:38:10.727317243Z"
    }
   },
   "id": "de90e0de223ce588"
  },
  {
   "cell_type": "code",
   "execution_count": 32,
   "outputs": [
    {
     "data": {
      "text/plain": "                           dow_1  dow_2  dow_3  dow_4  dow_5  dow_6\n2019-03-25 00:00:00+00:00    0.0    0.0    0.0    0.0    0.0    0.0\n2019-03-25 01:00:00+00:00    0.0    0.0    0.0    0.0    0.0    0.0\n2019-03-25 02:00:00+00:00    0.0    0.0    0.0    0.0    0.0    0.0\n2019-03-25 03:00:00+00:00    0.0    0.0    0.0    0.0    0.0    0.0\n2019-03-25 04:00:00+00:00    0.0    0.0    0.0    0.0    0.0    0.0\n...                          ...    ...    ...    ...    ...    ...\n2021-09-09 20:00:00+00:00    0.0    0.0    1.0    0.0    0.0    0.0\n2021-09-09 21:00:00+00:00    0.0    0.0    1.0    0.0    0.0    0.0\n2021-09-09 22:00:00+00:00    0.0    0.0    1.0    0.0    0.0    0.0\n2021-09-09 23:00:00+00:00    0.0    0.0    1.0    0.0    0.0    0.0\n2021-09-10 00:00:00+00:00    0.0    0.0    0.0    1.0    0.0    0.0\n\n[21601 rows x 6 columns]",
      "text/html": "<div>\n<style scoped>\n    .dataframe tbody tr th:only-of-type {\n        vertical-align: middle;\n    }\n\n    .dataframe tbody tr th {\n        vertical-align: top;\n    }\n\n    .dataframe thead th {\n        text-align: right;\n    }\n</style>\n<table border=\"1\" class=\"dataframe\">\n  <thead>\n    <tr style=\"text-align: right;\">\n      <th></th>\n      <th>dow_1</th>\n      <th>dow_2</th>\n      <th>dow_3</th>\n      <th>dow_4</th>\n      <th>dow_5</th>\n      <th>dow_6</th>\n    </tr>\n  </thead>\n  <tbody>\n    <tr>\n      <th>2019-03-25 00:00:00+00:00</th>\n      <td>0.0</td>\n      <td>0.0</td>\n      <td>0.0</td>\n      <td>0.0</td>\n      <td>0.0</td>\n      <td>0.0</td>\n    </tr>\n    <tr>\n      <th>2019-03-25 01:00:00+00:00</th>\n      <td>0.0</td>\n      <td>0.0</td>\n      <td>0.0</td>\n      <td>0.0</td>\n      <td>0.0</td>\n      <td>0.0</td>\n    </tr>\n    <tr>\n      <th>2019-03-25 02:00:00+00:00</th>\n      <td>0.0</td>\n      <td>0.0</td>\n      <td>0.0</td>\n      <td>0.0</td>\n      <td>0.0</td>\n      <td>0.0</td>\n    </tr>\n    <tr>\n      <th>2019-03-25 03:00:00+00:00</th>\n      <td>0.0</td>\n      <td>0.0</td>\n      <td>0.0</td>\n      <td>0.0</td>\n      <td>0.0</td>\n      <td>0.0</td>\n    </tr>\n    <tr>\n      <th>2019-03-25 04:00:00+00:00</th>\n      <td>0.0</td>\n      <td>0.0</td>\n      <td>0.0</td>\n      <td>0.0</td>\n      <td>0.0</td>\n      <td>0.0</td>\n    </tr>\n    <tr>\n      <th>...</th>\n      <td>...</td>\n      <td>...</td>\n      <td>...</td>\n      <td>...</td>\n      <td>...</td>\n      <td>...</td>\n    </tr>\n    <tr>\n      <th>2021-09-09 20:00:00+00:00</th>\n      <td>0.0</td>\n      <td>0.0</td>\n      <td>1.0</td>\n      <td>0.0</td>\n      <td>0.0</td>\n      <td>0.0</td>\n    </tr>\n    <tr>\n      <th>2021-09-09 21:00:00+00:00</th>\n      <td>0.0</td>\n      <td>0.0</td>\n      <td>1.0</td>\n      <td>0.0</td>\n      <td>0.0</td>\n      <td>0.0</td>\n    </tr>\n    <tr>\n      <th>2021-09-09 22:00:00+00:00</th>\n      <td>0.0</td>\n      <td>0.0</td>\n      <td>1.0</td>\n      <td>0.0</td>\n      <td>0.0</td>\n      <td>0.0</td>\n    </tr>\n    <tr>\n      <th>2021-09-09 23:00:00+00:00</th>\n      <td>0.0</td>\n      <td>0.0</td>\n      <td>1.0</td>\n      <td>0.0</td>\n      <td>0.0</td>\n      <td>0.0</td>\n    </tr>\n    <tr>\n      <th>2021-09-10 00:00:00+00:00</th>\n      <td>0.0</td>\n      <td>0.0</td>\n      <td>0.0</td>\n      <td>1.0</td>\n      <td>0.0</td>\n      <td>0.0</td>\n    </tr>\n  </tbody>\n</table>\n<p>21601 rows × 6 columns</p>\n</div>"
     },
     "execution_count": 32,
     "metadata": {},
     "output_type": "execute_result"
    }
   ],
   "source": [
    "import statsmodels.api as sm \n",
    "ohe = OneHotEncoder(sparse_output=False, drop='first')\n",
    "ohe.fit(X[['dow']])\n",
    "ohe.transform(X[['dow']])\n",
    "pd.DataFrame(ohe.transform(X[['dow']]), columns=ohe.get_feature_names_out(), index=X.index)"
   ],
   "metadata": {
    "collapsed": false,
    "ExecuteTime": {
     "end_time": "2024-03-14T04:38:12.934528202Z",
     "start_time": "2024-03-14T04:38:12.671395930Z"
    }
   },
   "id": "15e9512e59e970f4"
  },
  {
   "cell_type": "code",
   "execution_count": 33,
   "outputs": [
    {
     "name": "stdout",
     "output_type": "stream",
     "text": [
      "Warning: Maximum number of iterations has been exceeded.\n",
      "         Current function value: 0.360834\n",
      "         Iterations: 35\n"
     ]
    },
    {
     "name": "stderr",
     "output_type": "stream",
     "text": [
      "/home/denny/anaconda3/envs/ev/lib/python3.11/site-packages/statsmodels/base/model.py:607: ConvergenceWarning: Maximum Likelihood optimization failed to converge. Check mle_retvals\n",
      "  warnings.warn(\"Maximum Likelihood optimization failed to \"\n"
     ]
    }
   ],
   "source": [
    "ohe = OneHotEncoder(sparse_output=False, drop='first')\n",
    "ohe.fit(X[['dow']])\n",
    "ohe.transform(X[['dow']])\n",
    "ohe.get_feature_names_out()\n",
    "X_train, X_test, y_train, y_test = train_test_split(\n",
    "    pd.DataFrame(ohe.transform(X[['dow']]), columns=ohe.get_feature_names_out(), index=X.index), \n",
    "    y, \n",
    "    test_size=.2, \n",
    "    stratify=y)\n",
    "log_reg = sm.Logit(y_train, X_train).fit() "
   ],
   "metadata": {
    "collapsed": false,
    "ExecuteTime": {
     "end_time": "2024-03-14T04:38:13.121766051Z",
     "start_time": "2024-03-14T04:38:12.936218759Z"
    }
   },
   "id": "3c6fb870a0c7b5e2"
  },
  {
   "cell_type": "code",
   "execution_count": 34,
   "outputs": [
    {
     "name": "stdout",
     "output_type": "stream",
     "text": [
      "Warning: Maximum number of iterations has been exceeded.\n",
      "         Current function value: inf\n",
      "         Iterations: 35\n"
     ]
    },
    {
     "name": "stderr",
     "output_type": "stream",
     "text": [
      "/home/denny/anaconda3/envs/ev/lib/python3.11/site-packages/statsmodels/discrete/discrete_model.py:2385: RuntimeWarning: overflow encountered in exp\n",
      "  return 1/(1+np.exp(-X))\n",
      "/home/denny/anaconda3/envs/ev/lib/python3.11/site-packages/statsmodels/discrete/discrete_model.py:2443: RuntimeWarning: divide by zero encountered in log\n",
      "  return np.sum(np.log(self.cdf(q * linpred)))\n"
     ]
    },
    {
     "ename": "LinAlgError",
     "evalue": "Singular matrix",
     "output_type": "error",
     "traceback": [
      "\u001B[0;31m---------------------------------------------------------------------------\u001B[0m",
      "\u001B[0;31mLinAlgError\u001B[0m                               Traceback (most recent call last)",
      "Cell \u001B[0;32mIn[34], line 10\u001B[0m\n\u001B[1;32m      4\u001B[0m ohe\u001B[38;5;241m.\u001B[39mget_feature_names_out()\n\u001B[1;32m      5\u001B[0m X_train, X_test, y_train, y_test \u001B[38;5;241m=\u001B[39m train_test_split(\n\u001B[1;32m      6\u001B[0m     pd\u001B[38;5;241m.\u001B[39mDataFrame(ohe\u001B[38;5;241m.\u001B[39mtransform(X[[\u001B[38;5;124m'\u001B[39m\u001B[38;5;124mdow\u001B[39m\u001B[38;5;124m'\u001B[39m]]), columns\u001B[38;5;241m=\u001B[39mohe\u001B[38;5;241m.\u001B[39mget_feature_names_out(), index\u001B[38;5;241m=\u001B[39mX\u001B[38;5;241m.\u001B[39mindex),\u001B[38;5;66;03m#.drop(columns=ohe.get_feature_names_out()[0:3]), \u001B[39;00m\n\u001B[1;32m      7\u001B[0m     y, \n\u001B[1;32m      8\u001B[0m     test_size\u001B[38;5;241m=\u001B[39m\u001B[38;5;241m.2\u001B[39m, \n\u001B[1;32m      9\u001B[0m     stratify\u001B[38;5;241m=\u001B[39my)\n\u001B[0;32m---> 10\u001B[0m log_reg \u001B[38;5;241m=\u001B[39m sm\u001B[38;5;241m.\u001B[39mLogit(y_train, X_train)\u001B[38;5;241m.\u001B[39mfit() \n\u001B[1;32m     11\u001B[0m \u001B[38;5;28mprint\u001B[39m(log_reg\u001B[38;5;241m.\u001B[39msummary())\n",
      "File \u001B[0;32m~/anaconda3/envs/ev/lib/python3.11/site-packages/statsmodels/discrete/discrete_model.py:2601\u001B[0m, in \u001B[0;36mLogit.fit\u001B[0;34m(self, start_params, method, maxiter, full_output, disp, callback, **kwargs)\u001B[0m\n\u001B[1;32m   2598\u001B[0m \u001B[38;5;129m@Appender\u001B[39m(DiscreteModel\u001B[38;5;241m.\u001B[39mfit\u001B[38;5;241m.\u001B[39m\u001B[38;5;18m__doc__\u001B[39m)\n\u001B[1;32m   2599\u001B[0m \u001B[38;5;28;01mdef\u001B[39;00m \u001B[38;5;21mfit\u001B[39m(\u001B[38;5;28mself\u001B[39m, start_params\u001B[38;5;241m=\u001B[39m\u001B[38;5;28;01mNone\u001B[39;00m, method\u001B[38;5;241m=\u001B[39m\u001B[38;5;124m'\u001B[39m\u001B[38;5;124mnewton\u001B[39m\u001B[38;5;124m'\u001B[39m, maxiter\u001B[38;5;241m=\u001B[39m\u001B[38;5;241m35\u001B[39m,\n\u001B[1;32m   2600\u001B[0m         full_output\u001B[38;5;241m=\u001B[39m\u001B[38;5;241m1\u001B[39m, disp\u001B[38;5;241m=\u001B[39m\u001B[38;5;241m1\u001B[39m, callback\u001B[38;5;241m=\u001B[39m\u001B[38;5;28;01mNone\u001B[39;00m, \u001B[38;5;241m*\u001B[39m\u001B[38;5;241m*\u001B[39mkwargs):\n\u001B[0;32m-> 2601\u001B[0m     bnryfit \u001B[38;5;241m=\u001B[39m \u001B[38;5;28msuper\u001B[39m()\u001B[38;5;241m.\u001B[39mfit(start_params\u001B[38;5;241m=\u001B[39mstart_params,\n\u001B[1;32m   2602\u001B[0m                           method\u001B[38;5;241m=\u001B[39mmethod,\n\u001B[1;32m   2603\u001B[0m                           maxiter\u001B[38;5;241m=\u001B[39mmaxiter,\n\u001B[1;32m   2604\u001B[0m                           full_output\u001B[38;5;241m=\u001B[39mfull_output,\n\u001B[1;32m   2605\u001B[0m                           disp\u001B[38;5;241m=\u001B[39mdisp,\n\u001B[1;32m   2606\u001B[0m                           callback\u001B[38;5;241m=\u001B[39mcallback,\n\u001B[1;32m   2607\u001B[0m                           \u001B[38;5;241m*\u001B[39m\u001B[38;5;241m*\u001B[39mkwargs)\n\u001B[1;32m   2609\u001B[0m     discretefit \u001B[38;5;241m=\u001B[39m LogitResults(\u001B[38;5;28mself\u001B[39m, bnryfit)\n\u001B[1;32m   2610\u001B[0m     \u001B[38;5;28;01mreturn\u001B[39;00m BinaryResultsWrapper(discretefit)\n",
      "File \u001B[0;32m~/anaconda3/envs/ev/lib/python3.11/site-packages/statsmodels/discrete/discrete_model.py:243\u001B[0m, in \u001B[0;36mDiscreteModel.fit\u001B[0;34m(self, start_params, method, maxiter, full_output, disp, callback, **kwargs)\u001B[0m\n\u001B[1;32m    240\u001B[0m \u001B[38;5;28;01melse\u001B[39;00m:\n\u001B[1;32m    241\u001B[0m     \u001B[38;5;28;01mpass\u001B[39;00m  \u001B[38;5;66;03m# TODO: make a function factory to have multiple call-backs\u001B[39;00m\n\u001B[0;32m--> 243\u001B[0m mlefit \u001B[38;5;241m=\u001B[39m \u001B[38;5;28msuper\u001B[39m()\u001B[38;5;241m.\u001B[39mfit(start_params\u001B[38;5;241m=\u001B[39mstart_params,\n\u001B[1;32m    244\u001B[0m                      method\u001B[38;5;241m=\u001B[39mmethod,\n\u001B[1;32m    245\u001B[0m                      maxiter\u001B[38;5;241m=\u001B[39mmaxiter,\n\u001B[1;32m    246\u001B[0m                      full_output\u001B[38;5;241m=\u001B[39mfull_output,\n\u001B[1;32m    247\u001B[0m                      disp\u001B[38;5;241m=\u001B[39mdisp,\n\u001B[1;32m    248\u001B[0m                      callback\u001B[38;5;241m=\u001B[39mcallback,\n\u001B[1;32m    249\u001B[0m                      \u001B[38;5;241m*\u001B[39m\u001B[38;5;241m*\u001B[39mkwargs)\n\u001B[1;32m    251\u001B[0m \u001B[38;5;28;01mreturn\u001B[39;00m mlefit\n",
      "File \u001B[0;32m~/anaconda3/envs/ev/lib/python3.11/site-packages/statsmodels/base/model.py:582\u001B[0m, in \u001B[0;36mLikelihoodModel.fit\u001B[0;34m(self, start_params, method, maxiter, full_output, disp, fargs, callback, retall, skip_hessian, **kwargs)\u001B[0m\n\u001B[1;32m    580\u001B[0m     Hinv \u001B[38;5;241m=\u001B[39m cov_params_func(\u001B[38;5;28mself\u001B[39m, xopt, retvals)\n\u001B[1;32m    581\u001B[0m \u001B[38;5;28;01melif\u001B[39;00m method \u001B[38;5;241m==\u001B[39m \u001B[38;5;124m'\u001B[39m\u001B[38;5;124mnewton\u001B[39m\u001B[38;5;124m'\u001B[39m \u001B[38;5;129;01mand\u001B[39;00m full_output:\n\u001B[0;32m--> 582\u001B[0m     Hinv \u001B[38;5;241m=\u001B[39m np\u001B[38;5;241m.\u001B[39mlinalg\u001B[38;5;241m.\u001B[39minv(\u001B[38;5;241m-\u001B[39mretvals[\u001B[38;5;124m'\u001B[39m\u001B[38;5;124mHessian\u001B[39m\u001B[38;5;124m'\u001B[39m]) \u001B[38;5;241m/\u001B[39m nobs\n\u001B[1;32m    583\u001B[0m \u001B[38;5;28;01melif\u001B[39;00m \u001B[38;5;129;01mnot\u001B[39;00m skip_hessian:\n\u001B[1;32m    584\u001B[0m     H \u001B[38;5;241m=\u001B[39m \u001B[38;5;241m-\u001B[39m\u001B[38;5;241m1\u001B[39m \u001B[38;5;241m*\u001B[39m \u001B[38;5;28mself\u001B[39m\u001B[38;5;241m.\u001B[39mhessian(xopt)\n",
      "File \u001B[0;32m<__array_function__ internals>:180\u001B[0m, in \u001B[0;36minv\u001B[0;34m(*args, **kwargs)\u001B[0m\n",
      "File \u001B[0;32m~/anaconda3/envs/ev/lib/python3.11/site-packages/numpy/linalg/linalg.py:552\u001B[0m, in \u001B[0;36minv\u001B[0;34m(a)\u001B[0m\n\u001B[1;32m    550\u001B[0m signature \u001B[38;5;241m=\u001B[39m \u001B[38;5;124m'\u001B[39m\u001B[38;5;124mD->D\u001B[39m\u001B[38;5;124m'\u001B[39m \u001B[38;5;28;01mif\u001B[39;00m isComplexType(t) \u001B[38;5;28;01melse\u001B[39;00m \u001B[38;5;124m'\u001B[39m\u001B[38;5;124md->d\u001B[39m\u001B[38;5;124m'\u001B[39m\n\u001B[1;32m    551\u001B[0m extobj \u001B[38;5;241m=\u001B[39m get_linalg_error_extobj(_raise_linalgerror_singular)\n\u001B[0;32m--> 552\u001B[0m ainv \u001B[38;5;241m=\u001B[39m _umath_linalg\u001B[38;5;241m.\u001B[39minv(a, signature\u001B[38;5;241m=\u001B[39msignature, extobj\u001B[38;5;241m=\u001B[39mextobj)\n\u001B[1;32m    553\u001B[0m \u001B[38;5;28;01mreturn\u001B[39;00m wrap(ainv\u001B[38;5;241m.\u001B[39mastype(result_t, copy\u001B[38;5;241m=\u001B[39m\u001B[38;5;28;01mFalse\u001B[39;00m))\n",
      "File \u001B[0;32m~/anaconda3/envs/ev/lib/python3.11/site-packages/numpy/linalg/linalg.py:89\u001B[0m, in \u001B[0;36m_raise_linalgerror_singular\u001B[0;34m(err, flag)\u001B[0m\n\u001B[1;32m     88\u001B[0m \u001B[38;5;28;01mdef\u001B[39;00m \u001B[38;5;21m_raise_linalgerror_singular\u001B[39m(err, flag):\n\u001B[0;32m---> 89\u001B[0m     \u001B[38;5;28;01mraise\u001B[39;00m LinAlgError(\u001B[38;5;124m\"\u001B[39m\u001B[38;5;124mSingular matrix\u001B[39m\u001B[38;5;124m\"\u001B[39m)\n",
      "\u001B[0;31mLinAlgError\u001B[0m: Singular matrix"
     ]
    }
   ],
   "source": [
    "ohe = OneHotEncoder(sparse_output=False)\n",
    "ohe.fit(X[['dow']])\n",
    "ohe.transform(X[['dow']])\n",
    "ohe.get_feature_names_out()\n",
    "X_train, X_test, y_train, y_test = train_test_split(\n",
    "    pd.DataFrame(ohe.transform(X[['dow']]), columns=ohe.get_feature_names_out(), index=X.index),#.drop(columns=ohe.get_feature_names_out()[0:3]), \n",
    "    y, \n",
    "    test_size=.2, \n",
    "    stratify=y)\n",
    "log_reg = sm.Logit(y_train, X_train).fit() \n",
    "print(log_reg.summary())"
   ],
   "metadata": {
    "collapsed": false,
    "ExecuteTime": {
     "end_time": "2024-03-14T04:38:15.338741972Z",
     "start_time": "2024-03-14T04:38:13.054255361Z"
    }
   },
   "id": "f81f2c0d648a9e90"
  },
  {
   "cell_type": "code",
   "execution_count": 35,
   "outputs": [
    {
     "name": "stdout",
     "output_type": "stream",
     "text": [
      "                           Logit Regression Results                           \n",
      "==============================================================================\n",
      "Dep. Variable:           is_available   No. Observations:                17280\n",
      "Model:                          Logit   Df Residuals:                    17274\n",
      "Method:                           MLE   Df Model:                            5\n",
      "Date:                Wed, 13 Mar 2024   Pseudo R-squ.:                -0.05874\n",
      "Time:                        22:38:38   Log-Likelihood:                -6235.2\n",
      "converged:                      False   LL-Null:                       -5889.3\n",
      "Covariance Type:            nonrobust   LLR p-value:                     1.000\n",
      "==============================================================================\n",
      "                 coef    std err          z      P>|z|      [0.025      0.975]\n",
      "------------------------------------------------------------------------------\n",
      "dow_1          1.8480      0.059     31.532      0.000       1.733       1.963\n",
      "dow_2          1.7019      0.056     30.591      0.000       1.593       1.811\n",
      "dow_3          1.6212      0.054     29.849      0.000       1.515       1.728\n",
      "dow_4          1.6930      0.056     30.370      0.000       1.584       1.802\n",
      "dow_5          3.6063      0.126     28.688      0.000       3.360       3.853\n",
      "dow_6         25.6976   7654.237      0.003      0.997    -1.5e+04     1.5e+04\n",
      "==============================================================================\n",
      "\n",
      "Possibly complete quasi-separation: A fraction 0.14 of observations can be\n",
      "perfectly predicted. This might indicate that there is complete\n",
      "quasi-separation. In this case some parameters will not be identified.\n"
     ]
    }
   ],
   "source": [
    "print(log_reg.summary()) "
   ],
   "metadata": {
    "collapsed": false,
    "ExecuteTime": {
     "end_time": "2024-03-14T04:38:38.164096722Z",
     "start_time": "2024-03-14T04:38:38.092228669Z"
    }
   },
   "id": "91052e544c1aefd0"
  },
  {
   "cell_type": "code",
   "execution_count": 36,
   "outputs": [
    {
     "ename": "ValueError",
     "evalue": "shapes (4321,7) and (6,) not aligned: 7 (dim 1) != 6 (dim 0)",
     "output_type": "error",
     "traceback": [
      "\u001B[0;31m---------------------------------------------------------------------------\u001B[0m",
      "\u001B[0;31mValueError\u001B[0m                                Traceback (most recent call last)",
      "Cell \u001B[0;32mIn[36], line 1\u001B[0m\n\u001B[0;32m----> 1\u001B[0m y_hat \u001B[38;5;241m=\u001B[39m log_reg\u001B[38;5;241m.\u001B[39mpredict(X_test)\n\u001B[1;32m      2\u001B[0m prediction \u001B[38;5;241m=\u001B[39m \u001B[38;5;28mlist\u001B[39m(\u001B[38;5;28mmap\u001B[39m(\u001B[38;5;28mround\u001B[39m, y_hat))\n\u001B[1;32m      3\u001B[0m \u001B[38;5;66;03m# confusion matrix \u001B[39;00m\n",
      "File \u001B[0;32m~/anaconda3/envs/ev/lib/python3.11/site-packages/statsmodels/base/model.py:1176\u001B[0m, in \u001B[0;36mResults.predict\u001B[0;34m(self, exog, transform, *args, **kwargs)\u001B[0m\n\u001B[1;32m   1129\u001B[0m \u001B[38;5;250m\u001B[39m\u001B[38;5;124;03m\"\"\"\u001B[39;00m\n\u001B[1;32m   1130\u001B[0m \u001B[38;5;124;03mCall self.model.predict with self.params as the first argument.\u001B[39;00m\n\u001B[1;32m   1131\u001B[0m \n\u001B[0;32m   (...)\u001B[0m\n\u001B[1;32m   1171\u001B[0m \u001B[38;5;124;03mreturned prediction.\u001B[39;00m\n\u001B[1;32m   1172\u001B[0m \u001B[38;5;124;03m\"\"\"\u001B[39;00m\n\u001B[1;32m   1173\u001B[0m exog, exog_index \u001B[38;5;241m=\u001B[39m \u001B[38;5;28mself\u001B[39m\u001B[38;5;241m.\u001B[39m_transform_predict_exog(exog,\n\u001B[1;32m   1174\u001B[0m                                                 transform\u001B[38;5;241m=\u001B[39mtransform)\n\u001B[0;32m-> 1176\u001B[0m predict_results \u001B[38;5;241m=\u001B[39m \u001B[38;5;28mself\u001B[39m\u001B[38;5;241m.\u001B[39mmodel\u001B[38;5;241m.\u001B[39mpredict(\u001B[38;5;28mself\u001B[39m\u001B[38;5;241m.\u001B[39mparams, exog, \u001B[38;5;241m*\u001B[39margs,\n\u001B[1;32m   1177\u001B[0m                                      \u001B[38;5;241m*\u001B[39m\u001B[38;5;241m*\u001B[39mkwargs)\n\u001B[1;32m   1179\u001B[0m \u001B[38;5;28;01mif\u001B[39;00m exog_index \u001B[38;5;129;01mis\u001B[39;00m \u001B[38;5;129;01mnot\u001B[39;00m \u001B[38;5;28;01mNone\u001B[39;00m \u001B[38;5;129;01mand\u001B[39;00m \u001B[38;5;129;01mnot\u001B[39;00m \u001B[38;5;28mhasattr\u001B[39m(predict_results,\n\u001B[1;32m   1180\u001B[0m                                           \u001B[38;5;124m'\u001B[39m\u001B[38;5;124mpredicted_values\u001B[39m\u001B[38;5;124m'\u001B[39m):\n\u001B[1;32m   1181\u001B[0m     \u001B[38;5;28;01mif\u001B[39;00m predict_results\u001B[38;5;241m.\u001B[39mndim \u001B[38;5;241m==\u001B[39m \u001B[38;5;241m1\u001B[39m:\n",
      "File \u001B[0;32m~/anaconda3/envs/ev/lib/python3.11/site-packages/statsmodels/discrete/discrete_model.py:543\u001B[0m, in \u001B[0;36mBinaryModel.predict\u001B[0;34m(self, params, exog, which, linear, offset)\u001B[0m\n\u001B[1;32m    540\u001B[0m \u001B[38;5;28;01mif\u001B[39;00m exog \u001B[38;5;129;01mis\u001B[39;00m \u001B[38;5;28;01mNone\u001B[39;00m:\n\u001B[1;32m    541\u001B[0m     exog \u001B[38;5;241m=\u001B[39m \u001B[38;5;28mself\u001B[39m\u001B[38;5;241m.\u001B[39mexog\n\u001B[0;32m--> 543\u001B[0m linpred \u001B[38;5;241m=\u001B[39m np\u001B[38;5;241m.\u001B[39mdot(exog, params) \u001B[38;5;241m+\u001B[39m offset\n\u001B[1;32m    545\u001B[0m \u001B[38;5;28;01mif\u001B[39;00m which \u001B[38;5;241m==\u001B[39m \u001B[38;5;124m\"\u001B[39m\u001B[38;5;124mmean\u001B[39m\u001B[38;5;124m\"\u001B[39m:\n\u001B[1;32m    546\u001B[0m     \u001B[38;5;28;01mreturn\u001B[39;00m \u001B[38;5;28mself\u001B[39m\u001B[38;5;241m.\u001B[39mcdf(linpred)\n",
      "File \u001B[0;32m<__array_function__ internals>:180\u001B[0m, in \u001B[0;36mdot\u001B[0;34m(*args, **kwargs)\u001B[0m\n",
      "\u001B[0;31mValueError\u001B[0m: shapes (4321,7) and (6,) not aligned: 7 (dim 1) != 6 (dim 0)"
     ]
    }
   ],
   "source": [
    "y_hat = log_reg.predict(X_test)\n",
    "prediction = list(map(round, y_hat))\n",
    "# confusion matrix \n",
    "cm = confusion_matrix(y_test, prediction)  \n",
    "print (\"Confusion Matrix : \\n\", cm)  \n",
    "  \n",
    "# accuracy score of the model \n",
    "print('Test accuracy = ', accuracy_score(y_test, prediction))"
   ],
   "metadata": {
    "collapsed": false,
    "ExecuteTime": {
     "end_time": "2024-03-14T04:38:38.543607587Z",
     "start_time": "2024-03-14T04:38:38.486238671Z"
    }
   },
   "id": "67aa66dd54e724c5"
  },
  {
   "cell_type": "code",
   "execution_count": 37,
   "outputs": [
    {
     "ename": "NameError",
     "evalue": "name 'prediction' is not defined",
     "output_type": "error",
     "traceback": [
      "\u001B[0;31m---------------------------------------------------------------------------\u001B[0m",
      "\u001B[0;31mNameError\u001B[0m                                 Traceback (most recent call last)",
      "Cell \u001B[0;32mIn[37], line 1\u001B[0m\n\u001B[0;32m----> 1\u001B[0m results[\u001B[38;5;124m'\u001B[39m\u001B[38;5;124msm_log_reg_dow_skf\u001B[39m\u001B[38;5;124m'\u001B[39m] \u001B[38;5;241m=\u001B[39m get_results(y_test, prediction)\n",
      "\u001B[0;31mNameError\u001B[0m: name 'prediction' is not defined"
     ]
    }
   ],
   "source": [
    "results['sm_log_reg_dow_skf'] = get_results(y_test, prediction)"
   ],
   "metadata": {
    "collapsed": false,
    "ExecuteTime": {
     "end_time": "2024-03-14T04:38:39.116542194Z",
     "start_time": "2024-03-14T04:38:39.051365800Z"
    }
   },
   "id": "453d81b8d93b8b8d"
  },
  {
   "cell_type": "code",
   "execution_count": 38,
   "outputs": [
    {
     "name": "stdout",
     "output_type": "stream",
     "text": [
      "Optimization terminated successfully.\n",
      "         Current function value: 0.269796\n",
      "         Iterations 11\n"
     ]
    }
   ],
   "source": [
    "ohe = OneHotEncoder(sparse_output=False, drop='first')\n",
    "ohe.fit(X[['hour']])\n",
    "ohe.transform(X[['hour']])\n",
    "X_train, X_test, y_train, y_test = train_test_split(\n",
    "    pd.DataFrame(ohe.transform(X[['hour']]), columns=ohe.get_feature_names_out(), index=X.index), \n",
    "    y, \n",
    "    test_size=.2, \n",
    "    stratify=y)\n",
    "# X_train, X_test, y_train, y_test = train_test_split(pd.DataFrame(ohe.transform(X[['hour']]), columns=ohe.get_feature_names_out(), index=X.index), y['is_available'])\n",
    "log_reg = sm.Logit(y_train, X_train).fit() "
   ],
   "metadata": {
    "collapsed": false,
    "ExecuteTime": {
     "end_time": "2024-03-14T04:38:39.632403978Z",
     "start_time": "2024-03-14T04:38:39.535373083Z"
    }
   },
   "id": "36d506e6546e8d48"
  },
  {
   "cell_type": "code",
   "execution_count": 39,
   "outputs": [
    {
     "name": "stdout",
     "output_type": "stream",
     "text": [
      "                           Logit Regression Results                           \n",
      "==============================================================================\n",
      "Dep. Variable:           is_available   No. Observations:                17280\n",
      "Model:                          Logit   Df Residuals:                    17257\n",
      "Method:                           MLE   Df Model:                           22\n",
      "Date:                Wed, 13 Mar 2024   Pseudo R-squ.:                  0.2084\n",
      "Time:                        22:38:40   Log-Likelihood:                -4662.1\n",
      "converged:                       True   LL-Null:                       -5889.3\n",
      "Covariance Type:            nonrobust   LLR p-value:                     0.000\n",
      "==============================================================================\n",
      "                 coef    std err          z      P>|z|      [0.025      0.975]\n",
      "------------------------------------------------------------------------------\n",
      "hour_1         1.8616      0.108     17.232      0.000       1.650       2.073\n",
      "hour_2         2.4132      0.136     17.758      0.000       2.147       2.680\n",
      "hour_3         4.0003      0.280     14.293      0.000       3.452       4.549\n",
      "hour_4         4.4858      0.356     12.617      0.000       3.789       5.183\n",
      "hour_5         5.4737      0.579      9.461      0.000       4.340       6.608\n",
      "hour_6         6.5497      1.001      6.545      0.000       4.588       8.511\n",
      "hour_7         5.4638      0.579      9.444      0.000       4.330       6.598\n",
      "hour_8         5.4681      0.579      9.451      0.000       4.334       6.602\n",
      "hour_9         5.5040      0.579      9.514      0.000       4.370       6.638\n",
      "hour_10        5.4820      0.579      9.475      0.000       4.348       6.616\n",
      "hour_11        5.4958      0.579      9.500      0.000       4.362       6.630\n",
      "hour_12        5.8875      0.708      8.315      0.000       4.500       7.275\n",
      "hour_13        5.9013      0.708      8.334      0.000       4.513       7.289\n",
      "hour_14        5.8651      0.708      8.283      0.000       4.477       7.253\n",
      "hour_15        2.7423      0.156     17.631      0.000       2.437       3.047\n",
      "hour_16        1.5978      0.100     16.029      0.000       1.402       1.793\n",
      "hour_17        1.0615      0.086     12.378      0.000       0.893       1.230\n",
      "hour_18        0.9724      0.084     11.537      0.000       0.807       1.138\n",
      "hour_19        0.9327      0.082     11.313      0.000       0.771       1.094\n",
      "hour_20        0.9096      0.082     11.103      0.000       0.749       1.070\n",
      "hour_21        0.9802      0.084     11.732      0.000       0.816       1.144\n",
      "hour_22        0.9852      0.083     11.859      0.000       0.822       1.148\n",
      "hour_23        1.2555      0.090     13.878      0.000       1.078       1.433\n",
      "==============================================================================\n"
     ]
    }
   ],
   "source": [
    "print(log_reg.summary()) "
   ],
   "metadata": {
    "collapsed": false,
    "ExecuteTime": {
     "end_time": "2024-03-14T04:38:40.226614523Z",
     "start_time": "2024-03-14T04:38:40.155157202Z"
    }
   },
   "id": "b5f17ae0a8f8878b"
  },
  {
   "cell_type": "code",
   "execution_count": 40,
   "outputs": [
    {
     "data": {
      "text/plain": "<Figure size 640x480 with 2 Axes>",
      "image/png": "[encoded data removed]"
     },
     "metadata": {},
     "output_type": "display_data"
    }
   ],
   "source": [
    "yhat = log_reg.predict(X_test) \n",
    "prediction = list(map(round, yhat))\n",
    "results['sm_hour_sfk'] = get_results(y_test, prediction)"
   ],
   "metadata": {
    "collapsed": false,
    "ExecuteTime": {
     "end_time": "2024-03-14T04:38:40.629467439Z",
     "start_time": "2024-03-14T04:38:40.502022890Z"
    }
   },
   "id": "73e2184f4fc0ed35"
  },
  {
   "cell_type": "code",
   "execution_count": 41,
   "outputs": [
    {
     "data": {
      "text/plain": "                           hour_1  hour_2  hour_3  hour_4  hour_5  hour_6  \\\n2019-10-05 18:00:00+00:00     0.0     0.0     0.0     0.0     0.0     0.0   \n2021-09-02 09:00:00+00:00     0.0     0.0     0.0     0.0     0.0     0.0   \n2020-01-01 15:00:00+00:00     0.0     0.0     0.0     0.0     0.0     0.0   \n2020-11-14 19:00:00+00:00     0.0     0.0     0.0     0.0     0.0     0.0   \n2020-07-11 16:00:00+00:00     0.0     0.0     0.0     0.0     0.0     0.0   \n...                           ...     ...     ...     ...     ...     ...   \n2020-08-01 02:00:00+00:00     0.0     1.0     0.0     0.0     0.0     0.0   \n2020-01-19 10:00:00+00:00     0.0     0.0     0.0     0.0     0.0     0.0   \n2021-09-09 20:00:00+00:00     0.0     0.0     0.0     0.0     0.0     0.0   \n2020-08-08 00:00:00+00:00     0.0     0.0     0.0     0.0     0.0     0.0   \n2020-07-09 03:00:00+00:00     0.0     0.0     1.0     0.0     0.0     0.0   \n\n                           hour_7  hour_8  hour_9  hour_10  ...  hour_14  \\\n2019-10-05 18:00:00+00:00     0.0     0.0     0.0      0.0  ...      0.0   \n2021-09-02 09:00:00+00:00     0.0     0.0     1.0      0.0  ...      0.0   \n2020-01-01 15:00:00+00:00     0.0     0.0     0.0      0.0  ...      0.0   \n2020-11-14 19:00:00+00:00     0.0     0.0     0.0      0.0  ...      0.0   \n2020-07-11 16:00:00+00:00     0.0     0.0     0.0      0.0  ...      0.0   \n...                           ...     ...     ...      ...  ...      ...   \n2020-08-01 02:00:00+00:00     0.0     0.0     0.0      0.0  ...      0.0   \n2020-01-19 10:00:00+00:00     0.0     0.0     0.0      1.0  ...      0.0   \n2021-09-09 20:00:00+00:00     0.0     0.0     0.0      0.0  ...      0.0   \n2020-08-08 00:00:00+00:00     0.0     0.0     0.0      0.0  ...      0.0   \n2020-07-09 03:00:00+00:00     0.0     0.0     0.0      0.0  ...      0.0   \n\n                           hour_15  hour_16  hour_17  hour_18  hour_19  \\\n2019-10-05 18:00:00+00:00      0.0      0.0      0.0      1.0      0.0   \n2021-09-02 09:00:00+00:00      0.0      0.0      0.0      0.0      0.0   \n2020-01-01 15:00:00+00:00      1.0      0.0      0.0      0.0      0.0   \n2020-11-14 19:00:00+00:00      0.0      0.0      0.0      0.0      1.0   \n2020-07-11 16:00:00+00:00      0.0      1.0      0.0      0.0      0.0   \n...                            ...      ...      ...      ...      ...   \n2020-08-01 02:00:00+00:00      0.0      0.0      0.0      0.0      0.0   \n2020-01-19 10:00:00+00:00      0.0      0.0      0.0      0.0      0.0   \n2021-09-09 20:00:00+00:00      0.0      0.0      0.0      0.0      0.0   \n2020-08-08 00:00:00+00:00      0.0      0.0      0.0      0.0      0.0   \n2020-07-09 03:00:00+00:00      0.0      0.0      0.0      0.0      0.0   \n\n                           hour_20  hour_21  hour_22  hour_23  \n2019-10-05 18:00:00+00:00      0.0      0.0      0.0      0.0  \n2021-09-02 09:00:00+00:00      0.0      0.0      0.0      0.0  \n2020-01-01 15:00:00+00:00      0.0      0.0      0.0      0.0  \n2020-11-14 19:00:00+00:00      0.0      0.0      0.0      0.0  \n2020-07-11 16:00:00+00:00      0.0      0.0      0.0      0.0  \n...                            ...      ...      ...      ...  \n2020-08-01 02:00:00+00:00      0.0      0.0      0.0      0.0  \n2020-01-19 10:00:00+00:00      0.0      0.0      0.0      0.0  \n2021-09-09 20:00:00+00:00      1.0      0.0      0.0      0.0  \n2020-08-08 00:00:00+00:00      0.0      0.0      0.0      0.0  \n2020-07-09 03:00:00+00:00      0.0      0.0      0.0      0.0  \n\n[17280 rows x 23 columns]",
      "text/html": "<div>\n<style scoped>\n    .dataframe tbody tr th:only-of-type {\n        vertical-align: middle;\n    }\n\n    .dataframe tbody tr th {\n        vertical-align: top;\n    }\n\n    .dataframe thead th {\n        text-align: right;\n    }\n</style>\n<table border=\"1\" class=\"dataframe\">\n  <thead>\n    <tr style=\"text-align: right;\">\n      <th></th>\n      <th>hour_1</th>\n      <th>hour_2</th>\n      <th>hour_3</th>\n      <th>hour_4</th>\n      <th>hour_5</th>\n      <th>hour_6</th>\n      <th>hour_7</th>\n      <th>hour_8</th>\n      <th>hour_9</th>\n      <th>hour_10</th>\n      <th>...</th>\n      <th>hour_14</th>\n      <th>hour_15</th>\n      <th>hour_16</th>\n      <th>hour_17</th>\n      <th>hour_18</th>\n      <th>hour_19</th>\n      <th>hour_20</th>\n      <th>hour_21</th>\n      <th>hour_22</th>\n      <th>hour_23</th>\n    </tr>\n  </thead>\n  <tbody>\n    <tr>\n      <th>2019-10-05 18:00:00+00:00</th>\n      <td>0.0</td>\n      <td>0.0</td>\n      <td>0.0</td>\n      <td>0.0</td>\n      <td>0.0</td>\n      <td>0.0</td>\n      <td>0.0</td>\n      <td>0.0</td>\n      <td>0.0</td>\n      <td>0.0</td>\n      <td>...</td>\n      <td>0.0</td>\n      <td>0.0</td>\n      <td>0.0</td>\n      <td>0.0</td>\n      <td>1.0</td>\n      <td>0.0</td>\n      <td>0.0</td>\n      <td>0.0</td>\n      <td>0.0</td>\n      <td>0.0</td>\n    </tr>\n    <tr>\n      <th>2021-09-02 09:00:00+00:00</th>\n      <td>0.0</td>\n      <td>0.0</td>\n      <td>0.0</td>\n      <td>0.0</td>\n      <td>0.0</td>\n      <td>0.0</td>\n      <td>0.0</td>\n      <td>0.0</td>\n      <td>1.0</td>\n      <td>0.0</td>\n      <td>...</td>\n      <td>0.0</td>\n      <td>0.0</td>\n      <td>0.0</td>\n      <td>0.0</td>\n      <td>0.0</td>\n      <td>0.0</td>\n      <td>0.0</td>\n      <td>0.0</td>\n      <td>0.0</td>\n      <td>0.0</td>\n    </tr>\n    <tr>\n      <th>2020-01-01 15:00:00+00:00</th>\n      <td>0.0</td>\n      <td>0.0</td>\n      <td>0.0</td>\n      <td>0.0</td>\n      <td>0.0</td>\n      <td>0.0</td>\n      <td>0.0</td>\n      <td>0.0</td>\n      <td>0.0</td>\n      <td>0.0</td>\n      <td>...</td>\n      <td>0.0</td>\n      <td>1.0</td>\n      <td>0.0</td>\n      <td>0.0</td>\n      <td>0.0</td>\n      <td>0.0</td>\n      <td>0.0</td>\n      <td>0.0</td>\n      <td>0.0</td>\n      <td>0.0</td>\n    </tr>\n    <tr>\n      <th>2020-11-14 19:00:00+00:00</th>\n      <td>0.0</td>\n      <td>0.0</td>\n      <td>0.0</td>\n      <td>0.0</td>\n      <td>0.0</td>\n      <td>0.0</td>\n      <td>0.0</td>\n      <td>0.0</td>\n      <td>0.0</td>\n      <td>0.0</td>\n      <td>...</td>\n      <td>0.0</td>\n      <td>0.0</td>\n      <td>0.0</td>\n      <td>0.0</td>\n      <td>0.0</td>\n      <td>1.0</td>\n      <td>0.0</td>\n      <td>0.0</td>\n      <td>0.0</td>\n      <td>0.0</td>\n    </tr>\n    <tr>\n      <th>2020-07-11 16:00:00+00:00</th>\n      <td>0.0</td>\n      <td>0.0</td>\n      <td>0.0</td>\n      <td>0.0</td>\n      <td>0.0</td>\n      <td>0.0</td>\n      <td>0.0</td>\n      <td>0.0</td>\n      <td>0.0</td>\n      <td>0.0</td>\n      <td>...</td>\n      <td>0.0</td>\n      <td>0.0</td>\n      <td>1.0</td>\n      <td>0.0</td>\n      <td>0.0</td>\n      <td>0.0</td>\n      <td>0.0</td>\n      <td>0.0</td>\n      <td>0.0</td>\n      <td>0.0</td>\n    </tr>\n    <tr>\n      <th>...</th>\n      <td>...</td>\n      <td>...</td>\n      <td>...</td>\n      <td>...</td>\n      <td>...</td>\n      <td>...</td>\n      <td>...</td>\n      <td>...</td>\n      <td>...</td>\n      <td>...</td>\n      <td>...</td>\n      <td>...</td>\n      <td>...</td>\n      <td>...</td>\n      <td>...</td>\n      <td>...</td>\n      <td>...</td>\n      <td>...</td>\n      <td>...</td>\n      <td>...</td>\n      <td>...</td>\n    </tr>\n    <tr>\n      <th>2020-08-01 02:00:00+00:00</th>\n      <td>0.0</td>\n      <td>1.0</td>\n      <td>0.0</td>\n      <td>0.0</td>\n      <td>0.0</td>\n      <td>0.0</td>\n      <td>0.0</td>\n      <td>0.0</td>\n      <td>0.0</td>\n      <td>0.0</td>\n      <td>...</td>\n      <td>0.0</td>\n      <td>0.0</td>\n      <td>0.0</td>\n      <td>0.0</td>\n      <td>0.0</td>\n      <td>0.0</td>\n      <td>0.0</td>\n      <td>0.0</td>\n      <td>0.0</td>\n      <td>0.0</td>\n    </tr>\n    <tr>\n      <th>2020-01-19 10:00:00+00:00</th>\n      <td>0.0</td>\n      <td>0.0</td>\n      <td>0.0</td>\n      <td>0.0</td>\n      <td>0.0</td>\n      <td>0.0</td>\n      <td>0.0</td>\n      <td>0.0</td>\n      <td>0.0</td>\n      <td>1.0</td>\n      <td>...</td>\n      <td>0.0</td>\n      <td>0.0</td>\n      <td>0.0</td>\n      <td>0.0</td>\n      <td>0.0</td>\n      <td>0.0</td>\n      <td>0.0</td>\n      <td>0.0</td>\n      <td>0.0</td>\n      <td>0.0</td>\n    </tr>\n    <tr>\n      <th>2021-09-09 20:00:00+00:00</th>\n      <td>0.0</td>\n      <td>0.0</td>\n      <td>0.0</td>\n      <td>0.0</td>\n      <td>0.0</td>\n      <td>0.0</td>\n      <td>0.0</td>\n      <td>0.0</td>\n      <td>0.0</td>\n      <td>0.0</td>\n      <td>...</td>\n      <td>0.0</td>\n      <td>0.0</td>\n      <td>0.0</td>\n      <td>0.0</td>\n      <td>0.0</td>\n      <td>0.0</td>\n      <td>1.0</td>\n      <td>0.0</td>\n      <td>0.0</td>\n      <td>0.0</td>\n    </tr>\n    <tr>\n      <th>2020-08-08 00:00:00+00:00</th>\n      <td>0.0</td>\n      <td>0.0</td>\n      <td>0.0</td>\n      <td>0.0</td>\n      <td>0.0</td>\n      <td>0.0</td>\n      <td>0.0</td>\n      <td>0.0</td>\n      <td>0.0</td>\n      <td>0.0</td>\n      <td>...</td>\n      <td>0.0</td>\n      <td>0.0</td>\n      <td>0.0</td>\n      <td>0.0</td>\n      <td>0.0</td>\n      <td>0.0</td>\n      <td>0.0</td>\n      <td>0.0</td>\n      <td>0.0</td>\n      <td>0.0</td>\n    </tr>\n    <tr>\n      <th>2020-07-09 03:00:00+00:00</th>\n      <td>0.0</td>\n      <td>0.0</td>\n      <td>1.0</td>\n      <td>0.0</td>\n      <td>0.0</td>\n      <td>0.0</td>\n      <td>0.0</td>\n      <td>0.0</td>\n      <td>0.0</td>\n      <td>0.0</td>\n      <td>...</td>\n      <td>0.0</td>\n      <td>0.0</td>\n      <td>0.0</td>\n      <td>0.0</td>\n      <td>0.0</td>\n      <td>0.0</td>\n      <td>0.0</td>\n      <td>0.0</td>\n      <td>0.0</td>\n      <td>0.0</td>\n    </tr>\n  </tbody>\n</table>\n<p>17280 rows × 23 columns</p>\n</div>"
     },
     "execution_count": 41,
     "metadata": {},
     "output_type": "execute_result"
    }
   ],
   "source": [
    "X_train"
   ],
   "metadata": {
    "collapsed": false,
    "ExecuteTime": {
     "end_time": "2024-03-14T04:38:40.952463431Z",
     "start_time": "2024-03-14T04:38:40.872105462Z"
    }
   },
   "id": "67fbfa136031c8be"
  },
  {
   "cell_type": "code",
   "execution_count": 42,
   "outputs": [
    {
     "name": "stdout",
     "output_type": "stream",
     "text": [
      "for not 6 PM...\n",
      "prob of success 0.899837084414409\n",
      "prob of failure 0.10016291558559098\n",
      "odds of success 8.98373493975904\n",
      "log odds of success 2.195415713412194\n",
      "\n",
      "\n",
      "for 6 PM,\n",
      "prob of success 0.7256011315417256\n",
      "prob of failure 0.27439886845827444\n",
      "odds of success 2.644329896907216\n",
      "log odds of success 0.9724176861074412\n",
      "\n",
      "\n",
      "the probaility of availability changes from 0.7256011315417256 to 0.899837084414409, a difference of -19.363%\n"
     ]
    }
   ],
   "source": [
    "# not weekend, the log odds is 1.782\n",
    "# for the weekend, the log odds increases 2.3780, to 4.1606\n",
    "y_train[X_train.hour_18==True]\n",
    "# probability of ytrain\n",
    "print('for not 6 PM...')\n",
    "p_success = y_train[X_train.hour_18==False].mean()\n",
    "p_failure = 1- p_success\n",
    "odds = p_success/p_failure\n",
    "log_odds = np.log(odds)\n",
    "print(f'prob of success {p_success}\\nprob of failure {p_failure}\\nodds of success {odds}\\nlog odds of success {log_odds}')\n",
    "p_not6pm = p_success\n",
    "print('\\n\\nfor 6 PM,')\n",
    "p_success = y_train[X_train.hour_18==True].mean()\n",
    "p_failure = 1- p_success\n",
    "odds = p_success/p_failure\n",
    "log_odds = np.log(odds)\n",
    "print(f'prob of success {p_success}\\nprob of failure {p_failure}\\nodds of success {odds}\\nlog odds of success {log_odds}')\n",
    "print(f'\\n\\nthe probaility of availability changes from {p_success} to {p_not6pm}, a difference of {np.round((p_success-p_not6pm)/p_not6pm*100,3)}%')"
   ],
   "metadata": {
    "collapsed": false,
    "ExecuteTime": {
     "end_time": "2024-03-14T04:38:41.422392397Z",
     "start_time": "2024-03-14T04:38:41.313687186Z"
    }
   },
   "id": "45c4f96690ddd56"
  },
  {
   "cell_type": "code",
   "execution_count": 43,
   "outputs": [
    {
     "name": "stdout",
     "output_type": "stream",
     "text": [
      "              precision    recall  f1-score   support\n",
      "\n",
      "           0       0.21      0.09      0.13       463\n",
      "           1       0.90      0.96      0.93      3858\n",
      "\n",
      "    accuracy                           0.87      4321\n",
      "   macro avg       0.55      0.52      0.53      4321\n",
      "weighted avg       0.82      0.87      0.84      4321\n"
     ]
    }
   ],
   "source": [
    "from sklearn.metrics import classification_report\n",
    "print(classification_report(y_test, prediction))"
   ],
   "metadata": {
    "collapsed": false,
    "ExecuteTime": {
     "end_time": "2024-03-14T04:38:41.847539959Z",
     "start_time": "2024-03-14T04:38:41.825957344Z"
    }
   },
   "id": "a05c96c5b777495c"
  },
  {
   "cell_type": "code",
   "execution_count": 44,
   "outputs": [
    {
     "name": "stdout",
     "output_type": "stream",
     "text": [
      "Optimization terminated successfully.\n",
      "         Current function value: 0.261538\n",
      "         Iterations 10\n"
     ]
    }
   ],
   "source": [
    "ohe = OneHotEncoder(sparse_output=False, drop='first')\n",
    "ohe.fit(X[['month','hour']])\n",
    "ohe.transform(X[['month','hour']])\n",
    "X_train, X_test, y_train, y_test = train_test_split(\n",
    "    pd.DataFrame(ohe.transform(X[['month','hour']]), columns=ohe.get_feature_names_out(), index=X.index), \n",
    "    y, \n",
    "    test_size=.2, \n",
    "    stratify=y)\n",
    "# X_train, X_test, y_train, y_test = train_test_split(pd.DataFrame(ohe.transform(X[['hour']]), columns=ohe.get_feature_names_out(), index=X.index), y['is_available'])\n",
    "log_reg = sm.Logit(y_train, X_train).fit() "
   ],
   "metadata": {
    "collapsed": false,
    "ExecuteTime": {
     "end_time": "2024-03-14T04:38:42.587068546Z",
     "start_time": "2024-03-14T04:38:42.391673287Z"
    }
   },
   "id": "75add6aeb107e0af"
  },
  {
   "cell_type": "code",
   "execution_count": 45,
   "outputs": [
    {
     "name": "stdout",
     "output_type": "stream",
     "text": [
      "                           Logit Regression Results                           \n",
      "==============================================================================\n",
      "Dep. Variable:           is_available   No. Observations:                17280\n",
      "Model:                          Logit   Df Residuals:                    17246\n",
      "Method:                           MLE   Df Model:                           33\n",
      "Date:                Wed, 13 Mar 2024   Pseudo R-squ.:                  0.2326\n",
      "Time:                        22:38:42   Log-Likelihood:                -4519.4\n",
      "converged:                       True   LL-Null:                       -5889.3\n",
      "Covariance Type:            nonrobust   LLR p-value:                     0.000\n",
      "==============================================================================\n",
      "                 coef    std err          z      P>|z|      [0.025      0.975]\n",
      "------------------------------------------------------------------------------\n",
      "month_2        0.7336      0.117      6.247      0.000       0.503       0.964\n",
      "month_3        0.3927      0.104      3.765      0.000       0.188       0.597\n",
      "month_4        0.9470      0.104      9.126      0.000       0.744       1.150\n",
      "month_5        1.1779      0.106     11.088      0.000       0.970       1.386\n",
      "month_6        0.9941      0.105      9.490      0.000       0.789       1.199\n",
      "month_7        0.9485      0.102      9.322      0.000       0.749       1.148\n",
      "month_8        0.9220      0.101      9.166      0.000       0.725       1.119\n",
      "month_9        0.8522      0.112      7.634      0.000       0.633       1.071\n",
      "month_10       0.6750      0.114      5.911      0.000       0.451       0.899\n",
      "month_11       0.9750      0.121      8.083      0.000       0.739       1.211\n",
      "month_12       0.9012      0.117      7.716      0.000       0.672       1.130\n",
      "hour_1         1.0418      0.122      8.574      0.000       0.804       1.280\n",
      "hour_2         1.7670      0.155     11.419      0.000       1.464       2.070\n",
      "hour_3         3.0524      0.267     11.433      0.000       2.529       3.576\n",
      "hour_4         4.2130      0.452      9.317      0.000       3.327       5.099\n",
      "hour_5         4.3970      0.505      8.715      0.000       3.408       5.386\n",
      "hour_6         5.1026      0.710      7.184      0.000       3.710       6.495\n",
      "hour_7         5.1037      0.710      7.185      0.000       3.711       6.496\n",
      "hour_8         5.1019      0.710      7.183      0.000       3.710       6.494\n",
      "hour_9         5.1243      0.710      7.215      0.000       3.732       6.516\n",
      "hour_10        5.1147      0.710      7.201      0.000       3.723       6.507\n",
      "hour_11        5.1176      0.710      7.205      0.000       3.726       6.510\n",
      "hour_12        5.1148      0.710      7.202      0.000       3.723       6.507\n",
      "hour_13        4.7033      0.581      8.092      0.000       3.564       5.842\n",
      "hour_14        5.1062      0.710      7.189      0.000       3.714       6.498\n",
      "hour_15        1.8679      0.160     11.704      0.000       1.555       2.181\n",
      "hour_16        0.8069      0.116      6.971      0.000       0.580       1.034\n",
      "hour_17        0.1934      0.104      1.867      0.062      -0.010       0.396\n",
      "hour_18        0.1410      0.103      1.373      0.170      -0.060       0.342\n",
      "hour_19        0.1496      0.102      1.465      0.143      -0.050       0.350\n",
      "hour_20        0.1986      0.102      1.938      0.053      -0.002       0.399\n",
      "hour_21        0.1301      0.101      1.292      0.196      -0.067       0.328\n",
      "hour_22        0.2171      0.103      2.107      0.035       0.015       0.419\n",
      "hour_23        0.3972      0.106      3.742      0.000       0.189       0.605\n",
      "==============================================================================\n"
     ]
    }
   ],
   "source": [
    "print(log_reg.summary())"
   ],
   "metadata": {
    "collapsed": false,
    "ExecuteTime": {
     "end_time": "2024-03-14T04:38:42.822504120Z",
     "start_time": "2024-03-14T04:38:42.749913984Z"
    }
   },
   "id": "44d7cdcf69f97096"
  },
  {
   "cell_type": "code",
   "execution_count": 46,
   "outputs": [
    {
     "data": {
      "text/plain": "<Figure size 640x480 with 2 Axes>",
      "image/png": "[encoded data removed]"
     },
     "metadata": {},
     "output_type": "display_data"
    }
   ],
   "source": [
    "yhat = log_reg.predict(X_test) \n",
    "prediction = list(map(round, yhat))\n",
    "results['sm_month_hour_skf'] = get_results(y_test, prediction)\n"
   ],
   "metadata": {
    "collapsed": false,
    "ExecuteTime": {
     "end_time": "2024-03-14T04:38:43.656044647Z",
     "start_time": "2024-03-14T04:38:43.191442923Z"
    }
   },
   "id": "154bcab58e367f3d"
  },
  {
   "cell_type": "code",
   "execution_count": 47,
   "outputs": [
    {
     "name": "stdout",
     "output_type": "stream",
     "text": [
      "Warning: Maximum number of iterations has been exceeded.\n",
      "         Current function value: 0.228638\n",
      "         Iterations: 35\n",
      "                           Logit Regression Results                           \n",
      "==============================================================================\n",
      "Dep. Variable:           is_available   No. Observations:                17280\n",
      "Model:                          Logit   Df Residuals:                    17239\n",
      "Method:                           MLE   Df Model:                           40\n",
      "Date:                Wed, 13 Mar 2024   Pseudo R-squ.:                  0.3291\n",
      "Time:                        22:38:43   Log-Likelihood:                -3950.9\n",
      "converged:                      False   LL-Null:                       -5889.3\n",
      "Covariance Type:            nonrobust   LLR p-value:                     0.000\n",
      "===================================================================================\n",
      "                      coef    std err          z      P>|z|      [0.025      0.975]\n",
      "-----------------------------------------------------------------------------------\n",
      "dow_1              -0.0541      0.088     -0.616      0.538      -0.226       0.118\n",
      "dow_2              -0.1715      0.087     -1.966      0.049      -0.343      -0.000\n",
      "dow_3              -0.2320      0.087     -2.666      0.008      -0.403      -0.061\n",
      "dow_4              -0.2130      0.087     -2.456      0.014      -0.383      -0.043\n",
      "dow_5               2.0433      0.144     14.234      0.000       1.762       2.325\n",
      "dow_6              19.0851    617.758      0.031      0.975   -1191.698    1229.868\n",
      "hour_1              0.7896      0.130      6.093      0.000       0.536       1.044\n",
      "hour_2              1.5961      0.158     10.095      0.000       1.286       1.906\n",
      "hour_3              2.9206      0.264     11.083      0.000       2.404       3.437\n",
      "hour_4              3.9251      0.417      9.420      0.000       3.108       4.742\n",
      "hour_5              4.3373      0.507      8.556      0.000       3.344       5.331\n",
      "hour_6              5.0140      0.712      7.042      0.000       3.618       6.410\n",
      "hour_7              4.6342      0.583      7.946      0.000       3.491       5.777\n",
      "hour_8              4.6178      0.583      7.918      0.000       3.475       5.761\n",
      "hour_9              4.6173      0.583      7.916      0.000       3.474       5.761\n",
      "hour_10             5.0391      0.712      7.077      0.000       3.644       6.435\n",
      "hour_11             5.0208      0.712      7.052      0.000       3.625       6.416\n",
      "hour_12             5.7131      1.003      5.693      0.000       3.746       7.680\n",
      "hour_13             4.6443      0.583      7.962      0.000       3.501       5.787\n",
      "hour_14             5.0543      0.712      7.100      0.000       3.659       6.449\n",
      "hour_15             1.7883      0.169     10.612      0.000       1.458       2.119\n",
      "hour_16             0.6784      0.127      5.338      0.000       0.429       0.927\n",
      "hour_17             0.0467      0.116      0.403      0.687      -0.180       0.274\n",
      "hour_18            -0.0504      0.115     -0.438      0.662      -0.276       0.175\n",
      "hour_19            -0.0535      0.115     -0.467      0.641      -0.278       0.171\n",
      "hour_20            -0.0892      0.115     -0.773      0.440      -0.315       0.137\n",
      "hour_21            -0.0595      0.115     -0.518      0.605      -0.285       0.166\n",
      "hour_22             0.0587      0.116      0.506      0.613      -0.169       0.286\n",
      "hour_23             0.2158      0.119      1.814      0.070      -0.017       0.449\n",
      "month_2             0.5229      0.130      4.015      0.000       0.268       0.778\n",
      "month_3             0.2811      0.116      2.430      0.015       0.054       0.508\n",
      "month_4             0.8644      0.115      7.519      0.000       0.639       1.090\n",
      "month_5             1.0040      0.119      8.449      0.000       0.771       1.237\n",
      "month_6             0.9058      0.116      7.839      0.000       0.679       1.132\n",
      "month_7             0.8374      0.114      7.324      0.000       0.613       1.062\n",
      "month_8             0.7510      0.113      6.625      0.000       0.529       0.973\n",
      "month_9             0.6015      0.121      4.980      0.000       0.365       0.838\n",
      "month_10            0.5287      0.126      4.192      0.000       0.282       0.776\n",
      "month_11            0.7443      0.135      5.533      0.000       0.481       1.008\n",
      "month_12            0.8361      0.130      6.433      0.000       0.581       1.091\n",
      "is_holiday_True     1.3298      0.219      6.073      0.000       0.901       1.759\n",
      "===================================================================================\n",
      "\n",
      "Possibly complete quasi-separation: A fraction 0.14 of observations can be\n",
      "perfectly predicted. This might indicate that there is complete\n",
      "quasi-separation. In this case some parameters will not be identified.\n"
     ]
    },
    {
     "name": "stderr",
     "output_type": "stream",
     "text": [
      "/home/denny/anaconda3/envs/ev/lib/python3.11/site-packages/statsmodels/base/model.py:607: ConvergenceWarning: Maximum Likelihood optimization failed to converge. Check mle_retvals\n",
      "  warnings.warn(\"Maximum Likelihood optimization failed to \"\n"
     ]
    }
   ],
   "source": [
    "ohe = OneHotEncoder(sparse_output=False, drop='first')\n",
    "ohe.fit(X)\n",
    "ohe.transform(X)\n",
    "ohe.get_feature_names_out()[0]\n",
    "\n",
    "X_train, X_test, y_train, y_test = train_test_split(\n",
    "    pd.DataFrame(ohe.transform(X), columns=ohe.get_feature_names_out(), index=X.index), #.drop(columns=ohe.get_feature_names_out()[0]), \n",
    "    y, \n",
    "    test_size=.2, \n",
    "    stratify=y)\n",
    "# X_train, X_test, y_train, y_test = train_test_split(pd.DataFrame(ohe.transform(X[['hour']]), columns=ohe.get_feature_names_out(), index=X.index), y['is_available'])\n",
    "log_reg = sm.Logit(y_train, X_train).fit() \n",
    "print(log_reg.summary())"
   ],
   "metadata": {
    "collapsed": false,
    "ExecuteTime": {
     "end_time": "2024-03-14T04:38:44.041576367Z",
     "start_time": "2024-03-14T04:38:43.616973845Z"
    }
   },
   "id": "487e95a76ffc0c36"
  },
  {
   "cell_type": "code",
   "execution_count": 48,
   "outputs": [
    {
     "data": {
      "text/plain": "<Figure size 640x480 with 2 Axes>",
      "image/png": "[encoded data removed]"
     },
     "metadata": {},
     "output_type": "display_data"
    }
   ],
   "source": [
    "yhat = log_reg.predict(X_test) \n",
    "prediction = list(map(round, yhat))\n",
    "results['sm_month_hour_dow_skf'] = get_results(y_test, prediction)"
   ],
   "metadata": {
    "collapsed": false,
    "ExecuteTime": {
     "end_time": "2024-03-14T04:38:44.207199770Z",
     "start_time": "2024-03-14T04:38:43.991963815Z"
    }
   },
   "id": "c870ee46cee41bca"
  },
  {
   "cell_type": "code",
   "execution_count": 49,
   "outputs": [
    {
     "name": "stdout",
     "output_type": "stream",
     "text": [
      "guess always available and never available\n"
     ]
    },
    {
     "data": {
      "text/plain": "<Figure size 640x480 with 2 Axes>",
      "image/png": "[encoded data removed]"
     },
     "metadata": {},
     "output_type": "display_data"
    },
    {
     "data": {
      "text/plain": "<Figure size 640x480 with 2 Axes>",
      "image/png": "[encoded data removed]"
     },
     "metadata": {},
     "output_type": "display_data"
    },
    {
     "name": "stderr",
     "output_type": "stream",
     "text": [
      "/home/denny/anaconda3/envs/ev/lib/python3.11/site-packages/sklearn/metrics/_classification.py:1509: UndefinedMetricWarning: Precision is ill-defined and being set to 0.0 due to no predicted samples. Use `zero_division` parameter to control this behavior.\n",
      "  _warn_prf(average, modifier, f\"{metric.capitalize()} is\", len(result))\n"
     ]
    }
   ],
   "source": [
    "print('guess always available and never available')\n",
    "results['always_available'] =  get_results(y_test, [1]*len(y_test))\n",
    "results['never_available'] =  get_results(y_test, [0]*len(y_test))\n"
   ],
   "metadata": {
    "collapsed": false,
    "ExecuteTime": {
     "end_time": "2024-03-14T04:38:44.692764341Z",
     "start_time": "2024-03-14T04:38:44.321366455Z"
    }
   },
   "id": "db05ddf85c8e8210"
  },
  {
   "cell_type": "code",
   "execution_count": 50,
   "outputs": [
    {
     "name": "stdout",
     "output_type": "stream",
     "text": [
      "Optimization terminated successfully.\n",
      "         Current function value: 0.360741\n",
      "         Iterations 6\n"
     ]
    }
   ],
   "source": [
    "ohe = OneHotEncoder(sparse_output=False, drop='first')\n",
    "ohe.fit(X[['month']])\n",
    "ohe.transform(X[['month']])\n",
    "X_train, X_test, y_train, y_test = train_test_split(\n",
    "    pd.DataFrame(ohe.transform(X[['month']]), columns=ohe.get_feature_names_out(), index=X.index), \n",
    "    y, \n",
    "    test_size=.2, \n",
    "    stratify=y)\n",
    "log_reg = sm.Logit(y_train, X_train).fit() "
   ],
   "metadata": {
    "collapsed": false,
    "ExecuteTime": {
     "end_time": "2024-03-14T04:38:44.709490744Z",
     "start_time": "2024-03-14T04:38:44.621673Z"
    }
   },
   "id": "95bebb19fd886989"
  },
  {
   "cell_type": "code",
   "execution_count": 51,
   "outputs": [
    {
     "name": "stdout",
     "output_type": "stream",
     "text": [
      "                           Logit Regression Results                           \n",
      "==============================================================================\n",
      "Dep. Variable:           is_available   No. Observations:                17280\n",
      "Model:                          Logit   Df Residuals:                    17269\n",
      "Method:                           MLE   Df Model:                           10\n",
      "Date:                Wed, 13 Mar 2024   Pseudo R-squ.:                -0.05847\n",
      "Time:                        22:38:44   Log-Likelihood:                -6233.6\n",
      "converged:                       True   LL-Null:                       -5889.3\n",
      "Covariance Type:            nonrobust   LLR p-value:                     1.000\n",
      "==============================================================================\n",
      "                 coef    std err          z      P>|z|      [0.025      0.975]\n",
      "------------------------------------------------------------------------------\n",
      "month_2        2.0393      0.094     21.618      0.000       1.854       2.224\n",
      "month_3        1.7115      0.077     22.332      0.000       1.561       1.862\n",
      "month_4        2.1417      0.078     27.407      0.000       1.989       2.295\n",
      "month_5        2.4454      0.087     27.954      0.000       2.274       2.617\n",
      "month_6        2.3085      0.085     27.232      0.000       2.142       2.475\n",
      "month_7        2.1382      0.077     27.876      0.000       1.988       2.289\n",
      "month_8        2.1744      0.078     27.797      0.000       2.021       2.328\n",
      "month_9        2.1025      0.088     23.899      0.000       1.930       2.275\n",
      "month_10       1.9040      0.087     21.971      0.000       1.734       2.074\n",
      "month_11       2.3245      0.103     22.624      0.000       2.123       2.526\n",
      "month_12       2.1776      0.096     22.608      0.000       1.989       2.366\n",
      "==============================================================================\n"
     ]
    }
   ],
   "source": [
    "print(log_reg.summary())"
   ],
   "metadata": {
    "collapsed": false,
    "ExecuteTime": {
     "end_time": "2024-03-14T04:38:44.956861051Z",
     "start_time": "2024-03-14T04:38:44.867382792Z"
    }
   },
   "id": "2e0d1d8ba7de40aa"
  },
  {
   "cell_type": "code",
   "execution_count": 52,
   "outputs": [
    {
     "data": {
      "text/plain": "2021-05-30 22:00:00+00:00    0.920225\n2019-11-08 17:00:00+00:00    0.910883\n2019-11-18 11:00:00+00:00    0.910883\n2019-10-23 10:00:00+00:00    0.870339\n2020-08-31 11:00:00+00:00    0.897925\n                               ...   \n2020-09-04 20:00:00+00:00    0.891141\n2021-05-26 22:00:00+00:00    0.920225\n2021-07-27 11:00:00+00:00    0.894562\n2019-11-23 02:00:00+00:00    0.910883\n2020-04-26 23:00:00+00:00    0.894888\nLength: 4321, dtype: float64"
     },
     "execution_count": 52,
     "metadata": {},
     "output_type": "execute_result"
    }
   ],
   "source": [
    "yhat = log_reg.predict(X_test) \n",
    "prediction = list(map(round, yhat))\n",
    "yhat"
   ],
   "metadata": {
    "collapsed": false,
    "ExecuteTime": {
     "end_time": "2024-03-14T04:38:45.173541574Z",
     "start_time": "2024-03-14T04:38:45.121935831Z"
    }
   },
   "id": "69a990e8be57b095"
  },
  {
   "cell_type": "code",
   "execution_count": 53,
   "outputs": [
    {
     "name": "stdout",
     "output_type": "stream",
     "text": [
      "              precision    recall  f1-score   support\n",
      "\n",
      "           0       0.16      0.10      0.12       463\n",
      "           1       0.90      0.94      0.92      3858\n",
      "\n",
      "    accuracy                           0.85      4321\n",
      "   macro avg       0.53      0.52      0.52      4321\n",
      "weighted avg       0.82      0.85      0.83      4321\n"
     ]
    },
    {
     "data": {
      "text/plain": "array([[  45,  418],\n       [ 236, 3622]])"
     },
     "execution_count": 53,
     "metadata": {},
     "output_type": "execute_result"
    }
   ],
   "source": [
    "print(classification_report(y_test, prediction))\n",
    "confusion_matrix(y_test, prediction)\n"
   ],
   "metadata": {
    "collapsed": false,
    "ExecuteTime": {
     "end_time": "2024-03-14T04:38:45.581401278Z",
     "start_time": "2024-03-14T04:38:45.482185729Z"
    }
   },
   "id": "94986115e5963f3e"
  },
  {
   "cell_type": "code",
   "execution_count": 54,
   "outputs": [
    {
     "name": "stdout",
     "output_type": "stream",
     "text": [
      "Precision: out of all the times the model predicted the charger would be available, 89.653% of the time it actually was available\n",
      "Recall: out of all the times the charger was available, the model predicted the outcome correctly for 93.883% of those times\n",
      "F1 score: the precision recall balance of the model was 0.917\n",
      "support available:   3858\n",
      "support unavailable: 463\n"
     ]
    }
   ],
   "source": [
    "from sklearn.metrics import  f1_score, precision_score, recall_score\n",
    "print(f'Precision: out of all the times the model predicted the charger would be available, {np.round(precision_score(y_test, prediction)*100,3)}% of the time it actually was available')\n",
    "print(f'Recall: out of all the times the charger was available, the model predicted the outcome correctly for {np.round(recall_score(y_test, prediction)*100,3)}% of those times')\n",
    "print(f'F1 score: the precision recall balance of the model was {np.round(f1_score(y_test,prediction),3)}')\n",
    "print(f'support available:   {np.sum(y_test==1)}')\n",
    "print(f'support unavailable: {np.sum(y_test==0)}')\n"
   ],
   "metadata": {
    "collapsed": false,
    "ExecuteTime": {
     "end_time": "2024-03-14T04:38:45.753840379Z",
     "start_time": "2024-03-14T04:38:45.618184604Z"
    }
   },
   "id": "991143d46bad2153"
  },
  {
   "cell_type": "code",
   "execution_count": 55,
   "outputs": [
    {
     "data": {
      "text/plain": "                               tpr       fpr  accuracy  precision    recall  \\\nalways_available          1.000000  1.000000  0.892849   0.892849  1.000000   \nnever_available           0.000000  0.000000  0.107151   0.000000  0.000000   \nsk_log_l2_skf             0.996630  0.974082  0.892617   0.895019  0.996630   \nsk_log_reg_l1_skf         0.997149  0.974082  0.893080   0.895067  0.997149   \nsk_log_elasticnet_skf     0.997149  0.974082  0.893080   0.895067  0.997149   \nsk_rf_classification_skf  0.965526  0.842333  0.878963   0.905225  0.965526   \nsm_hour_sfk               0.958787  0.909287  0.865772   0.897816  0.958787   \nsm_month_hour_skf         0.997926  0.993521  0.891692   0.893271  0.997926   \nsm_month_hour_dow_skf     0.990669  0.935205  0.891460   0.898237  0.990669   \n\n                                f1  \nalways_available          0.943392  \nnever_available           0.000000  \nsk_log_l2_skf             0.943095  \nsk_log_reg_l1_skf         0.943355  \nsk_log_elasticnet_skf     0.943355  \nsk_rf_classification_skf  0.934404  \nsm_hour_sfk               0.927300  \nsm_month_hour_skf         0.942703  \nsm_month_hour_dow_skf     0.942192  ",
      "text/html": "<div>\n<style scoped>\n    .dataframe tbody tr th:only-of-type {\n        vertical-align: middle;\n    }\n\n    .dataframe tbody tr th {\n        vertical-align: top;\n    }\n\n    .dataframe thead th {\n        text-align: right;\n    }\n</style>\n<table border=\"1\" class=\"dataframe\">\n  <thead>\n    <tr style=\"text-align: right;\">\n      <th></th>\n      <th>tpr</th>\n      <th>fpr</th>\n      <th>accuracy</th>\n      <th>precision</th>\n      <th>recall</th>\n      <th>f1</th>\n    </tr>\n  </thead>\n  <tbody>\n    <tr>\n      <th>always_available</th>\n      <td>1.000000</td>\n      <td>1.000000</td>\n      <td>0.892849</td>\n      <td>0.892849</td>\n      <td>1.000000</td>\n      <td>0.943392</td>\n    </tr>\n    <tr>\n      <th>never_available</th>\n      <td>0.000000</td>\n      <td>0.000000</td>\n      <td>0.107151</td>\n      <td>0.000000</td>\n      <td>0.000000</td>\n      <td>0.000000</td>\n    </tr>\n    <tr>\n      <th>sk_log_l2_skf</th>\n      <td>0.996630</td>\n      <td>0.974082</td>\n      <td>0.892617</td>\n      <td>0.895019</td>\n      <td>0.996630</td>\n      <td>0.943095</td>\n    </tr>\n    <tr>\n      <th>sk_log_reg_l1_skf</th>\n      <td>0.997149</td>\n      <td>0.974082</td>\n      <td>0.893080</td>\n      <td>0.895067</td>\n      <td>0.997149</td>\n      <td>0.943355</td>\n    </tr>\n    <tr>\n      <th>sk_log_elasticnet_skf</th>\n      <td>0.997149</td>\n      <td>0.974082</td>\n      <td>0.893080</td>\n      <td>0.895067</td>\n      <td>0.997149</td>\n      <td>0.943355</td>\n    </tr>\n    <tr>\n      <th>sk_rf_classification_skf</th>\n      <td>0.965526</td>\n      <td>0.842333</td>\n      <td>0.878963</td>\n      <td>0.905225</td>\n      <td>0.965526</td>\n      <td>0.934404</td>\n    </tr>\n    <tr>\n      <th>sm_hour_sfk</th>\n      <td>0.958787</td>\n      <td>0.909287</td>\n      <td>0.865772</td>\n      <td>0.897816</td>\n      <td>0.958787</td>\n      <td>0.927300</td>\n    </tr>\n    <tr>\n      <th>sm_month_hour_skf</th>\n      <td>0.997926</td>\n      <td>0.993521</td>\n      <td>0.891692</td>\n      <td>0.893271</td>\n      <td>0.997926</td>\n      <td>0.942703</td>\n    </tr>\n    <tr>\n      <th>sm_month_hour_dow_skf</th>\n      <td>0.990669</td>\n      <td>0.935205</td>\n      <td>0.891460</td>\n      <td>0.898237</td>\n      <td>0.990669</td>\n      <td>0.942192</td>\n    </tr>\n  </tbody>\n</table>\n</div>"
     },
     "execution_count": 55,
     "metadata": {},
     "output_type": "execute_result"
    }
   ],
   "source": [
    "pd.DataFrame(results).T"
   ],
   "metadata": {
    "collapsed": false,
    "ExecuteTime": {
     "end_time": "2024-03-14T04:38:46.025877061Z",
     "start_time": "2024-03-14T04:38:45.961457025Z"
    }
   },
   "id": "39060099891284f"
  },
  {
   "cell_type": "code",
   "execution_count": 55,
   "outputs": [],
   "source": [],
   "metadata": {
    "collapsed": false,
    "ExecuteTime": {
     "end_time": "2024-03-14T04:38:46.581957597Z",
     "start_time": "2024-03-14T04:38:46.544843364Z"
    }
   },
   "id": "60b1f761ad50d958"
  },
  {
   "cell_type": "markdown",
   "source": [
    "# Interpreting model coefficients"
   ],
   "metadata": {
    "collapsed": false
   },
   "id": "b042a2451de495c"
  },
  {
   "cell_type": "code",
   "execution_count": 56,
   "outputs": [
    {
     "name": "stdout",
     "output_type": "stream",
     "text": [
      "prob of success 0.8927083333333333\n",
      "prob of failure 0.10729166666666667\n",
      "odds of success 8.320388349514563\n",
      "log odds of success 2.118708930368144\n"
     ]
    }
   ],
   "source": [
    "# probability of ytrain\n",
    "p_success = y_train.mean()\n",
    "p_failure = 1- p_success\n",
    "odds = p_success/p_failure\n",
    "log_odds = np.log(odds)\n",
    "print(f'prob of success {p_success}\\nprob of failure {p_failure}\\nodds of success {odds}\\nlog odds of success {log_odds}')"
   ],
   "metadata": {
    "collapsed": false,
    "ExecuteTime": {
     "end_time": "2024-03-14T04:38:48.495282425Z",
     "start_time": "2024-03-14T04:38:48.468689994Z"
    }
   },
   "id": "faeb1ad223a2111a"
  },
  {
   "cell_type": "code",
   "execution_count": 57,
   "outputs": [
    {
     "name": "stdout",
     "output_type": "stream",
     "text": [
      "Optimization terminated successfully.\n",
      "         Current function value: 0.340815\n",
      "         Iterations 6\n"
     ]
    }
   ],
   "source": [
    "dummy_1 = pd.DataFrame([1]*len(y_train), columns=['intercept'], index=y_train.index)\n",
    "int_model = sm.Logit(y_train, dummy_1).fit()"
   ],
   "metadata": {
    "collapsed": false,
    "ExecuteTime": {
     "end_time": "2024-03-14T04:38:49.023430717Z",
     "start_time": "2024-03-14T04:38:48.951763519Z"
    }
   },
   "id": "d18429346aa626a4"
  },
  {
   "cell_type": "code",
   "execution_count": 58,
   "outputs": [
    {
     "name": "stdout",
     "output_type": "stream",
     "text": [
      "                           Logit Regression Results                           \n",
      "==============================================================================\n",
      "Dep. Variable:           is_available   No. Observations:                17280\n",
      "Model:                          Logit   Df Residuals:                    17279\n",
      "Method:                           MLE   Df Model:                            0\n",
      "Date:                Wed, 13 Mar 2024   Pseudo R-squ.:               6.453e-11\n",
      "Time:                        22:38:49   Log-Likelihood:                -5889.3\n",
      "converged:                       True   LL-Null:                       -5889.3\n",
      "Covariance Type:            nonrobust   LLR p-value:                       nan\n",
      "==============================================================================\n",
      "                 coef    std err          z      P>|z|      [0.025      0.975]\n",
      "------------------------------------------------------------------------------\n",
      "intercept      2.1187      0.025     86.195      0.000       2.071       2.167\n",
      "==============================================================================\n"
     ]
    }
   ],
   "source": [
    "print(int_model.summary())"
   ],
   "metadata": {
    "collapsed": false,
    "ExecuteTime": {
     "end_time": "2024-03-14T04:38:49.396687855Z",
     "start_time": "2024-03-14T04:38:49.314141386Z"
    }
   },
   "id": "8d1100bb9f6c9445"
  },
  {
   "cell_type": "code",
   "execution_count": 59,
   "outputs": [
    {
     "name": "stdout",
     "output_type": "stream",
     "text": [
      "the model intercept term is 2.118708930368144 which is the same as the log odds of the training set 2.118708930368144\n"
     ]
    }
   ],
   "source": [
    "print(f'the model intercept term is {int_model.params.iloc[0]} which is the same as the log odds of the training set {log_odds}')"
   ],
   "metadata": {
    "collapsed": false,
    "ExecuteTime": {
     "end_time": "2024-03-14T04:38:49.698623382Z",
     "start_time": "2024-03-14T04:38:49.676200086Z"
    }
   },
   "id": "b093841cd63ebd70"
  },
  {
   "cell_type": "code",
   "execution_count": 59,
   "outputs": [],
   "source": [],
   "metadata": {
    "collapsed": false,
    "ExecuteTime": {
     "end_time": "2024-03-14T04:38:50.121867212Z",
     "start_time": "2024-03-14T04:38:50.026095655Z"
    }
   },
   "id": "61057e79e29614eb"
  },
  {
   "cell_type": "markdown",
   "source": [
    "# new model"
   ],
   "metadata": {
    "collapsed": false
   },
   "id": "7d58fa01891ec680"
  },
  {
   "cell_type": "code",
   "execution_count": 60,
   "outputs": [
    {
     "data": {
      "text/plain": "                           dow  hour  month  is_holiday  is_weekend\n2019-03-25 00:00:00+00:00    0     0      3       False       False\n2019-03-25 01:00:00+00:00    0     1      3       False       False\n2019-03-25 02:00:00+00:00    0     2      3       False       False\n2019-03-25 03:00:00+00:00    0     3      3       False       False\n2019-03-25 04:00:00+00:00    0     4      3       False       False\n...                        ...   ...    ...         ...         ...\n2021-09-09 20:00:00+00:00    3    20      9       False       False\n2021-09-09 21:00:00+00:00    3    21      9       False       False\n2021-09-09 22:00:00+00:00    3    22      9       False       False\n2021-09-09 23:00:00+00:00    3    23      9       False       False\n2021-09-10 00:00:00+00:00    4     0      9       False       False\n\n[21601 rows x 5 columns]",
      "text/html": "<div>\n<style scoped>\n    .dataframe tbody tr th:only-of-type {\n        vertical-align: middle;\n    }\n\n    .dataframe tbody tr th {\n        vertical-align: top;\n    }\n\n    .dataframe thead th {\n        text-align: right;\n    }\n</style>\n<table border=\"1\" class=\"dataframe\">\n  <thead>\n    <tr style=\"text-align: right;\">\n      <th></th>\n      <th>dow</th>\n      <th>hour</th>\n      <th>month</th>\n      <th>is_holiday</th>\n      <th>is_weekend</th>\n    </tr>\n  </thead>\n  <tbody>\n    <tr>\n      <th>2019-03-25 00:00:00+00:00</th>\n      <td>0</td>\n      <td>0</td>\n      <td>3</td>\n      <td>False</td>\n      <td>False</td>\n    </tr>\n    <tr>\n      <th>2019-03-25 01:00:00+00:00</th>\n      <td>0</td>\n      <td>1</td>\n      <td>3</td>\n      <td>False</td>\n      <td>False</td>\n    </tr>\n    <tr>\n      <th>2019-03-25 02:00:00+00:00</th>\n      <td>0</td>\n      <td>2</td>\n      <td>3</td>\n      <td>False</td>\n      <td>False</td>\n    </tr>\n    <tr>\n      <th>2019-03-25 03:00:00+00:00</th>\n      <td>0</td>\n      <td>3</td>\n      <td>3</td>\n      <td>False</td>\n      <td>False</td>\n    </tr>\n    <tr>\n      <th>2019-03-25 04:00:00+00:00</th>\n      <td>0</td>\n      <td>4</td>\n      <td>3</td>\n      <td>False</td>\n      <td>False</td>\n    </tr>\n    <tr>\n      <th>...</th>\n      <td>...</td>\n      <td>...</td>\n      <td>...</td>\n      <td>...</td>\n      <td>...</td>\n    </tr>\n    <tr>\n      <th>2021-09-09 20:00:00+00:00</th>\n      <td>3</td>\n      <td>20</td>\n      <td>9</td>\n      <td>False</td>\n      <td>False</td>\n    </tr>\n    <tr>\n      <th>2021-09-09 21:00:00+00:00</th>\n      <td>3</td>\n      <td>21</td>\n      <td>9</td>\n      <td>False</td>\n      <td>False</td>\n    </tr>\n    <tr>\n      <th>2021-09-09 22:00:00+00:00</th>\n      <td>3</td>\n      <td>22</td>\n      <td>9</td>\n      <td>False</td>\n      <td>False</td>\n    </tr>\n    <tr>\n      <th>2021-09-09 23:00:00+00:00</th>\n      <td>3</td>\n      <td>23</td>\n      <td>9</td>\n      <td>False</td>\n      <td>False</td>\n    </tr>\n    <tr>\n      <th>2021-09-10 00:00:00+00:00</th>\n      <td>4</td>\n      <td>0</td>\n      <td>9</td>\n      <td>False</td>\n      <td>False</td>\n    </tr>\n  </tbody>\n</table>\n<p>21601 rows × 5 columns</p>\n</div>"
     },
     "execution_count": 60,
     "metadata": {},
     "output_type": "execute_result"
    }
   ],
   "source": [
    "X['is_weekend'] = X['dow'].isin([5,6])\n",
    "X"
   ],
   "metadata": {
    "collapsed": false,
    "ExecuteTime": {
     "end_time": "2024-03-14T04:38:50.625560914Z",
     "start_time": "2024-03-14T04:38:50.603747847Z"
    }
   },
   "id": "5e0ff064bd0b75ed"
  },
  {
   "cell_type": "code",
   "execution_count": 61,
   "outputs": [
    {
     "name": "stdout",
     "output_type": "stream",
     "text": [
      "Optimization terminated successfully.\n",
      "         Current function value: 0.314847\n",
      "         Iterations 8\n",
      "                           Logit Regression Results                           \n",
      "==============================================================================\n",
      "Dep. Variable:           is_available   No. Observations:                16200\n",
      "Model:                          Logit   Df Residuals:                    16198\n",
      "Method:                           MLE   Df Model:                            1\n",
      "Date:                Wed, 13 Mar 2024   Pseudo R-squ.:                 0.07294\n",
      "Time:                        22:38:51   Log-Likelihood:                -5100.5\n",
      "converged:                       True   LL-Null:                       -5501.8\n",
      "Covariance Type:            nonrobust   LLR p-value:                1.432e-176\n",
      "===================================================================================\n",
      "                      coef    std err          z      P>|z|      [0.025      0.975]\n",
      "-----------------------------------------------------------------------------------\n",
      "const               1.7860      0.026     67.542      0.000       1.734       1.838\n",
      "is_weekend_True     2.5503      0.134     19.078      0.000       2.288       2.812\n",
      "===================================================================================\n"
     ]
    }
   ],
   "source": [
    "ohe = OneHotEncoder(sparse_output=False, drop='first')\n",
    "ohe.fit(X[['is_weekend']])\n",
    "ohe.transform(X[['is_weekend']])\n",
    "X_train, X_test, y_train, y_test = train_test_split(pd.DataFrame(ohe.transform(X[['is_weekend']]), columns=ohe.get_feature_names_out(), index=X.index), y)\n",
    "log_reg = sm.Logit(y_train, sm.add_constant(X_train)).fit() \n",
    "print(log_reg.summary())"
   ],
   "metadata": {
    "collapsed": false,
    "ExecuteTime": {
     "end_time": "2024-03-14T04:38:51.060285073Z",
     "start_time": "2024-03-14T04:38:50.955904541Z"
    }
   },
   "id": "53ab756536fa8a58"
  },
  {
   "cell_type": "markdown",
   "source": [
    "$logit(p/1-p) = \\beta_0 + \\beta_1*is_weekend$"
   ],
   "metadata": {
    "collapsed": false
   },
   "id": "dc1500cad6a6d3c6"
  },
  {
   "cell_type": "code",
   "execution_count": 62,
   "outputs": [
    {
     "name": "stdout",
     "output_type": "stream",
     "text": [
      "for weekdays...\n",
      "prob of success 0.8564305364511692\n",
      "prob of failure 0.14356946354883082\n",
      "odds of success 5.965269461077844\n",
      "log odds of success 1.7859542282224279\n",
      "\n",
      "\n",
      "for weekends,\n",
      "prob of success 0.9870840630472855\n",
      "prob of failure 0.012915936952714535\n",
      "odds of success 76.42372881355932\n",
      "log odds of success 4.336293234515365\n",
      "\n",
      "\n",
      "the probaility of availability changes from 0.9870840630472855 to 0.8564305364511692, a difference of 15.256%\n"
     ]
    }
   ],
   "source": [
    "# not weekend, the log odds is 1.782\n",
    "# for the weekend, the log odds increases 2.3780, to 4.1606\n",
    "y_train[X_train.is_weekend_True==True]\n",
    "# probability of ytrain\n",
    "print('for weekdays...')\n",
    "p_success = y_train[X_train.is_weekend_True==False].mean()\n",
    "p_failure = 1- p_success\n",
    "odds = p_success/p_failure\n",
    "log_odds = np.log(odds)\n",
    "print(f'prob of success {p_success}\\nprob of failure {p_failure}\\nodds of success {odds}\\nlog odds of success {log_odds}')\n",
    "p_notweekend=p_success\n",
    "print('\\n\\nfor weekends,')\n",
    "p_success = y_train[X_train.is_weekend_True==True].mean()\n",
    "p_failure = 1- p_success\n",
    "odds = p_success/p_failure\n",
    "log_odds = np.log(odds)\n",
    "print(f'prob of success {p_success}\\nprob of failure {p_failure}\\nodds of success {odds}\\nlog odds of success {log_odds}')\n",
    "print(f'\\n\\nthe probaility of availability changes from {p_success} to {p_notweekend}, a difference of {np.round((p_success-p_notweekend)/p_notweekend*100,3)}%')"
   ],
   "metadata": {
    "collapsed": false,
    "ExecuteTime": {
     "end_time": "2024-03-14T04:38:51.999893710Z",
     "start_time": "2024-03-14T04:38:51.966490638Z"
    }
   },
   "id": "975cc8439d19e307"
  },
  {
   "cell_type": "code",
   "execution_count": 63,
   "outputs": [
    {
     "name": "stdout",
     "output_type": "stream",
     "text": [
      "probability of weekend availability 0.9870840630472855\n",
      "probability of weekday availability 0.8564305364511692\n"
     ]
    }
   ],
   "source": [
    "?log_reg\n",
    "lowt = log_reg.params.iloc[0] + log_reg.params.iloc[1]\n",
    "lowf = log_reg.params.iloc[0]\n",
    "prwt = np.exp(lowt)/(1+np.exp(lowt))\n",
    "prwf = np.exp(lowf)/(1+np.exp(lowf))\n",
    "print(f'probability of weekend availability {prwt}\\nprobability of weekday availability {prwf}')"
   ],
   "metadata": {
    "collapsed": false,
    "ExecuteTime": {
     "end_time": "2024-03-14T04:38:52.475546570Z",
     "start_time": "2024-03-14T04:38:52.443600131Z"
    }
   },
   "id": "56d7de501d3e7ef1"
  },
  {
   "cell_type": "code",
   "execution_count": 64,
   "outputs": [
    {
     "data": {
      "text/plain": "12.097514278865066"
     },
     "execution_count": 64,
     "metadata": {},
     "output_type": "execute_result"
    }
   ],
   "source": [
    "# weekend add 2.4 to the log odds of availability\n",
    "# p  exp(beta X)/ 1+ exp(beta X)\n",
    "# the weekend makes spot availability 2.4 times more likely to occur\n",
    "# the odds of is availability change by exp(2.49) time for c unit increase in x\n",
    "np.exp(2.493)"
   ],
   "metadata": {
    "collapsed": false,
    "ExecuteTime": {
     "end_time": "2024-03-14T04:38:52.846926088Z",
     "start_time": "2024-03-14T04:38:52.823064838Z"
    }
   },
   "id": "b9a334ef13ccb04a"
  },
  {
   "cell_type": "code",
   "execution_count": 65,
   "outputs": [
    {
     "name": "stdout",
     "output_type": "stream",
     "text": [
      "the change in log odds of the day being a weekend is 2.493\n",
      "that means that the change in odds is 12.097514278865066\n"
     ]
    }
   ],
   "source": [
    "print(f'the change in log odds of the day being a weekend is {2.493}')\n",
    "print(f'that means that the change in odds is {np.exp(2.493)}')"
   ],
   "metadata": {
    "collapsed": false,
    "ExecuteTime": {
     "end_time": "2024-03-14T04:38:53.307380399Z",
     "start_time": "2024-03-14T04:38:53.274578830Z"
    }
   },
   "id": "2c17aa0bfcaf2b2a"
  },
  {
   "cell_type": "code",
   "execution_count": 66,
   "outputs": [
    {
     "name": "stdout",
     "output_type": "stream",
     "text": [
      "0.854 0.986\n"
     ]
    }
   ],
   "source": [
    "is_weekend = 0\n",
    "P_non_weekend = np.exp(1.7667 + 2.4931 * is_weekend)/(1+np.exp(1.7667 + 2.4931 * is_weekend))\n",
    "is_weekend = 1\n",
    "P_weekend = np.exp(1.7667 + 2.4931 * is_weekend)/(1+np.exp(1.7667 + 2.4931 * is_weekend))\n",
    "print(np.round(P_non_weekend,3), np.round(P_weekend, 3))\n"
   ],
   "metadata": {
    "collapsed": false,
    "ExecuteTime": {
     "end_time": "2024-03-14T04:38:53.774003652Z",
     "start_time": "2024-03-14T04:38:53.715890549Z"
    }
   },
   "id": "a9b4d444c9ae77ae"
  },
  {
   "cell_type": "code",
   "execution_count": 66,
   "outputs": [],
   "source": [],
   "metadata": {
    "collapsed": false,
    "ExecuteTime": {
     "end_time": "2024-03-14T04:38:54.565759970Z",
     "start_time": "2024-03-14T04:38:54.539932462Z"
    }
   },
   "id": "6ebabfa62cad812c"
  },
  {
   "cell_type": "code",
   "execution_count": 67,
   "outputs": [
    {
     "data": {
      "text/plain": "0.9945447139365461"
     },
     "execution_count": 67,
     "metadata": {},
     "output_type": "execute_result"
    }
   ],
   "source": [
    "np.exp(5.2057)/(1+np.exp(5.2057))"
   ],
   "metadata": {
    "collapsed": false,
    "ExecuteTime": {
     "end_time": "2024-03-14T04:38:54.911040932Z",
     "start_time": "2024-03-14T04:38:54.874828998Z"
    }
   },
   "id": "dc2b361a044f347e"
  }
 ],
 "metadata": {
  "kernelspec": {
   "display_name": "Python 3",
   "language": "python",
   "name": "python3"
  },
  "language_info": {
   "codemirror_mode": {
    "name": "ipython",
    "version": 2
   },
   "file_extension": ".py",
   "mimetype": "text/x-python",
   "name": "python",
   "nbconvert_exporter": "python",
   "pygments_lexer": "ipython2",
   "version": "2.7.6"
  }
 },
 "nbformat": 4,
 "nbformat_minor": 5
}
