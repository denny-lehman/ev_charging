{
 "cells": [
  {
   "cell_type": "markdown",
   "source": [
    "# Logistic regression model\n",
    "Goal is to make a model that can predict when spot 02 will be available\n",
    "\n",
    "1st model, assume each time point is independent\n",
    "\n"
   ],
   "metadata": {
    "collapsed": false
   },
   "id": "84c030c26aee9d09"
  },
  {
   "cell_type": "markdown",
   "source": [
    "## 0 imports"
   ],
   "metadata": {
    "collapsed": false
   },
   "id": "4782fc2a5d6ccf9d"
  },
  {
   "cell_type": "code",
   "execution_count": 1,
   "outputs": [
    {
     "data": {
      "text/plain": "'/home/denny/Documents/mids/ev_charging'"
     },
     "execution_count": 1,
     "metadata": {},
     "output_type": "execute_result"
    }
   ],
   "source": [
    "\n",
    "import os\n",
    "os.chdir('..')\n",
    "os.getcwd()"
   ],
   "metadata": {
    "collapsed": false,
    "ExecuteTime": {
     "end_time": "2024-02-20T20:23:35.483657529Z",
     "start_time": "2024-02-20T20:23:33.482569503Z"
    }
   },
   "id": "22fb8e3336ae7737"
  },
  {
   "cell_type": "code",
   "execution_count": 2,
   "outputs": [],
   "source": [
    "import pandas as pd\n",
    "import numpy as np\n",
    "import matplotlib.pyplot as plt\n",
    "from src.data_preprocessing import datetime_processing, userinput_processing, holiday_processing\n",
    "\n",
    "from sklearn.model_selection import train_test_split\n",
    "from sklearn.linear_model import LogisticRegression\n",
    "from sklearn.preprocessing import OneHotEncoder\n",
    "from sklearn.pipeline import Pipeline\n",
    "\n",
    "from sklearn.metrics import confusion_matrix, ConfusionMatrixDisplay, f1_score, precision_score, recall_score, accuracy_score\n"
   ],
   "metadata": {
    "collapsed": false,
    "ExecuteTime": {
     "end_time": "2024-02-20T20:23:35.511220398Z",
     "start_time": "2024-02-20T20:23:33.488512455Z"
    }
   },
   "id": "9d3c2746d7b8a87b"
  },
  {
   "cell_type": "markdown",
   "source": [
    "## 1 Data and Cleaning"
   ],
   "metadata": {
    "collapsed": false
   },
   "id": "d561042eae32d82d"
  },
  {
   "cell_type": "code",
   "execution_count": 3,
   "outputs": [],
   "source": [
    "# load data"
   ],
   "metadata": {
    "collapsed": false,
    "ExecuteTime": {
     "end_time": "2024-02-20T20:23:35.511399444Z",
     "start_time": "2024-02-20T20:23:33.644746032Z"
    }
   },
   "id": "cae6656692aeb3a8"
  },
  {
   "cell_type": "code",
   "execution_count": 4,
   "outputs": [],
   "source": [
    "df_of = pd.read_parquet('data/ACN-API/office001/').reset_index(drop=True)\n",
    "df_of = datetime_processing(df_of)\n",
    "df_of = userinput_processing(df_of)\n",
    "df_of = holiday_processing(df_of)\n"
   ],
   "metadata": {
    "collapsed": false,
    "ExecuteTime": {
     "end_time": "2024-02-20T20:23:35.511543711Z",
     "start_time": "2024-02-20T20:23:33.686068035Z"
    }
   },
   "id": "7bc3a080bbc6076d"
  },
  {
   "cell_type": "code",
   "execution_count": 5,
   "outputs": [
    {
     "data": {
      "text/plain": "                        _id  userID  \\\n0  5cd1d47af9af8b68f0e96713    None   \n1  5cd1d47af9af8b68f0e96714    None   \n2  5cd1d47af9af8b68f0e96715    None   \n3  5cd1d47df9af8b68f0e96716    None   \n4  5cd1d47ef9af8b68f0e96717    None   \n\n                                    sessionID        stationID spaceID  \\\n0  19_102_260_1633_2019-03-25 16:24:42.408146  19-102-260-1633      02   \n1  19_102_260_1634_2019-03-25 17:19:26.896309  19-102-260-1634      03   \n2  19_102_260_1640_2019-03-25 21:27:32.338192  19-102-260-1640      08   \n3  19_102_260_1640_2019-03-26 18:33:56.204855  19-102-260-1640      08   \n4  19_102_260_1640_2019-03-27 18:28:00.642220  19-102-260-1640      08   \n\n   siteID  clusterID            connectionTime            disconnectTime  \\\n0      19        102 2019-03-25 16:24:42+00:00 2019-03-26 01:32:12+00:00   \n1      19        102 2019-03-25 17:19:27+00:00 2019-03-26 00:38:50+00:00   \n2      19        102 2019-03-25 21:27:32+00:00 2019-03-26 03:32:03+00:00   \n3      19        102 2019-03-26 18:33:56+00:00 2019-03-27 00:45:33+00:00   \n4      19        102 2019-03-27 18:28:01+00:00 2019-03-28 00:37:47+00:00   \n\n   kWhDelivered  ... doneChargingTimeDay  userID  milesRequested  WhPerMile  \\\n0         6.146  ...                25.0     NaN             NaN        NaN   \n1         3.658  ...                25.0     NaN             NaN        NaN   \n2        28.330  ...                26.0     NaN             NaN        NaN   \n3        12.978  ...                26.0     NaN             NaN        NaN   \n4        10.688  ...                27.0     NaN             NaN        NaN   \n\n   minutesAvailable  modifiedAt  paymentRequired  requestedDeparture  \\\n0               NaN        None             None                None   \n1               NaN        None             None                None   \n2               NaN        None             None                None   \n3               NaN        None             None                None   \n4               NaN        None             None                None   \n\n   kWhRequested  is_holiday  \n0           NaN       False  \n1           NaN       False  \n2           NaN       False  \n3           NaN       False  \n4           NaN       False  \n\n[5 rows x 26 columns]",
      "text/html": "<div>\n<style scoped>\n    .dataframe tbody tr th:only-of-type {\n        vertical-align: middle;\n    }\n\n    .dataframe tbody tr th {\n        vertical-align: top;\n    }\n\n    .dataframe thead th {\n        text-align: right;\n    }\n</style>\n<table border=\"1\" class=\"dataframe\">\n  <thead>\n    <tr style=\"text-align: right;\">\n      <th></th>\n      <th>_id</th>\n      <th>userID</th>\n      <th>sessionID</th>\n      <th>stationID</th>\n      <th>spaceID</th>\n      <th>siteID</th>\n      <th>clusterID</th>\n      <th>connectionTime</th>\n      <th>disconnectTime</th>\n      <th>kWhDelivered</th>\n      <th>...</th>\n      <th>doneChargingTimeDay</th>\n      <th>userID</th>\n      <th>milesRequested</th>\n      <th>WhPerMile</th>\n      <th>minutesAvailable</th>\n      <th>modifiedAt</th>\n      <th>paymentRequired</th>\n      <th>requestedDeparture</th>\n      <th>kWhRequested</th>\n      <th>is_holiday</th>\n    </tr>\n  </thead>\n  <tbody>\n    <tr>\n      <th>0</th>\n      <td>5cd1d47af9af8b68f0e96713</td>\n      <td>None</td>\n      <td>19_102_260_1633_2019-03-25 16:24:42.408146</td>\n      <td>19-102-260-1633</td>\n      <td>02</td>\n      <td>19</td>\n      <td>102</td>\n      <td>2019-03-25 16:24:42+00:00</td>\n      <td>2019-03-26 01:32:12+00:00</td>\n      <td>6.146</td>\n      <td>...</td>\n      <td>25.0</td>\n      <td>NaN</td>\n      <td>NaN</td>\n      <td>NaN</td>\n      <td>NaN</td>\n      <td>None</td>\n      <td>None</td>\n      <td>None</td>\n      <td>NaN</td>\n      <td>False</td>\n    </tr>\n    <tr>\n      <th>1</th>\n      <td>5cd1d47af9af8b68f0e96714</td>\n      <td>None</td>\n      <td>19_102_260_1634_2019-03-25 17:19:26.896309</td>\n      <td>19-102-260-1634</td>\n      <td>03</td>\n      <td>19</td>\n      <td>102</td>\n      <td>2019-03-25 17:19:27+00:00</td>\n      <td>2019-03-26 00:38:50+00:00</td>\n      <td>3.658</td>\n      <td>...</td>\n      <td>25.0</td>\n      <td>NaN</td>\n      <td>NaN</td>\n      <td>NaN</td>\n      <td>NaN</td>\n      <td>None</td>\n      <td>None</td>\n      <td>None</td>\n      <td>NaN</td>\n      <td>False</td>\n    </tr>\n    <tr>\n      <th>2</th>\n      <td>5cd1d47af9af8b68f0e96715</td>\n      <td>None</td>\n      <td>19_102_260_1640_2019-03-25 21:27:32.338192</td>\n      <td>19-102-260-1640</td>\n      <td>08</td>\n      <td>19</td>\n      <td>102</td>\n      <td>2019-03-25 21:27:32+00:00</td>\n      <td>2019-03-26 03:32:03+00:00</td>\n      <td>28.330</td>\n      <td>...</td>\n      <td>26.0</td>\n      <td>NaN</td>\n      <td>NaN</td>\n      <td>NaN</td>\n      <td>NaN</td>\n      <td>None</td>\n      <td>None</td>\n      <td>None</td>\n      <td>NaN</td>\n      <td>False</td>\n    </tr>\n    <tr>\n      <th>3</th>\n      <td>5cd1d47df9af8b68f0e96716</td>\n      <td>None</td>\n      <td>19_102_260_1640_2019-03-26 18:33:56.204855</td>\n      <td>19-102-260-1640</td>\n      <td>08</td>\n      <td>19</td>\n      <td>102</td>\n      <td>2019-03-26 18:33:56+00:00</td>\n      <td>2019-03-27 00:45:33+00:00</td>\n      <td>12.978</td>\n      <td>...</td>\n      <td>26.0</td>\n      <td>NaN</td>\n      <td>NaN</td>\n      <td>NaN</td>\n      <td>NaN</td>\n      <td>None</td>\n      <td>None</td>\n      <td>None</td>\n      <td>NaN</td>\n      <td>False</td>\n    </tr>\n    <tr>\n      <th>4</th>\n      <td>5cd1d47ef9af8b68f0e96717</td>\n      <td>None</td>\n      <td>19_102_260_1640_2019-03-27 18:28:00.642220</td>\n      <td>19-102-260-1640</td>\n      <td>08</td>\n      <td>19</td>\n      <td>102</td>\n      <td>2019-03-27 18:28:01+00:00</td>\n      <td>2019-03-28 00:37:47+00:00</td>\n      <td>10.688</td>\n      <td>...</td>\n      <td>27.0</td>\n      <td>NaN</td>\n      <td>NaN</td>\n      <td>NaN</td>\n      <td>NaN</td>\n      <td>None</td>\n      <td>None</td>\n      <td>None</td>\n      <td>NaN</td>\n      <td>False</td>\n    </tr>\n  </tbody>\n</table>\n<p>5 rows × 26 columns</p>\n</div>"
     },
     "execution_count": 5,
     "metadata": {},
     "output_type": "execute_result"
    }
   ],
   "source": [
    "df_of.head()"
   ],
   "metadata": {
    "collapsed": false,
    "ExecuteTime": {
     "end_time": "2024-02-20T20:23:35.512033842Z",
     "start_time": "2024-02-20T20:23:33.903116850Z"
    }
   },
   "id": "27c9099dc7a00dd3"
  },
  {
   "cell_type": "code",
   "execution_count": 6,
   "outputs": [
    {
     "name": "stdout",
     "output_type": "stream",
     "text": [
      "<class 'pandas.core.frame.DataFrame'>\n",
      "RangeIndex: 1681 entries, 0 to 1680\n",
      "Data columns (total 26 columns):\n",
      " #   Column                Non-Null Count  Dtype              \n",
      "---  ------                --------------  -----              \n",
      " 0   _id                   1681 non-null   object             \n",
      " 1   userID                583 non-null    object             \n",
      " 2   sessionID             1681 non-null   object             \n",
      " 3   stationID             1681 non-null   object             \n",
      " 4   spaceID               1681 non-null   object             \n",
      " 5   siteID                1681 non-null   int64              \n",
      " 6   clusterID             1681 non-null   int64              \n",
      " 7   connectionTime        1681 non-null   datetime64[ns, UTC]\n",
      " 8   disconnectTime        1681 non-null   datetime64[ns, UTC]\n",
      " 9   kWhDelivered          1681 non-null   float64            \n",
      " 10  doneChargingTime      1627 non-null   datetime64[ns, UTC]\n",
      " 11  connectionTimeHour    1681 non-null   int32              \n",
      " 12  connectionTimeDay     1681 non-null   int32              \n",
      " 13  disconnectTimeHour    1681 non-null   int32              \n",
      " 14  disconnectTimeDay     1681 non-null   int32              \n",
      " 15  doneChargingTimeHour  1627 non-null   float64            \n",
      " 16  doneChargingTimeDay   1627 non-null   float64            \n",
      " 17  userID                583 non-null    float64            \n",
      " 18  milesRequested        583 non-null    float64            \n",
      " 19  WhPerMile             583 non-null    float64            \n",
      " 20  minutesAvailable      583 non-null    float64            \n",
      " 21  modifiedAt            583 non-null    object             \n",
      " 22  paymentRequired       583 non-null    object             \n",
      " 23  requestedDeparture    583 non-null    object             \n",
      " 24  kWhRequested          583 non-null    float64            \n",
      " 25  is_holiday            1681 non-null   bool               \n",
      "dtypes: bool(1), datetime64[ns, UTC](3), float64(8), int32(4), int64(2), object(8)\n",
      "memory usage: 303.8+ KB\n"
     ]
    }
   ],
   "source": [
    "df_of.info()\n"
   ],
   "metadata": {
    "collapsed": false,
    "ExecuteTime": {
     "end_time": "2024-02-20T20:23:35.512172333Z",
     "start_time": "2024-02-20T20:23:33.919809473Z"
    }
   },
   "id": "19dd8e0aeadbccbb"
  },
  {
   "cell_type": "markdown",
   "source": [
    "## 2 plotting and eval"
   ],
   "metadata": {
    "collapsed": false
   },
   "id": "2fd1517a24cbcc89"
  },
  {
   "cell_type": "code",
   "execution_count": 7,
   "outputs": [],
   "source": [
    "def make_classification_plot(cm):\n",
    "    disp = ConfusionMatrixDisplay(cm)\n",
    "    disp = disp.plot(include_values=True, cmap='viridis', ax=None, xticks_rotation='horizontal')\n",
    "    plt.grid(False)\n",
    "    plt.show()"
   ],
   "metadata": {
    "collapsed": false,
    "ExecuteTime": {
     "end_time": "2024-02-20T20:23:35.512217170Z",
     "start_time": "2024-02-20T20:23:33.931224340Z"
    }
   },
   "id": "23577dbf759a1c93"
  },
  {
   "cell_type": "code",
   "execution_count": 8,
   "outputs": [],
   "source": [
    "def get_results(y_test, prediction):\n",
    "    cm = confusion_matrix(y_test,prediction)\n",
    "    make_classification_plot(cm)\n",
    "    \n",
    "    results = {'tpr': cm[1, 1]/np.sum(cm[1]),\n",
    "               'fpr': cm[0,1]/np.sum(cm[0]),\n",
    "               'accuracy': accuracy_score(y_test, prediction),\n",
    "               'precision': precision_score(y_test, prediction),\n",
    "               'recall': recall_score(y_test, prediction),\n",
    "        'f1':f1_score(y_test,prediction)}\n",
    "    return results\n",
    "    "
   ],
   "metadata": {
    "collapsed": false,
    "ExecuteTime": {
     "end_time": "2024-02-20T20:23:35.512254924Z",
     "start_time": "2024-02-20T20:23:33.934098273Z"
    }
   },
   "id": "4c9ba2ce14ee28a7"
  },
  {
   "cell_type": "code",
   "execution_count": 9,
   "outputs": [],
   "source": [
    "results = {}"
   ],
   "metadata": {
    "collapsed": false,
    "ExecuteTime": {
     "end_time": "2024-02-20T20:23:35.512297464Z",
     "start_time": "2024-02-20T20:23:33.978115130Z"
    }
   },
   "id": "b84972c27f9c0d21"
  },
  {
   "cell_type": "markdown",
   "source": [
    "# 3 Make X and y values"
   ],
   "metadata": {
    "collapsed": false
   },
   "id": "212245d109773fb7"
  },
  {
   "cell_type": "code",
   "execution_count": 10,
   "outputs": [],
   "source": [
    "tmp = df_of.copy().set_index('connectionTime')\n",
    "tmp = tmp[tmp['spaceID'] == '02'].sort_index()"
   ],
   "metadata": {
    "collapsed": false,
    "ExecuteTime": {
     "end_time": "2024-02-20T20:23:35.512336644Z",
     "start_time": "2024-02-20T20:23:33.978308306Z"
    }
   },
   "id": "a4dacd35e4747513"
  },
  {
   "cell_type": "code",
   "execution_count": 118,
   "outputs": [],
   "source": [
    "# TODO: make better variable names ie start_ -> session_start_time\n",
    "y = pd.DataFrame(index=pd.date_range('2019-03-25','2021-09-12', inclusive='both', freq='h', tz=0),columns=['is_available','sessionID'])\n",
    "y['is_available'] = 1\n",
    "for i in range(len(tmp)):\n",
    "    start_ = tmp.index[i]\n",
    "    end_ = tmp.loc[start_,'disconnectTime'] \n",
    "    session_ = tmp.loc[start_,'sessionID']\n",
    "    # print(start_,'\\t', end_,'\\t', session_)\n",
    "    y.loc[start_:end_,['is_available','sessionID']] = 0, session_"
   ],
   "metadata": {
    "collapsed": false,
    "ExecuteTime": {
     "end_time": "2024-02-20T22:34:38.612903609Z",
     "start_time": "2024-02-20T22:34:38.440415711Z"
    }
   },
   "id": "2bd44672916d0ee3"
  },
  {
   "cell_type": "code",
   "execution_count": 119,
   "outputs": [],
   "source": [
    "y = y['is_available']"
   ],
   "metadata": {
    "collapsed": false,
    "ExecuteTime": {
     "end_time": "2024-02-20T22:34:38.763130812Z",
     "start_time": "2024-02-20T22:34:38.709668728Z"
    }
   },
   "id": "2170f2c724d45de9"
  },
  {
   "cell_type": "code",
   "execution_count": 120,
   "outputs": [
    {
     "data": {
      "text/plain": "                           dow  hour  month  is_holiday\n2019-03-25 00:00:00+00:00    0     0      3       False\n2019-03-25 01:00:00+00:00    0     1      3       False\n2019-03-25 02:00:00+00:00    0     2      3       False\n2019-03-25 03:00:00+00:00    0     3      3       False\n2019-03-25 04:00:00+00:00    0     4      3       False",
      "text/html": "<div>\n<style scoped>\n    .dataframe tbody tr th:only-of-type {\n        vertical-align: middle;\n    }\n\n    .dataframe tbody tr th {\n        vertical-align: top;\n    }\n\n    .dataframe thead th {\n        text-align: right;\n    }\n</style>\n<table border=\"1\" class=\"dataframe\">\n  <thead>\n    <tr style=\"text-align: right;\">\n      <th></th>\n      <th>dow</th>\n      <th>hour</th>\n      <th>month</th>\n      <th>is_holiday</th>\n    </tr>\n  </thead>\n  <tbody>\n    <tr>\n      <th>2019-03-25 00:00:00+00:00</th>\n      <td>0</td>\n      <td>0</td>\n      <td>3</td>\n      <td>False</td>\n    </tr>\n    <tr>\n      <th>2019-03-25 01:00:00+00:00</th>\n      <td>0</td>\n      <td>1</td>\n      <td>3</td>\n      <td>False</td>\n    </tr>\n    <tr>\n      <th>2019-03-25 02:00:00+00:00</th>\n      <td>0</td>\n      <td>2</td>\n      <td>3</td>\n      <td>False</td>\n    </tr>\n    <tr>\n      <th>2019-03-25 03:00:00+00:00</th>\n      <td>0</td>\n      <td>3</td>\n      <td>3</td>\n      <td>False</td>\n    </tr>\n    <tr>\n      <th>2019-03-25 04:00:00+00:00</th>\n      <td>0</td>\n      <td>4</td>\n      <td>3</td>\n      <td>False</td>\n    </tr>\n  </tbody>\n</table>\n</div>"
     },
     "execution_count": 120,
     "metadata": {},
     "output_type": "execute_result"
    }
   ],
   "source": [
    "X = pd.DataFrame(index=pd.date_range('2019-03-25','2021-09-12', inclusive='both', freq='h', tz=0),columns=['dow','hour','month'])\n",
    "# X['dow'] = X.index.dt.hour\n",
    "X['dow'] = X.index.dayofweek\n",
    "X['hour'] = X.index.hour\n",
    "X['month'] = X.index.month\n",
    "X['connectionTime'] = X.index\n",
    "X = holiday_processing(X).drop(columns=['connectionTime'])\n",
    "X.head()"
   ],
   "metadata": {
    "collapsed": false,
    "ExecuteTime": {
     "end_time": "2024-02-20T22:34:39.272636420Z",
     "start_time": "2024-02-20T22:34:39.228367376Z"
    }
   },
   "id": "460da19ef084d6c1"
  },
  {
   "cell_type": "code",
   "execution_count": 121,
   "outputs": [
    {
     "name": "stdout",
     "output_type": "stream",
     "text": [
      "charger spot #2 is available 89.297% of the time\n"
     ]
    }
   ],
   "source": [
    "# print(f'charger spot #2 is available {np.round(y.is_available.mean()*100,3)}% of the time')\n",
    "print(f'charger spot #2 is available {np.round(y.mean()*100,3)}% of the time')"
   ],
   "metadata": {
    "collapsed": false,
    "ExecuteTime": {
     "end_time": "2024-02-20T22:34:41.834774906Z",
     "start_time": "2024-02-20T22:34:41.810849972Z"
    }
   },
   "id": "57aa459620800b43"
  },
  {
   "cell_type": "code",
   "execution_count": 122,
   "outputs": [
    {
     "data": {
      "text/plain": "True"
     },
     "execution_count": 122,
     "metadata": {},
     "output_type": "execute_result"
    }
   ],
   "source": [
    "X.shape[0] == y.shape[0]"
   ],
   "metadata": {
    "collapsed": false,
    "ExecuteTime": {
     "end_time": "2024-02-20T22:34:42.092103580Z",
     "start_time": "2024-02-20T22:34:42.042209069Z"
    }
   },
   "id": "1df7bca93d99eee8"
  },
  {
   "cell_type": "markdown",
   "source": [
    "# 4 model time"
   ],
   "metadata": {
    "collapsed": false
   },
   "id": "d2eafe29d26fa2d6"
  },
  {
   "cell_type": "markdown",
   "source": [
    "## using a stratified train test split as often as possible\n",
    "https://www.investopedia.com/terms/stratified_random_sampling.asp"
   ],
   "metadata": {
    "collapsed": false
   },
   "id": "22d5c3ab78571759"
  },
  {
   "cell_type": "code",
   "execution_count": 123,
   "outputs": [
    {
     "name": "stdout",
     "output_type": "stream",
     "text": [
      "the training data has an average availability of 89.295%\n"
     ]
    }
   ],
   "source": [
    "# Create hold out test set\n",
    "X_train, X_test, y_train, y_test = train_test_split(X, y, test_size = .2, stratify=y)\n",
    "print(f'the training data has an average availability of {np.round(y_train.mean()*100,3)}%')\n"
   ],
   "metadata": {
    "collapsed": false,
    "ExecuteTime": {
     "end_time": "2024-02-20T22:34:43.126990435Z",
     "start_time": "2024-02-20T22:34:43.091661059Z"
    }
   },
   "id": "d6dac9150ac9056"
  },
  {
   "cell_type": "markdown",
   "source": [
    "## 4.1 Baselines"
   ],
   "metadata": {
    "collapsed": false
   },
   "id": "82a31e1197bd54b3"
  },
  {
   "cell_type": "markdown",
   "source": [
    "### 4.10 Guess always available (baseline)"
   ],
   "metadata": {
    "collapsed": false
   },
   "id": "6637e190339687b8"
  },
  {
   "cell_type": "code",
   "execution_count": 67,
   "outputs": [
    {
     "name": "stdout",
     "output_type": "stream",
     "text": [
      "guess always available and never available\n"
     ]
    },
    {
     "data": {
      "text/plain": "<Figure size 640x480 with 2 Axes>",
      "image/png": "[encoded data removed]"
     },
     "metadata": {},
     "output_type": "display_data"
    }
   ],
   "source": [
    "print('guess always available and never available')\n",
    "results['always_available'] = get_results(y_test, [1] * len(y_test))\n"
   ],
   "metadata": {
    "collapsed": false,
    "ExecuteTime": {
     "end_time": "2024-02-20T20:24:49.643945478Z",
     "start_time": "2024-02-20T20:24:49.528997010Z"
    }
   },
   "id": "c99ea90ad33c5a70"
  },
  {
   "cell_type": "markdown",
   "source": [
    "### 4.11 Guess never available (baseline)"
   ],
   "metadata": {
    "collapsed": false
   },
   "id": "8080feefa3068d9b"
  },
  {
   "cell_type": "code",
   "execution_count": 21,
   "outputs": [
    {
     "data": {
      "text/plain": "<Figure size 640x480 with 2 Axes>",
      "image/png": "[encoded data removed]"
     },
     "metadata": {},
     "output_type": "display_data"
    },
    {
     "name": "stderr",
     "output_type": "stream",
     "text": [
      "/home/denny/anaconda3/envs/ev/lib/python3.11/site-packages/sklearn/metrics/_classification.py:1509: UndefinedMetricWarning: Precision is ill-defined and being set to 0.0 due to no predicted samples. Use `zero_division` parameter to control this behavior.\n",
      "  _warn_prf(average, modifier, f\"{metric.capitalize()} is\", len(result))\n"
     ]
    }
   ],
   "source": [
    "print('guess never available') \n",
    "results['never_available'] = get_results(y_test, [0] * len(y_test))"
   ],
   "metadata": {
    "collapsed": false,
    "ExecuteTime": {
     "end_time": "2024-02-20T20:23:36.166855530Z",
     "start_time": "2024-02-20T20:23:36.054365418Z"
    }
   },
   "id": "f42bacd27a8ad7ad"
  },
  {
   "cell_type": "markdown",
   "source": [
    "## 4.2 Sklearn logistic regression models"
   ],
   "metadata": {
    "collapsed": false
   },
   "id": "693ddf8bdb5eb790"
  },
  {
   "cell_type": "markdown",
   "source": [
    "## 4.21 L2 penalty"
   ],
   "metadata": {
    "collapsed": false
   },
   "id": "8428123169eb95cc"
  },
  {
   "cell_type": "code",
   "execution_count": 151,
   "outputs": [
    {
     "name": "stdout",
     "output_type": "stream",
     "text": [
      "The average accuracy is 0.893 ± 0.000\n",
      "test accuracy is 0.892147806004619\n"
     ]
    },
    {
     "data": {
      "text/plain": "<Figure size 640x480 with 2 Axes>",
      "image/png": "[encoded data removed]"
     },
     "metadata": {},
     "output_type": "display_data"
    }
   ],
   "source": [
    "from sklearn.model_selection import StratifiedKFold, KFold\n",
    "from sklearn.model_selection import cross_validate\n",
    "from sklearn.model_selection import train_test_split\n",
    "from sklearn.linear_model import LogisticRegression\n",
    "from sklearn.preprocessing import OneHotEncoder\n",
    "from sklearn.pipeline import Pipeline\n",
    "\n",
    "\n",
    "model = LogisticRegression(penalty='l2')\n",
    "pipe = Pipeline([\n",
    "    ('ohe', OneHotEncoder(sparse_output=False, handle_unknown='ignore', drop='first')),\n",
    "    ('lr', model),\n",
    "])\n",
    "\n",
    "skf = StratifiedKFold(n_splits=3)\n",
    "cv_results = cross_validate(pipe, X_train, y_train, cv=skf)\n",
    "test_score = cv_results[\"test_score\"]\n",
    "print(\n",
    "    f\"The average accuracy is {test_score.mean():.3f} ± {test_score.std():.3f}\"\n",
    ")\n",
    "pipe.fit(X_train, y_train)\n",
    "pred = pipe.predict(X_test)\n",
    "print(f'test accuracy is {pipe.score(X_test, y_test)}')\n",
    "\n",
    "results['sk_log_l2_skf'] = get_results(y_test, pred)\n"
   ],
   "metadata": {
    "collapsed": false,
    "ExecuteTime": {
     "end_time": "2024-02-20T22:43:30.285721879Z",
     "start_time": "2024-02-20T22:43:30.033459046Z"
    }
   },
   "id": "ea52e8a17bcd4141"
  },
  {
   "cell_type": "code",
   "execution_count": 152,
   "outputs": [
    {
     "data": {
      "text/plain": "array([0.89312316, 0.89225706, 0.8926035 ])"
     },
     "execution_count": 152,
     "metadata": {},
     "output_type": "execute_result"
    }
   ],
   "source": [
    "from sklearn.model_selection import cross_val_score\n",
    "cross_val_score(pipe, X_train, y_train, cv=skf)"
   ],
   "metadata": {
    "collapsed": false,
    "ExecuteTime": {
     "end_time": "2024-02-20T22:43:30.963749082Z",
     "start_time": "2024-02-20T22:43:30.834267223Z"
    }
   },
   "id": "7b72c2262fd1bcae"
  },
  {
   "cell_type": "code",
   "execution_count": 153,
   "outputs": [],
   "source": [
    "# standard error for "
   ],
   "metadata": {
    "collapsed": false,
    "ExecuteTime": {
     "end_time": "2024-02-20T22:43:32.034869664Z",
     "start_time": "2024-02-20T22:43:32.004093035Z"
    }
   },
   "id": "531cddcaf5fb74f9"
  },
  {
   "cell_type": "code",
   "execution_count": 197,
   "outputs": [
    {
     "name": "stdout",
     "output_type": "stream",
     "text": [
      "X shape : 17319 41\n",
      "[ 0.77091223 -0.02626377 -0.03252715 -0.04353771 -0.0400518   0.08978958\n",
      "  0.11574732  0.06400798  0.10542119  0.16865039  0.1822024   0.18857691\n",
      "  0.18933088  0.1913663   0.19060434  0.18958701  0.18845189  0.19087266\n",
      "  0.18880923  0.19030539  0.18960058  0.1310084   0.02612451 -0.07993205\n",
      " -0.08351877 -0.07885957 -0.07150381 -0.08554768 -0.06628984 -0.04441961\n",
      "  0.01537249 -0.01056361  0.03380858  0.05004191  0.04196484  0.0353471\n",
      "  0.03441016  0.02544022  0.01119876  0.03199691  0.03491432]\n"
     ]
    },
    {
     "data": {
      "text/plain": "   coefficient  estimation  standard_error\n0    intercept    1.415216        0.770912\n1        dow_1   -0.299681       -0.026264\n2        dow_2   -0.368269       -0.032527\n3        dow_3   -0.474602       -0.043538\n4        dow_4   -0.432020       -0.040052\n5        dow_5    1.666958        0.089790\n6        dow_6    4.647834        0.115747\n7       hour_1    0.162144        0.064008\n8       hour_2    0.626664        0.105421\n9       hour_3    1.993085        0.168650\n10      hour_4    2.517483        0.182202\n11      hour_5    2.907091        0.188577\n12      hour_6    3.056941        0.189331\n13      hour_7    3.227998        0.191366\n14      hour_8    3.060047        0.190604\n15      hour_9    3.058833        0.189587\n16     hour_10    3.173558        0.188452\n17     hour_11    3.404834        0.190873\n18     hour_12    3.046113        0.188809\n19     hour_13    3.399820        0.190305\n20     hour_14    3.201227        0.189601\n21     hour_15    0.986683        0.131008\n22     hour_16   -0.155648        0.026125\n23     hour_17   -0.851969       -0.079932\n24     hour_18   -0.874183       -0.083519\n25     hour_19   -0.843744       -0.078860\n26     hour_20   -0.805337       -0.071504\n27     hour_21   -0.872762       -0.085548\n28     hour_22   -0.753422       -0.066290\n29     hour_23   -0.640371       -0.044420\n30     month_2    0.137449        0.015372\n31     month_3   -0.148848       -0.010564\n32     month_4    0.381780        0.033809\n33     month_5    0.639495        0.050042\n34     month_6    0.501193        0.041965\n35     month_7    0.406501        0.035347\n36     month_8    0.398809        0.034410\n37     month_9    0.266328        0.025440\n38    month_10    0.119037        0.011199\n39    month_11    0.367227        0.031997\n40    month_12    0.391641        0.034914",
      "text/html": "<div>\n<style scoped>\n    .dataframe tbody tr th:only-of-type {\n        vertical-align: middle;\n    }\n\n    .dataframe tbody tr th {\n        vertical-align: top;\n    }\n\n    .dataframe thead th {\n        text-align: right;\n    }\n</style>\n<table border=\"1\" class=\"dataframe\">\n  <thead>\n    <tr style=\"text-align: right;\">\n      <th></th>\n      <th>coefficient</th>\n      <th>estimation</th>\n      <th>standard_error</th>\n    </tr>\n  </thead>\n  <tbody>\n    <tr>\n      <th>0</th>\n      <td>intercept</td>\n      <td>1.415216</td>\n      <td>0.770912</td>\n    </tr>\n    <tr>\n      <th>1</th>\n      <td>dow_1</td>\n      <td>-0.299681</td>\n      <td>-0.026264</td>\n    </tr>\n    <tr>\n      <th>2</th>\n      <td>dow_2</td>\n      <td>-0.368269</td>\n      <td>-0.032527</td>\n    </tr>\n    <tr>\n      <th>3</th>\n      <td>dow_3</td>\n      <td>-0.474602</td>\n      <td>-0.043538</td>\n    </tr>\n    <tr>\n      <th>4</th>\n      <td>dow_4</td>\n      <td>-0.432020</td>\n      <td>-0.040052</td>\n    </tr>\n    <tr>\n      <th>5</th>\n      <td>dow_5</td>\n      <td>1.666958</td>\n      <td>0.089790</td>\n    </tr>\n    <tr>\n      <th>6</th>\n      <td>dow_6</td>\n      <td>4.647834</td>\n      <td>0.115747</td>\n    </tr>\n    <tr>\n      <th>7</th>\n      <td>hour_1</td>\n      <td>0.162144</td>\n      <td>0.064008</td>\n    </tr>\n    <tr>\n      <th>8</th>\n      <td>hour_2</td>\n      <td>0.626664</td>\n      <td>0.105421</td>\n    </tr>\n    <tr>\n      <th>9</th>\n      <td>hour_3</td>\n      <td>1.993085</td>\n      <td>0.168650</td>\n    </tr>\n    <tr>\n      <th>10</th>\n      <td>hour_4</td>\n      <td>2.517483</td>\n      <td>0.182202</td>\n    </tr>\n    <tr>\n      <th>11</th>\n      <td>hour_5</td>\n      <td>2.907091</td>\n      <td>0.188577</td>\n    </tr>\n    <tr>\n      <th>12</th>\n      <td>hour_6</td>\n      <td>3.056941</td>\n      <td>0.189331</td>\n    </tr>\n    <tr>\n      <th>13</th>\n      <td>hour_7</td>\n      <td>3.227998</td>\n      <td>0.191366</td>\n    </tr>\n    <tr>\n      <th>14</th>\n      <td>hour_8</td>\n      <td>3.060047</td>\n      <td>0.190604</td>\n    </tr>\n    <tr>\n      <th>15</th>\n      <td>hour_9</td>\n      <td>3.058833</td>\n      <td>0.189587</td>\n    </tr>\n    <tr>\n      <th>16</th>\n      <td>hour_10</td>\n      <td>3.173558</td>\n      <td>0.188452</td>\n    </tr>\n    <tr>\n      <th>17</th>\n      <td>hour_11</td>\n      <td>3.404834</td>\n      <td>0.190873</td>\n    </tr>\n    <tr>\n      <th>18</th>\n      <td>hour_12</td>\n      <td>3.046113</td>\n      <td>0.188809</td>\n    </tr>\n    <tr>\n      <th>19</th>\n      <td>hour_13</td>\n      <td>3.399820</td>\n      <td>0.190305</td>\n    </tr>\n    <tr>\n      <th>20</th>\n      <td>hour_14</td>\n      <td>3.201227</td>\n      <td>0.189601</td>\n    </tr>\n    <tr>\n      <th>21</th>\n      <td>hour_15</td>\n      <td>0.986683</td>\n      <td>0.131008</td>\n    </tr>\n    <tr>\n      <th>22</th>\n      <td>hour_16</td>\n      <td>-0.155648</td>\n      <td>0.026125</td>\n    </tr>\n    <tr>\n      <th>23</th>\n      <td>hour_17</td>\n      <td>-0.851969</td>\n      <td>-0.079932</td>\n    </tr>\n    <tr>\n      <th>24</th>\n      <td>hour_18</td>\n      <td>-0.874183</td>\n      <td>-0.083519</td>\n    </tr>\n    <tr>\n      <th>25</th>\n      <td>hour_19</td>\n      <td>-0.843744</td>\n      <td>-0.078860</td>\n    </tr>\n    <tr>\n      <th>26</th>\n      <td>hour_20</td>\n      <td>-0.805337</td>\n      <td>-0.071504</td>\n    </tr>\n    <tr>\n      <th>27</th>\n      <td>hour_21</td>\n      <td>-0.872762</td>\n      <td>-0.085548</td>\n    </tr>\n    <tr>\n      <th>28</th>\n      <td>hour_22</td>\n      <td>-0.753422</td>\n      <td>-0.066290</td>\n    </tr>\n    <tr>\n      <th>29</th>\n      <td>hour_23</td>\n      <td>-0.640371</td>\n      <td>-0.044420</td>\n    </tr>\n    <tr>\n      <th>30</th>\n      <td>month_2</td>\n      <td>0.137449</td>\n      <td>0.015372</td>\n    </tr>\n    <tr>\n      <th>31</th>\n      <td>month_3</td>\n      <td>-0.148848</td>\n      <td>-0.010564</td>\n    </tr>\n    <tr>\n      <th>32</th>\n      <td>month_4</td>\n      <td>0.381780</td>\n      <td>0.033809</td>\n    </tr>\n    <tr>\n      <th>33</th>\n      <td>month_5</td>\n      <td>0.639495</td>\n      <td>0.050042</td>\n    </tr>\n    <tr>\n      <th>34</th>\n      <td>month_6</td>\n      <td>0.501193</td>\n      <td>0.041965</td>\n    </tr>\n    <tr>\n      <th>35</th>\n      <td>month_7</td>\n      <td>0.406501</td>\n      <td>0.035347</td>\n    </tr>\n    <tr>\n      <th>36</th>\n      <td>month_8</td>\n      <td>0.398809</td>\n      <td>0.034410</td>\n    </tr>\n    <tr>\n      <th>37</th>\n      <td>month_9</td>\n      <td>0.266328</td>\n      <td>0.025440</td>\n    </tr>\n    <tr>\n      <th>38</th>\n      <td>month_10</td>\n      <td>0.119037</td>\n      <td>0.011199</td>\n    </tr>\n    <tr>\n      <th>39</th>\n      <td>month_11</td>\n      <td>0.367227</td>\n      <td>0.031997</td>\n    </tr>\n    <tr>\n      <th>40</th>\n      <td>month_12</td>\n      <td>0.391641</td>\n      <td>0.034914</td>\n    </tr>\n  </tbody>\n</table>\n</div>"
     },
     "execution_count": 197,
     "metadata": {},
     "output_type": "execute_result"
    }
   ],
   "source": [
    "# https://stackoverflow.com/questions/22381497/python-scikit-learn-linear-model-parameter-standard-error\n",
    "N = len(X_train)\n",
    "p = len(pipe[0].get_feature_names_out()) + 1  # plus one because LinearRegression adds an intercept term\n",
    "print('X shape :', N,p)\n",
    "X_with_intercept = np.empty(shape=(N, p), dtype='float')\n",
    "X_with_intercept[:, 0] = 1\n",
    "X_with_intercept[:, 1:p] = pipe[0].transform(X_train)# ohe.transform(X_train)\n",
    "beta_hat = np.linalg.inv(X_with_intercept.T @ X_with_intercept) @ X_with_intercept.T @ y_train.values\n",
    "coefs_intercept = np.concatenate((pipe[1].intercept_, pipe[1].coef_.reshape(-1)))\n",
    "col_names = ['intercept'] + list(pipe[:-1].get_feature_names_out())\n",
    "pd.DataFrame(data=np.concatenate([[coefs_intercept], [beta_hat]]),\n",
    "             columns=['intercept'] + list(pipe[:-1].get_feature_names_out())).T.reset_index().rename(columns={0:'estimation',1:'standard_error','index':'coefficient'})"
   ],
   "metadata": {
    "collapsed": false,
    "ExecuteTime": {
     "end_time": "2024-02-20T22:58:08.856290581Z",
     "start_time": "2024-02-20T22:58:08.745508235Z"
    }
   },
   "id": "800cf48a0a2461c0"
  },
  {
   "cell_type": "code",
   "execution_count": 157,
   "outputs": [
    {
     "name": "stdout",
     "output_type": "stream",
     "text": [
      "[ 0.77091223 -0.02626377 -0.03252715 -0.04353771 -0.0400518   0.08978958\n",
      "  0.11574732  0.06400798  0.10542119  0.16865039  0.1822024   0.18857691\n",
      "  0.18933088  0.1913663   0.19060434  0.18958701  0.18845189  0.19087266\n",
      "  0.18880923  0.19030539  0.18960058  0.1310084   0.02612451 -0.07993205\n",
      " -0.08351877 -0.07885957 -0.07150381 -0.08554768 -0.06628984 -0.04441961\n",
      "  0.01537249 -0.01056361  0.03380858  0.05004191  0.04196484  0.0353471\n",
      "  0.03441016  0.02544022  0.01119876  0.03199691  0.03491432]\n"
     ]
    }
   ],
   "source": [
    "# https://stackoverflow.com/questions/22381497/python-scikit-learn-linear-model-parameter-standard-error\n",
    "X_with_intercept = np.empty(shape=(N, p), dtype='float')\n",
    "X_with_intercept[:, 0] = 1\n",
    "X_with_intercept[:, 1:p] = pipe[0].transform(X_train)# ohe.transform(X_train)\n",
    "X_with_intercept\n",
    "beta_hat = np.linalg.inv(X_with_intercept.T @ X_with_intercept) @ X_with_intercept.T @ y_train.values\n",
    "print(beta_hat)"
   ],
   "metadata": {
    "collapsed": false,
    "ExecuteTime": {
     "end_time": "2024-02-20T22:44:23.749160306Z",
     "start_time": "2024-02-20T22:44:23.690323942Z"
    }
   },
   "id": "c51ba7d6b8133f0e"
  },
  {
   "cell_type": "code",
   "execution_count": 193,
   "outputs": [
    {
     "data": {
      "text/plain": "   coefficient  estimation  standard_error\n0    intercept    1.415216        0.770912\n1        dow_1   -0.299681       -0.026264\n2        dow_2   -0.368269       -0.032527\n3        dow_3   -0.474602       -0.043538\n4        dow_4   -0.432020       -0.040052\n5        dow_5    1.666958        0.089790\n6        dow_6    4.647834        0.115747\n7       hour_1    0.162144        0.064008\n8       hour_2    0.626664        0.105421\n9       hour_3    1.993085        0.168650\n10      hour_4    2.517483        0.182202\n11      hour_5    2.907091        0.188577\n12      hour_6    3.056941        0.189331\n13      hour_7    3.227998        0.191366\n14      hour_8    3.060047        0.190604\n15      hour_9    3.058833        0.189587\n16     hour_10    3.173558        0.188452\n17     hour_11    3.404834        0.190873\n18     hour_12    3.046113        0.188809\n19     hour_13    3.399820        0.190305\n20     hour_14    3.201227        0.189601\n21     hour_15    0.986683        0.131008\n22     hour_16   -0.155648        0.026125\n23     hour_17   -0.851969       -0.079932\n24     hour_18   -0.874183       -0.083519\n25     hour_19   -0.843744       -0.078860\n26     hour_20   -0.805337       -0.071504\n27     hour_21   -0.872762       -0.085548\n28     hour_22   -0.753422       -0.066290\n29     hour_23   -0.640371       -0.044420\n30     month_2    0.137449        0.015372\n31     month_3   -0.148848       -0.010564\n32     month_4    0.381780        0.033809\n33     month_5    0.639495        0.050042\n34     month_6    0.501193        0.041965\n35     month_7    0.406501        0.035347\n36     month_8    0.398809        0.034410\n37     month_9    0.266328        0.025440\n38    month_10    0.119037        0.011199\n39    month_11    0.367227        0.031997\n40    month_12    0.391641        0.034914",
      "text/html": "<div>\n<style scoped>\n    .dataframe tbody tr th:only-of-type {\n        vertical-align: middle;\n    }\n\n    .dataframe tbody tr th {\n        vertical-align: top;\n    }\n\n    .dataframe thead th {\n        text-align: right;\n    }\n</style>\n<table border=\"1\" class=\"dataframe\">\n  <thead>\n    <tr style=\"text-align: right;\">\n      <th></th>\n      <th>coefficient</th>\n      <th>estimation</th>\n      <th>standard_error</th>\n    </tr>\n  </thead>\n  <tbody>\n    <tr>\n      <th>0</th>\n      <td>intercept</td>\n      <td>1.415216</td>\n      <td>0.770912</td>\n    </tr>\n    <tr>\n      <th>1</th>\n      <td>dow_1</td>\n      <td>-0.299681</td>\n      <td>-0.026264</td>\n    </tr>\n    <tr>\n      <th>2</th>\n      <td>dow_2</td>\n      <td>-0.368269</td>\n      <td>-0.032527</td>\n    </tr>\n    <tr>\n      <th>3</th>\n      <td>dow_3</td>\n      <td>-0.474602</td>\n      <td>-0.043538</td>\n    </tr>\n    <tr>\n      <th>4</th>\n      <td>dow_4</td>\n      <td>-0.432020</td>\n      <td>-0.040052</td>\n    </tr>\n    <tr>\n      <th>5</th>\n      <td>dow_5</td>\n      <td>1.666958</td>\n      <td>0.089790</td>\n    </tr>\n    <tr>\n      <th>6</th>\n      <td>dow_6</td>\n      <td>4.647834</td>\n      <td>0.115747</td>\n    </tr>\n    <tr>\n      <th>7</th>\n      <td>hour_1</td>\n      <td>0.162144</td>\n      <td>0.064008</td>\n    </tr>\n    <tr>\n      <th>8</th>\n      <td>hour_2</td>\n      <td>0.626664</td>\n      <td>0.105421</td>\n    </tr>\n    <tr>\n      <th>9</th>\n      <td>hour_3</td>\n      <td>1.993085</td>\n      <td>0.168650</td>\n    </tr>\n    <tr>\n      <th>10</th>\n      <td>hour_4</td>\n      <td>2.517483</td>\n      <td>0.182202</td>\n    </tr>\n    <tr>\n      <th>11</th>\n      <td>hour_5</td>\n      <td>2.907091</td>\n      <td>0.188577</td>\n    </tr>\n    <tr>\n      <th>12</th>\n      <td>hour_6</td>\n      <td>3.056941</td>\n      <td>0.189331</td>\n    </tr>\n    <tr>\n      <th>13</th>\n      <td>hour_7</td>\n      <td>3.227998</td>\n      <td>0.191366</td>\n    </tr>\n    <tr>\n      <th>14</th>\n      <td>hour_8</td>\n      <td>3.060047</td>\n      <td>0.190604</td>\n    </tr>\n    <tr>\n      <th>15</th>\n      <td>hour_9</td>\n      <td>3.058833</td>\n      <td>0.189587</td>\n    </tr>\n    <tr>\n      <th>16</th>\n      <td>hour_10</td>\n      <td>3.173558</td>\n      <td>0.188452</td>\n    </tr>\n    <tr>\n      <th>17</th>\n      <td>hour_11</td>\n      <td>3.404834</td>\n      <td>0.190873</td>\n    </tr>\n    <tr>\n      <th>18</th>\n      <td>hour_12</td>\n      <td>3.046113</td>\n      <td>0.188809</td>\n    </tr>\n    <tr>\n      <th>19</th>\n      <td>hour_13</td>\n      <td>3.399820</td>\n      <td>0.190305</td>\n    </tr>\n    <tr>\n      <th>20</th>\n      <td>hour_14</td>\n      <td>3.201227</td>\n      <td>0.189601</td>\n    </tr>\n    <tr>\n      <th>21</th>\n      <td>hour_15</td>\n      <td>0.986683</td>\n      <td>0.131008</td>\n    </tr>\n    <tr>\n      <th>22</th>\n      <td>hour_16</td>\n      <td>-0.155648</td>\n      <td>0.026125</td>\n    </tr>\n    <tr>\n      <th>23</th>\n      <td>hour_17</td>\n      <td>-0.851969</td>\n      <td>-0.079932</td>\n    </tr>\n    <tr>\n      <th>24</th>\n      <td>hour_18</td>\n      <td>-0.874183</td>\n      <td>-0.083519</td>\n    </tr>\n    <tr>\n      <th>25</th>\n      <td>hour_19</td>\n      <td>-0.843744</td>\n      <td>-0.078860</td>\n    </tr>\n    <tr>\n      <th>26</th>\n      <td>hour_20</td>\n      <td>-0.805337</td>\n      <td>-0.071504</td>\n    </tr>\n    <tr>\n      <th>27</th>\n      <td>hour_21</td>\n      <td>-0.872762</td>\n      <td>-0.085548</td>\n    </tr>\n    <tr>\n      <th>28</th>\n      <td>hour_22</td>\n      <td>-0.753422</td>\n      <td>-0.066290</td>\n    </tr>\n    <tr>\n      <th>29</th>\n      <td>hour_23</td>\n      <td>-0.640371</td>\n      <td>-0.044420</td>\n    </tr>\n    <tr>\n      <th>30</th>\n      <td>month_2</td>\n      <td>0.137449</td>\n      <td>0.015372</td>\n    </tr>\n    <tr>\n      <th>31</th>\n      <td>month_3</td>\n      <td>-0.148848</td>\n      <td>-0.010564</td>\n    </tr>\n    <tr>\n      <th>32</th>\n      <td>month_4</td>\n      <td>0.381780</td>\n      <td>0.033809</td>\n    </tr>\n    <tr>\n      <th>33</th>\n      <td>month_5</td>\n      <td>0.639495</td>\n      <td>0.050042</td>\n    </tr>\n    <tr>\n      <th>34</th>\n      <td>month_6</td>\n      <td>0.501193</td>\n      <td>0.041965</td>\n    </tr>\n    <tr>\n      <th>35</th>\n      <td>month_7</td>\n      <td>0.406501</td>\n      <td>0.035347</td>\n    </tr>\n    <tr>\n      <th>36</th>\n      <td>month_8</td>\n      <td>0.398809</td>\n      <td>0.034410</td>\n    </tr>\n    <tr>\n      <th>37</th>\n      <td>month_9</td>\n      <td>0.266328</td>\n      <td>0.025440</td>\n    </tr>\n    <tr>\n      <th>38</th>\n      <td>month_10</td>\n      <td>0.119037</td>\n      <td>0.011199</td>\n    </tr>\n    <tr>\n      <th>39</th>\n      <td>month_11</td>\n      <td>0.367227</td>\n      <td>0.031997</td>\n    </tr>\n    <tr>\n      <th>40</th>\n      <td>month_12</td>\n      <td>0.391641</td>\n      <td>0.034914</td>\n    </tr>\n  </tbody>\n</table>\n</div>"
     },
     "execution_count": 193,
     "metadata": {},
     "output_type": "execute_result"
    }
   ],
   "source": [
    "pipe[:-1].get_feature_names_out()\n",
    "pipe[1].coef_\n",
    "pd.DataFrame(data=np.concatenate([[coefs_intercept], [beta_hat]]),\n",
    "             columns=['intercept'] + list(pipe[:-1].get_feature_names_out())).T.reset_index().rename(columns={0:'estimation',1:'standard_error','index':'coefficient'})"
   ],
   "metadata": {
    "collapsed": false,
    "ExecuteTime": {
     "end_time": "2024-02-20T22:55:43.842966976Z",
     "start_time": "2024-02-20T22:55:43.782873806Z"
    }
   },
   "id": "3060b66f78338938"
  },
  {
   "cell_type": "markdown",
   "source": [
    "## 4.22 L1 penalty"
   ],
   "metadata": {
    "collapsed": false
   },
   "id": "b3d4c169f11d2641"
  },
  {
   "cell_type": "code",
   "execution_count": 199,
   "outputs": [
    {
     "name": "stdout",
     "output_type": "stream",
     "text": [
      "The average accuracy is 0.893 ± 0.000\n",
      "test accuracy is 0.892147806004619\n"
     ]
    },
    {
     "data": {
      "text/plain": "<Figure size 640x480 with 2 Axes>",
      "image/png": "[encoded data removed]"
     },
     "metadata": {},
     "output_type": "display_data"
    }
   ],
   "source": [
    "model = LogisticRegression(penalty='l1', solver='liblinear')\n",
    "pipe = Pipeline([\n",
    "    ('ohe', OneHotEncoder()),\n",
    "    ('lrl1', model),\n",
    "])\n",
    "\n",
    "skf = StratifiedKFold(n_splits=3)\n",
    "cv_results = cross_validate(pipe, X_train, y_train, cv=skf)\n",
    "test_score = cv_results[\"test_score\"]\n",
    "print(\n",
    "    f\"The average accuracy is {test_score.mean():.3f} ± {test_score.std():.3f}\"\n",
    ")\n",
    "pipe.fit(X_train, y_train)\n",
    "pred = pipe.predict(X_test)\n",
    "print(f'test accuracy is {pipe.score(X_test, y_test)}')\n",
    "\n",
    "results['sk_log_reg_l1_skf'] = get_results(y_test, pred)\n"
   ],
   "metadata": {
    "collapsed": false,
    "ExecuteTime": {
     "end_time": "2024-02-20T23:32:55.117954990Z",
     "start_time": "2024-02-20T23:32:54.347941201Z"
    }
   },
   "id": "1e61c8276fab844"
  },
  {
   "cell_type": "code",
   "execution_count": 200,
   "outputs": [
    {
     "name": "stdout",
     "output_type": "stream",
     "text": [
      "(1, 44)\n"
     ]
    },
    {
     "data": {
      "text/plain": "                         0\ndow_0             0.346873\ndow_1             0.061493\ndow_2             0.000000\ndow_3            -0.104910\ndow_4            -0.064220\ndow_5             2.048134\ndow_6             6.308125\nhour_0           -1.351276\nhour_1           -0.843349\nhour_2           -0.370393\nhour_3            0.975698\nhour_4            1.758400\nhour_5            2.279414\nhour_6            2.499921\nhour_7            2.785980\nhour_8            2.503383\nhour_9            2.504726\nhour_10           2.724126\nhour_11           3.176157\nhour_12           2.491599\nhour_13           3.169615\nhour_14           2.756517\nhour_15           0.000000\nhour_16          -1.161701\nhour_17          -1.866634\nhour_18          -1.888340\nhour_19          -1.858063\nhour_20          -1.819768\nhour_21          -1.886782\nhour_22          -1.766321\nhour_23          -1.653806\nmonth_1          -0.400324\nmonth_2          -0.219158\nmonth_3          -0.513877\nmonth_4           0.006865\nmonth_5           0.264521\nmonth_6           0.128433\nmonth_7           0.031487\nmonth_8           0.023449\nmonth_9          -0.093594\nmonth_10         -0.240975\nmonth_11          0.000000\nmonth_12          0.014229\nis_holiday_False  1.950140",
      "text/html": "<div>\n<style scoped>\n    .dataframe tbody tr th:only-of-type {\n        vertical-align: middle;\n    }\n\n    .dataframe tbody tr th {\n        vertical-align: top;\n    }\n\n    .dataframe thead th {\n        text-align: right;\n    }\n</style>\n<table border=\"1\" class=\"dataframe\">\n  <thead>\n    <tr style=\"text-align: right;\">\n      <th></th>\n      <th>0</th>\n    </tr>\n  </thead>\n  <tbody>\n    <tr>\n      <th>dow_0</th>\n      <td>0.346873</td>\n    </tr>\n    <tr>\n      <th>dow_1</th>\n      <td>0.061493</td>\n    </tr>\n    <tr>\n      <th>dow_2</th>\n      <td>0.000000</td>\n    </tr>\n    <tr>\n      <th>dow_3</th>\n      <td>-0.104910</td>\n    </tr>\n    <tr>\n      <th>dow_4</th>\n      <td>-0.064220</td>\n    </tr>\n    <tr>\n      <th>dow_5</th>\n      <td>2.048134</td>\n    </tr>\n    <tr>\n      <th>dow_6</th>\n      <td>6.308125</td>\n    </tr>\n    <tr>\n      <th>hour_0</th>\n      <td>-1.351276</td>\n    </tr>\n    <tr>\n      <th>hour_1</th>\n      <td>-0.843349</td>\n    </tr>\n    <tr>\n      <th>hour_2</th>\n      <td>-0.370393</td>\n    </tr>\n    <tr>\n      <th>hour_3</th>\n      <td>0.975698</td>\n    </tr>\n    <tr>\n      <th>hour_4</th>\n      <td>1.758400</td>\n    </tr>\n    <tr>\n      <th>hour_5</th>\n      <td>2.279414</td>\n    </tr>\n    <tr>\n      <th>hour_6</th>\n      <td>2.499921</td>\n    </tr>\n    <tr>\n      <th>hour_7</th>\n      <td>2.785980</td>\n    </tr>\n    <tr>\n      <th>hour_8</th>\n      <td>2.503383</td>\n    </tr>\n    <tr>\n      <th>hour_9</th>\n      <td>2.504726</td>\n    </tr>\n    <tr>\n      <th>hour_10</th>\n      <td>2.724126</td>\n    </tr>\n    <tr>\n      <th>hour_11</th>\n      <td>3.176157</td>\n    </tr>\n    <tr>\n      <th>hour_12</th>\n      <td>2.491599</td>\n    </tr>\n    <tr>\n      <th>hour_13</th>\n      <td>3.169615</td>\n    </tr>\n    <tr>\n      <th>hour_14</th>\n      <td>2.756517</td>\n    </tr>\n    <tr>\n      <th>hour_15</th>\n      <td>0.000000</td>\n    </tr>\n    <tr>\n      <th>hour_16</th>\n      <td>-1.161701</td>\n    </tr>\n    <tr>\n      <th>hour_17</th>\n      <td>-1.866634</td>\n    </tr>\n    <tr>\n      <th>hour_18</th>\n      <td>-1.888340</td>\n    </tr>\n    <tr>\n      <th>hour_19</th>\n      <td>-1.858063</td>\n    </tr>\n    <tr>\n      <th>hour_20</th>\n      <td>-1.819768</td>\n    </tr>\n    <tr>\n      <th>hour_21</th>\n      <td>-1.886782</td>\n    </tr>\n    <tr>\n      <th>hour_22</th>\n      <td>-1.766321</td>\n    </tr>\n    <tr>\n      <th>hour_23</th>\n      <td>-1.653806</td>\n    </tr>\n    <tr>\n      <th>month_1</th>\n      <td>-0.400324</td>\n    </tr>\n    <tr>\n      <th>month_2</th>\n      <td>-0.219158</td>\n    </tr>\n    <tr>\n      <th>month_3</th>\n      <td>-0.513877</td>\n    </tr>\n    <tr>\n      <th>month_4</th>\n      <td>0.006865</td>\n    </tr>\n    <tr>\n      <th>month_5</th>\n      <td>0.264521</td>\n    </tr>\n    <tr>\n      <th>month_6</th>\n      <td>0.128433</td>\n    </tr>\n    <tr>\n      <th>month_7</th>\n      <td>0.031487</td>\n    </tr>\n    <tr>\n      <th>month_8</th>\n      <td>0.023449</td>\n    </tr>\n    <tr>\n      <th>month_9</th>\n      <td>-0.093594</td>\n    </tr>\n    <tr>\n      <th>month_10</th>\n      <td>-0.240975</td>\n    </tr>\n    <tr>\n      <th>month_11</th>\n      <td>0.000000</td>\n    </tr>\n    <tr>\n      <th>month_12</th>\n      <td>0.014229</td>\n    </tr>\n    <tr>\n      <th>is_holiday_False</th>\n      <td>1.950140</td>\n    </tr>\n  </tbody>\n</table>\n</div>"
     },
     "execution_count": 200,
     "metadata": {},
     "output_type": "execute_result"
    }
   ],
   "source": [
    "print(pipe[-1].coef_.shape)\n",
    "pipe[-1].n_features_in_\n",
    "pipe[-1].intercept_\n",
    "pipe[-1].classes_\n",
    "pd.DataFrame(pipe[-1].coef_, columns=pipe[:-1].get_feature_names_out()).T\n",
    "# ?pipe[-1]\n",
    "# pipe[:-1].get_feature_names_out()"
   ],
   "metadata": {
    "collapsed": false,
    "ExecuteTime": {
     "end_time": "2024-02-20T23:32:55.794247163Z",
     "start_time": "2024-02-20T23:32:55.745994538Z"
    }
   },
   "id": "dd4551a30f94d31c"
  },
  {
   "cell_type": "code",
   "execution_count": 28,
   "outputs": [
    {
     "name": "stdout",
     "output_type": "stream",
     "text": [
      "[3093 3093 3093 3093 3093]\n",
      "[0 0 0 0 0]\n"
     ]
    }
   ],
   "source": [
    "from sklearn.model_selection import cross_validate\n",
    "from sklearn.metrics import confusion_matrix\n",
    "# A sample toy binary classification dataset\n",
    "# X, y = datasets.make_classification(n_classes=2, random_state=0)\n",
    "# svm = LinearSVC(dual=\"auto\", random_state=0)\n",
    "lr = LogisticRegression(penalty=\"l2\")\n",
    "def confusion_matrix_scorer(clf, X, y):\n",
    "     y_pred = clf.predict(X)\n",
    "     cm = confusion_matrix(y, y_pred)\n",
    "     return {'tn': cm[0, 0], 'fp': cm[0, 1],\n",
    "             'fn': cm[1, 0], 'tp': cm[1, 1]}\n",
    "cv_results = cross_validate(lr, X_train, y_train, cv=5,\n",
    "                            scoring=confusion_matrix_scorer)\n",
    "# Getting the test set true positive scores\n",
    "print(cv_results['test_tp'])\n",
    "# Getting the test set false negative scores\n",
    "print(cv_results['test_fn'])"
   ],
   "metadata": {
    "collapsed": false,
    "ExecuteTime": {
     "end_time": "2024-02-20T20:23:37.191271502Z",
     "start_time": "2024-02-20T20:23:37.074349985Z"
    }
   },
   "id": "7c5bc02f40819210"
  },
  {
   "cell_type": "markdown",
   "source": [
    "## 4.23 elastic net penalty"
   ],
   "metadata": {
    "collapsed": false
   },
   "id": "c8c4df6d891eeabe"
  },
  {
   "cell_type": "markdown",
   "source": [
    "# TO DO: use gridsearch to find best l1 ratio"
   ],
   "metadata": {
    "collapsed": false
   },
   "id": "3ff3d0634e1a7c5a"
  },
  {
   "cell_type": "code",
   "execution_count": 77,
   "outputs": [
    {
     "name": "stdout",
     "output_type": "stream",
     "text": [
      "The average accuracy is 0.891 ± 0.000\n",
      "test accuracy is 0.8978385368557177\n"
     ]
    },
    {
     "data": {
      "text/plain": "<Figure size 640x480 with 2 Axes>",
      "image/png": "[encoded data removed]"
     },
     "metadata": {},
     "output_type": "display_data"
    }
   ],
   "source": [
    "model = LogisticRegression(penalty='elasticnet', solver='saga', l1_ratio=0.1)\n",
    "pipe = Pipeline([\n",
    "    ('ohe', OneHotEncoder()),\n",
    "    ('lrl1', model),\n",
    "])\n",
    "\n",
    "skf = StratifiedKFold(n_splits=3)\n",
    "cv_results = cross_validate(pipe, X_train, y_train, cv=skf)\n",
    "test_score = cv_results[\"test_score\"]\n",
    "print(\n",
    "    f\"The average accuracy is {test_score.mean():.3f} ± {test_score.std():.3f}\"\n",
    ")\n",
    "pipe.fit(X_train, y_train)\n",
    "pred = pipe.predict(X_test)\n",
    "print(f'test accuracy is {pipe.score(X_test, y_test)}')\n",
    "\n",
    "results['sk_log_elasticnet_skf'] = get_results(y_test, pred)"
   ],
   "metadata": {
    "collapsed": false,
    "ExecuteTime": {
     "end_time": "2024-02-20T20:34:42.462600594Z",
     "start_time": "2024-02-20T20:34:42.243787528Z"
    }
   },
   "id": "1b93131c37011e46"
  },
  {
   "cell_type": "markdown",
   "source": [
    "## 4.3 Sklearn Random Forrest Classifier"
   ],
   "metadata": {
    "collapsed": false
   },
   "id": "4b66e415a2586e5d"
  },
  {
   "cell_type": "code",
   "execution_count": 29,
   "outputs": [
    {
     "name": "stdout",
     "output_type": "stream",
     "text": [
      "The average accuracy is 0.865 ± 0.003\n",
      "test accuracy is 0.8732101616628175\n"
     ]
    },
    {
     "data": {
      "text/plain": "<Figure size 640x480 with 2 Axes>",
      "image/png": "[encoded data removed]"
     },
     "metadata": {},
     "output_type": "display_data"
    }
   ],
   "source": [
    "# tree models\n",
    "from sklearn.ensemble import RandomForestClassifier\n",
    "\n",
    "model = RandomForestClassifier()\n",
    "pipe = Pipeline([\n",
    "    ('ohe', OneHotEncoder()),\n",
    "    ('rf', model),\n",
    "])\n",
    "\n",
    "skf = StratifiedKFold(n_splits=3)\n",
    "cv_results = cross_validate(pipe, X_train, y_train, cv=skf)\n",
    "test_score = cv_results[\"test_score\"]\n",
    "print(\n",
    "    f\"The average accuracy is {test_score.mean():.3f} ± {test_score.std():.3f}\"\n",
    ")\n",
    "pipe.fit(X_train, y_train)\n",
    "pred = pipe.predict(X_test)\n",
    "print(f'test accuracy is {pipe.score(X_test, y_test)}')\n",
    "\n",
    "results['sk_rf_classification_skf'] = get_results(y_test, pred)\n"
   ],
   "metadata": {
    "collapsed": false,
    "ExecuteTime": {
     "end_time": "2024-02-20T20:23:47.292888464Z",
     "start_time": "2024-02-20T20:23:37.191157979Z"
    }
   },
   "id": "d0b53300e915f758"
  },
  {
   "cell_type": "markdown",
   "source": [
    "# 4.4 stats model version"
   ],
   "metadata": {
    "collapsed": false
   },
   "id": "e2f8266e4484885c"
  },
  {
   "cell_type": "code",
   "execution_count": 30,
   "outputs": [
    {
     "name": "stdout",
     "output_type": "stream",
     "text": [
      "Requirement already satisfied: statsmodels in /home/denny/anaconda3/envs/ev/lib/python3.11/site-packages (0.14.1)\r\n",
      "Requirement already satisfied: numpy<2,>=1.18 in /home/denny/anaconda3/envs/ev/lib/python3.11/site-packages (from statsmodels) (1.26.3)\r\n",
      "Requirement already satisfied: scipy!=1.9.2,>=1.4 in /home/denny/anaconda3/envs/ev/lib/python3.11/site-packages (from statsmodels) (1.12.0)\r\n",
      "Requirement already satisfied: pandas!=2.1.0,>=1.0 in /home/denny/anaconda3/envs/ev/lib/python3.11/site-packages (from statsmodels) (2.1.4)\r\n",
      "Requirement already satisfied: patsy>=0.5.4 in /home/denny/anaconda3/envs/ev/lib/python3.11/site-packages (from statsmodels) (0.5.6)\r\n",
      "Requirement already satisfied: packaging>=21.3 in /home/denny/anaconda3/envs/ev/lib/python3.11/site-packages (from statsmodels) (23.2)\r\n",
      "Requirement already satisfied: python-dateutil>=2.8.2 in /home/denny/anaconda3/envs/ev/lib/python3.11/site-packages (from pandas!=2.1.0,>=1.0->statsmodels) (2.8.2)\r\n",
      "Requirement already satisfied: pytz>=2020.1 in /home/denny/anaconda3/envs/ev/lib/python3.11/site-packages (from pandas!=2.1.0,>=1.0->statsmodels) (2023.3.post1)\r\n",
      "Requirement already satisfied: tzdata>=2022.1 in /home/denny/anaconda3/envs/ev/lib/python3.11/site-packages (from pandas!=2.1.0,>=1.0->statsmodels) (2023.3)\r\n",
      "Requirement already satisfied: six in /home/denny/anaconda3/envs/ev/lib/python3.11/site-packages (from patsy>=0.5.4->statsmodels) (1.16.0)\r\n"
     ]
    }
   ],
   "source": [
    "! pip install statsmodels"
   ],
   "metadata": {
    "collapsed": false,
    "ExecuteTime": {
     "end_time": "2024-02-20T20:23:48.726755644Z",
     "start_time": "2024-02-20T20:23:47.282138921Z"
    }
   },
   "id": "de90e0de223ce588"
  },
  {
   "cell_type": "code",
   "execution_count": 31,
   "outputs": [
    {
     "data": {
      "text/plain": "                           dow_1  dow_2  dow_3  dow_4  dow_5  dow_6\n2019-03-25 00:00:00+00:00    0.0    0.0    0.0    0.0    0.0    0.0\n2019-03-25 01:00:00+00:00    0.0    0.0    0.0    0.0    0.0    0.0\n2019-03-25 02:00:00+00:00    0.0    0.0    0.0    0.0    0.0    0.0\n2019-03-25 03:00:00+00:00    0.0    0.0    0.0    0.0    0.0    0.0\n2019-03-25 04:00:00+00:00    0.0    0.0    0.0    0.0    0.0    0.0\n...                          ...    ...    ...    ...    ...    ...\n2021-09-11 20:00:00+00:00    0.0    0.0    0.0    0.0    1.0    0.0\n2021-09-11 21:00:00+00:00    0.0    0.0    0.0    0.0    1.0    0.0\n2021-09-11 22:00:00+00:00    0.0    0.0    0.0    0.0    1.0    0.0\n2021-09-11 23:00:00+00:00    0.0    0.0    0.0    0.0    1.0    0.0\n2021-09-12 00:00:00+00:00    0.0    0.0    0.0    0.0    0.0    1.0\n\n[21649 rows x 6 columns]",
      "text/html": "<div>\n<style scoped>\n    .dataframe tbody tr th:only-of-type {\n        vertical-align: middle;\n    }\n\n    .dataframe tbody tr th {\n        vertical-align: top;\n    }\n\n    .dataframe thead th {\n        text-align: right;\n    }\n</style>\n<table border=\"1\" class=\"dataframe\">\n  <thead>\n    <tr style=\"text-align: right;\">\n      <th></th>\n      <th>dow_1</th>\n      <th>dow_2</th>\n      <th>dow_3</th>\n      <th>dow_4</th>\n      <th>dow_5</th>\n      <th>dow_6</th>\n    </tr>\n  </thead>\n  <tbody>\n    <tr>\n      <th>2019-03-25 00:00:00+00:00</th>\n      <td>0.0</td>\n      <td>0.0</td>\n      <td>0.0</td>\n      <td>0.0</td>\n      <td>0.0</td>\n      <td>0.0</td>\n    </tr>\n    <tr>\n      <th>2019-03-25 01:00:00+00:00</th>\n      <td>0.0</td>\n      <td>0.0</td>\n      <td>0.0</td>\n      <td>0.0</td>\n      <td>0.0</td>\n      <td>0.0</td>\n    </tr>\n    <tr>\n      <th>2019-03-25 02:00:00+00:00</th>\n      <td>0.0</td>\n      <td>0.0</td>\n      <td>0.0</td>\n      <td>0.0</td>\n      <td>0.0</td>\n      <td>0.0</td>\n    </tr>\n    <tr>\n      <th>2019-03-25 03:00:00+00:00</th>\n      <td>0.0</td>\n      <td>0.0</td>\n      <td>0.0</td>\n      <td>0.0</td>\n      <td>0.0</td>\n      <td>0.0</td>\n    </tr>\n    <tr>\n      <th>2019-03-25 04:00:00+00:00</th>\n      <td>0.0</td>\n      <td>0.0</td>\n      <td>0.0</td>\n      <td>0.0</td>\n      <td>0.0</td>\n      <td>0.0</td>\n    </tr>\n    <tr>\n      <th>...</th>\n      <td>...</td>\n      <td>...</td>\n      <td>...</td>\n      <td>...</td>\n      <td>...</td>\n      <td>...</td>\n    </tr>\n    <tr>\n      <th>2021-09-11 20:00:00+00:00</th>\n      <td>0.0</td>\n      <td>0.0</td>\n      <td>0.0</td>\n      <td>0.0</td>\n      <td>1.0</td>\n      <td>0.0</td>\n    </tr>\n    <tr>\n      <th>2021-09-11 21:00:00+00:00</th>\n      <td>0.0</td>\n      <td>0.0</td>\n      <td>0.0</td>\n      <td>0.0</td>\n      <td>1.0</td>\n      <td>0.0</td>\n    </tr>\n    <tr>\n      <th>2021-09-11 22:00:00+00:00</th>\n      <td>0.0</td>\n      <td>0.0</td>\n      <td>0.0</td>\n      <td>0.0</td>\n      <td>1.0</td>\n      <td>0.0</td>\n    </tr>\n    <tr>\n      <th>2021-09-11 23:00:00+00:00</th>\n      <td>0.0</td>\n      <td>0.0</td>\n      <td>0.0</td>\n      <td>0.0</td>\n      <td>1.0</td>\n      <td>0.0</td>\n    </tr>\n    <tr>\n      <th>2021-09-12 00:00:00+00:00</th>\n      <td>0.0</td>\n      <td>0.0</td>\n      <td>0.0</td>\n      <td>0.0</td>\n      <td>0.0</td>\n      <td>1.0</td>\n    </tr>\n  </tbody>\n</table>\n<p>21649 rows × 6 columns</p>\n</div>"
     },
     "execution_count": 31,
     "metadata": {},
     "output_type": "execute_result"
    }
   ],
   "source": [
    "import statsmodels.api as sm \n",
    "ohe = OneHotEncoder(sparse_output=False, drop='first')\n",
    "ohe.fit(X[['dow']])\n",
    "ohe.transform(X[['dow']])\n",
    "pd.DataFrame(ohe.transform(X[['dow']]), columns=ohe.get_feature_names_out(), index=X.index)"
   ],
   "metadata": {
    "collapsed": false,
    "ExecuteTime": {
     "end_time": "2024-02-20T20:23:48.877631780Z",
     "start_time": "2024-02-20T20:23:48.730856462Z"
    }
   },
   "id": "15e9512e59e970f4"
  },
  {
   "cell_type": "code",
   "execution_count": 32,
   "outputs": [
    {
     "name": "stdout",
     "output_type": "stream",
     "text": [
      "Warning: Maximum number of iterations has been exceeded.\n",
      "         Current function value: 0.360711\n",
      "         Iterations: 35\n"
     ]
    },
    {
     "name": "stderr",
     "output_type": "stream",
     "text": [
      "/home/denny/anaconda3/envs/ev/lib/python3.11/site-packages/statsmodels/base/model.py:607: ConvergenceWarning: Maximum Likelihood optimization failed to converge. Check mle_retvals\n",
      "  warnings.warn(\"Maximum Likelihood optimization failed to \"\n"
     ]
    }
   ],
   "source": [
    "ohe = OneHotEncoder(sparse_output=False, drop='first')\n",
    "ohe.fit(X[['dow']])\n",
    "ohe.transform(X[['dow']])\n",
    "ohe.get_feature_names_out()\n",
    "X_train, X_test, y_train, y_test = train_test_split(\n",
    "    pd.DataFrame(ohe.transform(X[['dow']]), columns=ohe.get_feature_names_out(), index=X.index), \n",
    "    y, \n",
    "    test_size=.2, \n",
    "    stratify=y)\n",
    "log_reg = sm.Logit(y_train, X_train).fit() "
   ],
   "metadata": {
    "collapsed": false,
    "ExecuteTime": {
     "end_time": "2024-02-20T20:23:49.002569172Z",
     "start_time": "2024-02-20T20:23:48.878928700Z"
    }
   },
   "id": "3c6fb870a0c7b5e2"
  },
  {
   "cell_type": "code",
   "execution_count": 201,
   "outputs": [
    {
     "name": "stdout",
     "output_type": "stream",
     "text": [
      "Warning: Maximum number of iterations has been exceeded.\n",
      "         Current function value: 0.312205\n",
      "         Iterations: 35\n",
      "                           Logit Regression Results                           \n",
      "==============================================================================\n",
      "Dep. Variable:           is_available   No. Observations:                17319\n",
      "Model:                          Logit   Df Residuals:                    17312\n",
      "Method:                           MLE   Df Model:                            6\n",
      "Date:                Tue, 20 Feb 2024   Pseudo R-squ.:                 0.08257\n",
      "Time:                        16:38:16   Log-Likelihood:                -5407.1\n",
      "converged:                      False   LL-Null:                       -5893.7\n",
      "Covariance Type:            nonrobust   LLR p-value:                5.422e-207\n",
      "==============================================================================\n",
      "                 coef    std err          z      P>|z|      [0.025      0.975]\n",
      "------------------------------------------------------------------------------\n",
      "dow_0          2.0099      0.062     32.252      0.000       1.888       2.132\n",
      "dow_1          1.8172      0.058     31.487      0.000       1.704       1.930\n",
      "dow_2          1.7205      0.056     30.807      0.000       1.611       1.830\n",
      "dow_3          1.6844      0.055     30.472      0.000       1.576       1.793\n",
      "dow_4          1.6978      0.056     30.548      0.000       1.589       1.807\n",
      "dow_5          3.6293      0.127     28.657      0.000       3.381       3.878\n",
      "dow_6         21.6423   1015.508      0.021      0.983   -1968.716    2012.001\n",
      "==============================================================================\n",
      "\n",
      "Possibly complete quasi-separation: A fraction 0.14 of observations can be\n",
      "perfectly predicted. This might indicate that there is complete\n",
      "quasi-separation. In this case some parameters will not be identified.\n"
     ]
    },
    {
     "name": "stderr",
     "output_type": "stream",
     "text": [
      "/home/denny/anaconda3/envs/ev/lib/python3.11/site-packages/statsmodels/base/model.py:607: ConvergenceWarning: Maximum Likelihood optimization failed to converge. Check mle_retvals\n",
      "  warnings.warn(\"Maximum Likelihood optimization failed to \"\n"
     ]
    }
   ],
   "source": [
    "ohe = OneHotEncoder(sparse_output=False)\n",
    "ohe.fit(X[['dow']])\n",
    "ohe.transform(X[['dow']])\n",
    "ohe.get_feature_names_out()\n",
    "X_train, X_test, y_train, y_test = train_test_split(\n",
    "    pd.DataFrame(ohe.transform(X[['dow']]), columns=ohe.get_feature_names_out(), index=X.index),#.drop(columns=ohe.get_feature_names_out()[0:3]), \n",
    "    y, \n",
    "    test_size=.2, \n",
    "    stratify=y)\n",
    "log_reg = sm.Logit(y_train, X_train).fit() \n",
    "print(log_reg.summary())"
   ],
   "metadata": {
    "collapsed": false,
    "ExecuteTime": {
     "end_time": "2024-02-20T23:38:16.150154945Z",
     "start_time": "2024-02-20T23:38:15.909409020Z"
    }
   },
   "id": "f81f2c0d648a9e90"
  },
  {
   "cell_type": "code",
   "execution_count": 34,
   "outputs": [
    {
     "name": "stdout",
     "output_type": "stream",
     "text": [
      "                           Logit Regression Results                           \n",
      "==============================================================================\n",
      "Dep. Variable:           is_available   No. Observations:                17319\n",
      "Model:                          Logit   Df Residuals:                    17315\n",
      "Method:                           MLE   Df Model:                            3\n",
      "Date:                Tue, 20 Feb 2024   Pseudo R-squ.:                 -0.2942\n",
      "Time:                        13:23:49   Log-Likelihood:                -7627.9\n",
      "converged:                      False   LL-Null:                       -5893.7\n",
      "Covariance Type:            nonrobust   LLR p-value:                     1.000\n",
      "==============================================================================\n",
      "                 coef    std err          z      P>|z|      [0.025      0.975]\n",
      "------------------------------------------------------------------------------\n",
      "dow_3          1.6677      0.055     30.208      0.000       1.560       1.776\n",
      "dow_4          1.6976      0.056     30.584      0.000       1.589       1.806\n",
      "dow_5          3.5666      0.123     29.004      0.000       3.326       3.808\n",
      "dow_6         24.7276   4736.756      0.005      0.996   -9259.144    9308.599\n",
      "==============================================================================\n",
      "\n",
      "Possibly complete quasi-separation: A fraction 0.14 of observations can be\n",
      "perfectly predicted. This might indicate that there is complete\n",
      "quasi-separation. In this case some parameters will not be identified.\n"
     ]
    }
   ],
   "source": [
    "print(log_reg.summary()) "
   ],
   "metadata": {
    "collapsed": false,
    "ExecuteTime": {
     "end_time": "2024-02-20T20:23:49.243587168Z",
     "start_time": "2024-02-20T20:23:49.154321886Z"
    }
   },
   "id": "91052e544c1aefd0"
  },
  {
   "cell_type": "code",
   "execution_count": 35,
   "outputs": [
    {
     "name": "stdout",
     "output_type": "stream",
     "text": [
      "Confusion Matrix : \n",
      " [[ 253  210]\n",
      " [1573 2294]]\n",
      "Test accuracy =  0.5882217090069284\n"
     ]
    }
   ],
   "source": [
    "y_hat = log_reg.predict(X_test)\n",
    "prediction = list(map(round, y_hat))\n",
    "# confusion matrix \n",
    "cm = confusion_matrix(y_test, prediction)  \n",
    "print (\"Confusion Matrix : \\n\", cm)  \n",
    "  \n",
    "# accuracy score of the model \n",
    "print('Test accuracy = ', accuracy_score(y_test, prediction))"
   ],
   "metadata": {
    "collapsed": false,
    "ExecuteTime": {
     "end_time": "2024-02-20T20:23:49.243862906Z",
     "start_time": "2024-02-20T20:23:49.154526492Z"
    }
   },
   "id": "67aa66dd54e724c5"
  },
  {
   "cell_type": "code",
   "execution_count": 36,
   "outputs": [
    {
     "data": {
      "text/plain": "<Figure size 640x480 with 2 Axes>",
      "image/png": "[encoded data removed]"
     },
     "metadata": {},
     "output_type": "display_data"
    }
   ],
   "source": [
    "results['sm_log_reg_dow_skf'] = get_results(y_test, prediction)"
   ],
   "metadata": {
    "collapsed": false,
    "ExecuteTime": {
     "end_time": "2024-02-20T20:23:49.397101458Z",
     "start_time": "2024-02-20T20:23:49.154629096Z"
    }
   },
   "id": "453d81b8d93b8b8d"
  },
  {
   "cell_type": "code",
   "execution_count": 37,
   "outputs": [
    {
     "name": "stdout",
     "output_type": "stream",
     "text": [
      "Optimization terminated successfully.\n",
      "         Current function value: 0.270214\n",
      "         Iterations 10\n"
     ]
    }
   ],
   "source": [
    "ohe = OneHotEncoder(sparse_output=False, drop='first')\n",
    "ohe.fit(X[['hour']])\n",
    "ohe.transform(X[['hour']])\n",
    "X_train, X_test, y_train, y_test = train_test_split(\n",
    "    pd.DataFrame(ohe.transform(X[['hour']]), columns=ohe.get_feature_names_out(), index=X.index), \n",
    "    y, \n",
    "    test_size=.2, \n",
    "    stratify=y)\n",
    "# X_train, X_test, y_train, y_test = train_test_split(pd.DataFrame(ohe.transform(X[['hour']]), columns=ohe.get_feature_names_out(), index=X.index), y['is_available'])\n",
    "log_reg = sm.Logit(y_train, X_train).fit() "
   ],
   "metadata": {
    "collapsed": false,
    "ExecuteTime": {
     "end_time": "2024-02-20T20:23:49.412105374Z",
     "start_time": "2024-02-20T20:23:49.290118530Z"
    }
   },
   "id": "36d506e6546e8d48"
  },
  {
   "cell_type": "code",
   "execution_count": 38,
   "outputs": [
    {
     "name": "stdout",
     "output_type": "stream",
     "text": [
      "                           Logit Regression Results                           \n",
      "==============================================================================\n",
      "Dep. Variable:           is_available   No. Observations:                17319\n",
      "Model:                          Logit   Df Residuals:                    17296\n",
      "Method:                           MLE   Df Model:                           22\n",
      "Date:                Tue, 20 Feb 2024   Pseudo R-squ.:                  0.2060\n",
      "Time:                        13:23:49   Log-Likelihood:                -4679.8\n",
      "converged:                       True   LL-Null:                       -5893.7\n",
      "Covariance Type:            nonrobust   LLR p-value:                     0.000\n",
      "==============================================================================\n",
      "                 coef    std err          z      P>|z|      [0.025      0.975]\n",
      "------------------------------------------------------------------------------\n",
      "hour_1         1.7620      0.104     16.916      0.000       1.558       1.966\n",
      "hour_2         2.4744      0.139     17.783      0.000       2.202       2.747\n",
      "hour_3         3.7349      0.245     15.219      0.000       3.254       4.216\n",
      "hour_4         4.6222      0.380     12.169      0.000       3.878       5.367\n",
      "hour_5         5.4596      0.579      9.436      0.000       4.326       6.594\n",
      "hour_6         5.5094      0.579      9.523      0.000       4.376       6.643\n",
      "hour_7         5.8972      0.708      8.328      0.000       4.509       7.285\n",
      "hour_8         5.8749      0.708      8.297      0.000       4.487       7.263\n",
      "hour_9         5.4876      0.579      9.485      0.000       4.354       6.621\n",
      "hour_10        5.8791      0.708      8.303      0.000       4.491       7.267\n",
      "hour_11        5.4806      0.579      9.473      0.000       4.347       6.615\n",
      "hour_12        5.4765      0.579      9.466      0.000       4.343       6.610\n",
      "hour_13        5.4737      0.579      9.461      0.000       4.340       6.608\n",
      "hour_14        5.9149      0.708      8.354      0.000       4.527       7.303\n",
      "hour_15        2.6756      0.152     17.553      0.000       2.377       2.974\n",
      "hour_16        1.6470      0.102     16.173      0.000       1.447       1.847\n",
      "hour_17        1.0342      0.085     12.147      0.000       0.867       1.201\n",
      "hour_18        1.0262      0.084     12.169      0.000       0.861       1.192\n",
      "hour_19        0.9311      0.083     11.180      0.000       0.768       1.094\n",
      "hour_20        0.9192      0.082     11.235      0.000       0.759       1.080\n",
      "hour_21        0.9134      0.083     11.048      0.000       0.751       1.075\n",
      "hour_22        1.0722      0.087     12.382      0.000       0.902       1.242\n",
      "hour_23        1.2563      0.090     14.020      0.000       1.081       1.432\n",
      "==============================================================================\n"
     ]
    }
   ],
   "source": [
    "print(log_reg.summary()) "
   ],
   "metadata": {
    "collapsed": false,
    "ExecuteTime": {
     "end_time": "2024-02-20T20:23:49.429041086Z",
     "start_time": "2024-02-20T20:23:49.355327059Z"
    }
   },
   "id": "b5f17ae0a8f8878b"
  },
  {
   "cell_type": "code",
   "execution_count": 39,
   "outputs": [
    {
     "data": {
      "text/plain": "<Figure size 640x480 with 2 Axes>",
      "image/png": "[encoded data removed]"
     },
     "metadata": {},
     "output_type": "display_data"
    }
   ],
   "source": [
    "yhat = log_reg.predict(X_test) \n",
    "prediction = list(map(round, yhat))\n",
    "results['sm_hour_sfk'] = get_results(y_test, prediction)"
   ],
   "metadata": {
    "collapsed": false,
    "ExecuteTime": {
     "end_time": "2024-02-20T20:23:49.564625082Z",
     "start_time": "2024-02-20T20:23:49.399288074Z"
    }
   },
   "id": "73e2184f4fc0ed35"
  },
  {
   "cell_type": "code",
   "execution_count": 40,
   "outputs": [
    {
     "data": {
      "text/plain": "                           hour_1  hour_2  hour_3  hour_4  hour_5  hour_6  \\\n2020-08-16 03:00:00+00:00     0.0     0.0     1.0     0.0     0.0     0.0   \n2020-11-26 05:00:00+00:00     0.0     0.0     0.0     0.0     1.0     0.0   \n2020-06-30 11:00:00+00:00     0.0     0.0     0.0     0.0     0.0     0.0   \n2021-05-25 04:00:00+00:00     0.0     0.0     0.0     1.0     0.0     0.0   \n2021-06-29 23:00:00+00:00     0.0     0.0     0.0     0.0     0.0     0.0   \n...                           ...     ...     ...     ...     ...     ...   \n2021-03-11 08:00:00+00:00     0.0     0.0     0.0     0.0     0.0     0.0   \n2020-06-17 03:00:00+00:00     0.0     0.0     1.0     0.0     0.0     0.0   \n2019-09-13 16:00:00+00:00     0.0     0.0     0.0     0.0     0.0     0.0   \n2020-07-09 18:00:00+00:00     0.0     0.0     0.0     0.0     0.0     0.0   \n2020-08-10 15:00:00+00:00     0.0     0.0     0.0     0.0     0.0     0.0   \n\n                           hour_7  hour_8  hour_9  hour_10  ...  hour_14  \\\n2020-08-16 03:00:00+00:00     0.0     0.0     0.0      0.0  ...      0.0   \n2020-11-26 05:00:00+00:00     0.0     0.0     0.0      0.0  ...      0.0   \n2020-06-30 11:00:00+00:00     0.0     0.0     0.0      0.0  ...      0.0   \n2021-05-25 04:00:00+00:00     0.0     0.0     0.0      0.0  ...      0.0   \n2021-06-29 23:00:00+00:00     0.0     0.0     0.0      0.0  ...      0.0   \n...                           ...     ...     ...      ...  ...      ...   \n2021-03-11 08:00:00+00:00     0.0     1.0     0.0      0.0  ...      0.0   \n2020-06-17 03:00:00+00:00     0.0     0.0     0.0      0.0  ...      0.0   \n2019-09-13 16:00:00+00:00     0.0     0.0     0.0      0.0  ...      0.0   \n2020-07-09 18:00:00+00:00     0.0     0.0     0.0      0.0  ...      0.0   \n2020-08-10 15:00:00+00:00     0.0     0.0     0.0      0.0  ...      0.0   \n\n                           hour_15  hour_16  hour_17  hour_18  hour_19  \\\n2020-08-16 03:00:00+00:00      0.0      0.0      0.0      0.0      0.0   \n2020-11-26 05:00:00+00:00      0.0      0.0      0.0      0.0      0.0   \n2020-06-30 11:00:00+00:00      0.0      0.0      0.0      0.0      0.0   \n2021-05-25 04:00:00+00:00      0.0      0.0      0.0      0.0      0.0   \n2021-06-29 23:00:00+00:00      0.0      0.0      0.0      0.0      0.0   \n...                            ...      ...      ...      ...      ...   \n2021-03-11 08:00:00+00:00      0.0      0.0      0.0      0.0      0.0   \n2020-06-17 03:00:00+00:00      0.0      0.0      0.0      0.0      0.0   \n2019-09-13 16:00:00+00:00      0.0      1.0      0.0      0.0      0.0   \n2020-07-09 18:00:00+00:00      0.0      0.0      0.0      1.0      0.0   \n2020-08-10 15:00:00+00:00      1.0      0.0      0.0      0.0      0.0   \n\n                           hour_20  hour_21  hour_22  hour_23  \n2020-08-16 03:00:00+00:00      0.0      0.0      0.0      0.0  \n2020-11-26 05:00:00+00:00      0.0      0.0      0.0      0.0  \n2020-06-30 11:00:00+00:00      0.0      0.0      0.0      0.0  \n2021-05-25 04:00:00+00:00      0.0      0.0      0.0      0.0  \n2021-06-29 23:00:00+00:00      0.0      0.0      0.0      1.0  \n...                            ...      ...      ...      ...  \n2021-03-11 08:00:00+00:00      0.0      0.0      0.0      0.0  \n2020-06-17 03:00:00+00:00      0.0      0.0      0.0      0.0  \n2019-09-13 16:00:00+00:00      0.0      0.0      0.0      0.0  \n2020-07-09 18:00:00+00:00      0.0      0.0      0.0      0.0  \n2020-08-10 15:00:00+00:00      0.0      0.0      0.0      0.0  \n\n[17319 rows x 23 columns]",
      "text/html": "<div>\n<style scoped>\n    .dataframe tbody tr th:only-of-type {\n        vertical-align: middle;\n    }\n\n    .dataframe tbody tr th {\n        vertical-align: top;\n    }\n\n    .dataframe thead th {\n        text-align: right;\n    }\n</style>\n<table border=\"1\" class=\"dataframe\">\n  <thead>\n    <tr style=\"text-align: right;\">\n      <th></th>\n      <th>hour_1</th>\n      <th>hour_2</th>\n      <th>hour_3</th>\n      <th>hour_4</th>\n      <th>hour_5</th>\n      <th>hour_6</th>\n      <th>hour_7</th>\n      <th>hour_8</th>\n      <th>hour_9</th>\n      <th>hour_10</th>\n      <th>...</th>\n      <th>hour_14</th>\n      <th>hour_15</th>\n      <th>hour_16</th>\n      <th>hour_17</th>\n      <th>hour_18</th>\n      <th>hour_19</th>\n      <th>hour_20</th>\n      <th>hour_21</th>\n      <th>hour_22</th>\n      <th>hour_23</th>\n    </tr>\n  </thead>\n  <tbody>\n    <tr>\n      <th>2020-08-16 03:00:00+00:00</th>\n      <td>0.0</td>\n      <td>0.0</td>\n      <td>1.0</td>\n      <td>0.0</td>\n      <td>0.0</td>\n      <td>0.0</td>\n      <td>0.0</td>\n      <td>0.0</td>\n      <td>0.0</td>\n      <td>0.0</td>\n      <td>...</td>\n      <td>0.0</td>\n      <td>0.0</td>\n      <td>0.0</td>\n      <td>0.0</td>\n      <td>0.0</td>\n      <td>0.0</td>\n      <td>0.0</td>\n      <td>0.0</td>\n      <td>0.0</td>\n      <td>0.0</td>\n    </tr>\n    <tr>\n      <th>2020-11-26 05:00:00+00:00</th>\n      <td>0.0</td>\n      <td>0.0</td>\n      <td>0.0</td>\n      <td>0.0</td>\n      <td>1.0</td>\n      <td>0.0</td>\n      <td>0.0</td>\n      <td>0.0</td>\n      <td>0.0</td>\n      <td>0.0</td>\n      <td>...</td>\n      <td>0.0</td>\n      <td>0.0</td>\n      <td>0.0</td>\n      <td>0.0</td>\n      <td>0.0</td>\n      <td>0.0</td>\n      <td>0.0</td>\n      <td>0.0</td>\n      <td>0.0</td>\n      <td>0.0</td>\n    </tr>\n    <tr>\n      <th>2020-06-30 11:00:00+00:00</th>\n      <td>0.0</td>\n      <td>0.0</td>\n      <td>0.0</td>\n      <td>0.0</td>\n      <td>0.0</td>\n      <td>0.0</td>\n      <td>0.0</td>\n      <td>0.0</td>\n      <td>0.0</td>\n      <td>0.0</td>\n      <td>...</td>\n      <td>0.0</td>\n      <td>0.0</td>\n      <td>0.0</td>\n      <td>0.0</td>\n      <td>0.0</td>\n      <td>0.0</td>\n      <td>0.0</td>\n      <td>0.0</td>\n      <td>0.0</td>\n      <td>0.0</td>\n    </tr>\n    <tr>\n      <th>2021-05-25 04:00:00+00:00</th>\n      <td>0.0</td>\n      <td>0.0</td>\n      <td>0.0</td>\n      <td>1.0</td>\n      <td>0.0</td>\n      <td>0.0</td>\n      <td>0.0</td>\n      <td>0.0</td>\n      <td>0.0</td>\n      <td>0.0</td>\n      <td>...</td>\n      <td>0.0</td>\n      <td>0.0</td>\n      <td>0.0</td>\n      <td>0.0</td>\n      <td>0.0</td>\n      <td>0.0</td>\n      <td>0.0</td>\n      <td>0.0</td>\n      <td>0.0</td>\n      <td>0.0</td>\n    </tr>\n    <tr>\n      <th>2021-06-29 23:00:00+00:00</th>\n      <td>0.0</td>\n      <td>0.0</td>\n      <td>0.0</td>\n      <td>0.0</td>\n      <td>0.0</td>\n      <td>0.0</td>\n      <td>0.0</td>\n      <td>0.0</td>\n      <td>0.0</td>\n      <td>0.0</td>\n      <td>...</td>\n      <td>0.0</td>\n      <td>0.0</td>\n      <td>0.0</td>\n      <td>0.0</td>\n      <td>0.0</td>\n      <td>0.0</td>\n      <td>0.0</td>\n      <td>0.0</td>\n      <td>0.0</td>\n      <td>1.0</td>\n    </tr>\n    <tr>\n      <th>...</th>\n      <td>...</td>\n      <td>...</td>\n      <td>...</td>\n      <td>...</td>\n      <td>...</td>\n      <td>...</td>\n      <td>...</td>\n      <td>...</td>\n      <td>...</td>\n      <td>...</td>\n      <td>...</td>\n      <td>...</td>\n      <td>...</td>\n      <td>...</td>\n      <td>...</td>\n      <td>...</td>\n      <td>...</td>\n      <td>...</td>\n      <td>...</td>\n      <td>...</td>\n      <td>...</td>\n    </tr>\n    <tr>\n      <th>2021-03-11 08:00:00+00:00</th>\n      <td>0.0</td>\n      <td>0.0</td>\n      <td>0.0</td>\n      <td>0.0</td>\n      <td>0.0</td>\n      <td>0.0</td>\n      <td>0.0</td>\n      <td>1.0</td>\n      <td>0.0</td>\n      <td>0.0</td>\n      <td>...</td>\n      <td>0.0</td>\n      <td>0.0</td>\n      <td>0.0</td>\n      <td>0.0</td>\n      <td>0.0</td>\n      <td>0.0</td>\n      <td>0.0</td>\n      <td>0.0</td>\n      <td>0.0</td>\n      <td>0.0</td>\n    </tr>\n    <tr>\n      <th>2020-06-17 03:00:00+00:00</th>\n      <td>0.0</td>\n      <td>0.0</td>\n      <td>1.0</td>\n      <td>0.0</td>\n      <td>0.0</td>\n      <td>0.0</td>\n      <td>0.0</td>\n      <td>0.0</td>\n      <td>0.0</td>\n      <td>0.0</td>\n      <td>...</td>\n      <td>0.0</td>\n      <td>0.0</td>\n      <td>0.0</td>\n      <td>0.0</td>\n      <td>0.0</td>\n      <td>0.0</td>\n      <td>0.0</td>\n      <td>0.0</td>\n      <td>0.0</td>\n      <td>0.0</td>\n    </tr>\n    <tr>\n      <th>2019-09-13 16:00:00+00:00</th>\n      <td>0.0</td>\n      <td>0.0</td>\n      <td>0.0</td>\n      <td>0.0</td>\n      <td>0.0</td>\n      <td>0.0</td>\n      <td>0.0</td>\n      <td>0.0</td>\n      <td>0.0</td>\n      <td>0.0</td>\n      <td>...</td>\n      <td>0.0</td>\n      <td>0.0</td>\n      <td>1.0</td>\n      <td>0.0</td>\n      <td>0.0</td>\n      <td>0.0</td>\n      <td>0.0</td>\n      <td>0.0</td>\n      <td>0.0</td>\n      <td>0.0</td>\n    </tr>\n    <tr>\n      <th>2020-07-09 18:00:00+00:00</th>\n      <td>0.0</td>\n      <td>0.0</td>\n      <td>0.0</td>\n      <td>0.0</td>\n      <td>0.0</td>\n      <td>0.0</td>\n      <td>0.0</td>\n      <td>0.0</td>\n      <td>0.0</td>\n      <td>0.0</td>\n      <td>...</td>\n      <td>0.0</td>\n      <td>0.0</td>\n      <td>0.0</td>\n      <td>0.0</td>\n      <td>1.0</td>\n      <td>0.0</td>\n      <td>0.0</td>\n      <td>0.0</td>\n      <td>0.0</td>\n      <td>0.0</td>\n    </tr>\n    <tr>\n      <th>2020-08-10 15:00:00+00:00</th>\n      <td>0.0</td>\n      <td>0.0</td>\n      <td>0.0</td>\n      <td>0.0</td>\n      <td>0.0</td>\n      <td>0.0</td>\n      <td>0.0</td>\n      <td>0.0</td>\n      <td>0.0</td>\n      <td>0.0</td>\n      <td>...</td>\n      <td>0.0</td>\n      <td>1.0</td>\n      <td>0.0</td>\n      <td>0.0</td>\n      <td>0.0</td>\n      <td>0.0</td>\n      <td>0.0</td>\n      <td>0.0</td>\n      <td>0.0</td>\n      <td>0.0</td>\n    </tr>\n  </tbody>\n</table>\n<p>17319 rows × 23 columns</p>\n</div>"
     },
     "execution_count": 40,
     "metadata": {},
     "output_type": "execute_result"
    }
   ],
   "source": [
    "X_train"
   ],
   "metadata": {
    "collapsed": false,
    "ExecuteTime": {
     "end_time": "2024-02-20T20:23:49.582536211Z",
     "start_time": "2024-02-20T20:23:49.541894449Z"
    }
   },
   "id": "67fbfa136031c8be"
  },
  {
   "cell_type": "code",
   "execution_count": 41,
   "outputs": [
    {
     "name": "stdout",
     "output_type": "stream",
     "text": [
      "for not 6 PM...\n",
      "prob of success 0.8997890931003314\n",
      "prob of failure 0.1002109068996686\n",
      "odds of success 8.978953698135896\n",
      "log odds of success 2.1948833608415463\n",
      "\n",
      "\n",
      "for 6 PM,\n",
      "prob of success 0.7361878453038674\n",
      "prob of failure 0.2638121546961326\n",
      "odds of success 2.7905759162303663\n",
      "log odds of success 1.0262479961192146\n",
      "\n",
      "\n",
      "the probaility of availability changes from 0.7361878453038674 to 0.8997890931003314, a difference of -18.182%\n"
     ]
    }
   ],
   "source": [
    "# not weekend, the log odds is 1.782\n",
    "# for the weekend, the log odds increases 2.3780, to 4.1606\n",
    "y_train[X_train.hour_18==True]\n",
    "# probability of ytrain\n",
    "print('for not 6 PM...')\n",
    "p_success = y_train[X_train.hour_18==False].mean()\n",
    "p_failure = 1- p_success\n",
    "odds = p_success/p_failure\n",
    "log_odds = np.log(odds)\n",
    "print(f'prob of success {p_success}\\nprob of failure {p_failure}\\nodds of success {odds}\\nlog odds of success {log_odds}')\n",
    "p_not6pm = p_success\n",
    "print('\\n\\nfor 6 PM,')\n",
    "p_success = y_train[X_train.hour_18==True].mean()\n",
    "p_failure = 1- p_success\n",
    "odds = p_success/p_failure\n",
    "log_odds = np.log(odds)\n",
    "print(f'prob of success {p_success}\\nprob of failure {p_failure}\\nodds of success {odds}\\nlog odds of success {log_odds}')\n",
    "print(f'\\n\\nthe probaility of availability changes from {p_success} to {p_not6pm}, a difference of {np.round((p_success-p_not6pm)/p_not6pm*100,3)}%')"
   ],
   "metadata": {
    "collapsed": false,
    "ExecuteTime": {
     "end_time": "2024-02-20T20:23:49.583366136Z",
     "start_time": "2024-02-20T20:23:49.574342943Z"
    }
   },
   "id": "45c4f96690ddd56"
  },
  {
   "cell_type": "code",
   "execution_count": 42,
   "outputs": [
    {
     "name": "stdout",
     "output_type": "stream",
     "text": [
      "              precision    recall  f1-score   support\n",
      "\n",
      "           0       0.20      0.08      0.11       463\n",
      "           1       0.90      0.96      0.93      3867\n",
      "\n",
      "    accuracy                           0.87      4330\n",
      "   macro avg       0.55      0.52      0.52      4330\n",
      "weighted avg       0.82      0.87      0.84      4330\n"
     ]
    }
   ],
   "source": [
    "from sklearn.metrics import classification_report\n",
    "print(classification_report(y_test, prediction))"
   ],
   "metadata": {
    "collapsed": false,
    "ExecuteTime": {
     "end_time": "2024-02-20T20:23:49.617535019Z",
     "start_time": "2024-02-20T20:23:49.579743969Z"
    }
   },
   "id": "a05c96c5b777495c"
  },
  {
   "cell_type": "code",
   "execution_count": 43,
   "outputs": [
    {
     "name": "stdout",
     "output_type": "stream",
     "text": [
      "Optimization terminated successfully.\n",
      "         Current function value: 0.262322\n",
      "         Iterations 11\n"
     ]
    }
   ],
   "source": [
    "ohe = OneHotEncoder(sparse_output=False, drop='first')\n",
    "ohe.fit(X[['month','hour']])\n",
    "ohe.transform(X[['month','hour']])\n",
    "X_train, X_test, y_train, y_test = train_test_split(\n",
    "    pd.DataFrame(ohe.transform(X[['month','hour']]), columns=ohe.get_feature_names_out(), index=X.index), \n",
    "    y, \n",
    "    test_size=.2, \n",
    "    stratify=y)\n",
    "# X_train, X_test, y_train, y_test = train_test_split(pd.DataFrame(ohe.transform(X[['hour']]), columns=ohe.get_feature_names_out(), index=X.index), y['is_available'])\n",
    "log_reg = sm.Logit(y_train, X_train).fit() "
   ],
   "metadata": {
    "collapsed": false,
    "ExecuteTime": {
     "end_time": "2024-02-20T20:23:49.789454204Z",
     "start_time": "2024-02-20T20:23:49.596700050Z"
    }
   },
   "id": "75add6aeb107e0af"
  },
  {
   "cell_type": "code",
   "execution_count": 44,
   "outputs": [
    {
     "name": "stdout",
     "output_type": "stream",
     "text": [
      "                           Logit Regression Results                           \n",
      "==============================================================================\n",
      "Dep. Variable:           is_available   No. Observations:                17319\n",
      "Model:                          Logit   Df Residuals:                    17285\n",
      "Method:                           MLE   Df Model:                           33\n",
      "Date:                Tue, 20 Feb 2024   Pseudo R-squ.:                  0.2292\n",
      "Time:                        13:23:49   Log-Likelihood:                -4543.2\n",
      "converged:                       True   LL-Null:                       -5893.7\n",
      "Covariance Type:            nonrobust   LLR p-value:                     0.000\n",
      "==============================================================================\n",
      "                 coef    std err          z      P>|z|      [0.025      0.975]\n",
      "------------------------------------------------------------------------------\n",
      "month_2        0.7838      0.119      6.572      0.000       0.550       1.018\n",
      "month_3        0.3518      0.103      3.413      0.001       0.150       0.554\n",
      "month_4        0.9065      0.102      8.916      0.000       0.707       1.106\n",
      "month_5        1.1457      0.107     10.703      0.000       0.936       1.356\n",
      "month_6        1.0272      0.106      9.710      0.000       0.820       1.235\n",
      "month_7        0.9171      0.101      9.091      0.000       0.719       1.115\n",
      "month_8        0.9357      0.103      9.116      0.000       0.734       1.137\n",
      "month_9        0.8464      0.110      7.675      0.000       0.630       1.063\n",
      "month_10       0.6135      0.112      5.479      0.000       0.394       0.833\n",
      "month_11       0.9695      0.119      8.173      0.000       0.737       1.202\n",
      "month_12       0.9007      0.116      7.750      0.000       0.673       1.128\n",
      "hour_1         0.9930      0.121      8.199      0.000       0.756       1.230\n",
      "hour_2         1.7478      0.151     11.562      0.000       1.451       2.044\n",
      "hour_3         2.9695      0.252     11.801      0.000       2.476       3.463\n",
      "hour_4         4.4165      0.504      8.754      0.000       3.428       5.405\n",
      "hour_5         4.4529      0.504      8.828      0.000       3.464       5.441\n",
      "hour_6         5.7804      1.002      5.767      0.000       3.816       7.745\n",
      "hour_7         5.1023      0.710      7.183      0.000       3.710       6.494\n",
      "hour_8         4.7112      0.581      8.105      0.000       3.572       5.850\n",
      "hour_9         5.1001      0.710      7.181      0.000       3.708       6.492\n",
      "hour_10        5.1475      0.710      7.248      0.000       3.756       6.539\n",
      "hour_11        5.8265      1.002      5.813      0.000       3.862       7.791\n",
      "hour_12        4.7213      0.581      8.123      0.000       3.582       5.860\n",
      "hour_13        4.7190      0.581      8.119      0.000       3.580       5.858\n",
      "hour_14        5.1129      0.710      7.198      0.000       3.721       6.505\n",
      "hour_15        1.8021      0.156     11.555      0.000       1.496       2.108\n",
      "hour_16        0.8438      0.116      7.254      0.000       0.616       1.072\n",
      "hour_17        0.2257      0.102      2.207      0.027       0.025       0.426\n",
      "hour_18        0.1713      0.102      1.680      0.093      -0.029       0.371\n",
      "hour_19        0.1580      0.102      1.554      0.120      -0.041       0.357\n",
      "hour_20        0.1837      0.102      1.802      0.072      -0.016       0.384\n",
      "hour_21        0.1617      0.101      1.599      0.110      -0.037       0.360\n",
      "hour_22        0.2579      0.103      2.503      0.012       0.056       0.460\n",
      "hour_23        0.4303      0.107      4.014      0.000       0.220       0.640\n",
      "==============================================================================\n"
     ]
    }
   ],
   "source": [
    "print(log_reg.summary())"
   ],
   "metadata": {
    "collapsed": false,
    "ExecuteTime": {
     "end_time": "2024-02-20T20:23:49.861326308Z",
     "start_time": "2024-02-20T20:23:49.747877110Z"
    }
   },
   "id": "44d7cdcf69f97096"
  },
  {
   "cell_type": "code",
   "execution_count": 45,
   "outputs": [
    {
     "data": {
      "text/plain": "<Figure size 640x480 with 2 Axes>",
      "image/png": "[encoded data removed]"
     },
     "metadata": {},
     "output_type": "display_data"
    }
   ],
   "source": [
    "yhat = log_reg.predict(X_test) \n",
    "prediction = list(map(round, yhat))\n",
    "results['sm_month_hour_skf'] = get_results(y_test, prediction)\n"
   ],
   "metadata": {
    "collapsed": false,
    "ExecuteTime": {
     "end_time": "2024-02-20T20:23:49.971051480Z",
     "start_time": "2024-02-20T20:23:49.834072123Z"
    }
   },
   "id": "154bcab58e367f3d"
  },
  {
   "cell_type": "code",
   "execution_count": 46,
   "outputs": [
    {
     "name": "stdout",
     "output_type": "stream",
     "text": [
      "Warning: Maximum number of iterations has been exceeded.\n",
      "         Current function value: 0.228411\n",
      "         Iterations: 35\n",
      "                           Logit Regression Results                           \n",
      "==============================================================================\n",
      "Dep. Variable:           is_available   No. Observations:                17319\n",
      "Model:                          Logit   Df Residuals:                    17279\n",
      "Method:                           MLE   Df Model:                           39\n",
      "Date:                Tue, 20 Feb 2024   Pseudo R-squ.:                  0.3288\n",
      "Time:                        13:23:50   Log-Likelihood:                -3955.8\n",
      "converged:                      False   LL-Null:                       -5893.7\n",
      "Covariance Type:            nonrobust   LLR p-value:                     0.000\n",
      "==============================================================================\n",
      "                 coef    std err          z      P>|z|      [0.025      0.975]\n",
      "------------------------------------------------------------------------------\n",
      "dow_1         -0.0551      0.088     -0.626      0.531      -0.227       0.117\n",
      "dow_2         -0.2004      0.087     -2.308      0.021      -0.371      -0.030\n",
      "dow_3         -0.2630      0.086     -3.076      0.002      -0.431      -0.095\n",
      "dow_4         -0.2284      0.085     -2.678      0.007      -0.396      -0.061\n",
      "dow_5          2.0730      0.147     14.111      0.000       1.785       2.361\n",
      "dow_6         21.3445   1958.639      0.011      0.991   -3817.518    3860.207\n",
      "hour_1         0.8152      0.129      6.310      0.000       0.562       1.068\n",
      "hour_2         1.5388      0.156      9.841      0.000       1.232       1.845\n",
      "hour_3         2.8645      0.263     10.880      0.000       2.348       3.380\n",
      "hour_4         3.9021      0.416      9.373      0.000       3.086       4.718\n",
      "hour_5         4.9954      0.712      7.018      0.000       3.600       6.391\n",
      "hour_6         4.5980      0.583      7.886      0.000       3.455       5.741\n",
      "hour_7         5.6783      1.003      5.660      0.000       3.712       7.645\n",
      "hour_8         4.5814      0.583      7.857      0.000       3.439       5.724\n",
      "hour_9         4.9649      0.712      6.974      0.000       3.570       6.360\n",
      "hour_10        4.6118      0.583      7.910      0.000       3.469       5.754\n",
      "hour_11        4.5757      0.583      7.847      0.000       3.433       5.719\n",
      "hour_12        4.6018      0.583      7.893      0.000       3.459       5.745\n",
      "hour_13        5.0102      0.712      7.039      0.000       3.615       6.405\n",
      "hour_14        4.5948      0.583      7.881      0.000       3.452       5.737\n",
      "hour_15        1.7270      0.168     10.281      0.000       1.398       2.056\n",
      "hour_16        0.5732      0.126      4.547      0.000       0.326       0.820\n",
      "hour_17       -0.0068      0.115     -0.059      0.953      -0.233       0.219\n",
      "hour_18       -0.1002      0.116     -0.865      0.387      -0.327       0.127\n",
      "hour_19       -0.1192      0.113     -1.053      0.293      -0.341       0.103\n",
      "hour_20       -0.1104      0.114     -0.967      0.333      -0.334       0.113\n",
      "hour_21       -0.1465      0.114     -1.281      0.200      -0.371       0.078\n",
      "hour_22        0.0274      0.115      0.239      0.811      -0.197       0.252\n",
      "hour_23        0.1570      0.116      1.349      0.177      -0.071       0.385\n",
      "month_2        0.6790      0.129      5.267      0.000       0.426       0.932\n",
      "month_3        0.3263      0.115      2.843      0.004       0.101       0.551\n",
      "month_4        0.9841      0.116      8.482      0.000       0.757       1.212\n",
      "month_5        1.1409      0.117      9.763      0.000       0.912       1.370\n",
      "month_6        1.0039      0.117      8.604      0.000       0.775       1.233\n",
      "month_7        0.8863      0.113      7.844      0.000       0.665       1.108\n",
      "month_8        0.8471      0.113      7.512      0.000       0.626       1.068\n",
      "month_9        0.8143      0.122      6.696      0.000       0.576       1.053\n",
      "month_10       0.6175      0.125      4.941      0.000       0.373       0.863\n",
      "month_11       0.8930      0.131      6.810      0.000       0.636       1.150\n",
      "month_12       0.8399      0.127      6.622      0.000       0.591       1.088\n",
      "==============================================================================\n",
      "\n",
      "Possibly complete quasi-separation: A fraction 0.14 of observations can be\n",
      "perfectly predicted. This might indicate that there is complete\n",
      "quasi-separation. In this case some parameters will not be identified.\n"
     ]
    },
    {
     "name": "stderr",
     "output_type": "stream",
     "text": [
      "/home/denny/anaconda3/envs/ev/lib/python3.11/site-packages/statsmodels/base/model.py:607: ConvergenceWarning: Maximum Likelihood optimization failed to converge. Check mle_retvals\n",
      "  warnings.warn(\"Maximum Likelihood optimization failed to \"\n"
     ]
    }
   ],
   "source": [
    "ohe = OneHotEncoder(sparse_output=False, drop='first')\n",
    "ohe.fit(X)\n",
    "ohe.transform(X)\n",
    "ohe.get_feature_names_out()[0]\n",
    "\n",
    "X_train, X_test, y_train, y_test = train_test_split(\n",
    "    pd.DataFrame(ohe.transform(X), columns=ohe.get_feature_names_out(), index=X.index), #.drop(columns=ohe.get_feature_names_out()[0]), \n",
    "    y, \n",
    "    test_size=.2, \n",
    "    stratify=y)\n",
    "# X_train, X_test, y_train, y_test = train_test_split(pd.DataFrame(ohe.transform(X[['hour']]), columns=ohe.get_feature_names_out(), index=X.index), y['is_available'])\n",
    "log_reg = sm.Logit(y_train, X_train).fit() \n",
    "print(log_reg.summary())"
   ],
   "metadata": {
    "collapsed": false,
    "ExecuteTime": {
     "end_time": "2024-02-20T20:23:50.250163807Z",
     "start_time": "2024-02-20T20:23:49.962097704Z"
    }
   },
   "id": "487e95a76ffc0c36"
  },
  {
   "cell_type": "code",
   "execution_count": 47,
   "outputs": [
    {
     "data": {
      "text/plain": "<Figure size 640x480 with 2 Axes>",
      "image/png": "[encoded data removed]"
     },
     "metadata": {},
     "output_type": "display_data"
    }
   ],
   "source": [
    "yhat = log_reg.predict(X_test) \n",
    "prediction = list(map(round, yhat))\n",
    "results['sm_month_hour_dow_skf'] = get_results(y_test, prediction)"
   ],
   "metadata": {
    "collapsed": false,
    "ExecuteTime": {
     "end_time": "2024-02-20T20:23:50.477306350Z",
     "start_time": "2024-02-20T20:23:50.251110380Z"
    }
   },
   "id": "c870ee46cee41bca"
  },
  {
   "cell_type": "code",
   "execution_count": 48,
   "outputs": [
    {
     "name": "stdout",
     "output_type": "stream",
     "text": [
      "guess always available and never available\n"
     ]
    },
    {
     "data": {
      "text/plain": "<Figure size 640x480 with 2 Axes>",
      "image/png": "[encoded data removed]"
     },
     "metadata": {},
     "output_type": "display_data"
    },
    {
     "data": {
      "text/plain": "<Figure size 640x480 with 2 Axes>",
      "image/png": "[encoded data removed]"
     },
     "metadata": {},
     "output_type": "display_data"
    },
    {
     "name": "stderr",
     "output_type": "stream",
     "text": [
      "/home/denny/anaconda3/envs/ev/lib/python3.11/site-packages/sklearn/metrics/_classification.py:1509: UndefinedMetricWarning: Precision is ill-defined and being set to 0.0 due to no predicted samples. Use `zero_division` parameter to control this behavior.\n",
      "  _warn_prf(average, modifier, f\"{metric.capitalize()} is\", len(result))\n"
     ]
    }
   ],
   "source": [
    "print('guess always available and never available')\n",
    "results['always_available'] =  get_results(y_test, [1]*len(y_test))\n",
    "results['never_available'] =  get_results(y_test, [0]*len(y_test))\n"
   ],
   "metadata": {
    "collapsed": false,
    "ExecuteTime": {
     "end_time": "2024-02-20T20:23:50.709313095Z",
     "start_time": "2024-02-20T20:23:50.410051556Z"
    }
   },
   "id": "db05ddf85c8e8210"
  },
  {
   "cell_type": "code",
   "execution_count": 49,
   "outputs": [
    {
     "name": "stdout",
     "output_type": "stream",
     "text": [
      "Optimization terminated successfully.\n",
      "         Current function value: 0.358929\n",
      "         Iterations 6\n"
     ]
    }
   ],
   "source": [
    "ohe = OneHotEncoder(sparse_output=False, drop='first')\n",
    "ohe.fit(X[['month']])\n",
    "ohe.transform(X[['month']])\n",
    "X_train, X_test, y_train, y_test = train_test_split(\n",
    "    pd.DataFrame(ohe.transform(X[['month']]), columns=ohe.get_feature_names_out(), index=X.index), \n",
    "    y, \n",
    "    test_size=.2, \n",
    "    stratify=y)\n",
    "log_reg = sm.Logit(y_train, X_train).fit() "
   ],
   "metadata": {
    "collapsed": false,
    "ExecuteTime": {
     "end_time": "2024-02-20T20:23:50.872438427Z",
     "start_time": "2024-02-20T20:23:50.624451783Z"
    }
   },
   "id": "95bebb19fd886989"
  },
  {
   "cell_type": "code",
   "execution_count": 50,
   "outputs": [
    {
     "name": "stdout",
     "output_type": "stream",
     "text": [
      "                           Logit Regression Results                           \n",
      "==============================================================================\n",
      "Dep. Variable:           is_available   No. Observations:                17319\n",
      "Model:                          Logit   Df Residuals:                    17308\n",
      "Method:                           MLE   Df Model:                           10\n",
      "Date:                Tue, 20 Feb 2024   Pseudo R-squ.:                -0.05473\n",
      "Time:                        13:23:50   Log-Likelihood:                -6216.3\n",
      "converged:                       True   LL-Null:                       -5893.7\n",
      "Covariance Type:            nonrobust   LLR p-value:                     1.000\n",
      "==============================================================================\n",
      "                 coef    std err          z      P>|z|      [0.025      0.975]\n",
      "------------------------------------------------------------------------------\n",
      "month_2        2.0866      0.096     21.649      0.000       1.898       2.276\n",
      "month_3        1.7882      0.079     22.694      0.000       1.634       1.943\n",
      "month_4        2.1736      0.080     27.323      0.000       2.018       2.330\n",
      "month_5        2.3875      0.085     27.984      0.000       2.220       2.555\n",
      "month_6        2.3000      0.084     27.387      0.000       2.135       2.465\n",
      "month_7        2.1794      0.078     27.867      0.000       2.026       2.333\n",
      "month_8        2.1529      0.077     27.866      0.000       2.001       2.304\n",
      "month_9        2.1746      0.090     24.295      0.000       1.999       2.350\n",
      "month_10       1.9162      0.086     22.345      0.000       1.748       2.084\n",
      "month_11       2.2229      0.100     22.246      0.000       2.027       2.419\n",
      "month_12       2.1555      0.094     22.814      0.000       1.970       2.341\n",
      "==============================================================================\n"
     ]
    }
   ],
   "source": [
    "print(log_reg.summary())"
   ],
   "metadata": {
    "collapsed": false,
    "ExecuteTime": {
     "end_time": "2024-02-20T20:23:50.872699435Z",
     "start_time": "2024-02-20T20:23:50.714040327Z"
    }
   },
   "id": "2e0d1d8ba7de40aa"
  },
  {
   "cell_type": "code",
   "execution_count": 51,
   "outputs": [
    {
     "data": {
      "text/plain": "2019-05-24 19:00:00+00:00    0.915872\n2019-09-24 18:00:00+00:00    0.897944\n2020-03-04 00:00:00+00:00    0.856707\n2021-03-16 14:00:00+00:00    0.856707\n2019-09-24 14:00:00+00:00    0.897944\n                               ...   \n2020-09-03 12:00:00+00:00    0.897944\n2020-08-28 20:00:00+00:00    0.895938\n2020-11-01 18:00:00+00:00    0.902289\n2021-07-09 19:00:00+00:00    0.898381\n2019-11-05 21:00:00+00:00    0.902289\nLength: 4330, dtype: float64"
     },
     "execution_count": 51,
     "metadata": {},
     "output_type": "execute_result"
    }
   ],
   "source": [
    "yhat = log_reg.predict(X_test) \n",
    "prediction = list(map(round, yhat))\n",
    "yhat"
   ],
   "metadata": {
    "collapsed": false,
    "ExecuteTime": {
     "end_time": "2024-02-20T20:23:50.873998152Z",
     "start_time": "2024-02-20T20:23:50.714252316Z"
    }
   },
   "id": "69a990e8be57b095"
  },
  {
   "cell_type": "code",
   "execution_count": 52,
   "outputs": [
    {
     "name": "stdout",
     "output_type": "stream",
     "text": [
      "              precision    recall  f1-score   support\n",
      "\n",
      "           0       0.12      0.08      0.09       463\n",
      "           1       0.89      0.93      0.91      3867\n",
      "\n",
      "    accuracy                           0.84      4330\n",
      "   macro avg       0.51      0.50      0.50      4330\n",
      "weighted avg       0.81      0.84      0.82      4330\n"
     ]
    },
    {
     "data": {
      "text/plain": "array([[  36,  427],\n       [ 265, 3602]])"
     },
     "execution_count": 52,
     "metadata": {},
     "output_type": "execute_result"
    }
   ],
   "source": [
    "print(classification_report(y_test, prediction))\n",
    "confusion_matrix(y_test, prediction)\n"
   ],
   "metadata": {
    "collapsed": false,
    "ExecuteTime": {
     "end_time": "2024-02-20T20:23:50.874162072Z",
     "start_time": "2024-02-20T20:23:50.762092458Z"
    }
   },
   "id": "94986115e5963f3e"
  },
  {
   "cell_type": "code",
   "execution_count": 53,
   "outputs": [
    {
     "name": "stdout",
     "output_type": "stream",
     "text": [
      "Precision: out of all the times the model predicted the charger would be available, 89.402% of the time it actually was available\n",
      "Recall: out of all the times the charger was available, the model predicted the outcome correctly for 93.147% of those times\n",
      "F1 score: the precision recall balance of the model was 0.912\n",
      "support available:   3867\n",
      "support unavailable: 463\n"
     ]
    }
   ],
   "source": [
    "from sklearn.metrics import  f1_score, precision_score, recall_score\n",
    "print(f'Precision: out of all the times the model predicted the charger would be available, {np.round(precision_score(y_test, prediction)*100,3)}% of the time it actually was available')\n",
    "print(f'Recall: out of all the times the charger was available, the model predicted the outcome correctly for {np.round(recall_score(y_test, prediction)*100,3)}% of those times')\n",
    "print(f'F1 score: the precision recall balance of the model was {np.round(f1_score(y_test,prediction),3)}')\n",
    "print(f'support available:   {np.sum(y_test==1)}')\n",
    "print(f'support unavailable: {np.sum(y_test==0)}')\n"
   ],
   "metadata": {
    "collapsed": false,
    "ExecuteTime": {
     "end_time": "2024-02-20T20:23:50.874247264Z",
     "start_time": "2024-02-20T20:23:50.762316924Z"
    }
   },
   "id": "991143d46bad2153"
  },
  {
   "cell_type": "code",
   "execution_count": 54,
   "outputs": [
    {
     "data": {
      "text/plain": "                               tpr       fpr  accuracy  precision    recall  \\\nalways_available          1.000000  1.000000  0.893072   0.893072  1.000000   \nnever_available           0.000000  0.000000  0.106928   0.000000  0.000000   \nsk_log_reg_vanila_skf     0.997673  0.978402  0.893303   0.894920  0.997673   \nsk_log_reg_l1_skf         0.997673  0.976242  0.893533   0.895128  0.997673   \nsk_rf_classification_skf  0.960434  0.855292  0.873210   0.903650  0.960434   \nsm_log_reg_dow_skf        0.593225  0.453564  0.588222   0.916134  0.593225   \nsm_hour_sfk               0.962245  0.922246  0.867667   0.897059  0.962245   \nsm_month_hour_skf         0.997673  0.993521  0.891686   0.893469  0.997673   \nsm_month_hour_dow_skf     0.986553  0.956803  0.885681   0.895961  0.986553   \n\n                                f1  \nalways_available          0.943516  \nnever_available           0.000000  \nsk_log_reg_vanila_skf     0.943507  \nsk_log_reg_l1_skf         0.943622  \nsk_rf_classification_skf  0.931177  \nsm_log_reg_dow_skf        0.720138  \nsm_hour_sfk               0.928509  \nsm_month_hour_skf         0.942700  \nsm_month_hour_dow_skf     0.939077  ",
      "text/html": "<div>\n<style scoped>\n    .dataframe tbody tr th:only-of-type {\n        vertical-align: middle;\n    }\n\n    .dataframe tbody tr th {\n        vertical-align: top;\n    }\n\n    .dataframe thead th {\n        text-align: right;\n    }\n</style>\n<table border=\"1\" class=\"dataframe\">\n  <thead>\n    <tr style=\"text-align: right;\">\n      <th></th>\n      <th>tpr</th>\n      <th>fpr</th>\n      <th>accuracy</th>\n      <th>precision</th>\n      <th>recall</th>\n      <th>f1</th>\n    </tr>\n  </thead>\n  <tbody>\n    <tr>\n      <th>always_available</th>\n      <td>1.000000</td>\n      <td>1.000000</td>\n      <td>0.893072</td>\n      <td>0.893072</td>\n      <td>1.000000</td>\n      <td>0.943516</td>\n    </tr>\n    <tr>\n      <th>never_available</th>\n      <td>0.000000</td>\n      <td>0.000000</td>\n      <td>0.106928</td>\n      <td>0.000000</td>\n      <td>0.000000</td>\n      <td>0.000000</td>\n    </tr>\n    <tr>\n      <th>sk_log_reg_vanila_skf</th>\n      <td>0.997673</td>\n      <td>0.978402</td>\n      <td>0.893303</td>\n      <td>0.894920</td>\n      <td>0.997673</td>\n      <td>0.943507</td>\n    </tr>\n    <tr>\n      <th>sk_log_reg_l1_skf</th>\n      <td>0.997673</td>\n      <td>0.976242</td>\n      <td>0.893533</td>\n      <td>0.895128</td>\n      <td>0.997673</td>\n      <td>0.943622</td>\n    </tr>\n    <tr>\n      <th>sk_rf_classification_skf</th>\n      <td>0.960434</td>\n      <td>0.855292</td>\n      <td>0.873210</td>\n      <td>0.903650</td>\n      <td>0.960434</td>\n      <td>0.931177</td>\n    </tr>\n    <tr>\n      <th>sm_log_reg_dow_skf</th>\n      <td>0.593225</td>\n      <td>0.453564</td>\n      <td>0.588222</td>\n      <td>0.916134</td>\n      <td>0.593225</td>\n      <td>0.720138</td>\n    </tr>\n    <tr>\n      <th>sm_hour_sfk</th>\n      <td>0.962245</td>\n      <td>0.922246</td>\n      <td>0.867667</td>\n      <td>0.897059</td>\n      <td>0.962245</td>\n      <td>0.928509</td>\n    </tr>\n    <tr>\n      <th>sm_month_hour_skf</th>\n      <td>0.997673</td>\n      <td>0.993521</td>\n      <td>0.891686</td>\n      <td>0.893469</td>\n      <td>0.997673</td>\n      <td>0.942700</td>\n    </tr>\n    <tr>\n      <th>sm_month_hour_dow_skf</th>\n      <td>0.986553</td>\n      <td>0.956803</td>\n      <td>0.885681</td>\n      <td>0.895961</td>\n      <td>0.986553</td>\n      <td>0.939077</td>\n    </tr>\n  </tbody>\n</table>\n</div>"
     },
     "execution_count": 54,
     "metadata": {},
     "output_type": "execute_result"
    }
   ],
   "source": [
    "pd.DataFrame(results).T"
   ],
   "metadata": {
    "collapsed": false,
    "ExecuteTime": {
     "end_time": "2024-02-20T20:23:50.877883921Z",
     "start_time": "2024-02-20T20:23:50.762447303Z"
    }
   },
   "id": "39060099891284f"
  },
  {
   "cell_type": "code",
   "execution_count": 54,
   "outputs": [],
   "source": [],
   "metadata": {
    "collapsed": false,
    "ExecuteTime": {
     "end_time": "2024-02-20T20:23:50.877983350Z",
     "start_time": "2024-02-20T20:23:50.810116715Z"
    }
   },
   "id": "60b1f761ad50d958"
  },
  {
   "cell_type": "markdown",
   "source": [
    "# Interpreting model coefficients"
   ],
   "metadata": {
    "collapsed": false
   },
   "id": "b042a2451de495c"
  },
  {
   "cell_type": "code",
   "execution_count": 55,
   "outputs": [
    {
     "name": "stdout",
     "output_type": "stream",
     "text": [
      "prob of success 0.892949939372943\n",
      "prob of failure 0.10705006062705702\n",
      "odds of success 8.341423948220061\n",
      "log odds of success 2.121233938993369\n"
     ]
    }
   ],
   "source": [
    "# probability of ytrain\n",
    "p_success = y_train.mean()\n",
    "p_failure = 1- p_success\n",
    "odds = p_success/p_failure\n",
    "log_odds = np.log(odds)\n",
    "print(f'prob of success {p_success}\\nprob of failure {p_failure}\\nodds of success {odds}\\nlog odds of success {log_odds}')"
   ],
   "metadata": {
    "collapsed": false,
    "ExecuteTime": {
     "end_time": "2024-02-20T20:23:50.892978261Z",
     "start_time": "2024-02-20T20:23:50.810243870Z"
    }
   },
   "id": "faeb1ad223a2111a"
  },
  {
   "cell_type": "code",
   "execution_count": 56,
   "outputs": [
    {
     "name": "stdout",
     "output_type": "stream",
     "text": [
      "Optimization terminated successfully.\n",
      "         Current function value: 0.340303\n",
      "         Iterations 6\n"
     ]
    }
   ],
   "source": [
    "dummy_1 = pd.DataFrame([1]*len(y_train), columns=['intercept'], index=y_train.index)\n",
    "int_model = sm.Logit(y_train, dummy_1).fit()"
   ],
   "metadata": {
    "collapsed": false,
    "ExecuteTime": {
     "end_time": "2024-02-20T20:23:50.893158753Z",
     "start_time": "2024-02-20T20:23:50.810328579Z"
    }
   },
   "id": "d18429346aa626a4"
  },
  {
   "cell_type": "code",
   "execution_count": 57,
   "outputs": [
    {
     "name": "stdout",
     "output_type": "stream",
     "text": [
      "                           Logit Regression Results                           \n",
      "==============================================================================\n",
      "Dep. Variable:           is_available   No. Observations:                17319\n",
      "Model:                          Logit   Df Residuals:                    17318\n",
      "Method:                           MLE   Df Model:                            0\n",
      "Date:                Tue, 20 Feb 2024   Pseudo R-squ.:               3.623e-11\n",
      "Time:                        13:23:50   Log-Likelihood:                -5893.7\n",
      "converged:                       True   LL-Null:                       -5893.7\n",
      "Covariance Type:            nonrobust   LLR p-value:                       nan\n",
      "==============================================================================\n",
      "                 coef    std err          z      P>|z|      [0.025      0.975]\n",
      "------------------------------------------------------------------------------\n",
      "intercept      2.1212      0.025     86.309      0.000       2.073       2.169\n",
      "==============================================================================\n"
     ]
    }
   ],
   "source": [
    "print(int_model.summary())"
   ],
   "metadata": {
    "collapsed": false,
    "ExecuteTime": {
     "end_time": "2024-02-20T20:23:51.015556186Z",
     "start_time": "2024-02-20T20:23:50.810410353Z"
    }
   },
   "id": "8d1100bb9f6c9445"
  },
  {
   "cell_type": "code",
   "execution_count": 58,
   "outputs": [
    {
     "name": "stdout",
     "output_type": "stream",
     "text": [
      "the model intercept term is 2.121233938993369 which is the same as the log odds of the training set 2.121233938993369\n"
     ]
    }
   ],
   "source": [
    "print(f'the model intercept term is {int_model.params.iloc[0]} which is the same as the log odds of the training set {log_odds}')"
   ],
   "metadata": {
    "collapsed": false,
    "ExecuteTime": {
     "end_time": "2024-02-20T20:23:51.015764035Z",
     "start_time": "2024-02-20T20:23:50.854129892Z"
    }
   },
   "id": "b093841cd63ebd70"
  },
  {
   "cell_type": "code",
   "execution_count": 58,
   "outputs": [],
   "source": [],
   "metadata": {
    "collapsed": false,
    "ExecuteTime": {
     "end_time": "2024-02-20T20:23:51.015805236Z",
     "start_time": "2024-02-20T20:23:50.854374137Z"
    }
   },
   "id": "61057e79e29614eb"
  },
  {
   "cell_type": "markdown",
   "source": [
    "# new model"
   ],
   "metadata": {
    "collapsed": false
   },
   "id": "7d58fa01891ec680"
  },
  {
   "cell_type": "code",
   "execution_count": 59,
   "outputs": [
    {
     "data": {
      "text/plain": "                           dow  hour  month  is_holiday  is_weekend\n2019-03-25 00:00:00+00:00    0     0      3       False       False\n2019-03-25 01:00:00+00:00    0     1      3       False       False\n2019-03-25 02:00:00+00:00    0     2      3       False       False\n2019-03-25 03:00:00+00:00    0     3      3       False       False\n2019-03-25 04:00:00+00:00    0     4      3       False       False\n...                        ...   ...    ...         ...         ...\n2021-09-11 20:00:00+00:00    5    20      9       False        True\n2021-09-11 21:00:00+00:00    5    21      9       False        True\n2021-09-11 22:00:00+00:00    5    22      9       False        True\n2021-09-11 23:00:00+00:00    5    23      9       False        True\n2021-09-12 00:00:00+00:00    6     0      9       False        True\n\n[21649 rows x 5 columns]",
      "text/html": "<div>\n<style scoped>\n    .dataframe tbody tr th:only-of-type {\n        vertical-align: middle;\n    }\n\n    .dataframe tbody tr th {\n        vertical-align: top;\n    }\n\n    .dataframe thead th {\n        text-align: right;\n    }\n</style>\n<table border=\"1\" class=\"dataframe\">\n  <thead>\n    <tr style=\"text-align: right;\">\n      <th></th>\n      <th>dow</th>\n      <th>hour</th>\n      <th>month</th>\n      <th>is_holiday</th>\n      <th>is_weekend</th>\n    </tr>\n  </thead>\n  <tbody>\n    <tr>\n      <th>2019-03-25 00:00:00+00:00</th>\n      <td>0</td>\n      <td>0</td>\n      <td>3</td>\n      <td>False</td>\n      <td>False</td>\n    </tr>\n    <tr>\n      <th>2019-03-25 01:00:00+00:00</th>\n      <td>0</td>\n      <td>1</td>\n      <td>3</td>\n      <td>False</td>\n      <td>False</td>\n    </tr>\n    <tr>\n      <th>2019-03-25 02:00:00+00:00</th>\n      <td>0</td>\n      <td>2</td>\n      <td>3</td>\n      <td>False</td>\n      <td>False</td>\n    </tr>\n    <tr>\n      <th>2019-03-25 03:00:00+00:00</th>\n      <td>0</td>\n      <td>3</td>\n      <td>3</td>\n      <td>False</td>\n      <td>False</td>\n    </tr>\n    <tr>\n      <th>2019-03-25 04:00:00+00:00</th>\n      <td>0</td>\n      <td>4</td>\n      <td>3</td>\n      <td>False</td>\n      <td>False</td>\n    </tr>\n    <tr>\n      <th>...</th>\n      <td>...</td>\n      <td>...</td>\n      <td>...</td>\n      <td>...</td>\n      <td>...</td>\n    </tr>\n    <tr>\n      <th>2021-09-11 20:00:00+00:00</th>\n      <td>5</td>\n      <td>20</td>\n      <td>9</td>\n      <td>False</td>\n      <td>True</td>\n    </tr>\n    <tr>\n      <th>2021-09-11 21:00:00+00:00</th>\n      <td>5</td>\n      <td>21</td>\n      <td>9</td>\n      <td>False</td>\n      <td>True</td>\n    </tr>\n    <tr>\n      <th>2021-09-11 22:00:00+00:00</th>\n      <td>5</td>\n      <td>22</td>\n      <td>9</td>\n      <td>False</td>\n      <td>True</td>\n    </tr>\n    <tr>\n      <th>2021-09-11 23:00:00+00:00</th>\n      <td>5</td>\n      <td>23</td>\n      <td>9</td>\n      <td>False</td>\n      <td>True</td>\n    </tr>\n    <tr>\n      <th>2021-09-12 00:00:00+00:00</th>\n      <td>6</td>\n      <td>0</td>\n      <td>9</td>\n      <td>False</td>\n      <td>True</td>\n    </tr>\n  </tbody>\n</table>\n<p>21649 rows × 5 columns</p>\n</div>"
     },
     "execution_count": 59,
     "metadata": {},
     "output_type": "execute_result"
    }
   ],
   "source": [
    "X['is_weekend'] = X['dow'].isin([5,6])\n",
    "X"
   ],
   "metadata": {
    "collapsed": false,
    "ExecuteTime": {
     "end_time": "2024-02-20T20:23:51.101387566Z",
     "start_time": "2024-02-20T20:23:50.858528442Z"
    }
   },
   "id": "5e0ff064bd0b75ed"
  },
  {
   "cell_type": "code",
   "execution_count": 60,
   "outputs": [
    {
     "name": "stdout",
     "output_type": "stream",
     "text": [
      "Optimization terminated successfully.\n",
      "         Current function value: 0.317798\n",
      "         Iterations 8\n",
      "                           Logit Regression Results                           \n",
      "==============================================================================\n",
      "Dep. Variable:           is_available   No. Observations:                16236\n",
      "Model:                          Logit   Df Residuals:                    16234\n",
      "Method:                           MLE   Df Model:                            1\n",
      "Date:                Tue, 20 Feb 2024   Pseudo R-squ.:                 0.07530\n",
      "Time:                        13:23:50   Log-Likelihood:                -5159.8\n",
      "converged:                       True   LL-Null:                       -5580.0\n",
      "Covariance Type:            nonrobust   LLR p-value:                8.916e-185\n",
      "===================================================================================\n",
      "                      coef    std err          z      P>|z|      [0.025      0.975]\n",
      "-----------------------------------------------------------------------------------\n",
      "const               1.7572      0.026     66.968      0.000       1.706       1.809\n",
      "is_weekend_True     2.5659      0.132     19.509      0.000       2.308       2.824\n",
      "===================================================================================\n"
     ]
    }
   ],
   "source": [
    "ohe = OneHotEncoder(sparse_output=False, drop='first')\n",
    "ohe.fit(X[['is_weekend']])\n",
    "ohe.transform(X[['is_weekend']])\n",
    "X_train, X_test, y_train, y_test = train_test_split(pd.DataFrame(ohe.transform(X[['is_weekend']]), columns=ohe.get_feature_names_out(), index=X.index), y)\n",
    "log_reg = sm.Logit(y_train, sm.add_constant(X_train)).fit() \n",
    "print(log_reg.summary())"
   ],
   "metadata": {
    "collapsed": false,
    "ExecuteTime": {
     "end_time": "2024-02-20T20:23:51.121434995Z",
     "start_time": "2024-02-20T20:23:50.902117546Z"
    }
   },
   "id": "53ab756536fa8a58"
  },
  {
   "cell_type": "markdown",
   "source": [
    "$logit(p/1-p) = \\beta_0 + \\beta_1*is_weekend$"
   ],
   "metadata": {
    "collapsed": false
   },
   "id": "dc1500cad6a6d3c6"
  },
  {
   "cell_type": "code",
   "execution_count": 61,
   "outputs": [
    {
     "name": "stdout",
     "output_type": "stream",
     "text": [
      "for weekdays...\n",
      "prob of success 0.8528598583030932\n",
      "prob of failure 0.1471401416969068\n",
      "odds of success 5.796241926012921\n",
      "log odds of success 1.7572097637552\n",
      "\n",
      "\n",
      "for weekends,\n",
      "prob of success 0.9869154869154869\n",
      "prob of failure 0.013084513084513083\n",
      "odds of success 75.42622950819673\n",
      "log odds of success 4.323155085982157\n",
      "\n",
      "\n",
      "the probaility of availability changes from 0.9869154869154869 to 0.8528598583030932, a difference of 15.718%\n"
     ]
    }
   ],
   "source": [
    "# not weekend, the log odds is 1.782\n",
    "# for the weekend, the log odds increases 2.3780, to 4.1606\n",
    "y_train[X_train.is_weekend_True==True]\n",
    "# probability of ytrain\n",
    "print('for weekdays...')\n",
    "p_success = y_train[X_train.is_weekend_True==False].mean()\n",
    "p_failure = 1- p_success\n",
    "odds = p_success/p_failure\n",
    "log_odds = np.log(odds)\n",
    "print(f'prob of success {p_success}\\nprob of failure {p_failure}\\nodds of success {odds}\\nlog odds of success {log_odds}')\n",
    "p_notweekend=p_success\n",
    "print('\\n\\nfor weekends,')\n",
    "p_success = y_train[X_train.is_weekend_True==True].mean()\n",
    "p_failure = 1- p_success\n",
    "odds = p_success/p_failure\n",
    "log_odds = np.log(odds)\n",
    "print(f'prob of success {p_success}\\nprob of failure {p_failure}\\nodds of success {odds}\\nlog odds of success {log_odds}')\n",
    "print(f'\\n\\nthe probaility of availability changes from {p_success} to {p_notweekend}, a difference of {np.round((p_success-p_notweekend)/p_notweekend*100,3)}%')"
   ],
   "metadata": {
    "collapsed": false,
    "ExecuteTime": {
     "end_time": "2024-02-20T20:23:51.121574427Z",
     "start_time": "2024-02-20T20:23:50.950015065Z"
    }
   },
   "id": "975cc8439d19e307"
  },
  {
   "cell_type": "code",
   "execution_count": 62,
   "outputs": [
    {
     "name": "stdout",
     "output_type": "stream",
     "text": [
      "probability of weekend availability 0.9869154869154868\n",
      "probability of weekday availability 0.8528598583030931\n"
     ]
    }
   ],
   "source": [
    "?log_reg\n",
    "lowt = log_reg.params.iloc[0] + log_reg.params.iloc[1]\n",
    "lowf = log_reg.params.iloc[0]\n",
    "prwt = np.exp(lowt)/(1+np.exp(lowt))\n",
    "prwf = np.exp(lowf)/(1+np.exp(lowf))\n",
    "print(f'probability of weekend availability {prwt}\\nprobability of weekday availability {prwf}')"
   ],
   "metadata": {
    "collapsed": false,
    "ExecuteTime": {
     "end_time": "2024-02-20T20:23:51.126279163Z",
     "start_time": "2024-02-20T20:23:50.950128169Z"
    }
   },
   "id": "56d7de501d3e7ef1"
  },
  {
   "cell_type": "code",
   "execution_count": 63,
   "outputs": [
    {
     "data": {
      "text/plain": "12.097514278865066"
     },
     "execution_count": 63,
     "metadata": {},
     "output_type": "execute_result"
    }
   ],
   "source": [
    "# weekend add 2.4 to the log odds of availability\n",
    "# p  exp(beta X)/ 1+ exp(beta X)\n",
    "# the weekend makes spot availability 2.4 times more likely to occur\n",
    "# the odds of is availability change by exp(2.49) time for c unit increase in x\n",
    "np.exp(2.493)"
   ],
   "metadata": {
    "collapsed": false,
    "ExecuteTime": {
     "end_time": "2024-02-20T20:23:51.126526571Z",
     "start_time": "2024-02-20T20:23:50.998096205Z"
    }
   },
   "id": "b9a334ef13ccb04a"
  },
  {
   "cell_type": "code",
   "execution_count": 64,
   "outputs": [
    {
     "name": "stdout",
     "output_type": "stream",
     "text": [
      "the change in log odds of the day being a weekend is 2.493\n",
      "that means that the change in odds is 12.097514278865066\n"
     ]
    }
   ],
   "source": [
    "print(f'the change in log odds of the day being a weekend is {2.493}')\n",
    "print(f'that means that the change in odds is {np.exp(2.493)}')"
   ],
   "metadata": {
    "collapsed": false,
    "ExecuteTime": {
     "end_time": "2024-02-20T20:23:51.126617618Z",
     "start_time": "2024-02-20T20:23:50.998245077Z"
    }
   },
   "id": "2c17aa0bfcaf2b2a"
  },
  {
   "cell_type": "code",
   "execution_count": 65,
   "outputs": [
    {
     "name": "stdout",
     "output_type": "stream",
     "text": [
      "0.854 0.986\n"
     ]
    }
   ],
   "source": [
    "is_weekend = 0\n",
    "P_non_weekend = np.exp(1.7667 + 2.4931 * is_weekend)/(1+np.exp(1.7667 + 2.4931 * is_weekend))\n",
    "is_weekend = 1\n",
    "P_weekend = np.exp(1.7667 + 2.4931 * is_weekend)/(1+np.exp(1.7667 + 2.4931 * is_weekend))\n",
    "print(np.round(P_non_weekend,3), np.round(P_weekend, 3))\n"
   ],
   "metadata": {
    "collapsed": false,
    "ExecuteTime": {
     "end_time": "2024-02-20T20:23:51.126694349Z",
     "start_time": "2024-02-20T20:23:50.998322211Z"
    }
   },
   "id": "a9b4d444c9ae77ae"
  },
  {
   "cell_type": "code",
   "execution_count": 65,
   "outputs": [],
   "source": [],
   "metadata": {
    "collapsed": false,
    "ExecuteTime": {
     "end_time": "2024-02-20T20:23:51.126730104Z",
     "start_time": "2024-02-20T20:23:50.998399896Z"
    }
   },
   "id": "6ebabfa62cad812c"
  },
  {
   "cell_type": "code",
   "execution_count": 66,
   "outputs": [
    {
     "data": {
      "text/plain": "0.9945447139365461"
     },
     "execution_count": 66,
     "metadata": {},
     "output_type": "execute_result"
    }
   ],
   "source": [
    "np.exp(5.2057)/(1+np.exp(5.2057))"
   ],
   "metadata": {
    "collapsed": false,
    "ExecuteTime": {
     "end_time": "2024-02-20T20:23:51.126836837Z",
     "start_time": "2024-02-20T20:23:50.998460856Z"
    }
   },
   "id": "dc2b361a044f347e"
  }
 ],
 "metadata": {
  "kernelspec": {
   "display_name": "Python 3",
   "language": "python",
   "name": "python3"
  },
  "language_info": {
   "codemirror_mode": {
    "name": "ipython",
    "version": 2
   },
   "file_extension": ".py",
   "mimetype": "text/x-python",
   "name": "python",
   "nbconvert_exporter": "python",
   "pygments_lexer": "ipython2",
   "version": "2.7.6"
  }
 },
 "nbformat": 4,
 "nbformat_minor": 5
}
