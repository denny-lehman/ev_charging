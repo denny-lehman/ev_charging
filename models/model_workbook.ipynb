{
 "cells": [
  {
   "cell_type": "markdown",
   "source": [
    "# Model evaluation notebook\n",
    "\n",
    "in this notebook we will evaluate % availability. definitions are:\n",
    "\n",
    "X = \n",
    "    location: site_id\n",
    "    time: hour, dow, weekend, is_holiday, \n",
    "    weather: temperature, dew point, relative humidity, wind direction, wind speed\n",
    "    grid: net demand, solar, wind\n",
    "y = % available (for site)\n",
    "\n",
    "this will work for all sites.\n",
    "\n",
    "How will we do train test split?\n",
    "random 80-20 for now \n"
   ],
   "metadata": {
    "collapsed": false
   },
   "id": "6f902f119a45de93"
  },
  {
   "cell_type": "code",
   "execution_count": 1,
   "outputs": [
    {
     "name": "stdout",
     "output_type": "stream",
     "text": [
      "in the right place!\n"
     ]
    },
    {
     "data": {
      "text/plain": "'/home/denny/Documents/mids/ev_charging'"
     },
     "execution_count": 1,
     "metadata": {},
     "output_type": "execute_result"
    }
   ],
   "source": [
    "import os\n",
    "if 'models' == os.getcwd().split('/')[-1]: os.chdir('..')\n",
    "if 'ev_charging' == os.getcwd().split('/')[-1]: print('in the right place!')\n",
    "else: os.chdir('/Users/varunvenkatesh/Documents/Github/ev_charging')\n",
    "os.getcwd()"
   ],
   "metadata": {
    "collapsed": false,
    "ExecuteTime": {
     "end_time": "2024-04-10T06:58:05.146308479Z",
     "start_time": "2024-04-10T06:58:04.339452489Z"
    }
   },
   "id": "85706eb52fbfa576"
  },
  {
   "cell_type": "code",
   "execution_count": 2,
   "outputs": [],
   "source": [
    "import pandas as pd\n",
    "from src.weather import get_processed_hourly_7day_weather\n"
   ],
   "metadata": {
    "collapsed": false,
    "ExecuteTime": {
     "end_time": "2024-04-10T06:58:06.699982886Z",
     "start_time": "2024-04-10T06:58:04.349188363Z"
    }
   },
   "id": "6709b7eb792a8e6d"
  },
  {
   "cell_type": "markdown",
   "source": [
    "# Get historical weather"
   ],
   "metadata": {
    "collapsed": false
   },
   "id": "97356fe1df2a3e91"
  },
  {
   "cell_type": "code",
   "execution_count": 3,
   "outputs": [],
   "source": [
    "historical_weather = pd.DataFrame({})\n",
    "weather_features = ['temperature_degC', 'dewpoint_degC','relative_humidity_%', 'wind_speed_mph']\n",
    "hist_weather = pd.read_csv('./data/caltech_historical_weather.csv').set_index('time')[weather_features]\n",
    "hist_weather['site'] = 'Caltech'\n",
    "if historical_weather.empty: \n",
    "    historical_weather = hist_weather\n",
    "else:\n",
    "    historical_weather = pd.concat([historical_weather, hist_weather], axis=0)"
   ],
   "metadata": {
    "collapsed": false,
    "ExecuteTime": {
     "end_time": "2024-04-10T06:58:06.700306853Z",
     "start_time": "2024-04-10T06:58:04.676965835Z"
    }
   },
   "id": "1bb702358b8fce"
  },
  {
   "cell_type": "code",
   "execution_count": 4,
   "outputs": [],
   "source": [
    "weather_features = ['temperature_degC', 'dewpoint_degC','relative_humidity_%', 'wind_speed_mph']\n",
    "hist_weather = pd.read_csv('./data/caltech_historical_weather.csv').set_index('time')[weather_features]\n",
    "hist_weather['site'] = 'JPL'\n",
    "if historical_weather.empty: \n",
    "    historical_weather = hist_weather\n",
    "else:\n",
    "    historical_weather = pd.concat([historical_weather, hist_weather], axis=0)"
   ],
   "metadata": {
    "collapsed": false,
    "ExecuteTime": {
     "end_time": "2024-04-10T06:58:06.700448429Z",
     "start_time": "2024-04-10T06:58:04.690468860Z"
    }
   },
   "id": "3ef08baf0a5012d9"
  },
  {
   "cell_type": "code",
   "execution_count": 5,
   "outputs": [],
   "source": [
    "weather_features = ['temperature_degC', 'dewpoint_degC','relative_humidity_%', 'wind_speed_mph']\n",
    "hist_weather = pd.read_csv('./data/office_historical_weather.csv').set_index('time')[weather_features]\n",
    "hist_weather['site'] = 'Office001'\n",
    "if historical_weather.empty: \n",
    "    historical_weather = hist_weather\n",
    "else:\n",
    "    historical_weather = pd.concat([historical_weather, hist_weather], axis=0)"
   ],
   "metadata": {
    "collapsed": false,
    "ExecuteTime": {
     "end_time": "2024-04-10T06:58:06.700651772Z",
     "start_time": "2024-04-10T06:58:04.751291930Z"
    }
   },
   "id": "69281de520f4f11"
  },
  {
   "cell_type": "code",
   "execution_count": 6,
   "outputs": [],
   "source": [
    "historical_weather.index = pd.to_datetime(historical_weather.index).tz_localize('UTC-07:00')"
   ],
   "metadata": {
    "collapsed": false,
    "ExecuteTime": {
     "end_time": "2024-04-10T06:58:06.700874079Z",
     "start_time": "2024-04-10T06:58:04.827805553Z"
    }
   },
   "id": "509ba7de77618163"
  },
  {
   "cell_type": "code",
   "execution_count": 7,
   "outputs": [
    {
     "name": "stdout",
     "output_type": "stream",
     "text": [
      "<class 'pandas.core.frame.DataFrame'>\n",
      "RangeIndex: 97416 entries, 0 to 97415\n",
      "Data columns (total 6 columns):\n",
      " #   Column               Non-Null Count  Dtype                    \n",
      "---  ------               --------------  -----                    \n",
      " 0   time                 97416 non-null  datetime64[ns, UTC-07:00]\n",
      " 1   temperature_degC     97408 non-null  float64                  \n",
      " 2   dewpoint_degC        97405 non-null  float64                  \n",
      " 3   relative_humidity_%  97405 non-null  float64                  \n",
      " 4   wind_speed_mph       97407 non-null  float64                  \n",
      " 5   site                 97416 non-null  object                   \n",
      "dtypes: datetime64[ns, UTC-07:00](1), float64(4), object(1)\n",
      "memory usage: 4.5+ MB\n"
     ]
    }
   ],
   "source": [
    "# historical_weather.site.unique()\n",
    "historical_weather.reset_index().info()"
   ],
   "metadata": {
    "collapsed": false,
    "ExecuteTime": {
     "end_time": "2024-04-10T06:58:06.701019386Z",
     "start_time": "2024-04-10T06:58:04.868769039Z"
    }
   },
   "id": "5e2ee9c0d59b9eda"
  },
  {
   "cell_type": "markdown",
   "source": [
    "# get future weather"
   ],
   "metadata": {
    "collapsed": false
   },
   "id": "9dbf4a4ca7914e47"
  },
  {
   "cell_type": "code",
   "execution_count": 8,
   "outputs": [
    {
     "name": "stdout",
     "output_type": "stream",
     "text": [
      "https://api.weather.gov/points/34.134785646454844,-118.11691382579643\n",
      "status code: 200\n",
      "https://api.weather.gov/gridpoints/LOX/160,48/forecast/hourly\n"
     ]
    }
   ],
   "source": [
    "from src.weather import get_processed_hourly_7day_weather\n",
    "site2latlon = {'Caltech':(34.134785646454844, -118.11691382579643),\n",
    "               'Office001':(37.33680466796926, -121.90743423142634),\n",
    "               'JPL':(34.20142342818471, -118.17126565774107)}\n",
    "future_weather = get_processed_hourly_7day_weather(*site2latlon['Caltech'])"
   ],
   "metadata": {
    "collapsed": false,
    "ExecuteTime": {
     "end_time": "2024-04-10T06:58:06.808448372Z",
     "start_time": "2024-04-10T06:58:04.868888901Z"
    }
   },
   "id": "dd4be84ceb45727c"
  },
  {
   "cell_type": "code",
   "execution_count": 9,
   "outputs": [],
   "source": [
    "# save if needed\n",
    "future_weather.to_csv('data/test_future_weather.csv')"
   ],
   "metadata": {
    "collapsed": false,
    "ExecuteTime": {
     "end_time": "2024-04-10T06:58:06.808679757Z",
     "start_time": "2024-04-10T06:58:05.166602484Z"
    }
   },
   "id": "76f6abd671052a2e"
  },
  {
   "cell_type": "markdown",
   "source": [
    " confirm that past and future weather have the same features"
   ],
   "metadata": {
    "collapsed": false
   },
   "id": "27db04112e197a72"
  },
  {
   "cell_type": "code",
   "execution_count": 10,
   "outputs": [
    {
     "name": "stdout",
     "output_type": "stream",
     "text": [
      "future weather features are \n",
      "['temperature_degC', 'dewpoint_degC', 'relative_humidity_%', 'wind_speed_mph'], \n",
      "and historical weather features are \n",
      "['temperature_degC', 'dewpoint_degC', 'relative_humidity_%', 'wind_speed_mph']\n"
     ]
    }
   ],
   "source": [
    "print(f'future weather features are \\n{list(future_weather[weather_features].columns)}, \\nand historical weather features are \\n{list(hist_weather[weather_features].columns)}')"
   ],
   "metadata": {
    "collapsed": false,
    "ExecuteTime": {
     "end_time": "2024-04-10T06:58:06.808890837Z",
     "start_time": "2024-04-10T06:58:05.176047793Z"
    }
   },
   "id": "ddb6266f58ac96d9"
  },
  {
   "cell_type": "code",
   "execution_count": 10,
   "outputs": [],
   "source": [],
   "metadata": {
    "collapsed": false,
    "ExecuteTime": {
     "end_time": "2024-04-10T06:58:06.809004990Z",
     "start_time": "2024-04-10T06:58:05.220780870Z"
    }
   },
   "id": "97bec3d343455f51"
  },
  {
   "cell_type": "markdown",
   "source": [
    "# get caiso data"
   ],
   "metadata": {
    "collapsed": false
   },
   "id": "4b2bbf733f2861c6"
  },
  {
   "cell_type": "code",
   "execution_count": 11,
   "outputs": [],
   "source": [
    "from src import oasis\n",
    "import datetime\n",
    "import pandas as pd\n",
    "from src.oasis import SystemDemand\n",
    "import urllib\n",
    "import datetime\n",
    "sd = SystemDemand()"
   ],
   "metadata": {
    "collapsed": false,
    "ExecuteTime": {
     "end_time": "2024-04-10T06:58:06.809087718Z",
     "start_time": "2024-04-10T06:58:05.220864836Z"
    }
   },
   "id": "3b2e6b38d33461e5"
  },
  {
   "cell_type": "code",
   "execution_count": 12,
   "outputs": [],
   "source": [
    "start = datetime.datetime(2024,4,8)\n",
    "end = datetime.datetime(2024,4,9)\n",
    "demand_forecast = sd.get_demand_forecast(start, end)"
   ],
   "metadata": {
    "collapsed": false,
    "ExecuteTime": {
     "end_time": "2024-04-10T06:58:11.805546367Z",
     "start_time": "2024-04-10T06:58:05.220895508Z"
    }
   },
   "id": "40928a7962e89fa8"
  },
  {
   "cell_type": "code",
   "execution_count": 13,
   "outputs": [
    {
     "name": "stdout",
     "output_type": "stream",
     "text": [
      "<class 'pandas.core.frame.DataFrame'>\n",
      "RangeIndex: 16693 entries, 0 to 16692\n",
      "Data columns (total 15 columns):\n",
      " #   Column                 Non-Null Count  Dtype  \n",
      "---  ------                 --------------  -----  \n",
      " 0   index                  16693 non-null  int64  \n",
      " 1   INTERVALSTARTTIME_GMT  16693 non-null  object \n",
      " 2   INTERVALENDTIME_GMT    16693 non-null  object \n",
      " 3   LOAD_TYPE              16693 non-null  int64  \n",
      " 4   OPR_DT                 16693 non-null  object \n",
      " 5   OPR_HR                 16693 non-null  int64  \n",
      " 6   OPR_INTERVAL           16693 non-null  int64  \n",
      " 7   MARKET_RUN_ID          16693 non-null  object \n",
      " 8   TAC_AREA_NAME          16693 non-null  object \n",
      " 9   LABEL                  16693 non-null  object \n",
      " 10  XML_DATA_ITEM          16693 non-null  object \n",
      " 11  POS                    16693 non-null  float64\n",
      " 12  MW                     16693 non-null  float64\n",
      " 13  EXECUTION_TYPE         16693 non-null  object \n",
      " 14  GROUP                  16693 non-null  int64  \n",
      "dtypes: float64(2), int64(5), object(8)\n",
      "memory usage: 1.9+ MB\n"
     ]
    }
   ],
   "source": [
    "demand_forecast.reset_index().info()"
   ],
   "metadata": {
    "collapsed": false,
    "ExecuteTime": {
     "end_time": "2024-04-10T06:58:11.853635222Z",
     "start_time": "2024-04-10T06:58:11.808449717Z"
    }
   },
   "id": "bfe3398849393dba"
  },
  {
   "cell_type": "markdown",
   "source": [
    "# Get historical demand"
   ],
   "metadata": {
    "collapsed": false
   },
   "id": "bdda3299d172259f"
  },
  {
   "cell_type": "markdown",
   "source": [
    "the data from the request is the bytes for a zip file. to get it to a pandas dataframe,\n",
    "1. read the content with the io.BytesIO\n",
    "2. open the bytes as a zip file with ZipFile\n",
    "3. open the zip file by getting the first (and only) name in the extraction\n",
    "4. read the data using the .read() method of the file object\n",
    "5. convert the raw data to a string with BytesIO again\n",
    "6. read the bytes to a dataframe with the pd.read_csv file"
   ],
   "metadata": {
    "collapsed": false
   },
   "id": "5035bd21b17325eb"
  },
  {
   "cell_type": "code",
   "execution_count": 14,
   "outputs": [],
   "source": [
    "historical_caiso_actual_load = pd.read_csv('data/historical_caiso_actual_load.csv', index_col=[0])"
   ],
   "metadata": {
    "collapsed": false,
    "ExecuteTime": {
     "end_time": "2024-04-10T06:58:12.083382078Z",
     "start_time": "2024-04-10T06:58:11.848904002Z"
    }
   },
   "id": "a813d651f242fdd0"
  },
  {
   "cell_type": "code",
   "execution_count": 15,
   "outputs": [],
   "source": [
    "TACS = ['SCE-TAC', 'PGE-TAC']\n",
    "MARKET_RUN_IDS = ['ACTUAL']"
   ],
   "metadata": {
    "collapsed": false,
    "ExecuteTime": {
     "end_time": "2024-04-10T06:58:12.086929229Z",
     "start_time": "2024-04-10T06:58:12.084135264Z"
    }
   },
   "id": "59bdf754fb96d4c7"
  },
  {
   "cell_type": "code",
   "execution_count": 16,
   "outputs": [],
   "source": [
    "historical_caiso_actual_load['datetime'] = pd.to_datetime(historical_caiso_actual_load['OPR_DT']) + pd.to_timedelta(historical_caiso_actual_load['OPR_HR'], unit='h')\n",
    "historical_caiso_actual_load = historical_caiso_actual_load[\n",
    "    (historical_caiso_actual_load['TAC_AREA_NAME'].isin(TACS)) &\n",
    "    (historical_caiso_actual_load['MARKET_RUN_ID'].isin(MARKET_RUN_IDS))\n",
    "]"
   ],
   "metadata": {
    "collapsed": false,
    "ExecuteTime": {
     "end_time": "2024-04-10T06:58:12.137032225Z",
     "start_time": "2024-04-10T06:58:12.087386152Z"
    }
   },
   "id": "7e53b589a8e305a1"
  },
  {
   "cell_type": "code",
   "execution_count": 17,
   "outputs": [],
   "source": [
    "\n",
    "demand_forecast['datetime'] = pd.to_datetime(demand_forecast['OPR_DT']) + pd.to_timedelta(demand_forecast['OPR_HR'], unit='h')\n",
    "demand_forecast = demand_forecast[\n",
    "    (demand_forecast['TAC_AREA_NAME'].isin(TACS)) &\n",
    "    (demand_forecast['MARKET_RUN_ID'].isin(MARKET_RUN_IDS))\n",
    "]"
   ],
   "metadata": {
    "collapsed": false,
    "ExecuteTime": {
     "end_time": "2024-04-10T06:58:12.184932655Z",
     "start_time": "2024-04-10T06:58:12.138833220Z"
    }
   },
   "id": "1ae4c2c649924a4f"
  },
  {
   "cell_type": "code",
   "execution_count": 18,
   "outputs": [],
   "source": [
    "demand_features = ['datetime', 'TAC_AREA_NAME', 'MARKET_RUN_ID', 'MW']"
   ],
   "metadata": {
    "collapsed": false,
    "ExecuteTime": {
     "end_time": "2024-04-10T06:58:12.185169424Z",
     "start_time": "2024-04-10T06:58:12.184814976Z"
    }
   },
   "id": "57e6e4697618954e"
  },
  {
   "cell_type": "code",
   "execution_count": 19,
   "outputs": [
    {
     "data": {
      "text/plain": "array([ True,  True,  True,  True])"
     },
     "execution_count": 19,
     "metadata": {},
     "output_type": "execute_result"
    }
   ],
   "source": [
    "demand_forecast[demand_features].columns == historical_caiso_actual_load[demand_features].columns"
   ],
   "metadata": {
    "collapsed": false,
    "ExecuteTime": {
     "end_time": "2024-04-10T06:58:12.191136950Z",
     "start_time": "2024-04-10T06:58:12.185017226Z"
    }
   },
   "id": "9e998b74bf4e76d7"
  },
  {
   "cell_type": "code",
   "execution_count": 20,
   "outputs": [
    {
     "name": "stdout",
     "output_type": "stream",
     "text": [
      "<class 'pandas.core.frame.DataFrame'>\n",
      "RangeIndex: 48 entries, 0 to 47\n",
      "Data columns (total 16 columns):\n",
      " #   Column                 Non-Null Count  Dtype         \n",
      "---  ------                 --------------  -----         \n",
      " 0   index                  48 non-null     int64         \n",
      " 1   INTERVALSTARTTIME_GMT  48 non-null     object        \n",
      " 2   INTERVALENDTIME_GMT    48 non-null     object        \n",
      " 3   LOAD_TYPE              48 non-null     int64         \n",
      " 4   OPR_DT                 48 non-null     object        \n",
      " 5   OPR_HR                 48 non-null     int64         \n",
      " 6   OPR_INTERVAL           48 non-null     int64         \n",
      " 7   MARKET_RUN_ID          48 non-null     object        \n",
      " 8   TAC_AREA_NAME          48 non-null     object        \n",
      " 9   LABEL                  48 non-null     object        \n",
      " 10  XML_DATA_ITEM          48 non-null     object        \n",
      " 11  POS                    48 non-null     float64       \n",
      " 12  MW                     48 non-null     float64       \n",
      " 13  EXECUTION_TYPE         48 non-null     object        \n",
      " 14  GROUP                  48 non-null     int64         \n",
      " 15  datetime               48 non-null     datetime64[ns]\n",
      "dtypes: datetime64[ns](1), float64(2), int64(5), object(8)\n",
      "memory usage: 6.1+ KB\n"
     ]
    }
   ],
   "source": [
    "demand_forecast.reset_index().info()"
   ],
   "metadata": {
    "collapsed": false,
    "ExecuteTime": {
     "end_time": "2024-04-10T06:58:12.191484365Z",
     "start_time": "2024-04-10T06:58:12.185087649Z"
    }
   },
   "id": "19feb123853ab34a"
  },
  {
   "cell_type": "markdown",
   "source": [
    "# Modeling"
   ],
   "metadata": {
    "collapsed": false
   },
   "id": "8a23eded11db53c2"
  },
  {
   "cell_type": "code",
   "execution_count": 21,
   "outputs": [],
   "source": [
    "import numpy as np\n",
    "import pandas as pd\n",
    "import matplotlib.pyplot as plt\n",
    "from xgboost import XGBRegressor\n",
    "\n",
    "from datetime import datetime\n",
    "\n",
    "from sklearn.preprocessing import OneHotEncoder\n",
    "from sklearn.model_selection import train_test_split\n",
    "from sklearn.metrics import mean_squared_error, r2_score\n",
    "from sklearn.pipeline import Pipeline\n",
    "\n",
    "from src.data_preprocessing import  datetime_processing, userinput_processing, holiday_processing, create_all_site_x, create_all_site_y, create_x, update_varuns_x, get_start_end_times"
   ],
   "metadata": {
    "collapsed": false,
    "ExecuteTime": {
     "end_time": "2024-04-10T06:58:12.743207965Z",
     "start_time": "2024-04-10T06:58:12.185147917Z"
    }
   },
   "id": "4a2510ab81481d7f"
  },
  {
   "cell_type": "code",
   "execution_count": 22,
   "outputs": [],
   "source": [
    "df_c = pd.read_parquet('data/sessions/caltech/').reset_index(drop=True)\n",
    "df_c = datetime_processing(df_c)\n",
    "df_c = userinput_processing(df_c)\n",
    "\n",
    "df_j = pd.read_parquet('data/sessions/jpl/').reset_index(drop=True)\n",
    "df_j = datetime_processing(df_j)\n",
    "df_j = userinput_processing(df_j)\n",
    "\n",
    "df_o = pd.read_parquet('data/sessions/office001/').reset_index(drop=True)\n",
    "df_o = datetime_processing(df_o)\n",
    "df_o = userinput_processing(df_o)\n",
    "\n",
    "cols = list(df_c.columns)\n",
    "df = pd.concat([df_c[cols], df_j[cols], df_o[cols]], axis=0)"
   ],
   "metadata": {
    "collapsed": false,
    "ExecuteTime": {
     "end_time": "2024-04-10T06:58:24.999938426Z",
     "start_time": "2024-04-10T06:58:12.745980960Z"
    }
   },
   "id": "d71cbd73781dd7d7"
  },
  {
   "cell_type": "code",
   "execution_count": 23,
   "outputs": [
    {
     "name": "stdout",
     "output_type": "stream",
     "text": [
      "df is a dataframe comprised of these site ids: [2, 1, 19]\n"
     ]
    }
   ],
   "source": [
    "print(f'df is a dataframe comprised of these site ids: {list(df.siteID.unique())}')"
   ],
   "metadata": {
    "collapsed": false,
    "ExecuteTime": {
     "end_time": "2024-04-10T06:58:25.006590793Z",
     "start_time": "2024-04-10T06:58:25.001007644Z"
    }
   },
   "id": "a8d43c3fdffd361f"
  },
  {
   "cell_type": "markdown",
   "source": [
    "# Make X and y\n",
    "\n",
    "X contains 4 different sets of data - location, datetime, weather, energy demand"
   ],
   "metadata": {
    "collapsed": false
   },
   "id": "a458bbe4a0e332b"
  },
  {
   "cell_type": "code",
   "execution_count": 23,
   "outputs": [],
   "source": [],
   "metadata": {
    "collapsed": false,
    "ExecuteTime": {
     "end_time": "2024-04-10T06:58:25.006966144Z",
     "start_time": "2024-04-10T06:58:25.002804234Z"
    }
   },
   "id": "757cc4c9f73bdfeb"
  },
  {
   "cell_type": "code",
   "execution_count": 24,
   "outputs": [],
   "source": [
    "X = pd.DataFrame()\n",
    "sites_df = [df_o,df_c,df_j]\n",
    "sites = ['Office001','Caltech','JPL']\n",
    "site_ids = [2,1,19]\n",
    "site2id = { k:v for (k,v) in zip(sites, site_ids)}\n",
    "site2tac = {2:'PGE-TAC',\n",
    "            1:'SCE-TAC',\n",
    "            19:'SCE-TAC',\n",
    "            }\n",
    "    "
   ],
   "metadata": {
    "collapsed": false,
    "ExecuteTime": {
     "end_time": "2024-04-10T06:58:25.081933263Z",
     "start_time": "2024-04-10T06:58:25.005673162Z"
    }
   },
   "id": "69c95d83d6dd859"
  },
  {
   "cell_type": "code",
   "execution_count": 24,
   "outputs": [],
   "source": [],
   "metadata": {
    "collapsed": false,
    "ExecuteTime": {
     "end_time": "2024-04-10T06:58:25.092276506Z",
     "start_time": "2024-04-10T06:58:25.048816089Z"
    }
   },
   "id": "17f3cc928f54a4d"
  },
  {
   "cell_type": "code",
   "execution_count": 25,
   "outputs": [
    {
     "name": "stdout",
     "output_type": "stream",
     "text": [
      "Office001 2019-03-25 2021-09-12\n",
      "Caltech 2018-05-01 2021-09-14\n",
      "JPL 2018-09-05 2021-09-13\n"
     ]
    },
    {
     "data": {
      "text/plain": "                           dow  hour  month  is_holiday  actual_demand_MW  \\\n2019-03-25 00:00:00-07:00    0     0      3       False            9470.0   \n2019-03-25 01:00:00-07:00    0     1      3       False            9036.0   \n2019-03-25 02:00:00-07:00    0     2      3       False            8963.0   \n2019-03-25 03:00:00-07:00    0     3      3       False            8818.0   \n2019-03-25 04:00:00-07:00    0     4      3       False            8840.0   \n\n                           temperature_degC  dewpoint_degC  \\\n2019-03-25 00:00:00-07:00              18.9           -1.6   \n2019-03-25 01:00:00-07:00              19.4           -1.7   \n2019-03-25 02:00:00-07:00              15.0           -2.0   \n2019-03-25 03:00:00-07:00              13.3           -2.2   \n2019-03-25 04:00:00-07:00              13.3           -1.9   \n\n                           relative_humidity_%  wind_speed_mph       site  \n2019-03-25 00:00:00-07:00                 25.0            9.20  Office001  \n2019-03-25 01:00:00-07:00                 24.0            6.96  Office001  \n2019-03-25 02:00:00-07:00                 31.0           14.98  Office001  \n2019-03-25 03:00:00-07:00                 34.0           10.31  Office001  \n2019-03-25 04:00:00-07:00                 35.0            0.00  Office001  ",
      "text/html": "<div>\n<style scoped>\n    .dataframe tbody tr th:only-of-type {\n        vertical-align: middle;\n    }\n\n    .dataframe tbody tr th {\n        vertical-align: top;\n    }\n\n    .dataframe thead th {\n        text-align: right;\n    }\n</style>\n<table border=\"1\" class=\"dataframe\">\n  <thead>\n    <tr style=\"text-align: right;\">\n      <th></th>\n      <th>dow</th>\n      <th>hour</th>\n      <th>month</th>\n      <th>is_holiday</th>\n      <th>actual_demand_MW</th>\n      <th>temperature_degC</th>\n      <th>dewpoint_degC</th>\n      <th>relative_humidity_%</th>\n      <th>wind_speed_mph</th>\n      <th>site</th>\n    </tr>\n  </thead>\n  <tbody>\n    <tr>\n      <th>2019-03-25 00:00:00-07:00</th>\n      <td>0</td>\n      <td>0</td>\n      <td>3</td>\n      <td>False</td>\n      <td>9470.0</td>\n      <td>18.9</td>\n      <td>-1.6</td>\n      <td>25.0</td>\n      <td>9.20</td>\n      <td>Office001</td>\n    </tr>\n    <tr>\n      <th>2019-03-25 01:00:00-07:00</th>\n      <td>0</td>\n      <td>1</td>\n      <td>3</td>\n      <td>False</td>\n      <td>9036.0</td>\n      <td>19.4</td>\n      <td>-1.7</td>\n      <td>24.0</td>\n      <td>6.96</td>\n      <td>Office001</td>\n    </tr>\n    <tr>\n      <th>2019-03-25 02:00:00-07:00</th>\n      <td>0</td>\n      <td>2</td>\n      <td>3</td>\n      <td>False</td>\n      <td>8963.0</td>\n      <td>15.0</td>\n      <td>-2.0</td>\n      <td>31.0</td>\n      <td>14.98</td>\n      <td>Office001</td>\n    </tr>\n    <tr>\n      <th>2019-03-25 03:00:00-07:00</th>\n      <td>0</td>\n      <td>3</td>\n      <td>3</td>\n      <td>False</td>\n      <td>8818.0</td>\n      <td>13.3</td>\n      <td>-2.2</td>\n      <td>34.0</td>\n      <td>10.31</td>\n      <td>Office001</td>\n    </tr>\n    <tr>\n      <th>2019-03-25 04:00:00-07:00</th>\n      <td>0</td>\n      <td>4</td>\n      <td>3</td>\n      <td>False</td>\n      <td>8840.0</td>\n      <td>13.3</td>\n      <td>-1.9</td>\n      <td>35.0</td>\n      <td>0.00</td>\n      <td>Office001</td>\n    </tr>\n  </tbody>\n</table>\n</div>"
     },
     "execution_count": 25,
     "metadata": {},
     "output_type": "execute_result"
    }
   ],
   "source": [
    "X = pd.DataFrame()\n",
    "for sdf, id, site_name in zip(sites_df, site_ids, sites):\n",
    "    start, end = get_start_end_times(sdf)\n",
    "    print(site_name, start, end)\n",
    "    # time\n",
    "    x = pd.DataFrame(index=pd.date_range(start, end, inclusive='both', freq='h', tz='UTC-07:00'),\n",
    "                     columns=['dow', 'hour', 'month'])\n",
    "    x['dow'] = x.index.dayofweek\n",
    "    x['hour'] = x.index.hour\n",
    "    x['month'] = x.index.month\n",
    "    \n",
    "    x = holiday_processing(x)\n",
    "    \n",
    "    # print('x rows: ', x.shape[0])\n",
    "    # energy demand\n",
    "    demand = historical_caiso_actual_load[demand_features].set_index('datetime').rename(columns={'MW':'actual_demand_MW'}).sort_index()\n",
    "    demand = demand[demand['TAC_AREA_NAME'] == site2tac[id]][['actual_demand_MW']]\n",
    "    demand.index = pd.to_datetime(demand.index).tz_localize('UTC-07:00')\n",
    "    demand = demand.loc[x.index.min():x.index.max(),:]\n",
    "    # print('dem rows', demand.shape[0])\n",
    "    \n",
    "    x = pd.merge(x,demand, left_index=True, right_index=True, how='left')\n",
    "    \n",
    "    # weather and location\n",
    "    weather = historical_weather[historical_weather['site']==site_name]\n",
    "    weather = weather.loc[x.index.min():x.index.max(), :]\n",
    "    # print('weather rows:', weather.shape[0])\n",
    "    x = pd.merge(x, weather, left_index=True, right_index=True, how='left')\n",
    "    # print('together rows: ', x.shape[0])\n",
    "    if X.empty:\n",
    "        X = x\n",
    "    else:\n",
    "        X = pd.concat([X, x], axis=0)\n",
    "\n",
    "X.head()"
   ],
   "metadata": {
    "collapsed": false,
    "ExecuteTime": {
     "end_time": "2024-04-10T06:58:25.185578551Z",
     "start_time": "2024-04-10T06:58:25.048951628Z"
    }
   },
   "id": "597f405d35d57ef3"
  },
  {
   "cell_type": "markdown",
   "source": [
    "We've introduced duplicates based on daylight savings. Remove them"
   ],
   "metadata": {
    "collapsed": false
   },
   "id": "d5b94a463d3ef16a"
  },
  {
   "cell_type": "code",
   "execution_count": 26,
   "outputs": [
    {
     "data": {
      "text/plain": "index                      site     \n2019-11-04 01:00:00-07:00  JPL          2\n                           Caltech      2\n2018-11-05 01:00:00-07:00  Caltech      2\n                           JPL          2\n2019-11-04 01:00:00-07:00  Office001    2\n2020-09-18 07:00:00-07:00  Office001    1\n                           JPL          1\nName: count, dtype: int64"
     },
     "execution_count": 26,
     "metadata": {},
     "output_type": "execute_result"
    }
   ],
   "source": [
    "X.reset_index()[['index','site']].value_counts().head(7)"
   ],
   "metadata": {
    "collapsed": false,
    "ExecuteTime": {
     "end_time": "2024-04-10T06:58:25.239264447Z",
     "start_time": "2024-04-10T06:58:25.179029495Z"
    }
   },
   "id": "8d812897b4bc53bf"
  },
  {
   "cell_type": "code",
   "execution_count": 27,
   "outputs": [
    {
     "name": "stdout",
     "output_type": "stream",
     "text": [
      "with duplicates:     77720\n",
      "without duplicates:  77715\n"
     ]
    }
   ],
   "source": [
    "print('with duplicates:    ', X.shape[0])\n",
    "print('without duplicates: ', X['site'].reset_index().drop_duplicates(subset=['index','site']).shape[0])\n"
   ],
   "metadata": {
    "collapsed": false,
    "ExecuteTime": {
     "end_time": "2024-04-10T06:58:25.239577627Z",
     "start_time": "2024-04-10T06:58:25.224843798Z"
    }
   },
   "id": "d92edb79be576d6d"
  },
  {
   "cell_type": "code",
   "execution_count": 28,
   "outputs": [
    {
     "data": {
      "text/plain": "(77715, 10)"
     },
     "execution_count": 28,
     "metadata": {},
     "output_type": "execute_result"
    }
   ],
   "source": [
    "X = X.reset_index().drop_duplicates(subset=['index', 'site']).set_index('index')\n",
    "X.shape\n",
    "# X.set_index('site')"
   ],
   "metadata": {
    "collapsed": false,
    "ExecuteTime": {
     "end_time": "2024-04-10T06:58:25.276399697Z",
     "start_time": "2024-04-10T06:58:25.225035855Z"
    }
   },
   "id": "b17662adc5db5029"
  },
  {
   "cell_type": "markdown",
   "source": [
    "however, we did not have missing values in march for spring ahead (or maybe we did, but left join kept us a record)"
   ],
   "metadata": {
    "collapsed": false
   },
   "id": "3bb7aca37973d516"
  },
  {
   "cell_type": "code",
   "execution_count": 29,
   "outputs": [
    {
     "data": {
      "text/plain": "index                      site     \n2019-09-24 10:00:00-07:00  JPL          1\n                           Caltech      1\n2019-09-24 09:00:00-07:00  Office001    1\n2021-09-14 00:00:00-07:00  Caltech      1\nName: count, dtype: int64"
     },
     "execution_count": 29,
     "metadata": {},
     "output_type": "execute_result"
    }
   ],
   "source": [
    "X.reset_index()[['index','site']].value_counts().tail(4)"
   ],
   "metadata": {
    "collapsed": false,
    "ExecuteTime": {
     "end_time": "2024-04-10T06:58:25.369385187Z",
     "start_time": "2024-04-10T06:58:25.232618019Z"
    }
   },
   "id": "9aa517e2d894a274"
  },
  {
   "cell_type": "code",
   "execution_count": 30,
   "outputs": [
    {
     "data": {
      "text/plain": "                           dow  hour  month  is_holiday  actual_demand_MW  \\\nindex                                                                       \n2019-03-10 03:00:00-07:00    6     3      3       False               NaN   \n2019-03-10 03:00:00-07:00    6     3      3       False               NaN   \n\n                           temperature_degC  dewpoint_degC  \\\nindex                                                        \n2019-03-10 03:00:00-07:00              11.2            3.0   \n2019-03-10 03:00:00-07:00              11.2            3.0   \n\n                           relative_humidity_%  wind_speed_mph     site  \nindex                                                                    \n2019-03-10 03:00:00-07:00                 57.0             9.2  Caltech  \n2019-03-10 03:00:00-07:00                 57.0             9.2      JPL  ",
      "text/html": "<div>\n<style scoped>\n    .dataframe tbody tr th:only-of-type {\n        vertical-align: middle;\n    }\n\n    .dataframe tbody tr th {\n        vertical-align: top;\n    }\n\n    .dataframe thead th {\n        text-align: right;\n    }\n</style>\n<table border=\"1\" class=\"dataframe\">\n  <thead>\n    <tr style=\"text-align: right;\">\n      <th></th>\n      <th>dow</th>\n      <th>hour</th>\n      <th>month</th>\n      <th>is_holiday</th>\n      <th>actual_demand_MW</th>\n      <th>temperature_degC</th>\n      <th>dewpoint_degC</th>\n      <th>relative_humidity_%</th>\n      <th>wind_speed_mph</th>\n      <th>site</th>\n    </tr>\n    <tr>\n      <th>index</th>\n      <th></th>\n      <th></th>\n      <th></th>\n      <th></th>\n      <th></th>\n      <th></th>\n      <th></th>\n      <th></th>\n      <th></th>\n      <th></th>\n    </tr>\n  </thead>\n  <tbody>\n    <tr>\n      <th>2019-03-10 03:00:00-07:00</th>\n      <td>6</td>\n      <td>3</td>\n      <td>3</td>\n      <td>False</td>\n      <td>NaN</td>\n      <td>11.2</td>\n      <td>3.0</td>\n      <td>57.0</td>\n      <td>9.2</td>\n      <td>Caltech</td>\n    </tr>\n    <tr>\n      <th>2019-03-10 03:00:00-07:00</th>\n      <td>6</td>\n      <td>3</td>\n      <td>3</td>\n      <td>False</td>\n      <td>NaN</td>\n      <td>11.2</td>\n      <td>3.0</td>\n      <td>57.0</td>\n      <td>9.2</td>\n      <td>JPL</td>\n    </tr>\n  </tbody>\n</table>\n</div>"
     },
     "execution_count": 30,
     "metadata": {},
     "output_type": "execute_result"
    }
   ],
   "source": [
    "X[(X.index < '2020-03-01') & (X['actual_demand_MW'].isnull())]"
   ],
   "metadata": {
    "collapsed": false,
    "ExecuteTime": {
     "end_time": "2024-04-10T06:58:25.369748128Z",
     "start_time": "2024-04-10T06:58:25.276823758Z"
    }
   },
   "id": "7b820d8650008785"
  },
  {
   "cell_type": "markdown",
   "source": [
    "# impute march values"
   ],
   "metadata": {
    "collapsed": false
   },
   "id": "85671b1e84966044"
  },
  {
   "cell_type": "code",
   "execution_count": 31,
   "outputs": [],
   "source": [
    "# at 2 AM, the demand for Caltech and JPL was 9133. Use it for 3 AM\n",
    "X.loc['2019-03-10 03:00:00', 'actual_demand_MW'] = 9133"
   ],
   "metadata": {
    "collapsed": false,
    "ExecuteTime": {
     "end_time": "2024-04-10T06:58:25.369829042Z",
     "start_time": "2024-04-10T06:58:25.276956750Z"
    }
   },
   "id": "b58abdc02e4516d3"
  },
  {
   "cell_type": "code",
   "execution_count": 32,
   "outputs": [
    {
     "data": {
      "text/plain": "index\n2019-03-10 03:00:00-07:00    9133.0\n2019-03-10 03:00:00-07:00    9133.0\nName: actual_demand_MW, dtype: float64"
     },
     "execution_count": 32,
     "metadata": {},
     "output_type": "execute_result"
    }
   ],
   "source": [
    "X.loc['2019-03-10 03:00:00', 'actual_demand_MW']"
   ],
   "metadata": {
    "collapsed": false,
    "ExecuteTime": {
     "end_time": "2024-04-10T06:58:25.370115950Z",
     "start_time": "2024-04-10T06:58:25.277018365Z"
    }
   },
   "id": "b2f4a97135ff8280"
  },
  {
   "cell_type": "code",
   "execution_count": 33,
   "outputs": [
    {
     "name": "stdout",
     "output_type": "stream",
     "text": [
      "there are 77715 records\n"
     ]
    }
   ],
   "source": [
    "X['site'].value_counts().sum() == X.shape[0]\n",
    "print(f'there are {X.shape[0]} records')"
   ],
   "metadata": {
    "collapsed": false,
    "ExecuteTime": {
     "end_time": "2024-04-10T06:58:25.373218683Z",
     "start_time": "2024-04-10T06:58:25.282522842Z"
    }
   },
   "id": "d30943921e136d2f"
  },
  {
   "cell_type": "code",
   "execution_count": 34,
   "outputs": [
    {
     "data": {
      "text/plain": "site\nCaltech      29569\nJPL          26497\nOffice001    21649\nName: count, dtype: int64"
     },
     "execution_count": 34,
     "metadata": {},
     "output_type": "execute_result"
    }
   ],
   "source": [
    "X['site'].value_counts()"
   ],
   "metadata": {
    "collapsed": false,
    "ExecuteTime": {
     "end_time": "2024-04-10T06:58:25.373432395Z",
     "start_time": "2024-04-10T06:58:25.324932166Z"
    }
   },
   "id": "ec8772b73be58094"
  },
  {
   "cell_type": "markdown",
   "source": [
    "# Deal with covid\n",
    "we found (graphically) that covid effects start around march 3rd 2020, so we truncated our data to march 1st. Since we did not have dates that contained post covid data, we did not include any charges after 2020-03-01 "
   ],
   "metadata": {
    "collapsed": false
   },
   "id": "c68a98f3903a2e44"
  },
  {
   "cell_type": "code",
   "execution_count": 35,
   "outputs": [
    {
     "data": {
      "text/plain": "Timestamp('2021-09-14 00:00:00-0700', tz='UTC-07:00')"
     },
     "execution_count": 35,
     "metadata": {},
     "output_type": "execute_result"
    }
   ],
   "source": [
    "x = X[X.index < '2020-03-01']\n",
    "X.index.max()\n"
   ],
   "metadata": {
    "collapsed": false,
    "ExecuteTime": {
     "end_time": "2024-04-10T06:58:25.373552847Z",
     "start_time": "2024-04-10T06:58:25.325196904Z"
    }
   },
   "id": "5c16b446075321d9"
  },
  {
   "cell_type": "code",
   "execution_count": 36,
   "outputs": [],
   "source": [
    "cols = list(df_c.columns)\n",
    "df = pd.concat([df[cols] for df in sites_df], axis=0)\n",
    "y = create_all_site_y(df, regression=True)"
   ],
   "metadata": {
    "collapsed": false,
    "ExecuteTime": {
     "end_time": "2024-04-10T06:58:54.218643131Z",
     "start_time": "2024-04-10T06:58:25.325314460Z"
    }
   },
   "id": "9923dd251f842593"
  },
  {
   "cell_type": "code",
   "execution_count": 37,
   "outputs": [],
   "source": [
    "assert X.shape[0] == y.shape[0], 'X and y rows are not equal!, X shape = {} y shape {}'.format(X.shape, y.shape)"
   ],
   "metadata": {
    "collapsed": false,
    "ExecuteTime": {
     "end_time": "2024-04-10T06:58:54.263403258Z",
     "start_time": "2024-04-10T06:58:54.260828390Z"
    }
   },
   "id": "8c36b0e7987d6c7e"
  },
  {
   "cell_type": "code",
   "execution_count": 38,
   "outputs": [
    {
     "data": {
      "text/plain": "(37320,)"
     },
     "execution_count": 38,
     "metadata": {},
     "output_type": "execute_result"
    }
   ],
   "source": [
    "y = y[y.index < '2020-03-01']\n",
    "y.index.max()\n",
    "y.shape"
   ],
   "metadata": {
    "collapsed": false,
    "ExecuteTime": {
     "end_time": "2024-04-10T06:58:54.263709207Z",
     "start_time": "2024-04-10T06:58:54.261057471Z"
    }
   },
   "id": "e9d3e0bc073b7dd4"
  },
  {
   "cell_type": "code",
   "execution_count": 39,
   "outputs": [],
   "source": [
    "assert x.shape[0] == y.shape[0], 'forgot to trim y\\'s covid!'"
   ],
   "metadata": {
    "collapsed": false,
    "ExecuteTime": {
     "end_time": "2024-04-10T06:58:54.263768153Z",
     "start_time": "2024-04-10T06:58:54.261194330Z"
    }
   },
   "id": "e729c9b1c81bbfc7"
  },
  {
   "cell_type": "markdown",
   "source": [
    "# XGBoost"
   ],
   "metadata": {
    "collapsed": false
   },
   "id": "6e82989ebf987ecc"
  },
  {
   "cell_type": "code",
   "execution_count": 40,
   "outputs": [
    {
     "data": {
      "text/plain": "Index(['dow', 'hour', 'month', 'is_holiday', 'actual_demand_MW',\n       'temperature_degC', 'dewpoint_degC', 'relative_humidity_%',\n       'wind_speed_mph', 'site'],\n      dtype='object')"
     },
     "execution_count": 40,
     "metadata": {},
     "output_type": "execute_result"
    }
   ],
   "source": [
    "X.columns"
   ],
   "metadata": {
    "collapsed": false,
    "ExecuteTime": {
     "end_time": "2024-04-10T06:58:54.263883056Z",
     "start_time": "2024-04-10T06:58:54.261310449Z"
    }
   },
   "id": "5e4ec3977f197827"
  },
  {
   "cell_type": "code",
   "execution_count": 41,
   "outputs": [
    {
     "name": "stdout",
     "output_type": "stream",
     "text": [
      "training RMSE: 0.10096841443217164\n",
      "test RMSE    : 0.11612157064051419\n",
      "training r2: 0.8735515546606845\n",
      "test r2    : 0.8266423989843182\n"
     ]
    }
   ],
   "source": [
    "from sklearn.linear_model import LinearRegression\n",
    "from sklearn.preprocessing import OneHotEncoder, StandardScaler\n",
    "from sklearn.compose import ColumnTransformer\n",
    "\n",
    "X_train, X_test, y_train, y_test = train_test_split(x, y, test_size = .2)\n",
    "\n",
    "cat_cols = ['dow', 'hour', 'month', 'is_holiday','site']\n",
    "num_cols = [col for col in x.columns if col not in cat_cols]\n",
    "\n",
    "numeric_transformer = StandardScaler()\n",
    "categorical_transformer = OneHotEncoder(sparse_output=False, handle_unknown='ignore', drop='first')\n",
    "\n",
    "\n",
    "xgb_model = Pipeline(\n",
    "    steps=[\n",
    "        ('preprocessing', ColumnTransformer(\n",
    "            transformers=[\n",
    "                (\"num\", numeric_transformer, num_cols),\n",
    "                (\"cat\", categorical_transformer, cat_cols),\n",
    "            ])),\n",
    "        ('xgb', XGBRegressor()),\n",
    "        ]\n",
    ")\n",
    "\n",
    "xgb_model.fit(X_train, y_train)\n",
    "print(f'training RMSE: {np.sqrt(mean_squared_error(xgb_model.predict(X_train), y_train))}\\ntest RMSE    : {np.sqrt(mean_squared_error(xgb_model.predict(X_test), y_test))}')\n",
    "print(f'training r2: {xgb_model.score(X_train, y_train)}\\ntest r2    : {xgb_model.score(X_test, y_test)}')"
   ],
   "metadata": {
    "collapsed": false,
    "ExecuteTime": {
     "end_time": "2024-04-10T06:58:54.737574797Z",
     "start_time": "2024-04-10T06:58:54.261439626Z"
    }
   },
   "id": "ccdc30be92b6c2b"
  },
  {
   "cell_type": "code",
   "execution_count": 42,
   "outputs": [
    {
     "data": {
      "text/plain": "Text(0, 0.5, '% available')"
     },
     "execution_count": 42,
     "metadata": {},
     "output_type": "execute_result"
    },
    {
     "data": {
      "text/plain": "<Figure size 640x480 with 1 Axes>",
      "image/png": "[encoded data removed]"
     },
     "metadata": {},
     "output_type": "display_data"
    }
   ],
   "source": [
    "X_test = X_test.sort_index()\n",
    "y_test = y_test.sort_index()\n",
    "pred = pd.Series(xgb_model.predict(X_test), index=X_test.index)\n",
    "plt.title('XGB Regression model')\n",
    "plt.suptitle(f'test R2: {np.round(xgb_model.score(X_test, y_test),3)}')\n",
    "plt.plot(y_test.index, y_test)\n",
    "plt.plot(y_test.index, pred)\n",
    "plt.ylabel('% available')"
   ],
   "metadata": {
    "collapsed": false,
    "ExecuteTime": {
     "end_time": "2024-04-10T06:58:55.161188694Z",
     "start_time": "2024-04-10T06:58:54.735698604Z"
    }
   },
   "id": "4e97707abedf733f"
  },
  {
   "cell_type": "code",
   "execution_count": 43,
   "outputs": [
    {
     "data": {
      "text/plain": "'/home/denny/Documents/mids/ev_charging'"
     },
     "execution_count": 43,
     "metadata": {},
     "output_type": "execute_result"
    }
   ],
   "source": [
    "import pickle\n",
    "pickle.dump(xgb_model, open('./model_04_10.pkl','wb'))\n",
    "os.getcwd()"
   ],
   "metadata": {
    "collapsed": false,
    "ExecuteTime": {
     "end_time": "2024-04-10T06:58:55.215070339Z",
     "start_time": "2024-04-10T06:58:55.161724568Z"
    }
   },
   "id": "22924e720e155a8d"
  },
  {
   "cell_type": "markdown",
   "source": [
    "# feature importance"
   ],
   "metadata": {
    "collapsed": false
   },
   "id": "85deb31a9b06d82e"
  },
  {
   "cell_type": "code",
   "execution_count": 44,
   "outputs": [],
   "source": [
    "col_names = xgb_model.named_steps['preprocessing'].get_feature_names_out()\n",
    "model = xgb_model.named_steps['xgb']\n",
    "# https://stackoverflow.com/a/74967040/6432367\n",
    "model.get_booster().feature_names = list(col_names)\n",
    "feature_importance = model.get_booster().get_score()"
   ],
   "metadata": {
    "collapsed": false,
    "ExecuteTime": {
     "end_time": "2024-04-10T06:58:55.215276783Z",
     "start_time": "2024-04-10T06:58:55.204898903Z"
    }
   },
   "id": "7629a7fb1fd2352d"
  },
  {
   "cell_type": "code",
   "execution_count": 45,
   "outputs": [
    {
     "data": {
      "text/plain": "Text(0.5, 1.0, 'Feature importance by gain: ‘gain’ - the average gain across all splits the feature is used in.')"
     },
     "execution_count": 45,
     "metadata": {},
     "output_type": "execute_result"
    },
    {
     "data": {
      "text/plain": "<Figure size 2000x1000 with 1 Axes>",
      "image/png": "[encoded data removed]"
     },
     "metadata": {},
     "output_type": "display_data"
    }
   ],
   "source": [
    "feature_important = model.get_booster().get_score(importance_type='gain')\n",
    "keys = list(feature_important.keys())\n",
    "values = list(feature_important.values())\n",
    "\n",
    "data = pd.DataFrame(data=values, index=keys, columns=[\"score\"]).sort_values(by = \"score\", ascending=False)\n",
    "data.nlargest(40, columns=\"score\").plot(kind='barh', figsize = (20,10)) ## plot top 40 features\n",
    "plt.title('Feature importance by gain: ‘gain’ - the average gain across all splits the feature is used in.')\n",
    "# plt.title('Feature importance by weight: ‘weight’ - the number of times a feature is used to split the data across all trees.')"
   ],
   "metadata": {
    "collapsed": false,
    "ExecuteTime": {
     "end_time": "2024-04-10T06:58:55.863047035Z",
     "start_time": "2024-04-10T06:58:55.205151288Z"
    }
   },
   "id": "b9a519ea89f326f7"
  },
  {
   "cell_type": "markdown",
   "source": [
    "# Inference example"
   ],
   "metadata": {
    "collapsed": false
   },
   "id": "a8e7fd5ec814ddc"
  },
  {
   "cell_type": "code",
   "execution_count": 46,
   "outputs": [],
   "source": [
    "import pandas as pd\n",
    "sites = ['Office001','Caltech','JPL']\n",
    "site_ids = [2,1,19]\n",
    "site2id = { k:v for (k,v) in zip(sites, site_ids)}\n",
    "site2tac = {2:'PGE-TAC', 1:'SCE-TAC', 19:'SCE-TAC',}\n",
    "weather_features = ['temperature_degC', 'dewpoint_degC','relative_humidity_%', 'wind_speed_mph']\n",
    "demand_features = ['datetime', 'TAC_AREA_NAME', 'MARKET_RUN_ID', 'MW']"
   ],
   "metadata": {
    "collapsed": false,
    "ExecuteTime": {
     "end_time": "2024-04-10T06:58:55.889568390Z",
     "start_time": "2024-04-10T06:58:55.865674020Z"
    }
   },
   "id": "878725ff5a46586c"
  },
  {
   "cell_type": "code",
   "execution_count": 47,
   "outputs": [
    {
     "data": {
      "text/plain": "Index(['dow', 'hour', 'month', 'is_holiday', 'actual_demand_MW',\n       'temperature_degC', 'dewpoint_degC', 'relative_humidity_%',\n       'wind_speed_mph', 'site'],\n      dtype='object')"
     },
     "execution_count": 47,
     "metadata": {},
     "output_type": "execute_result"
    }
   ],
   "source": [
    "# columns_needed\n",
    "X_train.columns"
   ],
   "metadata": {
    "collapsed": false,
    "ExecuteTime": {
     "end_time": "2024-04-10T06:58:55.891803100Z",
     "start_time": "2024-04-10T06:58:55.868412950Z"
    }
   },
   "id": "beebf39165a93e86"
  },
  {
   "cell_type": "markdown",
   "source": [
    "# future weather"
   ],
   "metadata": {
    "collapsed": false
   },
   "id": "97c67162e65aaac9"
  },
  {
   "cell_type": "code",
   "execution_count": 48,
   "outputs": [
    {
     "name": "stdout",
     "output_type": "stream",
     "text": [
      "https://api.weather.gov/points/37.33680466796926,-121.90743423142634\n",
      "status code: 200\n",
      "https://api.weather.gov/gridpoints/MTR/99,82/forecast/hourly\n",
      "https://api.weather.gov/points/34.134785646454844,-118.11691382579643\n",
      "status code: 200\n",
      "https://api.weather.gov/gridpoints/LOX/160,48/forecast/hourly\n",
      "https://api.weather.gov/points/34.20142342818471,-118.17126565774107\n",
      "status code: 200\n",
      "https://api.weather.gov/gridpoints/LOX/159,51/forecast/hourly\n"
     ]
    }
   ],
   "source": [
    "from src.weather import get_processed_hourly_7day_weather\n",
    "site2latlon = {'Caltech':(34.134785646454844, -118.11691382579643),\n",
    "               'Office001':(37.33680466796926, -121.90743423142634),\n",
    "               'JPL':(34.20142342818471, -118.17126565774107)}\n",
    "future_weather = pd.DataFrame()\n",
    "for site in sites:\n",
    "    tmp_future_weather = get_processed_hourly_7day_weather(*site2latlon[site])\n",
    "    tmp_future_weather['site'] = site\n",
    "    if future_weather.empty:\n",
    "        future_weather = tmp_future_weather\n",
    "    else:\n",
    "        future_weather = pd.concat([future_weather, tmp_future_weather], axis=0)"
   ],
   "metadata": {
    "collapsed": false,
    "ExecuteTime": {
     "end_time": "2024-04-10T06:58:56.720156726Z",
     "start_time": "2024-04-10T06:58:55.886792146Z"
    }
   },
   "id": "df0ce21f920fbdb5"
  },
  {
   "cell_type": "code",
   "execution_count": 49,
   "outputs": [
    {
     "data": {
      "text/plain": "                           temperature_degC  dewpoint_degC  \\\ntime                                                         \n2024-04-09 23:00:00-07:00             13.89          10.00   \n2024-04-10 00:00:00-07:00             12.78          10.00   \n2024-04-10 01:00:00-07:00             11.67           8.89   \n2024-04-10 02:00:00-07:00             11.11           8.33   \n2024-04-10 03:00:00-07:00             10.56           8.33   \n\n                           relative_humidity_%  wind_speed_mph       site  \ntime                                                                       \n2024-04-09 23:00:00-07:00                   76               2  Office001  \n2024-04-10 00:00:00-07:00                   81               2  Office001  \n2024-04-10 01:00:00-07:00                   83               2  Office001  \n2024-04-10 02:00:00-07:00                   84               2  Office001  \n2024-04-10 03:00:00-07:00                   86               2  Office001  ",
      "text/html": "<div>\n<style scoped>\n    .dataframe tbody tr th:only-of-type {\n        vertical-align: middle;\n    }\n\n    .dataframe tbody tr th {\n        vertical-align: top;\n    }\n\n    .dataframe thead th {\n        text-align: right;\n    }\n</style>\n<table border=\"1\" class=\"dataframe\">\n  <thead>\n    <tr style=\"text-align: right;\">\n      <th></th>\n      <th>temperature_degC</th>\n      <th>dewpoint_degC</th>\n      <th>relative_humidity_%</th>\n      <th>wind_speed_mph</th>\n      <th>site</th>\n    </tr>\n    <tr>\n      <th>time</th>\n      <th></th>\n      <th></th>\n      <th></th>\n      <th></th>\n      <th></th>\n    </tr>\n  </thead>\n  <tbody>\n    <tr>\n      <th>2024-04-09 23:00:00-07:00</th>\n      <td>13.89</td>\n      <td>10.00</td>\n      <td>76</td>\n      <td>2</td>\n      <td>Office001</td>\n    </tr>\n    <tr>\n      <th>2024-04-10 00:00:00-07:00</th>\n      <td>12.78</td>\n      <td>10.00</td>\n      <td>81</td>\n      <td>2</td>\n      <td>Office001</td>\n    </tr>\n    <tr>\n      <th>2024-04-10 01:00:00-07:00</th>\n      <td>11.67</td>\n      <td>8.89</td>\n      <td>83</td>\n      <td>2</td>\n      <td>Office001</td>\n    </tr>\n    <tr>\n      <th>2024-04-10 02:00:00-07:00</th>\n      <td>11.11</td>\n      <td>8.33</td>\n      <td>84</td>\n      <td>2</td>\n      <td>Office001</td>\n    </tr>\n    <tr>\n      <th>2024-04-10 03:00:00-07:00</th>\n      <td>10.56</td>\n      <td>8.33</td>\n      <td>86</td>\n      <td>2</td>\n      <td>Office001</td>\n    </tr>\n  </tbody>\n</table>\n</div>"
     },
     "execution_count": 49,
     "metadata": {},
     "output_type": "execute_result"
    }
   ],
   "source": [
    "future_weather = future_weather[weather_features + ['site']]\n",
    "future_weather.head()"
   ],
   "metadata": {
    "collapsed": false,
    "ExecuteTime": {
     "end_time": "2024-04-10T06:58:56.741225692Z",
     "start_time": "2024-04-10T06:58:56.716388005Z"
    }
   },
   "id": "526274e330163c8"
  },
  {
   "cell_type": "code",
   "execution_count": 50,
   "outputs": [
    {
     "name": "stdout",
     "output_type": "stream",
     "text": [
      "<class 'pandas.core.frame.DataFrame'>\n",
      "RangeIndex: 156 entries, 0 to 155\n",
      "Data columns (total 6 columns):\n",
      " #   Column               Non-Null Count  Dtype                    \n",
      "---  ------               --------------  -----                    \n",
      " 0   time                 156 non-null    datetime64[ns, UTC-07:00]\n",
      " 1   temperature_degC     156 non-null    float64                  \n",
      " 2   dewpoint_degC        156 non-null    float64                  \n",
      " 3   relative_humidity_%  156 non-null    int64                    \n",
      " 4   wind_speed_mph       156 non-null    int64                    \n",
      " 5   site                 156 non-null    object                   \n",
      "dtypes: datetime64[ns, UTC-07:00](1), float64(2), int64(2), object(1)\n",
      "memory usage: 7.4+ KB\n"
     ]
    }
   ],
   "source": [
    "future_weather[future_weather['site'] == 'JPL'].reset_index().info()"
   ],
   "metadata": {
    "collapsed": false,
    "ExecuteTime": {
     "end_time": "2024-04-10T06:58:56.792568219Z",
     "start_time": "2024-04-10T06:58:56.727924429Z"
    }
   },
   "id": "4bbc729d57111cda"
  },
  {
   "cell_type": "markdown",
   "source": [
    "# future demand"
   ],
   "metadata": {
    "collapsed": false
   },
   "id": "19a1f0d5b03bef1c"
  },
  {
   "cell_type": "code",
   "execution_count": 51,
   "outputs": [],
   "source": [
    "import pytz\n",
    "# pytz.common_timezones"
   ],
   "metadata": {
    "collapsed": false,
    "ExecuteTime": {
     "end_time": "2024-04-10T06:58:56.808927487Z",
     "start_time": "2024-04-10T06:58:56.749403135Z"
    }
   },
   "id": "b995c8df9b1a48a3"
  },
  {
   "cell_type": "code",
   "execution_count": 52,
   "outputs": [],
   "source": [
    "from src.oasis import SystemDemand\n",
    "import datetime\n",
    "\n",
    "sd = SystemDemand()\n",
    "start = datetime.datetime.today()\n",
    "end = start + pd.to_timedelta(7, unit='d')\n",
    "demand_forecast = sd.get_demand_forecast(start, end)\n",
    "\n",
    "TACS = ['SCE-TAC', 'PGE-TAC']\n",
    "MARKET_RUN_IDS = ['ACTUAL']\n",
    "demand_forecast['datetime'] = pd.to_datetime(demand_forecast['OPR_DT']) + pd.to_timedelta(demand_forecast['OPR_HR'], unit='h')\n",
    "demand_forecast = demand_forecast[\n",
    "    (demand_forecast['TAC_AREA_NAME'].isin(TACS)) \n",
    "    & (demand_forecast['MARKET_RUN_ID'].isin(['7DA']))\n",
    "]\n",
    "\n",
    "# demand = historical_caiso_actual_load[demand_features].set_index('datetime').rename(columns={'MW':'actual_demand_MW'}).sort_index()\n",
    "# demand = demand[demand['TAC_AREA_NAME'] == site2tac[id]][['actual_demand_MW']]\n",
    "# demand.index = pd.to_datetime(demand.index, utc=True)"
   ],
   "metadata": {
    "collapsed": false,
    "ExecuteTime": {
     "end_time": "2024-04-10T06:59:02.737057861Z",
     "start_time": "2024-04-10T06:58:56.758602949Z"
    }
   },
   "id": "fe1bb05ce27e484b"
  },
  {
   "cell_type": "code",
   "execution_count": 53,
   "outputs": [
    {
     "data": {
      "text/plain": "          INTERVALSTARTTIME_GMT        INTERVALENDTIME_GMT  LOAD_TYPE  \\\n1242  2024-04-10T18:00:00-00:00  2024-04-10T19:00:00-00:00          0   \n1243  2024-04-10T19:00:00-00:00  2024-04-10T20:00:00-00:00          0   \n1244  2024-04-10T21:00:00-00:00  2024-04-10T22:00:00-00:00          0   \n1245  2024-04-11T00:00:00-00:00  2024-04-11T01:00:00-00:00          0   \n1246  2024-04-10T12:00:00-00:00  2024-04-10T13:00:00-00:00          0   \n...                         ...                        ...        ...   \n7813  2024-04-16T20:00:00-00:00  2024-04-16T21:00:00-00:00          0   \n7814  2024-04-16T23:00:00-00:00  2024-04-17T00:00:00-00:00          0   \n7815  2024-04-17T00:00:00-00:00  2024-04-17T01:00:00-00:00          0   \n7816  2024-04-17T04:00:00-00:00  2024-04-17T05:00:00-00:00          0   \n7817  2024-04-17T06:00:00-00:00  2024-04-17T07:00:00-00:00          0   \n\n          OPR_DT  OPR_HR  OPR_INTERVAL MARKET_RUN_ID TAC_AREA_NAME  \\\n1242  2024-04-10      12             0           7DA       PGE-TAC   \n1243  2024-04-10      13             0           7DA       PGE-TAC   \n1244  2024-04-10      15             0           7DA       PGE-TAC   \n1245  2024-04-10      18             0           7DA       PGE-TAC   \n1246  2024-04-10       6             0           7DA       PGE-TAC   \n...          ...     ...           ...           ...           ...   \n7813  2024-04-16      14             0           7DA       SCE-TAC   \n7814  2024-04-16      17             0           7DA       SCE-TAC   \n7815  2024-04-16      18             0           7DA       SCE-TAC   \n7816  2024-04-16      22             0           7DA       SCE-TAC   \n7817  2024-04-16      24             0           7DA       SCE-TAC   \n\n                            LABEL    XML_DATA_ITEM  POS        MW  \\\n1242  Demand Forecast 7-Day Ahead  SYS_FCST_7DA_MW  0.1   7329.97   \n1243  Demand Forecast 7-Day Ahead  SYS_FCST_7DA_MW  0.1   7002.69   \n1244  Demand Forecast 7-Day Ahead  SYS_FCST_7DA_MW  0.1   6987.50   \n1245  Demand Forecast 7-Day Ahead  SYS_FCST_7DA_MW  0.1   9544.22   \n1246  Demand Forecast 7-Day Ahead  SYS_FCST_7DA_MW  0.1   9929.14   \n...                           ...              ...  ...       ...   \n7813  Demand Forecast 7-Day Ahead  SYS_FCST_7DA_MW  0.2   7834.10   \n7814  Demand Forecast 7-Day Ahead  SYS_FCST_7DA_MW  0.2   8947.09   \n7815  Demand Forecast 7-Day Ahead  SYS_FCST_7DA_MW  0.2   9685.99   \n7816  Demand Forecast 7-Day Ahead  SYS_FCST_7DA_MW  0.2  10914.48   \n7817  Demand Forecast 7-Day Ahead  SYS_FCST_7DA_MW  0.2   9622.43   \n\n     EXECUTION_TYPE  GROUP            datetime  \n1242            7DA     55 2024-04-10 12:00:00  \n1243            7DA     55 2024-04-10 13:00:00  \n1244            7DA     55 2024-04-10 15:00:00  \n1245            7DA     55 2024-04-10 18:00:00  \n1246            7DA     55 2024-04-10 06:00:00  \n...             ...    ...                 ...  \n7813            7DA    330 2024-04-16 14:00:00  \n7814            7DA    330 2024-04-16 17:00:00  \n7815            7DA    330 2024-04-16 18:00:00  \n7816            7DA    330 2024-04-16 22:00:00  \n7817            7DA    330 2024-04-17 00:00:00  \n\n[334 rows x 15 columns]",
      "text/html": "<div>\n<style scoped>\n    .dataframe tbody tr th:only-of-type {\n        vertical-align: middle;\n    }\n\n    .dataframe tbody tr th {\n        vertical-align: top;\n    }\n\n    .dataframe thead th {\n        text-align: right;\n    }\n</style>\n<table border=\"1\" class=\"dataframe\">\n  <thead>\n    <tr style=\"text-align: right;\">\n      <th></th>\n      <th>INTERVALSTARTTIME_GMT</th>\n      <th>INTERVALENDTIME_GMT</th>\n      <th>LOAD_TYPE</th>\n      <th>OPR_DT</th>\n      <th>OPR_HR</th>\n      <th>OPR_INTERVAL</th>\n      <th>MARKET_RUN_ID</th>\n      <th>TAC_AREA_NAME</th>\n      <th>LABEL</th>\n      <th>XML_DATA_ITEM</th>\n      <th>POS</th>\n      <th>MW</th>\n      <th>EXECUTION_TYPE</th>\n      <th>GROUP</th>\n      <th>datetime</th>\n    </tr>\n  </thead>\n  <tbody>\n    <tr>\n      <th>1242</th>\n      <td>2024-04-10T18:00:00-00:00</td>\n      <td>2024-04-10T19:00:00-00:00</td>\n      <td>0</td>\n      <td>2024-04-10</td>\n      <td>12</td>\n      <td>0</td>\n      <td>7DA</td>\n      <td>PGE-TAC</td>\n      <td>Demand Forecast 7-Day Ahead</td>\n      <td>SYS_FCST_7DA_MW</td>\n      <td>0.1</td>\n      <td>7329.97</td>\n      <td>7DA</td>\n      <td>55</td>\n      <td>2024-04-10 12:00:00</td>\n    </tr>\n    <tr>\n      <th>1243</th>\n      <td>2024-04-10T19:00:00-00:00</td>\n      <td>2024-04-10T20:00:00-00:00</td>\n      <td>0</td>\n      <td>2024-04-10</td>\n      <td>13</td>\n      <td>0</td>\n      <td>7DA</td>\n      <td>PGE-TAC</td>\n      <td>Demand Forecast 7-Day Ahead</td>\n      <td>SYS_FCST_7DA_MW</td>\n      <td>0.1</td>\n      <td>7002.69</td>\n      <td>7DA</td>\n      <td>55</td>\n      <td>2024-04-10 13:00:00</td>\n    </tr>\n    <tr>\n      <th>1244</th>\n      <td>2024-04-10T21:00:00-00:00</td>\n      <td>2024-04-10T22:00:00-00:00</td>\n      <td>0</td>\n      <td>2024-04-10</td>\n      <td>15</td>\n      <td>0</td>\n      <td>7DA</td>\n      <td>PGE-TAC</td>\n      <td>Demand Forecast 7-Day Ahead</td>\n      <td>SYS_FCST_7DA_MW</td>\n      <td>0.1</td>\n      <td>6987.50</td>\n      <td>7DA</td>\n      <td>55</td>\n      <td>2024-04-10 15:00:00</td>\n    </tr>\n    <tr>\n      <th>1245</th>\n      <td>2024-04-11T00:00:00-00:00</td>\n      <td>2024-04-11T01:00:00-00:00</td>\n      <td>0</td>\n      <td>2024-04-10</td>\n      <td>18</td>\n      <td>0</td>\n      <td>7DA</td>\n      <td>PGE-TAC</td>\n      <td>Demand Forecast 7-Day Ahead</td>\n      <td>SYS_FCST_7DA_MW</td>\n      <td>0.1</td>\n      <td>9544.22</td>\n      <td>7DA</td>\n      <td>55</td>\n      <td>2024-04-10 18:00:00</td>\n    </tr>\n    <tr>\n      <th>1246</th>\n      <td>2024-04-10T12:00:00-00:00</td>\n      <td>2024-04-10T13:00:00-00:00</td>\n      <td>0</td>\n      <td>2024-04-10</td>\n      <td>6</td>\n      <td>0</td>\n      <td>7DA</td>\n      <td>PGE-TAC</td>\n      <td>Demand Forecast 7-Day Ahead</td>\n      <td>SYS_FCST_7DA_MW</td>\n      <td>0.1</td>\n      <td>9929.14</td>\n      <td>7DA</td>\n      <td>55</td>\n      <td>2024-04-10 06:00:00</td>\n    </tr>\n    <tr>\n      <th>...</th>\n      <td>...</td>\n      <td>...</td>\n      <td>...</td>\n      <td>...</td>\n      <td>...</td>\n      <td>...</td>\n      <td>...</td>\n      <td>...</td>\n      <td>...</td>\n      <td>...</td>\n      <td>...</td>\n      <td>...</td>\n      <td>...</td>\n      <td>...</td>\n      <td>...</td>\n    </tr>\n    <tr>\n      <th>7813</th>\n      <td>2024-04-16T20:00:00-00:00</td>\n      <td>2024-04-16T21:00:00-00:00</td>\n      <td>0</td>\n      <td>2024-04-16</td>\n      <td>14</td>\n      <td>0</td>\n      <td>7DA</td>\n      <td>SCE-TAC</td>\n      <td>Demand Forecast 7-Day Ahead</td>\n      <td>SYS_FCST_7DA_MW</td>\n      <td>0.2</td>\n      <td>7834.10</td>\n      <td>7DA</td>\n      <td>330</td>\n      <td>2024-04-16 14:00:00</td>\n    </tr>\n    <tr>\n      <th>7814</th>\n      <td>2024-04-16T23:00:00-00:00</td>\n      <td>2024-04-17T00:00:00-00:00</td>\n      <td>0</td>\n      <td>2024-04-16</td>\n      <td>17</td>\n      <td>0</td>\n      <td>7DA</td>\n      <td>SCE-TAC</td>\n      <td>Demand Forecast 7-Day Ahead</td>\n      <td>SYS_FCST_7DA_MW</td>\n      <td>0.2</td>\n      <td>8947.09</td>\n      <td>7DA</td>\n      <td>330</td>\n      <td>2024-04-16 17:00:00</td>\n    </tr>\n    <tr>\n      <th>7815</th>\n      <td>2024-04-17T00:00:00-00:00</td>\n      <td>2024-04-17T01:00:00-00:00</td>\n      <td>0</td>\n      <td>2024-04-16</td>\n      <td>18</td>\n      <td>0</td>\n      <td>7DA</td>\n      <td>SCE-TAC</td>\n      <td>Demand Forecast 7-Day Ahead</td>\n      <td>SYS_FCST_7DA_MW</td>\n      <td>0.2</td>\n      <td>9685.99</td>\n      <td>7DA</td>\n      <td>330</td>\n      <td>2024-04-16 18:00:00</td>\n    </tr>\n    <tr>\n      <th>7816</th>\n      <td>2024-04-17T04:00:00-00:00</td>\n      <td>2024-04-17T05:00:00-00:00</td>\n      <td>0</td>\n      <td>2024-04-16</td>\n      <td>22</td>\n      <td>0</td>\n      <td>7DA</td>\n      <td>SCE-TAC</td>\n      <td>Demand Forecast 7-Day Ahead</td>\n      <td>SYS_FCST_7DA_MW</td>\n      <td>0.2</td>\n      <td>10914.48</td>\n      <td>7DA</td>\n      <td>330</td>\n      <td>2024-04-16 22:00:00</td>\n    </tr>\n    <tr>\n      <th>7817</th>\n      <td>2024-04-17T06:00:00-00:00</td>\n      <td>2024-04-17T07:00:00-00:00</td>\n      <td>0</td>\n      <td>2024-04-16</td>\n      <td>24</td>\n      <td>0</td>\n      <td>7DA</td>\n      <td>SCE-TAC</td>\n      <td>Demand Forecast 7-Day Ahead</td>\n      <td>SYS_FCST_7DA_MW</td>\n      <td>0.2</td>\n      <td>9622.43</td>\n      <td>7DA</td>\n      <td>330</td>\n      <td>2024-04-17 00:00:00</td>\n    </tr>\n  </tbody>\n</table>\n<p>334 rows × 15 columns</p>\n</div>"
     },
     "execution_count": 53,
     "metadata": {},
     "output_type": "execute_result"
    }
   ],
   "source": [
    "demand_forecast"
   ],
   "metadata": {
    "collapsed": false,
    "ExecuteTime": {
     "end_time": "2024-04-10T06:59:02.777118590Z",
     "start_time": "2024-04-10T06:59:02.737358799Z"
    }
   },
   "id": "28e55a44daceed64"
  },
  {
   "cell_type": "code",
   "execution_count": 54,
   "outputs": [],
   "source": [
    "demand = pd.DataFrame({})\n",
    "for site in sites:\n",
    "    tmp_demand = demand_forecast.loc[demand_forecast['TAC_AREA_NAME'] == site2tac[site2id[site]], demand_features].set_index('datetime')\n",
    "\n",
    "    tmp_demand['site'] = site\n",
    "    \n",
    "    tmp_demand.index = pd.to_datetime(tmp_demand.index)#.tz_localize('US/Pacific')\n",
    "\n",
    "    if demand.empty:\n",
    "        demand = tmp_demand\n",
    "    else:\n",
    "        demand = pd.concat([demand,tmp_demand], axis=0)\n",
    "demand = demand.rename(columns={'MW':'actual_demand_MW'}).sort_index()\n",
    "demand.index = demand.index.tz_localize('UTC-07:00')"
   ],
   "metadata": {
    "collapsed": false,
    "ExecuteTime": {
     "end_time": "2024-04-10T06:59:02.796926237Z",
     "start_time": "2024-04-10T06:59:02.759774792Z"
    }
   },
   "id": "fe68f04f59b8e093"
  },
  {
   "cell_type": "code",
   "execution_count": 55,
   "outputs": [
    {
     "data": {
      "text/plain": "                          TAC_AREA_NAME MARKET_RUN_ID  actual_demand_MW  \\\ndatetime                                                                  \n2024-04-10 02:00:00-07:00       PGE-TAC           7DA           9417.96   \n2024-04-10 02:00:00-07:00       SCE-TAC           7DA           8861.39   \n2024-04-10 02:00:00-07:00       SCE-TAC           7DA           8861.39   \n2024-04-10 03:00:00-07:00       SCE-TAC           7DA           8619.08   \n2024-04-10 03:00:00-07:00       SCE-TAC           7DA           8619.08   \n...                                 ...           ...               ...   \n2024-04-16 23:00:00-07:00       PGE-TAC           7DA          10465.18   \n2024-04-16 23:00:00-07:00       SCE-TAC           7DA          10306.69   \n2024-04-17 00:00:00-07:00       PGE-TAC           7DA           9789.17   \n2024-04-17 00:00:00-07:00       SCE-TAC           7DA           9622.43   \n2024-04-17 00:00:00-07:00       SCE-TAC           7DA           9622.43   \n\n                                site  \ndatetime                              \n2024-04-10 02:00:00-07:00  Office001  \n2024-04-10 02:00:00-07:00        JPL  \n2024-04-10 02:00:00-07:00    Caltech  \n2024-04-10 03:00:00-07:00        JPL  \n2024-04-10 03:00:00-07:00    Caltech  \n...                              ...  \n2024-04-16 23:00:00-07:00  Office001  \n2024-04-16 23:00:00-07:00    Caltech  \n2024-04-17 00:00:00-07:00  Office001  \n2024-04-17 00:00:00-07:00    Caltech  \n2024-04-17 00:00:00-07:00        JPL  \n\n[501 rows x 4 columns]",
      "text/html": "<div>\n<style scoped>\n    .dataframe tbody tr th:only-of-type {\n        vertical-align: middle;\n    }\n\n    .dataframe tbody tr th {\n        vertical-align: top;\n    }\n\n    .dataframe thead th {\n        text-align: right;\n    }\n</style>\n<table border=\"1\" class=\"dataframe\">\n  <thead>\n    <tr style=\"text-align: right;\">\n      <th></th>\n      <th>TAC_AREA_NAME</th>\n      <th>MARKET_RUN_ID</th>\n      <th>actual_demand_MW</th>\n      <th>site</th>\n    </tr>\n    <tr>\n      <th>datetime</th>\n      <th></th>\n      <th></th>\n      <th></th>\n      <th></th>\n    </tr>\n  </thead>\n  <tbody>\n    <tr>\n      <th>2024-04-10 02:00:00-07:00</th>\n      <td>PGE-TAC</td>\n      <td>7DA</td>\n      <td>9417.96</td>\n      <td>Office001</td>\n    </tr>\n    <tr>\n      <th>2024-04-10 02:00:00-07:00</th>\n      <td>SCE-TAC</td>\n      <td>7DA</td>\n      <td>8861.39</td>\n      <td>JPL</td>\n    </tr>\n    <tr>\n      <th>2024-04-10 02:00:00-07:00</th>\n      <td>SCE-TAC</td>\n      <td>7DA</td>\n      <td>8861.39</td>\n      <td>Caltech</td>\n    </tr>\n    <tr>\n      <th>2024-04-10 03:00:00-07:00</th>\n      <td>SCE-TAC</td>\n      <td>7DA</td>\n      <td>8619.08</td>\n      <td>JPL</td>\n    </tr>\n    <tr>\n      <th>2024-04-10 03:00:00-07:00</th>\n      <td>SCE-TAC</td>\n      <td>7DA</td>\n      <td>8619.08</td>\n      <td>Caltech</td>\n    </tr>\n    <tr>\n      <th>...</th>\n      <td>...</td>\n      <td>...</td>\n      <td>...</td>\n      <td>...</td>\n    </tr>\n    <tr>\n      <th>2024-04-16 23:00:00-07:00</th>\n      <td>PGE-TAC</td>\n      <td>7DA</td>\n      <td>10465.18</td>\n      <td>Office001</td>\n    </tr>\n    <tr>\n      <th>2024-04-16 23:00:00-07:00</th>\n      <td>SCE-TAC</td>\n      <td>7DA</td>\n      <td>10306.69</td>\n      <td>Caltech</td>\n    </tr>\n    <tr>\n      <th>2024-04-17 00:00:00-07:00</th>\n      <td>PGE-TAC</td>\n      <td>7DA</td>\n      <td>9789.17</td>\n      <td>Office001</td>\n    </tr>\n    <tr>\n      <th>2024-04-17 00:00:00-07:00</th>\n      <td>SCE-TAC</td>\n      <td>7DA</td>\n      <td>9622.43</td>\n      <td>Caltech</td>\n    </tr>\n    <tr>\n      <th>2024-04-17 00:00:00-07:00</th>\n      <td>SCE-TAC</td>\n      <td>7DA</td>\n      <td>9622.43</td>\n      <td>JPL</td>\n    </tr>\n  </tbody>\n</table>\n<p>501 rows × 4 columns</p>\n</div>"
     },
     "execution_count": 55,
     "metadata": {},
     "output_type": "execute_result"
    }
   ],
   "source": [
    "demand"
   ],
   "metadata": {
    "collapsed": false,
    "ExecuteTime": {
     "end_time": "2024-04-10T06:59:02.855047965Z",
     "start_time": "2024-04-10T06:59:02.779576011Z"
    }
   },
   "id": "5bbed058e6db9515"
  },
  {
   "cell_type": "code",
   "execution_count": 56,
   "outputs": [
    {
     "data": {
      "text/plain": "                          TAC_AREA_NAME MARKET_RUN_ID  actual_demand_MW  \\\ndatetime                                                                  \n2024-04-10 02:00:00-07:00       PGE-TAC           7DA           9417.96   \n2024-04-10 02:00:00-07:00       SCE-TAC           7DA           8861.39   \n2024-04-10 02:00:00-07:00       SCE-TAC           7DA           8861.39   \n2024-04-10 03:00:00-07:00       SCE-TAC           7DA           8619.08   \n2024-04-10 03:00:00-07:00       SCE-TAC           7DA           8619.08   \n\n                                site  \ndatetime                              \n2024-04-10 02:00:00-07:00  Office001  \n2024-04-10 02:00:00-07:00        JPL  \n2024-04-10 02:00:00-07:00    Caltech  \n2024-04-10 03:00:00-07:00        JPL  \n2024-04-10 03:00:00-07:00    Caltech  ",
      "text/html": "<div>\n<style scoped>\n    .dataframe tbody tr th:only-of-type {\n        vertical-align: middle;\n    }\n\n    .dataframe tbody tr th {\n        vertical-align: top;\n    }\n\n    .dataframe thead th {\n        text-align: right;\n    }\n</style>\n<table border=\"1\" class=\"dataframe\">\n  <thead>\n    <tr style=\"text-align: right;\">\n      <th></th>\n      <th>TAC_AREA_NAME</th>\n      <th>MARKET_RUN_ID</th>\n      <th>actual_demand_MW</th>\n      <th>site</th>\n    </tr>\n    <tr>\n      <th>datetime</th>\n      <th></th>\n      <th></th>\n      <th></th>\n      <th></th>\n    </tr>\n  </thead>\n  <tbody>\n    <tr>\n      <th>2024-04-10 02:00:00-07:00</th>\n      <td>PGE-TAC</td>\n      <td>7DA</td>\n      <td>9417.96</td>\n      <td>Office001</td>\n    </tr>\n    <tr>\n      <th>2024-04-10 02:00:00-07:00</th>\n      <td>SCE-TAC</td>\n      <td>7DA</td>\n      <td>8861.39</td>\n      <td>JPL</td>\n    </tr>\n    <tr>\n      <th>2024-04-10 02:00:00-07:00</th>\n      <td>SCE-TAC</td>\n      <td>7DA</td>\n      <td>8861.39</td>\n      <td>Caltech</td>\n    </tr>\n    <tr>\n      <th>2024-04-10 03:00:00-07:00</th>\n      <td>SCE-TAC</td>\n      <td>7DA</td>\n      <td>8619.08</td>\n      <td>JPL</td>\n    </tr>\n    <tr>\n      <th>2024-04-10 03:00:00-07:00</th>\n      <td>SCE-TAC</td>\n      <td>7DA</td>\n      <td>8619.08</td>\n      <td>Caltech</td>\n    </tr>\n  </tbody>\n</table>\n</div>"
     },
     "execution_count": 56,
     "metadata": {},
     "output_type": "execute_result"
    }
   ],
   "source": [
    "demand.head()"
   ],
   "metadata": {
    "collapsed": false,
    "ExecuteTime": {
     "end_time": "2024-04-10T06:59:02.906053773Z",
     "start_time": "2024-04-10T06:59:02.792074679Z"
    }
   },
   "id": "7ad2c8825c27cf75"
  },
  {
   "cell_type": "markdown",
   "source": [
    "# time features"
   ],
   "metadata": {
    "collapsed": false
   },
   "id": "f00bb992d212a459"
  },
  {
   "cell_type": "code",
   "execution_count": 57,
   "outputs": [
    {
     "name": "stdout",
     "output_type": "stream",
     "text": [
      "Office001 2024-04-10 00:58:56.756909 2024-04-17 00:58:56.756909\n",
      "Caltech 2024-04-10 00:58:56.756909 2024-04-17 00:58:56.756909\n",
      "JPL 2024-04-10 00:58:56.756909 2024-04-17 00:58:56.756909\n"
     ]
    },
    {
     "data": {
      "text/plain": "                           dow  hour  month  is_holiday       site\n2024-04-10 00:00:00-07:00    2     0      4       False  Office001\n2024-04-10 01:00:00-07:00    2     1      4       False  Office001\n2024-04-10 02:00:00-07:00    2     2      4       False  Office001\n2024-04-10 03:00:00-07:00    2     3      4       False  Office001\n2024-04-10 04:00:00-07:00    2     4      4       False  Office001",
      "text/html": "<div>\n<style scoped>\n    .dataframe tbody tr th:only-of-type {\n        vertical-align: middle;\n    }\n\n    .dataframe tbody tr th {\n        vertical-align: top;\n    }\n\n    .dataframe thead th {\n        text-align: right;\n    }\n</style>\n<table border=\"1\" class=\"dataframe\">\n  <thead>\n    <tr style=\"text-align: right;\">\n      <th></th>\n      <th>dow</th>\n      <th>hour</th>\n      <th>month</th>\n      <th>is_holiday</th>\n      <th>site</th>\n    </tr>\n  </thead>\n  <tbody>\n    <tr>\n      <th>2024-04-10 00:00:00-07:00</th>\n      <td>2</td>\n      <td>0</td>\n      <td>4</td>\n      <td>False</td>\n      <td>Office001</td>\n    </tr>\n    <tr>\n      <th>2024-04-10 01:00:00-07:00</th>\n      <td>2</td>\n      <td>1</td>\n      <td>4</td>\n      <td>False</td>\n      <td>Office001</td>\n    </tr>\n    <tr>\n      <th>2024-04-10 02:00:00-07:00</th>\n      <td>2</td>\n      <td>2</td>\n      <td>4</td>\n      <td>False</td>\n      <td>Office001</td>\n    </tr>\n    <tr>\n      <th>2024-04-10 03:00:00-07:00</th>\n      <td>2</td>\n      <td>3</td>\n      <td>4</td>\n      <td>False</td>\n      <td>Office001</td>\n    </tr>\n    <tr>\n      <th>2024-04-10 04:00:00-07:00</th>\n      <td>2</td>\n      <td>4</td>\n      <td>4</td>\n      <td>False</td>\n      <td>Office001</td>\n    </tr>\n  </tbody>\n</table>\n</div>"
     },
     "execution_count": 57,
     "metadata": {},
     "output_type": "execute_result"
    }
   ],
   "source": [
    "from src.data_preprocessing import  datetime_processing, userinput_processing, holiday_processing, create_all_site_x, create_all_site_y, create_x, update_varuns_x, get_start_end_times\n",
    "X = pd.DataFrame()\n",
    "for site in sites:\n",
    "    print(site, start, end)\n",
    "    # time\n",
    "    x = pd.DataFrame(index=pd.date_range(start.date(), end.date(), inclusive='both', freq='h', tz='UTC-07:00'),\n",
    "                     columns=['dow', 'hour', 'month'])\n",
    "    x['dow'] = x.index.dayofweek\n",
    "    x['hour'] = x.index.hour\n",
    "    x['month'] = x.index.month\n",
    "    \n",
    "    x = holiday_processing(x)\n",
    "    x['site'] = site\n",
    "    if X.empty:\n",
    "        X = x\n",
    "    else:\n",
    "        X = pd.concat([X, x], axis=0)\n",
    "        \n",
    "X.head()"
   ],
   "metadata": {
    "collapsed": false,
    "ExecuteTime": {
     "end_time": "2024-04-10T06:59:02.943059663Z",
     "start_time": "2024-04-10T06:59:02.805379260Z"
    }
   },
   "id": "bf9c47443be21357"
  },
  {
   "cell_type": "code",
   "execution_count": 58,
   "outputs": [
    {
     "name": "stdout",
     "output_type": "stream",
     "text": [
      "<class 'pandas.core.frame.DataFrame'>\n",
      "RangeIndex: 507 entries, 0 to 506\n",
      "Data columns (total 6 columns):\n",
      " #   Column      Non-Null Count  Dtype                    \n",
      "---  ------      --------------  -----                    \n",
      " 0   index       507 non-null    datetime64[ns, UTC-07:00]\n",
      " 1   dow         507 non-null    int32                    \n",
      " 2   hour        507 non-null    int32                    \n",
      " 3   month       507 non-null    int32                    \n",
      " 4   is_holiday  507 non-null    bool                     \n",
      " 5   site        507 non-null    object                   \n",
      "dtypes: bool(1), datetime64[ns, UTC-07:00](1), int32(3), object(1)\n",
      "memory usage: 14.5+ KB\n"
     ]
    }
   ],
   "source": [
    "X.reset_index().info()"
   ],
   "metadata": {
    "collapsed": false,
    "ExecuteTime": {
     "end_time": "2024-04-10T06:59:03.033935513Z",
     "start_time": "2024-04-10T06:59:02.880158357Z"
    }
   },
   "id": "178a8d6d839236b7"
  },
  {
   "cell_type": "code",
   "execution_count": 59,
   "outputs": [
    {
     "name": "stdout",
     "output_type": "stream",
     "text": [
      "<class 'pandas.core.frame.DataFrame'>\n",
      "RangeIndex: 501 entries, 0 to 500\n",
      "Data columns (total 5 columns):\n",
      " #   Column            Non-Null Count  Dtype                    \n",
      "---  ------            --------------  -----                    \n",
      " 0   datetime          501 non-null    datetime64[ns, UTC-07:00]\n",
      " 1   TAC_AREA_NAME     501 non-null    object                   \n",
      " 2   MARKET_RUN_ID     501 non-null    object                   \n",
      " 3   actual_demand_MW  501 non-null    float64                  \n",
      " 4   site              501 non-null    object                   \n",
      "dtypes: datetime64[ns, UTC-07:00](1), float64(1), object(3)\n",
      "memory usage: 19.7+ KB\n"
     ]
    }
   ],
   "source": [
    "demand.reset_index().info()"
   ],
   "metadata": {
    "collapsed": false,
    "ExecuteTime": {
     "end_time": "2024-04-10T06:59:03.034154025Z",
     "start_time": "2024-04-10T06:59:02.924825701Z"
    }
   },
   "id": "1fd439294b47ea8c"
  },
  {
   "cell_type": "code",
   "execution_count": 60,
   "outputs": [
    {
     "name": "stdout",
     "output_type": "stream",
     "text": [
      "<class 'pandas.core.frame.DataFrame'>\n",
      "RangeIndex: 507 entries, 0 to 506\n",
      "Data columns (total 6 columns):\n",
      " #   Column      Non-Null Count  Dtype                    \n",
      "---  ------      --------------  -----                    \n",
      " 0   index       507 non-null    datetime64[ns, UTC-07:00]\n",
      " 1   dow         507 non-null    int32                    \n",
      " 2   hour        507 non-null    int32                    \n",
      " 3   month       507 non-null    int32                    \n",
      " 4   is_holiday  507 non-null    bool                     \n",
      " 5   site        507 non-null    object                   \n",
      "dtypes: bool(1), datetime64[ns, UTC-07:00](1), int32(3), object(1)\n",
      "memory usage: 14.5+ KB\n"
     ]
    }
   ],
   "source": [
    "X.reset_index().info()"
   ],
   "metadata": {
    "collapsed": false,
    "ExecuteTime": {
     "end_time": "2024-04-10T06:59:03.034246684Z",
     "start_time": "2024-04-10T06:59:02.924995929Z"
    }
   },
   "id": "43bb37c162dd1923"
  },
  {
   "cell_type": "code",
   "execution_count": 61,
   "outputs": [
    {
     "data": {
      "text/plain": "                           dow  hour  month  is_holiday       site  \\\nindex                                                                \n2024-04-10 00:00:00-07:00    2     0      4       False  Office001   \n2024-04-10 01:00:00-07:00    2     1      4       False  Office001   \n2024-04-10 02:00:00-07:00    2     2      4       False  Office001   \n2024-04-10 03:00:00-07:00    2     3      4       False  Office001   \n2024-04-10 04:00:00-07:00    2     4      4       False  Office001   \n...                        ...   ...    ...         ...        ...   \n2024-04-16 20:00:00-07:00    1    20      4       False        JPL   \n2024-04-16 21:00:00-07:00    1    21      4       False        JPL   \n2024-04-16 22:00:00-07:00    1    22      4       False        JPL   \n2024-04-16 23:00:00-07:00    1    23      4       False        JPL   \n2024-04-17 00:00:00-07:00    2     0      4       False        JPL   \n\n                                           datetime TAC_AREA_NAME  \\\nindex                                                               \n2024-04-10 00:00:00-07:00                       NaT           NaN   \n2024-04-10 01:00:00-07:00                       NaT           NaN   \n2024-04-10 02:00:00-07:00 2024-04-10 02:00:00-07:00       PGE-TAC   \n2024-04-10 03:00:00-07:00 2024-04-10 03:00:00-07:00       PGE-TAC   \n2024-04-10 04:00:00-07:00 2024-04-10 04:00:00-07:00       PGE-TAC   \n...                                             ...           ...   \n2024-04-16 20:00:00-07:00 2024-04-16 20:00:00-07:00       SCE-TAC   \n2024-04-16 21:00:00-07:00 2024-04-16 21:00:00-07:00       SCE-TAC   \n2024-04-16 22:00:00-07:00 2024-04-16 22:00:00-07:00       SCE-TAC   \n2024-04-16 23:00:00-07:00 2024-04-16 23:00:00-07:00       SCE-TAC   \n2024-04-17 00:00:00-07:00 2024-04-17 00:00:00-07:00       SCE-TAC   \n\n                          MARKET_RUN_ID  actual_demand_MW  \\\nindex                                                       \n2024-04-10 00:00:00-07:00           NaN               NaN   \n2024-04-10 01:00:00-07:00           NaN               NaN   \n2024-04-10 02:00:00-07:00           7DA           9417.96   \n2024-04-10 03:00:00-07:00           7DA           9173.07   \n2024-04-10 04:00:00-07:00           7DA           9118.30   \n...                                 ...               ...   \n2024-04-16 20:00:00-07:00           7DA          11042.32   \n2024-04-16 21:00:00-07:00           7DA          11170.34   \n2024-04-16 22:00:00-07:00           7DA          10914.48   \n2024-04-16 23:00:00-07:00           7DA          10306.69   \n2024-04-17 00:00:00-07:00           7DA           9622.43   \n\n                                               time  temperature_degC  \\\nindex                                                                   \n2024-04-10 00:00:00-07:00 2024-04-10 00:00:00-07:00             12.78   \n2024-04-10 01:00:00-07:00 2024-04-10 01:00:00-07:00             11.67   \n2024-04-10 02:00:00-07:00 2024-04-10 02:00:00-07:00             11.11   \n2024-04-10 03:00:00-07:00 2024-04-10 03:00:00-07:00             10.56   \n2024-04-10 04:00:00-07:00 2024-04-10 04:00:00-07:00              9.44   \n...                                             ...               ...   \n2024-04-16 20:00:00-07:00                       NaT               NaN   \n2024-04-16 21:00:00-07:00                       NaT               NaN   \n2024-04-16 22:00:00-07:00                       NaT               NaN   \n2024-04-16 23:00:00-07:00                       NaT               NaN   \n2024-04-17 00:00:00-07:00                       NaT               NaN   \n\n                           dewpoint_degC  relative_humidity_%  wind_speed_mph  \nindex                                                                          \n2024-04-10 00:00:00-07:00          10.00                 81.0             2.0  \n2024-04-10 01:00:00-07:00           8.89                 83.0             2.0  \n2024-04-10 02:00:00-07:00           8.33                 84.0             2.0  \n2024-04-10 03:00:00-07:00           8.33                 86.0             2.0  \n2024-04-10 04:00:00-07:00           7.22                 85.0             2.0  \n...                                  ...                  ...             ...  \n2024-04-16 20:00:00-07:00            NaN                  NaN             NaN  \n2024-04-16 21:00:00-07:00            NaN                  NaN             NaN  \n2024-04-16 22:00:00-07:00            NaN                  NaN             NaN  \n2024-04-16 23:00:00-07:00            NaN                  NaN             NaN  \n2024-04-17 00:00:00-07:00            NaN                  NaN             NaN  \n\n[507 rows x 14 columns]",
      "text/html": "<div>\n<style scoped>\n    .dataframe tbody tr th:only-of-type {\n        vertical-align: middle;\n    }\n\n    .dataframe tbody tr th {\n        vertical-align: top;\n    }\n\n    .dataframe thead th {\n        text-align: right;\n    }\n</style>\n<table border=\"1\" class=\"dataframe\">\n  <thead>\n    <tr style=\"text-align: right;\">\n      <th></th>\n      <th>dow</th>\n      <th>hour</th>\n      <th>month</th>\n      <th>is_holiday</th>\n      <th>site</th>\n      <th>datetime</th>\n      <th>TAC_AREA_NAME</th>\n      <th>MARKET_RUN_ID</th>\n      <th>actual_demand_MW</th>\n      <th>time</th>\n      <th>temperature_degC</th>\n      <th>dewpoint_degC</th>\n      <th>relative_humidity_%</th>\n      <th>wind_speed_mph</th>\n    </tr>\n    <tr>\n      <th>index</th>\n      <th></th>\n      <th></th>\n      <th></th>\n      <th></th>\n      <th></th>\n      <th></th>\n      <th></th>\n      <th></th>\n      <th></th>\n      <th></th>\n      <th></th>\n      <th></th>\n      <th></th>\n      <th></th>\n    </tr>\n  </thead>\n  <tbody>\n    <tr>\n      <th>2024-04-10 00:00:00-07:00</th>\n      <td>2</td>\n      <td>0</td>\n      <td>4</td>\n      <td>False</td>\n      <td>Office001</td>\n      <td>NaT</td>\n      <td>NaN</td>\n      <td>NaN</td>\n      <td>NaN</td>\n      <td>2024-04-10 00:00:00-07:00</td>\n      <td>12.78</td>\n      <td>10.00</td>\n      <td>81.0</td>\n      <td>2.0</td>\n    </tr>\n    <tr>\n      <th>2024-04-10 01:00:00-07:00</th>\n      <td>2</td>\n      <td>1</td>\n      <td>4</td>\n      <td>False</td>\n      <td>Office001</td>\n      <td>NaT</td>\n      <td>NaN</td>\n      <td>NaN</td>\n      <td>NaN</td>\n      <td>2024-04-10 01:00:00-07:00</td>\n      <td>11.67</td>\n      <td>8.89</td>\n      <td>83.0</td>\n      <td>2.0</td>\n    </tr>\n    <tr>\n      <th>2024-04-10 02:00:00-07:00</th>\n      <td>2</td>\n      <td>2</td>\n      <td>4</td>\n      <td>False</td>\n      <td>Office001</td>\n      <td>2024-04-10 02:00:00-07:00</td>\n      <td>PGE-TAC</td>\n      <td>7DA</td>\n      <td>9417.96</td>\n      <td>2024-04-10 02:00:00-07:00</td>\n      <td>11.11</td>\n      <td>8.33</td>\n      <td>84.0</td>\n      <td>2.0</td>\n    </tr>\n    <tr>\n      <th>2024-04-10 03:00:00-07:00</th>\n      <td>2</td>\n      <td>3</td>\n      <td>4</td>\n      <td>False</td>\n      <td>Office001</td>\n      <td>2024-04-10 03:00:00-07:00</td>\n      <td>PGE-TAC</td>\n      <td>7DA</td>\n      <td>9173.07</td>\n      <td>2024-04-10 03:00:00-07:00</td>\n      <td>10.56</td>\n      <td>8.33</td>\n      <td>86.0</td>\n      <td>2.0</td>\n    </tr>\n    <tr>\n      <th>2024-04-10 04:00:00-07:00</th>\n      <td>2</td>\n      <td>4</td>\n      <td>4</td>\n      <td>False</td>\n      <td>Office001</td>\n      <td>2024-04-10 04:00:00-07:00</td>\n      <td>PGE-TAC</td>\n      <td>7DA</td>\n      <td>9118.30</td>\n      <td>2024-04-10 04:00:00-07:00</td>\n      <td>9.44</td>\n      <td>7.22</td>\n      <td>85.0</td>\n      <td>2.0</td>\n    </tr>\n    <tr>\n      <th>...</th>\n      <td>...</td>\n      <td>...</td>\n      <td>...</td>\n      <td>...</td>\n      <td>...</td>\n      <td>...</td>\n      <td>...</td>\n      <td>...</td>\n      <td>...</td>\n      <td>...</td>\n      <td>...</td>\n      <td>...</td>\n      <td>...</td>\n      <td>...</td>\n    </tr>\n    <tr>\n      <th>2024-04-16 20:00:00-07:00</th>\n      <td>1</td>\n      <td>20</td>\n      <td>4</td>\n      <td>False</td>\n      <td>JPL</td>\n      <td>2024-04-16 20:00:00-07:00</td>\n      <td>SCE-TAC</td>\n      <td>7DA</td>\n      <td>11042.32</td>\n      <td>NaT</td>\n      <td>NaN</td>\n      <td>NaN</td>\n      <td>NaN</td>\n      <td>NaN</td>\n    </tr>\n    <tr>\n      <th>2024-04-16 21:00:00-07:00</th>\n      <td>1</td>\n      <td>21</td>\n      <td>4</td>\n      <td>False</td>\n      <td>JPL</td>\n      <td>2024-04-16 21:00:00-07:00</td>\n      <td>SCE-TAC</td>\n      <td>7DA</td>\n      <td>11170.34</td>\n      <td>NaT</td>\n      <td>NaN</td>\n      <td>NaN</td>\n      <td>NaN</td>\n      <td>NaN</td>\n    </tr>\n    <tr>\n      <th>2024-04-16 22:00:00-07:00</th>\n      <td>1</td>\n      <td>22</td>\n      <td>4</td>\n      <td>False</td>\n      <td>JPL</td>\n      <td>2024-04-16 22:00:00-07:00</td>\n      <td>SCE-TAC</td>\n      <td>7DA</td>\n      <td>10914.48</td>\n      <td>NaT</td>\n      <td>NaN</td>\n      <td>NaN</td>\n      <td>NaN</td>\n      <td>NaN</td>\n    </tr>\n    <tr>\n      <th>2024-04-16 23:00:00-07:00</th>\n      <td>1</td>\n      <td>23</td>\n      <td>4</td>\n      <td>False</td>\n      <td>JPL</td>\n      <td>2024-04-16 23:00:00-07:00</td>\n      <td>SCE-TAC</td>\n      <td>7DA</td>\n      <td>10306.69</td>\n      <td>NaT</td>\n      <td>NaN</td>\n      <td>NaN</td>\n      <td>NaN</td>\n      <td>NaN</td>\n    </tr>\n    <tr>\n      <th>2024-04-17 00:00:00-07:00</th>\n      <td>2</td>\n      <td>0</td>\n      <td>4</td>\n      <td>False</td>\n      <td>JPL</td>\n      <td>2024-04-17 00:00:00-07:00</td>\n      <td>SCE-TAC</td>\n      <td>7DA</td>\n      <td>9622.43</td>\n      <td>NaT</td>\n      <td>NaN</td>\n      <td>NaN</td>\n      <td>NaN</td>\n      <td>NaN</td>\n    </tr>\n  </tbody>\n</table>\n<p>507 rows × 14 columns</p>\n</div>"
     },
     "execution_count": 61,
     "metadata": {},
     "output_type": "execute_result"
    }
   ],
   "source": [
    "tmp = pd.merge(X.reset_index(), demand.reset_index(), how='left', left_on=['index', 'site'], right_on=['datetime', 'site'])\n",
    "tmp = pd.merge(tmp, future_weather.reset_index(), how='left', left_on=['index','site'], right_on=['time', 'site'])\n",
    "tmp.set_index('index',inplace=True)\n",
    "tmp"
   ],
   "metadata": {
    "collapsed": false,
    "ExecuteTime": {
     "end_time": "2024-04-10T06:59:03.064472457Z",
     "start_time": "2024-04-10T06:59:02.925074288Z"
    }
   },
   "id": "4c109e774a94818"
  },
  {
   "cell_type": "code",
   "execution_count": 62,
   "outputs": [],
   "source": [
    "features = ['dow', 'hour', 'month', 'is_holiday', 'actual_demand_MW',\n",
    "       'temperature_degC', 'dewpoint_degC', 'relative_humidity_%',\n",
    "       'wind_speed_mph', 'site']\n",
    "tmp = tmp[features]"
   ],
   "metadata": {
    "collapsed": false,
    "ExecuteTime": {
     "end_time": "2024-04-10T06:59:03.146935791Z",
     "start_time": "2024-04-10T06:59:02.935483714Z"
    }
   },
   "id": "99b41c9d71dce8e8"
  },
  {
   "cell_type": "code",
   "execution_count": 63,
   "outputs": [
    {
     "data": {
      "text/plain": "                           dow  hour  month  is_holiday  actual_demand_MW  \\\nindex                                                                       \n2024-04-10 02:00:00-07:00    2     2      4       False           9417.96   \n2024-04-10 03:00:00-07:00    2     3      4       False           9173.07   \n2024-04-10 04:00:00-07:00    2     4      4       False           9118.30   \n2024-04-10 05:00:00-07:00    2     5      4       False           9335.23   \n2024-04-10 06:00:00-07:00    2     6      4       False           9929.14   \n...                        ...   ...    ...         ...               ...   \n2024-04-16 06:00:00-07:00    1     6      4       False           9337.86   \n2024-04-16 07:00:00-07:00    1     7      4       False           9972.62   \n2024-04-16 08:00:00-07:00    1     8      4       False           9985.37   \n2024-04-16 09:00:00-07:00    1     9      4       False           9346.40   \n2024-04-16 10:00:00-07:00    1    10      4       False           8683.60   \n\n                           temperature_degC  dewpoint_degC  \\\nindex                                                        \n2024-04-10 02:00:00-07:00             11.11           8.33   \n2024-04-10 03:00:00-07:00             10.56           8.33   \n2024-04-10 04:00:00-07:00              9.44           7.22   \n2024-04-10 05:00:00-07:00             10.00           7.78   \n2024-04-10 06:00:00-07:00             10.00           7.78   \n...                                     ...            ...   \n2024-04-16 06:00:00-07:00              9.44           6.67   \n2024-04-16 07:00:00-07:00             10.00           7.22   \n2024-04-16 08:00:00-07:00             11.11           8.33   \n2024-04-16 09:00:00-07:00             12.78           8.89   \n2024-04-16 10:00:00-07:00             14.44           9.44   \n\n                           relative_humidity_%  wind_speed_mph       site  \nindex                                                                      \n2024-04-10 02:00:00-07:00                 84.0             2.0  Office001  \n2024-04-10 03:00:00-07:00                 86.0             2.0  Office001  \n2024-04-10 04:00:00-07:00                 85.0             2.0  Office001  \n2024-04-10 05:00:00-07:00                 87.0             2.0  Office001  \n2024-04-10 06:00:00-07:00                 87.0             2.0  Office001  \n...                                        ...             ...        ...  \n2024-04-16 06:00:00-07:00                 85.0             5.0        JPL  \n2024-04-16 07:00:00-07:00                 85.0             5.0        JPL  \n2024-04-16 08:00:00-07:00                 83.0             5.0        JPL  \n2024-04-16 09:00:00-07:00                 79.0             5.0        JPL  \n2024-04-16 10:00:00-07:00                 73.0             5.0        JPL  \n\n[459 rows x 10 columns]",
      "text/html": "<div>\n<style scoped>\n    .dataframe tbody tr th:only-of-type {\n        vertical-align: middle;\n    }\n\n    .dataframe tbody tr th {\n        vertical-align: top;\n    }\n\n    .dataframe thead th {\n        text-align: right;\n    }\n</style>\n<table border=\"1\" class=\"dataframe\">\n  <thead>\n    <tr style=\"text-align: right;\">\n      <th></th>\n      <th>dow</th>\n      <th>hour</th>\n      <th>month</th>\n      <th>is_holiday</th>\n      <th>actual_demand_MW</th>\n      <th>temperature_degC</th>\n      <th>dewpoint_degC</th>\n      <th>relative_humidity_%</th>\n      <th>wind_speed_mph</th>\n      <th>site</th>\n    </tr>\n    <tr>\n      <th>index</th>\n      <th></th>\n      <th></th>\n      <th></th>\n      <th></th>\n      <th></th>\n      <th></th>\n      <th></th>\n      <th></th>\n      <th></th>\n      <th></th>\n    </tr>\n  </thead>\n  <tbody>\n    <tr>\n      <th>2024-04-10 02:00:00-07:00</th>\n      <td>2</td>\n      <td>2</td>\n      <td>4</td>\n      <td>False</td>\n      <td>9417.96</td>\n      <td>11.11</td>\n      <td>8.33</td>\n      <td>84.0</td>\n      <td>2.0</td>\n      <td>Office001</td>\n    </tr>\n    <tr>\n      <th>2024-04-10 03:00:00-07:00</th>\n      <td>2</td>\n      <td>3</td>\n      <td>4</td>\n      <td>False</td>\n      <td>9173.07</td>\n      <td>10.56</td>\n      <td>8.33</td>\n      <td>86.0</td>\n      <td>2.0</td>\n      <td>Office001</td>\n    </tr>\n    <tr>\n      <th>2024-04-10 04:00:00-07:00</th>\n      <td>2</td>\n      <td>4</td>\n      <td>4</td>\n      <td>False</td>\n      <td>9118.30</td>\n      <td>9.44</td>\n      <td>7.22</td>\n      <td>85.0</td>\n      <td>2.0</td>\n      <td>Office001</td>\n    </tr>\n    <tr>\n      <th>2024-04-10 05:00:00-07:00</th>\n      <td>2</td>\n      <td>5</td>\n      <td>4</td>\n      <td>False</td>\n      <td>9335.23</td>\n      <td>10.00</td>\n      <td>7.78</td>\n      <td>87.0</td>\n      <td>2.0</td>\n      <td>Office001</td>\n    </tr>\n    <tr>\n      <th>2024-04-10 06:00:00-07:00</th>\n      <td>2</td>\n      <td>6</td>\n      <td>4</td>\n      <td>False</td>\n      <td>9929.14</td>\n      <td>10.00</td>\n      <td>7.78</td>\n      <td>87.0</td>\n      <td>2.0</td>\n      <td>Office001</td>\n    </tr>\n    <tr>\n      <th>...</th>\n      <td>...</td>\n      <td>...</td>\n      <td>...</td>\n      <td>...</td>\n      <td>...</td>\n      <td>...</td>\n      <td>...</td>\n      <td>...</td>\n      <td>...</td>\n      <td>...</td>\n    </tr>\n    <tr>\n      <th>2024-04-16 06:00:00-07:00</th>\n      <td>1</td>\n      <td>6</td>\n      <td>4</td>\n      <td>False</td>\n      <td>9337.86</td>\n      <td>9.44</td>\n      <td>6.67</td>\n      <td>85.0</td>\n      <td>5.0</td>\n      <td>JPL</td>\n    </tr>\n    <tr>\n      <th>2024-04-16 07:00:00-07:00</th>\n      <td>1</td>\n      <td>7</td>\n      <td>4</td>\n      <td>False</td>\n      <td>9972.62</td>\n      <td>10.00</td>\n      <td>7.22</td>\n      <td>85.0</td>\n      <td>5.0</td>\n      <td>JPL</td>\n    </tr>\n    <tr>\n      <th>2024-04-16 08:00:00-07:00</th>\n      <td>1</td>\n      <td>8</td>\n      <td>4</td>\n      <td>False</td>\n      <td>9985.37</td>\n      <td>11.11</td>\n      <td>8.33</td>\n      <td>83.0</td>\n      <td>5.0</td>\n      <td>JPL</td>\n    </tr>\n    <tr>\n      <th>2024-04-16 09:00:00-07:00</th>\n      <td>1</td>\n      <td>9</td>\n      <td>4</td>\n      <td>False</td>\n      <td>9346.40</td>\n      <td>12.78</td>\n      <td>8.89</td>\n      <td>79.0</td>\n      <td>5.0</td>\n      <td>JPL</td>\n    </tr>\n    <tr>\n      <th>2024-04-16 10:00:00-07:00</th>\n      <td>1</td>\n      <td>10</td>\n      <td>4</td>\n      <td>False</td>\n      <td>8683.60</td>\n      <td>14.44</td>\n      <td>9.44</td>\n      <td>73.0</td>\n      <td>5.0</td>\n      <td>JPL</td>\n    </tr>\n  </tbody>\n</table>\n<p>459 rows × 10 columns</p>\n</div>"
     },
     "execution_count": 63,
     "metadata": {},
     "output_type": "execute_result"
    }
   ],
   "source": [
    "tmp[(~tmp['actual_demand_MW'].isnull()) & (~tmp['temperature_degC'].isnull())]"
   ],
   "metadata": {
    "collapsed": false,
    "ExecuteTime": {
     "end_time": "2024-04-10T06:59:03.147987536Z",
     "start_time": "2024-04-10T06:59:02.980927203Z"
    }
   },
   "id": "14047f6072eb20a"
  },
  {
   "cell_type": "code",
   "execution_count": 64,
   "outputs": [
    {
     "data": {
      "text/plain": "                           dow  hour  month  is_holiday  actual_demand_MW  \\\nindex                                                                       \n2024-04-10 02:00:00-07:00    2     2      4       False           9417.96   \n2024-04-10 03:00:00-07:00    2     3      4       False           9173.07   \n2024-04-10 04:00:00-07:00    2     4      4       False           9118.30   \n2024-04-10 05:00:00-07:00    2     5      4       False           9335.23   \n2024-04-10 06:00:00-07:00    2     6      4       False           9929.14   \n...                        ...   ...    ...         ...               ...   \n2024-04-16 06:00:00-07:00    1     6      4       False           9337.86   \n2024-04-16 07:00:00-07:00    1     7      4       False           9972.62   \n2024-04-16 08:00:00-07:00    1     8      4       False           9985.37   \n2024-04-16 09:00:00-07:00    1     9      4       False           9346.40   \n2024-04-16 10:00:00-07:00    1    10      4       False           8683.60   \n\n                           temperature_degC  dewpoint_degC  \\\nindex                                                        \n2024-04-10 02:00:00-07:00             11.11           8.33   \n2024-04-10 03:00:00-07:00             10.56           8.33   \n2024-04-10 04:00:00-07:00              9.44           7.22   \n2024-04-10 05:00:00-07:00             10.00           7.78   \n2024-04-10 06:00:00-07:00             10.00           7.78   \n...                                     ...            ...   \n2024-04-16 06:00:00-07:00              9.44           6.67   \n2024-04-16 07:00:00-07:00             10.00           7.22   \n2024-04-16 08:00:00-07:00             11.11           8.33   \n2024-04-16 09:00:00-07:00             12.78           8.89   \n2024-04-16 10:00:00-07:00             14.44           9.44   \n\n                           relative_humidity_%  wind_speed_mph       site  \nindex                                                                      \n2024-04-10 02:00:00-07:00                 84.0             2.0  Office001  \n2024-04-10 03:00:00-07:00                 86.0             2.0  Office001  \n2024-04-10 04:00:00-07:00                 85.0             2.0  Office001  \n2024-04-10 05:00:00-07:00                 87.0             2.0  Office001  \n2024-04-10 06:00:00-07:00                 87.0             2.0  Office001  \n...                                        ...             ...        ...  \n2024-04-16 06:00:00-07:00                 85.0             5.0        JPL  \n2024-04-16 07:00:00-07:00                 85.0             5.0        JPL  \n2024-04-16 08:00:00-07:00                 83.0             5.0        JPL  \n2024-04-16 09:00:00-07:00                 79.0             5.0        JPL  \n2024-04-16 10:00:00-07:00                 73.0             5.0        JPL  \n\n[459 rows x 10 columns]",
      "text/html": "<div>\n<style scoped>\n    .dataframe tbody tr th:only-of-type {\n        vertical-align: middle;\n    }\n\n    .dataframe tbody tr th {\n        vertical-align: top;\n    }\n\n    .dataframe thead th {\n        text-align: right;\n    }\n</style>\n<table border=\"1\" class=\"dataframe\">\n  <thead>\n    <tr style=\"text-align: right;\">\n      <th></th>\n      <th>dow</th>\n      <th>hour</th>\n      <th>month</th>\n      <th>is_holiday</th>\n      <th>actual_demand_MW</th>\n      <th>temperature_degC</th>\n      <th>dewpoint_degC</th>\n      <th>relative_humidity_%</th>\n      <th>wind_speed_mph</th>\n      <th>site</th>\n    </tr>\n    <tr>\n      <th>index</th>\n      <th></th>\n      <th></th>\n      <th></th>\n      <th></th>\n      <th></th>\n      <th></th>\n      <th></th>\n      <th></th>\n      <th></th>\n      <th></th>\n    </tr>\n  </thead>\n  <tbody>\n    <tr>\n      <th>2024-04-10 02:00:00-07:00</th>\n      <td>2</td>\n      <td>2</td>\n      <td>4</td>\n      <td>False</td>\n      <td>9417.96</td>\n      <td>11.11</td>\n      <td>8.33</td>\n      <td>84.0</td>\n      <td>2.0</td>\n      <td>Office001</td>\n    </tr>\n    <tr>\n      <th>2024-04-10 03:00:00-07:00</th>\n      <td>2</td>\n      <td>3</td>\n      <td>4</td>\n      <td>False</td>\n      <td>9173.07</td>\n      <td>10.56</td>\n      <td>8.33</td>\n      <td>86.0</td>\n      <td>2.0</td>\n      <td>Office001</td>\n    </tr>\n    <tr>\n      <th>2024-04-10 04:00:00-07:00</th>\n      <td>2</td>\n      <td>4</td>\n      <td>4</td>\n      <td>False</td>\n      <td>9118.30</td>\n      <td>9.44</td>\n      <td>7.22</td>\n      <td>85.0</td>\n      <td>2.0</td>\n      <td>Office001</td>\n    </tr>\n    <tr>\n      <th>2024-04-10 05:00:00-07:00</th>\n      <td>2</td>\n      <td>5</td>\n      <td>4</td>\n      <td>False</td>\n      <td>9335.23</td>\n      <td>10.00</td>\n      <td>7.78</td>\n      <td>87.0</td>\n      <td>2.0</td>\n      <td>Office001</td>\n    </tr>\n    <tr>\n      <th>2024-04-10 06:00:00-07:00</th>\n      <td>2</td>\n      <td>6</td>\n      <td>4</td>\n      <td>False</td>\n      <td>9929.14</td>\n      <td>10.00</td>\n      <td>7.78</td>\n      <td>87.0</td>\n      <td>2.0</td>\n      <td>Office001</td>\n    </tr>\n    <tr>\n      <th>...</th>\n      <td>...</td>\n      <td>...</td>\n      <td>...</td>\n      <td>...</td>\n      <td>...</td>\n      <td>...</td>\n      <td>...</td>\n      <td>...</td>\n      <td>...</td>\n      <td>...</td>\n    </tr>\n    <tr>\n      <th>2024-04-16 06:00:00-07:00</th>\n      <td>1</td>\n      <td>6</td>\n      <td>4</td>\n      <td>False</td>\n      <td>9337.86</td>\n      <td>9.44</td>\n      <td>6.67</td>\n      <td>85.0</td>\n      <td>5.0</td>\n      <td>JPL</td>\n    </tr>\n    <tr>\n      <th>2024-04-16 07:00:00-07:00</th>\n      <td>1</td>\n      <td>7</td>\n      <td>4</td>\n      <td>False</td>\n      <td>9972.62</td>\n      <td>10.00</td>\n      <td>7.22</td>\n      <td>85.0</td>\n      <td>5.0</td>\n      <td>JPL</td>\n    </tr>\n    <tr>\n      <th>2024-04-16 08:00:00-07:00</th>\n      <td>1</td>\n      <td>8</td>\n      <td>4</td>\n      <td>False</td>\n      <td>9985.37</td>\n      <td>11.11</td>\n      <td>8.33</td>\n      <td>83.0</td>\n      <td>5.0</td>\n      <td>JPL</td>\n    </tr>\n    <tr>\n      <th>2024-04-16 09:00:00-07:00</th>\n      <td>1</td>\n      <td>9</td>\n      <td>4</td>\n      <td>False</td>\n      <td>9346.40</td>\n      <td>12.78</td>\n      <td>8.89</td>\n      <td>79.0</td>\n      <td>5.0</td>\n      <td>JPL</td>\n    </tr>\n    <tr>\n      <th>2024-04-16 10:00:00-07:00</th>\n      <td>1</td>\n      <td>10</td>\n      <td>4</td>\n      <td>False</td>\n      <td>8683.60</td>\n      <td>14.44</td>\n      <td>9.44</td>\n      <td>73.0</td>\n      <td>5.0</td>\n      <td>JPL</td>\n    </tr>\n  </tbody>\n</table>\n<p>459 rows × 10 columns</p>\n</div>"
     },
     "execution_count": 64,
     "metadata": {},
     "output_type": "execute_result"
    }
   ],
   "source": [
    "# remove records missing data\n",
    "tmp = tmp[~tmp.isna().any(axis=1)]\n",
    "tmp"
   ],
   "metadata": {
    "collapsed": false,
    "ExecuteTime": {
     "end_time": "2024-04-10T06:59:03.148735601Z",
     "start_time": "2024-04-10T06:59:02.981127257Z"
    }
   },
   "id": "4c17ec9cf44af436"
  },
  {
   "cell_type": "markdown",
   "source": [
    "# grab model, inference"
   ],
   "metadata": {
    "collapsed": false
   },
   "id": "7a942f6905ccb3f9"
  },
  {
   "cell_type": "code",
   "execution_count": 65,
   "outputs": [
    {
     "data": {
      "text/plain": "Pipeline(steps=[('preprocessing',\n                 ColumnTransformer(transformers=[('num', StandardScaler(),\n                                                  ['actual_demand_MW',\n                                                   'temperature_degC',\n                                                   'dewpoint_degC',\n                                                   'relative_humidity_%',\n                                                   'wind_speed_mph']),\n                                                 ('cat',\n                                                  OneHotEncoder(drop='first',\n                                                                handle_unknown='ignore',\n                                                                sparse_output=False),\n                                                  ['dow', 'hour', 'month',\n                                                   'is_holiday', 'site'])])),\n                ('xgb',\n                 XGBRegressor(base_score=None, boo...\n                              feature_types=None, gamma=None, grow_policy=None,\n                              importance_type=None,\n                              interaction_constraints=None, learning_rate=None,\n                              max_bin=None, max_cat_threshold=None,\n                              max_cat_to_onehot=None, max_delta_step=None,\n                              max_depth=None, max_leaves=None,\n                              min_child_weight=None, missing=nan,\n                              monotone_constraints=None, multi_strategy=None,\n                              n_estimators=None, n_jobs=None,\n                              num_parallel_tree=None, random_state=None, ...))])",
      "text/html": "<style>#sk-container-id-1 {\n  /* Definition of color scheme common for light and dark mode */\n  --sklearn-color-text: black;\n  --sklearn-color-line: gray;\n  /* Definition of color scheme for unfitted estimators */\n  --sklearn-color-unfitted-level-0: #fff5e6;\n  --sklearn-color-unfitted-level-1: #f6e4d2;\n  --sklearn-color-unfitted-level-2: #ffe0b3;\n  --sklearn-color-unfitted-level-3: chocolate;\n  /* Definition of color scheme for fitted estimators */\n  --sklearn-color-fitted-level-0: #f0f8ff;\n  --sklearn-color-fitted-level-1: #d4ebff;\n  --sklearn-color-fitted-level-2: #b3dbfd;\n  --sklearn-color-fitted-level-3: cornflowerblue;\n\n  /* Specific color for light theme */\n  --sklearn-color-text-on-default-background: var(--sg-text-color, var(--theme-code-foreground, var(--jp-content-font-color1, black)));\n  --sklearn-color-background: var(--sg-background-color, var(--theme-background, var(--jp-layout-color0, white)));\n  --sklearn-color-border-box: var(--sg-text-color, var(--theme-code-foreground, var(--jp-content-font-color1, black)));\n  --sklearn-color-icon: #696969;\n\n  @media (prefers-color-scheme: dark) {\n    /* Redefinition of color scheme for dark theme */\n    --sklearn-color-text-on-default-background: var(--sg-text-color, var(--theme-code-foreground, var(--jp-content-font-color1, white)));\n    --sklearn-color-background: var(--sg-background-color, var(--theme-background, var(--jp-layout-color0, #111)));\n    --sklearn-color-border-box: var(--sg-text-color, var(--theme-code-foreground, var(--jp-content-font-color1, white)));\n    --sklearn-color-icon: #878787;\n  }\n}\n\n#sk-container-id-1 {\n  color: var(--sklearn-color-text);\n}\n\n#sk-container-id-1 pre {\n  padding: 0;\n}\n\n#sk-container-id-1 input.sk-hidden--visually {\n  border: 0;\n  clip: rect(1px 1px 1px 1px);\n  clip: rect(1px, 1px, 1px, 1px);\n  height: 1px;\n  margin: -1px;\n  overflow: hidden;\n  padding: 0;\n  position: absolute;\n  width: 1px;\n}\n\n#sk-container-id-1 div.sk-dashed-wrapped {\n  border: 1px dashed var(--sklearn-color-line);\n  margin: 0 0.4em 0.5em 0.4em;\n  box-sizing: border-box;\n  padding-bottom: 0.4em;\n  background-color: var(--sklearn-color-background);\n}\n\n#sk-container-id-1 div.sk-container {\n  /* jupyter's `normalize.less` sets `[hidden] { display: none; }`\n     but bootstrap.min.css set `[hidden] { display: none !important; }`\n     so we also need the `!important` here to be able to override the\n     default hidden behavior on the sphinx rendered scikit-learn.org.\n     See: https://github.com/scikit-learn/scikit-learn/issues/21755 */\n  display: inline-block !important;\n  position: relative;\n}\n\n#sk-container-id-1 div.sk-text-repr-fallback {\n  display: none;\n}\n\ndiv.sk-parallel-item,\ndiv.sk-serial,\ndiv.sk-item {\n  /* draw centered vertical line to link estimators */\n  background-image: linear-gradient(var(--sklearn-color-text-on-default-background), var(--sklearn-color-text-on-default-background));\n  background-size: 2px 100%;\n  background-repeat: no-repeat;\n  background-position: center center;\n}\n\n/* Parallel-specific style estimator block */\n\n#sk-container-id-1 div.sk-parallel-item::after {\n  content: \"\";\n  width: 100%;\n  border-bottom: 2px solid var(--sklearn-color-text-on-default-background);\n  flex-grow: 1;\n}\n\n#sk-container-id-1 div.sk-parallel {\n  display: flex;\n  align-items: stretch;\n  justify-content: center;\n  background-color: var(--sklearn-color-background);\n  position: relative;\n}\n\n#sk-container-id-1 div.sk-parallel-item {\n  display: flex;\n  flex-direction: column;\n}\n\n#sk-container-id-1 div.sk-parallel-item:first-child::after {\n  align-self: flex-end;\n  width: 50%;\n}\n\n#sk-container-id-1 div.sk-parallel-item:last-child::after {\n  align-self: flex-start;\n  width: 50%;\n}\n\n#sk-container-id-1 div.sk-parallel-item:only-child::after {\n  width: 0;\n}\n\n/* Serial-specific style estimator block */\n\n#sk-container-id-1 div.sk-serial {\n  display: flex;\n  flex-direction: column;\n  align-items: center;\n  background-color: var(--sklearn-color-background);\n  padding-right: 1em;\n  padding-left: 1em;\n}\n\n\n/* Toggleable style: style used for estimator/Pipeline/ColumnTransformer box that is\nclickable and can be expanded/collapsed.\n- Pipeline and ColumnTransformer use this feature and define the default style\n- Estimators will overwrite some part of the style using the `sk-estimator` class\n*/\n\n/* Pipeline and ColumnTransformer style (default) */\n\n#sk-container-id-1 div.sk-toggleable {\n  /* Default theme specific background. It is overwritten whether we have a\n  specific estimator or a Pipeline/ColumnTransformer */\n  background-color: var(--sklearn-color-background);\n}\n\n/* Toggleable label */\n#sk-container-id-1 label.sk-toggleable__label {\n  cursor: pointer;\n  display: block;\n  width: 100%;\n  margin-bottom: 0;\n  padding: 0.5em;\n  box-sizing: border-box;\n  text-align: center;\n}\n\n#sk-container-id-1 label.sk-toggleable__label-arrow:before {\n  /* Arrow on the left of the label */\n  content: \"▸\";\n  float: left;\n  margin-right: 0.25em;\n  color: var(--sklearn-color-icon);\n}\n\n#sk-container-id-1 label.sk-toggleable__label-arrow:hover:before {\n  color: var(--sklearn-color-text);\n}\n\n/* Toggleable content - dropdown */\n\n#sk-container-id-1 div.sk-toggleable__content {\n  max-height: 0;\n  max-width: 0;\n  overflow: hidden;\n  text-align: left;\n  /* unfitted */\n  background-color: var(--sklearn-color-unfitted-level-0);\n}\n\n#sk-container-id-1 div.sk-toggleable__content.fitted {\n  /* fitted */\n  background-color: var(--sklearn-color-fitted-level-0);\n}\n\n#sk-container-id-1 div.sk-toggleable__content pre {\n  margin: 0.2em;\n  border-radius: 0.25em;\n  color: var(--sklearn-color-text);\n  /* unfitted */\n  background-color: var(--sklearn-color-unfitted-level-0);\n}\n\n#sk-container-id-1 div.sk-toggleable__content.fitted pre {\n  /* unfitted */\n  background-color: var(--sklearn-color-fitted-level-0);\n}\n\n#sk-container-id-1 input.sk-toggleable__control:checked~div.sk-toggleable__content {\n  /* Expand drop-down */\n  max-height: 200px;\n  max-width: 100%;\n  overflow: auto;\n}\n\n#sk-container-id-1 input.sk-toggleable__control:checked~label.sk-toggleable__label-arrow:before {\n  content: \"▾\";\n}\n\n/* Pipeline/ColumnTransformer-specific style */\n\n#sk-container-id-1 div.sk-label input.sk-toggleable__control:checked~label.sk-toggleable__label {\n  color: var(--sklearn-color-text);\n  background-color: var(--sklearn-color-unfitted-level-2);\n}\n\n#sk-container-id-1 div.sk-label.fitted input.sk-toggleable__control:checked~label.sk-toggleable__label {\n  background-color: var(--sklearn-color-fitted-level-2);\n}\n\n/* Estimator-specific style */\n\n/* Colorize estimator box */\n#sk-container-id-1 div.sk-estimator input.sk-toggleable__control:checked~label.sk-toggleable__label {\n  /* unfitted */\n  background-color: var(--sklearn-color-unfitted-level-2);\n}\n\n#sk-container-id-1 div.sk-estimator.fitted input.sk-toggleable__control:checked~label.sk-toggleable__label {\n  /* fitted */\n  background-color: var(--sklearn-color-fitted-level-2);\n}\n\n#sk-container-id-1 div.sk-label label.sk-toggleable__label,\n#sk-container-id-1 div.sk-label label {\n  /* The background is the default theme color */\n  color: var(--sklearn-color-text-on-default-background);\n}\n\n/* On hover, darken the color of the background */\n#sk-container-id-1 div.sk-label:hover label.sk-toggleable__label {\n  color: var(--sklearn-color-text);\n  background-color: var(--sklearn-color-unfitted-level-2);\n}\n\n/* Label box, darken color on hover, fitted */\n#sk-container-id-1 div.sk-label.fitted:hover label.sk-toggleable__label.fitted {\n  color: var(--sklearn-color-text);\n  background-color: var(--sklearn-color-fitted-level-2);\n}\n\n/* Estimator label */\n\n#sk-container-id-1 div.sk-label label {\n  font-family: monospace;\n  font-weight: bold;\n  display: inline-block;\n  line-height: 1.2em;\n}\n\n#sk-container-id-1 div.sk-label-container {\n  text-align: center;\n}\n\n/* Estimator-specific */\n#sk-container-id-1 div.sk-estimator {\n  font-family: monospace;\n  border: 1px dotted var(--sklearn-color-border-box);\n  border-radius: 0.25em;\n  box-sizing: border-box;\n  margin-bottom: 0.5em;\n  /* unfitted */\n  background-color: var(--sklearn-color-unfitted-level-0);\n}\n\n#sk-container-id-1 div.sk-estimator.fitted {\n  /* fitted */\n  background-color: var(--sklearn-color-fitted-level-0);\n}\n\n/* on hover */\n#sk-container-id-1 div.sk-estimator:hover {\n  /* unfitted */\n  background-color: var(--sklearn-color-unfitted-level-2);\n}\n\n#sk-container-id-1 div.sk-estimator.fitted:hover {\n  /* fitted */\n  background-color: var(--sklearn-color-fitted-level-2);\n}\n\n/* Specification for estimator info (e.g. \"i\" and \"?\") */\n\n/* Common style for \"i\" and \"?\" */\n\n.sk-estimator-doc-link,\na:link.sk-estimator-doc-link,\na:visited.sk-estimator-doc-link {\n  float: right;\n  font-size: smaller;\n  line-height: 1em;\n  font-family: monospace;\n  background-color: var(--sklearn-color-background);\n  border-radius: 1em;\n  height: 1em;\n  width: 1em;\n  text-decoration: none !important;\n  margin-left: 1ex;\n  /* unfitted */\n  border: var(--sklearn-color-unfitted-level-1) 1pt solid;\n  color: var(--sklearn-color-unfitted-level-1);\n}\n\n.sk-estimator-doc-link.fitted,\na:link.sk-estimator-doc-link.fitted,\na:visited.sk-estimator-doc-link.fitted {\n  /* fitted */\n  border: var(--sklearn-color-fitted-level-1) 1pt solid;\n  color: var(--sklearn-color-fitted-level-1);\n}\n\n/* On hover */\ndiv.sk-estimator:hover .sk-estimator-doc-link:hover,\n.sk-estimator-doc-link:hover,\ndiv.sk-label-container:hover .sk-estimator-doc-link:hover,\n.sk-estimator-doc-link:hover {\n  /* unfitted */\n  background-color: var(--sklearn-color-unfitted-level-3);\n  color: var(--sklearn-color-background);\n  text-decoration: none;\n}\n\ndiv.sk-estimator.fitted:hover .sk-estimator-doc-link.fitted:hover,\n.sk-estimator-doc-link.fitted:hover,\ndiv.sk-label-container:hover .sk-estimator-doc-link.fitted:hover,\n.sk-estimator-doc-link.fitted:hover {\n  /* fitted */\n  background-color: var(--sklearn-color-fitted-level-3);\n  color: var(--sklearn-color-background);\n  text-decoration: none;\n}\n\n/* Span, style for the box shown on hovering the info icon */\n.sk-estimator-doc-link span {\n  display: none;\n  z-index: 9999;\n  position: relative;\n  font-weight: normal;\n  right: .2ex;\n  padding: .5ex;\n  margin: .5ex;\n  width: min-content;\n  min-width: 20ex;\n  max-width: 50ex;\n  color: var(--sklearn-color-text);\n  box-shadow: 2pt 2pt 4pt #999;\n  /* unfitted */\n  background: var(--sklearn-color-unfitted-level-0);\n  border: .5pt solid var(--sklearn-color-unfitted-level-3);\n}\n\n.sk-estimator-doc-link.fitted span {\n  /* fitted */\n  background: var(--sklearn-color-fitted-level-0);\n  border: var(--sklearn-color-fitted-level-3);\n}\n\n.sk-estimator-doc-link:hover span {\n  display: block;\n}\n\n/* \"?\"-specific style due to the `<a>` HTML tag */\n\n#sk-container-id-1 a.estimator_doc_link {\n  float: right;\n  font-size: 1rem;\n  line-height: 1em;\n  font-family: monospace;\n  background-color: var(--sklearn-color-background);\n  border-radius: 1rem;\n  height: 1rem;\n  width: 1rem;\n  text-decoration: none;\n  /* unfitted */\n  color: var(--sklearn-color-unfitted-level-1);\n  border: var(--sklearn-color-unfitted-level-1) 1pt solid;\n}\n\n#sk-container-id-1 a.estimator_doc_link.fitted {\n  /* fitted */\n  border: var(--sklearn-color-fitted-level-1) 1pt solid;\n  color: var(--sklearn-color-fitted-level-1);\n}\n\n/* On hover */\n#sk-container-id-1 a.estimator_doc_link:hover {\n  /* unfitted */\n  background-color: var(--sklearn-color-unfitted-level-3);\n  color: var(--sklearn-color-background);\n  text-decoration: none;\n}\n\n#sk-container-id-1 a.estimator_doc_link.fitted:hover {\n  /* fitted */\n  background-color: var(--sklearn-color-fitted-level-3);\n}\n</style><div id=\"sk-container-id-1\" class=\"sk-top-container\"><div class=\"sk-text-repr-fallback\"><pre>Pipeline(steps=[(&#x27;preprocessing&#x27;,\n                 ColumnTransformer(transformers=[(&#x27;num&#x27;, StandardScaler(),\n                                                  [&#x27;actual_demand_MW&#x27;,\n                                                   &#x27;temperature_degC&#x27;,\n                                                   &#x27;dewpoint_degC&#x27;,\n                                                   &#x27;relative_humidity_%&#x27;,\n                                                   &#x27;wind_speed_mph&#x27;]),\n                                                 (&#x27;cat&#x27;,\n                                                  OneHotEncoder(drop=&#x27;first&#x27;,\n                                                                handle_unknown=&#x27;ignore&#x27;,\n                                                                sparse_output=False),\n                                                  [&#x27;dow&#x27;, &#x27;hour&#x27;, &#x27;month&#x27;,\n                                                   &#x27;is_holiday&#x27;, &#x27;site&#x27;])])),\n                (&#x27;xgb&#x27;,\n                 XGBRegressor(base_score=None, boo...\n                              feature_types=None, gamma=None, grow_policy=None,\n                              importance_type=None,\n                              interaction_constraints=None, learning_rate=None,\n                              max_bin=None, max_cat_threshold=None,\n                              max_cat_to_onehot=None, max_delta_step=None,\n                              max_depth=None, max_leaves=None,\n                              min_child_weight=None, missing=nan,\n                              monotone_constraints=None, multi_strategy=None,\n                              n_estimators=None, n_jobs=None,\n                              num_parallel_tree=None, random_state=None, ...))])</pre><b>In a Jupyter environment, please rerun this cell to show the HTML representation or trust the notebook. <br />On GitHub, the HTML representation is unable to render, please try loading this page with nbviewer.org.</b></div><div class=\"sk-container\" hidden><div class=\"sk-item sk-dashed-wrapped\"><div class=\"sk-label-container\"><div class=\"sk-label fitted sk-toggleable\"><input class=\"sk-toggleable__control sk-hidden--visually\" id=\"sk-estimator-id-1\" type=\"checkbox\" ><label for=\"sk-estimator-id-1\" class=\"sk-toggleable__label fitted sk-toggleable__label-arrow fitted\">&nbsp;&nbsp;Pipeline<a class=\"sk-estimator-doc-link fitted\" rel=\"noreferrer\" target=\"_blank\" href=\"https://scikit-learn.org/1.4/modules/generated/sklearn.pipeline.Pipeline.html\">?<span>Documentation for Pipeline</span></a><span class=\"sk-estimator-doc-link fitted\">i<span>Fitted</span></span></label><div class=\"sk-toggleable__content fitted\"><pre>Pipeline(steps=[(&#x27;preprocessing&#x27;,\n                 ColumnTransformer(transformers=[(&#x27;num&#x27;, StandardScaler(),\n                                                  [&#x27;actual_demand_MW&#x27;,\n                                                   &#x27;temperature_degC&#x27;,\n                                                   &#x27;dewpoint_degC&#x27;,\n                                                   &#x27;relative_humidity_%&#x27;,\n                                                   &#x27;wind_speed_mph&#x27;]),\n                                                 (&#x27;cat&#x27;,\n                                                  OneHotEncoder(drop=&#x27;first&#x27;,\n                                                                handle_unknown=&#x27;ignore&#x27;,\n                                                                sparse_output=False),\n                                                  [&#x27;dow&#x27;, &#x27;hour&#x27;, &#x27;month&#x27;,\n                                                   &#x27;is_holiday&#x27;, &#x27;site&#x27;])])),\n                (&#x27;xgb&#x27;,\n                 XGBRegressor(base_score=None, boo...\n                              feature_types=None, gamma=None, grow_policy=None,\n                              importance_type=None,\n                              interaction_constraints=None, learning_rate=None,\n                              max_bin=None, max_cat_threshold=None,\n                              max_cat_to_onehot=None, max_delta_step=None,\n                              max_depth=None, max_leaves=None,\n                              min_child_weight=None, missing=nan,\n                              monotone_constraints=None, multi_strategy=None,\n                              n_estimators=None, n_jobs=None,\n                              num_parallel_tree=None, random_state=None, ...))])</pre></div> </div></div><div class=\"sk-serial\"><div class=\"sk-item sk-dashed-wrapped\"><div class=\"sk-label-container\"><div class=\"sk-label fitted sk-toggleable\"><input class=\"sk-toggleable__control sk-hidden--visually\" id=\"sk-estimator-id-2\" type=\"checkbox\" ><label for=\"sk-estimator-id-2\" class=\"sk-toggleable__label fitted sk-toggleable__label-arrow fitted\">&nbsp;preprocessing: ColumnTransformer<a class=\"sk-estimator-doc-link fitted\" rel=\"noreferrer\" target=\"_blank\" href=\"https://scikit-learn.org/1.4/modules/generated/sklearn.compose.ColumnTransformer.html\">?<span>Documentation for preprocessing: ColumnTransformer</span></a></label><div class=\"sk-toggleable__content fitted\"><pre>ColumnTransformer(transformers=[(&#x27;num&#x27;, StandardScaler(),\n                                 [&#x27;actual_demand_MW&#x27;, &#x27;temperature_degC&#x27;,\n                                  &#x27;dewpoint_degC&#x27;, &#x27;relative_humidity_%&#x27;,\n                                  &#x27;wind_speed_mph&#x27;]),\n                                (&#x27;cat&#x27;,\n                                 OneHotEncoder(drop=&#x27;first&#x27;,\n                                               handle_unknown=&#x27;ignore&#x27;,\n                                               sparse_output=False),\n                                 [&#x27;dow&#x27;, &#x27;hour&#x27;, &#x27;month&#x27;, &#x27;is_holiday&#x27;,\n                                  &#x27;site&#x27;])])</pre></div> </div></div><div class=\"sk-parallel\"><div class=\"sk-parallel-item\"><div class=\"sk-item\"><div class=\"sk-label-container\"><div class=\"sk-label fitted sk-toggleable\"><input class=\"sk-toggleable__control sk-hidden--visually\" id=\"sk-estimator-id-3\" type=\"checkbox\" ><label for=\"sk-estimator-id-3\" class=\"sk-toggleable__label fitted sk-toggleable__label-arrow fitted\">num</label><div class=\"sk-toggleable__content fitted\"><pre>[&#x27;actual_demand_MW&#x27;, &#x27;temperature_degC&#x27;, &#x27;dewpoint_degC&#x27;, &#x27;relative_humidity_%&#x27;, &#x27;wind_speed_mph&#x27;]</pre></div> </div></div><div class=\"sk-serial\"><div class=\"sk-item\"><div class=\"sk-estimator fitted sk-toggleable\"><input class=\"sk-toggleable__control sk-hidden--visually\" id=\"sk-estimator-id-4\" type=\"checkbox\" ><label for=\"sk-estimator-id-4\" class=\"sk-toggleable__label fitted sk-toggleable__label-arrow fitted\">&nbsp;StandardScaler<a class=\"sk-estimator-doc-link fitted\" rel=\"noreferrer\" target=\"_blank\" href=\"https://scikit-learn.org/1.4/modules/generated/sklearn.preprocessing.StandardScaler.html\">?<span>Documentation for StandardScaler</span></a></label><div class=\"sk-toggleable__content fitted\"><pre>StandardScaler()</pre></div> </div></div></div></div></div><div class=\"sk-parallel-item\"><div class=\"sk-item\"><div class=\"sk-label-container\"><div class=\"sk-label fitted sk-toggleable\"><input class=\"sk-toggleable__control sk-hidden--visually\" id=\"sk-estimator-id-5\" type=\"checkbox\" ><label for=\"sk-estimator-id-5\" class=\"sk-toggleable__label fitted sk-toggleable__label-arrow fitted\">cat</label><div class=\"sk-toggleable__content fitted\"><pre>[&#x27;dow&#x27;, &#x27;hour&#x27;, &#x27;month&#x27;, &#x27;is_holiday&#x27;, &#x27;site&#x27;]</pre></div> </div></div><div class=\"sk-serial\"><div class=\"sk-item\"><div class=\"sk-estimator fitted sk-toggleable\"><input class=\"sk-toggleable__control sk-hidden--visually\" id=\"sk-estimator-id-6\" type=\"checkbox\" ><label for=\"sk-estimator-id-6\" class=\"sk-toggleable__label fitted sk-toggleable__label-arrow fitted\">&nbsp;OneHotEncoder<a class=\"sk-estimator-doc-link fitted\" rel=\"noreferrer\" target=\"_blank\" href=\"https://scikit-learn.org/1.4/modules/generated/sklearn.preprocessing.OneHotEncoder.html\">?<span>Documentation for OneHotEncoder</span></a></label><div class=\"sk-toggleable__content fitted\"><pre>OneHotEncoder(drop=&#x27;first&#x27;, handle_unknown=&#x27;ignore&#x27;, sparse_output=False)</pre></div> </div></div></div></div></div></div></div><div class=\"sk-item\"><div class=\"sk-estimator fitted sk-toggleable\"><input class=\"sk-toggleable__control sk-hidden--visually\" id=\"sk-estimator-id-7\" type=\"checkbox\" ><label for=\"sk-estimator-id-7\" class=\"sk-toggleable__label fitted sk-toggleable__label-arrow fitted\">XGBRegressor</label><div class=\"sk-toggleable__content fitted\"><pre>XGBRegressor(base_score=None, booster=None, callbacks=None,\n             colsample_bylevel=None, colsample_bynode=None,\n             colsample_bytree=None, device=None, early_stopping_rounds=None,\n             enable_categorical=False, eval_metric=None, feature_types=None,\n             gamma=None, grow_policy=None, importance_type=None,\n             interaction_constraints=None, learning_rate=None, max_bin=None,\n             max_cat_threshold=None, max_cat_to_onehot=None,\n             max_delta_step=None, max_depth=None, max_leaves=None,\n             min_child_weight=None, missing=nan, monotone_constraints=None,\n             multi_strategy=None, n_estimators=None, n_jobs=None,\n             num_parallel_tree=None, random_state=None, ...)</pre></div> </div></div></div></div></div></div>"
     },
     "execution_count": 65,
     "metadata": {},
     "output_type": "execute_result"
    }
   ],
   "source": [
    "model = pickle.load(open('./model_04_10.pkl', 'rb'))\n",
    "model"
   ],
   "metadata": {
    "collapsed": false,
    "ExecuteTime": {
     "end_time": "2024-04-10T06:59:03.160812342Z",
     "start_time": "2024-04-10T06:59:02.981346228Z"
    }
   },
   "id": "b9d1c18d2ea4d454"
  },
  {
   "cell_type": "code",
   "execution_count": 66,
   "outputs": [
    {
     "data": {
      "text/plain": "<matplotlib.legend.Legend at 0x70553e967510>"
     },
     "execution_count": 66,
     "metadata": {},
     "output_type": "execute_result"
    },
    {
     "data": {
      "text/plain": "<Figure size 640x480 with 1 Axes>",
      "image/png": "[encoded data removed]"
     },
     "metadata": {},
     "output_type": "display_data"
    }
   ],
   "source": [
    "for site in sites:\n",
    "    pred = model.predict(tmp[tmp['site']==site])\n",
    "    plt.plot(tmp[tmp['site']==site].index, pred, label=site)\n",
    "    \n",
    "plt.title('Example of inference')\n",
    "plt.legend()\n"
   ],
   "metadata": {
    "collapsed": false,
    "ExecuteTime": {
     "end_time": "2024-04-10T06:59:03.494031587Z",
     "start_time": "2024-04-10T06:59:03.000829232Z"
    }
   },
   "id": "1ea4eb2d6e5cea18"
  },
  {
   "cell_type": "code",
   "execution_count": 66,
   "outputs": [],
   "source": [],
   "metadata": {
    "collapsed": false,
    "ExecuteTime": {
     "end_time": "2024-04-10T06:59:03.494763593Z",
     "start_time": "2024-04-10T06:59:03.205104532Z"
    }
   },
   "id": "f71f880990115525"
  }
 ],
 "metadata": {
  "kernelspec": {
   "display_name": "Python 3",
   "language": "python",
   "name": "python3"
  },
  "language_info": {
   "codemirror_mode": {
    "name": "ipython",
    "version": 2
   },
   "file_extension": ".py",
   "mimetype": "text/x-python",
   "name": "python",
   "nbconvert_exporter": "python",
   "pygments_lexer": "ipython2",
   "version": "2.7.6"
  }
 },
 "nbformat": 4,
 "nbformat_minor": 5
}
