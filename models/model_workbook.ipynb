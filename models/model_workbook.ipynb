{
 "cells": [
  {
   "cell_type": "markdown",
   "source": [
    "# Model evaluation notebook\n",
    "\n",
    "in this notebook we will evaluate % availability. definitions are:\n",
    "\n",
    "X = \n",
    "    location: site_id\n",
    "    time: hour, dow, weekend, is_holiday, \n",
    "    weather: temperature, dew point, relative humidity, wind direction, wind speed\n",
    "    grid: net demand, solar, wind\n",
    "y = % available (for site)\n",
    "\n",
    "this will work for all sites.\n",
    "\n",
    "How will we do train test split?\n",
    "random 80-20 for now \n"
   ],
   "metadata": {
    "collapsed": false
   },
   "id": "6f902f119a45de93"
  },
  {
   "cell_type": "code",
   "execution_count": 1,
   "outputs": [
    {
     "name": "stdout",
     "output_type": "stream",
     "text": [
      "in the right place!\n"
     ]
    },
    {
     "data": {
      "text/plain": "'/home/denny/Documents/mids/ev_charging'"
     },
     "execution_count": 1,
     "metadata": {},
     "output_type": "execute_result"
    }
   ],
   "source": [
    "import os\n",
    "if 'models' == os.getcwd().split('/')[-1]: os.chdir('..')\n",
    "if 'ev_charging' == os.getcwd().split('/')[-1]: print('in the right place!')\n",
    "else: os.chdir('/Users/varunvenkatesh/Documents/Github/ev_charging')\n",
    "os.getcwd()"
   ],
   "metadata": {
    "collapsed": false,
    "ExecuteTime": {
     "end_time": "2024-04-08T01:40:27.359123437Z",
     "start_time": "2024-04-08T01:40:26.991023797Z"
    }
   },
   "id": "85706eb52fbfa576"
  },
  {
   "cell_type": "code",
   "execution_count": 2,
   "outputs": [],
   "source": [
    "import pandas as pd\n",
    "from src.weather import get_processed_hourly_7day_weather\n"
   ],
   "metadata": {
    "collapsed": false,
    "ExecuteTime": {
     "end_time": "2024-04-08T01:40:27.513870045Z",
     "start_time": "2024-04-08T01:40:26.991390635Z"
    }
   },
   "id": "6709b7eb792a8e6d"
  },
  {
   "cell_type": "code",
   "execution_count": 16,
   "outputs": [],
   "source": [
    "import numpy as np\n",
    "import pandas as pd\n",
    "import matplotlib.pyplot as plt\n",
    "from xgboost import XGBRegressor\n",
    "\n",
    "from datetime import datetime\n",
    "\n",
    "from sklearn.preprocessing import OneHotEncoder\n",
    "from sklearn.model_selection import train_test_split\n",
    "from sklearn.metrics import mean_squared_error, r2_score\n",
    "from sklearn.pipeline import Pipeline"
   ],
   "metadata": {
    "collapsed": false,
    "ExecuteTime": {
     "end_time": "2024-04-08T01:56:15.399608342Z",
     "start_time": "2024-04-08T01:56:15.346690171Z"
    }
   },
   "id": "4a2510ab81481d7f"
  },
  {
   "cell_type": "code",
   "execution_count": 4,
   "outputs": [],
   "source": [
    "# hist_weather = pd.read_csv('./data/caltech_historical_weather')"
   ],
   "metadata": {
    "collapsed": false,
    "ExecuteTime": {
     "end_time": "2024-04-08T01:40:28.438940458Z",
     "start_time": "2024-04-08T01:40:28.433235685Z"
    }
   },
   "id": "426e4af653e3a5a8"
  },
  {
   "cell_type": "code",
   "execution_count": 5,
   "outputs": [],
   "source": [
    "weather_features = ['temperature_degC', 'dewpoint_degC','relative_humidity_%', 'wind_speed_mph']\n",
    "hist_weather = pd.read_csv('./data/caltech_historical_weather.csv').set_index('time')[weather_features]"
   ],
   "metadata": {
    "collapsed": false,
    "ExecuteTime": {
     "end_time": "2024-04-08T01:40:28.502628091Z",
     "start_time": "2024-04-08T01:40:28.439997885Z"
    }
   },
   "id": "1bb702358b8fce"
  },
  {
   "cell_type": "code",
   "execution_count": 6,
   "outputs": [
    {
     "data": {
      "text/plain": "                     temperature_degC  dewpoint_degC  relative_humidity_%  \\\ntime                                                                        \n2018-01-01 00:00:00              17.1            9.0                 59.0   \n2018-01-01 01:00:00              17.3            9.5                 60.0   \n2018-01-01 02:00:00              15.7           10.0                 69.0   \n2018-01-01 03:00:00              14.5           11.3                 81.0   \n2018-01-01 04:00:00              13.4           11.8                 90.0   \n...                               ...            ...                  ...   \n2021-09-14 19:00:00              26.8           10.1                 35.0   \n2021-09-14 20:00:00              29.0            9.2                 29.0   \n2021-09-14 21:00:00              31.2            5.6                 20.0   \n2021-09-14 22:00:00              30.7            7.2                 23.0   \n2021-09-14 23:00:00              29.5            5.6                 22.0   \n\n                     wind_speed_mph  \ntime                                 \n2018-01-01 00:00:00            5.59  \n2018-01-01 01:00:00            5.84  \n2018-01-01 02:00:00            3.36  \n2018-01-01 03:00:00            4.72  \n2018-01-01 04:00:00            3.36  \n...                             ...  \n2021-09-14 19:00:00            5.84  \n2021-09-14 20:00:00            5.84  \n2021-09-14 21:00:00            8.08  \n2021-09-14 22:00:00           11.43  \n2021-09-14 23:00:00           10.31  \n\n[32472 rows x 4 columns]",
      "text/html": "<div>\n<style scoped>\n    .dataframe tbody tr th:only-of-type {\n        vertical-align: middle;\n    }\n\n    .dataframe tbody tr th {\n        vertical-align: top;\n    }\n\n    .dataframe thead th {\n        text-align: right;\n    }\n</style>\n<table border=\"1\" class=\"dataframe\">\n  <thead>\n    <tr style=\"text-align: right;\">\n      <th></th>\n      <th>temperature_degC</th>\n      <th>dewpoint_degC</th>\n      <th>relative_humidity_%</th>\n      <th>wind_speed_mph</th>\n    </tr>\n    <tr>\n      <th>time</th>\n      <th></th>\n      <th></th>\n      <th></th>\n      <th></th>\n    </tr>\n  </thead>\n  <tbody>\n    <tr>\n      <th>2018-01-01 00:00:00</th>\n      <td>17.1</td>\n      <td>9.0</td>\n      <td>59.0</td>\n      <td>5.59</td>\n    </tr>\n    <tr>\n      <th>2018-01-01 01:00:00</th>\n      <td>17.3</td>\n      <td>9.5</td>\n      <td>60.0</td>\n      <td>5.84</td>\n    </tr>\n    <tr>\n      <th>2018-01-01 02:00:00</th>\n      <td>15.7</td>\n      <td>10.0</td>\n      <td>69.0</td>\n      <td>3.36</td>\n    </tr>\n    <tr>\n      <th>2018-01-01 03:00:00</th>\n      <td>14.5</td>\n      <td>11.3</td>\n      <td>81.0</td>\n      <td>4.72</td>\n    </tr>\n    <tr>\n      <th>2018-01-01 04:00:00</th>\n      <td>13.4</td>\n      <td>11.8</td>\n      <td>90.0</td>\n      <td>3.36</td>\n    </tr>\n    <tr>\n      <th>...</th>\n      <td>...</td>\n      <td>...</td>\n      <td>...</td>\n      <td>...</td>\n    </tr>\n    <tr>\n      <th>2021-09-14 19:00:00</th>\n      <td>26.8</td>\n      <td>10.1</td>\n      <td>35.0</td>\n      <td>5.84</td>\n    </tr>\n    <tr>\n      <th>2021-09-14 20:00:00</th>\n      <td>29.0</td>\n      <td>9.2</td>\n      <td>29.0</td>\n      <td>5.84</td>\n    </tr>\n    <tr>\n      <th>2021-09-14 21:00:00</th>\n      <td>31.2</td>\n      <td>5.6</td>\n      <td>20.0</td>\n      <td>8.08</td>\n    </tr>\n    <tr>\n      <th>2021-09-14 22:00:00</th>\n      <td>30.7</td>\n      <td>7.2</td>\n      <td>23.0</td>\n      <td>11.43</td>\n    </tr>\n    <tr>\n      <th>2021-09-14 23:00:00</th>\n      <td>29.5</td>\n      <td>5.6</td>\n      <td>22.0</td>\n      <td>10.31</td>\n    </tr>\n  </tbody>\n</table>\n<p>32472 rows × 4 columns</p>\n</div>"
     },
     "execution_count": 6,
     "metadata": {},
     "output_type": "execute_result"
    }
   ],
   "source": [
    "hist_weather"
   ],
   "metadata": {
    "collapsed": false,
    "ExecuteTime": {
     "end_time": "2024-04-08T01:40:28.583375244Z",
     "start_time": "2024-04-08T01:40:28.574584373Z"
    }
   },
   "id": "5e2ee9c0d59b9eda"
  },
  {
   "cell_type": "code",
   "execution_count": 7,
   "outputs": [
    {
     "name": "stdout",
     "output_type": "stream",
     "text": [
      "https://api.weather.gov/points/34.134785646454844,-118.11691382579643\n",
      "status code: 200\n",
      "https://api.weather.gov/gridpoints/LOX/160,48/forecast/hourly\n"
     ]
    }
   ],
   "source": [
    "from src.weather import get_processed_hourly_7day_weather\n",
    "site2latlon = {'Caltech':(34.134785646454844, -118.11691382579643),\n",
    "               'Office001':(37.33680466796926, -121.90743423142634),\n",
    "               'JPL':(34.20142342818471, -118.17126565774107)}\n",
    "future_weather = get_processed_hourly_7day_weather(*site2latlon['Caltech'])"
   ],
   "metadata": {
    "collapsed": false,
    "ExecuteTime": {
     "end_time": "2024-04-08T01:40:30.115449105Z",
     "start_time": "2024-04-08T01:40:28.583872932Z"
    }
   },
   "id": "dd4be84ceb45727c"
  },
  {
   "cell_type": "code",
   "execution_count": 8,
   "outputs": [],
   "source": [
    "future_weather.to_csv('data/test_future_weather.csv')"
   ],
   "metadata": {
    "collapsed": false,
    "ExecuteTime": {
     "end_time": "2024-04-08T01:40:30.126827172Z",
     "start_time": "2024-04-08T01:40:30.116974813Z"
    }
   },
   "id": "76f6abd671052a2e"
  },
  {
   "cell_type": "markdown",
   "source": [
    " confirm that past and future weather have the same features"
   ],
   "metadata": {
    "collapsed": false
   },
   "id": "27db04112e197a72"
  },
  {
   "cell_type": "code",
   "execution_count": 9,
   "outputs": [
    {
     "name": "stdout",
     "output_type": "stream",
     "text": [
      "future weather features are \n",
      "['temperature_degC', 'dewpoint_degC', 'relative_humidity_%', 'wind_speed_mph'], \n",
      "and historical weather features are \n",
      "['temperature_degC', 'dewpoint_degC', 'relative_humidity_%', 'wind_speed_mph']\n"
     ]
    }
   ],
   "source": [
    "print(f'future weather features are \\n{list(future_weather[weather_features].columns)}, \\nand historical weather features are \\n{list(hist_weather[weather_features].columns)}')"
   ],
   "metadata": {
    "collapsed": false,
    "ExecuteTime": {
     "end_time": "2024-04-08T01:40:30.175579180Z",
     "start_time": "2024-04-08T01:40:30.129332474Z"
    }
   },
   "id": "ddb6266f58ac96d9"
  },
  {
   "cell_type": "code",
   "execution_count": 9,
   "outputs": [],
   "source": [],
   "metadata": {
    "collapsed": false,
    "ExecuteTime": {
     "end_time": "2024-04-08T01:40:30.175752860Z",
     "start_time": "2024-04-08T01:40:30.175154909Z"
    }
   },
   "id": "97bec3d343455f51"
  },
  {
   "cell_type": "markdown",
   "source": [
    "# get caiso data"
   ],
   "metadata": {
    "collapsed": false
   },
   "id": "4b2bbf733f2861c6"
  },
  {
   "cell_type": "code",
   "execution_count": 10,
   "outputs": [],
   "source": [
    "from src import oasis\n",
    "import datetime\n",
    "import pandas as pd\n",
    "from src.oasis import SystemDemand\n",
    "import urllib\n",
    "sd = SystemDemand()\n",
    "\n",
    "\n",
    "def get_historical_caiso():\n",
    "    start = datetime(2018,1,1)\n",
    "    end = datetime(2020,3,1)\n",
    "    \n",
    "    demand_forecast = sd.get_demand_forecast(start, end)\n",
    "    wind_solar_forecast = sd.get_wind_and_solar_forecast(start, end)\n",
    "    wind_solar_forecast['INTERVALSTARTTIME_GMT'] = pd.to_datetime(wind_solar_forecast['INTERVALSTARTTIME_GMT'],\n",
    "                                                              utc=True)\n",
    "    solar_df = wind_solar_forecast[wind_solar_forecast['RENEWABLE_TYPE'] == 'Solar']\n",
    "    wind_df = wind_solar_forecast[wind_solar_forecast['RENEWABLE_TYPE'] == 'Wind']\n",
    "    \n",
    "    return demand_forecast, solar_df, wind_df"
   ],
   "metadata": {
    "collapsed": false,
    "ExecuteTime": {
     "end_time": "2024-04-08T02:01:21.477537868Z",
     "start_time": "2024-04-08T02:01:21.416446930Z"
    }
   },
   "id": "b374eec92f5d69d3"
  },
  {
   "cell_type": "code",
   "execution_count": 4,
   "outputs": [
    {
     "ename": "NoDataAvailableError",
     "evalue": "No data available for this query.",
     "output_type": "error",
     "traceback": [
      "\u001B[0;31m---------------------------------------------------------------------------\u001B[0m",
      "\u001B[0;31mNoDataAvailableError\u001B[0m                      Traceback (most recent call last)",
      "Cell \u001B[0;32mIn[4], line 4\u001B[0m\n\u001B[1;32m      1\u001B[0m start \u001B[38;5;241m=\u001B[39m datetime\u001B[38;5;241m.\u001B[39mdatetime(\u001B[38;5;241m2018\u001B[39m,\u001B[38;5;241m1\u001B[39m,\u001B[38;5;241m1\u001B[39m)\n\u001B[1;32m      2\u001B[0m end \u001B[38;5;241m=\u001B[39m datetime\u001B[38;5;241m.\u001B[39mdatetime(\u001B[38;5;241m2020\u001B[39m,\u001B[38;5;241m3\u001B[39m,\u001B[38;5;241m1\u001B[39m)\n\u001B[0;32m----> 4\u001B[0m demand_forecast \u001B[38;5;241m=\u001B[39m sd\u001B[38;5;241m.\u001B[39mget_demand_forecast(start, end)\n\u001B[1;32m      5\u001B[0m wind_solar_forecast \u001B[38;5;241m=\u001B[39m sd\u001B[38;5;241m.\u001B[39mget_wind_and_solar_forecast(start, end)\n\u001B[1;32m      6\u001B[0m wind_solar_forecast[\u001B[38;5;124m'\u001B[39m\u001B[38;5;124mINTERVALSTARTTIME_GMT\u001B[39m\u001B[38;5;124m'\u001B[39m] \u001B[38;5;241m=\u001B[39m pd\u001B[38;5;241m.\u001B[39mto_datetime(wind_solar_forecast[\u001B[38;5;124m'\u001B[39m\u001B[38;5;124mINTERVALSTARTTIME_GMT\u001B[39m\u001B[38;5;124m'\u001B[39m],\n\u001B[1;32m      7\u001B[0m                                                           utc\u001B[38;5;241m=\u001B[39m\u001B[38;5;28;01mTrue\u001B[39;00m)\n",
      "File \u001B[0;32m~/Documents/mids/ev_charging/src/oasis.py:349\u001B[0m, in \u001B[0;36mSystemDemand.get_demand_forecast\u001B[0;34m(self, start, end)\u001B[0m\n\u001B[1;32m    329\u001B[0m \u001B[38;5;250m\u001B[39m\u001B[38;5;124;03m\"\"\"Get demand forecast\u001B[39;00m\n\u001B[1;32m    330\u001B[0m \n\u001B[1;32m    331\u001B[0m \u001B[38;5;124;03mGet demand forecasted between start and end dates\u001B[39;00m\n\u001B[0;32m   (...)\u001B[0m\n\u001B[1;32m    338\u001B[0m \u001B[38;5;124;03m    (pandas.DataFrame): demand forecast\u001B[39;00m\n\u001B[1;32m    339\u001B[0m \u001B[38;5;124;03m\"\"\"\u001B[39;00m\n\u001B[1;32m    341\u001B[0m params: Dict[\u001B[38;5;28mstr\u001B[39m, Any] \u001B[38;5;241m=\u001B[39m {\n\u001B[1;32m    342\u001B[0m     \u001B[38;5;124m\"\u001B[39m\u001B[38;5;124mqueryname\u001B[39m\u001B[38;5;124m\"\u001B[39m: \u001B[38;5;124m\"\u001B[39m\u001B[38;5;124mSLD_FCST\u001B[39m\u001B[38;5;124m\"\u001B[39m,\n\u001B[1;32m    343\u001B[0m     \u001B[38;5;124m\"\u001B[39m\u001B[38;5;124mstartdatetime\u001B[39m\u001B[38;5;124m\"\u001B[39m: \u001B[38;5;28mself\u001B[39m\u001B[38;5;241m.\u001B[39m_get_UTC_string(start),\n\u001B[0;32m   (...)\u001B[0m\n\u001B[1;32m    346\u001B[0m     \u001B[38;5;124m\"\u001B[39m\u001B[38;5;124mresultformat\u001B[39m\u001B[38;5;124m\"\u001B[39m: \u001B[38;5;241m6\u001B[39m,\n\u001B[1;32m    347\u001B[0m }\n\u001B[0;32m--> 349\u001B[0m resp \u001B[38;5;241m=\u001B[39m \u001B[38;5;28mself\u001B[39m\u001B[38;5;241m.\u001B[39mrequest(params)\n\u001B[1;32m    350\u001B[0m time\u001B[38;5;241m.\u001B[39msleep(\u001B[38;5;241m5\u001B[39m)\n\u001B[1;32m    351\u001B[0m \u001B[38;5;28;01mreturn\u001B[39;00m \u001B[38;5;28mself\u001B[39m\u001B[38;5;241m.\u001B[39mget_df(resp)\n",
      "File \u001B[0;32m~/Documents/mids/ev_charging/src/oasis.py:66\u001B[0m, in \u001B[0;36mOasis.request\u001B[0;34m(self, params)\u001B[0m\n\u001B[1;32m     63\u001B[0m headers: \u001B[38;5;28mstr\u001B[39m \u001B[38;5;241m=\u001B[39m resp\u001B[38;5;241m.\u001B[39mheaders[\u001B[38;5;124m\"\u001B[39m\u001B[38;5;124mcontent-disposition\u001B[39m\u001B[38;5;124m\"\u001B[39m]\n\u001B[1;32m     65\u001B[0m \u001B[38;5;28;01mif\u001B[39;00m re\u001B[38;5;241m.\u001B[39msearch(\u001B[38;5;124mr\u001B[39m\u001B[38;5;124m\"\u001B[39m\u001B[38;5;124m\\\u001B[39m\u001B[38;5;124m.xml\u001B[39m\u001B[38;5;124m\\\u001B[39m\u001B[38;5;124m.zip;$\u001B[39m\u001B[38;5;124m\"\u001B[39m, headers):\n\u001B[0;32m---> 66\u001B[0m     \u001B[38;5;28;01mraise\u001B[39;00m NoDataAvailableError(\u001B[38;5;124m\"\u001B[39m\u001B[38;5;124mNo data available for this query.\u001B[39m\u001B[38;5;124m\"\u001B[39m)\n\u001B[1;32m     68\u001B[0m \u001B[38;5;28;01mreturn\u001B[39;00m resp\n",
      "\u001B[0;31mNoDataAvailableError\u001B[0m: No data available for this query."
     ]
    }
   ],
   "source": [
    "start = datetime.datetime(2018,1,1)\n",
    "end = datetime.datetime(2020,3,1)\n",
    "\n",
    "demand_forecast = sd.get_demand_forecast(start, end)\n",
    "wind_solar_forecast = sd.get_wind_and_solar_forecast(start, end)\n",
    "wind_solar_forecast['INTERVALSTARTTIME_GMT'] = pd.to_datetime(wind_solar_forecast['INTERVALSTARTTIME_GMT'],\n",
    "                                                          utc=True)\n",
    "solar_df = wind_solar_forecast[wind_solar_forecast['RENEWABLE_TYPE'] == 'Solar']\n",
    "wind_df = wind_solar_forecast[wind_solar_forecast['RENEWABLE_TYPE'] == 'Wind']"
   ],
   "metadata": {
    "collapsed": false,
    "ExecuteTime": {
     "end_time": "2024-04-08T01:57:17.450567103Z",
     "start_time": "2024-04-08T01:57:16.672513484Z"
    }
   },
   "id": "5afaabed1f8fae8c"
  },
  {
   "cell_type": "code",
   "execution_count": 5,
   "outputs": [],
   "source": [
    "# set the date range to extract files\n",
    "d1 = datetime.datetime(2022,1,1)\n",
    "d2 = datetime.datetime(2022,2,1) # dt.date.today()\n",
    "days = [d1 + datetime.timedelta(days=x) for x in range((d2-d1).days + 1)]"
   ],
   "metadata": {
    "collapsed": false,
    "ExecuteTime": {
     "end_time": "2024-04-08T01:57:24.865039435Z",
     "start_time": "2024-04-08T01:57:24.806259448Z"
    }
   },
   "id": "8e3555ef82db29a7"
  },
  {
   "cell_type": "code",
   "execution_count": 11,
   "outputs": [],
   "source": [
    "file_types = ['demand', 'netdemand', 'fuelsource', 'storage', 'co2', 'rtm_forecast']\n",
    "url_format = \"http://www.caiso.com/outlook/SP/History/%s/%s.csv\""
   ],
   "metadata": {
    "collapsed": false,
    "ExecuteTime": {
     "end_time": "2024-04-08T02:01:25.168153366Z",
     "start_time": "2024-04-08T02:01:25.149565724Z"
    }
   },
   "id": "dfb74c334e80f35e"
  },
  {
   "cell_type": "code",
   "execution_count": 23,
   "outputs": [
    {
     "data": {
      "text/plain": "'http://www.caiso.com/outlook/SP/History/20220101/fuelsource.csv'"
     },
     "execution_count": 23,
     "metadata": {},
     "output_type": "execute_result"
    }
   ],
   "source": [
    "day = days[0]\n",
    "file_type = file_types[2]\n",
    "url = url_format % (day.strftime(\"%Y%m%d\"), file_type)\n",
    "url"
   ],
   "metadata": {
    "collapsed": false,
    "ExecuteTime": {
     "end_time": "2024-04-08T02:17:21.391511315Z",
     "start_time": "2024-04-08T02:17:21.330810833Z"
    }
   },
   "id": "bd1ee86d914cc699"
  },
  {
   "cell_type": "code",
   "execution_count": 24,
   "outputs": [],
   "source": [
    "file = urllib.request.urlopen(url)"
   ],
   "metadata": {
    "collapsed": false,
    "ExecuteTime": {
     "end_time": "2024-04-08T02:17:22.382400872Z",
     "start_time": "2024-04-08T02:17:21.898736777Z"
    }
   },
   "id": "ccf15406dc311e68"
  },
  {
   "cell_type": "code",
   "execution_count": 25,
   "outputs": [
    {
     "data": {
      "text/plain": "      Time  Solar  Wind  Geothermal  Biomass  Biogas  Small hydro  Coal  \\\n0    00:00    -32  3829         882      281     205          146    20   \n1    00:05    -32  3854         880      279     208          144    20   \n2    00:10    -32  3934         880      276     209          144    20   \n3    00:15    -32  4007         879      273     210          145    21   \n4    00:20    -32  3998         879      275     211          144    20   \n..     ...    ...   ...         ...      ...     ...          ...   ...   \n283  23:35    -42  1134         879      292     206          194    18   \n284  23:40    -43  1108         880      292     206          195    18   \n285  23:45    -43  1082         880      294     207          195    18   \n286  23:50    -43  1079         879      291     207          194    17   \n287  23:55    -43  1047         879      296     207          179    18   \n\n     Nuclear  Natural Gas  Large Hydro  Batteries  Imports  Other  \n0       2264         7280         1200       -116     8200      0  \n1       2265         7119         1129        117     8079      0  \n2       2264         6904         1114        149     8085      0  \n3       2265         6870         1135        164     7962      0  \n4       2265         6860         1102        152     7973      0  \n..       ...          ...          ...        ...      ...    ...  \n283     2265         9880         1321        -18     7483      0  \n284     2264         9907         1306        -77     7400      0  \n285     2265         9983         1297       -130     7384      0  \n286     2265         9961         1291        -57     7218      0  \n287     2265         9941         1280       -130     7271      0  \n\n[288 rows x 14 columns]",
      "text/html": "<div>\n<style scoped>\n    .dataframe tbody tr th:only-of-type {\n        vertical-align: middle;\n    }\n\n    .dataframe tbody tr th {\n        vertical-align: top;\n    }\n\n    .dataframe thead th {\n        text-align: right;\n    }\n</style>\n<table border=\"1\" class=\"dataframe\">\n  <thead>\n    <tr style=\"text-align: right;\">\n      <th></th>\n      <th>Time</th>\n      <th>Solar</th>\n      <th>Wind</th>\n      <th>Geothermal</th>\n      <th>Biomass</th>\n      <th>Biogas</th>\n      <th>Small hydro</th>\n      <th>Coal</th>\n      <th>Nuclear</th>\n      <th>Natural Gas</th>\n      <th>Large Hydro</th>\n      <th>Batteries</th>\n      <th>Imports</th>\n      <th>Other</th>\n    </tr>\n  </thead>\n  <tbody>\n    <tr>\n      <th>0</th>\n      <td>00:00</td>\n      <td>-32</td>\n      <td>3829</td>\n      <td>882</td>\n      <td>281</td>\n      <td>205</td>\n      <td>146</td>\n      <td>20</td>\n      <td>2264</td>\n      <td>7280</td>\n      <td>1200</td>\n      <td>-116</td>\n      <td>8200</td>\n      <td>0</td>\n    </tr>\n    <tr>\n      <th>1</th>\n      <td>00:05</td>\n      <td>-32</td>\n      <td>3854</td>\n      <td>880</td>\n      <td>279</td>\n      <td>208</td>\n      <td>144</td>\n      <td>20</td>\n      <td>2265</td>\n      <td>7119</td>\n      <td>1129</td>\n      <td>117</td>\n      <td>8079</td>\n      <td>0</td>\n    </tr>\n    <tr>\n      <th>2</th>\n      <td>00:10</td>\n      <td>-32</td>\n      <td>3934</td>\n      <td>880</td>\n      <td>276</td>\n      <td>209</td>\n      <td>144</td>\n      <td>20</td>\n      <td>2264</td>\n      <td>6904</td>\n      <td>1114</td>\n      <td>149</td>\n      <td>8085</td>\n      <td>0</td>\n    </tr>\n    <tr>\n      <th>3</th>\n      <td>00:15</td>\n      <td>-32</td>\n      <td>4007</td>\n      <td>879</td>\n      <td>273</td>\n      <td>210</td>\n      <td>145</td>\n      <td>21</td>\n      <td>2265</td>\n      <td>6870</td>\n      <td>1135</td>\n      <td>164</td>\n      <td>7962</td>\n      <td>0</td>\n    </tr>\n    <tr>\n      <th>4</th>\n      <td>00:20</td>\n      <td>-32</td>\n      <td>3998</td>\n      <td>879</td>\n      <td>275</td>\n      <td>211</td>\n      <td>144</td>\n      <td>20</td>\n      <td>2265</td>\n      <td>6860</td>\n      <td>1102</td>\n      <td>152</td>\n      <td>7973</td>\n      <td>0</td>\n    </tr>\n    <tr>\n      <th>...</th>\n      <td>...</td>\n      <td>...</td>\n      <td>...</td>\n      <td>...</td>\n      <td>...</td>\n      <td>...</td>\n      <td>...</td>\n      <td>...</td>\n      <td>...</td>\n      <td>...</td>\n      <td>...</td>\n      <td>...</td>\n      <td>...</td>\n      <td>...</td>\n    </tr>\n    <tr>\n      <th>283</th>\n      <td>23:35</td>\n      <td>-42</td>\n      <td>1134</td>\n      <td>879</td>\n      <td>292</td>\n      <td>206</td>\n      <td>194</td>\n      <td>18</td>\n      <td>2265</td>\n      <td>9880</td>\n      <td>1321</td>\n      <td>-18</td>\n      <td>7483</td>\n      <td>0</td>\n    </tr>\n    <tr>\n      <th>284</th>\n      <td>23:40</td>\n      <td>-43</td>\n      <td>1108</td>\n      <td>880</td>\n      <td>292</td>\n      <td>206</td>\n      <td>195</td>\n      <td>18</td>\n      <td>2264</td>\n      <td>9907</td>\n      <td>1306</td>\n      <td>-77</td>\n      <td>7400</td>\n      <td>0</td>\n    </tr>\n    <tr>\n      <th>285</th>\n      <td>23:45</td>\n      <td>-43</td>\n      <td>1082</td>\n      <td>880</td>\n      <td>294</td>\n      <td>207</td>\n      <td>195</td>\n      <td>18</td>\n      <td>2265</td>\n      <td>9983</td>\n      <td>1297</td>\n      <td>-130</td>\n      <td>7384</td>\n      <td>0</td>\n    </tr>\n    <tr>\n      <th>286</th>\n      <td>23:50</td>\n      <td>-43</td>\n      <td>1079</td>\n      <td>879</td>\n      <td>291</td>\n      <td>207</td>\n      <td>194</td>\n      <td>17</td>\n      <td>2265</td>\n      <td>9961</td>\n      <td>1291</td>\n      <td>-57</td>\n      <td>7218</td>\n      <td>0</td>\n    </tr>\n    <tr>\n      <th>287</th>\n      <td>23:55</td>\n      <td>-43</td>\n      <td>1047</td>\n      <td>879</td>\n      <td>296</td>\n      <td>207</td>\n      <td>179</td>\n      <td>18</td>\n      <td>2265</td>\n      <td>9941</td>\n      <td>1280</td>\n      <td>-130</td>\n      <td>7271</td>\n      <td>0</td>\n    </tr>\n  </tbody>\n</table>\n<p>288 rows × 14 columns</p>\n</div>"
     },
     "execution_count": 25,
     "metadata": {},
     "output_type": "execute_result"
    }
   ],
   "source": [
    "df = pd.read_csv(file)\n",
    "df"
   ],
   "metadata": {
    "collapsed": false,
    "ExecuteTime": {
     "end_time": "2024-04-08T02:17:22.608795443Z",
     "start_time": "2024-04-08T02:17:22.388717087Z"
    }
   },
   "id": "f3bfa20374d8e4f3"
  },
  {
   "cell_type": "markdown",
   "source": [
    "# Get historical demand"
   ],
   "metadata": {
    "collapsed": false
   },
   "id": "bdda3299d172259f"
  },
  {
   "cell_type": "markdown",
   "source": [
    "the data from the request is the bytes for a zip file. to get it to a pandas dataframe,\n",
    "1. read the content with the io.BytesIO\n",
    "2. open the bytes as a zip file with ZipFile\n",
    "3. open the zip file by getting the first (and only) name in the extraction\n",
    "4. read the data using the .read() method of the file object\n",
    "5. convert the raw data to a string with BytesIO again\n",
    "6. read the bytes to a dataframe with the pd.read_csv file"
   ],
   "metadata": {
    "collapsed": false
   },
   "id": "5035bd21b17325eb"
  },
  {
   "cell_type": "code",
   "execution_count": 102,
   "outputs": [],
   "source": [
    "import pytz\n",
    "from io import BytesIO\n",
    "from zipfile import ZipFile\n",
    "\n",
    "def _get_UTC_string(\n",
    "    dt: datetime,\n",
    "    local_tz: str = \"America/Los_Angeles\",\n",
    "    fmt: str = \"%Y%m%dT%H:%M-0000\",\n",
    ") -> str:\n",
    "    \"\"\"Convert local datetime to UTC string\n",
    "\n",
    "    Converts datetime.datetime or pandas.Timestamp in local time to\n",
    "    to UTC string for constructing HTTP request\n",
    "\n",
    "    Args:\n",
    "        dt (datetime.datetime): datetime to convert\n",
    "        local_tz (str): timezone\n",
    "\n",
    "    Returns:\n",
    "        utc (str): UTC string\n",
    "    \"\"\"\n",
    "\n",
    "    tz_ = pytz.timezone(local_tz)\n",
    "    return tz_.localize(dt).astimezone(pytz.UTC).strftime(fmt)\n"
   ],
   "metadata": {
    "collapsed": false,
    "ExecuteTime": {
     "start_time": "2024-04-08T03:37:07.914269431Z"
    }
   },
   "id": "382b4c6f9dedbcd6"
  },
  {
   "cell_type": "code",
   "execution_count": 111,
   "outputs": [
    {
     "name": "stdout",
     "output_type": "stream",
     "text": [
      "20180101T08:00-0000 20180201T08:00-0000\n"
     ]
    }
   ],
   "source": [
    "url = 'http://oasis.caiso.com/oasisapi/SingleZip?resultformat=6&queryname=SLD_FCST&version=1&startdatetime={}&enddatetime={}'\n",
    "start_date = datetime.datetime(2018,1,1) # make a datetime\n",
    "end_date = start_date + datetime.timedelta(days=31)\n",
    "print(_get_UTC_string(start_date), _get_UTC_string(end_date))\n",
    "url.format(start_date, end_date)\n",
    "def make_demand_url(start_date, end_date):\n",
    "    start = _get_UTC_string(start_date)\n",
    "    end = _get_UTC_string(end_date)\n",
    "    base_url = 'http://oasis.caiso.com/oasisapi/SingleZip?resultformat=6&queryname=SLD_FCST&version=1&startdatetime={}&enddatetime={}'\n",
    "    return base_url.format(start, end)\n",
    "\n",
    "def caiso_call_for_df(url):\n",
    "    \n",
    "    # https://stackoverflow.com/questions/5710867/downloading-and-unzipping-a-zip-file-without-writing-to-disk\n",
    "    r = requests.get(url)\n",
    "    with ZipFile(BytesIO(r.content)) as zipedfolder:\n",
    "        with zipedfolder.open(zipedfolder.namelist()[0]) as file:\n",
    "            bytes_payload = file.read()\n",
    "\n",
    "    raw = pd.read_csv(BytesIO(bytes_payload))\n",
    "    \n",
    "    TACS = ['PGE','SCE-TAC', 'PGE-TAC', 'CA ISO-TAC']\n",
    "    MARKET_RUN_IDS = ['ACTUAL', 'DAM']\n",
    "    \n",
    "    filtered_df = raw[(raw['MARKET_RUN_ID'].isin(MARKET_RUN_IDS)) & (raw['TAC_AREA_NAME'].isin(TACS))]\n",
    "    return filtered_df"
   ],
   "metadata": {
    "collapsed": false,
    "ExecuteTime": {
     "start_time": "2024-04-08T04:31:53.547968625Z"
    }
   },
   "id": "23847795b65d22ca"
  },
  {
   "cell_type": "code",
   "execution_count": 113,
   "outputs": [
    {
     "name": "stdout",
     "output_type": "stream",
     "text": [
      "starting process\n",
      "http://oasis.caiso.com/oasisapi/SingleZip?resultformat=6&queryname=SLD_FCST&version=1&startdatetime=20180101T08:00-0000&enddatetime=20180201T08:00-0000\n",
      "http://oasis.caiso.com/oasisapi/SingleZip?resultformat=6&queryname=SLD_FCST&version=1&startdatetime=20180201T08:00-0000&enddatetime=20180304T08:00-0000\n",
      "http://oasis.caiso.com/oasisapi/SingleZip?resultformat=6&queryname=SLD_FCST&version=1&startdatetime=20180304T08:00-0000&enddatetime=20180404T07:00-0000\n",
      "http://oasis.caiso.com/oasisapi/SingleZip?resultformat=6&queryname=SLD_FCST&version=1&startdatetime=20180404T07:00-0000&enddatetime=20180505T07:00-0000\n",
      "http://oasis.caiso.com/oasisapi/SingleZip?resultformat=6&queryname=SLD_FCST&version=1&startdatetime=20180505T07:00-0000&enddatetime=20180605T07:00-0000\n",
      "http://oasis.caiso.com/oasisapi/SingleZip?resultformat=6&queryname=SLD_FCST&version=1&startdatetime=20180605T07:00-0000&enddatetime=20180706T07:00-0000\n",
      "http://oasis.caiso.com/oasisapi/SingleZip?resultformat=6&queryname=SLD_FCST&version=1&startdatetime=20180706T07:00-0000&enddatetime=20180806T07:00-0000\n",
      "http://oasis.caiso.com/oasisapi/SingleZip?resultformat=6&queryname=SLD_FCST&version=1&startdatetime=20180806T07:00-0000&enddatetime=20180906T07:00-0000\n",
      "http://oasis.caiso.com/oasisapi/SingleZip?resultformat=6&queryname=SLD_FCST&version=1&startdatetime=20180906T07:00-0000&enddatetime=20181007T07:00-0000\n",
      "http://oasis.caiso.com/oasisapi/SingleZip?resultformat=6&queryname=SLD_FCST&version=1&startdatetime=20181007T07:00-0000&enddatetime=20181107T08:00-0000\n",
      "http://oasis.caiso.com/oasisapi/SingleZip?resultformat=6&queryname=SLD_FCST&version=1&startdatetime=20181107T08:00-0000&enddatetime=20181208T08:00-0000\n",
      "http://oasis.caiso.com/oasisapi/SingleZip?resultformat=6&queryname=SLD_FCST&version=1&startdatetime=20181208T08:00-0000&enddatetime=20190108T08:00-0000\n",
      "http://oasis.caiso.com/oasisapi/SingleZip?resultformat=6&queryname=SLD_FCST&version=1&startdatetime=20190108T08:00-0000&enddatetime=20190208T08:00-0000\n",
      "http://oasis.caiso.com/oasisapi/SingleZip?resultformat=6&queryname=SLD_FCST&version=1&startdatetime=20190208T08:00-0000&enddatetime=20190311T07:00-0000\n",
      "http://oasis.caiso.com/oasisapi/SingleZip?resultformat=6&queryname=SLD_FCST&version=1&startdatetime=20190311T07:00-0000&enddatetime=20190411T07:00-0000\n",
      "http://oasis.caiso.com/oasisapi/SingleZip?resultformat=6&queryname=SLD_FCST&version=1&startdatetime=20190411T07:00-0000&enddatetime=20190512T07:00-0000\n",
      "http://oasis.caiso.com/oasisapi/SingleZip?resultformat=6&queryname=SLD_FCST&version=1&startdatetime=20190512T07:00-0000&enddatetime=20190612T07:00-0000\n",
      "http://oasis.caiso.com/oasisapi/SingleZip?resultformat=6&queryname=SLD_FCST&version=1&startdatetime=20190612T07:00-0000&enddatetime=20190713T07:00-0000\n",
      "http://oasis.caiso.com/oasisapi/SingleZip?resultformat=6&queryname=SLD_FCST&version=1&startdatetime=20190713T07:00-0000&enddatetime=20190813T07:00-0000\n",
      "http://oasis.caiso.com/oasisapi/SingleZip?resultformat=6&queryname=SLD_FCST&version=1&startdatetime=20190813T07:00-0000&enddatetime=20190913T07:00-0000\n",
      "http://oasis.caiso.com/oasisapi/SingleZip?resultformat=6&queryname=SLD_FCST&version=1&startdatetime=20190913T07:00-0000&enddatetime=20191014T07:00-0000\n",
      "http://oasis.caiso.com/oasisapi/SingleZip?resultformat=6&queryname=SLD_FCST&version=1&startdatetime=20191014T07:00-0000&enddatetime=20191114T08:00-0000\n",
      "http://oasis.caiso.com/oasisapi/SingleZip?resultformat=6&queryname=SLD_FCST&version=1&startdatetime=20191114T08:00-0000&enddatetime=20191215T08:00-0000\n",
      "http://oasis.caiso.com/oasisapi/SingleZip?resultformat=6&queryname=SLD_FCST&version=1&startdatetime=20191215T08:00-0000&enddatetime=20200115T08:00-0000\n",
      "http://oasis.caiso.com/oasisapi/SingleZip?resultformat=6&queryname=SLD_FCST&version=1&startdatetime=20200115T08:00-0000&enddatetime=20200215T08:00-0000\n",
      "http://oasis.caiso.com/oasisapi/SingleZip?resultformat=6&queryname=SLD_FCST&version=1&startdatetime=20200215T08:00-0000&enddatetime=20200317T07:00-0000\n",
      "2020-03-17 00:00:00\n",
      "http://oasis.caiso.com/oasisapi/SingleZip?resultformat=6&queryname=SLD_FCST&version=1&startdatetime=20200215T08:00-0000&enddatetime=20200317T07:00-0000\n"
     ]
    }
   ],
   "source": [
    "print('starting process')\n",
    "start_date = datetime.datetime(2018,1,1)\n",
    "all_df = pd.DataFrame({})\n",
    "while start_date < datetime.datetime(2020,3,1):\n",
    "    end_date = start_date + datetime.timedelta(days=31)\n",
    "    url = make_demand_url(start_date, end_date)\n",
    "    print(url)\n",
    "    df = caiso_call_for_df(url)\n",
    "    \n",
    "    if all_df.empty:\n",
    "        all_df = df\n",
    "    else:\n",
    "        all_df = pd.concat([all_df, df], axis=0)\n",
    "    start_date = end_date\n",
    "print(start_date)\n",
    "print(url)"
   ],
   "metadata": {
    "collapsed": false,
    "ExecuteTime": {
     "start_time": "2024-04-08T04:34:08.235094835Z"
    }
   },
   "id": "be6015f1feee5b2f"
  },
  {
   "cell_type": "code",
   "execution_count": 118,
   "outputs": [],
   "source": [
    "all_df['OPR_DT'].min()\n",
    "all_df.to_csv('historical_caiso_actual_load.csv')\n"
   ],
   "metadata": {
    "collapsed": false,
    "ExecuteTime": {
     "start_time": "2024-04-08T04:46:51.487296204Z"
    }
   },
   "id": "4995f41629c14c9"
  },
  {
   "cell_type": "markdown",
   "source": [
    "end"
   ],
   "metadata": {
    "collapsed": false
   },
   "id": "a9593359a6cc0d08"
  },
  {
   "cell_type": "code",
   "execution_count": 98,
   "outputs": [],
   "source": [
    "\n",
    "import requests\n",
    "url = 'http://oasis.caiso.com/oasisapi/SingleZip?resultformat=6&queryname=SLD_FCST&version=1&startdatetime=20180101T08:00-0000&enddatetime=20180131T08:00-0000'\n",
    "r = requests.get(url)\n",
    "# https://stackoverflow.com/questions/5710867/downloading-and-unzipping-a-zip-file-without-writing-to-disk\n",
    "with ZipFile(BytesIO(r.content)) as zipedfolder:\n",
    "    with zipedfolder.open(zipedfolder.namelist()[0]) as file:\n",
    "        test = file.read()\n",
    "        # print(test)\n",
    "from io import StringIO\n",
    "TACS = ['PGE','SCE-TAC', 'PGE-TAC', 'CA ISO-TAC']\n",
    "MARKET_RUN_IDS = ['ACTUAL', 'DAM']\n",
    "raw = pd.read_csv(BytesIO(test))"
   ],
   "metadata": {
    "collapsed": false
   },
   "id": "d642e4705fac4244"
  },
  {
   "cell_type": "code",
   "execution_count": 99,
   "outputs": [
    {
     "data": {
      "text/plain": "            INTERVALSTARTTIME_GMT        INTERVALENDTIME_GMT  LOAD_TYPE  \\\n552     2018-01-01T15:00:00-00:00  2018-01-01T16:00:00-00:00          0   \n553     2018-01-01T21:00:00-00:00  2018-01-01T22:00:00-00:00          0   \n554     2018-01-02T06:00:00-00:00  2018-01-02T07:00:00-00:00          0   \n555     2018-01-01T09:00:00-00:00  2018-01-01T10:00:00-00:00          0   \n556     2018-01-01T12:00:00-00:00  2018-01-01T13:00:00-00:00          0   \n...                           ...                        ...        ...   \n153903  2018-01-31T03:00:00-00:00  2018-01-31T04:00:00-00:00          1   \n153904  2018-01-30T21:00:00-00:00  2018-01-30T22:00:00-00:00          1   \n153905  2018-01-30T14:00:00-00:00  2018-01-30T15:00:00-00:00          1   \n153906  2018-01-30T08:00:00-00:00  2018-01-30T09:00:00-00:00          1   \n153907  2018-01-30T12:00:00-00:00  2018-01-30T13:00:00-00:00          1   \n\n            OPR_DT  OPR_HR  OPR_INTERVAL MARKET_RUN_ID TAC_AREA_NAME  \\\n552     2018-01-01       8             0        ACTUAL    CA ISO-TAC   \n553     2018-01-01      14             0        ACTUAL    CA ISO-TAC   \n554     2018-01-01      23             0        ACTUAL    CA ISO-TAC   \n555     2018-01-01       2             0        ACTUAL    CA ISO-TAC   \n556     2018-01-01       5             0        ACTUAL    CA ISO-TAC   \n...            ...     ...           ...           ...           ...   \n153903  2018-01-30      20             0           DAM       SCE-TAC   \n153904  2018-01-30      14             0           DAM       SCE-TAC   \n153905  2018-01-30       7             0           DAM       SCE-TAC   \n153906  2018-01-30       1             0           DAM       SCE-TAC   \n153907  2018-01-30       5             0           DAM       SCE-TAC   \n\n                                      LABEL    XML_DATA_ITEM  POS       MW  \\\n552     Total Actual Hourly Integrated Load  SYS_FCST_ACT_MW  3.0  20661.0   \n553     Total Actual Hourly Integrated Load  SYS_FCST_ACT_MW  3.0  20476.0   \n554     Total Actual Hourly Integrated Load  SYS_FCST_ACT_MW  3.0  22584.0   \n555     Total Actual Hourly Integrated Load  SYS_FCST_ACT_MW  3.0  20559.0   \n556     Total Actual Hourly Integrated Load  SYS_FCST_ACT_MW  3.0  19613.0   \n...                                     ...              ...  ...      ...   \n153903            Demand Forecast Day Ahead   SYS_FCST_DA_MW  2.2  12951.0   \n153904            Demand Forecast Day Ahead   SYS_FCST_DA_MW  2.2  12093.0   \n153905            Demand Forecast Day Ahead   SYS_FCST_DA_MW  2.2  10966.0   \n153906            Demand Forecast Day Ahead   SYS_FCST_DA_MW  2.2   9465.0   \n153907            Demand Forecast Day Ahead   SYS_FCST_DA_MW  2.2   9140.0   \n\n       EXECUTION_TYPE  GROUP  \n552            ACTUAL     24  \n553            ACTUAL     24  \n554            ACTUAL     24  \n555            ACTUAL     24  \n556            ACTUAL     24  \n...               ...    ...  \n153903            DAM   1956  \n153904            DAM   1956  \n153905            DAM   1956  \n153906            DAM   1956  \n153907            DAM   1956  \n\n[5760 rows x 14 columns]",
      "text/html": "<div>\n<style scoped>\n    .dataframe tbody tr th:only-of-type {\n        vertical-align: middle;\n    }\n\n    .dataframe tbody tr th {\n        vertical-align: top;\n    }\n\n    .dataframe thead th {\n        text-align: right;\n    }\n</style>\n<table border=\"1\" class=\"dataframe\">\n  <thead>\n    <tr style=\"text-align: right;\">\n      <th></th>\n      <th>INTERVALSTARTTIME_GMT</th>\n      <th>INTERVALENDTIME_GMT</th>\n      <th>LOAD_TYPE</th>\n      <th>OPR_DT</th>\n      <th>OPR_HR</th>\n      <th>OPR_INTERVAL</th>\n      <th>MARKET_RUN_ID</th>\n      <th>TAC_AREA_NAME</th>\n      <th>LABEL</th>\n      <th>XML_DATA_ITEM</th>\n      <th>POS</th>\n      <th>MW</th>\n      <th>EXECUTION_TYPE</th>\n      <th>GROUP</th>\n    </tr>\n  </thead>\n  <tbody>\n    <tr>\n      <th>552</th>\n      <td>2018-01-01T15:00:00-00:00</td>\n      <td>2018-01-01T16:00:00-00:00</td>\n      <td>0</td>\n      <td>2018-01-01</td>\n      <td>8</td>\n      <td>0</td>\n      <td>ACTUAL</td>\n      <td>CA ISO-TAC</td>\n      <td>Total Actual Hourly Integrated Load</td>\n      <td>SYS_FCST_ACT_MW</td>\n      <td>3.0</td>\n      <td>20661.0</td>\n      <td>ACTUAL</td>\n      <td>24</td>\n    </tr>\n    <tr>\n      <th>553</th>\n      <td>2018-01-01T21:00:00-00:00</td>\n      <td>2018-01-01T22:00:00-00:00</td>\n      <td>0</td>\n      <td>2018-01-01</td>\n      <td>14</td>\n      <td>0</td>\n      <td>ACTUAL</td>\n      <td>CA ISO-TAC</td>\n      <td>Total Actual Hourly Integrated Load</td>\n      <td>SYS_FCST_ACT_MW</td>\n      <td>3.0</td>\n      <td>20476.0</td>\n      <td>ACTUAL</td>\n      <td>24</td>\n    </tr>\n    <tr>\n      <th>554</th>\n      <td>2018-01-02T06:00:00-00:00</td>\n      <td>2018-01-02T07:00:00-00:00</td>\n      <td>0</td>\n      <td>2018-01-01</td>\n      <td>23</td>\n      <td>0</td>\n      <td>ACTUAL</td>\n      <td>CA ISO-TAC</td>\n      <td>Total Actual Hourly Integrated Load</td>\n      <td>SYS_FCST_ACT_MW</td>\n      <td>3.0</td>\n      <td>22584.0</td>\n      <td>ACTUAL</td>\n      <td>24</td>\n    </tr>\n    <tr>\n      <th>555</th>\n      <td>2018-01-01T09:00:00-00:00</td>\n      <td>2018-01-01T10:00:00-00:00</td>\n      <td>0</td>\n      <td>2018-01-01</td>\n      <td>2</td>\n      <td>0</td>\n      <td>ACTUAL</td>\n      <td>CA ISO-TAC</td>\n      <td>Total Actual Hourly Integrated Load</td>\n      <td>SYS_FCST_ACT_MW</td>\n      <td>3.0</td>\n      <td>20559.0</td>\n      <td>ACTUAL</td>\n      <td>24</td>\n    </tr>\n    <tr>\n      <th>556</th>\n      <td>2018-01-01T12:00:00-00:00</td>\n      <td>2018-01-01T13:00:00-00:00</td>\n      <td>0</td>\n      <td>2018-01-01</td>\n      <td>5</td>\n      <td>0</td>\n      <td>ACTUAL</td>\n      <td>CA ISO-TAC</td>\n      <td>Total Actual Hourly Integrated Load</td>\n      <td>SYS_FCST_ACT_MW</td>\n      <td>3.0</td>\n      <td>19613.0</td>\n      <td>ACTUAL</td>\n      <td>24</td>\n    </tr>\n    <tr>\n      <th>...</th>\n      <td>...</td>\n      <td>...</td>\n      <td>...</td>\n      <td>...</td>\n      <td>...</td>\n      <td>...</td>\n      <td>...</td>\n      <td>...</td>\n      <td>...</td>\n      <td>...</td>\n      <td>...</td>\n      <td>...</td>\n      <td>...</td>\n      <td>...</td>\n    </tr>\n    <tr>\n      <th>153903</th>\n      <td>2018-01-31T03:00:00-00:00</td>\n      <td>2018-01-31T04:00:00-00:00</td>\n      <td>1</td>\n      <td>2018-01-30</td>\n      <td>20</td>\n      <td>0</td>\n      <td>DAM</td>\n      <td>SCE-TAC</td>\n      <td>Demand Forecast Day Ahead</td>\n      <td>SYS_FCST_DA_MW</td>\n      <td>2.2</td>\n      <td>12951.0</td>\n      <td>DAM</td>\n      <td>1956</td>\n    </tr>\n    <tr>\n      <th>153904</th>\n      <td>2018-01-30T21:00:00-00:00</td>\n      <td>2018-01-30T22:00:00-00:00</td>\n      <td>1</td>\n      <td>2018-01-30</td>\n      <td>14</td>\n      <td>0</td>\n      <td>DAM</td>\n      <td>SCE-TAC</td>\n      <td>Demand Forecast Day Ahead</td>\n      <td>SYS_FCST_DA_MW</td>\n      <td>2.2</td>\n      <td>12093.0</td>\n      <td>DAM</td>\n      <td>1956</td>\n    </tr>\n    <tr>\n      <th>153905</th>\n      <td>2018-01-30T14:00:00-00:00</td>\n      <td>2018-01-30T15:00:00-00:00</td>\n      <td>1</td>\n      <td>2018-01-30</td>\n      <td>7</td>\n      <td>0</td>\n      <td>DAM</td>\n      <td>SCE-TAC</td>\n      <td>Demand Forecast Day Ahead</td>\n      <td>SYS_FCST_DA_MW</td>\n      <td>2.2</td>\n      <td>10966.0</td>\n      <td>DAM</td>\n      <td>1956</td>\n    </tr>\n    <tr>\n      <th>153906</th>\n      <td>2018-01-30T08:00:00-00:00</td>\n      <td>2018-01-30T09:00:00-00:00</td>\n      <td>1</td>\n      <td>2018-01-30</td>\n      <td>1</td>\n      <td>0</td>\n      <td>DAM</td>\n      <td>SCE-TAC</td>\n      <td>Demand Forecast Day Ahead</td>\n      <td>SYS_FCST_DA_MW</td>\n      <td>2.2</td>\n      <td>9465.0</td>\n      <td>DAM</td>\n      <td>1956</td>\n    </tr>\n    <tr>\n      <th>153907</th>\n      <td>2018-01-30T12:00:00-00:00</td>\n      <td>2018-01-30T13:00:00-00:00</td>\n      <td>1</td>\n      <td>2018-01-30</td>\n      <td>5</td>\n      <td>0</td>\n      <td>DAM</td>\n      <td>SCE-TAC</td>\n      <td>Demand Forecast Day Ahead</td>\n      <td>SYS_FCST_DA_MW</td>\n      <td>2.2</td>\n      <td>9140.0</td>\n      <td>DAM</td>\n      <td>1956</td>\n    </tr>\n  </tbody>\n</table>\n<p>5760 rows × 14 columns</p>\n</div>"
     },
     "execution_count": 99,
     "metadata": {},
     "output_type": "execute_result"
    }
   ],
   "source": [
    "# filters\n",
    "raw[(raw['MARKET_RUN_ID'].isin(MARKET_RUN_IDS)) & (raw['TAC_AREA_NAME'].isin(TACS))]"
   ],
   "metadata": {
    "collapsed": false,
    "ExecuteTime": {
     "end_time": "2024-04-08T03:30:34.151536287Z",
     "start_time": "2024-04-08T03:30:34.100895675Z"
    }
   },
   "id": "a0c25b0d4e363d93"
  }
 ],
 "metadata": {
  "kernelspec": {
   "display_name": "Python 3",
   "language": "python",
   "name": "python3"
  },
  "language_info": {
   "codemirror_mode": {
    "name": "ipython",
    "version": 2
   },
   "file_extension": ".py",
   "mimetype": "text/x-python",
   "name": "python",
   "nbconvert_exporter": "python",
   "pygments_lexer": "ipython2",
   "version": "2.7.6"
  }
 },
 "nbformat": 4,
 "nbformat_minor": 5
}
