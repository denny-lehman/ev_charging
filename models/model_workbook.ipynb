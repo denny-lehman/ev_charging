{
 "cells": [
  {
   "cell_type": "markdown",
   "source": [
    "# Model evaluation notebook\n",
    "\n",
    "in this notebook we will evaluate % availability. definitions are:\n",
    "\n",
    "X = \n",
    "    location: site_id\n",
    "    time: hour, dow, weekend, is_holiday, \n",
    "    weather: temperature, dew point, relative humidity, wind direction, wind speed\n",
    "    grid: net demand, solar, wind\n",
    "y = % available (for site)\n",
    "\n",
    "this will work for all sites.\n",
    "\n",
    "How will we do train test split?\n",
    "random 80-20 for now \n"
   ],
   "metadata": {
    "collapsed": false
   },
   "id": "6f902f119a45de93"
  },
  {
   "cell_type": "code",
   "execution_count": 1,
   "outputs": [
    {
     "name": "stdout",
     "output_type": "stream",
     "text": [
      "in the right place!\n"
     ]
    },
    {
     "data": {
      "text/plain": "'/home/denny/Documents/mids/ev_charging'"
     },
     "execution_count": 1,
     "metadata": {},
     "output_type": "execute_result"
    }
   ],
   "source": [
    "import os\n",
    "if 'models' == os.getcwd().split('/')[-1]: os.chdir('..')\n",
    "if 'ev_charging' == os.getcwd().split('/')[-1]: print('in the right place!')\n",
    "else: os.chdir('/Users/varunvenkatesh/Documents/Github/ev_charging')\n",
    "os.getcwd()"
   ],
   "metadata": {
    "collapsed": false,
    "ExecuteTime": {
     "end_time": "2024-04-09T06:11:04.340873125Z",
     "start_time": "2024-04-09T06:11:04.337463875Z"
    }
   },
   "id": "85706eb52fbfa576"
  },
  {
   "cell_type": "code",
   "execution_count": 2,
   "outputs": [],
   "source": [
    "import pandas as pd\n",
    "from src.weather import get_processed_hourly_7day_weather\n"
   ],
   "metadata": {
    "collapsed": false,
    "ExecuteTime": {
     "end_time": "2024-04-09T06:11:05.520765229Z",
     "start_time": "2024-04-09T06:11:05.207278236Z"
    }
   },
   "id": "6709b7eb792a8e6d"
  },
  {
   "cell_type": "code",
   "execution_count": 3,
   "outputs": [],
   "source": [
    "# hist_weather = pd.read_csv('./data/caltech_historical_weather')"
   ],
   "metadata": {
    "collapsed": false,
    "ExecuteTime": {
     "end_time": "2024-04-09T06:11:06.669669475Z",
     "start_time": "2024-04-09T06:11:06.642366251Z"
    }
   },
   "id": "426e4af653e3a5a8"
  },
  {
   "cell_type": "code",
   "execution_count": 4,
   "outputs": [],
   "source": [
    "historical_weather = pd.DataFrame({})"
   ],
   "metadata": {
    "collapsed": false,
    "ExecuteTime": {
     "end_time": "2024-04-09T06:11:10.643833634Z",
     "start_time": "2024-04-09T06:11:10.608236641Z"
    }
   },
   "id": "d665328abf1788b7"
  },
  {
   "cell_type": "code",
   "execution_count": 5,
   "outputs": [],
   "source": [
    "weather_features = ['temperature_degC', 'dewpoint_degC','relative_humidity_%', 'wind_speed_mph']\n",
    "hist_weather = pd.read_csv('./data/caltech_historical_weather.csv').set_index('time')[weather_features]\n",
    "hist_weather['site'] = 'Caltech'\n",
    "if historical_weather.empty: \n",
    "    historical_weather = hist_weather\n",
    "else:\n",
    "    historical_weather = pd.concat([historical_weather, hist_weather], axis=0)"
   ],
   "metadata": {
    "collapsed": false,
    "ExecuteTime": {
     "end_time": "2024-04-09T06:11:14.121633831Z",
     "start_time": "2024-04-09T06:11:14.063528501Z"
    }
   },
   "id": "1bb702358b8fce"
  },
  {
   "cell_type": "code",
   "execution_count": 6,
   "outputs": [],
   "source": [
    "weather_features = ['temperature_degC', 'dewpoint_degC','relative_humidity_%', 'wind_speed_mph']\n",
    "hist_weather = pd.read_csv('./data/caltech_historical_weather.csv').set_index('time')[weather_features]\n",
    "hist_weather['site'] = 'JPL'\n",
    "if historical_weather.empty: \n",
    "    historical_weather = hist_weather\n",
    "else:\n",
    "    historical_weather = pd.concat([historical_weather, hist_weather], axis=0)"
   ],
   "metadata": {
    "collapsed": false,
    "ExecuteTime": {
     "end_time": "2024-04-09T06:11:15.510862513Z",
     "start_time": "2024-04-09T06:11:15.446523569Z"
    }
   },
   "id": "3ef08baf0a5012d9"
  },
  {
   "cell_type": "code",
   "execution_count": 7,
   "outputs": [],
   "source": [
    "weather_features = ['temperature_degC', 'dewpoint_degC','relative_humidity_%', 'wind_speed_mph']\n",
    "hist_weather = pd.read_csv('./data/office_historical_weather.csv').set_index('time')[weather_features]\n",
    "hist_weather['site'] = 'Office001'\n",
    "if historical_weather.empty: \n",
    "    historical_weather = hist_weather\n",
    "else:\n",
    "    historical_weather = pd.concat([historical_weather, hist_weather], axis=0)"
   ],
   "metadata": {
    "collapsed": false,
    "ExecuteTime": {
     "end_time": "2024-04-09T06:11:18.307860572Z",
     "start_time": "2024-04-09T06:11:18.257100506Z"
    }
   },
   "id": "69281de520f4f11"
  },
  {
   "cell_type": "code",
   "execution_count": 8,
   "outputs": [],
   "source": [
    "historical_weather.index = pd.to_datetime(historical_weather.index, utc=True)"
   ],
   "metadata": {
    "collapsed": false,
    "ExecuteTime": {
     "end_time": "2024-04-09T06:11:23.827914334Z",
     "start_time": "2024-04-09T06:11:23.796954116Z"
    }
   },
   "id": "509ba7de77618163"
  },
  {
   "cell_type": "code",
   "execution_count": 9,
   "outputs": [
    {
     "data": {
      "text/plain": "array(['Caltech', 'JPL', 'Office001'], dtype=object)"
     },
     "execution_count": 9,
     "metadata": {},
     "output_type": "execute_result"
    }
   ],
   "source": [
    "historical_weather.site.unique()"
   ],
   "metadata": {
    "collapsed": false,
    "ExecuteTime": {
     "end_time": "2024-04-09T06:11:24.782370345Z",
     "start_time": "2024-04-09T06:11:24.754057707Z"
    }
   },
   "id": "5e2ee9c0d59b9eda"
  },
  {
   "cell_type": "code",
   "execution_count": 10,
   "outputs": [
    {
     "name": "stdout",
     "output_type": "stream",
     "text": [
      "https://api.weather.gov/points/34.134785646454844,-118.11691382579643\n",
      "status code: 200\n",
      "https://api.weather.gov/gridpoints/LOX/160,48/forecast/hourly\n"
     ]
    }
   ],
   "source": [
    "from src.weather import get_processed_hourly_7day_weather\n",
    "site2latlon = {'Caltech':(34.134785646454844, -118.11691382579643),\n",
    "               'Office001':(37.33680466796926, -121.90743423142634),\n",
    "               'JPL':(34.20142342818471, -118.17126565774107)}\n",
    "future_weather = get_processed_hourly_7day_weather(*site2latlon['Caltech'])"
   ],
   "metadata": {
    "collapsed": false,
    "ExecuteTime": {
     "end_time": "2024-04-09T06:14:31.217523043Z",
     "start_time": "2024-04-09T06:14:30.868976909Z"
    }
   },
   "id": "dd4be84ceb45727c"
  },
  {
   "cell_type": "code",
   "execution_count": 11,
   "outputs": [],
   "source": [
    "future_weather.to_csv('data/test_future_weather.csv')"
   ],
   "metadata": {
    "collapsed": false,
    "ExecuteTime": {
     "end_time": "2024-04-09T06:14:37.159968436Z",
     "start_time": "2024-04-09T06:14:37.097740181Z"
    }
   },
   "id": "76f6abd671052a2e"
  },
  {
   "cell_type": "markdown",
   "source": [
    " confirm that past and future weather have the same features"
   ],
   "metadata": {
    "collapsed": false
   },
   "id": "27db04112e197a72"
  },
  {
   "cell_type": "code",
   "execution_count": 12,
   "outputs": [
    {
     "name": "stdout",
     "output_type": "stream",
     "text": [
      "future weather features are \n",
      "['temperature_degC', 'dewpoint_degC', 'relative_humidity_%', 'wind_speed_mph'], \n",
      "and historical weather features are \n",
      "['temperature_degC', 'dewpoint_degC', 'relative_humidity_%', 'wind_speed_mph']\n"
     ]
    }
   ],
   "source": [
    "print(f'future weather features are \\n{list(future_weather[weather_features].columns)}, \\nand historical weather features are \\n{list(hist_weather[weather_features].columns)}')"
   ],
   "metadata": {
    "collapsed": false,
    "ExecuteTime": {
     "end_time": "2024-04-09T06:14:38.412132611Z",
     "start_time": "2024-04-09T06:14:38.390603380Z"
    }
   },
   "id": "ddb6266f58ac96d9"
  },
  {
   "cell_type": "code",
   "execution_count": 12,
   "outputs": [],
   "source": [],
   "metadata": {
    "collapsed": false,
    "ExecuteTime": {
     "end_time": "2024-04-09T06:14:40.570043817Z",
     "start_time": "2024-04-09T06:14:40.535089652Z"
    }
   },
   "id": "97bec3d343455f51"
  },
  {
   "cell_type": "markdown",
   "source": [
    "# get caiso data"
   ],
   "metadata": {
    "collapsed": false
   },
   "id": "4b2bbf733f2861c6"
  },
  {
   "cell_type": "code",
   "execution_count": 13,
   "outputs": [],
   "source": [
    "from src import oasis\n",
    "import datetime\n",
    "import pandas as pd\n",
    "from src.oasis import SystemDemand\n",
    "import urllib\n",
    "import datetime\n",
    "sd = SystemDemand()"
   ],
   "metadata": {
    "collapsed": false,
    "ExecuteTime": {
     "end_time": "2024-04-09T06:14:41.651811661Z",
     "start_time": "2024-04-09T06:14:41.628225680Z"
    }
   },
   "id": "3b2e6b38d33461e5"
  },
  {
   "cell_type": "code",
   "execution_count": 14,
   "outputs": [],
   "source": [
    "start = datetime.datetime(2024,4,8)\n",
    "end = datetime.datetime(2024,4,9)\n",
    "demand_forecast = sd.get_demand_forecast(start, end)"
   ],
   "metadata": {
    "collapsed": false,
    "ExecuteTime": {
     "end_time": "2024-04-09T06:14:50.377936405Z",
     "start_time": "2024-04-09T06:14:43.958239333Z"
    }
   },
   "id": "40928a7962e89fa8"
  },
  {
   "cell_type": "markdown",
   "source": [
    "# Get historical demand"
   ],
   "metadata": {
    "collapsed": false
   },
   "id": "bdda3299d172259f"
  },
  {
   "cell_type": "markdown",
   "source": [
    "the data from the request is the bytes for a zip file. to get it to a pandas dataframe,\n",
    "1. read the content with the io.BytesIO\n",
    "2. open the bytes as a zip file with ZipFile\n",
    "3. open the zip file by getting the first (and only) name in the extraction\n",
    "4. read the data using the .read() method of the file object\n",
    "5. convert the raw data to a string with BytesIO again\n",
    "6. read the bytes to a dataframe with the pd.read_csv file"
   ],
   "metadata": {
    "collapsed": false
   },
   "id": "5035bd21b17325eb"
  },
  {
   "cell_type": "code",
   "execution_count": 15,
   "outputs": [],
   "source": [
    "historical_caiso_actual_load = pd.read_csv('data/historical_caiso_actual_load.csv', index_col=[0])"
   ],
   "metadata": {
    "collapsed": false,
    "ExecuteTime": {
     "end_time": "2024-04-09T06:14:50.643267739Z",
     "start_time": "2024-04-09T06:14:50.380616220Z"
    }
   },
   "id": "a813d651f242fdd0"
  },
  {
   "cell_type": "code",
   "execution_count": 16,
   "outputs": [],
   "source": [
    "TACS = ['SCE-TAC', 'PGE-TAC']\n",
    "MARKET_RUN_IDS = ['ACTUAL']"
   ],
   "metadata": {
    "collapsed": false,
    "ExecuteTime": {
     "end_time": "2024-04-09T06:14:50.647113775Z",
     "start_time": "2024-04-09T06:14:50.643368701Z"
    }
   },
   "id": "59bdf754fb96d4c7"
  },
  {
   "cell_type": "code",
   "execution_count": 17,
   "outputs": [],
   "source": [
    "historical_caiso_actual_load['datetime'] = pd.to_datetime(historical_caiso_actual_load['OPR_DT']) + pd.to_timedelta(historical_caiso_actual_load['OPR_HR'], unit='h')\n",
    "historical_caiso_actual_load = historical_caiso_actual_load[\n",
    "    (historical_caiso_actual_load['TAC_AREA_NAME'].isin(TACS)) &\n",
    "    (historical_caiso_actual_load['MARKET_RUN_ID'].isin(MARKET_RUN_IDS))\n",
    "]"
   ],
   "metadata": {
    "collapsed": false,
    "ExecuteTime": {
     "end_time": "2024-04-09T06:14:55.830839991Z",
     "start_time": "2024-04-09T06:14:55.782475652Z"
    }
   },
   "id": "7e53b589a8e305a1"
  },
  {
   "cell_type": "code",
   "execution_count": 18,
   "outputs": [],
   "source": [
    "\n",
    "demand_forecast['datetime'] = pd.to_datetime(demand_forecast['OPR_DT']) + pd.to_timedelta(demand_forecast['OPR_HR'], unit='h')\n",
    "demand_forecast = demand_forecast[\n",
    "    (demand_forecast['TAC_AREA_NAME'].isin(TACS)) &\n",
    "    (demand_forecast['MARKET_RUN_ID'].isin(MARKET_RUN_IDS))\n",
    "]"
   ],
   "metadata": {
    "collapsed": false,
    "ExecuteTime": {
     "end_time": "2024-04-09T06:14:56.390554923Z",
     "start_time": "2024-04-09T06:14:56.366998178Z"
    }
   },
   "id": "1ae4c2c649924a4f"
  },
  {
   "cell_type": "code",
   "execution_count": 19,
   "outputs": [],
   "source": [
    "demand_features = ['datetime', 'TAC_AREA_NAME', 'MARKET_RUN_ID', 'MW']"
   ],
   "metadata": {
    "collapsed": false,
    "ExecuteTime": {
     "end_time": "2024-04-09T06:14:57.598388270Z",
     "start_time": "2024-04-09T06:14:57.575677755Z"
    }
   },
   "id": "57e6e4697618954e"
  },
  {
   "cell_type": "code",
   "execution_count": 20,
   "outputs": [
    {
     "data": {
      "text/plain": "array([ True,  True,  True,  True])"
     },
     "execution_count": 20,
     "metadata": {},
     "output_type": "execute_result"
    }
   ],
   "source": [
    "demand_forecast[demand_features].columns == historical_caiso_actual_load[demand_features].columns"
   ],
   "metadata": {
    "collapsed": false,
    "ExecuteTime": {
     "end_time": "2024-04-09T06:14:58.437674390Z",
     "start_time": "2024-04-09T06:14:58.378628197Z"
    }
   },
   "id": "9e998b74bf4e76d7"
  },
  {
   "cell_type": "markdown",
   "source": [
    "Modeling"
   ],
   "metadata": {
    "collapsed": false
   },
   "id": "8a23eded11db53c2"
  },
  {
   "cell_type": "code",
   "execution_count": 21,
   "outputs": [],
   "source": [
    "import numpy as np\n",
    "import pandas as pd\n",
    "import matplotlib.pyplot as plt\n",
    "from xgboost import XGBRegressor\n",
    "\n",
    "from datetime import datetime\n",
    "\n",
    "from sklearn.preprocessing import OneHotEncoder\n",
    "from sklearn.model_selection import train_test_split\n",
    "from sklearn.metrics import mean_squared_error, r2_score\n",
    "from sklearn.pipeline import Pipeline\n",
    "\n",
    "from src.data_preprocessing import  datetime_processing, userinput_processing, holiday_processing, create_all_site_x, create_all_site_y, create_x, update_varuns_x, get_start_end_times"
   ],
   "metadata": {
    "collapsed": false,
    "ExecuteTime": {
     "end_time": "2024-04-09T06:15:11.196082720Z",
     "start_time": "2024-04-09T06:15:10.579206059Z"
    }
   },
   "id": "4a2510ab81481d7f"
  },
  {
   "cell_type": "code",
   "execution_count": 22,
   "outputs": [],
   "source": [
    "df_c = pd.read_parquet('data/sessions/caltech/').reset_index(drop=True)\n",
    "df_c = datetime_processing(df_c)\n",
    "df_c = userinput_processing(df_c)\n",
    "\n",
    "df_j = pd.read_parquet('data/sessions/jpl/').reset_index(drop=True)\n",
    "df_j = datetime_processing(df_j)\n",
    "df_j = userinput_processing(df_j)\n",
    "\n",
    "df_o = pd.read_parquet('data/sessions/office001/').reset_index(drop=True)\n",
    "df_o = datetime_processing(df_o)\n",
    "df_o = userinput_processing(df_o)\n",
    "\n",
    "cols = list(df_c.columns)\n",
    "df = pd.concat([df_c[cols], df_j[cols], df_o[cols]], axis=0)"
   ],
   "metadata": {
    "collapsed": false,
    "ExecuteTime": {
     "end_time": "2024-04-09T06:15:26.641646054Z",
     "start_time": "2024-04-09T06:15:13.591694716Z"
    }
   },
   "id": "d71cbd73781dd7d7"
  },
  {
   "cell_type": "code",
   "execution_count": 23,
   "outputs": [
    {
     "name": "stdout",
     "output_type": "stream",
     "text": [
      "df is a dataframe comprised of these site ids: [2, 1, 19]\n"
     ]
    }
   ],
   "source": [
    "print(f'df is a dataframe comprised of these site ids: {list(df.siteID.unique())}')"
   ],
   "metadata": {
    "collapsed": false,
    "ExecuteTime": {
     "end_time": "2024-04-09T06:15:26.645892749Z",
     "start_time": "2024-04-09T06:15:26.642576173Z"
    }
   },
   "id": "a8d43c3fdffd361f"
  },
  {
   "cell_type": "markdown",
   "source": [
    "# Make X and y\n",
    "\n",
    "X contains 4 different sets of data - location, datetime, weather, energy demand"
   ],
   "metadata": {
    "collapsed": false
   },
   "id": "a458bbe4a0e332b"
  },
  {
   "cell_type": "code",
   "execution_count": 21,
   "outputs": [],
   "source": [],
   "metadata": {
    "collapsed": false,
    "ExecuteTime": {
     "end_time": "2024-04-09T05:24:28.415917681Z",
     "start_time": "2024-04-09T05:24:28.362206301Z"
    }
   },
   "id": "757cc4c9f73bdfeb"
  },
  {
   "cell_type": "code",
   "execution_count": 24,
   "outputs": [],
   "source": [
    "X = pd.DataFrame()\n",
    "sites_df = [df_o,df_c,df_j]\n",
    "sites = ['Office001','Caltech','JPL']\n",
    "site_ids = [2,1,19]\n",
    "site2id = { k:v for (k,v) in zip(sites, site_ids)}\n",
    "site2tac = {2:'PGE-TAC',\n",
    "            1:'SCE-TAC',\n",
    "            19:'SCE-TAC',\n",
    "            }\n",
    "    "
   ],
   "metadata": {
    "collapsed": false,
    "ExecuteTime": {
     "end_time": "2024-04-09T06:15:37.257142033Z",
     "start_time": "2024-04-09T06:15:37.197937309Z"
    }
   },
   "id": "69c95d83d6dd859"
  },
  {
   "cell_type": "code",
   "execution_count": 24,
   "outputs": [],
   "source": [],
   "metadata": {
    "collapsed": false,
    "ExecuteTime": {
     "end_time": "2024-04-09T06:15:44.566793308Z",
     "start_time": "2024-04-09T06:15:44.540705326Z"
    }
   },
   "id": "17f3cc928f54a4d"
  },
  {
   "cell_type": "code",
   "execution_count": 43,
   "outputs": [
    {
     "name": "stdout",
     "output_type": "stream",
     "text": [
      "Office001 2019-03-25 2021-09-12\n",
      "x rows:  21649\n",
      "dem rows 8593\n",
      "weather rows: 21649\n",
      "together rows:  21650\n",
      "Caltech 2018-05-01 2021-09-14\n",
      "x rows:  29569\n",
      "dem rows 16465\n",
      "weather rows: 29569\n",
      "together rows:  29571\n",
      "JPL 2018-09-05 2021-09-13\n",
      "x rows:  26497\n",
      "dem rows 13417\n",
      "weather rows: 26497\n",
      "together rows:  26499\n"
     ]
    },
    {
     "data": {
      "text/plain": "                           dow  hour  month  is_sunny  is_holiday  \\\n2019-03-25 00:00:00+00:00    0     0      3         0       False   \n2019-03-25 01:00:00+00:00    0     1      3         0       False   \n2019-03-25 02:00:00+00:00    0     2      3         0       False   \n2019-03-25 03:00:00+00:00    0     3      3         0       False   \n2019-03-25 04:00:00+00:00    0     4      3         0       False   \n...                        ...   ...    ...       ...         ...   \n2021-09-12 20:00:00+00:00    6    20      9         0       False   \n2021-09-12 21:00:00+00:00    6    21      9         0       False   \n2021-09-12 22:00:00+00:00    6    22      9         0       False   \n2021-09-12 23:00:00+00:00    6    23      9         0       False   \n2021-09-13 00:00:00+00:00    0     0      9         0       False   \n\n                           actual_demand_MW  temperature_degC  dewpoint_degC  \\\n2019-03-25 00:00:00+00:00            9470.0              18.9           -1.6   \n2019-03-25 01:00:00+00:00            9036.0              19.4           -1.7   \n2019-03-25 02:00:00+00:00            8963.0              15.0           -2.0   \n2019-03-25 03:00:00+00:00            8818.0              13.3           -2.2   \n2019-03-25 04:00:00+00:00            8840.0              13.3           -1.9   \n...                                     ...               ...            ...   \n2021-09-12 20:00:00+00:00               NaN              33.4            8.8   \n2021-09-12 21:00:00+00:00               NaN              35.7            0.7   \n2021-09-12 22:00:00+00:00               NaN              34.5           -2.9   \n2021-09-12 23:00:00+00:00               NaN              34.5           -0.2   \n2021-09-13 00:00:00+00:00               NaN              34.0            3.7   \n\n                           relative_humidity_%  wind_speed_mph       site  \n2019-03-25 00:00:00+00:00                 25.0            9.20  Office001  \n2019-03-25 01:00:00+00:00                 24.0            6.96  Office001  \n2019-03-25 02:00:00+00:00                 31.0           14.98  Office001  \n2019-03-25 03:00:00+00:00                 34.0           10.31  Office001  \n2019-03-25 04:00:00+00:00                 35.0            0.00  Office001  \n...                                        ...             ...        ...  \n2021-09-12 20:00:00+00:00                 22.0            5.84        JPL  \n2021-09-12 21:00:00+00:00                 11.0           12.74        JPL  \n2021-09-12 22:00:00+00:00                  9.0           12.74        JPL  \n2021-09-12 23:00:00+00:00                 11.0           10.31        JPL  \n2021-09-13 00:00:00+00:00                 15.0            9.20        JPL  \n\n[77720 rows x 11 columns]",
      "text/html": "<div>\n<style scoped>\n    .dataframe tbody tr th:only-of-type {\n        vertical-align: middle;\n    }\n\n    .dataframe tbody tr th {\n        vertical-align: top;\n    }\n\n    .dataframe thead th {\n        text-align: right;\n    }\n</style>\n<table border=\"1\" class=\"dataframe\">\n  <thead>\n    <tr style=\"text-align: right;\">\n      <th></th>\n      <th>dow</th>\n      <th>hour</th>\n      <th>month</th>\n      <th>is_sunny</th>\n      <th>is_holiday</th>\n      <th>actual_demand_MW</th>\n      <th>temperature_degC</th>\n      <th>dewpoint_degC</th>\n      <th>relative_humidity_%</th>\n      <th>wind_speed_mph</th>\n      <th>site</th>\n    </tr>\n  </thead>\n  <tbody>\n    <tr>\n      <th>2019-03-25 00:00:00+00:00</th>\n      <td>0</td>\n      <td>0</td>\n      <td>3</td>\n      <td>0</td>\n      <td>False</td>\n      <td>9470.0</td>\n      <td>18.9</td>\n      <td>-1.6</td>\n      <td>25.0</td>\n      <td>9.20</td>\n      <td>Office001</td>\n    </tr>\n    <tr>\n      <th>2019-03-25 01:00:00+00:00</th>\n      <td>0</td>\n      <td>1</td>\n      <td>3</td>\n      <td>0</td>\n      <td>False</td>\n      <td>9036.0</td>\n      <td>19.4</td>\n      <td>-1.7</td>\n      <td>24.0</td>\n      <td>6.96</td>\n      <td>Office001</td>\n    </tr>\n    <tr>\n      <th>2019-03-25 02:00:00+00:00</th>\n      <td>0</td>\n      <td>2</td>\n      <td>3</td>\n      <td>0</td>\n      <td>False</td>\n      <td>8963.0</td>\n      <td>15.0</td>\n      <td>-2.0</td>\n      <td>31.0</td>\n      <td>14.98</td>\n      <td>Office001</td>\n    </tr>\n    <tr>\n      <th>2019-03-25 03:00:00+00:00</th>\n      <td>0</td>\n      <td>3</td>\n      <td>3</td>\n      <td>0</td>\n      <td>False</td>\n      <td>8818.0</td>\n      <td>13.3</td>\n      <td>-2.2</td>\n      <td>34.0</td>\n      <td>10.31</td>\n      <td>Office001</td>\n    </tr>\n    <tr>\n      <th>2019-03-25 04:00:00+00:00</th>\n      <td>0</td>\n      <td>4</td>\n      <td>3</td>\n      <td>0</td>\n      <td>False</td>\n      <td>8840.0</td>\n      <td>13.3</td>\n      <td>-1.9</td>\n      <td>35.0</td>\n      <td>0.00</td>\n      <td>Office001</td>\n    </tr>\n    <tr>\n      <th>...</th>\n      <td>...</td>\n      <td>...</td>\n      <td>...</td>\n      <td>...</td>\n      <td>...</td>\n      <td>...</td>\n      <td>...</td>\n      <td>...</td>\n      <td>...</td>\n      <td>...</td>\n      <td>...</td>\n    </tr>\n    <tr>\n      <th>2021-09-12 20:00:00+00:00</th>\n      <td>6</td>\n      <td>20</td>\n      <td>9</td>\n      <td>0</td>\n      <td>False</td>\n      <td>NaN</td>\n      <td>33.4</td>\n      <td>8.8</td>\n      <td>22.0</td>\n      <td>5.84</td>\n      <td>JPL</td>\n    </tr>\n    <tr>\n      <th>2021-09-12 21:00:00+00:00</th>\n      <td>6</td>\n      <td>21</td>\n      <td>9</td>\n      <td>0</td>\n      <td>False</td>\n      <td>NaN</td>\n      <td>35.7</td>\n      <td>0.7</td>\n      <td>11.0</td>\n      <td>12.74</td>\n      <td>JPL</td>\n    </tr>\n    <tr>\n      <th>2021-09-12 22:00:00+00:00</th>\n      <td>6</td>\n      <td>22</td>\n      <td>9</td>\n      <td>0</td>\n      <td>False</td>\n      <td>NaN</td>\n      <td>34.5</td>\n      <td>-2.9</td>\n      <td>9.0</td>\n      <td>12.74</td>\n      <td>JPL</td>\n    </tr>\n    <tr>\n      <th>2021-09-12 23:00:00+00:00</th>\n      <td>6</td>\n      <td>23</td>\n      <td>9</td>\n      <td>0</td>\n      <td>False</td>\n      <td>NaN</td>\n      <td>34.5</td>\n      <td>-0.2</td>\n      <td>11.0</td>\n      <td>10.31</td>\n      <td>JPL</td>\n    </tr>\n    <tr>\n      <th>2021-09-13 00:00:00+00:00</th>\n      <td>0</td>\n      <td>0</td>\n      <td>9</td>\n      <td>0</td>\n      <td>False</td>\n      <td>NaN</td>\n      <td>34.0</td>\n      <td>3.7</td>\n      <td>15.0</td>\n      <td>9.20</td>\n      <td>JPL</td>\n    </tr>\n  </tbody>\n</table>\n<p>77720 rows × 11 columns</p>\n</div>"
     },
     "execution_count": 43,
     "metadata": {},
     "output_type": "execute_result"
    }
   ],
   "source": [
    "X = pd.DataFrame()\n",
    "for sdf, id, site_name in zip(sites_df, site_ids, sites):\n",
    "    start, end = get_start_end_times(sdf)\n",
    "    print(site_name, start, end)\n",
    "    # time\n",
    "    x = pd.DataFrame(index=pd.date_range(start, end, inclusive='both', freq='h', tz=0),\n",
    "                     columns=['dow', 'hour', 'month', 'is_sunny'])\n",
    "    x['dow'] = x.index.dayofweek\n",
    "    x['hour'] = x.index.hour\n",
    "    x['month'] = x.index.month\n",
    "    x['is_sunny'] = 0\n",
    "    \n",
    "    x = holiday_processing(x)\n",
    "    \n",
    "    print('x rows: ', x.shape[0])\n",
    "    # energy demand\n",
    "    demand = historical_caiso_actual_load[demand_features].set_index('datetime').rename(columns={'MW':'actual_demand_MW'}).sort_index()\n",
    "    demand = demand[demand['TAC_AREA_NAME'] == site2tac[id]][['actual_demand_MW']]\n",
    "    demand.index = pd.to_datetime(demand.index, utc=True)\n",
    "    demand = demand.loc[x.index.min():x.index.max(),:]\n",
    "    print('dem rows', demand.shape[0])\n",
    "    \n",
    "    x = pd.merge(x,demand, left_index=True, right_index=True, how='left')\n",
    "    \n",
    "    # weather and location\n",
    "    weather = historical_weather[historical_weather['site']==site_name]\n",
    "    weather = weather.loc[x.index.min():x.index.max(), :]\n",
    "    print('weather rows:', weather.shape[0])\n",
    "    x = pd.merge(x, weather, left_index=True, right_index=True, how='left')\n",
    "    print('together rows: ', x.shape[0])\n",
    "    if X.empty:\n",
    "        X = x\n",
    "    else:\n",
    "        X = pd.concat([X, x], axis=0)\n",
    "\n",
    "X"
   ],
   "metadata": {
    "collapsed": false,
    "ExecuteTime": {
     "end_time": "2024-04-09T06:24:57.574525313Z",
     "start_time": "2024-04-09T06:24:57.379411735Z"
    }
   },
   "id": "597f405d35d57ef3"
  },
  {
   "cell_type": "code",
   "execution_count": 46,
   "outputs": [
    {
     "data": {
      "text/plain": "                          index       site\n0     2019-03-25 00:00:00+00:00  Office001\n1     2019-03-25 01:00:00+00:00  Office001\n2     2019-03-25 02:00:00+00:00  Office001\n3     2019-03-25 03:00:00+00:00  Office001\n4     2019-03-25 04:00:00+00:00  Office001\n...                         ...        ...\n77715 2021-09-12 20:00:00+00:00        JPL\n77716 2021-09-12 21:00:00+00:00        JPL\n77717 2021-09-12 22:00:00+00:00        JPL\n77718 2021-09-12 23:00:00+00:00        JPL\n77719 2021-09-13 00:00:00+00:00        JPL\n\n[77715 rows x 2 columns]",
      "text/html": "<div>\n<style scoped>\n    .dataframe tbody tr th:only-of-type {\n        vertical-align: middle;\n    }\n\n    .dataframe tbody tr th {\n        vertical-align: top;\n    }\n\n    .dataframe thead th {\n        text-align: right;\n    }\n</style>\n<table border=\"1\" class=\"dataframe\">\n  <thead>\n    <tr style=\"text-align: right;\">\n      <th></th>\n      <th>index</th>\n      <th>site</th>\n    </tr>\n  </thead>\n  <tbody>\n    <tr>\n      <th>0</th>\n      <td>2019-03-25 00:00:00+00:00</td>\n      <td>Office001</td>\n    </tr>\n    <tr>\n      <th>1</th>\n      <td>2019-03-25 01:00:00+00:00</td>\n      <td>Office001</td>\n    </tr>\n    <tr>\n      <th>2</th>\n      <td>2019-03-25 02:00:00+00:00</td>\n      <td>Office001</td>\n    </tr>\n    <tr>\n      <th>3</th>\n      <td>2019-03-25 03:00:00+00:00</td>\n      <td>Office001</td>\n    </tr>\n    <tr>\n      <th>4</th>\n      <td>2019-03-25 04:00:00+00:00</td>\n      <td>Office001</td>\n    </tr>\n    <tr>\n      <th>...</th>\n      <td>...</td>\n      <td>...</td>\n    </tr>\n    <tr>\n      <th>77715</th>\n      <td>2021-09-12 20:00:00+00:00</td>\n      <td>JPL</td>\n    </tr>\n    <tr>\n      <th>77716</th>\n      <td>2021-09-12 21:00:00+00:00</td>\n      <td>JPL</td>\n    </tr>\n    <tr>\n      <th>77717</th>\n      <td>2021-09-12 22:00:00+00:00</td>\n      <td>JPL</td>\n    </tr>\n    <tr>\n      <th>77718</th>\n      <td>2021-09-12 23:00:00+00:00</td>\n      <td>JPL</td>\n    </tr>\n    <tr>\n      <th>77719</th>\n      <td>2021-09-13 00:00:00+00:00</td>\n      <td>JPL</td>\n    </tr>\n  </tbody>\n</table>\n<p>77715 rows × 2 columns</p>\n</div>"
     },
     "execution_count": 46,
     "metadata": {},
     "output_type": "execute_result"
    }
   ],
   "source": [
    "X['site'].reset_index().drop_duplicates()"
   ],
   "metadata": {
    "collapsed": false,
    "ExecuteTime": {
     "end_time": "2024-04-09T06:25:39.365978060Z",
     "start_time": "2024-04-09T06:25:39.320108397Z"
    }
   },
   "id": "d92edb79be576d6d"
  },
  {
   "cell_type": "code",
   "execution_count": 42,
   "outputs": [
    {
     "data": {
      "text/plain": "                           dow  hour  month  is_sunny  is_holiday  \\\n2018-09-05 00:00:00+00:00    2     0      9         0       False   \n2018-09-05 01:00:00+00:00    2     1      9         0       False   \n2018-09-05 02:00:00+00:00    2     2      9         0       False   \n2018-09-05 03:00:00+00:00    2     3      9         0       False   \n2018-09-05 04:00:00+00:00    2     4      9         0       False   \n...                        ...   ...    ...       ...         ...   \n2021-09-12 20:00:00+00:00    6    20      9         0       False   \n2021-09-12 21:00:00+00:00    6    21      9         0       False   \n2021-09-12 22:00:00+00:00    6    22      9         0       False   \n2021-09-12 23:00:00+00:00    6    23      9         0       False   \n2021-09-13 00:00:00+00:00    0     0      9         0       False   \n\n                           actual_demand_MW  temperature_degC  dewpoint_degC  \\\n2018-09-05 00:00:00+00:00           12307.0              23.4           17.8   \n2018-09-05 01:00:00+00:00           11541.0              21.8           17.4   \n2018-09-05 02:00:00+00:00           11014.0              20.7           16.7   \n2018-09-05 03:00:00+00:00           10628.0              18.4           16.7   \n2018-09-05 04:00:00+00:00           10440.0              18.4           17.2   \n...                                     ...               ...            ...   \n2021-09-12 20:00:00+00:00               NaN              33.4            8.8   \n2021-09-12 21:00:00+00:00               NaN              35.7            0.7   \n2021-09-12 22:00:00+00:00               NaN              34.5           -2.9   \n2021-09-12 23:00:00+00:00               NaN              34.5           -0.2   \n2021-09-13 00:00:00+00:00               NaN              34.0            3.7   \n\n                           relative_humidity_%  wind_speed_mph site  \n2018-09-05 00:00:00+00:00                 71.0           11.43  JPL  \n2018-09-05 01:00:00+00:00                 76.0           11.43  JPL  \n2018-09-05 02:00:00+00:00                 78.0           10.31  JPL  \n2018-09-05 03:00:00+00:00                 90.0            8.08  JPL  \n2018-09-05 04:00:00+00:00                 93.0            8.08  JPL  \n...                                        ...             ...  ...  \n2021-09-12 20:00:00+00:00                 22.0            5.84  JPL  \n2021-09-12 21:00:00+00:00                 11.0           12.74  JPL  \n2021-09-12 22:00:00+00:00                  9.0           12.74  JPL  \n2021-09-12 23:00:00+00:00                 11.0           10.31  JPL  \n2021-09-13 00:00:00+00:00                 15.0            9.20  JPL  \n\n[26499 rows x 11 columns]",
      "text/html": "<div>\n<style scoped>\n    .dataframe tbody tr th:only-of-type {\n        vertical-align: middle;\n    }\n\n    .dataframe tbody tr th {\n        vertical-align: top;\n    }\n\n    .dataframe thead th {\n        text-align: right;\n    }\n</style>\n<table border=\"1\" class=\"dataframe\">\n  <thead>\n    <tr style=\"text-align: right;\">\n      <th></th>\n      <th>dow</th>\n      <th>hour</th>\n      <th>month</th>\n      <th>is_sunny</th>\n      <th>is_holiday</th>\n      <th>actual_demand_MW</th>\n      <th>temperature_degC</th>\n      <th>dewpoint_degC</th>\n      <th>relative_humidity_%</th>\n      <th>wind_speed_mph</th>\n      <th>site</th>\n    </tr>\n  </thead>\n  <tbody>\n    <tr>\n      <th>2018-09-05 00:00:00+00:00</th>\n      <td>2</td>\n      <td>0</td>\n      <td>9</td>\n      <td>0</td>\n      <td>False</td>\n      <td>12307.0</td>\n      <td>23.4</td>\n      <td>17.8</td>\n      <td>71.0</td>\n      <td>11.43</td>\n      <td>JPL</td>\n    </tr>\n    <tr>\n      <th>2018-09-05 01:00:00+00:00</th>\n      <td>2</td>\n      <td>1</td>\n      <td>9</td>\n      <td>0</td>\n      <td>False</td>\n      <td>11541.0</td>\n      <td>21.8</td>\n      <td>17.4</td>\n      <td>76.0</td>\n      <td>11.43</td>\n      <td>JPL</td>\n    </tr>\n    <tr>\n      <th>2018-09-05 02:00:00+00:00</th>\n      <td>2</td>\n      <td>2</td>\n      <td>9</td>\n      <td>0</td>\n      <td>False</td>\n      <td>11014.0</td>\n      <td>20.7</td>\n      <td>16.7</td>\n      <td>78.0</td>\n      <td>10.31</td>\n      <td>JPL</td>\n    </tr>\n    <tr>\n      <th>2018-09-05 03:00:00+00:00</th>\n      <td>2</td>\n      <td>3</td>\n      <td>9</td>\n      <td>0</td>\n      <td>False</td>\n      <td>10628.0</td>\n      <td>18.4</td>\n      <td>16.7</td>\n      <td>90.0</td>\n      <td>8.08</td>\n      <td>JPL</td>\n    </tr>\n    <tr>\n      <th>2018-09-05 04:00:00+00:00</th>\n      <td>2</td>\n      <td>4</td>\n      <td>9</td>\n      <td>0</td>\n      <td>False</td>\n      <td>10440.0</td>\n      <td>18.4</td>\n      <td>17.2</td>\n      <td>93.0</td>\n      <td>8.08</td>\n      <td>JPL</td>\n    </tr>\n    <tr>\n      <th>...</th>\n      <td>...</td>\n      <td>...</td>\n      <td>...</td>\n      <td>...</td>\n      <td>...</td>\n      <td>...</td>\n      <td>...</td>\n      <td>...</td>\n      <td>...</td>\n      <td>...</td>\n      <td>...</td>\n    </tr>\n    <tr>\n      <th>2021-09-12 20:00:00+00:00</th>\n      <td>6</td>\n      <td>20</td>\n      <td>9</td>\n      <td>0</td>\n      <td>False</td>\n      <td>NaN</td>\n      <td>33.4</td>\n      <td>8.8</td>\n      <td>22.0</td>\n      <td>5.84</td>\n      <td>JPL</td>\n    </tr>\n    <tr>\n      <th>2021-09-12 21:00:00+00:00</th>\n      <td>6</td>\n      <td>21</td>\n      <td>9</td>\n      <td>0</td>\n      <td>False</td>\n      <td>NaN</td>\n      <td>35.7</td>\n      <td>0.7</td>\n      <td>11.0</td>\n      <td>12.74</td>\n      <td>JPL</td>\n    </tr>\n    <tr>\n      <th>2021-09-12 22:00:00+00:00</th>\n      <td>6</td>\n      <td>22</td>\n      <td>9</td>\n      <td>0</td>\n      <td>False</td>\n      <td>NaN</td>\n      <td>34.5</td>\n      <td>-2.9</td>\n      <td>9.0</td>\n      <td>12.74</td>\n      <td>JPL</td>\n    </tr>\n    <tr>\n      <th>2021-09-12 23:00:00+00:00</th>\n      <td>6</td>\n      <td>23</td>\n      <td>9</td>\n      <td>0</td>\n      <td>False</td>\n      <td>NaN</td>\n      <td>34.5</td>\n      <td>-0.2</td>\n      <td>11.0</td>\n      <td>10.31</td>\n      <td>JPL</td>\n    </tr>\n    <tr>\n      <th>2021-09-13 00:00:00+00:00</th>\n      <td>0</td>\n      <td>0</td>\n      <td>9</td>\n      <td>0</td>\n      <td>False</td>\n      <td>NaN</td>\n      <td>34.0</td>\n      <td>3.7</td>\n      <td>15.0</td>\n      <td>9.20</td>\n      <td>JPL</td>\n    </tr>\n  </tbody>\n</table>\n<p>26499 rows × 11 columns</p>\n</div>"
     },
     "execution_count": 42,
     "metadata": {},
     "output_type": "execute_result"
    }
   ],
   "source": [
    "X[X['site'] == 'JPL']"
   ],
   "metadata": {
    "collapsed": false,
    "ExecuteTime": {
     "end_time": "2024-04-09T06:24:44.659281473Z",
     "start_time": "2024-04-09T06:24:44.595808946Z"
    }
   },
   "id": "26780a4b86517978"
  },
  {
   "cell_type": "code",
   "execution_count": 27,
   "outputs": [
    {
     "name": "stdout",
     "output_type": "stream",
     "text": [
      "there are 77720 records\n"
     ]
    }
   ],
   "source": [
    "X['site'].value_counts().sum() == X.shape[0]\n",
    "print(f'there are {X.shape[0]} records')"
   ],
   "metadata": {
    "collapsed": false,
    "ExecuteTime": {
     "end_time": "2024-04-09T06:16:13.152212698Z",
     "start_time": "2024-04-09T06:16:13.108932780Z"
    }
   },
   "id": "d30943921e136d2f"
  },
  {
   "cell_type": "code",
   "execution_count": 31,
   "outputs": [
    {
     "data": {
      "text/plain": "site\nCaltech      29571\nJPL          26499\nOffice001    21650\nName: count, dtype: int64"
     },
     "execution_count": 31,
     "metadata": {},
     "output_type": "execute_result"
    }
   ],
   "source": [
    "X['site'].value_counts()"
   ],
   "metadata": {
    "collapsed": false,
    "ExecuteTime": {
     "end_time": "2024-04-09T06:17:50.922961260Z",
     "start_time": "2024-04-09T06:17:50.880005565Z"
    }
   },
   "id": "ec8772b73be58094"
  },
  {
   "cell_type": "code",
   "execution_count": 33,
   "outputs": [
    {
     "data": {
      "text/plain": "2019-03-25 00:00:00+00:00    1.000000\n2019-03-25 01:00:00+00:00    1.000000\n2019-03-25 02:00:00+00:00    1.000000\n2019-03-25 03:00:00+00:00    1.000000\n2019-03-25 04:00:00+00:00    1.000000\n                               ...   \n2021-09-12 20:00:00+00:00    0.961538\n2021-09-12 21:00:00+00:00    0.980769\n2021-09-12 22:00:00+00:00    1.000000\n2021-09-12 23:00:00+00:00    1.000000\n2021-09-13 00:00:00+00:00    1.000000\nLength: 77715, dtype: float64"
     },
     "execution_count": 33,
     "metadata": {},
     "output_type": "execute_result"
    }
   ],
   "source": [
    "y"
   ],
   "metadata": {
    "collapsed": false,
    "ExecuteTime": {
     "end_time": "2024-04-09T06:18:23.176925231Z",
     "start_time": "2024-04-09T06:18:23.156618522Z"
    }
   },
   "id": "c1bad0481f02676d"
  },
  {
   "cell_type": "markdown",
   "source": [
    "# Deal with covid\n",
    "we found (graphically) that covid effects start around march 3rd 2020, so we truncated our data to march 1st. Since we did not have dates that contained post covid data, we did not include any charges after 2020-03-01 "
   ],
   "metadata": {
    "collapsed": false
   },
   "id": "c68a98f3903a2e44"
  },
  {
   "cell_type": "code",
   "execution_count": 28,
   "outputs": [
    {
     "data": {
      "text/plain": "Timestamp('2021-09-14 00:00:00+0000', tz='UTC')"
     },
     "execution_count": 28,
     "metadata": {},
     "output_type": "execute_result"
    }
   ],
   "source": [
    "x = X[X.index < '2020-03-01']\n",
    "X.index.max()\n"
   ],
   "metadata": {
    "collapsed": false,
    "ExecuteTime": {
     "end_time": "2024-04-09T06:16:16.548120164Z",
     "start_time": "2024-04-09T06:16:16.515528643Z"
    }
   },
   "id": "5c16b446075321d9"
  },
  {
   "cell_type": "code",
   "execution_count": 29,
   "outputs": [],
   "source": [
    "cols = list(df_c.columns)\n",
    "df = pd.concat([df[cols] for df in sites_df], axis=0)\n",
    "y = create_all_site_y(df, regression=True)"
   ],
   "metadata": {
    "collapsed": false,
    "ExecuteTime": {
     "end_time": "2024-04-09T06:16:50.489683111Z",
     "start_time": "2024-04-09T06:16:22.304284233Z"
    }
   },
   "id": "9923dd251f842593"
  },
  {
   "cell_type": "code",
   "execution_count": 30,
   "outputs": [
    {
     "ename": "AssertionError",
     "evalue": "X and y rows are not equal!",
     "output_type": "error",
     "traceback": [
      "\u001B[0;31m---------------------------------------------------------------------------\u001B[0m",
      "\u001B[0;31mAssertionError\u001B[0m                            Traceback (most recent call last)",
      "Cell \u001B[0;32mIn[30], line 1\u001B[0m\n\u001B[0;32m----> 1\u001B[0m \u001B[38;5;28;01massert\u001B[39;00m X\u001B[38;5;241m.\u001B[39mshape[\u001B[38;5;241m0\u001B[39m] \u001B[38;5;241m==\u001B[39m y\u001B[38;5;241m.\u001B[39mshape[\u001B[38;5;241m0\u001B[39m], \u001B[38;5;124m'\u001B[39m\u001B[38;5;124mX and y rows are not equal!\u001B[39m\u001B[38;5;124m'\u001B[39m\n",
      "\u001B[0;31mAssertionError\u001B[0m: X and y rows are not equal!"
     ]
    }
   ],
   "source": [
    "assert X.shape[0] == y.shape[0], 'X and y rows are not equal!'"
   ],
   "metadata": {
    "collapsed": false,
    "ExecuteTime": {
     "end_time": "2024-04-09T06:16:50.757013300Z",
     "start_time": "2024-04-09T06:16:50.489446735Z"
    }
   },
   "id": "8c36b0e7987d6c7e"
  },
  {
   "cell_type": "code",
   "execution_count": 34,
   "outputs": [
    {
     "data": {
      "text/plain": "Timestamp('2020-02-29 23:00:00+0000', tz='UTC')"
     },
     "execution_count": 34,
     "metadata": {},
     "output_type": "execute_result"
    }
   ],
   "source": [
    "y = y[y.index < '2020-03-01']\n",
    "y.index.max()"
   ],
   "metadata": {
    "collapsed": false,
    "ExecuteTime": {
     "end_time": "2024-04-09T06:18:41.268628285Z",
     "start_time": "2024-04-09T06:18:41.215307350Z"
    }
   },
   "id": "e9d3e0bc073b7dd4"
  },
  {
   "cell_type": "code",
   "execution_count": 35,
   "outputs": [
    {
     "ename": "AssertionError",
     "evalue": "forgot to trim y's covid!",
     "output_type": "error",
     "traceback": [
      "\u001B[0;31m---------------------------------------------------------------------------\u001B[0m",
      "\u001B[0;31mAssertionError\u001B[0m                            Traceback (most recent call last)",
      "Cell \u001B[0;32mIn[35], line 1\u001B[0m\n\u001B[0;32m----> 1\u001B[0m \u001B[38;5;28;01massert\u001B[39;00m x\u001B[38;5;241m.\u001B[39mshape[\u001B[38;5;241m0\u001B[39m] \u001B[38;5;241m==\u001B[39m y\u001B[38;5;241m.\u001B[39mshape[\u001B[38;5;241m0\u001B[39m], \u001B[38;5;124m'\u001B[39m\u001B[38;5;124mforgot to trim y\u001B[39m\u001B[38;5;130;01m\\'\u001B[39;00m\u001B[38;5;124ms covid!\u001B[39m\u001B[38;5;124m'\u001B[39m\n",
      "\u001B[0;31mAssertionError\u001B[0m: forgot to trim y's covid!"
     ]
    }
   ],
   "source": [
    "assert x.shape[0] == y.shape[0], 'forgot to trim y\\'s covid!'"
   ],
   "metadata": {
    "collapsed": false,
    "ExecuteTime": {
     "end_time": "2024-04-09T06:18:41.970407604Z",
     "start_time": "2024-04-09T06:18:41.921253871Z"
    }
   },
   "id": "e729c9b1c81bbfc7"
  },
  {
   "cell_type": "markdown",
   "source": [
    "# XGBoost"
   ],
   "metadata": {
    "collapsed": false
   },
   "id": "6e82989ebf987ecc"
  },
  {
   "cell_type": "code",
   "execution_count": null,
   "outputs": [],
   "source": [
    "X.columns"
   ],
   "metadata": {
    "collapsed": false,
    "ExecuteTime": {
     "start_time": "2024-04-09T06:10:04.018005513Z"
    }
   },
   "id": "5e4ec3977f197827"
  },
  {
   "cell_type": "code",
   "execution_count": null,
   "outputs": [],
   "source": [
    "from sklearn.linear_model import LinearRegression\n",
    "from sklearn.preprocessing import OneHotEncoder, StandardScaler\n",
    "from sklearn.compose import ColumnTransformer\n",
    "\n",
    "X_train, X_test, y_train, y_test = train_test_split(x, y, test_size = .2)\n",
    "\n",
    "cat_cols = ['dow', 'hour', 'month', 'is_sunny', 'is_holiday','siteID']\n",
    "num_cols = [col for col in x.columns if col not in cat_cols]\n",
    "\n",
    "numeric_transformer = StandardScaler()\n",
    "categorical_transformer = OneHotEncoder(sparse_output=False, handle_unknown='ignore', drop='first')\n",
    "\n",
    "\n",
    "xgb_model = Pipeline(\n",
    "    steps=[\n",
    "        ('preprocessing', ColumnTransformer(\n",
    "            transformers=[\n",
    "                (\"num\", numeric_transformer, num_cols),\n",
    "                (\"cat\", categorical_transformer, cat_cols),\n",
    "            ])),\n",
    "        ('xgb', XGBRegressor()),\n",
    "        ]\n",
    ")\n",
    "\n",
    "xgb_model.fit(X_train, y_train)\n",
    "print(f'training RMSE: {np.sqrt(mean_squared_error(xgb_model.predict(X_train), y_train))}\\ntest RMSE    : {np.sqrt(mean_squared_error(xgb_model.predict(X_test), y_test))}')\n",
    "print(f'training r2: {xgb_model.score(X_train, y_train)}\\ntest r2    : {xgb_model.score(X_test, y_test)}')"
   ],
   "metadata": {
    "collapsed": false
   },
   "id": "ccdc30be92b6c2b"
  },
  {
   "cell_type": "code",
   "execution_count": null,
   "outputs": [],
   "source": [
    "X_test = X_test.sort_index()\n",
    "y_test = y_test.sort_index()\n",
    "pred = pd.Series(xgb_model.predict(X_test), index=X_test.index)\n",
    "plt.title('XGB Regression model')\n",
    "plt.suptitle(f'test R2: {np.round(xgb_model.score(X_test, y_test),3)}')\n",
    "plt.plot(y_test.index, y_test)\n",
    "plt.plot(y_test.index, pred)\n",
    "plt.ylabel('% available')"
   ],
   "metadata": {
    "collapsed": false
   },
   "id": "4e97707abedf733f"
  }
 ],
 "metadata": {
  "kernelspec": {
   "display_name": "Python 3",
   "language": "python",
   "name": "python3"
  },
  "language_info": {
   "codemirror_mode": {
    "name": "ipython",
    "version": 2
   },
   "file_extension": ".py",
   "mimetype": "text/x-python",
   "name": "python",
   "nbconvert_exporter": "python",
   "pygments_lexer": "ipython2",
   "version": "2.7.6"
  }
 },
 "nbformat": 4,
 "nbformat_minor": 5
}
