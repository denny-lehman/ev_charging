{
 "cells": [
  {
   "cell_type": "markdown",
   "source": [
    "# Multinomial model\n",
    "this model will take details about the time and date and predict the number of spots available for a location that has multiple chargers (either a cluster or site)\n",
    "\n",
    "the model might take the form of \n",
    "\n",
    "$ num_spots = linear combination of (hour , month, is_holiday, day_of_week) $"
   ],
   "metadata": {
    "collapsed": false
   },
   "id": "b7b78acc7553b965"
  },
  {
   "cell_type": "code",
   "execution_count": null,
   "outputs": [],
   "source": [
    "import os\n",
    "os.chdir('..')"
   ],
   "metadata": {
    "collapsed": false
   },
   "id": "5804fa9d9bdd20af"
  },
  {
   "cell_type": "code",
   "execution_count": null,
   "outputs": [],
   "source": [
    "import pandas as pd\n",
    "import numpy as np\n",
    "import matplotlib.pyplot as plt\n",
    "from src.data_preprocessing import datetime_processing, userinput_processing, holiday_processing, create_x\n",
    "\n",
    "from sklearn.model_selection import train_test_split\n",
    "from sklearn.linear_model import LogisticRegression\n",
    "from sklearn.preprocessing import OneHotEncoder\n",
    "from sklearn.pipeline import Pipeline\n",
    "\n",
    "from sklearn.metrics import confusion_matrix, ConfusionMatrixDisplay, f1_score, precision_score, recall_score, accuracy_score\n"
   ],
   "metadata": {
    "collapsed": false
   },
   "id": "b66aae20146a12c7"
  },
  {
   "cell_type": "code",
   "execution_count": null,
   "outputs": [],
   "source": [
    "def get_results(y_test, prediction):\n",
    "    cm = confusion_matrix(y_test,prediction)\n",
    "    make_classification_plot(cm)\n",
    "    \n",
    "    results = {'tpr': cm[1, 1]/np.sum(cm[1]),\n",
    "               'fpr': cm[0,1]/np.sum(cm[0]),\n",
    "               'accuracy': accuracy_score(y_test, prediction),\n",
    "               'precision': precision_score(y_test, prediction, average='weighted'),\n",
    "               'recall': recall_score(y_test, prediction, average='weighted'),\n",
    "        'f1':f1_score(y_test,prediction, average='weighted')}\n",
    "    return results\n",
    "\n",
    "def make_classification_plot(cm):\n",
    "    disp = ConfusionMatrixDisplay(cm)\n",
    "    disp = disp.plot(include_values=True, cmap='viridis', ax=None, xticks_rotation='horizontal')\n",
    "    plt.grid(False)\n",
    "    plt.show()"
   ],
   "metadata": {
    "collapsed": false
   },
   "id": "e20433a6d2523682"
  },
  {
   "cell_type": "markdown",
   "source": [
    "# 1. Make data, X, y"
   ],
   "metadata": {
    "collapsed": false
   },
   "id": "63552a5c62d5926a"
  },
  {
   "cell_type": "code",
   "execution_count": null,
   "outputs": [],
   "source": [
    "df_of = pd.read_parquet('data/ACN-API/office001/').reset_index(drop=True)\n",
    "df_of = datetime_processing(df_of)\n",
    "df_of = userinput_processing(df_of)\n",
    "df_of = holiday_processing(df_of)\n",
    "df_of.head()"
   ],
   "metadata": {
    "collapsed": false
   },
   "id": "fdfeacaf6be6ff8a"
  },
  {
   "cell_type": "code",
   "execution_count": null,
   "outputs": [],
   "source": [
    "df = df_of\n",
    "tmp = df.copy()\n",
    "tmp.set_index('connectionTime', inplace=True)\n",
    "start_date = '2019-03-25'; end_date = '2021-09-12'\n",
    "tmp = tmp.sort_index().loc[start_date:end_date,:]\n",
    "\n",
    "space_cols = tmp.spaceID.unique()\n",
    "space_cols = (list(space_cols.astype('str')))\n",
    "\n",
    "y = pd.DataFrame(index=pd.date_range(start_date,end_date, inclusive='both', freq='h', tz=0),columns=space_cols)\n",
    "y[space_cols] = 1\n",
    "\n",
    "tmp.reset_index(inplace=True)\n",
    "\n",
    "for i in list(tmp.index):\n",
    "    start_ = tmp.loc[i, 'connectionTime']\n",
    "    end_ = tmp.loc[i, 'disconnectTime']\n",
    "    session_ = tmp.loc[i, 'sessionID']\n",
    "    space_ = tmp.loc[i, 'spaceID']\n",
    "    # print(start_,'\\t', end_,'\\t', session_, '\\t', space_)\n",
    "    try:\n",
    "        y.loc[start_:end_,space_] = 0\n",
    "    except:\n",
    "        print('bad value:')\n",
    "        print(i, '\\t', start_,'\\t', end_,'\\t', session_, '\\t', space_)\n"
   ],
   "metadata": {
    "collapsed": false
   },
   "id": "b14e9ddcecde1d4b"
  },
  {
   "cell_type": "code",
   "execution_count": null,
   "outputs": [],
   "source": [
    "y"
   ],
   "metadata": {
    "collapsed": false
   },
   "id": "f5244f19935ce0cc"
  },
  {
   "cell_type": "code",
   "execution_count": null,
   "outputs": [],
   "source": [
    "# tmp = df_of.copy()\n",
    "# tmp.set_index('connectionTime', inplace=True)\n",
    "# start_date = '2019-03-25'; end_date = '2021-09-12'\n",
    "# tmp = tmp.sort_index().loc[start_date:end_date,:]\n",
    "# \n",
    "# space_cols = tmp.spaceID.unique()\n",
    "# space_cols = (list(space_cols.astype('str')))\n",
    "# \n",
    "# y = pd.DataFrame(index=pd.date_range(start_date,end_date, inclusive='both', freq='h', tz=0),columns=space_cols)\n",
    "# y[space_cols] = 1\n",
    "# \n",
    "# print('there is a problem here. Some charging sessions have the EXACT same start time (see index 335)', tmp.iloc[335:337, 0:2])\n",
    "# print('the solution is to go through the dataframe by index number, using iloc, instead of by connection time using .loc')\n",
    "# disconnect_col = np.where(tmp.columns == 'disconnectTime')[0][0]\n",
    "# session_col = np.where(tmp.columns == 'sessionID')[0][0]\n",
    "# space_col = np.where(tmp.columns == 'spaceID')[0][0]\n",
    "# \n",
    "# print(f'so we use the column number instead of the column name, hence why we disconnect is {disconnect_col}, session is {session_col}, and space is {space_col}')\n",
    "# \n",
    "# for i in range(len(tmp)):\n",
    "#     start_ = tmp.index[i]\n",
    "#     end_ = tmp.iloc[i, disconnect_col] \n",
    "#     session_ = tmp.iloc[i, session_col]\n",
    "#     space_ = tmp.iloc[i, space_col]\n",
    "#     # print(start_,'\\t', end_,'\\t', session_, '\\t', space_)\n",
    "#     try:\n",
    "#         y.loc[start_:end_,space_] = 0\n",
    "#     except:\n",
    "#         print('bad value:')\n",
    "#         print(i, '\\t', start_,'\\t', end_,'\\t', session_, '\\t', space_)"
   ],
   "metadata": {
    "collapsed": false
   },
   "id": "ecbf47562f646cd3"
  },
  {
   "cell_type": "code",
   "execution_count": null,
   "outputs": [],
   "source": [
    "y.sum(axis=1).plot()\n",
    "plt.title('available spots over time at the office')"
   ],
   "metadata": {
    "collapsed": false
   },
   "id": "9cadb707b6bb5903"
  },
  {
   "cell_type": "code",
   "execution_count": null,
   "outputs": [],
   "source": [
    "X = pd.DataFrame(index=pd.date_range('2019-03-25','2021-09-12', inclusive='both', freq='h', tz=0),columns=['dow','hour','month'])\n",
    "# X['dow'] = X.index.dt.hour\n",
    "X['dow'] = X.index.dayofweek\n",
    "X['hour'] = X.index.hour\n",
    "X['month'] = X.index.month\n",
    "X['connectionTime'] = X.index\n",
    "X = holiday_processing(X).drop(columns=['connectionTime'])\n",
    "X.head()"
   ],
   "metadata": {
    "collapsed": false
   },
   "id": "3ec1eaf58a0eabb"
  },
  {
   "cell_type": "markdown",
   "source": [
    "# 1.2 split data"
   ],
   "metadata": {
    "collapsed": false
   },
   "id": "85dbbb0905d17324"
  },
  {
   "cell_type": "code",
   "execution_count": null,
   "outputs": [],
   "source": [
    "train_test_cutoff_date = '2021-06-01'"
   ],
   "metadata": {
    "collapsed": false
   },
   "id": "e449ad214781bd1e"
  },
  {
   "cell_type": "code",
   "execution_count": null,
   "outputs": [],
   "source": [
    "# Create hold out test set\n",
    "X_train, X_test, y_train, y_test = train_test_split(X, y.sum(axis=1), test_size = .2)\n",
    "print(f'the training data has an average availability of {np.round(y_train.mean(),3)} spots available')"
   ],
   "metadata": {
    "collapsed": false
   },
   "id": "1b86ec3faa3c6273"
  },
  {
   "cell_type": "code",
   "execution_count": null,
   "outputs": [],
   "source": [
    "ohe = OneHotEncoder(sparse_output=False, handle_unknown='ignore', drop='first')\n",
    "ohe.fit(X_train)\n",
    "X_train_ohe = ohe.transform(X_train)\n",
    "X_test_ohe = ohe.transform(X_test)"
   ],
   "metadata": {
    "collapsed": false
   },
   "id": "2efb965694762812"
  },
  {
   "cell_type": "markdown",
   "source": [
    "# 4. Model"
   ],
   "metadata": {
    "collapsed": false
   },
   "id": "1aa2567095316f52"
  },
  {
   "cell_type": "code",
   "execution_count": null,
   "outputs": [],
   "source": [
    "y_test"
   ],
   "metadata": {
    "collapsed": false
   },
   "id": "dfb53f253e4e868b"
  },
  {
   "cell_type": "code",
   "execution_count": null,
   "outputs": [],
   "source": [
    "from sklearn.pipeline import Pipeline\n",
    "\n",
    "classifier = LogisticRegression(C=1e5, solver='newton-cg', multi_class='multinomial')\n",
    "pipe = Pipeline([\n",
    "    ('ohe', OneHotEncoder(sparse_output=False, handle_unknown='ignore', drop='first')),\n",
    "    ('lr', classifier),\n",
    "])\n",
    "\n",
    "pipe.fit(X_train, y_train)\n",
    "pred_labels = pd.Series(pipe.predict(X_test), index=X_test.index)"
   ],
   "metadata": {
    "collapsed": false
   },
   "id": "cafed36e7338a9d4"
  },
  {
   "cell_type": "code",
   "execution_count": null,
   "outputs": [],
   "source": [
    "pred_labels.sort_index().plot()"
   ],
   "metadata": {
    "collapsed": false
   },
   "id": "c918eae267cb027a"
  },
  {
   "cell_type": "code",
   "execution_count": null,
   "outputs": [],
   "source": [
    "get_results(y_test, pred_labels)"
   ],
   "metadata": {
    "collapsed": false
   },
   "id": "ec5e07aacc76bb5a"
  },
  {
   "cell_type": "code",
   "execution_count": null,
   "outputs": [],
   "source": [
    "# save basic model\n",
    "import pickle\n",
    "pickle.dump(pipe, open('../model.pkl','wb'))\n",
    "os.getcwd()"
   ],
   "metadata": {
    "collapsed": false
   },
   "id": "1eba4938078e51b1"
  },
  {
   "cell_type": "code",
   "execution_count": null,
   "outputs": [],
   "source": [
    "model = pickle.load(open('../model.pkl', 'rb'))\n",
    "start_date = '2021-01-04'\n",
    "end_date = '2021-01-06'\n",
    "from src.data_preprocessing import create_x\n",
    "X = create_x(df, start_date=start_date, end_date=end_date)\n",
    "print(model.predict(X))"
   ],
   "metadata": {
    "collapsed": false
   },
   "id": "e0c60e4464bc26c2"
  },
  {
   "cell_type": "markdown",
   "source": [
    "pipe"
   ],
   "metadata": {
    "collapsed": false
   },
   "id": "fe5bc3029f85be53"
  },
  {
   "cell_type": "code",
   "execution_count": null,
   "outputs": [],
   "source": [
    "?precision_score"
   ],
   "metadata": {
    "collapsed": false
   },
   "id": "e53ad3f1f742004d"
  },
  {
   "cell_type": "code",
   "execution_count": null,
   "outputs": [],
   "source": [
    "classifier = LogisticRegression(multi_class='multinomial', max_iter=10000)\n",
    "classifier.fit(X_train_ohe, y_train)\n",
    "pred_labels = pd.Series(classifier.predict(X_test_ohe), index=X_test.index)\n",
    "pred_labels.sort_index().plot()"
   ],
   "metadata": {
    "collapsed": false
   },
   "id": "a940bdb2ec9c27ea"
  },
  {
   "cell_type": "code",
   "execution_count": null,
   "outputs": [],
   "source": [
    "C=10\n",
    "classifier = LogisticRegression(C=C, penalty='l1',\n",
    "                                                    solver='saga',\n",
    "                                                    multi_class='multinomial',\n",
    "                                                    max_iter=10000)\n",
    "classifier.fit(X_train_ohe, y_train)\n",
    "pred_labels = pd.Series(classifier.predict(X_test_ohe), index=X_test.index)\n",
    "pred_labels.sort_index().plot()\n"
   ],
   "metadata": {
    "collapsed": false
   },
   "id": "e268d08dc88214b2"
  },
  {
   "cell_type": "code",
   "execution_count": null,
   "outputs": [],
   "source": [
    "plt.plot(pred_labels.sort_index(), 'o')\n",
    "plt.plot(y_test.sort_index(), '--')"
   ],
   "metadata": {
    "collapsed": false
   },
   "id": "fb97b45934e2b0ed"
  },
  {
   "cell_type": "markdown",
   "source": [
    "# For fun, linear regression\n",
    "It doesnt work well because the predictions are wrong due to\n",
    "1. not descrete, it choses values like 5.5 spaces available\n",
    "2. chooses values too high, like more than 8 spaces, which is impossible"
   ],
   "metadata": {
    "collapsed": false
   },
   "id": "858dd54c7ff45045"
  },
  {
   "cell_type": "code",
   "execution_count": null,
   "outputs": [],
   "source": [
    "from sklearn.linear_model import LinearRegression\n",
    "lm = LinearRegression()\n",
    "lm.fit(X_train_ohe, y_train)\n",
    "pred = pd.Series(lm.predict(X_test_ohe), index=X_test.index)\n"
   ],
   "metadata": {
    "collapsed": false
   },
   "id": "4147bb9f1a3dc05a"
  },
  {
   "cell_type": "code",
   "execution_count": null,
   "outputs": [],
   "source": [
    "plt.plot(pred.sort_index(), 'o')\n",
    "plt.plot(y_test.sort_index(), '--')"
   ],
   "metadata": {
    "collapsed": false
   },
   "id": "1e602d87ee14f13c"
  },
  {
   "cell_type": "code",
   "execution_count": null,
   "outputs": [],
   "source": [
    "# consider interaction terms\n",
    "# https://stackoverflow.com/questions/45828964/how-to-add-interaction-term-in-python-sklearn\n",
    "poly = PolynomialFeatures(interaction_only=True,include_bias = False)\n",
    "poly.fit_transform(X)"
   ],
   "metadata": {
    "collapsed": false
   },
   "id": "d6e6250dba436f0"
  },
  {
   "cell_type": "code",
   "execution_count": null,
   "outputs": [],
   "source": [],
   "metadata": {
    "collapsed": false
   },
   "id": "37ada1861a254ecc"
  }
 ],
 "metadata": {
  "kernelspec": {
   "display_name": "Python 3",
   "language": "python",
   "name": "python3"
  },
  "language_info": {
   "codemirror_mode": {
    "name": "ipython",
    "version": 2
   },
   "file_extension": ".py",
   "mimetype": "text/x-python",
   "name": "python",
   "nbconvert_exporter": "python",
   "pygments_lexer": "ipython2",
   "version": "2.7.6"
  }
 },
 "nbformat": 4,
 "nbformat_minor": 5
}
