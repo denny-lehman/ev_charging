{
 "cells": [
  {
   "cell_type": "markdown",
   "source": [
    "# Model evaluation notebook\n",
    "\n",
    "in this notebook we will evaluate % availability. definitions are:\n",
    "\n",
    "X = hour, dow, weekend, holiday, is_sunny, caiso, site_id\n",
    "y = % available (for site)\n",
    "\n",
    "this will work for all sites.\n",
    "\n",
    "How will we do train test split?\n",
    "random 80-20 for now \n"
   ],
   "metadata": {
    "collapsed": false
   },
   "id": "7f6e65b1d6b67fbd"
  },
  {
   "cell_type": "code",
   "execution_count": 1,
   "outputs": [
    {
     "data": {
      "text/plain": "'/home/denny/Documents/mids/ev_charging'"
     },
     "execution_count": 1,
     "metadata": {},
     "output_type": "execute_result"
    }
   ],
   "source": [
    "import os\n",
    "os.chdir('..')\n",
    "os.getcwd()"
   ],
   "metadata": {
    "collapsed": false,
    "ExecuteTime": {
     "end_time": "2024-03-12T03:38:26.135243047Z",
     "start_time": "2024-03-12T03:38:24.115772850Z"
    }
   },
   "id": "2601b6721f0f7ef"
  },
  {
   "cell_type": "code",
   "execution_count": 2,
   "outputs": [],
   "source": [
    "import numpy as np\n",
    "import pandas as pd\n",
    "import matplotlib.pyplot as plt\n",
    "from xgboost import XGBRegressor\n",
    "\n",
    "from sklearn.preprocessing import OneHotEncoder\n",
    "from sklearn.model_selection import train_test_split\n",
    "from sklearn.pipeline import Pipeline\n",
    "\n",
    "from src.data_preprocessing import  datetime_processing, userinput_processing, holiday_processing, create_all_site_x, create_all_site_y, create_x, update_varuns_x, get_start_end_times"
   ],
   "metadata": {
    "collapsed": false,
    "ExecuteTime": {
     "end_time": "2024-03-12T03:38:26.532095848Z",
     "start_time": "2024-03-12T03:38:24.128022331Z"
    }
   },
   "id": "ff74c69e08aebaa6"
  },
  {
   "cell_type": "code",
   "execution_count": 3,
   "outputs": [],
   "source": [
    "df_c = pd.read_parquet('data/sessions/caltech/').reset_index(drop=True)\n",
    "df_c = datetime_processing(df_c)\n",
    "df_c = userinput_processing(df_c)\n",
    "df_c = holiday_processing(df_c)\n",
    "\n",
    "\n",
    "df_j = pd.read_parquet('data/sessions/jpl/').reset_index(drop=True)\n",
    "df_j = datetime_processing(df_j)\n",
    "df_j = userinput_processing(df_j)\n",
    "df_j = holiday_processing(df_j)\n",
    "\n",
    "df_o = pd.read_parquet('data/sessions/office001/').reset_index(drop=True)\n",
    "df_o = datetime_processing(df_o)\n",
    "df_o = userinput_processing(df_o)\n",
    "df_o = holiday_processing(df_o)\n",
    "\n",
    "cols = list(df_c.columns)\n",
    "df = pd.concat([df_c[cols], df_j[cols], df_o[cols]], axis=0)"
   ],
   "metadata": {
    "collapsed": false,
    "ExecuteTime": {
     "end_time": "2024-03-12T03:38:46.644032536Z",
     "start_time": "2024-03-12T03:38:25.880801058Z"
    }
   },
   "id": "be5630eefefec7bc"
  },
  {
   "cell_type": "code",
   "execution_count": 4,
   "outputs": [
    {
     "name": "stdout",
     "output_type": "stream",
     "text": [
      "df is a dataframe comprised of these site ids: [2, 1, 19]\n"
     ]
    }
   ],
   "source": [
    "print(f'df is a dataframe comprised of these site ids: {list(df.siteID.unique())}')"
   ],
   "metadata": {
    "collapsed": false,
    "ExecuteTime": {
     "end_time": "2024-03-12T03:38:46.677115939Z",
     "start_time": "2024-03-12T03:38:46.646743826Z"
    }
   },
   "id": "1ad623a6608bb3a2"
  },
  {
   "cell_type": "markdown",
   "source": [
    "# Make X and y"
   ],
   "metadata": {
    "collapsed": false
   },
   "id": "2daa182a25a2d699"
  },
  {
   "cell_type": "code",
   "execution_count": 5,
   "outputs": [],
   "source": [
    "start = '2018-05-01'\n",
    "end = '2021-09-13'\n",
    "spaceID = 'CA-303'\n",
    "caiso_fp = 'data/caiso_dataset_5min.csv'\n",
    "sun_fp = 'data/ct_sr_ss.csv'"
   ],
   "metadata": {
    "collapsed": false,
    "ExecuteTime": {
     "end_time": "2024-03-12T03:38:46.706703180Z",
     "start_time": "2024-03-12T03:38:46.654994584Z"
    }
   },
   "id": "28b9181156446fb4"
  },
  {
   "cell_type": "code",
   "execution_count": 11,
   "outputs": [
    {
     "name": "stderr",
     "output_type": "stream",
     "text": [
      "/home/denny/Documents/mids/ev_charging/src/data_preprocessing.py:183: UserWarning: Could not infer format, so each element will be parsed individually, falling back to `dateutil`. To ensure parsing is consistent and as-expected, please specify a format.\n",
      "  sun['sunset_ts'] = pd.to_datetime(sun['date'] + ' ' + sun['sunset'], errors='coerce', utc=True)\n",
      "/home/denny/Documents/mids/ev_charging/src/data_preprocessing.py:183: UserWarning: Could not infer format, so each element will be parsed individually, falling back to `dateutil`. To ensure parsing is consistent and as-expected, please specify a format.\n",
      "  sun['sunset_ts'] = pd.to_datetime(sun['date'] + ' ' + sun['sunset'], errors='coerce', utc=True)\n",
      "/home/denny/Documents/mids/ev_charging/src/data_preprocessing.py:183: UserWarning: Could not infer format, so each element will be parsed individually, falling back to `dateutil`. To ensure parsing is consistent and as-expected, please specify a format.\n",
      "  sun['sunset_ts'] = pd.to_datetime(sun['date'] + ' ' + sun['sunset'], errors='coerce', utc=True)\n"
     ]
    }
   ],
   "source": [
    "X = pd.DataFrame()\n",
    "sites_df = [df_o,df_c,df_j]\n",
    "site_ids = [2,1,19]\n",
    "caiso_fp = 'data/caiso_dataset_5min.csv'\n",
    "\n",
    "\n",
    "for sdf, id, sun_fp in zip(sites_df, site_ids, ['data/of_sr_ss.csv','data/ct_sr_ss.csv', 'data/jpl_sr_ss.csv'] ):\n",
    "    start, end = get_start_end_times(sdf)\n",
    "    tmpx = create_x(start, end, caiso_fp, sun_fp)\n",
    "    tmpx = update_varuns_x(tmpx, id)\n",
    "    \n",
    "    if X.empty:\n",
    "        X = tmpx\n",
    "    else:\n",
    "        X = pd.concat([X, tmpx], axis=0)\n",
    "    "
   ],
   "metadata": {
    "collapsed": false,
    "ExecuteTime": {
     "end_time": "2024-03-12T03:38:54.220385759Z",
     "start_time": "2024-03-12T03:38:46.716745377Z"
    }
   },
   "id": "7196c46e7c2283d3"
  },
  {
   "cell_type": "code",
   "execution_count": 18,
   "outputs": [
    {
     "name": "stdout",
     "output_type": "stream",
     "text": [
      "there are 77715 records\n"
     ]
    }
   ],
   "source": [
    "X['siteID'].value_counts().sum() == X.shape[0]\n",
    "print(f'there are {X.shape[0]} records')"
   ],
   "metadata": {
    "collapsed": false,
    "ExecuteTime": {
     "end_time": "2024-03-12T03:39:37.724361806Z",
     "start_time": "2024-03-12T03:39:37.645459218Z"
    }
   },
   "id": "d751050ce2460deb"
  },
  {
   "cell_type": "markdown",
   "source": [
    "# Deal with covid\n",
    "we found (graphically) that covid effects start around march 3rd 2020, so we truncated our data to march 1st. Since we did not have dates that contained post covid data, we did not include any charges after 2020-03-01 "
   ],
   "metadata": {
    "collapsed": false
   },
   "id": "ebb1d6dbc29d051a"
  },
  {
   "cell_type": "code",
   "execution_count": 19,
   "outputs": [
    {
     "data": {
      "text/plain": "Timestamp('2020-02-29 23:00:00+0000', tz='UTC')"
     },
     "execution_count": 19,
     "metadata": {},
     "output_type": "execute_result"
    }
   ],
   "source": [
    "x = X[X.index < '2020-03-01']\n",
    "x.index.max()\n"
   ],
   "metadata": {
    "collapsed": false,
    "ExecuteTime": {
     "end_time": "2024-03-12T03:39:44.898470052Z",
     "start_time": "2024-03-12T03:39:44.836673786Z"
    }
   },
   "id": "2d080c1ba28ecffc"
  },
  {
   "cell_type": "code",
   "execution_count": 20,
   "outputs": [],
   "source": [
    "cols = list(df_c.columns)\n",
    "df = pd.concat([df[cols] for df in sites_df], axis=0)\n",
    "y = create_all_site_y(df, regression=True)"
   ],
   "metadata": {
    "collapsed": false,
    "ExecuteTime": {
     "end_time": "2024-03-12T03:40:33.128884530Z",
     "start_time": "2024-03-12T03:39:48.484842312Z"
    }
   },
   "id": "543f8688831e095c"
  },
  {
   "cell_type": "code",
   "execution_count": 21,
   "outputs": [],
   "source": [
    "assert X.shape[0] == y.shape[0], 'X and y rows are not equal!'"
   ],
   "metadata": {
    "collapsed": false,
    "ExecuteTime": {
     "end_time": "2024-03-12T03:40:33.196368296Z",
     "start_time": "2024-03-12T03:40:33.172909065Z"
    }
   },
   "id": "6f2a2f55cb5403"
  },
  {
   "cell_type": "code",
   "execution_count": 22,
   "outputs": [
    {
     "data": {
      "text/plain": "Timestamp('2020-02-29 23:00:00+0000', tz='UTC')"
     },
     "execution_count": 22,
     "metadata": {},
     "output_type": "execute_result"
    }
   ],
   "source": [
    "y = y[y.index < '2020-03-01']\n",
    "y.index.max()"
   ],
   "metadata": {
    "collapsed": false,
    "ExecuteTime": {
     "end_time": "2024-03-12T03:40:33.196953602Z",
     "start_time": "2024-03-12T03:40:33.173211334Z"
    }
   },
   "id": "5013e376ae17375f"
  },
  {
   "cell_type": "code",
   "execution_count": 23,
   "outputs": [],
   "source": [
    "assert x.shape[0] == y.shape[0], 'forgot to trim y\\'s covid!'"
   ],
   "metadata": {
    "collapsed": false,
    "ExecuteTime": {
     "end_time": "2024-03-12T03:40:33.197008585Z",
     "start_time": "2024-03-12T03:40:33.173321776Z"
    }
   },
   "id": "aac84dfb139e2343"
  },
  {
   "cell_type": "code",
   "execution_count": 24,
   "outputs": [
    {
     "data": {
      "text/plain": "(37320,)"
     },
     "execution_count": 24,
     "metadata": {},
     "output_type": "execute_result"
    }
   ],
   "source": [
    "y.shape"
   ],
   "metadata": {
    "collapsed": false,
    "ExecuteTime": {
     "end_time": "2024-03-12T03:40:33.197183555Z",
     "start_time": "2024-03-12T03:40:33.173370545Z"
    }
   },
   "id": "2ddad6396063e50"
  },
  {
   "cell_type": "code",
   "execution_count": 25,
   "outputs": [
    {
     "data": {
      "text/plain": "(37320, 30)"
     },
     "execution_count": 25,
     "metadata": {},
     "output_type": "execute_result"
    }
   ],
   "source": [
    "x.shape"
   ],
   "metadata": {
    "collapsed": false,
    "ExecuteTime": {
     "end_time": "2024-03-12T03:40:33.197324351Z",
     "start_time": "2024-03-12T03:40:33.173478833Z"
    }
   },
   "id": "a87d064c2cb2a3a6"
  },
  {
   "cell_type": "markdown",
   "source": [
    "# Modeling\n",
    "In this section we will compare \n",
    "\n",
    "- linear regression models\n",
    "- XGBoost regression, and \n",
    "- LSTM\n",
    "\n",
    "models using the evaluation metric of RMSE"
   ],
   "metadata": {
    "collapsed": false
   },
   "id": "d34e97bd1ff366a5"
  },
  {
   "cell_type": "markdown",
   "source": [
    "## LR"
   ],
   "metadata": {
    "collapsed": false
   },
   "id": "eaded2d10884a508"
  },
  {
   "cell_type": "code",
   "execution_count": 29,
   "outputs": [],
   "source": [
    "x = x.drop(columns='connectionTime')"
   ],
   "metadata": {
    "collapsed": false,
    "ExecuteTime": {
     "end_time": "2024-03-12T03:43:42.664685999Z",
     "start_time": "2024-03-12T03:43:42.584621628Z"
    }
   },
   "id": "487da71217caa629"
  },
  {
   "cell_type": "code",
   "execution_count": 31,
   "outputs": [
    {
     "data": {
      "text/plain": "                           dow  hour  month  is_sunny  is_holiday  siteID\n2019-03-25 00:00:00+00:00    0     0      3         0       False       2\n2019-03-25 01:00:00+00:00    0     1      3         0       False       2\n2019-03-25 02:00:00+00:00    0     2      3         0       False       2\n2019-03-25 03:00:00+00:00    0     3      3         0       False       2\n2019-03-25 04:00:00+00:00    0     4      3         0       False       2\n...                        ...   ...    ...       ...         ...     ...\n2020-02-29 19:00:00+00:00    5    19      2         0       False      19\n2020-02-29 20:00:00+00:00    5    20      2         0       False      19\n2020-02-29 21:00:00+00:00    5    21      2         0       False      19\n2020-02-29 22:00:00+00:00    5    22      2         0       False      19\n2020-02-29 23:00:00+00:00    5    23      2         0       False      19\n\n[37320 rows x 6 columns]",
      "text/html": "<div>\n<style scoped>\n    .dataframe tbody tr th:only-of-type {\n        vertical-align: middle;\n    }\n\n    .dataframe tbody tr th {\n        vertical-align: top;\n    }\n\n    .dataframe thead th {\n        text-align: right;\n    }\n</style>\n<table border=\"1\" class=\"dataframe\">\n  <thead>\n    <tr style=\"text-align: right;\">\n      <th></th>\n      <th>dow</th>\n      <th>hour</th>\n      <th>month</th>\n      <th>is_sunny</th>\n      <th>is_holiday</th>\n      <th>siteID</th>\n    </tr>\n  </thead>\n  <tbody>\n    <tr>\n      <th>2019-03-25 00:00:00+00:00</th>\n      <td>0</td>\n      <td>0</td>\n      <td>3</td>\n      <td>0</td>\n      <td>False</td>\n      <td>2</td>\n    </tr>\n    <tr>\n      <th>2019-03-25 01:00:00+00:00</th>\n      <td>0</td>\n      <td>1</td>\n      <td>3</td>\n      <td>0</td>\n      <td>False</td>\n      <td>2</td>\n    </tr>\n    <tr>\n      <th>2019-03-25 02:00:00+00:00</th>\n      <td>0</td>\n      <td>2</td>\n      <td>3</td>\n      <td>0</td>\n      <td>False</td>\n      <td>2</td>\n    </tr>\n    <tr>\n      <th>2019-03-25 03:00:00+00:00</th>\n      <td>0</td>\n      <td>3</td>\n      <td>3</td>\n      <td>0</td>\n      <td>False</td>\n      <td>2</td>\n    </tr>\n    <tr>\n      <th>2019-03-25 04:00:00+00:00</th>\n      <td>0</td>\n      <td>4</td>\n      <td>3</td>\n      <td>0</td>\n      <td>False</td>\n      <td>2</td>\n    </tr>\n    <tr>\n      <th>...</th>\n      <td>...</td>\n      <td>...</td>\n      <td>...</td>\n      <td>...</td>\n      <td>...</td>\n      <td>...</td>\n    </tr>\n    <tr>\n      <th>2020-02-29 19:00:00+00:00</th>\n      <td>5</td>\n      <td>19</td>\n      <td>2</td>\n      <td>0</td>\n      <td>False</td>\n      <td>19</td>\n    </tr>\n    <tr>\n      <th>2020-02-29 20:00:00+00:00</th>\n      <td>5</td>\n      <td>20</td>\n      <td>2</td>\n      <td>0</td>\n      <td>False</td>\n      <td>19</td>\n    </tr>\n    <tr>\n      <th>2020-02-29 21:00:00+00:00</th>\n      <td>5</td>\n      <td>21</td>\n      <td>2</td>\n      <td>0</td>\n      <td>False</td>\n      <td>19</td>\n    </tr>\n    <tr>\n      <th>2020-02-29 22:00:00+00:00</th>\n      <td>5</td>\n      <td>22</td>\n      <td>2</td>\n      <td>0</td>\n      <td>False</td>\n      <td>19</td>\n    </tr>\n    <tr>\n      <th>2020-02-29 23:00:00+00:00</th>\n      <td>5</td>\n      <td>23</td>\n      <td>2</td>\n      <td>0</td>\n      <td>False</td>\n      <td>19</td>\n    </tr>\n  </tbody>\n</table>\n<p>37320 rows × 6 columns</p>\n</div>"
     },
     "execution_count": 31,
     "metadata": {},
     "output_type": "execute_result"
    }
   ],
   "source": [
    "x.columns\n",
    "cat_cols = ['dow', 'hour', 'month', 'is_sunny', 'is_holiday','siteID']\n",
    "num_cols = [col for col in x.columns if col not in cat_cols]\n",
    "x[cat_cols]"
   ],
   "metadata": {
    "collapsed": false,
    "ExecuteTime": {
     "end_time": "2024-03-12T03:44:05.272946169Z",
     "start_time": "2024-03-12T03:44:05.191973506Z"
    }
   },
   "id": "24a3ec3999fe6b6f"
  },
  {
   "cell_type": "code",
   "execution_count": 44,
   "outputs": [
    {
     "name": "stdout",
     "output_type": "stream",
     "text": [
      "training RMSE: 0.19239971305918047\n",
      "test RMSE    : 0.1932816389082605\n",
      "training R2: 0.5344652174765449\n",
      "test R2    : 0.5456558288126412\n"
     ]
    }
   ],
   "source": [
    "from sklearn.linear_model import LinearRegression\n",
    "from sklearn.preprocessing import OneHotEncoder, StandardScaler\n",
    "from sklearn.compose import ColumnTransformer\n",
    "\n",
    "X_train, X_test, y_train, y_test = train_test_split(x, y, test_size = .2)\n",
    "\n",
    "cat_cols = ['dow', 'hour', 'month', 'is_sunny', 'is_holiday','siteID']\n",
    "num_cols = [col for col in x.columns if col not in cat_cols]\n",
    "\n",
    "numeric_transformer = StandardScaler()\n",
    "categorical_transformer = OneHotEncoder(sparse_output=False, handle_unknown='ignore', drop='first')\n",
    "\n",
    "\n",
    "regression_model = Pipeline(\n",
    "    steps=[\n",
    "        ('preprocessing', ColumnTransformer(\n",
    "            transformers=[\n",
    "                (\"num\", numeric_transformer, num_cols),\n",
    "                (\"cat\", categorical_transformer, cat_cols),\n",
    "            ])),\n",
    "        ('lr', LinearRegression()),\n",
    "        ]\n",
    ")\n",
    "\n",
    "regression_model.fit(X_train, y_train)\n",
    "from sklearn.metrics import mean_squared_error\n",
    "print(f'training RMSE: {np.sqrt(mean_squared_error(regression_model.predict(X_train), y_train))}\\ntest RMSE    : {np.sqrt(mean_squared_error(regression_model.predict(X_test), y_test))}')\n",
    "print(f'training R2: {regression_model.score(X_train, y_train)}\\ntest R2    : {regression_model.score(X_test, y_test)}')"
   ],
   "metadata": {
    "collapsed": false,
    "ExecuteTime": {
     "end_time": "2024-03-12T03:55:20.957650573Z",
     "start_time": "2024-03-12T03:55:20.473363011Z"
    }
   },
   "id": "6298e1bda8fcd0d4"
  },
  {
   "cell_type": "code",
   "execution_count": 40,
   "outputs": [
    {
     "data": {
      "text/plain": "Text(0, 0.5, '% available')"
     },
     "execution_count": 40,
     "metadata": {},
     "output_type": "execute_result"
    },
    {
     "data": {
      "text/plain": "<Figure size 640x480 with 1 Axes>",
      "image/png": "[encoded data removed]"
     },
     "metadata": {},
     "output_type": "display_data"
    }
   ],
   "source": [
    "X_test = X_test.sort_index()\n",
    "y_test = y_test.sort_index()\n",
    "pred = pd.Series(regression_model.predict(X_test), index=X_test.index)\n",
    "plt.title('Linear Regression model')\n",
    "plt.suptitle(f'test R2: {np.round(regression_model.score(X_test, y_test),3)}')\n",
    "plt.plot(y_test.index, y_test)\n",
    "plt.plot(y_test.index, pred)\n",
    "plt.ylabel('% available')"
   ],
   "metadata": {
    "collapsed": false,
    "ExecuteTime": {
     "end_time": "2024-03-12T03:52:52.911507785Z",
     "start_time": "2024-03-12T03:52:51.872779329Z"
    }
   },
   "id": "4ae5feabeefc1b96"
  },
  {
   "cell_type": "markdown",
   "source": [
    "# XGBoost"
   ],
   "metadata": {
    "collapsed": false
   },
   "id": "19295628f2c3098c"
  },
  {
   "cell_type": "code",
   "execution_count": 45,
   "outputs": [
    {
     "name": "stdout",
     "output_type": "stream",
     "text": [
      "training RMSE: 0.07627324354614991\n",
      "test RMSE    : 0.0944032957600561\n",
      "training loss: 0.9278254374810836\n",
      "test loss    : 0.8855084479986365\n"
     ]
    }
   ],
   "source": [
    "from sklearn.linear_model import LinearRegression\n",
    "from sklearn.preprocessing import OneHotEncoder, StandardScaler\n",
    "from sklearn.compose import ColumnTransformer\n",
    "\n",
    "X_train, X_test, y_train, y_test = train_test_split(x, y, test_size = .2)\n",
    "\n",
    "cat_cols = ['dow', 'hour', 'month', 'is_sunny', 'is_holiday','siteID']\n",
    "num_cols = [col for col in x.columns if col not in cat_cols]\n",
    "\n",
    "numeric_transformer = StandardScaler()\n",
    "categorical_transformer = OneHotEncoder(sparse_output=False, handle_unknown='ignore', drop='first')\n",
    "\n",
    "\n",
    "regression_model = Pipeline(\n",
    "    steps=[\n",
    "        ('preprocessing', ColumnTransformer(\n",
    "            transformers=[\n",
    "                (\"num\", numeric_transformer, num_cols),\n",
    "                (\"cat\", categorical_transformer, cat_cols),\n",
    "            ])),\n",
    "        ('xgb', XGBRegressor()),\n",
    "        ]\n",
    ")\n",
    "\n",
    "regression_model.fit(X_train, y_train)\n",
    "print(f'training RMSE: {np.sqrt(mean_squared_error(regression_model.predict(X_train), y_train))}\\ntest RMSE    : {np.sqrt(mean_squared_error(regression_model.predict(X_test), y_test))}')\n",
    "print(f'training loss: {regression_model.score(X_train, y_train)}\\ntest loss    : {regression_model.score(X_test, y_test)}')"
   ],
   "metadata": {
    "collapsed": false,
    "ExecuteTime": {
     "end_time": "2024-03-12T03:55:47.242128348Z",
     "start_time": "2024-03-12T03:55:44.897537503Z"
    }
   },
   "id": "f31f34667cf7b372"
  },
  {
   "cell_type": "code",
   "execution_count": 42,
   "outputs": [
    {
     "data": {
      "text/plain": "Text(0, 0.5, '% available')"
     },
     "execution_count": 42,
     "metadata": {},
     "output_type": "execute_result"
    },
    {
     "data": {
      "text/plain": "<Figure size 640x480 with 1 Axes>",
      "image/png": "[encoded data removed]"
     },
     "metadata": {},
     "output_type": "display_data"
    }
   ],
   "source": [
    "X_test = X_test.sort_index()\n",
    "y_test = y_test.sort_index()\n",
    "pred = pd.Series(regression_model.predict(X_test), index=X_test.index)\n",
    "plt.title('XGB Regression model')\n",
    "plt.suptitle(f'test R2: {np.round(regression_model.score(X_test, y_test),3)}')\n",
    "plt.plot(y_test.index, y_test)\n",
    "plt.plot(y_test.index, pred)\n",
    "plt.ylabel('% available')"
   ],
   "metadata": {
    "collapsed": false,
    "ExecuteTime": {
     "end_time": "2024-03-12T03:52:56.650925206Z",
     "start_time": "2024-03-12T03:52:56.016226013Z"
    }
   },
   "id": "7ba2c45384c14326"
  },
  {
   "cell_type": "code",
   "execution_count": null,
   "outputs": [],
   "source": [],
   "metadata": {
    "collapsed": false
   },
   "id": "fdd3e7eb77bd73be"
  }
 ],
 "metadata": {
  "kernelspec": {
   "display_name": "Python 3",
   "language": "python",
   "name": "python3"
  },
  "language_info": {
   "codemirror_mode": {
    "name": "ipython",
    "version": 2
   },
   "file_extension": ".py",
   "mimetype": "text/x-python",
   "name": "python",
   "nbconvert_exporter": "python",
   "pygments_lexer": "ipython2",
   "version": "2.7.6"
  }
 },
 "nbformat": 4,
 "nbformat_minor": 5
}
