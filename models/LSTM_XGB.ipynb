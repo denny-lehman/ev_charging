{
 "cells": [
  {
   "cell_type": "code",
   "execution_count": 1,
   "outputs": [
    {
     "data": {
      "text/plain": "'/home/denny/Documents/mids/ev_charging'"
     },
     "execution_count": 1,
     "metadata": {},
     "output_type": "execute_result"
    }
   ],
   "source": [
    "import os\n",
    "os.chdir('..')\n",
    "os.getcwd()"
   ],
   "metadata": {
    "collapsed": false,
    "ExecuteTime": {
     "end_time": "2024-03-11T03:45:03.522731356Z",
     "start_time": "2024-03-11T03:45:03.504559116Z"
    }
   },
   "id": "533bf137b8de6e7a"
  },
  {
   "cell_type": "code",
   "execution_count": 2,
   "outputs": [
    {
     "name": "stderr",
     "output_type": "stream",
     "text": [
      "2024-03-10 21:45:04.908044: I tensorflow/core/util/port.cc:113] oneDNN custom operations are on. You may see slightly different numerical results due to floating-point round-off errors from different computation orders. To turn them off, set the environment variable `TF_ENABLE_ONEDNN_OPTS=0`.\n",
      "2024-03-10 21:45:04.908771: I external/local_tsl/tsl/cuda/cudart_stub.cc:32] Could not find cuda drivers on your machine, GPU will not be used.\n",
      "2024-03-10 21:45:04.914890: I external/local_tsl/tsl/cuda/cudart_stub.cc:32] Could not find cuda drivers on your machine, GPU will not be used.\n",
      "2024-03-10 21:45:04.999605: I tensorflow/core/platform/cpu_feature_guard.cc:210] This TensorFlow binary is optimized to use available CPU instructions in performance-critical operations.\n",
      "To enable the following instructions: AVX2 AVX_VNNI FMA, in other operations, rebuild TensorFlow with the appropriate compiler flags.\n",
      "2024-03-10 21:45:06.180329: W tensorflow/compiler/tf2tensorrt/utils/py_utils.cc:38] TF-TRT Warning: Could not find TensorRT\n"
     ]
    },
    {
     "name": "stdout",
     "output_type": "stream",
     "text": [
      "TensorFlow version: 2.16.1\n"
     ]
    }
   ],
   "source": [
    "import tensorflow as tf\n",
    "print(\"TensorFlow version:\", tf.__version__)\n"
   ],
   "metadata": {
    "collapsed": false,
    "ExecuteTime": {
     "end_time": "2024-03-11T03:45:06.905814809Z",
     "start_time": "2024-03-11T03:45:04.508652415Z"
    }
   },
   "id": "38e2b74d1483b638"
  },
  {
   "cell_type": "code",
   "execution_count": 3,
   "outputs": [],
   "source": [
    "import warnings\n",
    "warnings.simplefilter(action='ignore')\n",
    "\n",
    "import pandas as pd\n",
    "import numpy as np\n",
    "import matplotlib.pyplot as plt\n",
    "from src.data_preprocessing import datetime_processing, userinput_processing, holiday_processing, create_x, create_y, create_wide_y\n",
    "from sklearn.model_selection import train_test_split\n",
    "from xgboost import XGBClassifier\n",
    "from sklearn.metrics import confusion_matrix, ConfusionMatrixDisplay, f1_score, precision_score, recall_score, accuracy_score, mean_squared_error\n",
    "from sklearn.preprocessing import StandardScaler\n",
    "from sklearn.decomposition import PCA\n",
    "import tensorflow as tf\n",
    "# tf.compat.v1.logging.set_verbosity(tf.compat.v1.logging.ERROR)\n",
    "from tensorflow.keras.layers import LSTM, Dense, Dropout\n",
    "from tensorflow.keras.models import Sequential\n",
    "tf.random.set_seed(42)"
   ],
   "metadata": {
    "collapsed": false,
    "ExecuteTime": {
     "end_time": "2024-03-11T03:45:08.738343810Z",
     "start_time": "2024-03-11T03:45:07.795496205Z"
    }
   },
   "id": "initial_id"
  },
  {
   "cell_type": "code",
   "outputs": [],
   "source": [
    "# import os\n",
    "# os.chdir('/Users/varunvenkatesh/Documents/Github/ev_charging')\n",
    "# os.getcwd()"
   ],
   "metadata": {
    "collapsed": false,
    "ExecuteTime": {
     "end_time": "2024-03-11T03:45:10.393502394Z",
     "start_time": "2024-03-11T03:45:10.363035899Z"
    }
   },
   "id": "327bb068e01e5757",
   "execution_count": 4
  },
  {
   "cell_type": "code",
   "outputs": [],
   "source": [
    "df = pd.read_parquet('data/sessions/caltech/').reset_index(drop=True)\n",
    "df = datetime_processing(df)\n",
    "df = userinput_processing(df)\n",
    "df = holiday_processing(df)"
   ],
   "metadata": {
    "collapsed": false,
    "ExecuteTime": {
     "end_time": "2024-03-11T03:45:19.240503198Z",
     "start_time": "2024-03-11T03:45:13.017777213Z"
    }
   },
   "id": "f819a8923d068970",
   "execution_count": 5
  },
  {
   "cell_type": "code",
   "outputs": [
    {
     "data": {
      "text/plain": "                        _id                               sessionID  \\\n0  5bc9160af9af8b0dad3c0690   2_39_95_27_2018-05-01 13:23:18.374684   \n1  5bc9160af9af8b0dad3c0691  2_39_79_380_2018-05-01 13:54:33.599590   \n2  5bc9160af9af8b0dad3c0692  2_39_139_28_2018-05-01 14:46:04.441389   \n3  5bc9160af9af8b0dad3c0693  2_39_79_378_2018-05-01 14:56:28.908623   \n4  5bc9160af9af8b0dad3c0694   2_39_88_24_2018-05-01 15:14:50.443137   \n\n     stationID spaceID  siteID  clusterID            connectionTime  \\\n0   2-39-95-27  CA-319       2         39 2018-05-01 13:23:18+00:00   \n1  2-39-79-380  CA-489       2         39 2018-05-01 13:54:34+00:00   \n2  2-39-139-28  CA-303       2         39 2018-05-01 14:46:04+00:00   \n3  2-39-79-378  CA-326       2         39 2018-05-01 14:56:29+00:00   \n4   2-39-88-24  CA-314       2         39 2018-05-01 15:14:50+00:00   \n\n             disconnectTime  kWhDelivered          doneChargingTime  ...  \\\n0 2018-05-02 01:53:41+00:00        13.410 2018-05-01 17:17:07+00:00  ...   \n1 2018-05-01 23:15:35+00:00         8.618 2018-05-01 15:35:39+00:00  ...   \n2 2018-05-02 00:54:07+00:00        13.969 2018-05-01 23:57:02+00:00  ...   \n3 2018-05-01 21:52:45+00:00         6.914 2018-05-01 16:07:56+00:00  ...   \n4 2018-05-01 22:51:30+00:00        13.785 2018-05-01 20:18:12+00:00  ...   \n\n  doneChargingTimeDay  userID  milesRequested  WhPerMile  minutesAvailable  \\\n0                 1.0     NaN             NaN        NaN               NaN   \n1                 1.0     NaN             NaN        NaN               NaN   \n2                 1.0     NaN             NaN        NaN               NaN   \n3                 1.0     NaN             NaN        NaN               NaN   \n4                 1.0     NaN             NaN        NaN               NaN   \n\n   modifiedAt  paymentRequired  requestedDeparture  kWhRequested  is_holiday  \n0        None             None                None           NaN       False  \n1        None             None                None           NaN       False  \n2        None             None                None           NaN       False  \n3        None             None                None           NaN       False  \n4        None             None                None           NaN       False  \n\n[5 rows x 26 columns]",
      "text/html": "<div>\n<style scoped>\n    .dataframe tbody tr th:only-of-type {\n        vertical-align: middle;\n    }\n\n    .dataframe tbody tr th {\n        vertical-align: top;\n    }\n\n    .dataframe thead th {\n        text-align: right;\n    }\n</style>\n<table border=\"1\" class=\"dataframe\">\n  <thead>\n    <tr style=\"text-align: right;\">\n      <th></th>\n      <th>_id</th>\n      <th>sessionID</th>\n      <th>stationID</th>\n      <th>spaceID</th>\n      <th>siteID</th>\n      <th>clusterID</th>\n      <th>connectionTime</th>\n      <th>disconnectTime</th>\n      <th>kWhDelivered</th>\n      <th>doneChargingTime</th>\n      <th>...</th>\n      <th>doneChargingTimeDay</th>\n      <th>userID</th>\n      <th>milesRequested</th>\n      <th>WhPerMile</th>\n      <th>minutesAvailable</th>\n      <th>modifiedAt</th>\n      <th>paymentRequired</th>\n      <th>requestedDeparture</th>\n      <th>kWhRequested</th>\n      <th>is_holiday</th>\n    </tr>\n  </thead>\n  <tbody>\n    <tr>\n      <th>0</th>\n      <td>5bc9160af9af8b0dad3c0690</td>\n      <td>2_39_95_27_2018-05-01 13:23:18.374684</td>\n      <td>2-39-95-27</td>\n      <td>CA-319</td>\n      <td>2</td>\n      <td>39</td>\n      <td>2018-05-01 13:23:18+00:00</td>\n      <td>2018-05-02 01:53:41+00:00</td>\n      <td>13.410</td>\n      <td>2018-05-01 17:17:07+00:00</td>\n      <td>...</td>\n      <td>1.0</td>\n      <td>NaN</td>\n      <td>NaN</td>\n      <td>NaN</td>\n      <td>NaN</td>\n      <td>None</td>\n      <td>None</td>\n      <td>None</td>\n      <td>NaN</td>\n      <td>False</td>\n    </tr>\n    <tr>\n      <th>1</th>\n      <td>5bc9160af9af8b0dad3c0691</td>\n      <td>2_39_79_380_2018-05-01 13:54:33.599590</td>\n      <td>2-39-79-380</td>\n      <td>CA-489</td>\n      <td>2</td>\n      <td>39</td>\n      <td>2018-05-01 13:54:34+00:00</td>\n      <td>2018-05-01 23:15:35+00:00</td>\n      <td>8.618</td>\n      <td>2018-05-01 15:35:39+00:00</td>\n      <td>...</td>\n      <td>1.0</td>\n      <td>NaN</td>\n      <td>NaN</td>\n      <td>NaN</td>\n      <td>NaN</td>\n      <td>None</td>\n      <td>None</td>\n      <td>None</td>\n      <td>NaN</td>\n      <td>False</td>\n    </tr>\n    <tr>\n      <th>2</th>\n      <td>5bc9160af9af8b0dad3c0692</td>\n      <td>2_39_139_28_2018-05-01 14:46:04.441389</td>\n      <td>2-39-139-28</td>\n      <td>CA-303</td>\n      <td>2</td>\n      <td>39</td>\n      <td>2018-05-01 14:46:04+00:00</td>\n      <td>2018-05-02 00:54:07+00:00</td>\n      <td>13.969</td>\n      <td>2018-05-01 23:57:02+00:00</td>\n      <td>...</td>\n      <td>1.0</td>\n      <td>NaN</td>\n      <td>NaN</td>\n      <td>NaN</td>\n      <td>NaN</td>\n      <td>None</td>\n      <td>None</td>\n      <td>None</td>\n      <td>NaN</td>\n      <td>False</td>\n    </tr>\n    <tr>\n      <th>3</th>\n      <td>5bc9160af9af8b0dad3c0693</td>\n      <td>2_39_79_378_2018-05-01 14:56:28.908623</td>\n      <td>2-39-79-378</td>\n      <td>CA-326</td>\n      <td>2</td>\n      <td>39</td>\n      <td>2018-05-01 14:56:29+00:00</td>\n      <td>2018-05-01 21:52:45+00:00</td>\n      <td>6.914</td>\n      <td>2018-05-01 16:07:56+00:00</td>\n      <td>...</td>\n      <td>1.0</td>\n      <td>NaN</td>\n      <td>NaN</td>\n      <td>NaN</td>\n      <td>NaN</td>\n      <td>None</td>\n      <td>None</td>\n      <td>None</td>\n      <td>NaN</td>\n      <td>False</td>\n    </tr>\n    <tr>\n      <th>4</th>\n      <td>5bc9160af9af8b0dad3c0694</td>\n      <td>2_39_88_24_2018-05-01 15:14:50.443137</td>\n      <td>2-39-88-24</td>\n      <td>CA-314</td>\n      <td>2</td>\n      <td>39</td>\n      <td>2018-05-01 15:14:50+00:00</td>\n      <td>2018-05-01 22:51:30+00:00</td>\n      <td>13.785</td>\n      <td>2018-05-01 20:18:12+00:00</td>\n      <td>...</td>\n      <td>1.0</td>\n      <td>NaN</td>\n      <td>NaN</td>\n      <td>NaN</td>\n      <td>NaN</td>\n      <td>None</td>\n      <td>None</td>\n      <td>None</td>\n      <td>NaN</td>\n      <td>False</td>\n    </tr>\n  </tbody>\n</table>\n<p>5 rows × 26 columns</p>\n</div>"
     },
     "execution_count": 6,
     "metadata": {},
     "output_type": "execute_result"
    }
   ],
   "source": [
    "df.head()"
   ],
   "metadata": {
    "collapsed": false,
    "ExecuteTime": {
     "end_time": "2024-03-11T03:45:19.275612434Z",
     "start_time": "2024-03-11T03:45:19.245951970Z"
    }
   },
   "id": "d4367b4a837731e7",
   "execution_count": 6
  },
  {
   "cell_type": "code",
   "outputs": [
    {
     "data": {
      "text/plain": "stationID\n2-39-139-28     1792\n2-39-131-30     1399\n2-39-129-17     1136\n2-39-81-4550    1126\n2-39-89-25      1086\n2-39-125-21     1042\n2-39-127-19     1022\n2-39-138-29      994\n2-39-79-379      932\n2-39-123-23      908\n2-39-79-380      892\n2-39-78-365      862\n2-39-91-437      846\n2-39-79-377      820\n2-39-130-31      789\n2-39-78-366      759\n2-39-95-27       737\n2-39-88-24       694\n2-39-79-383      683\n2-39-124-22      665\n2-39-79-378      645\n2-39-78-363      615\n2-39-128-18      612\n2-39-79-381      587\n2-39-79-376      581\n2-39-78-360      578\n2-39-90-26       567\n2-39-126-20      561\n2-39-92-436      558\n2-39-78-367      533\n2-39-78-361      529\n2-39-79-382      506\n2-39-92-442      503\n2-39-78-364      458\n2-39-91-441      452\n2-39-78-362      452\n2-39-90-440      432\n2-39-95-444      396\n2-39-88-438      332\n2-39-89-439      330\n2-39-123-557     247\n2-39-83-386      200\n2-39-138-566     175\n2-39-124-558     149\n2-39-130-564     136\n2-39-126-560     124\n2-39-128-562     120\n2-39-139-567     108\n2-39-131-565     104\n2-39-127-561      90\n2-39-129-563      88\n2-39-83-387       76\n2-39-125-559      74\n2-39-82-384       15\n2-39-82-385        8\nName: count, dtype: int64"
     },
     "execution_count": 7,
     "metadata": {},
     "output_type": "execute_result"
    }
   ],
   "source": [
    "df.stationID.value_counts()"
   ],
   "metadata": {
    "collapsed": false,
    "ExecuteTime": {
     "end_time": "2024-03-11T03:45:19.531519063Z",
     "start_time": "2024-03-11T03:45:19.269014813Z"
    }
   },
   "id": "9d32fd1fadb6adff",
   "execution_count": 7
  },
  {
   "cell_type": "code",
   "outputs": [],
   "source": [
    "def get_results(y_test, prediction):\n",
    "    cm = confusion_matrix(y_test,prediction)\n",
    "    make_classification_plot(cm)\n",
    "    \n",
    "    results = {'tpr': cm[1, 1]/np.sum(cm[1]),\n",
    "               'fpr': cm[0,1]/np.sum(cm[0]),\n",
    "               'accuracy': accuracy_score(y_test, prediction),\n",
    "               'precision': precision_score(y_test, prediction),\n",
    "               'recall': recall_score(y_test, prediction),\n",
    "        'f1':f1_score(y_test,prediction)}\n",
    "    return results"
   ],
   "metadata": {
    "collapsed": false,
    "ExecuteTime": {
     "end_time": "2024-03-11T03:47:55.305843694Z",
     "start_time": "2024-03-11T03:47:55.254218329Z"
    }
   },
   "id": "196e9838b4e672ca",
   "execution_count": 8
  },
  {
   "cell_type": "code",
   "outputs": [],
   "source": [
    "def make_classification_plot(cm):\n",
    "    disp = ConfusionMatrixDisplay(cm)\n",
    "    disp = disp.plot(include_values=True, cmap='viridis', ax=None, xticks_rotation='horizontal')\n",
    "    plt.grid(False)\n",
    "    plt.show()"
   ],
   "metadata": {
    "collapsed": false,
    "ExecuteTime": {
     "end_time": "2024-03-11T03:47:58.508763003Z",
     "start_time": "2024-03-11T03:47:58.479973997Z"
    }
   },
   "id": "90d5fcd9331993b2",
   "execution_count": 9
  },
  {
   "cell_type": "code",
   "outputs": [],
   "source": [
    "results = {}"
   ],
   "metadata": {
    "collapsed": false,
    "ExecuteTime": {
     "end_time": "2024-03-11T03:47:59.043460118Z",
     "start_time": "2024-03-11T03:47:59.010340411Z"
    }
   },
   "id": "5d4d6100fda7d696",
   "execution_count": 10
  },
  {
   "cell_type": "code",
   "outputs": [],
   "source": [
    "# create x and y \n",
    "start = '2018-05-01'\n",
    "end = '2021-09-13'\n",
    "spaceID = 'CA-303'\n",
    "caiso_fp = 'data/caiso_dataset_5min.csv'\n",
    "sun_fp = 'data/ct_sr_ss.csv'"
   ],
   "metadata": {
    "collapsed": false,
    "ExecuteTime": {
     "end_time": "2024-03-11T03:48:04.232922193Z",
     "start_time": "2024-03-11T03:48:04.182789622Z"
    }
   },
   "id": "af878a9be37fce90",
   "execution_count": 11
  },
  {
   "cell_type": "code",
   "outputs": [],
   "source": [
    "X = create_x(start, end, caiso_fp, sun_fp)\n",
    "y = create_y(df, start, end, spaceID)"
   ],
   "metadata": {
    "collapsed": false
   },
   "id": "ef3d78d26fe1b5b8",
   "execution_count": null
  },
  {
   "cell_type": "code",
   "outputs": [],
   "source": [
    "X.head(30)"
   ],
   "metadata": {
    "collapsed": false
   },
   "id": "7f8e89e998e0fd05",
   "execution_count": null
  },
  {
   "cell_type": "code",
   "outputs": [],
   "source": [
    "print(f'charger CA-303 is available {np.round(y.mean()*100,3)}% of the time')"
   ],
   "metadata": {
    "collapsed": false
   },
   "id": "21d6e1b9a8eb63bf",
   "execution_count": null
  },
  {
   "cell_type": "code",
   "outputs": [],
   "source": [
    "#X.fillna(0.0, inplace=True)"
   ],
   "metadata": {
    "collapsed": false
   },
   "id": "9417d2cf7cd9652d",
   "execution_count": null
  },
  {
   "cell_type": "code",
   "outputs": [],
   "source": [
    "X.info()"
   ],
   "metadata": {
    "collapsed": false
   },
   "id": "880c02b692be5005",
   "execution_count": null
  },
  {
   "cell_type": "code",
   "outputs": [],
   "source": [
    "X.shape[0] == y.shape[0]"
   ],
   "metadata": {
    "collapsed": false
   },
   "id": "3fcd5be72586dcbb",
   "execution_count": null
  },
  {
   "cell_type": "markdown",
   "source": [
    "## Binary Forecasting"
   ],
   "metadata": {
    "collapsed": false
   },
   "id": "22b490cccf45d6fd"
  },
  {
   "cell_type": "markdown",
   "source": [
    "# LSTM"
   ],
   "metadata": {
    "collapsed": false
   },
   "id": "baa5daf8007c1f1f"
  },
  {
   "cell_type": "code",
   "outputs": [],
   "source": [
    "# Create hold out test set\n",
    "bin_numbers = pd.qcut(y['is_available'], q=10, labels=False, duplicates='drop')\n",
    "X_train, X_test, y_train, y_test = train_test_split(X, y, test_size = .2, stratify=bin_numbers, random_state=42)\n",
    "print(f'the training data has an average availability of {np.round(y_train.mean()*100,3)}%')"
   ],
   "metadata": {
    "collapsed": false
   },
   "id": "4cf4910a8b67b42f",
   "execution_count": null
  },
  {
   "cell_type": "code",
   "outputs": [],
   "source": [
    "type(X_train)"
   ],
   "metadata": {
    "collapsed": false
   },
   "id": "2bb096f4b8917ba5",
   "execution_count": null
  },
  {
   "cell_type": "code",
   "outputs": [],
   "source": [
    "df_PCA = pd.DataFrame(X_train)\n",
    "scaler = StandardScaler()\n",
    "scaler.fit(df_PCA)\n",
    "scaled_data = scaler.transform(df_PCA)\n",
    "principal=PCA(n_components=10)\n",
    "principal.fit(scaled_data)\n",
    "print(principal.explained_variance_ratio_)"
   ],
   "metadata": {
    "collapsed": false
   },
   "id": "cf1ab6b5bb647d4e",
   "execution_count": null
  },
  {
   "cell_type": "code",
   "outputs": [],
   "source": [
    "train_scaler = StandardScaler()\n",
    "test_scaler = StandardScaler()"
   ],
   "metadata": {
    "collapsed": false
   },
   "id": "998fb7d87ecd67e6",
   "execution_count": null
  },
  {
   "cell_type": "code",
   "outputs": [],
   "source": [
    "X_train_LSTM = pd.DataFrame(train_scaler.fit_transform(X_train))\n",
    "X_test_LSTM = pd.DataFrame(test_scaler.fit_transform(X_test))"
   ],
   "metadata": {
    "collapsed": false
   },
   "id": "3935f4ab119636cb",
   "execution_count": null
  },
  {
   "cell_type": "code",
   "outputs": [],
   "source": [
    "lstm_model = Sequential()\n",
    "lstm_model.add(LSTM(4, input_shape=(1, X_train_LSTM.shape[1])))\n",
    "lstm_model.add(Dense(1))\n",
    "lstm_model.compile(loss='mean_squared_error', optimizer='adam')"
   ],
   "metadata": {
    "collapsed": false
   },
   "id": "ab6614c14f604bf",
   "execution_count": null
  },
  {
   "cell_type": "code",
   "outputs": [],
   "source": [
    "X_train_LSTM = np.reshape(X_train_LSTM.values.astype(float), (X_train_LSTM.shape[0], 1, X_train_LSTM.shape[1]))\n",
    "X_test_LSTM = np.reshape(X_test_LSTM.values.astype(float), (X_test_LSTM.shape[0], 1, X_test_LSTM.shape[1]))"
   ],
   "metadata": {
    "collapsed": false
   },
   "id": "4d3589df17bcc2b8",
   "execution_count": null
  },
  {
   "cell_type": "code",
   "outputs": [],
   "source": [
    "[print(i.shape, i.dtype) for i in lstm_model.inputs]\n",
    "[print(o.shape, o.dtype) for o in lstm_model.outputs]\n",
    "[print(l.name, l.input_shape, l.dtype) for l in lstm_model.layers]"
   ],
   "metadata": {
    "collapsed": false
   },
   "id": "46a164c7d2f40e6d",
   "execution_count": null
  },
  {
   "cell_type": "code",
   "outputs": [],
   "source": [
    "X_train.shape"
   ],
   "metadata": {
    "collapsed": false
   },
   "id": "dfda6a1daa43aed8",
   "execution_count": null
  },
  {
   "cell_type": "code",
   "outputs": [],
   "source": [
    "y_train = y_train.drop('sessionID', axis=1) \n",
    "y_test = y_test.drop('sessionID', axis=1)"
   ],
   "metadata": {
    "collapsed": false
   },
   "id": "7400a2d72281f281",
   "execution_count": null
  },
  {
   "cell_type": "code",
   "outputs": [],
   "source": [
    "lstm_model.fit(X_train_LSTM, y_train, epochs=10, batch_size=8, verbose=2)"
   ],
   "metadata": {
    "collapsed": false
   },
   "id": "8f361723b734b37a",
   "execution_count": null
  },
  {
   "cell_type": "code",
   "outputs": [],
   "source": [
    "predictions = lstm_model.predict(X_test_LSTM)"
   ],
   "metadata": {
    "collapsed": false
   },
   "id": "d29c229d5ea17451",
   "execution_count": null
  },
  {
   "cell_type": "code",
   "outputs": [],
   "source": [
    "# MSE with CAISO\n",
    "score = mean_squared_error(y_test, predictions)\n",
    "print(f'Mean Squared Error: {score}')"
   ],
   "metadata": {
    "collapsed": false
   },
   "id": "f01801a36bfda0c1",
   "execution_count": null
  },
  {
   "cell_type": "markdown",
   "source": [
    "# XGBoost"
   ],
   "metadata": {
    "collapsed": false
   },
   "id": "19c0401ad88d967d"
  },
  {
   "cell_type": "code",
   "outputs": [],
   "source": [
    "X_train = np.reshape(X_train.astype(float), (X_train.shape[0], X_train.shape[1]))\n",
    "X_test = np.reshape(X_test.astype(float), (X_test.shape[0], X_test.shape[1]))"
   ],
   "metadata": {
    "collapsed": false
   },
   "id": "dd9660b4b942dc5a",
   "execution_count": null
  },
  {
   "cell_type": "code",
   "outputs": [],
   "source": [
    "model = XGBClassifier()\n",
    "model.fit(X_train, y_train)"
   ],
   "metadata": {
    "collapsed": false
   },
   "id": "1e58baeaa1a94021",
   "execution_count": null
  },
  {
   "cell_type": "code",
   "outputs": [],
   "source": [
    "predictions = model.predict(X_test)"
   ],
   "metadata": {
    "collapsed": false
   },
   "id": "fafc8ceef8fc4d91",
   "execution_count": null
  },
  {
   "cell_type": "code",
   "outputs": [],
   "source": [
    "score = mean_squared_error(y_test, predictions)\n",
    "print(f'Mean Squared Error: {score}')"
   ],
   "metadata": {
    "collapsed": false
   },
   "id": "6cd24dc24c4f6cf2",
   "execution_count": null
  },
  {
   "cell_type": "code",
   "outputs": [],
   "source": [
    "y_pred = predictions\n",
    "cm = confusion_matrix(y_test, y_pred)\n",
    "print(cm)\n",
    "accuracy_score(y_test, y_pred)"
   ],
   "metadata": {
    "collapsed": false
   },
   "id": "44e7a5075feec596",
   "execution_count": null
  },
  {
   "cell_type": "markdown",
   "source": [
    "## Multinomial Forecasting"
   ],
   "metadata": {
    "collapsed": false
   },
   "id": "7fc8154a498f81fc"
  },
  {
   "cell_type": "markdown",
   "source": [
    "# LSTM"
   ],
   "metadata": {
    "collapsed": false
   },
   "id": "2dc4a2fb91c157"
  },
  {
   "cell_type": "code",
   "outputs": [],
   "source": [
    "y = create_wide_y(df, start, end)"
   ],
   "metadata": {
    "collapsed": false
   },
   "id": "8326b352f912d00c",
   "execution_count": null
  },
  {
   "cell_type": "code",
   "outputs": [],
   "source": [
    "y = y.sum(axis=1)"
   ],
   "metadata": {
    "collapsed": false
   },
   "id": "6961dd0e506f03fd",
   "execution_count": null
  },
  {
   "cell_type": "code",
   "outputs": [],
   "source": [
    "y.head()"
   ],
   "metadata": {
    "collapsed": false
   },
   "id": "5c59d86155747693",
   "execution_count": null
  },
  {
   "cell_type": "code",
   "outputs": [],
   "source": [
    "# Create hold out test set\n",
    "bin_numbers = pd.qcut(y, q=10, labels=False, duplicates='drop')\n",
    "X_train, X_test, y_train, y_test = train_test_split(X, y, test_size = .2, stratify=bin_numbers, random_state=42)\n",
    "print(f'the training data has an average availability of {np.round(y_train.mean(),3)} spots available')"
   ],
   "metadata": {
    "collapsed": false
   },
   "id": "6409695f84cfedd1",
   "execution_count": null
  },
  {
   "cell_type": "code",
   "outputs": [],
   "source": [
    "train_scaler = StandardScaler()\n",
    "test_scaler = StandardScaler()\n",
    "X_train_LSTM = pd.DataFrame(train_scaler.fit_transform(X_train))\n",
    "X_test_LSTM = pd.DataFrame(test_scaler.fit_transform(X_test))"
   ],
   "metadata": {
    "collapsed": false
   },
   "id": "ba3e95a4496e5667",
   "execution_count": null
  },
  {
   "cell_type": "code",
   "outputs": [],
   "source": [
    "lstm_model = Sequential()\n",
    "lstm_model.add(LSTM(4, input_shape=(1, X_train_LSTM.shape[1])))\n",
    "lstm_model.add(Dense(1))\n",
    "lstm_model.compile(loss='mean_squared_error', optimizer='adam')"
   ],
   "metadata": {
    "collapsed": false
   },
   "id": "e56d70b4eab77e7d",
   "execution_count": null
  },
  {
   "cell_type": "code",
   "outputs": [],
   "source": [
    "X_train_LSTM = np.reshape(X_train_LSTM.values.astype(float), (X_train_LSTM.shape[0], 1, X_train_LSTM.shape[1]))\n",
    "X_test_LSTM = np.reshape(X_test_LSTM.values.astype(float), (X_test_LSTM.shape[0], 1, X_test_LSTM.shape[1]))"
   ],
   "metadata": {
    "collapsed": false
   },
   "id": "c594299c1a4812d7",
   "execution_count": null
  },
  {
   "cell_type": "code",
   "outputs": [],
   "source": [
    "[print(i.shape, i.dtype) for i in lstm_model.inputs]\n",
    "[print(o.shape, o.dtype) for o in lstm_model.outputs]\n",
    "[print(l.name, l.input_shape, l.dtype) for l in lstm_model.layers]"
   ],
   "metadata": {
    "collapsed": false
   },
   "id": "1003885331bfec48",
   "execution_count": null
  },
  {
   "cell_type": "code",
   "outputs": [],
   "source": [
    "lstm_model.fit(X_train_LSTM, y_train, epochs=10, batch_size=8, verbose=2)"
   ],
   "metadata": {
    "collapsed": false
   },
   "id": "c84c24045a3c68b6",
   "execution_count": null
  },
  {
   "cell_type": "code",
   "outputs": [],
   "source": [
    "predictions = lstm_model.predict(X_test_LSTM)"
   ],
   "metadata": {
    "collapsed": false
   },
   "id": "28e62eb118c34a8a",
   "execution_count": null
  },
  {
   "cell_type": "code",
   "outputs": [],
   "source": [
    "score = mean_squared_error(y_test, predictions)\n",
    "print(f'Mean Squared Error: {score}')"
   ],
   "metadata": {
    "collapsed": false
   },
   "id": "3cae8854d25f04b3",
   "execution_count": null
  },
  {
   "cell_type": "code",
   "outputs": [],
   "source": [
    "y_pred = pd.Series(predictions, index=X_test.index)"
   ],
   "metadata": {
    "collapsed": false
   },
   "id": "8b71b15d5feabb18",
   "execution_count": null
  },
  {
   "cell_type": "code",
   "outputs": [],
   "source": [
    "y_pred = pd.Series(predictions, index=X_test.index).sort_index()\n",
    "y_pred.plot()\n",
    "y_test = y_test.sort_index()\n",
    "y_test.plot()"
   ],
   "metadata": {
    "collapsed": false
   },
   "id": "fd0bd628a66ff5dc",
   "execution_count": null
  },
  {
   "cell_type": "code",
   "outputs": [],
   "source": [
    "y_pred.hist()\n",
    "y_test.hist()"
   ],
   "metadata": {
    "collapsed": false
   },
   "id": "6b5e2f5c1a95b240",
   "execution_count": null
  },
  {
   "cell_type": "code",
   "outputs": [],
   "source": [
    "plt.scatter(y_test, predictions)"
   ],
   "metadata": {
    "collapsed": false
   },
   "id": "7400ef4898ee2c8f",
   "execution_count": null
  },
  {
   "cell_type": "code",
   "outputs": [],
   "source": [
    "plt.plot(y_test.index, y_test)"
   ],
   "metadata": {
    "collapsed": false
   },
   "id": "22197d36a1e25c42",
   "execution_count": null
  },
  {
   "cell_type": "code",
   "outputs": [],
   "source": [
    "plt.plot(y_test.index, predictions)"
   ],
   "metadata": {
    "collapsed": false
   },
   "id": "aceb9a79f78da8f2",
   "execution_count": null
  },
  {
   "cell_type": "code",
   "outputs": [],
   "source": [
    "y_test"
   ],
   "metadata": {
    "collapsed": false
   },
   "id": "a469cca27ac4170f",
   "execution_count": null
  },
  {
   "cell_type": "markdown",
   "source": [
    "# XGBoost"
   ],
   "metadata": {
    "collapsed": false
   },
   "id": "416af3e63416bbf6"
  },
  {
   "cell_type": "code",
   "outputs": [],
   "source": [
    "X_train = np.reshape(X_train.astype(float), (X_train.shape[0], X_train.shape[1]))\n",
    "X_test = np.reshape(X_test.astype(float), (X_test.shape[0], X_test.shape[1]))"
   ],
   "metadata": {
    "collapsed": false
   },
   "id": "ad6b7513e00aefa9",
   "execution_count": null
  },
  {
   "cell_type": "code",
   "outputs": [],
   "source": [
    "from sklearn.preprocessing import LabelEncoder\n",
    "le = LabelEncoder()\n",
    "y_train = le.fit_transform(y_train)"
   ],
   "metadata": {
    "collapsed": false
   },
   "id": "3e0ffd92f3b164c0",
   "execution_count": null
  },
  {
   "cell_type": "code",
   "outputs": [],
   "source": [
    "model = XGBClassifier()\n",
    "model.fit(X_train, y_train)"
   ],
   "metadata": {
    "collapsed": false
   },
   "id": "b587f8fedf7215f4",
   "execution_count": null
  },
  {
   "cell_type": "code",
   "outputs": [],
   "source": [
    "predictions = model.predict(X_test)"
   ],
   "metadata": {
    "collapsed": false
   },
   "id": "90441271b960f755",
   "execution_count": null
  },
  {
   "cell_type": "code",
   "outputs": [],
   "source": [
    "score = mean_squared_error(y_test, predictions)\n",
    "print(f'Mean Squared Error: {score}')"
   ],
   "metadata": {
    "collapsed": false
   },
   "id": "beec1ea17a68d56e",
   "execution_count": null
  },
  {
   "cell_type": "code",
   "outputs": [],
   "source": [
    "y_pred = le.inverse_transform(predictions)\n",
    "cm = confusion_matrix(y_test, y_pred)\n",
    "print(cm)\n",
    "accuracy_score(y_test, y_pred)"
   ],
   "metadata": {
    "collapsed": false
   },
   "id": "8626521882899162",
   "execution_count": null
  },
  {
   "cell_type": "markdown",
   "source": [
    "Denny quick run"
   ],
   "metadata": {
    "collapsed": false
   },
   "id": "825e91e9fb4a6f43"
  },
  {
   "cell_type": "code",
   "execution_count": 12,
   "outputs": [
    {
     "data": {
      "text/plain": "                            _id                               sessionID  \\\n0      5bc9160af9af8b0dad3c0690   2_39_95_27_2018-05-01 13:23:18.374684   \n1      5bc9160af9af8b0dad3c0691  2_39_79_380_2018-05-01 13:54:33.599590   \n2      5bc9160af9af8b0dad3c0692  2_39_139_28_2018-05-01 14:46:04.441389   \n3      5bc9160af9af8b0dad3c0693  2_39_79_378_2018-05-01 14:56:28.908623   \n4      5bc9160af9af8b0dad3c0694   2_39_88_24_2018-05-01 15:14:50.443137   \n...                         ...                                     ...   \n31120  5bc92c03f9af8b0dc677ca2a   2_39_89_25_2018-07-19 15:51:18.244544   \n31121  5bc92c03f9af8b0dc677ca2b  2_39_78_366_2018-07-19 15:57:19.401534   \n31122  5bc92c03f9af8b0dc677ca2c  2_39_90_440_2018-07-19 15:57:56.698186   \n31123  5bc92c03f9af8b0dc677ca2d  2_39_131_30_2018-07-19 16:01:23.524413   \n31124  5bc92c03f9af8b0dc677ca2e  2_39_139_28_2018-07-19 16:03:26.819885   \n\n         stationID spaceID  siteID  clusterID            connectionTime  \\\n0       2-39-95-27  CA-319       2         39 2018-05-01 13:23:18+00:00   \n1      2-39-79-380  CA-489       2         39 2018-05-01 13:54:34+00:00   \n2      2-39-139-28  CA-303       2         39 2018-05-01 14:46:04+00:00   \n3      2-39-79-378  CA-326       2         39 2018-05-01 14:56:29+00:00   \n4       2-39-88-24  CA-314       2         39 2018-05-01 15:14:50+00:00   \n...            ...     ...     ...        ...                       ...   \n31120   2-39-89-25  CA-315       2         39 2018-07-19 15:51:18+00:00   \n31121  2-39-78-366  CA-323       2         39 2018-07-19 15:57:19+00:00   \n31122  2-39-90-440  CA-500       2         39 2018-07-19 15:57:57+00:00   \n31123  2-39-131-30  CA-305       2         39 2018-07-19 16:01:24+00:00   \n31124  2-39-139-28  CA-303       2         39 2018-07-19 16:03:27+00:00   \n\n                 disconnectTime  kWhDelivered          doneChargingTime  ...  \\\n0     2018-05-02 01:53:41+00:00     13.410000 2018-05-01 17:17:07+00:00  ...   \n1     2018-05-01 23:15:35+00:00      8.618000 2018-05-01 15:35:39+00:00  ...   \n2     2018-05-02 00:54:07+00:00     13.969000 2018-05-01 23:57:02+00:00  ...   \n3     2018-05-01 21:52:45+00:00      6.914000 2018-05-01 16:07:56+00:00  ...   \n4     2018-05-01 22:51:30+00:00     13.785000 2018-05-01 20:18:12+00:00  ...   \n...                         ...           ...                       ...  ...   \n31120 2018-07-19 23:28:02+00:00      7.334000 2018-07-19 18:41:04+00:00  ...   \n31121 2018-07-19 22:49:56+00:00      1.336511 2018-07-19 15:56:21+00:00  ...   \n31122 2018-07-20 01:14:15+00:00      5.998000 2018-07-19 18:36:53+00:00  ...   \n31123 2018-07-20 00:03:48+00:00      4.718000 2018-07-19 17:33:44+00:00  ...   \n31124 2018-07-20 04:04:02+00:00      5.296000 2018-07-19 18:34:57+00:00  ...   \n\n      doneChargingTimeDay  userID  milesRequested  WhPerMile  \\\n0                     1.0     NaN             NaN        NaN   \n1                     1.0     NaN             NaN        NaN   \n2                     1.0     NaN             NaN        NaN   \n3                     1.0     NaN             NaN        NaN   \n4                     1.0     NaN             NaN        NaN   \n...                   ...     ...             ...        ...   \n31120                19.0     NaN             NaN        NaN   \n31121                19.0     NaN             NaN        NaN   \n31122                19.0     NaN             NaN        NaN   \n31123                19.0     NaN             NaN        NaN   \n31124                19.0     NaN             NaN        NaN   \n\n       minutesAvailable  modifiedAt  paymentRequired  requestedDeparture  \\\n0                   NaN        None             None                None   \n1                   NaN        None             None                None   \n2                   NaN        None             None                None   \n3                   NaN        None             None                None   \n4                   NaN        None             None                None   \n...                 ...         ...              ...                 ...   \n31120               NaN        None             None                None   \n31121               NaN        None             None                None   \n31122               NaN        None             None                None   \n31123               NaN        None             None                None   \n31124               NaN        None             None                None   \n\n       kWhRequested  is_holiday  \n0               NaN       False  \n1               NaN       False  \n2               NaN       False  \n3               NaN       False  \n4               NaN       False  \n...             ...         ...  \n31120           NaN       False  \n31121           NaN       False  \n31122           NaN       False  \n31123           NaN       False  \n31124           NaN       False  \n\n[31125 rows x 26 columns]",
      "text/html": "<div>\n<style scoped>\n    .dataframe tbody tr th:only-of-type {\n        vertical-align: middle;\n    }\n\n    .dataframe tbody tr th {\n        vertical-align: top;\n    }\n\n    .dataframe thead th {\n        text-align: right;\n    }\n</style>\n<table border=\"1\" class=\"dataframe\">\n  <thead>\n    <tr style=\"text-align: right;\">\n      <th></th>\n      <th>_id</th>\n      <th>sessionID</th>\n      <th>stationID</th>\n      <th>spaceID</th>\n      <th>siteID</th>\n      <th>clusterID</th>\n      <th>connectionTime</th>\n      <th>disconnectTime</th>\n      <th>kWhDelivered</th>\n      <th>doneChargingTime</th>\n      <th>...</th>\n      <th>doneChargingTimeDay</th>\n      <th>userID</th>\n      <th>milesRequested</th>\n      <th>WhPerMile</th>\n      <th>minutesAvailable</th>\n      <th>modifiedAt</th>\n      <th>paymentRequired</th>\n      <th>requestedDeparture</th>\n      <th>kWhRequested</th>\n      <th>is_holiday</th>\n    </tr>\n  </thead>\n  <tbody>\n    <tr>\n      <th>0</th>\n      <td>5bc9160af9af8b0dad3c0690</td>\n      <td>2_39_95_27_2018-05-01 13:23:18.374684</td>\n      <td>2-39-95-27</td>\n      <td>CA-319</td>\n      <td>2</td>\n      <td>39</td>\n      <td>2018-05-01 13:23:18+00:00</td>\n      <td>2018-05-02 01:53:41+00:00</td>\n      <td>13.410000</td>\n      <td>2018-05-01 17:17:07+00:00</td>\n      <td>...</td>\n      <td>1.0</td>\n      <td>NaN</td>\n      <td>NaN</td>\n      <td>NaN</td>\n      <td>NaN</td>\n      <td>None</td>\n      <td>None</td>\n      <td>None</td>\n      <td>NaN</td>\n      <td>False</td>\n    </tr>\n    <tr>\n      <th>1</th>\n      <td>5bc9160af9af8b0dad3c0691</td>\n      <td>2_39_79_380_2018-05-01 13:54:33.599590</td>\n      <td>2-39-79-380</td>\n      <td>CA-489</td>\n      <td>2</td>\n      <td>39</td>\n      <td>2018-05-01 13:54:34+00:00</td>\n      <td>2018-05-01 23:15:35+00:00</td>\n      <td>8.618000</td>\n      <td>2018-05-01 15:35:39+00:00</td>\n      <td>...</td>\n      <td>1.0</td>\n      <td>NaN</td>\n      <td>NaN</td>\n      <td>NaN</td>\n      <td>NaN</td>\n      <td>None</td>\n      <td>None</td>\n      <td>None</td>\n      <td>NaN</td>\n      <td>False</td>\n    </tr>\n    <tr>\n      <th>2</th>\n      <td>5bc9160af9af8b0dad3c0692</td>\n      <td>2_39_139_28_2018-05-01 14:46:04.441389</td>\n      <td>2-39-139-28</td>\n      <td>CA-303</td>\n      <td>2</td>\n      <td>39</td>\n      <td>2018-05-01 14:46:04+00:00</td>\n      <td>2018-05-02 00:54:07+00:00</td>\n      <td>13.969000</td>\n      <td>2018-05-01 23:57:02+00:00</td>\n      <td>...</td>\n      <td>1.0</td>\n      <td>NaN</td>\n      <td>NaN</td>\n      <td>NaN</td>\n      <td>NaN</td>\n      <td>None</td>\n      <td>None</td>\n      <td>None</td>\n      <td>NaN</td>\n      <td>False</td>\n    </tr>\n    <tr>\n      <th>3</th>\n      <td>5bc9160af9af8b0dad3c0693</td>\n      <td>2_39_79_378_2018-05-01 14:56:28.908623</td>\n      <td>2-39-79-378</td>\n      <td>CA-326</td>\n      <td>2</td>\n      <td>39</td>\n      <td>2018-05-01 14:56:29+00:00</td>\n      <td>2018-05-01 21:52:45+00:00</td>\n      <td>6.914000</td>\n      <td>2018-05-01 16:07:56+00:00</td>\n      <td>...</td>\n      <td>1.0</td>\n      <td>NaN</td>\n      <td>NaN</td>\n      <td>NaN</td>\n      <td>NaN</td>\n      <td>None</td>\n      <td>None</td>\n      <td>None</td>\n      <td>NaN</td>\n      <td>False</td>\n    </tr>\n    <tr>\n      <th>4</th>\n      <td>5bc9160af9af8b0dad3c0694</td>\n      <td>2_39_88_24_2018-05-01 15:14:50.443137</td>\n      <td>2-39-88-24</td>\n      <td>CA-314</td>\n      <td>2</td>\n      <td>39</td>\n      <td>2018-05-01 15:14:50+00:00</td>\n      <td>2018-05-01 22:51:30+00:00</td>\n      <td>13.785000</td>\n      <td>2018-05-01 20:18:12+00:00</td>\n      <td>...</td>\n      <td>1.0</td>\n      <td>NaN</td>\n      <td>NaN</td>\n      <td>NaN</td>\n      <td>NaN</td>\n      <td>None</td>\n      <td>None</td>\n      <td>None</td>\n      <td>NaN</td>\n      <td>False</td>\n    </tr>\n    <tr>\n      <th>...</th>\n      <td>...</td>\n      <td>...</td>\n      <td>...</td>\n      <td>...</td>\n      <td>...</td>\n      <td>...</td>\n      <td>...</td>\n      <td>...</td>\n      <td>...</td>\n      <td>...</td>\n      <td>...</td>\n      <td>...</td>\n      <td>...</td>\n      <td>...</td>\n      <td>...</td>\n      <td>...</td>\n      <td>...</td>\n      <td>...</td>\n      <td>...</td>\n      <td>...</td>\n      <td>...</td>\n    </tr>\n    <tr>\n      <th>31120</th>\n      <td>5bc92c03f9af8b0dc677ca2a</td>\n      <td>2_39_89_25_2018-07-19 15:51:18.244544</td>\n      <td>2-39-89-25</td>\n      <td>CA-315</td>\n      <td>2</td>\n      <td>39</td>\n      <td>2018-07-19 15:51:18+00:00</td>\n      <td>2018-07-19 23:28:02+00:00</td>\n      <td>7.334000</td>\n      <td>2018-07-19 18:41:04+00:00</td>\n      <td>...</td>\n      <td>19.0</td>\n      <td>NaN</td>\n      <td>NaN</td>\n      <td>NaN</td>\n      <td>NaN</td>\n      <td>None</td>\n      <td>None</td>\n      <td>None</td>\n      <td>NaN</td>\n      <td>False</td>\n    </tr>\n    <tr>\n      <th>31121</th>\n      <td>5bc92c03f9af8b0dc677ca2b</td>\n      <td>2_39_78_366_2018-07-19 15:57:19.401534</td>\n      <td>2-39-78-366</td>\n      <td>CA-323</td>\n      <td>2</td>\n      <td>39</td>\n      <td>2018-07-19 15:57:19+00:00</td>\n      <td>2018-07-19 22:49:56+00:00</td>\n      <td>1.336511</td>\n      <td>2018-07-19 15:56:21+00:00</td>\n      <td>...</td>\n      <td>19.0</td>\n      <td>NaN</td>\n      <td>NaN</td>\n      <td>NaN</td>\n      <td>NaN</td>\n      <td>None</td>\n      <td>None</td>\n      <td>None</td>\n      <td>NaN</td>\n      <td>False</td>\n    </tr>\n    <tr>\n      <th>31122</th>\n      <td>5bc92c03f9af8b0dc677ca2c</td>\n      <td>2_39_90_440_2018-07-19 15:57:56.698186</td>\n      <td>2-39-90-440</td>\n      <td>CA-500</td>\n      <td>2</td>\n      <td>39</td>\n      <td>2018-07-19 15:57:57+00:00</td>\n      <td>2018-07-20 01:14:15+00:00</td>\n      <td>5.998000</td>\n      <td>2018-07-19 18:36:53+00:00</td>\n      <td>...</td>\n      <td>19.0</td>\n      <td>NaN</td>\n      <td>NaN</td>\n      <td>NaN</td>\n      <td>NaN</td>\n      <td>None</td>\n      <td>None</td>\n      <td>None</td>\n      <td>NaN</td>\n      <td>False</td>\n    </tr>\n    <tr>\n      <th>31123</th>\n      <td>5bc92c03f9af8b0dc677ca2d</td>\n      <td>2_39_131_30_2018-07-19 16:01:23.524413</td>\n      <td>2-39-131-30</td>\n      <td>CA-305</td>\n      <td>2</td>\n      <td>39</td>\n      <td>2018-07-19 16:01:24+00:00</td>\n      <td>2018-07-20 00:03:48+00:00</td>\n      <td>4.718000</td>\n      <td>2018-07-19 17:33:44+00:00</td>\n      <td>...</td>\n      <td>19.0</td>\n      <td>NaN</td>\n      <td>NaN</td>\n      <td>NaN</td>\n      <td>NaN</td>\n      <td>None</td>\n      <td>None</td>\n      <td>None</td>\n      <td>NaN</td>\n      <td>False</td>\n    </tr>\n    <tr>\n      <th>31124</th>\n      <td>5bc92c03f9af8b0dc677ca2e</td>\n      <td>2_39_139_28_2018-07-19 16:03:26.819885</td>\n      <td>2-39-139-28</td>\n      <td>CA-303</td>\n      <td>2</td>\n      <td>39</td>\n      <td>2018-07-19 16:03:27+00:00</td>\n      <td>2018-07-20 04:04:02+00:00</td>\n      <td>5.296000</td>\n      <td>2018-07-19 18:34:57+00:00</td>\n      <td>...</td>\n      <td>19.0</td>\n      <td>NaN</td>\n      <td>NaN</td>\n      <td>NaN</td>\n      <td>NaN</td>\n      <td>None</td>\n      <td>None</td>\n      <td>None</td>\n      <td>NaN</td>\n      <td>False</td>\n    </tr>\n  </tbody>\n</table>\n<p>31125 rows × 26 columns</p>\n</div>"
     },
     "execution_count": 12,
     "metadata": {},
     "output_type": "execute_result"
    }
   ],
   "source": [
    "# X = create_x(start, end, caiso_fp, sun_fp)\n",
    "# y = create_y(df, start, end, spaceID)\n",
    "create_x(df, start_date=sta)"
   ],
   "metadata": {
    "collapsed": false,
    "ExecuteTime": {
     "end_time": "2024-03-11T03:50:21.173676265Z",
     "start_time": "2024-03-11T03:50:21.117286649Z"
    }
   },
   "id": "a61409c4f77b7342"
  },
  {
   "cell_type": "markdown",
   "source": [
    "# Optuna"
   ],
   "metadata": {
    "collapsed": false
   },
   "id": "2a733788deba6315"
  },
  {
   "cell_type": "code",
   "outputs": [],
   "source": [
    "import optuna \n",
    "import xgboost as xgb"
   ],
   "metadata": {
    "collapsed": false
   },
   "id": "9079bb84de46803b",
   "execution_count": null
  },
  {
   "cell_type": "code",
   "outputs": [],
   "source": [
    "def objective(trial):\n",
    "    \n",
    "  bin_numbers = pd.qcut(y, q=10, labels=False, duplicates='drop')\n",
    "  train_x, valid_x, train_y, valid_y = train_test_split(X, y, test_size = .2, stratify=bin_numbers, random_state=42)\n",
    "  train_y = le.fit_transform(train_y)\n",
    "  learning_rate = trial.suggest_float(\"learning_rate\", 1e-5, 1e-1, log=True)\n",
    "  max_depth = trial.suggest_int(\"max_depth\", 2, 10,step=2, log=False)\n",
    "  n_estimators = trial.suggest_int(\"n_estimators\", 200, 500,step=100, log=False)\n",
    "\n",
    "  model = XGBClassifier(objective= 'multi:softprob',\n",
    "                        learning_rate = learning_rate,\n",
    "                        n_estimators = n_estimators,\n",
    "                        max_depth = max_depth,\n",
    "                        seed=42)\n",
    "\n",
    "  model.fit(train_x, train_y)\n",
    "\n",
    "  y_pred = le.inverse_transform(model.predict(valid_x))\n",
    "  accuracy = accuracy_score(valid_y, y_pred)\n",
    "\n",
    "  # Handle pruning based on the intermediate value.\n",
    "  if trial.should_prune():\n",
    "    raise optuna.exceptions.TrialPruned()\n",
    "\n",
    "  trial.set_user_attr(key=\"best_model\", value=model) # save model\n",
    "  return accuracy\n",
    "\n",
    "# callback function to save the best model as user attribute\n",
    "def callback(study, trial):\n",
    "    if study.best_trial.number == trial.number:\n",
    "        study.set_user_attr(key=\"best_model\", value=trial.user_attrs[\"best_model\"])"
   ],
   "metadata": {
    "collapsed": false
   },
   "id": "3edf98b793022368",
   "execution_count": null
  },
  {
   "cell_type": "code",
   "outputs": [],
   "source": [
    "study = optuna.create_study(direction=\"maximize\")\n",
    "study.optimize(objective, n_trials=100, timeout=600, callbacks=[callback])\n",
    "\n",
    "print(\"Number of finished trials: \", len(study.trials))\n",
    "print(\"Best trial:\")\n",
    "trial = study.best_trial\n",
    "\n",
    "print(\"  Value: {}\".format(trial.value))\n",
    "print(\"  Params: \")\n",
    "for key, value in trial.params.items():\n",
    "    print(\"    {}: {}\".format(key, value))"
   ],
   "metadata": {
    "collapsed": false
   },
   "id": "80846300fd2f40f8",
   "execution_count": null
  },
  {
   "cell_type": "code",
   "outputs": [],
   "source": [
    "def lstm_objective(trial):\n",
    "    \n",
    "  bin_numbers = pd.qcut(y, q=10, labels=False, duplicates='drop')\n",
    "  train_x, valid_x, train_y, valid_y = train_test_split(X, y, test_size = .2, stratify=bin_numbers, random_state=42)\n",
    "  \n",
    "  train_scaler = StandardScaler()\n",
    "  test_scaler = StandardScaler()\n",
    "  X_train_LSTM = pd.DataFrame(train_scaler.fit_transform(train_x))\n",
    "  X_test_LSTM = pd.DataFrame(test_scaler.fit_transform(valid_x))\n",
    "  \n",
    "  # tunable params\n",
    "  learning_rate = trial.suggest_float(\"learning_rate\", 1e-5, 1e-1, log=True)\n",
    "  n_layers = trial.suggest_int(\"n_layers\", 1, 4)\n",
    "  n_units = trial.suggest_int(\"n_units\", 4, 64)\n",
    "  activation = trial.suggest_categorical(\"activation\", [\"relu\", \"selu\", \"elu\", \"swish\"])\n",
    "  dropout_rate = trial.suggest_float(\"lstm_dropout\", 0.0, 0.3)\n",
    "  \n",
    "  # create model\n",
    "  x0 = tf.keras.Input(shape=(1, X_train_LSTM.shape[1]))\n",
    "\n",
    "  lstm_units = np.zeros(n_layers, dtype=int)\n",
    "  #lstm_units[0] = trial.suggest_int(\"n_units_L1\", 4, 64)\n",
    "  lstm = LSTM(n_units, input_shape=(1, X_train_LSTM.shape[1]), return_sequences=True)(x0)\n",
    "  for i in range(1, n_layers):\n",
    "    #lstm_units[i] = trial.suggest_int(f\"n_units_L{i+1}\", 4, 64)\n",
    "    lstm = LSTM(n_units, return_sequences=True)(lstm)\n",
    "    lstm = Dropout(dropout_rate)(lstm)\n",
    "\n",
    "  #dense_units = lstm_units[-1]\n",
    "  lstm = Dense(n_units, activation=activation)(lstm)\n",
    "  lstm = Dense(1)(lstm)\n",
    "  model = tf.keras.Model(inputs=x0, outputs=lstm)\n",
    "  model.compile(optimizer=tf.keras.optimizers.Adam(learning_rate=learning_rate), loss='mean_squared_error')\n",
    "  \n",
    "  [print(i.shape, i.dtype) for i in model.inputs]\n",
    "  [print(o.shape, o.dtype) for o in model.outputs]\n",
    "  [print(l.name, l.input_shape, l.dtype) for l in model.layers]\n",
    "  \n",
    "  X_train_LSTM = np.reshape(X_train_LSTM.values.astype(float), (X_train_LSTM.shape[0], 1, X_train_LSTM.shape[1]))\n",
    "  X_test_LSTM = np.reshape(X_test_LSTM.values.astype(float), (X_test_LSTM.shape[0], 1, X_test_LSTM.shape[1]))\n",
    "  \n",
    "  model.fit(X_train_LSTM, train_y, epochs=10, batch_size=8, verbose=2)\n",
    "  \n",
    "  y_pred = model.predict(X_test_LSTM)\n",
    "  score = mean_squared_error(valid_y, y_pred.flatten())\n",
    "\n",
    "  # Handle pruning based on the intermediate value.\n",
    "  if trial.should_prune():\n",
    "    raise optuna.exceptions.TrialPruned()\n",
    "\n",
    "  trial.set_user_attr(key=\"best_model\", value=model) # save model\n",
    "  return score\n",
    "\n",
    "# callback function to save the best model as user attribute\n",
    "def callback(study, trial):\n",
    "    if study.best_trial.number == trial.number:\n",
    "        study.set_user_attr(key=\"best_model\", value=trial.user_attrs[\"best_model\"])"
   ],
   "metadata": {
    "collapsed": false
   },
   "id": "92c0aa84ddd0827a",
   "execution_count": null
  },
  {
   "cell_type": "code",
   "outputs": [],
   "source": [
    "study = optuna.create_study(direction=\"minimize\")\n",
    "study.optimize(lstm_objective, n_trials=100, timeout=600, callbacks=[callback])\n",
    "\n",
    "print(\"Number of finished trials: \", len(study.trials))\n",
    "print(\"Best trial:\")\n",
    "trial = study.best_trial\n",
    "\n",
    "print(\"  Value: {}\".format(trial.value))\n",
    "print(\"  Params: \")\n",
    "for key, value in trial.params.items():\n",
    "    print(\"    {}: {}\".format(key, value))"
   ],
   "metadata": {
    "collapsed": false
   },
   "id": "bef9317f13b35928",
   "execution_count": null
  },
  {
   "cell_type": "code",
   "outputs": [],
   "source": [
    "'''\n",
    "def objective(trial):\n",
    "    # Create hold out test set\n",
    "    bin_numbers = pd.qcut(y, q=10, labels=False, duplicates='drop')\n",
    "    train_x, valid_x, train_y, valid_y = train_test_split(X, y, test_size = .2, stratify=bin_numbers, random_state=42)\n",
    "    train_y = le.fit_transform(train_y)\n",
    "    \n",
    "    dtrain = xgb.DMatrix(train_x, label=train_y)\n",
    "    dvalid = xgb.DMatrix(valid_x, label=valid_y)\n",
    "\n",
    "    param = {\n",
    "        \"verbosity\": 0,\n",
    "        \"num_class\": len(set(y)),\n",
    "        \"objective\": \"multi:softprob\",\n",
    "        # use exact for small dataset.\n",
    "        \"tree_method\": \"exact\",\n",
    "        # defines booster, gblinear for linear functions.\n",
    "        \"booster\": trial.suggest_categorical(\"booster\", [\"gbtree\", \"gblinear\", \"dart\"]),\n",
    "        # L2 regularization weight.\n",
    "        \"lambda\": trial.suggest_float(\"lambda\", 1e-8, 1.0, log=True),\n",
    "        # L1 regularization weight.\n",
    "        \"alpha\": trial.suggest_float(\"alpha\", 1e-8, 1.0, log=True),\n",
    "        # sampling ratio for training data.\n",
    "        \"subsample\": trial.suggest_float(\"subsample\", 0.2, 1.0),\n",
    "        # sampling according to each tree.\n",
    "        \"colsample_bytree\": trial.suggest_float(\"colsample_bytree\", 0.2, 1.0),\n",
    "    }\n",
    "\n",
    "    if param[\"booster\"] in [\"gbtree\", \"dart\"]:\n",
    "        # maximum depth of the tree, signifies complexity of the tree.\n",
    "        param[\"max_depth\"] = trial.suggest_int(\"max_depth\", 3, 9, step=2)\n",
    "        # minimum child weight, larger the term more conservative the tree.\n",
    "        param[\"min_child_weight\"] = trial.suggest_int(\"min_child_weight\", 2, 10)\n",
    "        param[\"eta\"] = trial.suggest_float(\"eta\", 1e-8, 1.0, log=True)\n",
    "        # defines how selective algorithm is.\n",
    "        param[\"gamma\"] = trial.suggest_float(\"gamma\", 1e-8, 1.0, log=True)\n",
    "        param[\"grow_policy\"] = trial.suggest_categorical(\"grow_policy\", [\"depthwise\", \"lossguide\"])\n",
    "\n",
    "    if param[\"booster\"] == \"dart\":\n",
    "        param[\"sample_type\"] = trial.suggest_categorical(\"sample_type\", [\"uniform\", \"weighted\"])\n",
    "        param[\"normalize_type\"] = trial.suggest_categorical(\"normalize_type\", [\"tree\", \"forest\"])\n",
    "        param[\"rate_drop\"] = trial.suggest_float(\"rate_drop\", 1e-8, 1.0, log=True)\n",
    "        param[\"skip_drop\"] = trial.suggest_float(\"skip_drop\", 1e-8, 1.0, log=True)\n",
    "\n",
    "    bst = xgb.train(param, dtrain)\n",
    "    preds = bst.predict(dvalid)\n",
    "    pred_labels = le.inverse_transform(preds)#np.rint(preds)\n",
    "    accuracy = accuracy_score(valid_y, pred_labels)\n",
    "    return accuracy\n",
    "'''"
   ],
   "metadata": {
    "collapsed": false
   },
   "id": "63f06fabc58d93a1"
  }
 ],
 "metadata": {
  "kernelspec": {
   "display_name": "Python 3",
   "language": "python",
   "name": "python3"
  },
  "language_info": {
   "codemirror_mode": {
    "name": "ipython",
    "version": 2
   },
   "file_extension": ".py",
   "mimetype": "text/x-python",
   "name": "python",
   "nbconvert_exporter": "python",
   "pygments_lexer": "ipython2",
   "version": "2.7.6"
  }
 },
 "nbformat": 4,
 "nbformat_minor": 5
}
