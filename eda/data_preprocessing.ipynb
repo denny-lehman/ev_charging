{
 "cells": [
  {
   "cell_type": "code",
   "execution_count": 1,
   "id": "9aa13cd6-464a-482a-9525-27f48d37a37c",
   "metadata": {},
   "outputs": [],
   "source": [
    "import pandas as pd\n",
    "import numpy as np\n",
    "from matplotlib import pyplot as plt\n",
    "import os\n"
   ]
  },
  {
   "cell_type": "code",
   "execution_count": 2,
   "id": "433e6e9a-3fdb-419e-8d61-c259b8d6799e",
   "metadata": {},
   "outputs": [
    {
     "name": "stdout",
     "output_type": "stream",
     "text": [
      "/home/denny/Documents/mids/ev_charging\n"
     ]
    }
   ],
   "source": [
    "os.chdir('..')\n",
    "HOME_PATH = os.getcwd()\n",
    "print(HOME_PATH)"
   ]
  },
  {
   "cell_type": "code",
   "execution_count": 3,
   "id": "ed4fed55-a7d6-4f98-ac3f-801b14783b08",
   "metadata": {},
   "outputs": [],
   "source": [
    "# change directory to data folders of .gzip files\n",
    "# unzip all files in the directory"
   ]
  },
  {
   "cell_type": "code",
   "execution_count": 15,
   "id": "0bae904d-5974-4d72-bdfa-82b4ecbd7a7a",
   "metadata": {},
   "outputs": [
    {
     "data": {
      "text/plain": [
       "'/home/denny/Documents/mids/ev_charging/data'"
      ]
     },
     "execution_count": 15,
     "metadata": {},
     "output_type": "execute_result"
    }
   ],
   "source": [
    "os.chdir('data')\n",
    "os.getcwd()"
   ]
  },
  {
   "cell_type": "code",
   "execution_count": 16,
   "id": "878cc259-f4cb-455c-a800-90dbddf5f42a",
   "metadata": {},
   "outputs": [
    {
     "name": "stdout",
     "output_type": "stream",
     "text": [
      "/home/denny/Documents/mids/ev_charging/data\n",
      "caltech  jpl  office_01  README.md\n",
      "unzipping office_01 directory\n",
      "gzip: *.gz: No such file or directory\n",
      "unzipping caltech directory\n",
      "gzip: *.gz: No such file or directory\n",
      "unzipping jpl directory\n",
      "gzip: *.gz: No such file or directory\n",
      "ending script\n"
     ]
    }
   ],
   "source": [
    "! sh unzip_script.sh"
   ]
  },
  {
   "cell_type": "code",
   "execution_count": 17,
   "id": "9b48a46e-4c64-439e-9e77-5c1521a8d6da",
   "metadata": {},
   "outputs": [
    {
     "data": {
      "text/plain": [
       "'/home/denny/Documents/mids/ev_charging'"
      ]
     },
     "execution_count": 17,
     "metadata": {},
     "output_type": "execute_result"
    }
   ],
   "source": [
    "os.chdir(HOME_PATH)\n",
    "os.getcwd()"
   ]
  },
  {
   "cell_type": "markdown",
   "id": "b51d7540-93f9-4d8f-b89a-77f475cf3af9",
   "metadata": {},
   "source": [
    "# Caltech\n",
    "## Garage 01"
   ]
  },
  {
   "cell_type": "code",
   "execution_count": 18,
   "id": "8e5df6be-67ae-49cd-8666-f04545885c47",
   "metadata": {},
   "outputs": [
    {
     "name": "stdout",
     "output_type": "stream",
     "text": [
      "directory = /home/denny/Documents/mids/ev_charging/data/ACN-Data-Static-main/caltech/California_Garage_01/\n",
      "0 /home/denny/Documents/mids/ev_charging/data/ACN-Data-Static-main/caltech/California_Garage_01/2-39-129-17-2018-05-04T15-20-03-751219.csv\n",
      "10 /home/denny/Documents/mids/ev_charging/data/ACN-Data-Static-main/caltech/California_Garage_01/2-39-139-28-2020-06-14T03-14-06-864489.csv\n",
      "20 /home/denny/Documents/mids/ev_charging/data/ACN-Data-Static-main/caltech/California_Garage_01/2-39-129-17-2019-04-02T15-59-17-023084.csv\n",
      "30 /home/denny/Documents/mids/ev_charging/data/ACN-Data-Static-main/caltech/California_Garage_01/2-39-95-444-2019-05-28T16-55-37-026014.csv\n",
      "40 /home/denny/Documents/mids/ev_charging/data/ACN-Data-Static-main/caltech/California_Garage_01/2-39-128-18-2018-09-26T01-31-24-417048.csv\n",
      "50 /home/denny/Documents/mids/ev_charging/data/ACN-Data-Static-main/caltech/California_Garage_01/2-39-79-377-2019-06-07T16-43-43-171858.csv\n",
      "51 files processed.\n"
     ]
    }
   ],
   "source": [
    "# directory = HOME_PATH + '/data/ACN-Data-Static-main/jpl/Arroyo_Garage_01/'\n",
    "directory = HOME_PATH + '/data/ACN-Data-Static-main/caltech/California_Garage_01/'\n",
    "print(f'directory = {directory}')\n",
    "i = 0\n",
    "df = pd.DataFrame()\n",
    "for filename in os.listdir(directory):\n",
    "    f = os.path.join(directory, filename)\n",
    "    # checking if it is a file\n",
    "    if os.path.isfile(f):\n",
    "        if i%10 == 0: print(i,f)\n",
    "        new_df = pd.read_csv(f, index_col=0)\n",
    "        new_df['file_name'] = filename\n",
    "        if df.empty:\n",
    "            df = new_df\n",
    "        else:\n",
    "            df = pd.concat([df, new_df])\n",
    "    i += 1\n",
    "    if i > 50: break\n",
    "\n",
    "print(f'{i} files processed.')"
   ]
  },
  {
   "cell_type": "code",
   "execution_count": null,
   "id": "f0b3ca2a-985b-4f15-8a84-93b22b87acce",
   "metadata": {},
   "outputs": [],
   "source": [
    "file_path = HOME_PATH + '/processed_data'\n",
    "df.to_parquet(file_path+'/California_Garage_01.parquet')"
   ]
  },
  {
   "cell_type": "markdown",
   "id": "0d562bb4-988d-46e5-838f-869bd552fdbf",
   "metadata": {},
   "source": [
    "## Garage 02"
   ]
  },
  {
   "cell_type": "code",
   "execution_count": 19,
   "id": "1e65f983-3ddd-45e3-8340-1d96f6c7cdcb",
   "metadata": {},
   "outputs": [
    {
     "name": "stdout",
     "output_type": "stream",
     "text": [
      "directory = /home/denny/Documents/mids/ev_charging/data/ACN-Data-Static-main/caltech/California_Garage_02/\n",
      "0 /home/denny/Documents/mids/ev_charging/data/ACN-Data-Static-main/caltech/California_Garage_02/2-6-3-1364-2019-09-13T16-00-00-744038.csv.gz\n",
      "10 /home/denny/Documents/mids/ev_charging/data/ACN-Data-Static-main/caltech/California_Garage_02/2-6-3-1623-2019-08-09T15-45-38-706995.csv.gz\n",
      "20 /home/denny/Documents/mids/ev_charging/data/ACN-Data-Static-main/caltech/California_Garage_02/2-6-3-1362-2019-02-12T15-16-59-376805.csv.gz\n",
      "30 /home/denny/Documents/mids/ev_charging/data/ACN-Data-Static-main/caltech/California_Garage_02/2-6-3-1357-2020-01-02T16-41-16-873413.csv.gz\n",
      "40 /home/denny/Documents/mids/ev_charging/data/ACN-Data-Static-main/caltech/California_Garage_02/2-6-65-4549-2020-11-27T22-01-51-447435.csv.gz\n",
      "50 /home/denny/Documents/mids/ev_charging/data/ACN-Data-Static-main/caltech/California_Garage_02/2-6-3-1363-2019-02-23T20-44-09-024237.csv.gz\n",
      "51 files processed.\n"
     ]
    }
   ],
   "source": [
    "directory = HOME_PATH + '/data/ACN-Data-Static-main/caltech/California_Garage_02/'\n",
    "print(f'directory = {directory}')\n",
    "i = 0\n",
    "df = pd.DataFrame()\n",
    "for filename in os.listdir(directory):\n",
    "    f = os.path.join(directory, filename)\n",
    "    # checking if it is a file\n",
    "    if os.path.isfile(f):\n",
    "        if i%10 == 0: print(i,f)\n",
    "        new_df = pd.read_csv(f, index_col=0)\n",
    "        new_df['file_name'] = filename\n",
    "        if df.empty:\n",
    "            df = new_df\n",
    "        else:\n",
    "            df = pd.concat([df, new_df])\n",
    "    i += 1\n",
    "    if i > 50: break\n",
    "\n",
    "print(f'{i} files processed.')"
   ]
  },
  {
   "cell_type": "code",
   "execution_count": 20,
   "id": "1ef2700f-9136-426a-b57d-71c3fc319c57",
   "metadata": {},
   "outputs": [],
   "source": [
    "file_path = HOME_PATH + '/processed_data'\n",
    "df.to_parquet(file_path+'/California_Garage_02.parquet')"
   ]
  },
  {
   "cell_type": "code",
   "execution_count": 21,
   "id": "69621d83-eb30-4542-8a14-45783d1bf09a",
   "metadata": {},
   "outputs": [],
   "source": [
    "## Ligo_01"
   ]
  },
  {
   "cell_type": "code",
   "execution_count": null,
   "id": "08a15004-948b-4573-a137-515453c88e19",
   "metadata": {},
   "outputs": [],
   "source": [
    "directory = HOME_PATH + '/data/ACN-Data-Static-main/caltech/LIGO_01/'\n",
    "print(f'directory = {directory}')\n",
    "i = 0\n",
    "df = pd.DataFrame()\n",
    "for filename in os.listdir(directory):\n",
    "    f = os.path.join(directory, filename)\n",
    "    # checking if it is a file\n",
    "    if os.path.isfile(f):\n",
    "        if i%10 == 0: print(i,f)\n",
    "        new_df = pd.read_csv(f, index_col=0)\n",
    "        new_df['file_name'] = filename\n",
    "        if df.empty:\n",
    "            df = new_df\n",
    "        else:\n",
    "            df = pd.concat([df, new_df])\n",
    "    i += 1\n",
    "    if i > 50: break\n",
    "\n",
    "print(f'{i} files processed.')"
   ]
  },
  {
   "cell_type": "code",
   "execution_count": null,
   "id": "338f53d7-9953-46a9-9bd7-469892ae01f0",
   "metadata": {},
   "outputs": [],
   "source": [
    "file_path = HOME_PATH + '/processed_data'\n",
    "df.to_parquet(file_path+'/California_Garage_02.parquet')"
   ]
  }
 ],
 "metadata": {
  "kernelspec": {
   "display_name": "Python 3 (ipykernel)",
   "language": "python",
   "name": "python3"
  },
  "language_info": {
   "codemirror_mode": {
    "name": "ipython",
    "version": 3
   },
   "file_extension": ".py",
   "mimetype": "text/x-python",
   "name": "python",
   "nbconvert_exporter": "python",
   "pygments_lexer": "ipython3",
   "version": "3.10.13"
  }
 },
 "nbformat": 4,
 "nbformat_minor": 5
}
