{
 "cells": [
  {
   "cell_type": "markdown",
   "id": "604f51dd-dccd-4cee-855c-bc3d59858faf",
   "metadata": {},
   "source": [
    "# EDA Starter Notebook\n",
    "\n",
    "0. Load data and imports\n",
    "1. Define key metrics\n",
    "2. perform eda\n",
    "3. what data is available\n",
    "4. visualize the data"
   ]
  },
  {
   "cell_type": "markdown",
   "id": "55875faa-9d42-4d3f-98f3-a5d1a448adec",
   "metadata": {},
   "source": [
    "# 0. Load data and imports"
   ]
  },
  {
   "cell_type": "markdown",
   "source": [
    "## 0.1 Imports"
   ],
   "metadata": {
    "collapsed": false
   },
   "id": "5946243ed0c8e040"
  },
  {
   "cell_type": "code",
   "execution_count": 1,
   "id": "f6ad4ccc-fb38-4e30-af00-f2050020db98",
   "metadata": {
    "ExecuteTime": {
     "end_time": "2024-02-18T00:49:00.370986029Z",
     "start_time": "2024-02-18T00:49:00.370421865Z"
    }
   },
   "outputs": [
    {
     "name": "stdout",
     "output_type": "stream",
     "text": [
      "/home/denny/Documents/mids/ev_charging\n"
     ]
    }
   ],
   "source": [
    "import os\n",
    "os.chdir('..')\n",
    "ROOT_DIR = os.getcwd()\n",
    "print(ROOT_DIR)\n"
   ]
  },
  {
   "cell_type": "code",
   "execution_count": 2,
   "outputs": [],
   "source": [
    "import pandas as pd\n",
    "import numpy as np\n",
    "import matplotlib.pyplot as plt\n",
    "import seaborn as sns\n",
    "from src.data_preprocessing import datetime_processing, userinput_processing"
   ],
   "metadata": {
    "collapsed": false,
    "ExecuteTime": {
     "end_time": "2024-02-18T00:49:00.371181100Z",
     "start_time": "2024-02-18T00:49:00.370589425Z"
    }
   },
   "id": "3febfa3b10db480d"
  },
  {
   "cell_type": "markdown",
   "source": [
    "# 0.2 Load data"
   ],
   "metadata": {
    "collapsed": false
   },
   "id": "6bda8d00ae481861"
  },
  {
   "cell_type": "code",
   "execution_count": 3,
   "outputs": [
    {
     "name": "stdout",
     "output_type": "stream",
     "text": [
      "Caltech Shape: (31125, 25)\n",
      "JPL Shape: (33587, 25)\n",
      "Office Shape: (1681, 25)\n"
     ]
    }
   ],
   "source": [
    "# get path to the parquet files. Assumes the path is '/ev_chargeing/data/ACN-API/\n",
    "# get dataframes by reading all parquet files in a directory\n",
    "# https://stackoverflow.com/a/66104513\n",
    "df_ct = pd.read_parquet('data/ACN-API/caltech/').reset_index(drop=True)\n",
    "df_ct = datetime_processing(df_ct)\n",
    "df_ct = userinput_processing(df_ct)\n",
    "\n",
    "df_jpl = pd.read_parquet('data/ACN-API/jpl/').reset_index(drop=True)\n",
    "df_jpl = datetime_processing(df_jpl)\n",
    "df_jpl = userinput_processing(df_jpl)\n",
    "\n",
    "df_of = pd.read_parquet('data/ACN-API/office001/').reset_index(drop=True)\n",
    "df_of = datetime_processing(df_of)\n",
    "df_of = userinput_processing(df_of)\n",
    "print(f\"Caltech Shape: {df_ct.shape}\\nJPL Shape: {df_jpl.shape}\\nOffice Shape: {df_of.shape}\")"
   ],
   "metadata": {
    "collapsed": false,
    "ExecuteTime": {
     "end_time": "2024-02-18T00:49:08.595214930Z",
     "start_time": "2024-02-18T00:49:00.370660426Z"
    }
   },
   "id": "6616e8bab7b96ee9"
  },
  {
   "cell_type": "code",
   "execution_count": 4,
   "outputs": [
    {
     "name": "stdout",
     "output_type": "stream",
     "text": [
      "site ID for caltech: [2]\n",
      "site ID for jpl: [1]\n",
      "site ID for office: [19]\n"
     ]
    }
   ],
   "source": [
    "print(f\"site ID for caltech: {df_ct['siteID'].unique()}\")\n",
    "print(f\"site ID for jpl: {df_jpl['siteID'].unique()}\")\n",
    "print(f\"site ID for office: {df_of['siteID'].unique()}\")"
   ],
   "metadata": {
    "collapsed": false,
    "ExecuteTime": {
     "end_time": "2024-02-18T00:49:08.608944896Z",
     "start_time": "2024-02-18T00:49:08.595337018Z"
    }
   },
   "id": "820d3a7b41f13d0f"
  }
 ],
 "metadata": {
  "kernelspec": {
   "display_name": "Python 3 (ipykernel)",
   "language": "python",
   "name": "python3"
  },
  "language_info": {
   "codemirror_mode": {
    "name": "ipython",
    "version": 3
   },
   "file_extension": ".py",
   "mimetype": "text/x-python",
   "name": "python",
   "nbconvert_exporter": "python",
   "pygments_lexer": "ipython3",
   "version": "3.10.13"
  }
 },
 "nbformat": 4,
 "nbformat_minor": 5
}
