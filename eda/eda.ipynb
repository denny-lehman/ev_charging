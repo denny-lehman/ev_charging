{
 "cells": [
  {
   "cell_type": "markdown",
   "id": "604f51dd-dccd-4cee-855c-bc3d59858faf",
   "metadata": {},
   "source": [
    "# EDA (Varun's)\n",
    "The goal of this notebook is to investigate the data. We can answer the following questions\n",
    "\n",
    "0. Load data and imports\n",
    "1. Define key metrics\n",
    "2. perform eda\n",
    "3. what data is available\n",
    "4. visualize the data"
   ]
  },
  {
   "cell_type": "markdown",
   "id": "55875faa-9d42-4d3f-98f3-a5d1a448adec",
   "metadata": {},
   "source": [
    "# 0. Load data and imports"
   ]
  },
  {
   "cell_type": "code",
   "execution_count": null,
   "id": "f6ad4ccc-fb38-4e30-af00-f2050020db98",
   "metadata": {},
   "outputs": [],
   "source": [
    "import pandas as pd\n",
    "import numpy as np\n",
    "import matplotlib.pyplot as plt\n",
    "import seaborn as sns\n",
    "import os\n",
    "os.getcwd()\n"
   ]
  },
  {
   "cell_type": "code",
   "outputs": [],
   "source": [
    "# os.chdir('/Users/varunvenkatesh/Documents/Github/ev_charging/')\n",
    "os.chdir('..')"
   ],
   "metadata": {
    "collapsed": false
   },
   "id": "8cd8dfefd63b60d6",
   "execution_count": null
  },
  {
   "cell_type": "code",
   "execution_count": null,
   "outputs": [],
   "source": [
    "# get dataframes by reading all parquet files in a directory\n",
    "# https://stackoverflow.com/a/66104513\n",
    "df_ct = pd.read_parquet('data/ACN-API/caltech/')#'data/sessions/caltech/')\n",
    "df_jpl = pd.read_parquet('data/ACN-API/jpl/')#'data/sessions/jpl/')\n",
    "df_of = pd.read_parquet('data/ACN-API/office001/')#'data/sessions/office001/')\n",
    "print(f\"Caltech Shape: {df_ct.shape}\\nJPL Shape: {df_jpl.shape}\\nOffice Shape: {df_of.shape}\")"
   ],
   "metadata": {
    "collapsed": false
   },
   "id": "6616e8bab7b96ee9"
  },
  {
   "cell_type": "code",
   "execution_count": null,
   "outputs": [],
   "source": [
    "df_ct.reset_index(drop=True, inplace=True)\n",
    "df_ct.head()"
   ],
   "metadata": {
    "collapsed": false
   },
   "id": "fde803690658a17e"
  },
  {
   "cell_type": "code",
   "execution_count": null,
   "outputs": [],
   "source": [
    "df_jpl.reset_index(drop=True, inplace=True)\n",
    "df_jpl.head()"
   ],
   "metadata": {
    "collapsed": false
   },
   "id": "f3ee5e8005bee836"
  },
  {
   "cell_type": "code",
   "outputs": [],
   "source": [
    "df_of.reset_index(drop=True, inplace=True)\n",
    "df_of.head()"
   ],
   "metadata": {
    "collapsed": false
   },
   "id": "e88bfefef3d215cf",
   "execution_count": null
  },
  {
   "cell_type": "code",
   "outputs": [],
   "source": [
    "print(f\"site ID for caltech: {df_ct['siteID'].unique()}\")\n",
    "print(f\"site ID for jpl: {df_jpl['siteID'].unique()}\")\n",
    "print(f\"site ID for office: {df_of['siteID'].unique()}\")"
   ],
   "metadata": {
    "collapsed": false
   },
   "id": "820d3a7b41f13d0f",
   "execution_count": null
  },
  {
   "cell_type": "markdown",
   "source": [
    "# Convert User Inputs\n",
    "process taken from here:\n",
    "\n",
    "https://stackoverflow.com/a/41970572"
   ],
   "metadata": {
    "collapsed": false
   },
   "id": "e3477ca76710748b"
  },
  {
   "cell_type": "code",
   "execution_count": null,
   "outputs": [],
   "source": [
    "def convert_userInputs(x):\n",
    "    \"\"\"could do try except block instead\"\"\"\n",
    "    # x is a string of a list of dictionaries, like this\n",
    "    # '[{'userID': 333, 'milesRequested': 20, 'WhPerMile': 400, 'minutesAvailable': 277, 'modifiedAt': 'Wed, 05 Sep 2018 11:08:31 GMT', 'paymentRequired': True, 'requestedDeparture': 'Wed, 05 Sep 2018 15...}]'\n",
    "    if x:\n",
    "        x = eval(x) # convert string to list\n",
    "        x = x[0] # get first and only entry in list (a dictionary)\n",
    "        return pd.Series(x) # convert dictionary to a series\n",
    "    else: # x is none\n",
    "        none_record = {'userID':None, \n",
    "                       'milesRequested':None,\n",
    "                       'WhPerMile':None,\n",
    "                       'minutesAvailable':None,\n",
    "                       'modifiedAt':None,\n",
    "                       'paymentRequired':None,\n",
    "                       'requestedDeparture':None,\n",
    "                       'kWhRequested':None\n",
    "                       }\n",
    "        return pd.Series(none_record)\n",
    "    \n",
    "def userinput_processing(df):\n",
    "    if 'userInputs' not in df.columns:\n",
    "        print(f'the column userInputs was not found in the dataframes columns. userinput processing skipped.')\n",
    "        return df\n",
    "    assert 'userInputs' in list(df.columns)\n",
    "    return pd.concat([df.drop(columns='userInputs'), df['userInputs'].apply(convert_userInputs)], axis=1)\n",
    "    "
   ],
   "metadata": {
    "collapsed": false
   },
   "id": "9dde6af9f2189de8"
  },
  {
   "cell_type": "code",
   "execution_count": null,
   "outputs": [],
   "source": [
    "df_ct = userinput_processing(df_ct)\n",
    "df_jpl = userinput_processing(df_jpl)\n",
    "df_of = userinput_processing(df_of)\n",
    "# df_ct = pd.concat([df_ct.drop(columns='userInputs'), df_ct['userInputs'].apply(convert_userInputs)], axis=1)\n"
   ],
   "metadata": {
    "collapsed": false
   },
   "id": "dc7694b602c4bd54"
  },
  {
   "cell_type": "markdown",
   "source": [
    "# Convert times\n",
    "Something is off about the time zone, so I made it utc to stop throwing errors. not my best idea but it works for now"
   ],
   "metadata": {
    "collapsed": false
   },
   "id": "426528afe0021e60"
  },
  {
   "cell_type": "code",
   "outputs": [],
   "source": [
    "def datetime_processing(df):\n",
    "    df['connectionTime'] = pd.to_datetime(df['connectionTime'], infer_datetime_format=True, utc=True, errors='coerce')\n",
    "    df['connectionTimeHour'] = df['connectionTime'].dt.hour\n",
    "    df['connectionTimeDay'] = df['connectionTime'].dt.day\n",
    "    df['disconnectTime'] = pd.to_datetime(df['disconnectTime'], infer_datetime_format=True, utc=True, errors='coerce')\n",
    "    df['disconnectTimeHour'] = df['disconnectTime'].dt.hour\n",
    "    df['disconnectTimeDay'] = df['disconnectTime'].dt.day\n",
    "    df['doneChargingTime'] = pd.to_datetime(df['doneChargingTime'], infer_datetime_format=True, utc=True, errors='coerce')\n",
    "    df['doneChargingTimeHour'] = df['doneChargingTime'].dt.hour\n",
    "    df['doneChargingTimeDay'] = df['doneChargingTime'].dt.day\n",
    "    return df"
   ],
   "metadata": {
    "collapsed": false
   },
   "id": "b0ae40147c27c89f",
   "execution_count": null
  },
  {
   "cell_type": "code",
   "outputs": [],
   "source": [
    "df_ct = datetime_processing(df_ct)\n",
    "df_jpl = datetime_processing(df_jpl)\n",
    "df_of = datetime_processing(df_of)"
   ],
   "metadata": {
    "collapsed": false
   },
   "id": "46789dc8856b9f95",
   "execution_count": null
  },
  {
   "cell_type": "code",
   "outputs": [],
   "source": [
    "df_ct.head()"
   ],
   "metadata": {
    "collapsed": false
   },
   "id": "9e92f49b88034d12",
   "execution_count": null
  },
  {
   "cell_type": "code",
   "outputs": [],
   "source": [
    "df_jpl.head()"
   ],
   "metadata": {
    "collapsed": false
   },
   "id": "43a7ded7f47d47f7",
   "execution_count": null
  },
  {
   "cell_type": "code",
   "outputs": [],
   "source": [
    "df_of.head()"
   ],
   "metadata": {
    "collapsed": false
   },
   "id": "2b8ee8447f48c6bd",
   "execution_count": null
  },
  {
   "cell_type": "code",
   "outputs": [],
   "source": [
    "n_bins = 24\n",
    "colors = ['red', 'tan', 'lime']\n",
    "fig, (ax0, ax1, ax2) = plt.subplots(figsize=(8,10), nrows=3, ncols=1)\n",
    "ax0.hist(df_ct['connectionTimeHour'], n_bins, histtype='bar', color=colors[0])\n",
    "ax1.hist(df_jpl['connectionTimeHour'], n_bins, histtype='bar', color=colors[1])\n",
    "ax2.hist(df_of['connectionTimeHour'], n_bins, histtype='bar', color=colors[2])\n",
    "ax0.set_title('Caltech Hourly Connection Time Distribution')\n",
    "ax0.xaxis.set_ticks(np.arange(0, 24, 1))\n",
    "ax0.set_xlabel(\"Hour of Day\")\n",
    "ax0.set_ylabel(\"Number of Connections\")\n",
    "ax1.set_title('JPL Hourly Connection Time Distribution')\n",
    "ax1.xaxis.set_ticks(np.arange(0, 24, 1))\n",
    "ax1.set_xlabel(\"Hour of Day\")\n",
    "ax1.set_ylabel(\"Number of Connections\")\n",
    "ax2.set_title('Office001 Hourly Connection Time Distribution')\n",
    "ax2.xaxis.set_ticks(np.arange(0, 24, 1))\n",
    "ax2.set_xlabel(\"Hour of Day\")\n",
    "ax2.set_ylabel(\"Number of Connections\")\n",
    "fig.tight_layout()\n",
    "plt.show()"
   ],
   "metadata": {
    "collapsed": false
   },
   "id": "b50169e0989c965c",
   "execution_count": null
  },
  {
   "cell_type": "code",
   "outputs": [],
   "source": [
    "n_bins = 7\n",
    "colors = ['red', 'tan', 'lime']\n",
    "fig, (ax0, ax1, ax2) = plt.subplots(figsize=(8,10), nrows=3, ncols=1)\n",
    "ax0.hist(df_ct['connectionTime'].dt.day_name(), n_bins, histtype='bar', color=colors[0])\n",
    "ax1.hist(df_jpl['connectionTime'].dt.day_name(), n_bins, histtype='bar', color=colors[1])\n",
    "ax2.hist(df_of['connectionTime'].dt.day_name(), n_bins, histtype='bar', color=colors[2])\n",
    "ax0.set_title('Caltech Weekly Connection Time Distribution')\n",
    "ax0.xaxis.set_ticks(np.arange(0, n_bins, 1))\n",
    "ax0.set_xlabel(\"Day of Week\")\n",
    "ax0.set_ylabel(\"Number of Connections\")\n",
    "ax1.set_title('JPL Weekly Connection Time Distribution')\n",
    "ax1.xaxis.set_ticks(np.arange(0, n_bins, 1))\n",
    "ax1.set_xlabel(\"Day of Week\")\n",
    "ax1.set_ylabel(\"Number of Connections\")\n",
    "ax2.set_title('Office001 Weekly Connection Time Distribution')\n",
    "ax2.xaxis.set_ticks(np.arange(0, n_bins, 1))\n",
    "ax2.set_xlabel(\"Day of Week\")\n",
    "ax2.set_ylabel(\"Number of Connections\")\n",
    "fig.tight_layout()\n",
    "plt.show()"
   ],
   "metadata": {
    "collapsed": false
   },
   "id": "4c2b373181e830b2",
   "execution_count": null
  },
  {
   "cell_type": "code",
   "outputs": [],
   "source": [
    "n_bins = 31\n",
    "colors = ['red', 'tan', 'lime']\n",
    "fig, (ax0, ax1, ax2) = plt.subplots(figsize=(8,10), nrows=3, ncols=1)\n",
    "ax0.hist(df_ct['connectionTimeDay'], n_bins, histtype='bar', color=colors[0])\n",
    "ax1.hist(df_jpl['connectionTimeDay'], n_bins, histtype='bar', color=colors[1])\n",
    "ax2.hist(df_of['connectionTimeDay'], n_bins, histtype='bar', color=colors[2])\n",
    "ax0.set_title('Caltech Monthly Connection Time Distribution')\n",
    "ax0.xaxis.set_ticks(np.arange(0, n_bins, 1))\n",
    "ax0.set_xlabel(\"Day\")\n",
    "ax0.set_ylabel(\"Number of Connections\")\n",
    "ax1.set_title('JPL Monthly Connection Time Distribution')\n",
    "ax1.xaxis.set_ticks(np.arange(0, n_bins, 1))\n",
    "ax1.set_xlabel(\"Day\")\n",
    "ax1.set_ylabel(\"Number of Connections\")\n",
    "ax2.set_title('Office001 Monthly Connection Time Distribution')\n",
    "ax2.xaxis.set_ticks(np.arange(0, n_bins, 1))\n",
    "ax2.set_xlabel(\"Day\")\n",
    "ax2.set_ylabel(\"Number of Connections\")\n",
    "fig.tight_layout()\n",
    "plt.show()"
   ],
   "metadata": {
    "collapsed": false
   },
   "id": "595be04199ffb576",
   "execution_count": null
  },
  {
   "cell_type": "code",
   "outputs": [],
   "source": [
    "n_bins = 12\n",
    "colors = ['red', 'tan', 'lime']\n",
    "fig, (ax0, ax1, ax2) = plt.subplots(figsize=(8,10), nrows=3, ncols=1)\n",
    "ax0.hist(df_ct['connectionTime'].dt.month, n_bins, histtype='bar', color=colors[0])\n",
    "ax1.hist(df_jpl['connectionTime'].dt.month, n_bins, histtype='bar', color=colors[1])\n",
    "ax2.hist(df_of['connectionTime'].dt.month, n_bins, histtype='bar', color=colors[2])\n",
    "ax0.set_title('Caltech Yearly Connection Time Distribution')\n",
    "ax0.xaxis.set_ticks(np.arange(0, n_bins, 1))\n",
    "ax0.set_xlabel(\"Month\")\n",
    "ax0.set_ylabel(\"Number of Connections\")\n",
    "ax1.set_title('JPL Yearly Connection Time Distribution')\n",
    "ax1.xaxis.set_ticks(np.arange(0, n_bins, 1))\n",
    "ax1.set_xlabel(\"Month\")\n",
    "ax1.set_ylabel(\"Number of Connections\")\n",
    "ax2.set_title('Office001 Yearly Connection Time Distribution')\n",
    "ax2.xaxis.set_ticks(np.arange(0, n_bins, 1))\n",
    "ax2.set_xlabel(\"Month\")\n",
    "ax2.set_ylabel(\"Number of Connections\")\n",
    "fig.tight_layout()\n",
    "plt.show()"
   ],
   "metadata": {
    "collapsed": false
   },
   "id": "4399186fa2b41df4",
   "execution_count": null
  },
  {
   "cell_type": "code",
   "outputs": [],
   "source": [
    "len(df_ct) + len(df_jpl) + len(df_of)"
   ],
   "metadata": {
    "collapsed": false
   },
   "id": "248b34e9ec568cfe",
   "execution_count": null
  },
  {
   "cell_type": "code",
   "outputs": [],
   "source": [
    "min(df_ct['connectionTime'].min(), df_jpl['connectionTime'].min(), df_of['connectionTime'].min())"
   ],
   "metadata": {
    "collapsed": false
   },
   "id": "1736e70b215289d8",
   "execution_count": null
  },
  {
   "cell_type": "code",
   "outputs": [],
   "source": [
    "max(df_ct['connectionTime'].max(), df_jpl['connectionTime'].max(), df_of['connectionTime'].max())"
   ],
   "metadata": {
    "collapsed": false
   },
   "id": "8777a0c301388aeb",
   "execution_count": null
  },
  {
   "cell_type": "code",
   "outputs": [],
   "source": [
    "# df_ct['connectionTime'].describe(datetime_is_numeric=True)"
   ],
   "metadata": {
    "collapsed": false
   },
   "id": "4ba3cefaa7a4b44b",
   "execution_count": null
  },
  {
   "cell_type": "code",
   "outputs": [],
   "source": [
    "# df_jpl['connectionTime'].describe(datetime_is_numeric=True)"
   ],
   "metadata": {
    "collapsed": false
   },
   "id": "44881b7a217b3a65",
   "execution_count": null
  },
  {
   "cell_type": "code",
   "outputs": [],
   "source": [
    "# df_of['connectionTime'].describe(datetime_is_numeric=True)"
   ],
   "metadata": {
    "collapsed": false
   },
   "id": "3a466e5638d5dd69",
   "execution_count": null
  },
  {
   "cell_type": "markdown",
   "source": [
    "# Number of Charges per User"
   ],
   "metadata": {
    "collapsed": false
   },
   "id": "a6c5744899d06c6a"
  },
  {
   "cell_type": "code",
   "outputs": [],
   "source": [
    "df_ct.userID.value_counts()"
   ],
   "metadata": {
    "collapsed": false
   },
   "id": "82ef296071fecd28",
   "execution_count": null
  },
  {
   "cell_type": "code",
   "outputs": [],
   "source": [
    "df_jpl.userID.value_counts()"
   ],
   "metadata": {
    "collapsed": false
   },
   "id": "acce6ea30532ac09",
   "execution_count": null
  },
  {
   "cell_type": "code",
   "outputs": [],
   "source": [
    "df_of.userID.value_counts()"
   ],
   "metadata": {
    "collapsed": false
   },
   "id": "e7f0047c55f75ded",
   "execution_count": null
  },
  {
   "cell_type": "code",
   "outputs": [],
   "source": [
    "print((set(df_ct.userID)) & (set(df_jpl.userID)) & (set(df_of.userID)))"
   ],
   "metadata": {
    "collapsed": false
   },
   "id": "28cbb2b6d5bc7f58",
   "execution_count": null
  },
  {
   "cell_type": "markdown",
   "source": [
    "# Distribution of Charges by Location"
   ],
   "metadata": {
    "collapsed": false
   },
   "id": "7a93f18e0a4a4aeb"
  },
  {
   "cell_type": "code",
   "outputs": [],
   "source": [
    "df_ct.groupby(df_ct.stationID).spaceID.value_counts()"
   ],
   "metadata": {
    "collapsed": false
   },
   "id": "d791a72910de6dcf",
   "execution_count": null
  },
  {
   "cell_type": "code",
   "outputs": [],
   "source": [
    "df_ct.groupby(df_ct.stationID).spaceID.value_counts().plot(kind='bar', figsize=(10,5))"
   ],
   "metadata": {
    "collapsed": false
   },
   "id": "8ce28948eeac007d",
   "execution_count": null
  },
  {
   "cell_type": "code",
   "outputs": [],
   "source": [
    "df_jpl.groupby(df_jpl.stationID).spaceID.value_counts()"
   ],
   "metadata": {
    "collapsed": false
   },
   "id": "8becccc52b012ac5",
   "execution_count": null
  },
  {
   "cell_type": "code",
   "outputs": [],
   "source": [
    "df_jpl.groupby(df_jpl.stationID).spaceID.value_counts().plot(kind='bar', figsize=(10,5))"
   ],
   "metadata": {
    "collapsed": false
   },
   "id": "beb25fe1537f9892",
   "execution_count": null
  },
  {
   "cell_type": "code",
   "outputs": [],
   "source": [
    "df_of.groupby(df_of.stationID).spaceID.value_counts()"
   ],
   "metadata": {
    "collapsed": false
   },
   "id": "f73021c1ae2e9588",
   "execution_count": null
  },
  {
   "cell_type": "code",
   "outputs": [],
   "source": [
    "df_of.groupby(df_of.stationID).spaceID.value_counts().plot(kind='bar', figsize=(10,5))"
   ],
   "metadata": {
    "collapsed": false
   },
   "id": "d9a573f516be887c",
   "execution_count": null
  },
  {
   "cell_type": "code",
   "execution_count": null,
   "outputs": [],
   "source": [
    "df_of.shape\n",
    "df_of.columns\n",
    "df_of.head()"
   ],
   "metadata": {
    "collapsed": false
   },
   "id": "d483014a033ea352"
  },
  {
   "cell_type": "markdown",
   "source": [
    "# Is_available\n",
    "this function determines if the charger was active or not during a time period"
   ],
   "metadata": {
    "collapsed": false
   },
   "id": "8f15e07b7c46cf8f"
  },
  {
   "cell_type": "code",
   "execution_count": null,
   "outputs": [],
   "source": [
    "df_of"
   ],
   "metadata": {
    "collapsed": false
   },
   "id": "eeb8ddb1b9ee10e1"
  },
  {
   "cell_type": "code",
   "execution_count": null,
   "outputs": [],
   "source": [
    "# df_jpl.head()\n",
    "tmp = df_of.copy()\n",
    "tmp.set_index('connectionTime', inplace=True)\n",
    "_filter = (tmp['spaceID'] == '02')\n",
    "tmp = tmp[_filter].sort_index()\n",
    "tmp = tmp.sort_index().loc['2019-03-20':'2019-04-01',:]\n",
    "tmp"
   ],
   "metadata": {
    "collapsed": false
   },
   "id": "614324e528c0f39e"
  },
  {
   "cell_type": "code",
   "execution_count": null,
   "outputs": [],
   "source": [
    "y = pd.DataFrame(index=pd.date_range('2019-03-25','2019-04-02', inclusive='both', freq='h', tz=0),columns=['is_available','sessionID'])\n",
    "y['is_available'] = 1"
   ],
   "metadata": {
    "collapsed": false
   },
   "id": "c090a327f29300b1"
  },
  {
   "cell_type": "code",
   "execution_count": null,
   "outputs": [],
   "source": [
    "# y['is_available']\n",
    "start_ = tmp.index[0]\n",
    "end_ = tmp.loc[start_,'disconnectTime'] \n",
    "session_ = tmp.loc[start_,'sessionID']\n",
    "print(start_, end_)\n",
    "pd.date_range(start_, end_, inclusive='both', freq='h', tz=0)\n",
    "y.loc[start_:end_,['is_available','sessionID']] = 0, session_"
   ],
   "metadata": {
    "collapsed": false
   },
   "id": "617fa1d2f3b304c4"
  },
  {
   "cell_type": "code",
   "execution_count": null,
   "outputs": [],
   "source": [
    "for i in range(len(tmp)):\n",
    "    start_ = tmp.index[i]\n",
    "    end_ = tmp.loc[start_,'disconnectTime'] \n",
    "    session_ = tmp.loc[start_,'sessionID']\n",
    "    print(start_,'\\t', end_,'\\t', session_)\n",
    "    y.loc[start_:end_,['is_available','sessionID']] = 0, session_\n",
    "    # y.loc[pd.date_range(start_, end_, inclusive='both', freq='h', tz=0),['is_available','sessionID']] = 0, session_"
   ],
   "metadata": {
    "collapsed": false
   },
   "id": "50e35a2a933edd0"
  },
  {
   "cell_type": "code",
   "execution_count": null,
   "outputs": [],
   "source": [
    "y[y['is_available'] == 0]\n",
    "y\n"
   ],
   "metadata": {
    "collapsed": false
   },
   "id": "9ddcba3dca0afba2"
  },
  {
   "cell_type": "code",
   "execution_count": null,
   "outputs": [],
   "source": [
    "plt.plot(y.index, y.is_available)\n",
    "plt.title('spaceid 02 availability in late march, 2019')\n",
    "plt.ylabel('available?')"
   ],
   "metadata": {
    "collapsed": false
   },
   "id": "afce73c2d792cda4"
  },
  {
   "cell_type": "code",
   "execution_count": null,
   "outputs": [],
   "source": [
    "plt.title('Sessions at space 02')\n",
    "plt.plot(y.index, y.is_available)\n",
    "groups = y.groupby('sessionID')\n",
    "for name, group in groups:\n",
    "    plt.plot(group.index, group['is_available'], marker='o', linestyle='', markersize=8, label=name)\n",
    "\n",
    "plt.xticks(rotation=75)\n",
    "plt.ylabel('available?')\n",
    "plt.legend()"
   ],
   "metadata": {
    "collapsed": false
   },
   "id": "bc4bca6bb16fef02"
  },
  {
   "cell_type": "markdown",
   "source": [
    "# Now by spaces"
   ],
   "metadata": {
    "collapsed": false
   },
   "id": "f61ea17300de0f07"
  },
  {
   "cell_type": "markdown",
   "source": [
    "# try spaceid as wide table "
   ],
   "metadata": {
    "collapsed": false
   },
   "id": "15b5d568d3cea9fb"
  },
  {
   "cell_type": "code",
   "execution_count": null,
   "outputs": [],
   "source": [
    "df_of.disconnectTime.max().date()"
   ],
   "metadata": {
    "collapsed": false
   },
   "id": "497c152064ce2179"
  },
  {
   "cell_type": "code",
   "execution_count": null,
   "outputs": [],
   "source": [
    "tmp = df_of.copy()\n",
    "tmp.set_index('connectionTime', inplace=True)\n",
    "start_date = '2019-03-20'; end_date = '2021-09-14'\n",
    "tmp = tmp.sort_index().loc[start_date:end_date,:]"
   ],
   "metadata": {
    "collapsed": false
   },
   "id": "1a381a66710a772a"
  },
  {
   "cell_type": "code",
   "execution_count": null,
   "outputs": [],
   "source": [
    "space_cols = tmp.spaceID.unique()\n",
    "space_cols = (list(space_cols.astype('str')))\n",
    "\n",
    "y = pd.DataFrame(index=pd.date_range(start_date,end_date, inclusive='both', freq='h', tz=0),columns=space_cols)\n",
    "y[space_cols] = 1\n"
   ],
   "metadata": {
    "collapsed": false
   },
   "id": "feeeccc06367feb5"
  },
  {
   "cell_type": "code",
   "execution_count": null,
   "outputs": [],
   "source": [
    "y.head()"
   ],
   "metadata": {
    "collapsed": false
   },
   "id": "65f4739c9d09af3f"
  },
  {
   "cell_type": "code",
   "execution_count": null,
   "outputs": [],
   "source": [
    "for i in range(len(tmp)):\n",
    "    start_ = tmp.index[i]\n",
    "    end_ = tmp.loc[start_,'disconnectTime'] \n",
    "    session_ = tmp.loc[start_,'sessionID']\n",
    "    space_ = tmp.loc[start_,'spaceID']\n",
    "    print(start_,'\\t', end_,'\\t', session_, '\\t', space_)\n",
    "    y.loc[start_:end_,space_] = 0"
   ],
   "metadata": {
    "collapsed": false
   },
   "id": "7361725378d0f78e"
  },
  {
   "cell_type": "code",
   "execution_count": null,
   "outputs": [],
   "source": [
    "fig, ax = plt.subplots(figsize=(12,4))\n",
    "for space_ in sorted(space_cols):\n",
    "    ax.plot(y.index, y[space_], label='space '+space_)\n",
    "# ax.plot(y.index, y['03'])\n",
    "ax.legend()\n"
   ],
   "metadata": {
    "collapsed": false
   },
   "id": "ad1a6b7a09ea0d6f"
  },
  {
   "cell_type": "code",
   "execution_count": null,
   "outputs": [],
   "source": [
    "y['percent_available'] = y.mean(axis=1)\n",
    "y"
   ],
   "metadata": {
    "collapsed": false
   },
   "id": "b0f7983c9861bdb3"
  },
  {
   "cell_type": "code",
   "execution_count": null,
   "outputs": [],
   "source": [
    "plt.figure(figsize=(10,6))\n",
    "plt.title('Charger availability in the office001')\n",
    "plt.plot(y.index, y.percent_available)\n",
    "plt.xlabel('date')\n",
    "plt.xticks(rotation=80)\n",
    "plt.ylabel('fraction of available spaces')\n",
    "plt.ylim([0,1.1])"
   ],
   "metadata": {
    "collapsed": false
   },
   "id": "f69d3c715676d018"
  },
  {
   "cell_type": "code",
   "execution_count": null,
   "outputs": [],
   "source": [
    "y['percent_full'] = 1- y['percent_available']\n",
    "plt.plot(y.index, y.percent_full, c='r')\n",
    "plt.title('the fullness of the lot')\n",
    "plt.ylim([0,1.05])"
   ],
   "metadata": {
    "collapsed": false
   },
   "id": "f8ef89189da33080"
  },
  {
   "cell_type": "code",
   "execution_count": null,
   "outputs": [],
   "source": [],
   "metadata": {
    "collapsed": false
   },
   "id": "145c37600a608f50"
  },
  {
   "cell_type": "code",
   "execution_count": null,
   "outputs": [],
   "source": [
    "from pandas.tseries.holiday import USFederalHolidayCalendar as calendar\n",
    "def holiday_processing(df):\n",
    "    assert 'connectionTime' in df.columns\n",
    "    cal = calendar()\n",
    "    holidays = cal.holidays(start=df['connectionTime'].min().date(), end=df['connectionTime'].max().date())\n",
    "    df['is_holiday'] = df['connectionTime'].isin(holidays)\n",
    "    return df"
   ],
   "metadata": {
    "collapsed": false
   },
   "id": "99baafd5180037e3"
  },
  {
   "cell_type": "markdown",
   "id": "2a20e19f-506d-4af7-a951-1445581729bc",
   "metadata": {},
   "source": [
    "# 1. Define key metrics\n",
    "Total charges | 66393\n",
    "What is the date range of charges | 5-1-2018 to 9-13-2021\n",
    "How many unique cars are there?\n",
    "What are the locations of charging\n",
    "What is the distribution of charges over time\n",
    "What is the distribution of charges over the hours of a day\n",
    "What is the distribution of charges by vehicle\n",
    "What is the distribution of charges over location\n",
    "Is the rate of charging the same for a vehicle\n",
    "Does the energy of daily charging change over time\n",
    "Do the number of charges change over time\n",
    "whats the probability of being available for each charger?\n",
    "what's the multinomial distribution of charger availability for each location (ie whats the probaility 0 are full, 1 is full, 2 are full. ..etc) assume a bernouli random trial for each location"
   ]
  },
  {
   "cell_type": "code",
   "execution_count": null,
   "outputs": [],
   "source": [],
   "metadata": {
    "collapsed": false
   },
   "id": "ec40b287cc1a130e"
  },
  {
   "cell_type": "code",
   "execution_count": null,
   "outputs": [],
   "source": [],
   "metadata": {
    "collapsed": false
   },
   "id": "13b1548d027817ed"
  }
 ],
 "metadata": {
  "kernelspec": {
   "display_name": "Python 3 (ipykernel)",
   "language": "python",
   "name": "python3"
  },
  "language_info": {
   "codemirror_mode": {
    "name": "ipython",
    "version": 3
   },
   "file_extension": ".py",
   "mimetype": "text/x-python",
   "name": "python",
   "nbconvert_exporter": "python",
   "pygments_lexer": "ipython3",
   "version": "3.10.13"
  }
 },
 "nbformat": 4,
 "nbformat_minor": 5
}
