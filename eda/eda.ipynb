{
 "cells": [
  {
   "cell_type": "markdown",
   "id": "604f51dd-dccd-4cee-855c-bc3d59858faf",
   "metadata": {},
   "source": [
    "# EDA (Denny's)\n",
    "The goal of this notebook is to investigate the data. We can answer the following questions\n",
    "\n",
    "0. Load data and imports\n",
    "1. Define key metrics\n",
    "2. perform eda\n",
    "3. what data is available\n",
    "4. visualize the data"
   ]
  },
  {
   "cell_type": "markdown",
   "id": "55875faa-9d42-4d3f-98f3-a5d1a448adec",
   "metadata": {},
   "source": [
    "# 0. Load data and imports"
   ]
  },
  {
   "cell_type": "code",
   "execution_count": 1,
   "id": "f6ad4ccc-fb38-4e30-af00-f2050020db98",
   "metadata": {
    "ExecuteTime": {
     "end_time": "2024-02-14T06:14:07.390130444Z",
     "start_time": "2024-02-14T06:14:07.382948970Z"
    }
   },
   "outputs": [],
   "source": [
    "import pandas as pd\n",
    "import numpy as np\n",
    "import matplotlib.pyplot as plt\n",
    "import seaborn as sns\n",
    "import os\n"
   ]
  },
  {
   "cell_type": "code",
   "execution_count": 2,
   "id": "7b1cd174-37e9-4a5e-b46f-ba17fa0a7c76",
   "metadata": {
    "ExecuteTime": {
     "end_time": "2024-02-14T06:14:08.525921701Z",
     "start_time": "2024-02-14T06:14:08.515282289Z"
    }
   },
   "outputs": [
    {
     "data": {
      "text/plain": "'/home/denny/Documents/mids/ev_charging'"
     },
     "execution_count": 2,
     "metadata": {},
     "output_type": "execute_result"
    }
   ],
   "source": [
    "os.chdir('..')\n",
    "os.getcwd()"
   ]
  },
  {
   "cell_type": "code",
   "execution_count": 3,
   "id": "59e2bcaf-cae3-45c4-8c20-1ca43cf2d935",
   "metadata": {
    "ExecuteTime": {
     "end_time": "2024-02-14T06:14:09.187481094Z",
     "start_time": "2024-02-14T06:14:09.176684583Z"
    }
   },
   "outputs": [
    {
     "name": "stdout",
     "output_type": "stream",
     "text": [
      "/home/denny/Documents/mids/ev_charging\n"
     ]
    }
   ],
   "source": [
    "HOME_PATH = os.getcwd()\n",
    "print(HOME_PATH)"
   ]
  },
  {
   "cell_type": "code",
   "execution_count": 22,
   "outputs": [
    {
     "data": {
      "text/plain": "(33587, 12)"
     },
     "execution_count": 22,
     "metadata": {},
     "output_type": "execute_result"
    }
   ],
   "source": [
    "# get dataframes by reading all parquet files in a directory\n",
    "# https://stackoverflow.com/a/66104513\n",
    "df = pd.read_parquet('data/ACN-API/jpl/')\n",
    "df.shape"
   ],
   "metadata": {
    "collapsed": false,
    "ExecuteTime": {
     "end_time": "2024-02-14T07:11:31.359088448Z",
     "start_time": "2024-02-14T07:11:31.074146665Z"
    }
   },
   "id": "6616e8bab7b96ee9"
  },
  {
   "cell_type": "code",
   "execution_count": 36,
   "outputs": [
    {
     "data": {
      "text/plain": "                        _id  \\\n0  5c36621bf9af8b4639a8e0b4   \n1  5c36621bf9af8b4639a8e0b5   \n2  5c36621bf9af8b4639a8e0b6   \n3  5c36621bf9af8b4639a8e0b7   \n4  5c36621bf9af8b4639a8e0b8   \n\n                                          userInputs  \\\n0                                               None   \n1  [{'userID': 333, 'milesRequested': 20, 'WhPerM...   \n2  [{'userID': 371, 'milesRequested': 20, 'WhPerM...   \n3  [{'userID': 405, 'milesRequested': 20, 'WhPerM...   \n4  [{'userID': 368, 'milesRequested': 20, 'WhPerM...   \n\n                                sessionID    stationID  spaceID  siteID  \\\n0  1_1_179_800_2018-09-05 11:04:12.876087  1-1-179-800  AG-3F32       1   \n1  1_1_179_794_2018-09-05 11:08:08.945820  1-1-179-794  AG-3F20       1   \n2  1_1_179_797_2018-09-05 12:35:14.070250  1-1-179-797  AG-3F23       1   \n3  1_1_179_781_2018-09-05 12:51:31.050539  1-1-179-781  AG-3F31       1   \n4  1_1_179_787_2018-09-05 13:08:27.901538  1-1-179-787  AG-3F16       1   \n\n   clusterID             connectionTime             disconnectTime  \\\n0          1  2018-09-05 04:04:13-07:00  2018-09-05 12:09:35-07:00   \n1          1  2018-09-05 04:08:09-07:00  2018-09-05 07:09:02-07:00   \n2          1  2018-09-05 05:35:14-07:00  2018-09-05 17:30:12-07:00   \n3          1  2018-09-05 05:51:31-07:00  2018-09-05 15:32:58-07:00   \n4          1  2018-09-05 06:08:28-07:00  2018-09-05 16:32:52-07:00   \n\n   kWhDelivered doneChargingTime     userID  \n0         9.583             None       None  \n1         7.114             None  000000333  \n2        11.774             None  000000371  \n3         6.280             None  000000405  \n4         7.022             None  000000368  ",
      "text/html": "<div>\n<style scoped>\n    .dataframe tbody tr th:only-of-type {\n        vertical-align: middle;\n    }\n\n    .dataframe tbody tr th {\n        vertical-align: top;\n    }\n\n    .dataframe thead th {\n        text-align: right;\n    }\n</style>\n<table border=\"1\" class=\"dataframe\">\n  <thead>\n    <tr style=\"text-align: right;\">\n      <th></th>\n      <th>_id</th>\n      <th>userInputs</th>\n      <th>sessionID</th>\n      <th>stationID</th>\n      <th>spaceID</th>\n      <th>siteID</th>\n      <th>clusterID</th>\n      <th>connectionTime</th>\n      <th>disconnectTime</th>\n      <th>kWhDelivered</th>\n      <th>doneChargingTime</th>\n      <th>userID</th>\n    </tr>\n  </thead>\n  <tbody>\n    <tr>\n      <th>0</th>\n      <td>5c36621bf9af8b4639a8e0b4</td>\n      <td>None</td>\n      <td>1_1_179_800_2018-09-05 11:04:12.876087</td>\n      <td>1-1-179-800</td>\n      <td>AG-3F32</td>\n      <td>1</td>\n      <td>1</td>\n      <td>2018-09-05 04:04:13-07:00</td>\n      <td>2018-09-05 12:09:35-07:00</td>\n      <td>9.583</td>\n      <td>None</td>\n      <td>None</td>\n    </tr>\n    <tr>\n      <th>1</th>\n      <td>5c36621bf9af8b4639a8e0b5</td>\n      <td>[{'userID': 333, 'milesRequested': 20, 'WhPerM...</td>\n      <td>1_1_179_794_2018-09-05 11:08:08.945820</td>\n      <td>1-1-179-794</td>\n      <td>AG-3F20</td>\n      <td>1</td>\n      <td>1</td>\n      <td>2018-09-05 04:08:09-07:00</td>\n      <td>2018-09-05 07:09:02-07:00</td>\n      <td>7.114</td>\n      <td>None</td>\n      <td>000000333</td>\n    </tr>\n    <tr>\n      <th>2</th>\n      <td>5c36621bf9af8b4639a8e0b6</td>\n      <td>[{'userID': 371, 'milesRequested': 20, 'WhPerM...</td>\n      <td>1_1_179_797_2018-09-05 12:35:14.070250</td>\n      <td>1-1-179-797</td>\n      <td>AG-3F23</td>\n      <td>1</td>\n      <td>1</td>\n      <td>2018-09-05 05:35:14-07:00</td>\n      <td>2018-09-05 17:30:12-07:00</td>\n      <td>11.774</td>\n      <td>None</td>\n      <td>000000371</td>\n    </tr>\n    <tr>\n      <th>3</th>\n      <td>5c36621bf9af8b4639a8e0b7</td>\n      <td>[{'userID': 405, 'milesRequested': 20, 'WhPerM...</td>\n      <td>1_1_179_781_2018-09-05 12:51:31.050539</td>\n      <td>1-1-179-781</td>\n      <td>AG-3F31</td>\n      <td>1</td>\n      <td>1</td>\n      <td>2018-09-05 05:51:31-07:00</td>\n      <td>2018-09-05 15:32:58-07:00</td>\n      <td>6.280</td>\n      <td>None</td>\n      <td>000000405</td>\n    </tr>\n    <tr>\n      <th>4</th>\n      <td>5c36621bf9af8b4639a8e0b8</td>\n      <td>[{'userID': 368, 'milesRequested': 20, 'WhPerM...</td>\n      <td>1_1_179_787_2018-09-05 13:08:27.901538</td>\n      <td>1-1-179-787</td>\n      <td>AG-3F16</td>\n      <td>1</td>\n      <td>1</td>\n      <td>2018-09-05 06:08:28-07:00</td>\n      <td>2018-09-05 16:32:52-07:00</td>\n      <td>7.022</td>\n      <td>None</td>\n      <td>000000368</td>\n    </tr>\n  </tbody>\n</table>\n</div>"
     },
     "execution_count": 36,
     "metadata": {},
     "output_type": "execute_result"
    }
   ],
   "source": [
    "df.reset_index(drop=True, inplace=True)\n",
    "df.head()"
   ],
   "metadata": {
    "collapsed": false,
    "ExecuteTime": {
     "end_time": "2024-02-14T07:15:34.422700527Z",
     "start_time": "2024-02-14T07:15:34.413552415Z"
    }
   },
   "id": "fde803690658a17e"
  },
  {
   "cell_type": "code",
   "execution_count": 39,
   "outputs": [
    {
     "data": {
      "text/plain": "                            _id  \\\n0      5c36621bf9af8b4639a8e0b4   \n1      5c36621bf9af8b4639a8e0b5   \n2      5c36621bf9af8b4639a8e0b6   \n3      5c36621bf9af8b4639a8e0b7   \n4      5c36621bf9af8b4639a8e0b8   \n...                         ...   \n33582  5c53a175f9af8b6d3610f46e   \n33583  5c53a175f9af8b6d3610f46f   \n33584  5c53a175f9af8b6d3610f470   \n33585  5c53a175f9af8b6d3610f471   \n33586  5c53a175f9af8b6d3610f472   \n\n                                              userInputs  \\\n0                                                   None   \n1      [{'userID': 333, 'milesRequested': 20, 'WhPerM...   \n2      [{'userID': 371, 'milesRequested': 20, 'WhPerM...   \n3      [{'userID': 405, 'milesRequested': 20, 'WhPerM...   \n4      [{'userID': 368, 'milesRequested': 20, 'WhPerM...   \n...                                                  ...   \n33582  [{'userID': 1281, 'milesRequested': 250, 'WhPe...   \n33583  [{'userID': 423, 'milesRequested': 100, 'WhPer...   \n33584  [{'userID': 382, 'milesRequested': 40, 'WhPerM...   \n33585  [{'userID': 1627, 'milesRequested': 20, 'WhPer...   \n33586  [{'userID': 526, 'milesRequested': 60, 'WhPerM...   \n\n                                    sessionID    stationID  spaceID  siteID  \\\n0      1_1_179_800_2018-09-05 11:04:12.876087  1-1-179-800  AG-3F32       1   \n1      1_1_179_794_2018-09-05 11:08:08.945820  1-1-179-794  AG-3F20       1   \n2      1_1_179_797_2018-09-05 12:35:14.070250  1-1-179-797  AG-3F23       1   \n3      1_1_179_781_2018-09-05 12:51:31.050539  1-1-179-781  AG-3F31       1   \n4      1_1_179_787_2018-09-05 13:08:27.901538  1-1-179-787  AG-3F16       1   \n...                                       ...          ...      ...     ...   \n33582  1_1_191_793_2019-01-15 15:24:35.215349  1-1-191-793  AG-4F38       1   \n33583  1_1_179_779_2019-01-15 15:27:07.899402  1-1-179-779  AG-3F17       1   \n33584  1_1_191_782_2019-01-15 15:27:53.128295  1-1-191-782  AG-4F50       1   \n33585  1_1_191_807_2019-01-15 15:29:22.113643  1-1-191-807  AG-4F47       1   \n33586  1_1_191_812_2019-01-15 15:31:44.928846  1-1-191-812  AG-4F46       1   \n\n       clusterID             connectionTime             disconnectTime  \\\n0              1  2018-09-05 04:04:13-07:00  2018-09-05 12:09:35-07:00   \n1              1  2018-09-05 04:08:09-07:00  2018-09-05 07:09:02-07:00   \n2              1  2018-09-05 05:35:14-07:00  2018-09-05 17:30:12-07:00   \n3              1  2018-09-05 05:51:31-07:00  2018-09-05 15:32:58-07:00   \n4              1  2018-09-05 06:08:28-07:00  2018-09-05 16:32:52-07:00   \n...          ...                        ...                        ...   \n33582          1  2019-01-15 07:24:35-08:00  2019-01-15 16:01:48-08:00   \n33583          1  2019-01-15 07:27:08-08:00  2019-01-15 18:59:27-08:00   \n33584          1  2019-01-15 07:27:53-08:00  2019-01-15 09:34:43-08:00   \n33585          1  2019-01-15 07:29:22-08:00  2019-01-15 19:12:15-08:00   \n33586          1  2019-01-15 07:31:45-08:00  2019-01-15 17:09:15-08:00   \n\n       kWhDelivered           doneChargingTime     userID  \n0             9.583                       None       None  \n1             7.114                       None  000000333  \n2            11.774                       None  000000371  \n3             6.280                       None  000000405  \n4             7.022                       None  000000368  \n...             ...                        ...        ...  \n33582        51.575  2019-01-15 15:41:42-08:00  000001281  \n33583        35.126  2019-01-15 13:32:49-08:00  000000423  \n33584         6.295  2019-01-15 09:34:38-08:00  000000382  \n33585         6.911  2019-01-15 11:59:21-08:00  000001627  \n33586         4.786  2019-01-15 08:30:04-08:00  000000526  \n\n[33587 rows x 12 columns]",
      "text/html": "<div>\n<style scoped>\n    .dataframe tbody tr th:only-of-type {\n        vertical-align: middle;\n    }\n\n    .dataframe tbody tr th {\n        vertical-align: top;\n    }\n\n    .dataframe thead th {\n        text-align: right;\n    }\n</style>\n<table border=\"1\" class=\"dataframe\">\n  <thead>\n    <tr style=\"text-align: right;\">\n      <th></th>\n      <th>_id</th>\n      <th>userInputs</th>\n      <th>sessionID</th>\n      <th>stationID</th>\n      <th>spaceID</th>\n      <th>siteID</th>\n      <th>clusterID</th>\n      <th>connectionTime</th>\n      <th>disconnectTime</th>\n      <th>kWhDelivered</th>\n      <th>doneChargingTime</th>\n      <th>userID</th>\n    </tr>\n  </thead>\n  <tbody>\n    <tr>\n      <th>0</th>\n      <td>5c36621bf9af8b4639a8e0b4</td>\n      <td>None</td>\n      <td>1_1_179_800_2018-09-05 11:04:12.876087</td>\n      <td>1-1-179-800</td>\n      <td>AG-3F32</td>\n      <td>1</td>\n      <td>1</td>\n      <td>2018-09-05 04:04:13-07:00</td>\n      <td>2018-09-05 12:09:35-07:00</td>\n      <td>9.583</td>\n      <td>None</td>\n      <td>None</td>\n    </tr>\n    <tr>\n      <th>1</th>\n      <td>5c36621bf9af8b4639a8e0b5</td>\n      <td>[{'userID': 333, 'milesRequested': 20, 'WhPerM...</td>\n      <td>1_1_179_794_2018-09-05 11:08:08.945820</td>\n      <td>1-1-179-794</td>\n      <td>AG-3F20</td>\n      <td>1</td>\n      <td>1</td>\n      <td>2018-09-05 04:08:09-07:00</td>\n      <td>2018-09-05 07:09:02-07:00</td>\n      <td>7.114</td>\n      <td>None</td>\n      <td>000000333</td>\n    </tr>\n    <tr>\n      <th>2</th>\n      <td>5c36621bf9af8b4639a8e0b6</td>\n      <td>[{'userID': 371, 'milesRequested': 20, 'WhPerM...</td>\n      <td>1_1_179_797_2018-09-05 12:35:14.070250</td>\n      <td>1-1-179-797</td>\n      <td>AG-3F23</td>\n      <td>1</td>\n      <td>1</td>\n      <td>2018-09-05 05:35:14-07:00</td>\n      <td>2018-09-05 17:30:12-07:00</td>\n      <td>11.774</td>\n      <td>None</td>\n      <td>000000371</td>\n    </tr>\n    <tr>\n      <th>3</th>\n      <td>5c36621bf9af8b4639a8e0b7</td>\n      <td>[{'userID': 405, 'milesRequested': 20, 'WhPerM...</td>\n      <td>1_1_179_781_2018-09-05 12:51:31.050539</td>\n      <td>1-1-179-781</td>\n      <td>AG-3F31</td>\n      <td>1</td>\n      <td>1</td>\n      <td>2018-09-05 05:51:31-07:00</td>\n      <td>2018-09-05 15:32:58-07:00</td>\n      <td>6.280</td>\n      <td>None</td>\n      <td>000000405</td>\n    </tr>\n    <tr>\n      <th>4</th>\n      <td>5c36621bf9af8b4639a8e0b8</td>\n      <td>[{'userID': 368, 'milesRequested': 20, 'WhPerM...</td>\n      <td>1_1_179_787_2018-09-05 13:08:27.901538</td>\n      <td>1-1-179-787</td>\n      <td>AG-3F16</td>\n      <td>1</td>\n      <td>1</td>\n      <td>2018-09-05 06:08:28-07:00</td>\n      <td>2018-09-05 16:32:52-07:00</td>\n      <td>7.022</td>\n      <td>None</td>\n      <td>000000368</td>\n    </tr>\n    <tr>\n      <th>...</th>\n      <td>...</td>\n      <td>...</td>\n      <td>...</td>\n      <td>...</td>\n      <td>...</td>\n      <td>...</td>\n      <td>...</td>\n      <td>...</td>\n      <td>...</td>\n      <td>...</td>\n      <td>...</td>\n      <td>...</td>\n    </tr>\n    <tr>\n      <th>33582</th>\n      <td>5c53a175f9af8b6d3610f46e</td>\n      <td>[{'userID': 1281, 'milesRequested': 250, 'WhPe...</td>\n      <td>1_1_191_793_2019-01-15 15:24:35.215349</td>\n      <td>1-1-191-793</td>\n      <td>AG-4F38</td>\n      <td>1</td>\n      <td>1</td>\n      <td>2019-01-15 07:24:35-08:00</td>\n      <td>2019-01-15 16:01:48-08:00</td>\n      <td>51.575</td>\n      <td>2019-01-15 15:41:42-08:00</td>\n      <td>000001281</td>\n    </tr>\n    <tr>\n      <th>33583</th>\n      <td>5c53a175f9af8b6d3610f46f</td>\n      <td>[{'userID': 423, 'milesRequested': 100, 'WhPer...</td>\n      <td>1_1_179_779_2019-01-15 15:27:07.899402</td>\n      <td>1-1-179-779</td>\n      <td>AG-3F17</td>\n      <td>1</td>\n      <td>1</td>\n      <td>2019-01-15 07:27:08-08:00</td>\n      <td>2019-01-15 18:59:27-08:00</td>\n      <td>35.126</td>\n      <td>2019-01-15 13:32:49-08:00</td>\n      <td>000000423</td>\n    </tr>\n    <tr>\n      <th>33584</th>\n      <td>5c53a175f9af8b6d3610f470</td>\n      <td>[{'userID': 382, 'milesRequested': 40, 'WhPerM...</td>\n      <td>1_1_191_782_2019-01-15 15:27:53.128295</td>\n      <td>1-1-191-782</td>\n      <td>AG-4F50</td>\n      <td>1</td>\n      <td>1</td>\n      <td>2019-01-15 07:27:53-08:00</td>\n      <td>2019-01-15 09:34:43-08:00</td>\n      <td>6.295</td>\n      <td>2019-01-15 09:34:38-08:00</td>\n      <td>000000382</td>\n    </tr>\n    <tr>\n      <th>33585</th>\n      <td>5c53a175f9af8b6d3610f471</td>\n      <td>[{'userID': 1627, 'milesRequested': 20, 'WhPer...</td>\n      <td>1_1_191_807_2019-01-15 15:29:22.113643</td>\n      <td>1-1-191-807</td>\n      <td>AG-4F47</td>\n      <td>1</td>\n      <td>1</td>\n      <td>2019-01-15 07:29:22-08:00</td>\n      <td>2019-01-15 19:12:15-08:00</td>\n      <td>6.911</td>\n      <td>2019-01-15 11:59:21-08:00</td>\n      <td>000001627</td>\n    </tr>\n    <tr>\n      <th>33586</th>\n      <td>5c53a175f9af8b6d3610f472</td>\n      <td>[{'userID': 526, 'milesRequested': 60, 'WhPerM...</td>\n      <td>1_1_191_812_2019-01-15 15:31:44.928846</td>\n      <td>1-1-191-812</td>\n      <td>AG-4F46</td>\n      <td>1</td>\n      <td>1</td>\n      <td>2019-01-15 07:31:45-08:00</td>\n      <td>2019-01-15 17:09:15-08:00</td>\n      <td>4.786</td>\n      <td>2019-01-15 08:30:04-08:00</td>\n      <td>000000526</td>\n    </tr>\n  </tbody>\n</table>\n<p>33587 rows × 12 columns</p>\n</div>"
     },
     "execution_count": 39,
     "metadata": {},
     "output_type": "execute_result"
    }
   ],
   "source": [
    "df"
   ],
   "metadata": {
    "collapsed": false,
    "ExecuteTime": {
     "end_time": "2024-02-14T07:16:19.892940044Z",
     "start_time": "2024-02-14T07:16:19.877050736Z"
    }
   },
   "id": "f3ee5e8005bee836"
  },
  {
   "cell_type": "markdown",
   "source": [
    "# Convert times\n",
    "Something is off about the time zone, so I made it utc to stop throwing errors. not my best idea but it works for now"
   ],
   "metadata": {
    "collapsed": false
   },
   "id": "426528afe0021e60"
  },
  {
   "cell_type": "code",
   "execution_count": 44,
   "outputs": [
    {
     "name": "stdout",
     "output_type": "stream",
     "text": [
      "<class 'pandas.core.frame.DataFrame'>\n",
      "RangeIndex: 33587 entries, 0 to 33586\n",
      "Data columns (total 12 columns):\n",
      " #   Column            Non-Null Count  Dtype              \n",
      "---  ------            --------------  -----              \n",
      " 0   _id               33587 non-null  object             \n",
      " 1   userInputs        31410 non-null  object             \n",
      " 2   sessionID         33587 non-null  object             \n",
      " 3   stationID         33587 non-null  object             \n",
      " 4   spaceID           33587 non-null  object             \n",
      " 5   siteID            33587 non-null  int64              \n",
      " 6   clusterID         33587 non-null  int64              \n",
      " 7   connectionTime    33587 non-null  datetime64[ns, UTC]\n",
      " 8   disconnectTime    33587 non-null  datetime64[ns, UTC]\n",
      " 9   kWhDelivered      33587 non-null  float64            \n",
      " 10  doneChargingTime  31550 non-null  datetime64[ns, UTC]\n",
      " 11  userID            31410 non-null  object             \n",
      "dtypes: datetime64[ns, UTC](3), float64(1), int64(2), object(6)\n",
      "memory usage: 3.1+ MB\n"
     ]
    }
   ],
   "source": [
    "df['connectionTime'] = pd.to_datetime(df.loc[:,'connectionTime'], utc=True, errors='coerce')\n",
    "df['disconnectTime'] = pd.to_datetime(df.loc[:,'disconnectTime'], utc=True, errors='coerce')\n",
    "df['doneChargingTime'] = pd.to_datetime(df.loc[:,'doneChargingTime'], utc=True, errors='coerce')\n",
    "df.info()\n",
    "# df.loc[0,:]"
   ],
   "metadata": {
    "collapsed": false,
    "ExecuteTime": {
     "end_time": "2024-02-14T07:19:34.878569819Z",
     "start_time": "2024-02-14T07:19:34.777495875Z"
    }
   },
   "id": "46e43897fdda3cc8"
  },
  {
   "cell_type": "markdown",
   "source": [
    "# Convert User Inputs\n",
    "process taken from here:\n",
    "\n",
    "https://stackoverflow.com/a/41970572"
   ],
   "metadata": {
    "collapsed": false
   },
   "id": "9f384b9da6b92844"
  },
  {
   "cell_type": "code",
   "execution_count": 90,
   "outputs": [
    {
     "data": {
      "text/plain": "0                                                 None\n1    [{'userID': 333, 'milesRequested': 20, 'WhPerM...\n2    [{'userID': 371, 'milesRequested': 20, 'WhPerM...\n3    [{'userID': 405, 'milesRequested': 20, 'WhPerM...\n4    [{'userID': 368, 'milesRequested': 20, 'WhPerM...\nName: userInputs, dtype: object"
     },
     "execution_count": 90,
     "metadata": {},
     "output_type": "execute_result"
    }
   ],
   "source": [
    "df['userInputs'].head()"
   ],
   "metadata": {
    "collapsed": false,
    "ExecuteTime": {
     "end_time": "2024-02-14T07:42:37.469599494Z",
     "start_time": "2024-02-14T07:42:37.428084845Z"
    }
   },
   "id": "fcc8df7882c7e5cb"
  },
  {
   "cell_type": "code",
   "execution_count": 80,
   "outputs": [
    {
     "data": {
      "text/plain": "   userID  milesRequested  WhPerMile  minutesAvailable  \\\n1     333              20        400               277   \n2     371              20        400                60   \n3     405              20        600               583   \n\n                      modifiedAt  paymentRequired  \\\n1  Wed, 05 Sep 2018 11:08:31 GMT             True   \n2  Wed, 05 Sep 2018 12:35:16 GMT             True   \n3  Wed, 05 Sep 2018 12:52:29 GMT             True   \n\n              requestedDeparture  kWhRequested  \n1  Wed, 05 Sep 2018 15:45:09 GMT           8.0  \n2  Wed, 05 Sep 2018 13:35:14 GMT           8.0  \n3  Wed, 05 Sep 2018 22:34:31 GMT          12.0  ",
      "text/html": "<div>\n<style scoped>\n    .dataframe tbody tr th:only-of-type {\n        vertical-align: middle;\n    }\n\n    .dataframe tbody tr th {\n        vertical-align: top;\n    }\n\n    .dataframe thead th {\n        text-align: right;\n    }\n</style>\n<table border=\"1\" class=\"dataframe\">\n  <thead>\n    <tr style=\"text-align: right;\">\n      <th></th>\n      <th>userID</th>\n      <th>milesRequested</th>\n      <th>WhPerMile</th>\n      <th>minutesAvailable</th>\n      <th>modifiedAt</th>\n      <th>paymentRequired</th>\n      <th>requestedDeparture</th>\n      <th>kWhRequested</th>\n    </tr>\n  </thead>\n  <tbody>\n    <tr>\n      <th>1</th>\n      <td>333</td>\n      <td>20</td>\n      <td>400</td>\n      <td>277</td>\n      <td>Wed, 05 Sep 2018 11:08:31 GMT</td>\n      <td>True</td>\n      <td>Wed, 05 Sep 2018 15:45:09 GMT</td>\n      <td>8.0</td>\n    </tr>\n    <tr>\n      <th>2</th>\n      <td>371</td>\n      <td>20</td>\n      <td>400</td>\n      <td>60</td>\n      <td>Wed, 05 Sep 2018 12:35:16 GMT</td>\n      <td>True</td>\n      <td>Wed, 05 Sep 2018 13:35:14 GMT</td>\n      <td>8.0</td>\n    </tr>\n    <tr>\n      <th>3</th>\n      <td>405</td>\n      <td>20</td>\n      <td>600</td>\n      <td>583</td>\n      <td>Wed, 05 Sep 2018 12:52:29 GMT</td>\n      <td>True</td>\n      <td>Wed, 05 Sep 2018 22:34:31 GMT</td>\n      <td>12.0</td>\n    </tr>\n  </tbody>\n</table>\n</div>"
     },
     "execution_count": 80,
     "metadata": {},
     "output_type": "execute_result"
    }
   ],
   "source": [
    "df['userInputs'].head()\n",
    "df.loc[1:3,'userInputs'].apply(eval).apply(lambda x: x[0]).loc[1:3].apply(pd.Series)"
   ],
   "metadata": {
    "collapsed": false,
    "ExecuteTime": {
     "end_time": "2024-02-14T07:34:53.227197389Z",
     "start_time": "2024-02-14T07:34:53.221772896Z"
    }
   },
   "id": "1727055211dbd6a"
  },
  {
   "cell_type": "code",
   "execution_count": 92,
   "outputs": [],
   "source": [
    "def convert_userInputs(x):\n",
    "    \"\"\"could do try except block instead\"\"\"\n",
    "    # x is a string of a list of dictionaries, like this\n",
    "    # '[{'userID': 333, 'milesRequested': 20, 'WhPerMile': 400, 'minutesAvailable': 277, 'modifiedAt': 'Wed, 05 Sep 2018 11:08:31 GMT', 'paymentRequired': True, 'requestedDeparture': 'Wed, 05 Sep 2018 15...}]'\n",
    "    if x:\n",
    "        x = eval(x) # convert string to list\n",
    "        x = x[0] # get first and only entry in list (a dictionary)\n",
    "        return pd.Series(x) # convert dictionary to a series\n",
    "    else: # x is none\n",
    "        none_record = {'userID':None, \n",
    "                       'milesRequested':None,\n",
    "                       'WhPerMile':None,\n",
    "                       'minutesAvailable':None,\n",
    "                       'modifiedAt':None,\n",
    "                       'paymentRequired':None,\n",
    "                       'requestedDeparture':None,\n",
    "                       'kWhRequested':None\n",
    "                       }\n",
    "        return pd.Series(none_record)"
   ],
   "metadata": {
    "collapsed": false,
    "ExecuteTime": {
     "end_time": "2024-02-14T07:43:20.487909177Z",
     "start_time": "2024-02-14T07:43:20.440197541Z"
    }
   },
   "id": "53585d918f82b7ea"
  },
  {
   "cell_type": "code",
   "execution_count": 91,
   "outputs": [
    {
     "data": {
      "text/plain": "    userID  milesRequested  WhPerMile  minutesAvailable  \\\n0      NaN             NaN        NaN               NaN   \n1    333.0            20.0      400.0             277.0   \n2    371.0            20.0      400.0              60.0   \n3    405.0            20.0      600.0             583.0   \n4    368.0            20.0      400.0             119.0   \n5    334.0            50.0      400.0             569.0   \n6    322.0            20.0      250.0              60.0   \n7    356.0            50.0      200.0             435.0   \n8    169.0            40.0      600.0             403.0   \n9    378.0           150.0      250.0             502.0   \n10     NaN             NaN        NaN               NaN   \n11     NaN             NaN        NaN               NaN   \n12     NaN             NaN        NaN               NaN   \n13     NaN             NaN        NaN               NaN   \n14     NaN             NaN        NaN               NaN   \n15     NaN             NaN        NaN               NaN   \n16     NaN             NaN        NaN               NaN   \n17     NaN             NaN        NaN               NaN   \n18   416.0            20.0      300.0             214.0   \n19     NaN             NaN        NaN               NaN   \n20   393.0            20.0      250.0              60.0   \n21   379.0            20.0      275.0              60.0   \n22   420.0            20.0      400.0              67.0   \n23     NaN             NaN        NaN               NaN   \n24     NaN             NaN        NaN               NaN   \n25     NaN             NaN        NaN               NaN   \n26     NaN             NaN        NaN               NaN   \n27     NaN             NaN        NaN               NaN   \n28     NaN             NaN        NaN               NaN   \n29     NaN             NaN        NaN               NaN   \n30   371.0            40.0      600.0             720.0   \n\n                       modifiedAt paymentRequired  \\\n0                            None            None   \n1   Wed, 05 Sep 2018 11:08:31 GMT            True   \n2   Wed, 05 Sep 2018 12:35:16 GMT            True   \n3   Wed, 05 Sep 2018 12:52:29 GMT            True   \n4   Wed, 05 Sep 2018 13:08:48 GMT            True   \n5   Wed, 05 Sep 2018 13:10:45 GMT            True   \n6   Wed, 05 Sep 2018 13:23:51 GMT            True   \n7   Wed, 05 Sep 2018 13:24:37 GMT            True   \n8   Wed, 05 Sep 2018 13:25:22 GMT            True   \n9   Wed, 05 Sep 2018 13:41:43 GMT            True   \n10                           None            None   \n11                           None            None   \n12                           None            None   \n13                           None            None   \n14                           None            None   \n15                           None            None   \n16                           None            None   \n17                           None            None   \n18  Wed, 05 Sep 2018 19:20:27 GMT            True   \n19                           None            None   \n20  Wed, 05 Sep 2018 20:10:05 GMT            True   \n21  Wed, 05 Sep 2018 21:36:06 GMT            True   \n22  Wed, 05 Sep 2018 22:29:02 GMT            True   \n23                           None            None   \n24                           None            None   \n25                           None            None   \n26                           None            None   \n27                           None            None   \n28                           None            None   \n29                           None            None   \n30  Thu, 06 Sep 2018 12:43:31 GMT            True   \n\n               requestedDeparture  kWhRequested  \n0                            None           NaN  \n1   Wed, 05 Sep 2018 15:45:09 GMT           8.0  \n2   Wed, 05 Sep 2018 13:35:14 GMT           8.0  \n3   Wed, 05 Sep 2018 22:34:31 GMT          12.0  \n4   Wed, 05 Sep 2018 15:07:28 GMT           8.0  \n5   Wed, 05 Sep 2018 22:39:14 GMT          20.0  \n6   Wed, 05 Sep 2018 14:23:45 GMT           5.0  \n7   Wed, 05 Sep 2018 20:39:06 GMT          10.0  \n8   Wed, 05 Sep 2018 20:08:05 GMT          24.0  \n9   Wed, 05 Sep 2018 22:01:50 GMT          37.5  \n10                           None           NaN  \n11                           None           NaN  \n12                           None           NaN  \n13                           None           NaN  \n14                           None           NaN  \n15                           None           NaN  \n16                           None           NaN  \n17                           None           NaN  \n18  Wed, 05 Sep 2018 22:53:31 GMT           6.0  \n19                           None           NaN  \n20  Wed, 05 Sep 2018 21:09:43 GMT           5.0  \n21  Wed, 05 Sep 2018 22:35:26 GMT           5.5  \n22  Wed, 05 Sep 2018 23:34:31 GMT           8.0  \n23                           None           NaN  \n24                           None           NaN  \n25                           None           NaN  \n26                           None           NaN  \n27                           None           NaN  \n28                           None           NaN  \n29                           None           NaN  \n30  Fri, 07 Sep 2018 00:43:27 GMT          24.0  ",
      "text/html": "<div>\n<style scoped>\n    .dataframe tbody tr th:only-of-type {\n        vertical-align: middle;\n    }\n\n    .dataframe tbody tr th {\n        vertical-align: top;\n    }\n\n    .dataframe thead th {\n        text-align: right;\n    }\n</style>\n<table border=\"1\" class=\"dataframe\">\n  <thead>\n    <tr style=\"text-align: right;\">\n      <th></th>\n      <th>userID</th>\n      <th>milesRequested</th>\n      <th>WhPerMile</th>\n      <th>minutesAvailable</th>\n      <th>modifiedAt</th>\n      <th>paymentRequired</th>\n      <th>requestedDeparture</th>\n      <th>kWhRequested</th>\n    </tr>\n  </thead>\n  <tbody>\n    <tr>\n      <th>0</th>\n      <td>NaN</td>\n      <td>NaN</td>\n      <td>NaN</td>\n      <td>NaN</td>\n      <td>None</td>\n      <td>None</td>\n      <td>None</td>\n      <td>NaN</td>\n    </tr>\n    <tr>\n      <th>1</th>\n      <td>333.0</td>\n      <td>20.0</td>\n      <td>400.0</td>\n      <td>277.0</td>\n      <td>Wed, 05 Sep 2018 11:08:31 GMT</td>\n      <td>True</td>\n      <td>Wed, 05 Sep 2018 15:45:09 GMT</td>\n      <td>8.0</td>\n    </tr>\n    <tr>\n      <th>2</th>\n      <td>371.0</td>\n      <td>20.0</td>\n      <td>400.0</td>\n      <td>60.0</td>\n      <td>Wed, 05 Sep 2018 12:35:16 GMT</td>\n      <td>True</td>\n      <td>Wed, 05 Sep 2018 13:35:14 GMT</td>\n      <td>8.0</td>\n    </tr>\n    <tr>\n      <th>3</th>\n      <td>405.0</td>\n      <td>20.0</td>\n      <td>600.0</td>\n      <td>583.0</td>\n      <td>Wed, 05 Sep 2018 12:52:29 GMT</td>\n      <td>True</td>\n      <td>Wed, 05 Sep 2018 22:34:31 GMT</td>\n      <td>12.0</td>\n    </tr>\n    <tr>\n      <th>4</th>\n      <td>368.0</td>\n      <td>20.0</td>\n      <td>400.0</td>\n      <td>119.0</td>\n      <td>Wed, 05 Sep 2018 13:08:48 GMT</td>\n      <td>True</td>\n      <td>Wed, 05 Sep 2018 15:07:28 GMT</td>\n      <td>8.0</td>\n    </tr>\n    <tr>\n      <th>5</th>\n      <td>334.0</td>\n      <td>50.0</td>\n      <td>400.0</td>\n      <td>569.0</td>\n      <td>Wed, 05 Sep 2018 13:10:45 GMT</td>\n      <td>True</td>\n      <td>Wed, 05 Sep 2018 22:39:14 GMT</td>\n      <td>20.0</td>\n    </tr>\n    <tr>\n      <th>6</th>\n      <td>322.0</td>\n      <td>20.0</td>\n      <td>250.0</td>\n      <td>60.0</td>\n      <td>Wed, 05 Sep 2018 13:23:51 GMT</td>\n      <td>True</td>\n      <td>Wed, 05 Sep 2018 14:23:45 GMT</td>\n      <td>5.0</td>\n    </tr>\n    <tr>\n      <th>7</th>\n      <td>356.0</td>\n      <td>50.0</td>\n      <td>200.0</td>\n      <td>435.0</td>\n      <td>Wed, 05 Sep 2018 13:24:37 GMT</td>\n      <td>True</td>\n      <td>Wed, 05 Sep 2018 20:39:06 GMT</td>\n      <td>10.0</td>\n    </tr>\n    <tr>\n      <th>8</th>\n      <td>169.0</td>\n      <td>40.0</td>\n      <td>600.0</td>\n      <td>403.0</td>\n      <td>Wed, 05 Sep 2018 13:25:22 GMT</td>\n      <td>True</td>\n      <td>Wed, 05 Sep 2018 20:08:05 GMT</td>\n      <td>24.0</td>\n    </tr>\n    <tr>\n      <th>9</th>\n      <td>378.0</td>\n      <td>150.0</td>\n      <td>250.0</td>\n      <td>502.0</td>\n      <td>Wed, 05 Sep 2018 13:41:43 GMT</td>\n      <td>True</td>\n      <td>Wed, 05 Sep 2018 22:01:50 GMT</td>\n      <td>37.5</td>\n    </tr>\n    <tr>\n      <th>10</th>\n      <td>NaN</td>\n      <td>NaN</td>\n      <td>NaN</td>\n      <td>NaN</td>\n      <td>None</td>\n      <td>None</td>\n      <td>None</td>\n      <td>NaN</td>\n    </tr>\n    <tr>\n      <th>11</th>\n      <td>NaN</td>\n      <td>NaN</td>\n      <td>NaN</td>\n      <td>NaN</td>\n      <td>None</td>\n      <td>None</td>\n      <td>None</td>\n      <td>NaN</td>\n    </tr>\n    <tr>\n      <th>12</th>\n      <td>NaN</td>\n      <td>NaN</td>\n      <td>NaN</td>\n      <td>NaN</td>\n      <td>None</td>\n      <td>None</td>\n      <td>None</td>\n      <td>NaN</td>\n    </tr>\n    <tr>\n      <th>13</th>\n      <td>NaN</td>\n      <td>NaN</td>\n      <td>NaN</td>\n      <td>NaN</td>\n      <td>None</td>\n      <td>None</td>\n      <td>None</td>\n      <td>NaN</td>\n    </tr>\n    <tr>\n      <th>14</th>\n      <td>NaN</td>\n      <td>NaN</td>\n      <td>NaN</td>\n      <td>NaN</td>\n      <td>None</td>\n      <td>None</td>\n      <td>None</td>\n      <td>NaN</td>\n    </tr>\n    <tr>\n      <th>15</th>\n      <td>NaN</td>\n      <td>NaN</td>\n      <td>NaN</td>\n      <td>NaN</td>\n      <td>None</td>\n      <td>None</td>\n      <td>None</td>\n      <td>NaN</td>\n    </tr>\n    <tr>\n      <th>16</th>\n      <td>NaN</td>\n      <td>NaN</td>\n      <td>NaN</td>\n      <td>NaN</td>\n      <td>None</td>\n      <td>None</td>\n      <td>None</td>\n      <td>NaN</td>\n    </tr>\n    <tr>\n      <th>17</th>\n      <td>NaN</td>\n      <td>NaN</td>\n      <td>NaN</td>\n      <td>NaN</td>\n      <td>None</td>\n      <td>None</td>\n      <td>None</td>\n      <td>NaN</td>\n    </tr>\n    <tr>\n      <th>18</th>\n      <td>416.0</td>\n      <td>20.0</td>\n      <td>300.0</td>\n      <td>214.0</td>\n      <td>Wed, 05 Sep 2018 19:20:27 GMT</td>\n      <td>True</td>\n      <td>Wed, 05 Sep 2018 22:53:31 GMT</td>\n      <td>6.0</td>\n    </tr>\n    <tr>\n      <th>19</th>\n      <td>NaN</td>\n      <td>NaN</td>\n      <td>NaN</td>\n      <td>NaN</td>\n      <td>None</td>\n      <td>None</td>\n      <td>None</td>\n      <td>NaN</td>\n    </tr>\n    <tr>\n      <th>20</th>\n      <td>393.0</td>\n      <td>20.0</td>\n      <td>250.0</td>\n      <td>60.0</td>\n      <td>Wed, 05 Sep 2018 20:10:05 GMT</td>\n      <td>True</td>\n      <td>Wed, 05 Sep 2018 21:09:43 GMT</td>\n      <td>5.0</td>\n    </tr>\n    <tr>\n      <th>21</th>\n      <td>379.0</td>\n      <td>20.0</td>\n      <td>275.0</td>\n      <td>60.0</td>\n      <td>Wed, 05 Sep 2018 21:36:06 GMT</td>\n      <td>True</td>\n      <td>Wed, 05 Sep 2018 22:35:26 GMT</td>\n      <td>5.5</td>\n    </tr>\n    <tr>\n      <th>22</th>\n      <td>420.0</td>\n      <td>20.0</td>\n      <td>400.0</td>\n      <td>67.0</td>\n      <td>Wed, 05 Sep 2018 22:29:02 GMT</td>\n      <td>True</td>\n      <td>Wed, 05 Sep 2018 23:34:31 GMT</td>\n      <td>8.0</td>\n    </tr>\n    <tr>\n      <th>23</th>\n      <td>NaN</td>\n      <td>NaN</td>\n      <td>NaN</td>\n      <td>NaN</td>\n      <td>None</td>\n      <td>None</td>\n      <td>None</td>\n      <td>NaN</td>\n    </tr>\n    <tr>\n      <th>24</th>\n      <td>NaN</td>\n      <td>NaN</td>\n      <td>NaN</td>\n      <td>NaN</td>\n      <td>None</td>\n      <td>None</td>\n      <td>None</td>\n      <td>NaN</td>\n    </tr>\n    <tr>\n      <th>25</th>\n      <td>NaN</td>\n      <td>NaN</td>\n      <td>NaN</td>\n      <td>NaN</td>\n      <td>None</td>\n      <td>None</td>\n      <td>None</td>\n      <td>NaN</td>\n    </tr>\n    <tr>\n      <th>26</th>\n      <td>NaN</td>\n      <td>NaN</td>\n      <td>NaN</td>\n      <td>NaN</td>\n      <td>None</td>\n      <td>None</td>\n      <td>None</td>\n      <td>NaN</td>\n    </tr>\n    <tr>\n      <th>27</th>\n      <td>NaN</td>\n      <td>NaN</td>\n      <td>NaN</td>\n      <td>NaN</td>\n      <td>None</td>\n      <td>None</td>\n      <td>None</td>\n      <td>NaN</td>\n    </tr>\n    <tr>\n      <th>28</th>\n      <td>NaN</td>\n      <td>NaN</td>\n      <td>NaN</td>\n      <td>NaN</td>\n      <td>None</td>\n      <td>None</td>\n      <td>None</td>\n      <td>NaN</td>\n    </tr>\n    <tr>\n      <th>29</th>\n      <td>NaN</td>\n      <td>NaN</td>\n      <td>NaN</td>\n      <td>NaN</td>\n      <td>None</td>\n      <td>None</td>\n      <td>None</td>\n      <td>NaN</td>\n    </tr>\n    <tr>\n      <th>30</th>\n      <td>371.0</td>\n      <td>40.0</td>\n      <td>600.0</td>\n      <td>720.0</td>\n      <td>Thu, 06 Sep 2018 12:43:31 GMT</td>\n      <td>True</td>\n      <td>Fri, 07 Sep 2018 00:43:27 GMT</td>\n      <td>24.0</td>\n    </tr>\n  </tbody>\n</table>\n</div>"
     },
     "execution_count": 91,
     "metadata": {},
     "output_type": "execute_result"
    }
   ],
   "source": [
    "df.loc[0:30,'userInputs'].apply(convert_userInputs)"
   ],
   "metadata": {
    "collapsed": false,
    "ExecuteTime": {
     "end_time": "2024-02-14T07:42:48.912133044Z",
     "start_time": "2024-02-14T07:42:48.865272131Z"
    }
   },
   "id": "c16348b27e45890b"
  },
  {
   "cell_type": "code",
   "execution_count": 94,
   "outputs": [
    {
     "data": {
      "text/plain": "Index(['_id', 'sessionID', 'stationID', 'spaceID', 'siteID', 'clusterID',\n       'connectionTime', 'disconnectTime', 'kWhDelivered', 'doneChargingTime',\n       'userID', 'userID', 'milesRequested', 'WhPerMile', 'minutesAvailable',\n       'modifiedAt', 'paymentRequired', 'requestedDeparture', 'kWhRequested'],\n      dtype='object')"
     },
     "execution_count": 94,
     "metadata": {},
     "output_type": "execute_result"
    }
   ],
   "source": [
    "pd.concat([df.drop(columns='userInputs'), df['userInputs'].apply(convert_userInputs)], axis=1).columns"
   ],
   "metadata": {
    "collapsed": false,
    "ExecuteTime": {
     "end_time": "2024-02-14T07:48:20.258738484Z",
     "start_time": "2024-02-14T07:48:16.245342900Z"
    }
   },
   "id": "ec30c546c16fd765"
  },
  {
   "cell_type": "markdown",
   "id": "2a20e19f-506d-4af7-a951-1445581729bc",
   "metadata": {},
   "source": [
    "# 1. Define key metrics\n",
    "Total charges\n",
    "What is the date range of charges\n",
    "How many unique cars are there?\n",
    "What are the locations of charging\n",
    "What is the distribution of charges over time\n",
    "What is the distribution of charges over the hours of a day\n",
    "What is the distribution of charges by vehicle\n",
    "What is the distribution of charges over location\n",
    "Is the rate of charging the same for a vehicle\n",
    "Does the energy of daily charging change over time\n",
    "Do the number of charges change over time"
   ]
  }
 ],
 "metadata": {
  "kernelspec": {
   "display_name": "Python 3 (ipykernel)",
   "language": "python",
   "name": "python3"
  },
  "language_info": {
   "codemirror_mode": {
    "name": "ipython",
    "version": 3
   },
   "file_extension": ".py",
   "mimetype": "text/x-python",
   "name": "python",
   "nbconvert_exporter": "python",
   "pygments_lexer": "ipython3",
   "version": "3.10.13"
  }
 },
 "nbformat": 4,
 "nbformat_minor": 5
}
