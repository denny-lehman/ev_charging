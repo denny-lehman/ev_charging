{
 "cells": [
  {
   "cell_type": "markdown",
   "source": [
    "# Weather data fetch tests\n",
    "This notebook will walk through how to get forecasted weather data for a location. \n",
    "\n",
    "the weather api used is from weather.gov: https://www.weather.gov/documentation/services-web-api"
   ],
   "metadata": {
    "collapsed": false
   },
   "id": "b1ec0ae3004f658b"
  },
  {
   "cell_type": "markdown",
   "source": [
    "# the weather fetching process is:\n",
    "1.  get the lat long for the sites\n",
    "2.  get the grid points\n",
    "3.  call the for the appropriate forecast \n",
    "4.  convert the json payload into a dataframe \n",
    "5.  put it all together\n"
   ],
   "metadata": {
    "collapsed": false
   },
   "id": "6ca69696d4a941c7"
  },
  {
   "cell_type": "markdown",
   "source": [
    "# 1 Get lat long for each site\n",
    "Using google maps, I typed in the locations and then asked for the lat and long of that spot on the map. Here are the lat long coordinates for our locations\n",
    "![caltech](caltech_lat_long.png)"
   ],
   "metadata": {
    "collapsed": false
   },
   "id": "c1420a9d1f4c6b02"
  },
  {
   "cell_type": "code",
   "source": [
    "import requests\n",
    "import pandas as pd\n",
    "import json\n",
    "from typing import Dict\n",
    "from typing import Tuple, Dict\n",
    "\n",
    "caltech_lat =   34.134785646454844\n",
    "caltech_lon = -118.11691382579643\n",
    "\n",
    "jpl_lat = 34.20142342818471\n",
    "jpl_lon = -118.17126565774107\n",
    "\n",
    "office_lat = 37.33680466796926\n",
    "office_lon = -121.90743423142634"
   ],
   "metadata": {
    "collapsed": false,
    "ExecuteTime": {
     "end_time": "2024-04-13T16:15:09.244820790Z",
     "start_time": "2024-04-13T16:15:08.902781950Z"
    }
   },
   "id": "f06230aa8b7abded",
   "outputs": [],
   "execution_count": 1
  },
  {
   "cell_type": "markdown",
   "source": [
    "# 2 Get grid points\n",
    "The way the weather api system works is by finding the station's grid points that are closest to the lat long coordinates. The code below gets the grid x and grid y from the lat long coordinates"
   ],
   "metadata": {
    "collapsed": false
   },
   "id": "e9bd9511d284266c"
  },
  {
   "cell_type": "code",
   "source": [
    "def get_grid_points(latitude:float, longitude:float)->Tuple[str, int, int]:\n",
    "    \"\"\"The way the weather api system works is by finding the station's grid points that are closest to the lat long coordinates. The code below gets the grid x and grid y from the lat long coordinates\n",
    "    inputs:\n",
    "        latitude: float - the latitude coordinate of the desired weather location\n",
    "        longitude: float - the longitude coordinate of the desired weather location\n",
    "    returns:\n",
    "        (grid_id, grid_x, grid_y) tuple of the office id, and x and y grid coordinates needed for future weather.gov api calls\n",
    "    > get_grid_points(34.134785646454844, -118.11691382579643)\n",
    "    >('LOX', 160, 48)\"\"\"\n",
    "    url = f'https://api.weather.gov/points/{latitude},{longitude}'\n",
    "    print('get grid points url:', url)\n",
    "\n",
    "    r = requests.get(url, timeout=60)\n",
    "\n",
    "    print('status code:', r.status_code)\n",
    "    payload = r.json()\n",
    "\n",
    "    grid_id = payload['properties']['gridId']\n",
    "    grid_x = payload['properties']['gridX']\n",
    "    grid_y = r.json()['properties']['gridY']\n",
    "    return grid_id, grid_x, grid_y\n",
    "cal = get_grid_points(caltech_lat, caltech_lon)\n",
    "off = get_grid_points(office_lat, office_lon)"
   ],
   "metadata": {
    "collapsed": false,
    "ExecuteTime": {
     "end_time": "2024-04-13T16:15:20.522157347Z",
     "start_time": "2024-04-13T16:15:09.286435278Z"
    }
   },
   "id": "37dacae3df479aaf",
   "outputs": [
    {
     "name": "stdout",
     "output_type": "stream",
     "text": [
      "get grid points url: https://api.weather.gov/points/34.134785646454844,-118.11691382579643\n",
      "status code: 200\n",
      "get grid points url: https://api.weather.gov/points/37.33680466796926,-121.90743423142634\n",
      "status code: 200\n"
     ]
    }
   ],
   "execution_count": 2
  },
  {
   "cell_type": "code",
   "execution_count": 3,
   "outputs": [
    {
     "data": {
      "text/plain": "('LOX', 160, 48)"
     },
     "execution_count": 3,
     "metadata": {},
     "output_type": "execute_result"
    }
   ],
   "source": [
    "cal"
   ],
   "metadata": {
    "collapsed": false,
    "ExecuteTime": {
     "end_time": "2024-04-13T16:15:20.545101727Z",
     "start_time": "2024-04-13T16:15:20.523097420Z"
    }
   },
   "id": "a042c1eafa0f6fd2"
  },
  {
   "cell_type": "code",
   "execution_count": 3,
   "outputs": [],
   "source": [],
   "metadata": {
    "collapsed": false,
    "ExecuteTime": {
     "end_time": "2024-04-13T16:15:20.546498863Z",
     "start_time": "2024-04-13T16:15:20.527941340Z"
    }
   },
   "id": "19cb52a8f7823466"
  },
  {
   "cell_type": "code",
   "source": [
    "ct_grid, ct_grid_x, ct_grid_y = get_grid_points(caltech_lat, caltech_lon)\n",
    "jpl_grid, jpl_grid_x, jpl_grid_y = get_grid_points(jpl_lat, jpl_lon)\n",
    "office_grid, office_grid_x, office_grid_y = get_grid_points(office_lat, office_lon)"
   ],
   "metadata": {
    "collapsed": false,
    "ExecuteTime": {
     "end_time": "2024-04-13T16:15:23.993121234Z",
     "start_time": "2024-04-13T16:15:20.531189856Z"
    }
   },
   "id": "739fe8052f7dc21c",
   "outputs": [
    {
     "name": "stdout",
     "output_type": "stream",
     "text": [
      "get grid points url: https://api.weather.gov/points/34.134785646454844,-118.11691382579643\n",
      "status code: 200\n",
      "get grid points url: https://api.weather.gov/points/34.20142342818471,-118.17126565774107\n",
      "status code: 200\n",
      "get grid points url: https://api.weather.gov/points/37.33680466796926,-121.90743423142634\n",
      "status code: 200\n"
     ]
    }
   ],
   "execution_count": 4
  },
  {
   "cell_type": "markdown",
   "source": [
    "# 3 get forecast\n",
    "Once we have the office, gridx and gridy for the location, we can get three different kinds of weather forecasts\n",
    "\n",
    "    forecast - forecast for 12h periods over the next seven days\n",
    "    forecastHourly - forecast for hourly periods over the next seven days\n",
    "    forecastGridData - raw forecast data over the next seven days\n",
    "\n"
   ],
   "metadata": {
    "collapsed": false
   },
   "id": "3c9f03b78665502e"
  },
  {
   "cell_type": "code",
   "source": [
    "# deprecated\n",
    "'''\n",
    "def get_weather_forecast(office, gridX, gridY, forecast_type='forecast'):\n",
    "    if forecast_type not in ['12_hour', '7day_hourly', '7day_grid']:\n",
    "        print(f'{forecast_type} is not a valid option. please select 12_hour, 7day_hourly, or 7day_grid', )\n",
    "        pass\n",
    "    \n",
    "    forecast_urls = {'12_hour':f'https://api.weather.gov/gridpoints/{office}/{gridX},{gridY}/forecast',\n",
    "                     '7day_hourly':f'https://api.weather.gov/gridpoints/{office}/{gridX},{gridY}/forecast/hourly',\n",
    "                     '7day_grid':f'https://api.weather.gov/gridpoints/{office}/{gridX},{gridY}'}\n",
    "    \n",
    "    url = forecast_urls[forecast_type]\n",
    "    print(url)\n",
    "    r = requests.get(url)\n",
    "    return r.json()\n",
    "'''\n"
   ],
   "metadata": {
    "collapsed": false,
    "ExecuteTime": {
     "end_time": "2024-04-13T16:15:24.018781780Z",
     "start_time": "2024-04-13T16:15:23.989994406Z"
    }
   },
   "id": "88ee153a313cf5ba",
   "outputs": [
    {
     "data": {
      "text/plain": "\"\\ndef get_weather_forecast(office, gridX, gridY, forecast_type='forecast'):\\n    if forecast_type not in ['12_hour', '7day_hourly', '7day_grid']:\\n        print(f'{forecast_type} is not a valid option. please select 12_hour, 7day_hourly, or 7day_grid', )\\n        pass\\n    \\n    forecast_urls = {'12_hour':f'https://api.weather.gov/gridpoints/{office}/{gridX},{gridY}/forecast',\\n                     '7day_hourly':f'https://api.weather.gov/gridpoints/{office}/{gridX},{gridY}/forecast/hourly',\\n                     '7day_grid':f'https://api.weather.gov/gridpoints/{office}/{gridX},{gridY}'}\\n    \\n    url = forecast_urls[forecast_type]\\n    print(url)\\n    r = requests.get(url)\\n    return r.json()\\n\""
     },
     "execution_count": 5,
     "metadata": {},
     "output_type": "execute_result"
    }
   ],
   "execution_count": 5
  },
  {
   "cell_type": "code",
   "source": [
    "import time\n",
    "def get_weather_forecast(office:str, gridX:int, gridY:int)->Dict:\n",
    "    \"\"\"forecast for 12h periods over the next seven days\n",
    "    args:\n",
    "        office: str - the 3 letter code for the weather station\n",
    "        gridX: int - the X coordinate for the weather grid\n",
    "        gridY: int - the Y coordinate for the weather grid\n",
    "    returns:\n",
    "        dict - the json payload\n",
    "    \"\"\"\n",
    "    url = f'https://api.weather.gov/gridpoints/{office}/{gridX},{gridY}/forecast'\n",
    "    print(url)\n",
    "    r = requests.get(url, headers={'Accept': 'application/geo+json'}, timeout=60)\n",
    "    if r.status_code != 200:\n",
    "        for i in range(2):\n",
    "            time.sleep(0.3)\n",
    "            r = requests.get(url, headers={'Accept': 'application/geo+json'})\n",
    "            if r.status_code == 200:\n",
    "                break\n",
    "        if r.status_code != 200:\n",
    "            print('Failed to get weather forecast')\n",
    "            return {}\n",
    "    return r.json()"
   ],
   "metadata": {
    "collapsed": false,
    "ExecuteTime": {
     "end_time": "2024-04-13T16:15:24.019639299Z",
     "start_time": "2024-04-13T16:15:23.995435640Z"
    }
   },
   "id": "159714e484b3b321",
   "outputs": [],
   "execution_count": 6
  },
  {
   "cell_type": "code",
   "source": [
    "def get_hourly_weather_forecast(office:str, gridX:int, gridY:int) -> Dict:\n",
    "    \"\"\"forecast for hourly periods over the next seven days\n",
    "    args:\n",
    "        office: str - the 3 letter code for the weather station\n",
    "        gridX: int - the X coordinate for the weather grid\n",
    "        gridY: int - the Y coordinate for the weather grid\n",
    "    returns:\n",
    "        dict - the json payload\n",
    "    \"\"\"\n",
    "    url = f'https://api.weather.gov/gridpoints/{office}/{gridX},{gridY}/forecast/hourly'\n",
    "    print(url)\n",
    "    r = requests.get(url)\n",
    "    if r.status_code != 200:\n",
    "        for i in range(2):\n",
    "            time.sleep(0.3)\n",
    "            r = requests.get(url, headers={'Accept': 'application/geo+json'})\n",
    "            if r.status_code == 200:\n",
    "                break\n",
    "        if r.status_code != 200:\n",
    "            print('Failed to get weather forecast')\n",
    "            return {}\n",
    "    return r.json()\n"
   ],
   "metadata": {
    "collapsed": false,
    "ExecuteTime": {
     "end_time": "2024-04-13T16:15:24.019804566Z",
     "start_time": "2024-04-13T16:15:24.008437251Z"
    }
   },
   "id": "936c3633d0e4980",
   "outputs": [],
   "execution_count": 7
  },
  {
   "cell_type": "code",
   "source": [
    "def get_raw_weather_forecast(office, grid_x, grid_y):\n",
    "    url = f'https://api.weather.gov/gridpoints/{office}/{grid_x},{grid_y}'\n",
    "    print(url)\n",
    "    r = requests.get(url, headers={'Accept': 'application/geo+json'}, timeout=60)\n",
    "    if r.status_code != 200:\n",
    "        for i in range(2):\n",
    "            time.sleep(0.3)\n",
    "            r = requests.get(url, headers={'Accept': 'application/geo+json'})\n",
    "            if r.status_code == 200:\n",
    "                break\n",
    "        if r.status_code != 200:\n",
    "            print('Failed to get weather forecast')\n",
    "            return None\n",
    "    return r.json()\n"
   ],
   "metadata": {
    "collapsed": false,
    "ExecuteTime": {
     "end_time": "2024-04-13T16:15:24.066041678Z",
     "start_time": "2024-04-13T16:15:24.013534236Z"
    }
   },
   "id": "25d5f4e464dabdb",
   "outputs": [],
   "execution_count": 8
  },
  {
   "cell_type": "code",
   "source": [
    "#forecast_7day_hourly"
   ],
   "metadata": {
    "collapsed": false,
    "ExecuteTime": {
     "end_time": "2024-04-13T16:15:24.081500697Z",
     "start_time": "2024-04-13T16:15:24.020673765Z"
    }
   },
   "id": "1099917ea3a12bb4",
   "outputs": [],
   "execution_count": 9
  },
  {
   "cell_type": "code",
   "source": [
    "today = get_weather_forecast(ct_grid, ct_grid_x, ct_grid_y)\n",
    "today.keys()"
   ],
   "metadata": {
    "collapsed": false,
    "ExecuteTime": {
     "end_time": "2024-04-13T16:15:24.806979098Z",
     "start_time": "2024-04-13T16:15:24.024711882Z"
    }
   },
   "id": "fe12a426c9408afc",
   "outputs": [
    {
     "name": "stdout",
     "output_type": "stream",
     "text": [
      "https://api.weather.gov/gridpoints/LOX/160,48/forecast\n"
     ]
    },
    {
     "data": {
      "text/plain": "dict_keys(['@context', 'type', 'geometry', 'properties'])"
     },
     "execution_count": 10,
     "metadata": {},
     "output_type": "execute_result"
    }
   ],
   "execution_count": 10
  },
  {
   "cell_type": "code",
   "execution_count": 11,
   "outputs": [
    {
     "data": {
      "text/plain": "{'number': 1,\n 'name': 'Today',\n 'startTime': '2024-04-13T09:00:00-07:00',\n 'endTime': '2024-04-13T18:00:00-07:00',\n 'isDaytime': True,\n 'temperature': 61,\n 'temperatureUnit': 'F',\n 'temperatureTrend': None,\n 'probabilityOfPrecipitation': {'unitCode': 'wmoUnit:percent', 'value': 90},\n 'dewpoint': {'unitCode': 'wmoUnit:degC', 'value': 13.333333333333334},\n 'relativeHumidity': {'unitCode': 'wmoUnit:percent', 'value': 91},\n 'windSpeed': '15 mph',\n 'windDirection': 'S',\n 'icon': 'https://api.weather.gov/icons/land/day/rain,90?size=medium',\n 'shortForecast': 'Rain',\n 'detailedForecast': 'Rain before 5pm, then rain showers. Cloudy, with a high near 61. South wind around 15 mph, with gusts as high as 25 mph. Chance of precipitation is 90%. New rainfall amounts between a quarter and half of an inch possible.'}"
     },
     "execution_count": 11,
     "metadata": {},
     "output_type": "execute_result"
    }
   ],
   "source": [
    "today['properties']['periods'][0]"
   ],
   "metadata": {
    "collapsed": false,
    "ExecuteTime": {
     "end_time": "2024-04-13T16:15:24.837004485Z",
     "start_time": "2024-04-13T16:15:24.812186215Z"
    }
   },
   "id": "22208e9047890dc1"
  },
  {
   "cell_type": "markdown",
   "source": [
    "# 4 convert json to df and process"
   ],
   "metadata": {
    "collapsed": false
   },
   "id": "99b5f3342a40d052"
  },
  {
   "cell_type": "code",
   "execution_count": 12,
   "outputs": [],
   "source": [
    "def create_forecast_df(json_forecast):\n",
    "    forecast = json_forecast['properties']['periods']\n",
    "    forecast_df = pd.DataFrame(forecast)\n",
    "    forecast_df['startTime'] = pd.to_datetime(forecast_df['startTime'], utc=True)\n",
    "    forecast_df['endTime'] = pd.to_datetime(forecast_df['endTime'], utc=True)\n",
    "    return forecast_df\n",
    "    \n",
    "today_weather_df = create_forecast_df(today)"
   ],
   "metadata": {
    "collapsed": false,
    "ExecuteTime": {
     "end_time": "2024-04-13T16:15:24.864549429Z",
     "start_time": "2024-04-13T16:15:24.818918411Z"
    }
   },
   "id": "71ef48d178b2874"
  },
  {
   "cell_type": "code",
   "execution_count": 13,
   "outputs": [],
   "source": [
    "import numpy as np\n",
    "def convert_weather_values(forecast_df):\n",
    "    \"\"\"converts values of temperature, dew point and others from C to F\"\"\"\n",
    "\n",
    "    assert set(['temperature', 'dewpoint', 'windSpeed', 'probabilityOfPrecipitation', 'relativeHumidity']).issubset(forecast_df.columns), f\"missing columns for weather values in forecast_df.columns = {forecast_df.columns}\"\n",
    "\n",
    "    # convert temperature to degF and degC\n",
    "    forecast_df.rename(columns={'temperature': 'temperature_degF'}, inplace=True)\n",
    "    forecast_df['temperature_degC'] = forecast_df['temperature_degF'].apply(lambda x: np.round((x - 32) * 5.0 / 9.0, 2))\n",
    "\n",
    "    # convert dewpoint temperature to degF and degC\n",
    "    forecast_df['dewpoint_degC'] = forecast_df['dewpoint'].apply(lambda x: np.round(x['value'], 2))\n",
    "    forecast_df['dewpoint_degF'] = forecast_df['dewpoint_degC'].apply(lambda x: np.round(x * 9.0 / 5.0 + 32, 2))\n",
    "\n",
    "    # extract value from windSpeed column and convert to int\n",
    "    forecast_df['wind_speed_mph'] = forecast_df['windSpeed'].apply(lambda x: int(x.split()[0]))\n",
    "\n",
    "    # extract value from json formatted columns\n",
    "    forecast_df['probabilityOfPrecipitationPercent'] = forecast_df['probabilityOfPrecipitation'].apply(\n",
    "        lambda x: x['value'])\n",
    "    forecast_df['relative_humidity_%'] = forecast_df['relativeHumidity'].apply(lambda x: x['value'])\n",
    "    return forecast_df\n",
    "# convert_weather_values(today_weather_df)"
   ],
   "metadata": {
    "collapsed": false,
    "ExecuteTime": {
     "end_time": "2024-04-13T16:15:24.881690741Z",
     "start_time": "2024-04-13T16:15:24.845283487Z"
    }
   },
   "id": "ae92ff297dca19ce"
  },
  {
   "cell_type": "code",
   "execution_count": 14,
   "outputs": [
    {
     "name": "stdout",
     "output_type": "stream",
     "text": [
      "2024-04-13 2024-04-14\n",
      "Index(['number', 'name', 'startTime', 'endTime', 'isDaytime', 'temperature',\n",
      "       'temperatureUnit', 'temperatureTrend', 'probabilityOfPrecipitation',\n",
      "       'dewpoint', 'relativeHumidity', 'windSpeed', 'windDirection', 'icon',\n",
      "       'shortForecast', 'detailedForecast', 'time_utc', 'time_local'],\n",
      "      dtype='object')\n"
     ]
    },
    {
     "data": {
      "text/plain": "                          number     name                  startTime  \\\n2024-04-13 00:00:00+00:00      1    Today  2024-04-13 16:00:00+00:00   \n2024-04-13 01:00:00+00:00      1    Today  2024-04-13 16:00:00+00:00   \n2024-04-13 02:00:00+00:00      1    Today  2024-04-13 16:00:00+00:00   \n2024-04-13 03:00:00+00:00      1    Today  2024-04-13 16:00:00+00:00   \n2024-04-13 04:00:00+00:00      1    Today  2024-04-13 16:00:00+00:00   \n2024-04-13 05:00:00+00:00      1    Today  2024-04-13 16:00:00+00:00   \n2024-04-13 06:00:00+00:00      1    Today  2024-04-13 16:00:00+00:00   \n2024-04-13 07:00:00+00:00      1    Today  2024-04-13 16:00:00+00:00   \n2024-04-13 08:00:00+00:00      1    Today  2024-04-13 16:00:00+00:00   \n2024-04-13 09:00:00+00:00      1    Today  2024-04-13 16:00:00+00:00   \n2024-04-13 10:00:00+00:00      1    Today  2024-04-13 16:00:00+00:00   \n2024-04-13 11:00:00+00:00      1    Today  2024-04-13 16:00:00+00:00   \n2024-04-13 12:00:00+00:00      1    Today  2024-04-13 16:00:00+00:00   \n2024-04-13 13:00:00+00:00      1    Today  2024-04-13 16:00:00+00:00   \n2024-04-13 14:00:00+00:00      1    Today  2024-04-13 16:00:00+00:00   \n2024-04-13 15:00:00+00:00      1    Today  2024-04-13 16:00:00+00:00   \n2024-04-13 16:00:00+00:00      1    Today  2024-04-13 16:00:00+00:00   \n2024-04-13 17:00:00+00:00      2  Tonight  2024-04-14 01:00:00+00:00   \n2024-04-13 18:00:00+00:00      2  Tonight  2024-04-14 01:00:00+00:00   \n2024-04-13 19:00:00+00:00      2  Tonight  2024-04-14 01:00:00+00:00   \n2024-04-13 20:00:00+00:00      2  Tonight  2024-04-14 01:00:00+00:00   \n2024-04-13 21:00:00+00:00      2  Tonight  2024-04-14 01:00:00+00:00   \n2024-04-13 22:00:00+00:00      2  Tonight  2024-04-14 01:00:00+00:00   \n2024-04-13 23:00:00+00:00      2  Tonight  2024-04-14 01:00:00+00:00   \n\n                                             endTime isDaytime  \\\n2024-04-13 00:00:00+00:00  2024-04-14 01:00:00+00:00      True   \n2024-04-13 01:00:00+00:00  2024-04-14 01:00:00+00:00      True   \n2024-04-13 02:00:00+00:00  2024-04-14 01:00:00+00:00      True   \n2024-04-13 03:00:00+00:00  2024-04-14 01:00:00+00:00      True   \n2024-04-13 04:00:00+00:00  2024-04-14 01:00:00+00:00      True   \n2024-04-13 05:00:00+00:00  2024-04-14 01:00:00+00:00      True   \n2024-04-13 06:00:00+00:00  2024-04-14 01:00:00+00:00      True   \n2024-04-13 07:00:00+00:00  2024-04-14 01:00:00+00:00      True   \n2024-04-13 08:00:00+00:00  2024-04-14 01:00:00+00:00      True   \n2024-04-13 09:00:00+00:00  2024-04-14 01:00:00+00:00      True   \n2024-04-13 10:00:00+00:00  2024-04-14 01:00:00+00:00      True   \n2024-04-13 11:00:00+00:00  2024-04-14 01:00:00+00:00      True   \n2024-04-13 12:00:00+00:00  2024-04-14 01:00:00+00:00      True   \n2024-04-13 13:00:00+00:00  2024-04-14 01:00:00+00:00      True   \n2024-04-13 14:00:00+00:00  2024-04-14 01:00:00+00:00      True   \n2024-04-13 15:00:00+00:00  2024-04-14 01:00:00+00:00      True   \n2024-04-13 16:00:00+00:00  2024-04-14 01:00:00+00:00      True   \n2024-04-13 17:00:00+00:00  2024-04-14 13:00:00+00:00     False   \n2024-04-13 18:00:00+00:00  2024-04-14 13:00:00+00:00     False   \n2024-04-13 19:00:00+00:00  2024-04-14 13:00:00+00:00     False   \n2024-04-13 20:00:00+00:00  2024-04-14 13:00:00+00:00     False   \n2024-04-13 21:00:00+00:00  2024-04-14 13:00:00+00:00     False   \n2024-04-13 22:00:00+00:00  2024-04-14 13:00:00+00:00     False   \n2024-04-13 23:00:00+00:00  2024-04-14 13:00:00+00:00     False   \n\n                          temperature_degF temperatureUnit temperatureTrend  \\\n2024-04-13 00:00:00+00:00               61               F             None   \n2024-04-13 01:00:00+00:00               61               F             None   \n2024-04-13 02:00:00+00:00               61               F             None   \n2024-04-13 03:00:00+00:00               61               F             None   \n2024-04-13 04:00:00+00:00               61               F             None   \n2024-04-13 05:00:00+00:00               61               F             None   \n2024-04-13 06:00:00+00:00               61               F             None   \n2024-04-13 07:00:00+00:00               61               F             None   \n2024-04-13 08:00:00+00:00               61               F             None   \n2024-04-13 09:00:00+00:00               61               F             None   \n2024-04-13 10:00:00+00:00               61               F             None   \n2024-04-13 11:00:00+00:00               61               F             None   \n2024-04-13 12:00:00+00:00               61               F             None   \n2024-04-13 13:00:00+00:00               61               F             None   \n2024-04-13 14:00:00+00:00               61               F             None   \n2024-04-13 15:00:00+00:00               61               F             None   \n2024-04-13 16:00:00+00:00               61               F             None   \n2024-04-13 17:00:00+00:00               44               F             None   \n2024-04-13 18:00:00+00:00               44               F             None   \n2024-04-13 19:00:00+00:00               44               F             None   \n2024-04-13 20:00:00+00:00               44               F             None   \n2024-04-13 21:00:00+00:00               44               F             None   \n2024-04-13 22:00:00+00:00               44               F             None   \n2024-04-13 23:00:00+00:00               44               F             None   \n\n                                             probabilityOfPrecipitation  \\\n2024-04-13 00:00:00+00:00  {'unitCode': 'wmoUnit:percent', 'value': 90}   \n2024-04-13 01:00:00+00:00  {'unitCode': 'wmoUnit:percent', 'value': 90}   \n2024-04-13 02:00:00+00:00  {'unitCode': 'wmoUnit:percent', 'value': 90}   \n2024-04-13 03:00:00+00:00  {'unitCode': 'wmoUnit:percent', 'value': 90}   \n2024-04-13 04:00:00+00:00  {'unitCode': 'wmoUnit:percent', 'value': 90}   \n2024-04-13 05:00:00+00:00  {'unitCode': 'wmoUnit:percent', 'value': 90}   \n2024-04-13 06:00:00+00:00  {'unitCode': 'wmoUnit:percent', 'value': 90}   \n2024-04-13 07:00:00+00:00  {'unitCode': 'wmoUnit:percent', 'value': 90}   \n2024-04-13 08:00:00+00:00  {'unitCode': 'wmoUnit:percent', 'value': 90}   \n2024-04-13 09:00:00+00:00  {'unitCode': 'wmoUnit:percent', 'value': 90}   \n2024-04-13 10:00:00+00:00  {'unitCode': 'wmoUnit:percent', 'value': 90}   \n2024-04-13 11:00:00+00:00  {'unitCode': 'wmoUnit:percent', 'value': 90}   \n2024-04-13 12:00:00+00:00  {'unitCode': 'wmoUnit:percent', 'value': 90}   \n2024-04-13 13:00:00+00:00  {'unitCode': 'wmoUnit:percent', 'value': 90}   \n2024-04-13 14:00:00+00:00  {'unitCode': 'wmoUnit:percent', 'value': 90}   \n2024-04-13 15:00:00+00:00  {'unitCode': 'wmoUnit:percent', 'value': 90}   \n2024-04-13 16:00:00+00:00  {'unitCode': 'wmoUnit:percent', 'value': 90}   \n2024-04-13 17:00:00+00:00  {'unitCode': 'wmoUnit:percent', 'value': 80}   \n2024-04-13 18:00:00+00:00  {'unitCode': 'wmoUnit:percent', 'value': 80}   \n2024-04-13 19:00:00+00:00  {'unitCode': 'wmoUnit:percent', 'value': 80}   \n2024-04-13 20:00:00+00:00  {'unitCode': 'wmoUnit:percent', 'value': 80}   \n2024-04-13 21:00:00+00:00  {'unitCode': 'wmoUnit:percent', 'value': 80}   \n2024-04-13 22:00:00+00:00  {'unitCode': 'wmoUnit:percent', 'value': 80}   \n2024-04-13 23:00:00+00:00  {'unitCode': 'wmoUnit:percent', 'value': 80}   \n\n                                                                    dewpoint  \\\n2024-04-13 00:00:00+00:00  {'unitCode': 'wmoUnit:degC', 'value': 13.33333...   \n2024-04-13 01:00:00+00:00  {'unitCode': 'wmoUnit:degC', 'value': 13.33333...   \n2024-04-13 02:00:00+00:00  {'unitCode': 'wmoUnit:degC', 'value': 13.33333...   \n2024-04-13 03:00:00+00:00  {'unitCode': 'wmoUnit:degC', 'value': 13.33333...   \n2024-04-13 04:00:00+00:00  {'unitCode': 'wmoUnit:degC', 'value': 13.33333...   \n2024-04-13 05:00:00+00:00  {'unitCode': 'wmoUnit:degC', 'value': 13.33333...   \n2024-04-13 06:00:00+00:00  {'unitCode': 'wmoUnit:degC', 'value': 13.33333...   \n2024-04-13 07:00:00+00:00  {'unitCode': 'wmoUnit:degC', 'value': 13.33333...   \n2024-04-13 08:00:00+00:00  {'unitCode': 'wmoUnit:degC', 'value': 13.33333...   \n2024-04-13 09:00:00+00:00  {'unitCode': 'wmoUnit:degC', 'value': 13.33333...   \n2024-04-13 10:00:00+00:00  {'unitCode': 'wmoUnit:degC', 'value': 13.33333...   \n2024-04-13 11:00:00+00:00  {'unitCode': 'wmoUnit:degC', 'value': 13.33333...   \n2024-04-13 12:00:00+00:00  {'unitCode': 'wmoUnit:degC', 'value': 13.33333...   \n2024-04-13 13:00:00+00:00  {'unitCode': 'wmoUnit:degC', 'value': 13.33333...   \n2024-04-13 14:00:00+00:00  {'unitCode': 'wmoUnit:degC', 'value': 13.33333...   \n2024-04-13 15:00:00+00:00  {'unitCode': 'wmoUnit:degC', 'value': 13.33333...   \n2024-04-13 16:00:00+00:00  {'unitCode': 'wmoUnit:degC', 'value': 13.33333...   \n2024-04-13 17:00:00+00:00  {'unitCode': 'wmoUnit:degC', 'value': 12.22222...   \n2024-04-13 18:00:00+00:00  {'unitCode': 'wmoUnit:degC', 'value': 12.22222...   \n2024-04-13 19:00:00+00:00  {'unitCode': 'wmoUnit:degC', 'value': 12.22222...   \n2024-04-13 20:00:00+00:00  {'unitCode': 'wmoUnit:degC', 'value': 12.22222...   \n2024-04-13 21:00:00+00:00  {'unitCode': 'wmoUnit:degC', 'value': 12.22222...   \n2024-04-13 22:00:00+00:00  {'unitCode': 'wmoUnit:degC', 'value': 12.22222...   \n2024-04-13 23:00:00+00:00  {'unitCode': 'wmoUnit:degC', 'value': 12.22222...   \n\n                           ... shortForecast  \\\n2024-04-13 00:00:00+00:00  ...          Rain   \n2024-04-13 01:00:00+00:00  ...          Rain   \n2024-04-13 02:00:00+00:00  ...          Rain   \n2024-04-13 03:00:00+00:00  ...          Rain   \n2024-04-13 04:00:00+00:00  ...          Rain   \n2024-04-13 05:00:00+00:00  ...          Rain   \n2024-04-13 06:00:00+00:00  ...          Rain   \n2024-04-13 07:00:00+00:00  ...          Rain   \n2024-04-13 08:00:00+00:00  ...          Rain   \n2024-04-13 09:00:00+00:00  ...          Rain   \n2024-04-13 10:00:00+00:00  ...          Rain   \n2024-04-13 11:00:00+00:00  ...          Rain   \n2024-04-13 12:00:00+00:00  ...          Rain   \n2024-04-13 13:00:00+00:00  ...          Rain   \n2024-04-13 14:00:00+00:00  ...          Rain   \n2024-04-13 15:00:00+00:00  ...          Rain   \n2024-04-13 16:00:00+00:00  ...          Rain   \n2024-04-13 17:00:00+00:00  ...  Rain Showers   \n2024-04-13 18:00:00+00:00  ...  Rain Showers   \n2024-04-13 19:00:00+00:00  ...  Rain Showers   \n2024-04-13 20:00:00+00:00  ...  Rain Showers   \n2024-04-13 21:00:00+00:00  ...  Rain Showers   \n2024-04-13 22:00:00+00:00  ...  Rain Showers   \n2024-04-13 23:00:00+00:00  ...  Rain Showers   \n\n                                                            detailedForecast  \\\n2024-04-13 00:00:00+00:00  Rain before 5pm, then rain showers. Cloudy, wi...   \n2024-04-13 01:00:00+00:00  Rain before 5pm, then rain showers. Cloudy, wi...   \n2024-04-13 02:00:00+00:00  Rain before 5pm, then rain showers. Cloudy, wi...   \n2024-04-13 03:00:00+00:00  Rain before 5pm, then rain showers. Cloudy, wi...   \n2024-04-13 04:00:00+00:00  Rain before 5pm, then rain showers. Cloudy, wi...   \n2024-04-13 05:00:00+00:00  Rain before 5pm, then rain showers. Cloudy, wi...   \n2024-04-13 06:00:00+00:00  Rain before 5pm, then rain showers. Cloudy, wi...   \n2024-04-13 07:00:00+00:00  Rain before 5pm, then rain showers. Cloudy, wi...   \n2024-04-13 08:00:00+00:00  Rain before 5pm, then rain showers. Cloudy, wi...   \n2024-04-13 09:00:00+00:00  Rain before 5pm, then rain showers. Cloudy, wi...   \n2024-04-13 10:00:00+00:00  Rain before 5pm, then rain showers. Cloudy, wi...   \n2024-04-13 11:00:00+00:00  Rain before 5pm, then rain showers. Cloudy, wi...   \n2024-04-13 12:00:00+00:00  Rain before 5pm, then rain showers. Cloudy, wi...   \n2024-04-13 13:00:00+00:00  Rain before 5pm, then rain showers. Cloudy, wi...   \n2024-04-13 14:00:00+00:00  Rain before 5pm, then rain showers. Cloudy, wi...   \n2024-04-13 15:00:00+00:00  Rain before 5pm, then rain showers. Cloudy, wi...   \n2024-04-13 16:00:00+00:00  Rain before 5pm, then rain showers. Cloudy, wi...   \n2024-04-13 17:00:00+00:00  Rain showers. Mostly cloudy, with a low around...   \n2024-04-13 18:00:00+00:00  Rain showers. Mostly cloudy, with a low around...   \n2024-04-13 19:00:00+00:00  Rain showers. Mostly cloudy, with a low around...   \n2024-04-13 20:00:00+00:00  Rain showers. Mostly cloudy, with a low around...   \n2024-04-13 21:00:00+00:00  Rain showers. Mostly cloudy, with a low around...   \n2024-04-13 22:00:00+00:00  Rain showers. Mostly cloudy, with a low around...   \n2024-04-13 23:00:00+00:00  Rain showers. Mostly cloudy, with a low around...   \n\n                          time_utc time_local temperature_degC dewpoint_degC  \\\n2024-04-13 00:00:00+00:00      NaT        NaT            16.11         13.33   \n2024-04-13 01:00:00+00:00      NaT        NaT            16.11         13.33   \n2024-04-13 02:00:00+00:00      NaT        NaT            16.11         13.33   \n2024-04-13 03:00:00+00:00      NaT        NaT            16.11         13.33   \n2024-04-13 04:00:00+00:00      NaT        NaT            16.11         13.33   \n2024-04-13 05:00:00+00:00      NaT        NaT            16.11         13.33   \n2024-04-13 06:00:00+00:00      NaT        NaT            16.11         13.33   \n2024-04-13 07:00:00+00:00      NaT        NaT            16.11         13.33   \n2024-04-13 08:00:00+00:00      NaT        NaT            16.11         13.33   \n2024-04-13 09:00:00+00:00      NaT        NaT            16.11         13.33   \n2024-04-13 10:00:00+00:00      NaT        NaT            16.11         13.33   \n2024-04-13 11:00:00+00:00      NaT        NaT            16.11         13.33   \n2024-04-13 12:00:00+00:00      NaT        NaT            16.11         13.33   \n2024-04-13 13:00:00+00:00      NaT        NaT            16.11         13.33   \n2024-04-13 14:00:00+00:00      NaT        NaT            16.11         13.33   \n2024-04-13 15:00:00+00:00      NaT        NaT            16.11         13.33   \n2024-04-13 16:00:00+00:00      NaT        NaT            16.11         13.33   \n2024-04-13 17:00:00+00:00      NaT        NaT             6.67         12.22   \n2024-04-13 18:00:00+00:00      NaT        NaT             6.67         12.22   \n2024-04-13 19:00:00+00:00      NaT        NaT             6.67         12.22   \n2024-04-13 20:00:00+00:00      NaT        NaT             6.67         12.22   \n2024-04-13 21:00:00+00:00      NaT        NaT             6.67         12.22   \n2024-04-13 22:00:00+00:00      NaT        NaT             6.67         12.22   \n2024-04-13 23:00:00+00:00      NaT        NaT             6.67         12.22   \n\n                          dewpoint_degF wind_speed_mph  \\\n2024-04-13 00:00:00+00:00         55.99             15   \n2024-04-13 01:00:00+00:00         55.99             15   \n2024-04-13 02:00:00+00:00         55.99             15   \n2024-04-13 03:00:00+00:00         55.99             15   \n2024-04-13 04:00:00+00:00         55.99             15   \n2024-04-13 05:00:00+00:00         55.99             15   \n2024-04-13 06:00:00+00:00         55.99             15   \n2024-04-13 07:00:00+00:00         55.99             15   \n2024-04-13 08:00:00+00:00         55.99             15   \n2024-04-13 09:00:00+00:00         55.99             15   \n2024-04-13 10:00:00+00:00         55.99             15   \n2024-04-13 11:00:00+00:00         55.99             15   \n2024-04-13 12:00:00+00:00         55.99             15   \n2024-04-13 13:00:00+00:00         55.99             15   \n2024-04-13 14:00:00+00:00         55.99             15   \n2024-04-13 15:00:00+00:00         55.99             15   \n2024-04-13 16:00:00+00:00         55.99             15   \n2024-04-13 17:00:00+00:00         54.00              0   \n2024-04-13 18:00:00+00:00         54.00              0   \n2024-04-13 19:00:00+00:00         54.00              0   \n2024-04-13 20:00:00+00:00         54.00              0   \n2024-04-13 21:00:00+00:00         54.00              0   \n2024-04-13 22:00:00+00:00         54.00              0   \n2024-04-13 23:00:00+00:00         54.00              0   \n\n                           probabilityOfPrecipitationPercent  \\\n2024-04-13 00:00:00+00:00                                 90   \n2024-04-13 01:00:00+00:00                                 90   \n2024-04-13 02:00:00+00:00                                 90   \n2024-04-13 03:00:00+00:00                                 90   \n2024-04-13 04:00:00+00:00                                 90   \n2024-04-13 05:00:00+00:00                                 90   \n2024-04-13 06:00:00+00:00                                 90   \n2024-04-13 07:00:00+00:00                                 90   \n2024-04-13 08:00:00+00:00                                 90   \n2024-04-13 09:00:00+00:00                                 90   \n2024-04-13 10:00:00+00:00                                 90   \n2024-04-13 11:00:00+00:00                                 90   \n2024-04-13 12:00:00+00:00                                 90   \n2024-04-13 13:00:00+00:00                                 90   \n2024-04-13 14:00:00+00:00                                 90   \n2024-04-13 15:00:00+00:00                                 90   \n2024-04-13 16:00:00+00:00                                 90   \n2024-04-13 17:00:00+00:00                                 80   \n2024-04-13 18:00:00+00:00                                 80   \n2024-04-13 19:00:00+00:00                                 80   \n2024-04-13 20:00:00+00:00                                 80   \n2024-04-13 21:00:00+00:00                                 80   \n2024-04-13 22:00:00+00:00                                 80   \n2024-04-13 23:00:00+00:00                                 80   \n\n                           relative_humidity_%  \n2024-04-13 00:00:00+00:00                   91  \n2024-04-13 01:00:00+00:00                   91  \n2024-04-13 02:00:00+00:00                   91  \n2024-04-13 03:00:00+00:00                   91  \n2024-04-13 04:00:00+00:00                   91  \n2024-04-13 05:00:00+00:00                   91  \n2024-04-13 06:00:00+00:00                   91  \n2024-04-13 07:00:00+00:00                   91  \n2024-04-13 08:00:00+00:00                   91  \n2024-04-13 09:00:00+00:00                   91  \n2024-04-13 10:00:00+00:00                   91  \n2024-04-13 11:00:00+00:00                   91  \n2024-04-13 12:00:00+00:00                   91  \n2024-04-13 13:00:00+00:00                   91  \n2024-04-13 14:00:00+00:00                   91  \n2024-04-13 15:00:00+00:00                   91  \n2024-04-13 16:00:00+00:00                   91  \n2024-04-13 17:00:00+00:00                   89  \n2024-04-13 18:00:00+00:00                   89  \n2024-04-13 19:00:00+00:00                   89  \n2024-04-13 20:00:00+00:00                   89  \n2024-04-13 21:00:00+00:00                   89  \n2024-04-13 22:00:00+00:00                   89  \n2024-04-13 23:00:00+00:00                   89  \n\n[24 rows x 24 columns]",
      "text/html": "<div>\n<style scoped>\n    .dataframe tbody tr th:only-of-type {\n        vertical-align: middle;\n    }\n\n    .dataframe tbody tr th {\n        vertical-align: top;\n    }\n\n    .dataframe thead th {\n        text-align: right;\n    }\n</style>\n<table border=\"1\" class=\"dataframe\">\n  <thead>\n    <tr style=\"text-align: right;\">\n      <th></th>\n      <th>number</th>\n      <th>name</th>\n      <th>startTime</th>\n      <th>endTime</th>\n      <th>isDaytime</th>\n      <th>temperature_degF</th>\n      <th>temperatureUnit</th>\n      <th>temperatureTrend</th>\n      <th>probabilityOfPrecipitation</th>\n      <th>dewpoint</th>\n      <th>...</th>\n      <th>shortForecast</th>\n      <th>detailedForecast</th>\n      <th>time_utc</th>\n      <th>time_local</th>\n      <th>temperature_degC</th>\n      <th>dewpoint_degC</th>\n      <th>dewpoint_degF</th>\n      <th>wind_speed_mph</th>\n      <th>probabilityOfPrecipitationPercent</th>\n      <th>relative_humidity_%</th>\n    </tr>\n  </thead>\n  <tbody>\n    <tr>\n      <th>2024-04-13 00:00:00+00:00</th>\n      <td>1</td>\n      <td>Today</td>\n      <td>2024-04-13 16:00:00+00:00</td>\n      <td>2024-04-14 01:00:00+00:00</td>\n      <td>True</td>\n      <td>61</td>\n      <td>F</td>\n      <td>None</td>\n      <td>{'unitCode': 'wmoUnit:percent', 'value': 90}</td>\n      <td>{'unitCode': 'wmoUnit:degC', 'value': 13.33333...</td>\n      <td>...</td>\n      <td>Rain</td>\n      <td>Rain before 5pm, then rain showers. Cloudy, wi...</td>\n      <td>NaT</td>\n      <td>NaT</td>\n      <td>16.11</td>\n      <td>13.33</td>\n      <td>55.99</td>\n      <td>15</td>\n      <td>90</td>\n      <td>91</td>\n    </tr>\n    <tr>\n      <th>2024-04-13 01:00:00+00:00</th>\n      <td>1</td>\n      <td>Today</td>\n      <td>2024-04-13 16:00:00+00:00</td>\n      <td>2024-04-14 01:00:00+00:00</td>\n      <td>True</td>\n      <td>61</td>\n      <td>F</td>\n      <td>None</td>\n      <td>{'unitCode': 'wmoUnit:percent', 'value': 90}</td>\n      <td>{'unitCode': 'wmoUnit:degC', 'value': 13.33333...</td>\n      <td>...</td>\n      <td>Rain</td>\n      <td>Rain before 5pm, then rain showers. Cloudy, wi...</td>\n      <td>NaT</td>\n      <td>NaT</td>\n      <td>16.11</td>\n      <td>13.33</td>\n      <td>55.99</td>\n      <td>15</td>\n      <td>90</td>\n      <td>91</td>\n    </tr>\n    <tr>\n      <th>2024-04-13 02:00:00+00:00</th>\n      <td>1</td>\n      <td>Today</td>\n      <td>2024-04-13 16:00:00+00:00</td>\n      <td>2024-04-14 01:00:00+00:00</td>\n      <td>True</td>\n      <td>61</td>\n      <td>F</td>\n      <td>None</td>\n      <td>{'unitCode': 'wmoUnit:percent', 'value': 90}</td>\n      <td>{'unitCode': 'wmoUnit:degC', 'value': 13.33333...</td>\n      <td>...</td>\n      <td>Rain</td>\n      <td>Rain before 5pm, then rain showers. Cloudy, wi...</td>\n      <td>NaT</td>\n      <td>NaT</td>\n      <td>16.11</td>\n      <td>13.33</td>\n      <td>55.99</td>\n      <td>15</td>\n      <td>90</td>\n      <td>91</td>\n    </tr>\n    <tr>\n      <th>2024-04-13 03:00:00+00:00</th>\n      <td>1</td>\n      <td>Today</td>\n      <td>2024-04-13 16:00:00+00:00</td>\n      <td>2024-04-14 01:00:00+00:00</td>\n      <td>True</td>\n      <td>61</td>\n      <td>F</td>\n      <td>None</td>\n      <td>{'unitCode': 'wmoUnit:percent', 'value': 90}</td>\n      <td>{'unitCode': 'wmoUnit:degC', 'value': 13.33333...</td>\n      <td>...</td>\n      <td>Rain</td>\n      <td>Rain before 5pm, then rain showers. Cloudy, wi...</td>\n      <td>NaT</td>\n      <td>NaT</td>\n      <td>16.11</td>\n      <td>13.33</td>\n      <td>55.99</td>\n      <td>15</td>\n      <td>90</td>\n      <td>91</td>\n    </tr>\n    <tr>\n      <th>2024-04-13 04:00:00+00:00</th>\n      <td>1</td>\n      <td>Today</td>\n      <td>2024-04-13 16:00:00+00:00</td>\n      <td>2024-04-14 01:00:00+00:00</td>\n      <td>True</td>\n      <td>61</td>\n      <td>F</td>\n      <td>None</td>\n      <td>{'unitCode': 'wmoUnit:percent', 'value': 90}</td>\n      <td>{'unitCode': 'wmoUnit:degC', 'value': 13.33333...</td>\n      <td>...</td>\n      <td>Rain</td>\n      <td>Rain before 5pm, then rain showers. Cloudy, wi...</td>\n      <td>NaT</td>\n      <td>NaT</td>\n      <td>16.11</td>\n      <td>13.33</td>\n      <td>55.99</td>\n      <td>15</td>\n      <td>90</td>\n      <td>91</td>\n    </tr>\n    <tr>\n      <th>2024-04-13 05:00:00+00:00</th>\n      <td>1</td>\n      <td>Today</td>\n      <td>2024-04-13 16:00:00+00:00</td>\n      <td>2024-04-14 01:00:00+00:00</td>\n      <td>True</td>\n      <td>61</td>\n      <td>F</td>\n      <td>None</td>\n      <td>{'unitCode': 'wmoUnit:percent', 'value': 90}</td>\n      <td>{'unitCode': 'wmoUnit:degC', 'value': 13.33333...</td>\n      <td>...</td>\n      <td>Rain</td>\n      <td>Rain before 5pm, then rain showers. Cloudy, wi...</td>\n      <td>NaT</td>\n      <td>NaT</td>\n      <td>16.11</td>\n      <td>13.33</td>\n      <td>55.99</td>\n      <td>15</td>\n      <td>90</td>\n      <td>91</td>\n    </tr>\n    <tr>\n      <th>2024-04-13 06:00:00+00:00</th>\n      <td>1</td>\n      <td>Today</td>\n      <td>2024-04-13 16:00:00+00:00</td>\n      <td>2024-04-14 01:00:00+00:00</td>\n      <td>True</td>\n      <td>61</td>\n      <td>F</td>\n      <td>None</td>\n      <td>{'unitCode': 'wmoUnit:percent', 'value': 90}</td>\n      <td>{'unitCode': 'wmoUnit:degC', 'value': 13.33333...</td>\n      <td>...</td>\n      <td>Rain</td>\n      <td>Rain before 5pm, then rain showers. Cloudy, wi...</td>\n      <td>NaT</td>\n      <td>NaT</td>\n      <td>16.11</td>\n      <td>13.33</td>\n      <td>55.99</td>\n      <td>15</td>\n      <td>90</td>\n      <td>91</td>\n    </tr>\n    <tr>\n      <th>2024-04-13 07:00:00+00:00</th>\n      <td>1</td>\n      <td>Today</td>\n      <td>2024-04-13 16:00:00+00:00</td>\n      <td>2024-04-14 01:00:00+00:00</td>\n      <td>True</td>\n      <td>61</td>\n      <td>F</td>\n      <td>None</td>\n      <td>{'unitCode': 'wmoUnit:percent', 'value': 90}</td>\n      <td>{'unitCode': 'wmoUnit:degC', 'value': 13.33333...</td>\n      <td>...</td>\n      <td>Rain</td>\n      <td>Rain before 5pm, then rain showers. Cloudy, wi...</td>\n      <td>NaT</td>\n      <td>NaT</td>\n      <td>16.11</td>\n      <td>13.33</td>\n      <td>55.99</td>\n      <td>15</td>\n      <td>90</td>\n      <td>91</td>\n    </tr>\n    <tr>\n      <th>2024-04-13 08:00:00+00:00</th>\n      <td>1</td>\n      <td>Today</td>\n      <td>2024-04-13 16:00:00+00:00</td>\n      <td>2024-04-14 01:00:00+00:00</td>\n      <td>True</td>\n      <td>61</td>\n      <td>F</td>\n      <td>None</td>\n      <td>{'unitCode': 'wmoUnit:percent', 'value': 90}</td>\n      <td>{'unitCode': 'wmoUnit:degC', 'value': 13.33333...</td>\n      <td>...</td>\n      <td>Rain</td>\n      <td>Rain before 5pm, then rain showers. Cloudy, wi...</td>\n      <td>NaT</td>\n      <td>NaT</td>\n      <td>16.11</td>\n      <td>13.33</td>\n      <td>55.99</td>\n      <td>15</td>\n      <td>90</td>\n      <td>91</td>\n    </tr>\n    <tr>\n      <th>2024-04-13 09:00:00+00:00</th>\n      <td>1</td>\n      <td>Today</td>\n      <td>2024-04-13 16:00:00+00:00</td>\n      <td>2024-04-14 01:00:00+00:00</td>\n      <td>True</td>\n      <td>61</td>\n      <td>F</td>\n      <td>None</td>\n      <td>{'unitCode': 'wmoUnit:percent', 'value': 90}</td>\n      <td>{'unitCode': 'wmoUnit:degC', 'value': 13.33333...</td>\n      <td>...</td>\n      <td>Rain</td>\n      <td>Rain before 5pm, then rain showers. Cloudy, wi...</td>\n      <td>NaT</td>\n      <td>NaT</td>\n      <td>16.11</td>\n      <td>13.33</td>\n      <td>55.99</td>\n      <td>15</td>\n      <td>90</td>\n      <td>91</td>\n    </tr>\n    <tr>\n      <th>2024-04-13 10:00:00+00:00</th>\n      <td>1</td>\n      <td>Today</td>\n      <td>2024-04-13 16:00:00+00:00</td>\n      <td>2024-04-14 01:00:00+00:00</td>\n      <td>True</td>\n      <td>61</td>\n      <td>F</td>\n      <td>None</td>\n      <td>{'unitCode': 'wmoUnit:percent', 'value': 90}</td>\n      <td>{'unitCode': 'wmoUnit:degC', 'value': 13.33333...</td>\n      <td>...</td>\n      <td>Rain</td>\n      <td>Rain before 5pm, then rain showers. Cloudy, wi...</td>\n      <td>NaT</td>\n      <td>NaT</td>\n      <td>16.11</td>\n      <td>13.33</td>\n      <td>55.99</td>\n      <td>15</td>\n      <td>90</td>\n      <td>91</td>\n    </tr>\n    <tr>\n      <th>2024-04-13 11:00:00+00:00</th>\n      <td>1</td>\n      <td>Today</td>\n      <td>2024-04-13 16:00:00+00:00</td>\n      <td>2024-04-14 01:00:00+00:00</td>\n      <td>True</td>\n      <td>61</td>\n      <td>F</td>\n      <td>None</td>\n      <td>{'unitCode': 'wmoUnit:percent', 'value': 90}</td>\n      <td>{'unitCode': 'wmoUnit:degC', 'value': 13.33333...</td>\n      <td>...</td>\n      <td>Rain</td>\n      <td>Rain before 5pm, then rain showers. Cloudy, wi...</td>\n      <td>NaT</td>\n      <td>NaT</td>\n      <td>16.11</td>\n      <td>13.33</td>\n      <td>55.99</td>\n      <td>15</td>\n      <td>90</td>\n      <td>91</td>\n    </tr>\n    <tr>\n      <th>2024-04-13 12:00:00+00:00</th>\n      <td>1</td>\n      <td>Today</td>\n      <td>2024-04-13 16:00:00+00:00</td>\n      <td>2024-04-14 01:00:00+00:00</td>\n      <td>True</td>\n      <td>61</td>\n      <td>F</td>\n      <td>None</td>\n      <td>{'unitCode': 'wmoUnit:percent', 'value': 90}</td>\n      <td>{'unitCode': 'wmoUnit:degC', 'value': 13.33333...</td>\n      <td>...</td>\n      <td>Rain</td>\n      <td>Rain before 5pm, then rain showers. Cloudy, wi...</td>\n      <td>NaT</td>\n      <td>NaT</td>\n      <td>16.11</td>\n      <td>13.33</td>\n      <td>55.99</td>\n      <td>15</td>\n      <td>90</td>\n      <td>91</td>\n    </tr>\n    <tr>\n      <th>2024-04-13 13:00:00+00:00</th>\n      <td>1</td>\n      <td>Today</td>\n      <td>2024-04-13 16:00:00+00:00</td>\n      <td>2024-04-14 01:00:00+00:00</td>\n      <td>True</td>\n      <td>61</td>\n      <td>F</td>\n      <td>None</td>\n      <td>{'unitCode': 'wmoUnit:percent', 'value': 90}</td>\n      <td>{'unitCode': 'wmoUnit:degC', 'value': 13.33333...</td>\n      <td>...</td>\n      <td>Rain</td>\n      <td>Rain before 5pm, then rain showers. Cloudy, wi...</td>\n      <td>NaT</td>\n      <td>NaT</td>\n      <td>16.11</td>\n      <td>13.33</td>\n      <td>55.99</td>\n      <td>15</td>\n      <td>90</td>\n      <td>91</td>\n    </tr>\n    <tr>\n      <th>2024-04-13 14:00:00+00:00</th>\n      <td>1</td>\n      <td>Today</td>\n      <td>2024-04-13 16:00:00+00:00</td>\n      <td>2024-04-14 01:00:00+00:00</td>\n      <td>True</td>\n      <td>61</td>\n      <td>F</td>\n      <td>None</td>\n      <td>{'unitCode': 'wmoUnit:percent', 'value': 90}</td>\n      <td>{'unitCode': 'wmoUnit:degC', 'value': 13.33333...</td>\n      <td>...</td>\n      <td>Rain</td>\n      <td>Rain before 5pm, then rain showers. Cloudy, wi...</td>\n      <td>NaT</td>\n      <td>NaT</td>\n      <td>16.11</td>\n      <td>13.33</td>\n      <td>55.99</td>\n      <td>15</td>\n      <td>90</td>\n      <td>91</td>\n    </tr>\n    <tr>\n      <th>2024-04-13 15:00:00+00:00</th>\n      <td>1</td>\n      <td>Today</td>\n      <td>2024-04-13 16:00:00+00:00</td>\n      <td>2024-04-14 01:00:00+00:00</td>\n      <td>True</td>\n      <td>61</td>\n      <td>F</td>\n      <td>None</td>\n      <td>{'unitCode': 'wmoUnit:percent', 'value': 90}</td>\n      <td>{'unitCode': 'wmoUnit:degC', 'value': 13.33333...</td>\n      <td>...</td>\n      <td>Rain</td>\n      <td>Rain before 5pm, then rain showers. Cloudy, wi...</td>\n      <td>NaT</td>\n      <td>NaT</td>\n      <td>16.11</td>\n      <td>13.33</td>\n      <td>55.99</td>\n      <td>15</td>\n      <td>90</td>\n      <td>91</td>\n    </tr>\n    <tr>\n      <th>2024-04-13 16:00:00+00:00</th>\n      <td>1</td>\n      <td>Today</td>\n      <td>2024-04-13 16:00:00+00:00</td>\n      <td>2024-04-14 01:00:00+00:00</td>\n      <td>True</td>\n      <td>61</td>\n      <td>F</td>\n      <td>None</td>\n      <td>{'unitCode': 'wmoUnit:percent', 'value': 90}</td>\n      <td>{'unitCode': 'wmoUnit:degC', 'value': 13.33333...</td>\n      <td>...</td>\n      <td>Rain</td>\n      <td>Rain before 5pm, then rain showers. Cloudy, wi...</td>\n      <td>NaT</td>\n      <td>NaT</td>\n      <td>16.11</td>\n      <td>13.33</td>\n      <td>55.99</td>\n      <td>15</td>\n      <td>90</td>\n      <td>91</td>\n    </tr>\n    <tr>\n      <th>2024-04-13 17:00:00+00:00</th>\n      <td>2</td>\n      <td>Tonight</td>\n      <td>2024-04-14 01:00:00+00:00</td>\n      <td>2024-04-14 13:00:00+00:00</td>\n      <td>False</td>\n      <td>44</td>\n      <td>F</td>\n      <td>None</td>\n      <td>{'unitCode': 'wmoUnit:percent', 'value': 80}</td>\n      <td>{'unitCode': 'wmoUnit:degC', 'value': 12.22222...</td>\n      <td>...</td>\n      <td>Rain Showers</td>\n      <td>Rain showers. Mostly cloudy, with a low around...</td>\n      <td>NaT</td>\n      <td>NaT</td>\n      <td>6.67</td>\n      <td>12.22</td>\n      <td>54.00</td>\n      <td>0</td>\n      <td>80</td>\n      <td>89</td>\n    </tr>\n    <tr>\n      <th>2024-04-13 18:00:00+00:00</th>\n      <td>2</td>\n      <td>Tonight</td>\n      <td>2024-04-14 01:00:00+00:00</td>\n      <td>2024-04-14 13:00:00+00:00</td>\n      <td>False</td>\n      <td>44</td>\n      <td>F</td>\n      <td>None</td>\n      <td>{'unitCode': 'wmoUnit:percent', 'value': 80}</td>\n      <td>{'unitCode': 'wmoUnit:degC', 'value': 12.22222...</td>\n      <td>...</td>\n      <td>Rain Showers</td>\n      <td>Rain showers. Mostly cloudy, with a low around...</td>\n      <td>NaT</td>\n      <td>NaT</td>\n      <td>6.67</td>\n      <td>12.22</td>\n      <td>54.00</td>\n      <td>0</td>\n      <td>80</td>\n      <td>89</td>\n    </tr>\n    <tr>\n      <th>2024-04-13 19:00:00+00:00</th>\n      <td>2</td>\n      <td>Tonight</td>\n      <td>2024-04-14 01:00:00+00:00</td>\n      <td>2024-04-14 13:00:00+00:00</td>\n      <td>False</td>\n      <td>44</td>\n      <td>F</td>\n      <td>None</td>\n      <td>{'unitCode': 'wmoUnit:percent', 'value': 80}</td>\n      <td>{'unitCode': 'wmoUnit:degC', 'value': 12.22222...</td>\n      <td>...</td>\n      <td>Rain Showers</td>\n      <td>Rain showers. Mostly cloudy, with a low around...</td>\n      <td>NaT</td>\n      <td>NaT</td>\n      <td>6.67</td>\n      <td>12.22</td>\n      <td>54.00</td>\n      <td>0</td>\n      <td>80</td>\n      <td>89</td>\n    </tr>\n    <tr>\n      <th>2024-04-13 20:00:00+00:00</th>\n      <td>2</td>\n      <td>Tonight</td>\n      <td>2024-04-14 01:00:00+00:00</td>\n      <td>2024-04-14 13:00:00+00:00</td>\n      <td>False</td>\n      <td>44</td>\n      <td>F</td>\n      <td>None</td>\n      <td>{'unitCode': 'wmoUnit:percent', 'value': 80}</td>\n      <td>{'unitCode': 'wmoUnit:degC', 'value': 12.22222...</td>\n      <td>...</td>\n      <td>Rain Showers</td>\n      <td>Rain showers. Mostly cloudy, with a low around...</td>\n      <td>NaT</td>\n      <td>NaT</td>\n      <td>6.67</td>\n      <td>12.22</td>\n      <td>54.00</td>\n      <td>0</td>\n      <td>80</td>\n      <td>89</td>\n    </tr>\n    <tr>\n      <th>2024-04-13 21:00:00+00:00</th>\n      <td>2</td>\n      <td>Tonight</td>\n      <td>2024-04-14 01:00:00+00:00</td>\n      <td>2024-04-14 13:00:00+00:00</td>\n      <td>False</td>\n      <td>44</td>\n      <td>F</td>\n      <td>None</td>\n      <td>{'unitCode': 'wmoUnit:percent', 'value': 80}</td>\n      <td>{'unitCode': 'wmoUnit:degC', 'value': 12.22222...</td>\n      <td>...</td>\n      <td>Rain Showers</td>\n      <td>Rain showers. Mostly cloudy, with a low around...</td>\n      <td>NaT</td>\n      <td>NaT</td>\n      <td>6.67</td>\n      <td>12.22</td>\n      <td>54.00</td>\n      <td>0</td>\n      <td>80</td>\n      <td>89</td>\n    </tr>\n    <tr>\n      <th>2024-04-13 22:00:00+00:00</th>\n      <td>2</td>\n      <td>Tonight</td>\n      <td>2024-04-14 01:00:00+00:00</td>\n      <td>2024-04-14 13:00:00+00:00</td>\n      <td>False</td>\n      <td>44</td>\n      <td>F</td>\n      <td>None</td>\n      <td>{'unitCode': 'wmoUnit:percent', 'value': 80}</td>\n      <td>{'unitCode': 'wmoUnit:degC', 'value': 12.22222...</td>\n      <td>...</td>\n      <td>Rain Showers</td>\n      <td>Rain showers. Mostly cloudy, with a low around...</td>\n      <td>NaT</td>\n      <td>NaT</td>\n      <td>6.67</td>\n      <td>12.22</td>\n      <td>54.00</td>\n      <td>0</td>\n      <td>80</td>\n      <td>89</td>\n    </tr>\n    <tr>\n      <th>2024-04-13 23:00:00+00:00</th>\n      <td>2</td>\n      <td>Tonight</td>\n      <td>2024-04-14 01:00:00+00:00</td>\n      <td>2024-04-14 13:00:00+00:00</td>\n      <td>False</td>\n      <td>44</td>\n      <td>F</td>\n      <td>None</td>\n      <td>{'unitCode': 'wmoUnit:percent', 'value': 80}</td>\n      <td>{'unitCode': 'wmoUnit:degC', 'value': 12.22222...</td>\n      <td>...</td>\n      <td>Rain Showers</td>\n      <td>Rain showers. Mostly cloudy, with a low around...</td>\n      <td>NaT</td>\n      <td>NaT</td>\n      <td>6.67</td>\n      <td>12.22</td>\n      <td>54.00</td>\n      <td>0</td>\n      <td>80</td>\n      <td>89</td>\n    </tr>\n  </tbody>\n</table>\n<p>24 rows × 24 columns</p>\n</div>"
     },
     "execution_count": 14,
     "metadata": {},
     "output_type": "execute_result"
    }
   ],
   "source": [
    "def convert_today_weather_to_hourly(half_day_df):\n",
    "    \"\"\"convert the half day dataframe and expand it to each hour of the forecast\n",
    "\n",
    "    > half_day = get_weather_forecast(ct_grid, ct_grid_x, ct_grid_y)\n",
    "    > full_day = convert_today_weather_to_hourly(half_day)\n",
    "    > full_day.colums\n",
    "    > ['temperature', 'dewpoint', 'windSpeed', 'relativeHumidity',\n",
    "       'probabilityOfPrecipitation', 'time_utc', 'time_local']\n",
    "\n",
    "    \"\"\"\n",
    "    start_date = half_day_df['startTime'].min().date()\n",
    "    end_date = start_date + pd.Timedelta(\"1d\")\n",
    "    print(start_date, end_date)\n",
    "    df = pd.DataFrame(index=pd.date_range(start_date, end_date, inclusive='both', freq='h', tz=0),\n",
    "                      columns=half_day_df.columns.tolist())\n",
    "    df['time_utc'] = df.index\n",
    "    df['time_local'] = df.index.tz_convert('US/Pacific')\n",
    "    i = 0\n",
    "    # for each hour in the 24 hour day\n",
    "    for j in range(len(df)):\n",
    "        # for each hour, apply the 6 hour forecast to that period\n",
    "\n",
    "        # get the latest forecast\n",
    "        if half_day_df.loc[i, 'startTime'] < df.index[j]:\n",
    "            i += 1\n",
    "        # apply the forecast in row i to the hourly in row j\n",
    "        df.loc[pd.to_datetime(df.index)[j], :] = half_day_df.loc[i, :]\n",
    "    print(df.columns)\n",
    "    df = convert_weather_values(df)\n",
    "\n",
    "    return df.iloc[:24] # return only the 24 hour period\n",
    "\n",
    "convert_today_weather_to_hourly(today_weather_df)"
   ],
   "metadata": {
    "collapsed": false,
    "ExecuteTime": {
     "end_time": "2024-04-13T16:15:24.922998559Z",
     "start_time": "2024-04-13T16:15:24.851626278Z"
    }
   },
   "id": "6d56d48b907a4764"
  },
  {
   "cell_type": "code",
   "source": [],
   "metadata": {
    "collapsed": false,
    "ExecuteTime": {
     "end_time": "2024-04-13T16:15:24.930543327Z",
     "start_time": "2024-04-13T16:15:24.922442285Z"
    }
   },
   "id": "5e718e0e813916b5",
   "outputs": [],
   "execution_count": 14
  },
  {
   "cell_type": "code",
   "source": [
    "ct_hourly_forecast = get_hourly_weather_forecast(ct_grid, ct_grid_x, ct_grid_y)\n",
    "ct_hourly_forecast['properties']['periods'][0]"
   ],
   "metadata": {
    "collapsed": false,
    "ExecuteTime": {
     "end_time": "2024-04-13T16:15:25.337320772Z",
     "start_time": "2024-04-13T16:15:24.926537971Z"
    }
   },
   "id": "7dca7c9b4c6198b9",
   "outputs": [
    {
     "name": "stdout",
     "output_type": "stream",
     "text": [
      "https://api.weather.gov/gridpoints/LOX/160,48/forecast/hourly\n"
     ]
    },
    {
     "data": {
      "text/plain": "{'number': 1,\n 'name': '',\n 'startTime': '2024-04-13T09:00:00-07:00',\n 'endTime': '2024-04-13T10:00:00-07:00',\n 'isDaytime': True,\n 'temperature': 52,\n 'temperatureUnit': 'F',\n 'temperatureTrend': None,\n 'probabilityOfPrecipitation': {'unitCode': 'wmoUnit:percent', 'value': 49},\n 'dewpoint': {'unitCode': 'wmoUnit:degC', 'value': 7.222222222222222},\n 'relativeHumidity': {'unitCode': 'wmoUnit:percent', 'value': 79},\n 'windSpeed': '15 mph',\n 'windDirection': 'ESE',\n 'icon': 'https://api.weather.gov/icons/land/day/rain,49?size=small',\n 'shortForecast': 'Chance Light Rain',\n 'detailedForecast': ''}"
     },
     "execution_count": 15,
     "metadata": {},
     "output_type": "execute_result"
    }
   ],
   "execution_count": 15
  },
  {
   "cell_type": "code",
   "execution_count": 16,
   "outputs": [],
   "source": [
    "def create_hourly_forecast_df(json_forecast:dict)->pd.DataFrame:\n",
    "    # grab each hourly entry in the forecast\n",
    "    assert 'properties' in json_forecast.keys()\n",
    "\n",
    "    forecast = json_forecast['properties']['periods']\n",
    "    forecast_df = pd.DataFrame(forecast)\n",
    "\n",
    "    # convert startTime to UTC datetime and set as index\n",
    "    forecast_df['time_local'] = pd.to_datetime(forecast_df['startTime'], utc=True).dt.tz_convert('US/Pacific')  # , utc=True)\n",
    "    forecast_df['time_utc'] = pd.to_datetime(forecast_df['startTime'], utc=True)\n",
    "    forecast_df['time'] = forecast_df['time_utc']\n",
    "    forecast_df = forecast_df.set_index('time')\n",
    "\n",
    "    forecast_df = convert_weather_values(forecast_df)\n",
    "\n",
    "\n",
    "    # drop columns that are no longer needed\n",
    "    return forecast_df#.drop(\n",
    "        # columns=['startTime', 'endTime', 'windSpeed', 'number', 'name', 'detailedForecast', 'dewpoint',\n",
    "        #          'probabilityOfPrecipitation', 'relativeHumidity', 'temperatureTrend', 'temperatureUnit'])"
   ],
   "metadata": {
    "collapsed": false,
    "ExecuteTime": {
     "end_time": "2024-04-13T16:15:25.343732974Z",
     "start_time": "2024-04-13T16:15:25.336923926Z"
    }
   },
   "id": "e8375a1b16a2c3c4"
  },
  {
   "cell_type": "code",
   "source": [
    "ct_hourly_forecast_df = create_hourly_forecast_df(ct_hourly_forecast)\n",
    "ct_hourly_forecast_df.head()"
   ],
   "metadata": {
    "collapsed": false,
    "ExecuteTime": {
     "end_time": "2024-04-13T16:15:25.400719601Z",
     "start_time": "2024-04-13T16:15:25.342226283Z"
    }
   },
   "id": "29b2e508373037f",
   "outputs": [
    {
     "data": {
      "text/plain": "                           number name                  startTime  \\\ntime                                                                \n2024-04-13 16:00:00+00:00       1       2024-04-13T09:00:00-07:00   \n2024-04-13 17:00:00+00:00       2       2024-04-13T10:00:00-07:00   \n2024-04-13 18:00:00+00:00       3       2024-04-13T11:00:00-07:00   \n2024-04-13 19:00:00+00:00       4       2024-04-13T12:00:00-07:00   \n2024-04-13 20:00:00+00:00       5       2024-04-13T13:00:00-07:00   \n\n                                             endTime  isDaytime  \\\ntime                                                              \n2024-04-13 16:00:00+00:00  2024-04-13T10:00:00-07:00       True   \n2024-04-13 17:00:00+00:00  2024-04-13T11:00:00-07:00       True   \n2024-04-13 18:00:00+00:00  2024-04-13T12:00:00-07:00       True   \n2024-04-13 19:00:00+00:00  2024-04-13T13:00:00-07:00       True   \n2024-04-13 20:00:00+00:00  2024-04-13T14:00:00-07:00       True   \n\n                           temperature_degF temperatureUnit temperatureTrend  \\\ntime                                                                           \n2024-04-13 16:00:00+00:00                52               F             None   \n2024-04-13 17:00:00+00:00                52               F             None   \n2024-04-13 18:00:00+00:00                55               F             None   \n2024-04-13 19:00:00+00:00                55               F             None   \n2024-04-13 20:00:00+00:00                58               F             None   \n\n                                             probabilityOfPrecipitation  \\\ntime                                                                      \n2024-04-13 16:00:00+00:00  {'unitCode': 'wmoUnit:percent', 'value': 49}   \n2024-04-13 17:00:00+00:00  {'unitCode': 'wmoUnit:percent', 'value': 49}   \n2024-04-13 18:00:00+00:00  {'unitCode': 'wmoUnit:percent', 'value': 86}   \n2024-04-13 19:00:00+00:00  {'unitCode': 'wmoUnit:percent', 'value': 86}   \n2024-04-13 20:00:00+00:00  {'unitCode': 'wmoUnit:percent', 'value': 86}   \n\n                                                                    dewpoint  \\\ntime                                                                           \n2024-04-13 16:00:00+00:00  {'unitCode': 'wmoUnit:degC', 'value': 7.222222...   \n2024-04-13 17:00:00+00:00  {'unitCode': 'wmoUnit:degC', 'value': 6.666666...   \n2024-04-13 18:00:00+00:00  {'unitCode': 'wmoUnit:degC', 'value': 7.777777...   \n2024-04-13 19:00:00+00:00  {'unitCode': 'wmoUnit:degC', 'value': 7.777777...   \n2024-04-13 20:00:00+00:00          {'unitCode': 'wmoUnit:degC', 'value': 10}   \n\n                           ...      shortForecast detailedForecast  \\\ntime                       ...                                       \n2024-04-13 16:00:00+00:00  ...  Chance Light Rain                    \n2024-04-13 17:00:00+00:00  ...  Chance Light Rain                    \n2024-04-13 18:00:00+00:00  ...               Rain                    \n2024-04-13 19:00:00+00:00  ...               Rain                    \n2024-04-13 20:00:00+00:00  ...               Rain                    \n\n                                         time_local                  time_utc  \\\ntime                                                                            \n2024-04-13 16:00:00+00:00 2024-04-13 09:00:00-07:00 2024-04-13 16:00:00+00:00   \n2024-04-13 17:00:00+00:00 2024-04-13 10:00:00-07:00 2024-04-13 17:00:00+00:00   \n2024-04-13 18:00:00+00:00 2024-04-13 11:00:00-07:00 2024-04-13 18:00:00+00:00   \n2024-04-13 19:00:00+00:00 2024-04-13 12:00:00-07:00 2024-04-13 19:00:00+00:00   \n2024-04-13 20:00:00+00:00 2024-04-13 13:00:00-07:00 2024-04-13 20:00:00+00:00   \n\n                          temperature_degC dewpoint_degC dewpoint_degF  \\\ntime                                                                     \n2024-04-13 16:00:00+00:00            11.11          7.22         45.00   \n2024-04-13 17:00:00+00:00            11.11          6.67         44.01   \n2024-04-13 18:00:00+00:00            12.78          7.78         46.00   \n2024-04-13 19:00:00+00:00            12.78          7.78         46.00   \n2024-04-13 20:00:00+00:00            14.44         10.00         50.00   \n\n                          wind_speed_mph  probabilityOfPrecipitationPercent  \\\ntime                                                                          \n2024-04-13 16:00:00+00:00             15                                 49   \n2024-04-13 17:00:00+00:00             15                                 49   \n2024-04-13 18:00:00+00:00             15                                 86   \n2024-04-13 19:00:00+00:00             15                                 86   \n2024-04-13 20:00:00+00:00             15                                 86   \n\n                           relative_humidity_%  \ntime                                            \n2024-04-13 16:00:00+00:00                   79  \n2024-04-13 17:00:00+00:00                   74  \n2024-04-13 18:00:00+00:00                   73  \n2024-04-13 19:00:00+00:00                   74  \n2024-04-13 20:00:00+00:00                   77  \n\n[5 rows x 24 columns]",
      "text/html": "<div>\n<style scoped>\n    .dataframe tbody tr th:only-of-type {\n        vertical-align: middle;\n    }\n\n    .dataframe tbody tr th {\n        vertical-align: top;\n    }\n\n    .dataframe thead th {\n        text-align: right;\n    }\n</style>\n<table border=\"1\" class=\"dataframe\">\n  <thead>\n    <tr style=\"text-align: right;\">\n      <th></th>\n      <th>number</th>\n      <th>name</th>\n      <th>startTime</th>\n      <th>endTime</th>\n      <th>isDaytime</th>\n      <th>temperature_degF</th>\n      <th>temperatureUnit</th>\n      <th>temperatureTrend</th>\n      <th>probabilityOfPrecipitation</th>\n      <th>dewpoint</th>\n      <th>...</th>\n      <th>shortForecast</th>\n      <th>detailedForecast</th>\n      <th>time_local</th>\n      <th>time_utc</th>\n      <th>temperature_degC</th>\n      <th>dewpoint_degC</th>\n      <th>dewpoint_degF</th>\n      <th>wind_speed_mph</th>\n      <th>probabilityOfPrecipitationPercent</th>\n      <th>relative_humidity_%</th>\n    </tr>\n    <tr>\n      <th>time</th>\n      <th></th>\n      <th></th>\n      <th></th>\n      <th></th>\n      <th></th>\n      <th></th>\n      <th></th>\n      <th></th>\n      <th></th>\n      <th></th>\n      <th></th>\n      <th></th>\n      <th></th>\n      <th></th>\n      <th></th>\n      <th></th>\n      <th></th>\n      <th></th>\n      <th></th>\n      <th></th>\n      <th></th>\n    </tr>\n  </thead>\n  <tbody>\n    <tr>\n      <th>2024-04-13 16:00:00+00:00</th>\n      <td>1</td>\n      <td></td>\n      <td>2024-04-13T09:00:00-07:00</td>\n      <td>2024-04-13T10:00:00-07:00</td>\n      <td>True</td>\n      <td>52</td>\n      <td>F</td>\n      <td>None</td>\n      <td>{'unitCode': 'wmoUnit:percent', 'value': 49}</td>\n      <td>{'unitCode': 'wmoUnit:degC', 'value': 7.222222...</td>\n      <td>...</td>\n      <td>Chance Light Rain</td>\n      <td></td>\n      <td>2024-04-13 09:00:00-07:00</td>\n      <td>2024-04-13 16:00:00+00:00</td>\n      <td>11.11</td>\n      <td>7.22</td>\n      <td>45.00</td>\n      <td>15</td>\n      <td>49</td>\n      <td>79</td>\n    </tr>\n    <tr>\n      <th>2024-04-13 17:00:00+00:00</th>\n      <td>2</td>\n      <td></td>\n      <td>2024-04-13T10:00:00-07:00</td>\n      <td>2024-04-13T11:00:00-07:00</td>\n      <td>True</td>\n      <td>52</td>\n      <td>F</td>\n      <td>None</td>\n      <td>{'unitCode': 'wmoUnit:percent', 'value': 49}</td>\n      <td>{'unitCode': 'wmoUnit:degC', 'value': 6.666666...</td>\n      <td>...</td>\n      <td>Chance Light Rain</td>\n      <td></td>\n      <td>2024-04-13 10:00:00-07:00</td>\n      <td>2024-04-13 17:00:00+00:00</td>\n      <td>11.11</td>\n      <td>6.67</td>\n      <td>44.01</td>\n      <td>15</td>\n      <td>49</td>\n      <td>74</td>\n    </tr>\n    <tr>\n      <th>2024-04-13 18:00:00+00:00</th>\n      <td>3</td>\n      <td></td>\n      <td>2024-04-13T11:00:00-07:00</td>\n      <td>2024-04-13T12:00:00-07:00</td>\n      <td>True</td>\n      <td>55</td>\n      <td>F</td>\n      <td>None</td>\n      <td>{'unitCode': 'wmoUnit:percent', 'value': 86}</td>\n      <td>{'unitCode': 'wmoUnit:degC', 'value': 7.777777...</td>\n      <td>...</td>\n      <td>Rain</td>\n      <td></td>\n      <td>2024-04-13 11:00:00-07:00</td>\n      <td>2024-04-13 18:00:00+00:00</td>\n      <td>12.78</td>\n      <td>7.78</td>\n      <td>46.00</td>\n      <td>15</td>\n      <td>86</td>\n      <td>73</td>\n    </tr>\n    <tr>\n      <th>2024-04-13 19:00:00+00:00</th>\n      <td>4</td>\n      <td></td>\n      <td>2024-04-13T12:00:00-07:00</td>\n      <td>2024-04-13T13:00:00-07:00</td>\n      <td>True</td>\n      <td>55</td>\n      <td>F</td>\n      <td>None</td>\n      <td>{'unitCode': 'wmoUnit:percent', 'value': 86}</td>\n      <td>{'unitCode': 'wmoUnit:degC', 'value': 7.777777...</td>\n      <td>...</td>\n      <td>Rain</td>\n      <td></td>\n      <td>2024-04-13 12:00:00-07:00</td>\n      <td>2024-04-13 19:00:00+00:00</td>\n      <td>12.78</td>\n      <td>7.78</td>\n      <td>46.00</td>\n      <td>15</td>\n      <td>86</td>\n      <td>74</td>\n    </tr>\n    <tr>\n      <th>2024-04-13 20:00:00+00:00</th>\n      <td>5</td>\n      <td></td>\n      <td>2024-04-13T13:00:00-07:00</td>\n      <td>2024-04-13T14:00:00-07:00</td>\n      <td>True</td>\n      <td>58</td>\n      <td>F</td>\n      <td>None</td>\n      <td>{'unitCode': 'wmoUnit:percent', 'value': 86}</td>\n      <td>{'unitCode': 'wmoUnit:degC', 'value': 10}</td>\n      <td>...</td>\n      <td>Rain</td>\n      <td></td>\n      <td>2024-04-13 13:00:00-07:00</td>\n      <td>2024-04-13 20:00:00+00:00</td>\n      <td>14.44</td>\n      <td>10.00</td>\n      <td>50.00</td>\n      <td>15</td>\n      <td>86</td>\n      <td>77</td>\n    </tr>\n  </tbody>\n</table>\n<p>5 rows × 24 columns</p>\n</div>"
     },
     "execution_count": 17,
     "metadata": {},
     "output_type": "execute_result"
    }
   ],
   "execution_count": 17
  },
  {
   "cell_type": "code",
   "source": [
    "jpl_forecast = get_weather_forecast(jpl_grid, jpl_grid_x, jpl_grid_y)\n",
    "jpl_forecast_df = create_forecast_df(jpl_forecast)\n",
    "jpl_forecast_df.head()"
   ],
   "metadata": {
    "collapsed": false,
    "ExecuteTime": {
     "end_time": "2024-04-13T16:15:25.962667747Z",
     "start_time": "2024-04-13T16:15:25.396709178Z"
    }
   },
   "id": "46c8e5e67aed3eb2",
   "outputs": [
    {
     "name": "stdout",
     "output_type": "stream",
     "text": [
      "https://api.weather.gov/gridpoints/LOX/159,51/forecast\n"
     ]
    },
    {
     "data": {
      "text/plain": "   number          name                 startTime                   endTime  \\\n0       1         Today 2024-04-13 16:00:00+00:00 2024-04-14 01:00:00+00:00   \n1       2       Tonight 2024-04-14 01:00:00+00:00 2024-04-14 13:00:00+00:00   \n2       3        Sunday 2024-04-14 13:00:00+00:00 2024-04-15 01:00:00+00:00   \n3       4  Sunday Night 2024-04-15 01:00:00+00:00 2024-04-15 13:00:00+00:00   \n4       5        Monday 2024-04-15 13:00:00+00:00 2024-04-16 01:00:00+00:00   \n\n   isDaytime  temperature temperatureUnit temperatureTrend  \\\n0       True           59               F             None   \n1      False           43               F             None   \n2       True           56               F             None   \n3      False           44               F             None   \n4       True           65               F             None   \n\n                       probabilityOfPrecipitation  \\\n0    {'unitCode': 'wmoUnit:percent', 'value': 90}   \n1    {'unitCode': 'wmoUnit:percent', 'value': 80}   \n2    {'unitCode': 'wmoUnit:percent', 'value': 80}   \n3    {'unitCode': 'wmoUnit:percent', 'value': 40}   \n4  {'unitCode': 'wmoUnit:percent', 'value': None}   \n\n                                            dewpoint  \\\n0  {'unitCode': 'wmoUnit:degC', 'value': 12.22222...   \n1  {'unitCode': 'wmoUnit:degC', 'value': 11.11111...   \n2          {'unitCode': 'wmoUnit:degC', 'value': 10}   \n3  {'unitCode': 'wmoUnit:degC', 'value': 10.55555...   \n4  {'unitCode': 'wmoUnit:degC', 'value': 9.444444...   \n\n                               relativeHumidity     windSpeed windDirection  \\\n0  {'unitCode': 'wmoUnit:percent', 'value': 95}  15 to 20 mph             S   \n1  {'unitCode': 'wmoUnit:percent', 'value': 93}   0 to 15 mph           SSW   \n2  {'unitCode': 'wmoUnit:percent', 'value': 92}   5 to 15 mph           SSW   \n3  {'unitCode': 'wmoUnit:percent', 'value': 93}   5 to 15 mph           WSW   \n4  {'unitCode': 'wmoUnit:percent', 'value': 93}   5 to 15 mph           WNW   \n\n                                                icon  \\\n0  https://api.weather.gov/icons/land/day/rain,90...   \n1  https://api.weather.gov/icons/land/night/rain_...   \n2  https://api.weather.gov/icons/land/day/tsra_sc...   \n3  https://api.weather.gov/icons/land/night/rain_...   \n4  https://api.weather.gov/icons/land/day/few?siz...   \n\n                            shortForecast  \\\n0                                    Rain   \n1                            Rain Showers   \n2               Showers And Thunderstorms   \n3  Chance Rain Showers then Partly Cloudy   \n4                                   Sunny   \n\n                                    detailedForecast  \n0  Rain before 5pm, then rain showers. Cloudy, wi...  \n1  Rain showers. Mostly cloudy, with a low around...  \n2  A chance of rain showers before 11am, then sho...  \n3  A chance of rain showers before 11pm. Partly c...  \n4  Sunny, with a high near 65. West northwest win...  ",
      "text/html": "<div>\n<style scoped>\n    .dataframe tbody tr th:only-of-type {\n        vertical-align: middle;\n    }\n\n    .dataframe tbody tr th {\n        vertical-align: top;\n    }\n\n    .dataframe thead th {\n        text-align: right;\n    }\n</style>\n<table border=\"1\" class=\"dataframe\">\n  <thead>\n    <tr style=\"text-align: right;\">\n      <th></th>\n      <th>number</th>\n      <th>name</th>\n      <th>startTime</th>\n      <th>endTime</th>\n      <th>isDaytime</th>\n      <th>temperature</th>\n      <th>temperatureUnit</th>\n      <th>temperatureTrend</th>\n      <th>probabilityOfPrecipitation</th>\n      <th>dewpoint</th>\n      <th>relativeHumidity</th>\n      <th>windSpeed</th>\n      <th>windDirection</th>\n      <th>icon</th>\n      <th>shortForecast</th>\n      <th>detailedForecast</th>\n    </tr>\n  </thead>\n  <tbody>\n    <tr>\n      <th>0</th>\n      <td>1</td>\n      <td>Today</td>\n      <td>2024-04-13 16:00:00+00:00</td>\n      <td>2024-04-14 01:00:00+00:00</td>\n      <td>True</td>\n      <td>59</td>\n      <td>F</td>\n      <td>None</td>\n      <td>{'unitCode': 'wmoUnit:percent', 'value': 90}</td>\n      <td>{'unitCode': 'wmoUnit:degC', 'value': 12.22222...</td>\n      <td>{'unitCode': 'wmoUnit:percent', 'value': 95}</td>\n      <td>15 to 20 mph</td>\n      <td>S</td>\n      <td>https://api.weather.gov/icons/land/day/rain,90...</td>\n      <td>Rain</td>\n      <td>Rain before 5pm, then rain showers. Cloudy, wi...</td>\n    </tr>\n    <tr>\n      <th>1</th>\n      <td>2</td>\n      <td>Tonight</td>\n      <td>2024-04-14 01:00:00+00:00</td>\n      <td>2024-04-14 13:00:00+00:00</td>\n      <td>False</td>\n      <td>43</td>\n      <td>F</td>\n      <td>None</td>\n      <td>{'unitCode': 'wmoUnit:percent', 'value': 80}</td>\n      <td>{'unitCode': 'wmoUnit:degC', 'value': 11.11111...</td>\n      <td>{'unitCode': 'wmoUnit:percent', 'value': 93}</td>\n      <td>0 to 15 mph</td>\n      <td>SSW</td>\n      <td>https://api.weather.gov/icons/land/night/rain_...</td>\n      <td>Rain Showers</td>\n      <td>Rain showers. Mostly cloudy, with a low around...</td>\n    </tr>\n    <tr>\n      <th>2</th>\n      <td>3</td>\n      <td>Sunday</td>\n      <td>2024-04-14 13:00:00+00:00</td>\n      <td>2024-04-15 01:00:00+00:00</td>\n      <td>True</td>\n      <td>56</td>\n      <td>F</td>\n      <td>None</td>\n      <td>{'unitCode': 'wmoUnit:percent', 'value': 80}</td>\n      <td>{'unitCode': 'wmoUnit:degC', 'value': 10}</td>\n      <td>{'unitCode': 'wmoUnit:percent', 'value': 92}</td>\n      <td>5 to 15 mph</td>\n      <td>SSW</td>\n      <td>https://api.weather.gov/icons/land/day/tsra_sc...</td>\n      <td>Showers And Thunderstorms</td>\n      <td>A chance of rain showers before 11am, then sho...</td>\n    </tr>\n    <tr>\n      <th>3</th>\n      <td>4</td>\n      <td>Sunday Night</td>\n      <td>2024-04-15 01:00:00+00:00</td>\n      <td>2024-04-15 13:00:00+00:00</td>\n      <td>False</td>\n      <td>44</td>\n      <td>F</td>\n      <td>None</td>\n      <td>{'unitCode': 'wmoUnit:percent', 'value': 40}</td>\n      <td>{'unitCode': 'wmoUnit:degC', 'value': 10.55555...</td>\n      <td>{'unitCode': 'wmoUnit:percent', 'value': 93}</td>\n      <td>5 to 15 mph</td>\n      <td>WSW</td>\n      <td>https://api.weather.gov/icons/land/night/rain_...</td>\n      <td>Chance Rain Showers then Partly Cloudy</td>\n      <td>A chance of rain showers before 11pm. Partly c...</td>\n    </tr>\n    <tr>\n      <th>4</th>\n      <td>5</td>\n      <td>Monday</td>\n      <td>2024-04-15 13:00:00+00:00</td>\n      <td>2024-04-16 01:00:00+00:00</td>\n      <td>True</td>\n      <td>65</td>\n      <td>F</td>\n      <td>None</td>\n      <td>{'unitCode': 'wmoUnit:percent', 'value': None}</td>\n      <td>{'unitCode': 'wmoUnit:degC', 'value': 9.444444...</td>\n      <td>{'unitCode': 'wmoUnit:percent', 'value': 93}</td>\n      <td>5 to 15 mph</td>\n      <td>WNW</td>\n      <td>https://api.weather.gov/icons/land/day/few?siz...</td>\n      <td>Sunny</td>\n      <td>Sunny, with a high near 65. West northwest win...</td>\n    </tr>\n  </tbody>\n</table>\n</div>"
     },
     "execution_count": 18,
     "metadata": {},
     "output_type": "execute_result"
    }
   ],
   "execution_count": 18
  },
  {
   "cell_type": "code",
   "source": [
    "office_forecast = get_weather_forecast(office_grid, office_grid_x, office_grid_y)\n",
    "office_forecast_df = create_forecast_df(office_forecast)\n",
    "office_forecast_df.head()"
   ],
   "metadata": {
    "collapsed": false,
    "ExecuteTime": {
     "end_time": "2024-04-13T16:15:26.440076843Z",
     "start_time": "2024-04-13T16:15:25.954800142Z"
    }
   },
   "id": "92a9bef2f10c6a3f",
   "outputs": [
    {
     "name": "stdout",
     "output_type": "stream",
     "text": [
      "https://api.weather.gov/gridpoints/MTR/99,82/forecast\n"
     ]
    },
    {
     "data": {
      "text/plain": "   number          name                 startTime                   endTime  \\\n0       1         Today 2024-04-13 16:00:00+00:00 2024-04-14 01:00:00+00:00   \n1       2       Tonight 2024-04-14 01:00:00+00:00 2024-04-14 13:00:00+00:00   \n2       3        Sunday 2024-04-14 13:00:00+00:00 2024-04-15 01:00:00+00:00   \n3       4  Sunday Night 2024-04-15 01:00:00+00:00 2024-04-15 13:00:00+00:00   \n4       5        Monday 2024-04-15 13:00:00+00:00 2024-04-16 01:00:00+00:00   \n\n   isDaytime  temperature temperatureUnit temperatureTrend  \\\n0       True           59               F          falling   \n1      False           44               F           rising   \n2       True           63               F          falling   \n3      False           45               F             None   \n4       True           68               F             None   \n\n                       probabilityOfPrecipitation  \\\n0    {'unitCode': 'wmoUnit:percent', 'value': 90}   \n1    {'unitCode': 'wmoUnit:percent', 'value': 80}   \n2  {'unitCode': 'wmoUnit:percent', 'value': None}   \n3  {'unitCode': 'wmoUnit:percent', 'value': None}   \n4  {'unitCode': 'wmoUnit:percent', 'value': None}   \n\n                                            dewpoint  \\\n0  {'unitCode': 'wmoUnit:degC', 'value': 7.222222...   \n1  {'unitCode': 'wmoUnit:degC', 'value': 7.222222...   \n2  {'unitCode': 'wmoUnit:degC', 'value': 8.333333...   \n3  {'unitCode': 'wmoUnit:degC', 'value': 8.333333...   \n4  {'unitCode': 'wmoUnit:degC', 'value': 9.444444...   \n\n                               relativeHumidity     windSpeed windDirection  \\\n0  {'unitCode': 'wmoUnit:percent', 'value': 88}  10 to 14 mph           SSE   \n1  {'unitCode': 'wmoUnit:percent', 'value': 92}   7 to 15 mph            SE   \n2  {'unitCode': 'wmoUnit:percent', 'value': 95}   5 to 12 mph             E   \n3  {'unitCode': 'wmoUnit:percent', 'value': 93}   5 to 12 mph            NW   \n4  {'unitCode': 'wmoUnit:percent', 'value': 94}   3 to 12 mph           WNW   \n\n                                                icon  \\\n0  https://api.weather.gov/icons/land/day/rain,90...   \n1  https://api.weather.gov/icons/land/night/tsra_...   \n2  https://api.weather.gov/icons/land/day/bkn?siz...   \n3  https://api.weather.gov/icons/land/night/bkn?s...   \n4  https://api.weather.gov/icons/land/day/sct?siz...   \n\n                         shortForecast  \\\n0  Rain then Showers And Thunderstorms   \n1            Showers And Thunderstorms   \n2                         Partly Sunny   \n3                        Mostly Cloudy   \n4                         Mostly Sunny   \n\n                                    detailedForecast  \n0  Rain before 5pm, then showers and thunderstorm...  \n1  Showers and thunderstorms before 5am. Mostly c...  \n2  Partly sunny. High near 63, with temperatures ...  \n3  Mostly cloudy, with a low around 45. Northwest...  \n4  Mostly sunny, with a high near 68. West northw...  ",
      "text/html": "<div>\n<style scoped>\n    .dataframe tbody tr th:only-of-type {\n        vertical-align: middle;\n    }\n\n    .dataframe tbody tr th {\n        vertical-align: top;\n    }\n\n    .dataframe thead th {\n        text-align: right;\n    }\n</style>\n<table border=\"1\" class=\"dataframe\">\n  <thead>\n    <tr style=\"text-align: right;\">\n      <th></th>\n      <th>number</th>\n      <th>name</th>\n      <th>startTime</th>\n      <th>endTime</th>\n      <th>isDaytime</th>\n      <th>temperature</th>\n      <th>temperatureUnit</th>\n      <th>temperatureTrend</th>\n      <th>probabilityOfPrecipitation</th>\n      <th>dewpoint</th>\n      <th>relativeHumidity</th>\n      <th>windSpeed</th>\n      <th>windDirection</th>\n      <th>icon</th>\n      <th>shortForecast</th>\n      <th>detailedForecast</th>\n    </tr>\n  </thead>\n  <tbody>\n    <tr>\n      <th>0</th>\n      <td>1</td>\n      <td>Today</td>\n      <td>2024-04-13 16:00:00+00:00</td>\n      <td>2024-04-14 01:00:00+00:00</td>\n      <td>True</td>\n      <td>59</td>\n      <td>F</td>\n      <td>falling</td>\n      <td>{'unitCode': 'wmoUnit:percent', 'value': 90}</td>\n      <td>{'unitCode': 'wmoUnit:degC', 'value': 7.222222...</td>\n      <td>{'unitCode': 'wmoUnit:percent', 'value': 88}</td>\n      <td>10 to 14 mph</td>\n      <td>SSE</td>\n      <td>https://api.weather.gov/icons/land/day/rain,90...</td>\n      <td>Rain then Showers And Thunderstorms</td>\n      <td>Rain before 5pm, then showers and thunderstorm...</td>\n    </tr>\n    <tr>\n      <th>1</th>\n      <td>2</td>\n      <td>Tonight</td>\n      <td>2024-04-14 01:00:00+00:00</td>\n      <td>2024-04-14 13:00:00+00:00</td>\n      <td>False</td>\n      <td>44</td>\n      <td>F</td>\n      <td>rising</td>\n      <td>{'unitCode': 'wmoUnit:percent', 'value': 80}</td>\n      <td>{'unitCode': 'wmoUnit:degC', 'value': 7.222222...</td>\n      <td>{'unitCode': 'wmoUnit:percent', 'value': 92}</td>\n      <td>7 to 15 mph</td>\n      <td>SE</td>\n      <td>https://api.weather.gov/icons/land/night/tsra_...</td>\n      <td>Showers And Thunderstorms</td>\n      <td>Showers and thunderstorms before 5am. Mostly c...</td>\n    </tr>\n    <tr>\n      <th>2</th>\n      <td>3</td>\n      <td>Sunday</td>\n      <td>2024-04-14 13:00:00+00:00</td>\n      <td>2024-04-15 01:00:00+00:00</td>\n      <td>True</td>\n      <td>63</td>\n      <td>F</td>\n      <td>falling</td>\n      <td>{'unitCode': 'wmoUnit:percent', 'value': None}</td>\n      <td>{'unitCode': 'wmoUnit:degC', 'value': 8.333333...</td>\n      <td>{'unitCode': 'wmoUnit:percent', 'value': 95}</td>\n      <td>5 to 12 mph</td>\n      <td>E</td>\n      <td>https://api.weather.gov/icons/land/day/bkn?siz...</td>\n      <td>Partly Sunny</td>\n      <td>Partly sunny. High near 63, with temperatures ...</td>\n    </tr>\n    <tr>\n      <th>3</th>\n      <td>4</td>\n      <td>Sunday Night</td>\n      <td>2024-04-15 01:00:00+00:00</td>\n      <td>2024-04-15 13:00:00+00:00</td>\n      <td>False</td>\n      <td>45</td>\n      <td>F</td>\n      <td>None</td>\n      <td>{'unitCode': 'wmoUnit:percent', 'value': None}</td>\n      <td>{'unitCode': 'wmoUnit:degC', 'value': 8.333333...</td>\n      <td>{'unitCode': 'wmoUnit:percent', 'value': 93}</td>\n      <td>5 to 12 mph</td>\n      <td>NW</td>\n      <td>https://api.weather.gov/icons/land/night/bkn?s...</td>\n      <td>Mostly Cloudy</td>\n      <td>Mostly cloudy, with a low around 45. Northwest...</td>\n    </tr>\n    <tr>\n      <th>4</th>\n      <td>5</td>\n      <td>Monday</td>\n      <td>2024-04-15 13:00:00+00:00</td>\n      <td>2024-04-16 01:00:00+00:00</td>\n      <td>True</td>\n      <td>68</td>\n      <td>F</td>\n      <td>None</td>\n      <td>{'unitCode': 'wmoUnit:percent', 'value': None}</td>\n      <td>{'unitCode': 'wmoUnit:degC', 'value': 9.444444...</td>\n      <td>{'unitCode': 'wmoUnit:percent', 'value': 94}</td>\n      <td>3 to 12 mph</td>\n      <td>WNW</td>\n      <td>https://api.weather.gov/icons/land/day/sct?siz...</td>\n      <td>Mostly Sunny</td>\n      <td>Mostly sunny, with a high near 68. West northw...</td>\n    </tr>\n  </tbody>\n</table>\n</div>"
     },
     "execution_count": 19,
     "metadata": {},
     "output_type": "execute_result"
    }
   ],
   "execution_count": 19
  },
  {
   "cell_type": "markdown",
   "source": [
    "# 4 put it all together"
   ],
   "metadata": {
    "collapsed": false
   },
   "id": "6e5befbd06cd3805"
  },
  {
   "metadata": {
    "ExecuteTime": {
     "end_time": "2024-04-13T16:15:26.452411567Z",
     "start_time": "2024-04-13T16:15:26.426177154Z"
    }
   },
   "cell_type": "code",
   "outputs": [],
   "execution_count": 20,
   "source": [
    "# def get_processed_hourly_7day_weather(latitude:float, longitude:float, test_mode:bool=False) -> pd.DataFrame:\n",
    "#     \"\"\"given the latitude and longitude of a site, return a processed dataframe of the hourly weather. This is a orchestrator function\n",
    "#     args:\n",
    "#         latitude: float - the latitude of the site\n",
    "#         longitude: float - the longitude of the site\n",
    "#         test_mode: bool - if test mode is true, pull stored data from disk, otherwise call the apis\n",
    "#     returns\n",
    "#         weather_df: pd.DataFrame - the processed dataframe of the hourly 7day weather for that site\n",
    "#     \"\"\"\n",
    "#     if test_mode:\n",
    "#         return pd.DataFrame({})\n",
    "#     office, grid_x, grid_y = get_grid_points(latitude, longitude)\n",
    "#     weather_json = get_hourly_weather_forecast(office, grid_x, grid_y)\n",
    "#     weather_df = create_hourly_forecast_df(weather_json)\n",
    "#     return weather_df\n",
    "# test \n",
    "# get_processed_hourly_7day_weather(latitude=caltech_lat, longitude=caltech_lon, test_mode=False).to_csv('../data/test_forecast.csv')"
   ],
   "id": "cd0814a78e193d28"
  },
  {
   "cell_type": "code",
   "execution_count": 21,
   "outputs": [
    {
     "name": "stderr",
     "output_type": "stream",
     "text": [
      "2024-04-13 10:15:26.656 WARNING streamlit.runtime.caching.cache_data_api: No runtime found, using MemoryCacheStorageManager\n",
      "2024-04-13 10:15:26.658 WARNING streamlit.runtime.caching.cache_data_api: No runtime found, using MemoryCacheStorageManager\n",
      "2024-04-13 10:15:26.659 WARNING streamlit.runtime.caching.cache_data_api: No runtime found, using MemoryCacheStorageManager\n",
      "2024-04-13 10:15:26.660 WARNING streamlit.runtime.caching.cache_data_api: No runtime found, using MemoryCacheStorageManager\n",
      "2024-04-13 10:15:26.662 WARNING streamlit.runtime.caching.cache_data_api: No runtime found, using MemoryCacheStorageManager\n",
      "2024-04-13 10:15:26.663 WARNING streamlit.runtime.caching.cache_data_api: No runtime found, using MemoryCacheStorageManager\n",
      "2024-04-13 10:15:26.664 WARNING streamlit.runtime.caching.cache_data_api: No runtime found, using MemoryCacheStorageManager\n",
      "2024-04-13 10:15:26.731 \n",
      "  \u001B[33m\u001B[1mWarning:\u001B[0m to view this Streamlit app on a browser, run it with the following\n",
      "  command:\n",
      "\n",
      "    streamlit run /home/denny/anaconda3/envs/ev/lib/python3.11/site-packages/ipykernel_launcher.py [ARGUMENTS]\n",
      "2024-04-13 10:15:26.733 No runtime found, using MemoryCacheStorageManager\n",
      "2024-04-13 10:15:26.734 No runtime found, using MemoryCacheStorageManager\n"
     ]
    },
    {
     "name": "stdout",
     "output_type": "stream",
     "text": [
      "get grid points url: https://api.weather.gov/points/34.134785646454844,-118.11691382579643\n"
     ]
    },
    {
     "name": "stderr",
     "output_type": "stream",
     "text": [
      "2024-04-13 10:15:27.506 No runtime found, using MemoryCacheStorageManager\n"
     ]
    },
    {
     "name": "stdout",
     "output_type": "stream",
     "text": [
      "status code: 200\n",
      "https://api.weather.gov/gridpoints/LOX/160,48/forecast\n"
     ]
    },
    {
     "name": "stderr",
     "output_type": "stream",
     "text": [
      "2024-04-13 10:15:28.310 No runtime found, using MemoryCacheStorageManager\n",
      "2024-04-13 10:15:28.391 No runtime found, using MemoryCacheStorageManager\n"
     ]
    },
    {
     "name": "stdout",
     "output_type": "stream",
     "text": [
      "2024-04-13 2024-04-14\n",
      "https://api.weather.gov/gridpoints/LOX/160,48/forecast/hourly\n"
     ]
    },
    {
     "name": "stderr",
     "output_type": "stream",
     "text": [
      "2024-04-13 10:15:28.977 No runtime found, using MemoryCacheStorageManager\n"
     ]
    }
   ],
   "source": [
    "from src.weather import get_processed_hourly_7day_weather\n",
    "today_weather_df, weather_df = get_processed_hourly_7day_weather(latitude=caltech_lat, longitude=caltech_lon, test_mode=False)"
   ],
   "metadata": {
    "collapsed": false,
    "ExecuteTime": {
     "end_time": "2024-04-13T16:15:29.042841555Z",
     "start_time": "2024-04-13T16:15:26.428661606Z"
    }
   },
   "id": "3ba14b7d884537d"
  },
  {
   "cell_type": "code",
   "execution_count": 22,
   "outputs": [
    {
     "data": {
      "text/plain": "                           temperature_degC  dewpoint_degC  \\\n2024-04-13 00:00:00+00:00             16.11          13.33   \n2024-04-13 01:00:00+00:00             16.11          13.33   \n2024-04-13 02:00:00+00:00             16.11          13.33   \n2024-04-13 03:00:00+00:00             16.11          13.33   \n2024-04-13 04:00:00+00:00             16.11          13.33   \n\n                           relative_humidity_%  wind_speed_mph  \n2024-04-13 00:00:00+00:00                   91              15  \n2024-04-13 01:00:00+00:00                   91              15  \n2024-04-13 02:00:00+00:00                   91              15  \n2024-04-13 03:00:00+00:00                   91              15  \n2024-04-13 04:00:00+00:00                   91              15  ",
      "text/html": "<div>\n<style scoped>\n    .dataframe tbody tr th:only-of-type {\n        vertical-align: middle;\n    }\n\n    .dataframe tbody tr th {\n        vertical-align: top;\n    }\n\n    .dataframe thead th {\n        text-align: right;\n    }\n</style>\n<table border=\"1\" class=\"dataframe\">\n  <thead>\n    <tr style=\"text-align: right;\">\n      <th></th>\n      <th>temperature_degC</th>\n      <th>dewpoint_degC</th>\n      <th>relative_humidity_%</th>\n      <th>wind_speed_mph</th>\n    </tr>\n  </thead>\n  <tbody>\n    <tr>\n      <th>2024-04-13 00:00:00+00:00</th>\n      <td>16.11</td>\n      <td>13.33</td>\n      <td>91</td>\n      <td>15</td>\n    </tr>\n    <tr>\n      <th>2024-04-13 01:00:00+00:00</th>\n      <td>16.11</td>\n      <td>13.33</td>\n      <td>91</td>\n      <td>15</td>\n    </tr>\n    <tr>\n      <th>2024-04-13 02:00:00+00:00</th>\n      <td>16.11</td>\n      <td>13.33</td>\n      <td>91</td>\n      <td>15</td>\n    </tr>\n    <tr>\n      <th>2024-04-13 03:00:00+00:00</th>\n      <td>16.11</td>\n      <td>13.33</td>\n      <td>91</td>\n      <td>15</td>\n    </tr>\n    <tr>\n      <th>2024-04-13 04:00:00+00:00</th>\n      <td>16.11</td>\n      <td>13.33</td>\n      <td>91</td>\n      <td>15</td>\n    </tr>\n  </tbody>\n</table>\n</div>"
     },
     "execution_count": 22,
     "metadata": {},
     "output_type": "execute_result"
    }
   ],
   "source": [
    "weather_features = ['temperature_degC', 'dewpoint_degC','relative_humidity_%', 'wind_speed_mph']\n",
    "weather_df[weather_features].head()"
   ],
   "metadata": {
    "collapsed": false,
    "ExecuteTime": {
     "end_time": "2024-04-13T16:15:29.043190791Z",
     "start_time": "2024-04-13T16:15:29.038021099Z"
    }
   },
   "id": "2d2fedde6f67ee42"
  },
  {
   "cell_type": "code",
   "execution_count": 23,
   "outputs": [
    {
     "data": {
      "text/plain": "                          number   name                  startTime  \\\n2024-04-13 00:00:00+00:00      1  Today  2024-04-13 16:00:00+00:00   \n2024-04-13 01:00:00+00:00      1  Today  2024-04-13 16:00:00+00:00   \n2024-04-13 02:00:00+00:00      1  Today  2024-04-13 16:00:00+00:00   \n2024-04-13 03:00:00+00:00      1  Today  2024-04-13 16:00:00+00:00   \n2024-04-13 04:00:00+00:00      1  Today  2024-04-13 16:00:00+00:00   \n\n                                             endTime isDaytime  \\\n2024-04-13 00:00:00+00:00  2024-04-14 01:00:00+00:00      True   \n2024-04-13 01:00:00+00:00  2024-04-14 01:00:00+00:00      True   \n2024-04-13 02:00:00+00:00  2024-04-14 01:00:00+00:00      True   \n2024-04-13 03:00:00+00:00  2024-04-14 01:00:00+00:00      True   \n2024-04-13 04:00:00+00:00  2024-04-14 01:00:00+00:00      True   \n\n                          temperature_degF temperatureUnit temperatureTrend  \\\n2024-04-13 00:00:00+00:00               61               F             None   \n2024-04-13 01:00:00+00:00               61               F             None   \n2024-04-13 02:00:00+00:00               61               F             None   \n2024-04-13 03:00:00+00:00               61               F             None   \n2024-04-13 04:00:00+00:00               61               F             None   \n\n                                             probabilityOfPrecipitation  \\\n2024-04-13 00:00:00+00:00  {'unitCode': 'wmoUnit:percent', 'value': 90}   \n2024-04-13 01:00:00+00:00  {'unitCode': 'wmoUnit:percent', 'value': 90}   \n2024-04-13 02:00:00+00:00  {'unitCode': 'wmoUnit:percent', 'value': 90}   \n2024-04-13 03:00:00+00:00  {'unitCode': 'wmoUnit:percent', 'value': 90}   \n2024-04-13 04:00:00+00:00  {'unitCode': 'wmoUnit:percent', 'value': 90}   \n\n                                                                    dewpoint  \\\n2024-04-13 00:00:00+00:00  {'unitCode': 'wmoUnit:degC', 'value': 13.33333...   \n2024-04-13 01:00:00+00:00  {'unitCode': 'wmoUnit:degC', 'value': 13.33333...   \n2024-04-13 02:00:00+00:00  {'unitCode': 'wmoUnit:degC', 'value': 13.33333...   \n2024-04-13 03:00:00+00:00  {'unitCode': 'wmoUnit:degC', 'value': 13.33333...   \n2024-04-13 04:00:00+00:00  {'unitCode': 'wmoUnit:degC', 'value': 13.33333...   \n\n                           ... shortForecast  \\\n2024-04-13 00:00:00+00:00  ...          Rain   \n2024-04-13 01:00:00+00:00  ...          Rain   \n2024-04-13 02:00:00+00:00  ...          Rain   \n2024-04-13 03:00:00+00:00  ...          Rain   \n2024-04-13 04:00:00+00:00  ...          Rain   \n\n                                                            detailedForecast  \\\n2024-04-13 00:00:00+00:00  Rain before 5pm, then rain showers. Cloudy, wi...   \n2024-04-13 01:00:00+00:00  Rain before 5pm, then rain showers. Cloudy, wi...   \n2024-04-13 02:00:00+00:00  Rain before 5pm, then rain showers. Cloudy, wi...   \n2024-04-13 03:00:00+00:00  Rain before 5pm, then rain showers. Cloudy, wi...   \n2024-04-13 04:00:00+00:00  Rain before 5pm, then rain showers. Cloudy, wi...   \n\n                          time_utc time_local temperature_degC dewpoint_degC  \\\n2024-04-13 00:00:00+00:00      NaT        NaT            16.11         13.33   \n2024-04-13 01:00:00+00:00      NaT        NaT            16.11         13.33   \n2024-04-13 02:00:00+00:00      NaT        NaT            16.11         13.33   \n2024-04-13 03:00:00+00:00      NaT        NaT            16.11         13.33   \n2024-04-13 04:00:00+00:00      NaT        NaT            16.11         13.33   \n\n                          dewpoint_degF wind_speed_mph  \\\n2024-04-13 00:00:00+00:00         55.99             15   \n2024-04-13 01:00:00+00:00         55.99             15   \n2024-04-13 02:00:00+00:00         55.99             15   \n2024-04-13 03:00:00+00:00         55.99             15   \n2024-04-13 04:00:00+00:00         55.99             15   \n\n                           probabilityOfPrecipitationPercent  \\\n2024-04-13 00:00:00+00:00                                 90   \n2024-04-13 01:00:00+00:00                                 90   \n2024-04-13 02:00:00+00:00                                 90   \n2024-04-13 03:00:00+00:00                                 90   \n2024-04-13 04:00:00+00:00                                 90   \n\n                           relative_humidity_%  \n2024-04-13 00:00:00+00:00                   91  \n2024-04-13 01:00:00+00:00                   91  \n2024-04-13 02:00:00+00:00                   91  \n2024-04-13 03:00:00+00:00                   91  \n2024-04-13 04:00:00+00:00                   91  \n\n[5 rows x 24 columns]",
      "text/html": "<div>\n<style scoped>\n    .dataframe tbody tr th:only-of-type {\n        vertical-align: middle;\n    }\n\n    .dataframe tbody tr th {\n        vertical-align: top;\n    }\n\n    .dataframe thead th {\n        text-align: right;\n    }\n</style>\n<table border=\"1\" class=\"dataframe\">\n  <thead>\n    <tr style=\"text-align: right;\">\n      <th></th>\n      <th>number</th>\n      <th>name</th>\n      <th>startTime</th>\n      <th>endTime</th>\n      <th>isDaytime</th>\n      <th>temperature_degF</th>\n      <th>temperatureUnit</th>\n      <th>temperatureTrend</th>\n      <th>probabilityOfPrecipitation</th>\n      <th>dewpoint</th>\n      <th>...</th>\n      <th>shortForecast</th>\n      <th>detailedForecast</th>\n      <th>time_utc</th>\n      <th>time_local</th>\n      <th>temperature_degC</th>\n      <th>dewpoint_degC</th>\n      <th>dewpoint_degF</th>\n      <th>wind_speed_mph</th>\n      <th>probabilityOfPrecipitationPercent</th>\n      <th>relative_humidity_%</th>\n    </tr>\n  </thead>\n  <tbody>\n    <tr>\n      <th>2024-04-13 00:00:00+00:00</th>\n      <td>1</td>\n      <td>Today</td>\n      <td>2024-04-13 16:00:00+00:00</td>\n      <td>2024-04-14 01:00:00+00:00</td>\n      <td>True</td>\n      <td>61</td>\n      <td>F</td>\n      <td>None</td>\n      <td>{'unitCode': 'wmoUnit:percent', 'value': 90}</td>\n      <td>{'unitCode': 'wmoUnit:degC', 'value': 13.33333...</td>\n      <td>...</td>\n      <td>Rain</td>\n      <td>Rain before 5pm, then rain showers. Cloudy, wi...</td>\n      <td>NaT</td>\n      <td>NaT</td>\n      <td>16.11</td>\n      <td>13.33</td>\n      <td>55.99</td>\n      <td>15</td>\n      <td>90</td>\n      <td>91</td>\n    </tr>\n    <tr>\n      <th>2024-04-13 01:00:00+00:00</th>\n      <td>1</td>\n      <td>Today</td>\n      <td>2024-04-13 16:00:00+00:00</td>\n      <td>2024-04-14 01:00:00+00:00</td>\n      <td>True</td>\n      <td>61</td>\n      <td>F</td>\n      <td>None</td>\n      <td>{'unitCode': 'wmoUnit:percent', 'value': 90}</td>\n      <td>{'unitCode': 'wmoUnit:degC', 'value': 13.33333...</td>\n      <td>...</td>\n      <td>Rain</td>\n      <td>Rain before 5pm, then rain showers. Cloudy, wi...</td>\n      <td>NaT</td>\n      <td>NaT</td>\n      <td>16.11</td>\n      <td>13.33</td>\n      <td>55.99</td>\n      <td>15</td>\n      <td>90</td>\n      <td>91</td>\n    </tr>\n    <tr>\n      <th>2024-04-13 02:00:00+00:00</th>\n      <td>1</td>\n      <td>Today</td>\n      <td>2024-04-13 16:00:00+00:00</td>\n      <td>2024-04-14 01:00:00+00:00</td>\n      <td>True</td>\n      <td>61</td>\n      <td>F</td>\n      <td>None</td>\n      <td>{'unitCode': 'wmoUnit:percent', 'value': 90}</td>\n      <td>{'unitCode': 'wmoUnit:degC', 'value': 13.33333...</td>\n      <td>...</td>\n      <td>Rain</td>\n      <td>Rain before 5pm, then rain showers. Cloudy, wi...</td>\n      <td>NaT</td>\n      <td>NaT</td>\n      <td>16.11</td>\n      <td>13.33</td>\n      <td>55.99</td>\n      <td>15</td>\n      <td>90</td>\n      <td>91</td>\n    </tr>\n    <tr>\n      <th>2024-04-13 03:00:00+00:00</th>\n      <td>1</td>\n      <td>Today</td>\n      <td>2024-04-13 16:00:00+00:00</td>\n      <td>2024-04-14 01:00:00+00:00</td>\n      <td>True</td>\n      <td>61</td>\n      <td>F</td>\n      <td>None</td>\n      <td>{'unitCode': 'wmoUnit:percent', 'value': 90}</td>\n      <td>{'unitCode': 'wmoUnit:degC', 'value': 13.33333...</td>\n      <td>...</td>\n      <td>Rain</td>\n      <td>Rain before 5pm, then rain showers. Cloudy, wi...</td>\n      <td>NaT</td>\n      <td>NaT</td>\n      <td>16.11</td>\n      <td>13.33</td>\n      <td>55.99</td>\n      <td>15</td>\n      <td>90</td>\n      <td>91</td>\n    </tr>\n    <tr>\n      <th>2024-04-13 04:00:00+00:00</th>\n      <td>1</td>\n      <td>Today</td>\n      <td>2024-04-13 16:00:00+00:00</td>\n      <td>2024-04-14 01:00:00+00:00</td>\n      <td>True</td>\n      <td>61</td>\n      <td>F</td>\n      <td>None</td>\n      <td>{'unitCode': 'wmoUnit:percent', 'value': 90}</td>\n      <td>{'unitCode': 'wmoUnit:degC', 'value': 13.33333...</td>\n      <td>...</td>\n      <td>Rain</td>\n      <td>Rain before 5pm, then rain showers. Cloudy, wi...</td>\n      <td>NaT</td>\n      <td>NaT</td>\n      <td>16.11</td>\n      <td>13.33</td>\n      <td>55.99</td>\n      <td>15</td>\n      <td>90</td>\n      <td>91</td>\n    </tr>\n  </tbody>\n</table>\n<p>5 rows × 24 columns</p>\n</div>"
     },
     "execution_count": 23,
     "metadata": {},
     "output_type": "execute_result"
    }
   ],
   "source": [
    "today_weather_df.head()"
   ],
   "metadata": {
    "collapsed": false,
    "ExecuteTime": {
     "end_time": "2024-04-13T16:15:29.122060462Z",
     "start_time": "2024-04-13T16:15:29.040544817Z"
    }
   },
   "id": "9b397f344ef3b7ef"
  }
 ],
 "metadata": {
  "kernelspec": {
   "display_name": "Python 3",
   "language": "python",
   "name": "python3"
  },
  "language_info": {
   "codemirror_mode": {
    "name": "ipython",
    "version": 2
   },
   "file_extension": ".py",
   "mimetype": "text/x-python",
   "name": "python",
   "nbconvert_exporter": "python",
   "pygments_lexer": "ipython2",
   "version": "2.7.6"
  }
 },
 "nbformat": 4,
 "nbformat_minor": 5
}
