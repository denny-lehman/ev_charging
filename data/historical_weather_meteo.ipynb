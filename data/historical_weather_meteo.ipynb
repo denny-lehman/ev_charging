{
 "cells": [
  {
   "cell_type": "markdown",
   "source": [
    "# Historical Weather data fetch\n",
    "This notebook will collect, process, and save as a csv file the weather data for Pasadena CA (Caltech and JPL location) and San Jose CA (Office001 location).\n",
    "\n",
    "Historical weather data was collected using the meteostat python library\n",
    "https://github.com/meteostat/meteostat-python\n",
    "\n",
    "The output of this notebook are two csv files\n",
    "1. caltech_historical_weather.csv\n",
    "2. office_historical_weather.csv\n",
    "\n",
    "resources (open these during development):\n",
    "https://dev.meteostat.net/docs/formats.html#data-structure\n",
    "https://dev.meteostat.net/formats.html#meteorological-parameters\n"
   ],
   "metadata": {
    "collapsed": false
   },
   "id": "3307f3ff585950c0"
  },
  {
   "cell_type": "markdown",
   "source": [
    "# Create locations \n",
    "To create points (locations) we pass the locations lat, long, and altitude. The altitude for Pasadena and San Jose were found from their respective weather stations."
   ],
   "metadata": {
    "collapsed": false
   },
   "id": "3b6eeb712c3fad55"
  },
  {
   "cell_type": "code",
   "execution_count": 5,
   "outputs": [
    {
     "name": "stdout",
     "output_type": "stream",
     "text": [
      "                     temp  dwpt  rhum  prcp  snow   wdir  wspd  wpgt    pres  \\\n",
      "time                                                                           \n",
      "2018-01-01 00:00:00  12.9   8.0  72.0   NaN   NaN    NaN   NaN   NaN     NaN   \n",
      "2018-01-01 01:00:00  13.3   5.7  60.0   0.0   NaN  290.0   7.6   NaN  1018.8   \n",
      "2018-01-01 02:00:00  13.3   6.6  64.0   0.0   NaN  230.0   5.4   NaN  1019.6   \n",
      "2018-01-01 03:00:00  13.3   6.6  64.0   0.0   NaN    NaN   0.0   NaN  1020.2   \n",
      "2018-01-01 04:00:00  12.8   7.3  69.0   0.0   NaN    NaN   0.0   NaN  1020.4   \n",
      "\n",
      "                     tsun  coco  \n",
      "time                             \n",
      "2018-01-01 00:00:00   NaN   NaN  \n",
      "2018-01-01 01:00:00   NaN   NaN  \n",
      "2018-01-01 02:00:00   NaN   5.0  \n",
      "2018-01-01 03:00:00   NaN   5.0  \n",
      "2018-01-01 04:00:00   NaN   5.0  \n"
     ]
    }
   ],
   "source": [
    "# Import Meteostat library and dependencies\n",
    "from datetime import datetime\n",
    "\n",
    "import pandas as pd\n",
    "from meteostat import Point, Hourly\n",
    "import numpy as np\n",
    "\n",
    "# Set time period\n",
    "start = datetime(2018, 1, 1)\n",
    "end = datetime(2021, 9, 14, 23, 59)\n",
    "\n",
    "# Create location points using lat, long, altitude\n",
    "cal_location = Point(34.1347, -118.1169, 227)\n",
    "sjc_location = Point(37.33680466796926, -121.90743423142634, 25)\n",
    "\n",
    "# Get hourly data\n",
    "cal_data = Hourly(cal_location, start, end)\n",
    "cal_data = cal_data.fetch()\n",
    "\n",
    "sjc_data = Hourly(sjc_location, start, end)\n",
    "sjc_data = sjc_data.fetch()\n",
    "\n",
    "# Print DataFrame\n",
    "print(sjc_data.head())\n"
   ],
   "metadata": {
    "collapsed": false,
    "ExecuteTime": {
     "end_time": "2024-04-07T18:29:04.331502690Z",
     "start_time": "2024-04-07T18:29:02.778083753Z"
    }
   },
   "id": "1c58460b4799607b"
  },
  {
   "cell_type": "markdown",
   "source": [
    "# Payload metadata\n",
    "The payload from the hourly request contains many fields. Below is the data dictionary for those columns"
   ],
   "metadata": {
    "collapsed": false
   },
   "id": "17f53326d4f35067"
  },
  {
   "cell_type": "markdown",
   "source": [
    "| Column  | \tDescription                                                                         | \tType      |\n",
    "|---------|--------------------------------------------------------------------------------------|------------|\n",
    "| station | \tThe Meteostat ID of the weather station (only if query refers to multiple stations) | \tString    |\n",
    "| time    | \tThe datetime of the observation \t                                                   | Datetime64 |\n",
    "|temp \t| The air temperature in °C | \tFloat64   |\n",
    "|dwpt \t| The dew point in °C | \tFloat64   |\n",
    "|rhum \t| The relative humidity in percent (%) | \tFloat64   |\n",
    "|prcp | \tThe one hour precipitation total in mm | \tFloat64   |\n",
    "snow | \tThe snow depth in mm | \tFloat64   |\n",
    "wdir | \tThe average wind direction in degrees (°) \t| Float64    |\n",
    "wspd | \tThe average wind speed in km/h| \tFloat64   |\n",
    "wpgt | \tThe peak wind gust in km/h | \tFloat64   |\n",
    "pres | \tThe average sea-level air pressure in hPa | \tFloat64   |\n",
    "tsun | \tThe one hour sunshine total in minutes (m) \t| Float64    |\n",
    "coco | \tThe weather condition code | \tFloat64   |"
   ],
   "metadata": {
    "collapsed": false
   },
   "id": "ad4d2fa219777126"
  },
  {
   "cell_type": "markdown",
   "source": [
    "# Weather condition codes\n",
    "The column `coco` has numeric codes that correspond to different weather conditions. Below is a table of the codes and the conditions\n",
    "\n",
    " \n",
    "|Code | \tWeather Condition   |\n",
    "|---|----------------------|\n",
    "|1 | \tClear               \n",
    "|2 | \tFair                |\n",
    "|3| \tCloudy              |\n",
    "|4| \tOvercast            |\n",
    "|5| \tFog                 |\n",
    "|6| \tFreezing Fog        |\n",
    "|7| \tLight Rain          |\n",
    "|8| \tRain                |\n",
    "|9| \tHeavy Rain          |\n",
    "|10| \tFreezing Rain       |\n",
    "|11| \tHeavy Freezing Rain |\n",
    "|12| \tSleet               |\n",
    "|13| \tHeavy Sleet         |\n",
    "|14| \tLight Snowfall      |\n",
    "|15| \tSnowfall            |\n",
    "|16| \tHeavy Snowfall      |\n",
    "|17| \tRain Shower         ||\n",
    "|18| \tHeavy Rain Shower   |\n",
    "|19| \tSleet Shower        |\n",
    "|20| \tHeavy Sleet Shower  |\n",
    "|21| \tSnow Shower         |\n",
    "|22| \tHeavy Snow Shower   |\n",
    "|23| \tLightning           |\n",
    "|24| \tHail                |\n",
    "|25| \tThunderstorm        |\n",
    "|26| \tHeavy Thunderstorm  |\n",
    "|27| \tStorm               |"
   ],
   "metadata": {
    "collapsed": false
   },
   "id": "64daac5d6075803b"
  },
  {
   "cell_type": "code",
   "execution_count": 2,
   "outputs": [],
   "source": [
    "weather_codes = {1 : 'Clear',\n",
    "                 2 :'Fair',\n",
    "                 3 : 'Cloudy',\n",
    "                 4 : 'Overcast',\n",
    "                 5 : 'Fog',\n",
    "                 6 : 'Freezing Fog',\n",
    "                 7 : 'Light Rain',\n",
    "                 8 : 'Rain',\n",
    "                 9 : 'Heavy Rain',\n",
    "                 10 : 'Freezing Rain',\n",
    "                 11 : 'Heavy Freezing Rain',\n",
    "                 12 : 'Sleet',\n",
    "                 13 : 'Heavy Sleet',\n",
    "                 14 : 'Light Snowfall',\n",
    "                 15 : 'Snowfall',\n",
    "                 16 : 'Heavy Snowfall',\n",
    "                 17 : 'Rain Shower',\n",
    "                 18 : 'Heavy Rain Shower',\n",
    "                 19 : 'Sleet Shower',\n",
    "                 20 : 'Heavy Sleet Shower',\n",
    "                 21 : 'Snow Shower',\n",
    "                 22 : 'Heavy Snow Shower',\n",
    "                 23 : 'Lightning',\n",
    "                 24 : 'Hail',\n",
    "                 25 : 'Thunderstorm',\n",
    "                 26 : 'Heavy Thunderstorm',\n",
    "                 27 : 'Storm',\n",
    "                 }\n",
    "# sjc_data['coco'].map(weather_codes)"
   ],
   "metadata": {
    "collapsed": false,
    "ExecuteTime": {
     "end_time": "2024-04-07T18:27:52.698037643Z",
     "start_time": "2024-04-07T18:27:52.682751875Z"
    }
   },
   "id": "a11fb50ff1538356"
  },
  {
   "cell_type": "code",
   "execution_count": 15,
   "outputs": [],
   "source": [
    "def process_weather_historicals(df):\n",
    "    \"\"\"processes the historical weather data by mapping weather codes and renaming columns\"\"\"\n",
    "    df['coco'] = df['coco'].map(weather_codes)\n",
    "    df = df.rename(columns={'temp':'temperature_degC','dwpt':'dewpoint_degC',\n",
    "                     'rhum':'relative_humidity_%', 'prcp':'precipitation_mm',\n",
    "                     'snow':'snow_depth_mm', 'wdir':'wind_direction_degrees',\n",
    "                     'wspd':'wind_speed_avg_kmh', 'wpgt':'wind_gust_kmh',\n",
    "                     'pres':'pressure_hpa','tsun':'sunshine_amount_min',\n",
    "                     'coco':'weather_condition'})\n",
    "    # TODO: process nans?\n",
    "    df['wind_speed_mph'] = df['wind_speed_avg_kmh'].apply(lambda x: np.round(x*0.621371,2))\n",
    "    return df\n",
    "\n",
    "process_weather_historicals(cal_data).to_csv('caltech_historical_weather.csv')\n",
    "process_weather_historicals(sjc_data).to_csv('office_historical_weather.csv')"
   ],
   "metadata": {
    "collapsed": false,
    "ExecuteTime": {
     "end_time": "2024-04-07T18:34:24.647784654Z",
     "start_time": "2024-04-07T18:34:23.236121617Z"
    }
   },
   "id": "b9e9a6b57a82bd8f"
  },
  {
   "cell_type": "code",
   "execution_count": 16,
   "outputs": [
    {
     "data": {
      "text/plain": "                     temperature_degC  dewpoint_degC  relative_humidity_%  \\\ntime                                                                        \n2018-01-01 00:00:00              17.1            9.0                 59.0   \n2018-01-01 01:00:00              17.3            9.5                 60.0   \n2018-01-01 02:00:00              15.7           10.0                 69.0   \n2018-01-01 03:00:00              14.5           11.3                 81.0   \n2018-01-01 04:00:00              13.4           11.8                 90.0   \n...                               ...            ...                  ...   \n2021-09-14 19:00:00              26.8           10.1                 35.0   \n2021-09-14 20:00:00              29.0            9.2                 29.0   \n2021-09-14 21:00:00              31.2            5.6                 20.0   \n2021-09-14 22:00:00              30.7            7.2                 23.0   \n2021-09-14 23:00:00              29.5            5.6                 22.0   \n\n                     wind_speed_mph  \ntime                                 \n2018-01-01 00:00:00            5.59  \n2018-01-01 01:00:00            5.84  \n2018-01-01 02:00:00            3.36  \n2018-01-01 03:00:00            4.72  \n2018-01-01 04:00:00            3.36  \n...                             ...  \n2021-09-14 19:00:00            5.84  \n2021-09-14 20:00:00            5.84  \n2021-09-14 21:00:00            8.08  \n2021-09-14 22:00:00           11.43  \n2021-09-14 23:00:00           10.31  \n\n[32472 rows x 4 columns]",
      "text/html": "<div>\n<style scoped>\n    .dataframe tbody tr th:only-of-type {\n        vertical-align: middle;\n    }\n\n    .dataframe tbody tr th {\n        vertical-align: top;\n    }\n\n    .dataframe thead th {\n        text-align: right;\n    }\n</style>\n<table border=\"1\" class=\"dataframe\">\n  <thead>\n    <tr style=\"text-align: right;\">\n      <th></th>\n      <th>temperature_degC</th>\n      <th>dewpoint_degC</th>\n      <th>relative_humidity_%</th>\n      <th>wind_speed_mph</th>\n    </tr>\n    <tr>\n      <th>time</th>\n      <th></th>\n      <th></th>\n      <th></th>\n      <th></th>\n    </tr>\n  </thead>\n  <tbody>\n    <tr>\n      <th>2018-01-01 00:00:00</th>\n      <td>17.1</td>\n      <td>9.0</td>\n      <td>59.0</td>\n      <td>5.59</td>\n    </tr>\n    <tr>\n      <th>2018-01-01 01:00:00</th>\n      <td>17.3</td>\n      <td>9.5</td>\n      <td>60.0</td>\n      <td>5.84</td>\n    </tr>\n    <tr>\n      <th>2018-01-01 02:00:00</th>\n      <td>15.7</td>\n      <td>10.0</td>\n      <td>69.0</td>\n      <td>3.36</td>\n    </tr>\n    <tr>\n      <th>2018-01-01 03:00:00</th>\n      <td>14.5</td>\n      <td>11.3</td>\n      <td>81.0</td>\n      <td>4.72</td>\n    </tr>\n    <tr>\n      <th>2018-01-01 04:00:00</th>\n      <td>13.4</td>\n      <td>11.8</td>\n      <td>90.0</td>\n      <td>3.36</td>\n    </tr>\n    <tr>\n      <th>...</th>\n      <td>...</td>\n      <td>...</td>\n      <td>...</td>\n      <td>...</td>\n    </tr>\n    <tr>\n      <th>2021-09-14 19:00:00</th>\n      <td>26.8</td>\n      <td>10.1</td>\n      <td>35.0</td>\n      <td>5.84</td>\n    </tr>\n    <tr>\n      <th>2021-09-14 20:00:00</th>\n      <td>29.0</td>\n      <td>9.2</td>\n      <td>29.0</td>\n      <td>5.84</td>\n    </tr>\n    <tr>\n      <th>2021-09-14 21:00:00</th>\n      <td>31.2</td>\n      <td>5.6</td>\n      <td>20.0</td>\n      <td>8.08</td>\n    </tr>\n    <tr>\n      <th>2021-09-14 22:00:00</th>\n      <td>30.7</td>\n      <td>7.2</td>\n      <td>23.0</td>\n      <td>11.43</td>\n    </tr>\n    <tr>\n      <th>2021-09-14 23:00:00</th>\n      <td>29.5</td>\n      <td>5.6</td>\n      <td>22.0</td>\n      <td>10.31</td>\n    </tr>\n  </tbody>\n</table>\n<p>32472 rows × 4 columns</p>\n</div>"
     },
     "execution_count": 16,
     "metadata": {},
     "output_type": "execute_result"
    }
   ],
   "source": [
    "weather_features = ['temperature_degC', 'dewpoint_degC','relative_humidity_%', 'wind_speed_mph']\n",
    "pd.read_csv('caltech_historical_weather.csv').set_index('time')[weather_features]"
   ],
   "metadata": {
    "collapsed": false,
    "ExecuteTime": {
     "end_time": "2024-04-07T18:34:26.535451481Z",
     "start_time": "2024-04-07T18:34:26.439383924Z"
    }
   },
   "id": "cb94b4c94bd85ccf"
  },
  {
   "cell_type": "code",
   "execution_count": null,
   "outputs": [],
   "source": [],
   "metadata": {
    "collapsed": false
   },
   "id": "d7b11154f0e3be29"
  }
 ],
 "metadata": {
  "kernelspec": {
   "display_name": "Python 3",
   "language": "python",
   "name": "python3"
  },
  "language_info": {
   "codemirror_mode": {
    "name": "ipython",
    "version": 2
   },
   "file_extension": ".py",
   "mimetype": "text/x-python",
   "name": "python",
   "nbconvert_exporter": "python",
   "pygments_lexer": "ipython2",
   "version": "2.7.6"
  }
 },
 "nbformat": 4,
 "nbformat_minor": 5
}
