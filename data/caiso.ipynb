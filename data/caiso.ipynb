{
 "cells": [
  {
   "cell_type": "markdown",
   "source": [
    "# CAISO Data Fetcher\n",
    "This notebook will us the pycaiso python library to collect forecasted caiso data"
   ],
   "metadata": {
    "collapsed": false
   },
   "id": "d1261efac021a798"
  },
  {
   "cell_type": "code",
   "execution_count": 2,
   "outputs": [
    {
     "name": "stdout",
     "output_type": "stream",
     "text": [
      "\u001B[33mWARNING: Skipping /home/denny/anaconda3/envs/ev/lib/python3.11/site-packages/tensorflow_estimator-2.12.0.dist-info due to invalid metadata entry 'name'\u001B[0m\u001B[33m\r\n",
      "\u001B[0mCollecting pycaiso\r\n",
      "  Downloading pycaiso-0.2.7-py2.py3-none-any.whl.metadata (2.3 kB)\r\n",
      "Downloading pycaiso-0.2.7-py2.py3-none-any.whl (5.5 kB)\r\n",
      "\u001B[33mWARNING: Skipping /home/denny/anaconda3/envs/ev/lib/python3.11/site-packages/tensorflow_estimator-2.12.0.dist-info due to invalid metadata entry 'name'\u001B[0m\u001B[33m\r\n",
      "\u001B[0mInstalling collected packages: pycaiso\r\n",
      "Successfully installed pycaiso-0.2.7\r\n"
     ]
    }
   ],
   "source": [
    "import pycaiso.oasis\n",
    "! pip install pycaiso"
   ],
   "metadata": {
    "collapsed": false,
    "ExecuteTime": {
     "end_time": "2024-03-23T01:41:46.306315824Z",
     "start_time": "2024-03-23T01:41:44.078648503Z"
    }
   },
   "id": "1837200606e25413"
  },
  {
   "cell_type": "code",
   "execution_count": 3,
   "outputs": [
    {
     "name": "stdout",
     "output_type": "stream",
     "text": [
      "       INTERVALSTARTTIME_GMT        INTERVALENDTIME_GMT     OPR_DT  OPR_HR  \\\n",
      "0  2021-01-01T08:00:00-00:00  2021-01-01T09:00:00-00:00 2021-01-01       1   \n",
      "1  2021-01-01T08:00:00-00:00  2021-01-01T09:00:00-00:00 2021-01-01       1   \n",
      "2  2021-01-01T08:00:00-00:00  2021-01-01T09:00:00-00:00 2021-01-01       1   \n",
      "3  2021-01-01T08:00:00-00:00  2021-01-01T09:00:00-00:00 2021-01-01       1   \n",
      "4  2021-01-01T09:00:00-00:00  2021-01-01T10:00:00-00:00 2021-01-01       2   \n",
      "\n",
      "   OPR_INTERVAL      NODE_ID_XML          NODE_ID             NODE  \\\n",
      "0             0  CAPTJACK_5_N003  CAPTJACK_5_N003  CAPTJACK_5_N003   \n",
      "1             0  CAPTJACK_5_N003  CAPTJACK_5_N003  CAPTJACK_5_N003   \n",
      "2             0  CAPTJACK_5_N003  CAPTJACK_5_N003  CAPTJACK_5_N003   \n",
      "3             0  CAPTJACK_5_N003  CAPTJACK_5_N003  CAPTJACK_5_N003   \n",
      "4             0  CAPTJACK_5_N003  CAPTJACK_5_N003  CAPTJACK_5_N003   \n",
      "\n",
      "  MARKET_RUN_ID LMP_TYPE XML_DATA_ITEM    PNODE_RESMRID GRP_TYPE  POS  \\\n",
      "0           DAM      LMP       LMP_PRC  CAPTJACK_5_N003      ALL    1   \n",
      "1           DAM      MCC  LMP_CONG_PRC  CAPTJACK_5_N003      ALL    1   \n",
      "2           DAM      MCE   LMP_ENE_PRC  CAPTJACK_5_N003      ALL    1   \n",
      "3           DAM      MCL  LMP_LOSS_PRC  CAPTJACK_5_N003      ALL    1   \n",
      "4           DAM      LMP       LMP_PRC  CAPTJACK_5_N003      ALL    1   \n",
      "\n",
      "         MW  GROUP  \n",
      "0  33.32310      1  \n",
      "1   0.00000      2  \n",
      "2  34.68627      3  \n",
      "3  -1.36317      4  \n",
      "4  31.51635      1  \n"
     ]
    }
   ],
   "source": [
    "# example from documentation\n",
    "from pycaiso.oasis import Node\n",
    "from datetime import datetime\n",
    "import pandas as pd\n",
    "\n",
    "# select pnode\n",
    "\n",
    "cj = Node(\"CAPTJACK_5_N003\")\n",
    "\n",
    "# create dataframe with LMPS from arbitrary period (30 day maximum). \n",
    "\n",
    "cj_lmps = cj.get_lmps(datetime(2021, 1, 1), datetime(2021, 1, 2))\n",
    "\n",
    "print(cj_lmps.head())"
   ],
   "metadata": {
    "collapsed": false,
    "ExecuteTime": {
     "end_time": "2024-03-23T01:42:01.649911099Z",
     "start_time": "2024-03-23T01:42:00.459402762Z"
    }
   },
   "id": "3e78802c898ac0a5"
  },
  {
   "cell_type": "code",
   "execution_count": 5,
   "outputs": [],
   "source": [
    "from pycaiso.oasis import SystemDemand\n",
    "sd = SystemDemand()"
   ],
   "metadata": {
    "collapsed": false,
    "ExecuteTime": {
     "end_time": "2024-03-23T01:45:23.879369961Z",
     "start_time": "2024-03-23T01:45:23.836179158Z"
    }
   },
   "id": "94691ed381e3114b"
  },
  {
   "cell_type": "code",
   "execution_count": 34,
   "outputs": [],
   "source": [
    "df = sd.get_demand_forecast(start=datetime(2024, 3, 23), end=datetime(2024, 3, 25))"
   ],
   "metadata": {
    "collapsed": false,
    "ExecuteTime": {
     "end_time": "2024-03-23T03:53:36.705309658Z",
     "start_time": "2024-03-23T03:53:34.783406398Z"
    }
   },
   "id": "2bf3d1e484bf255a"
  },
  {
   "cell_type": "code",
   "execution_count": 47,
   "outputs": [
    {
     "data": {
      "text/plain": "          INTERVALSTARTTIME_GMT        INTERVALENDTIME_GMT  LOAD_TYPE  \\\n0     2024-03-23T17:00:00-00:00  2024-03-23T18:00:00-00:00          2   \n1     2024-03-23T18:00:00-00:00  2024-03-23T19:00:00-00:00          2   \n2     2024-03-23T15:00:00-00:00  2024-03-23T16:00:00-00:00          2   \n3     2024-03-23T10:00:00-00:00  2024-03-23T11:00:00-00:00          2   \n4     2024-03-24T04:00:00-00:00  2024-03-24T05:00:00-00:00          2   \n...                         ...                        ...        ...   \n4075  2024-03-25T04:00:00-00:00  2024-03-25T05:00:00-00:00          0   \n4076  2024-03-24T08:00:00-00:00  2024-03-24T09:00:00-00:00          0   \n4077  2024-03-24T16:00:00-00:00  2024-03-24T17:00:00-00:00          0   \n4078  2024-03-24T22:00:00-00:00  2024-03-24T23:00:00-00:00          0   \n4079  2024-03-25T05:00:00-00:00  2024-03-25T06:00:00-00:00          0   \n\n          OPR_DT  OPR_HR  OPR_INTERVAL MARKET_RUN_ID TAC_AREA_NAME  \\\n0     2024-03-23      11             0           2DA           AVA   \n1     2024-03-23      12             0           2DA           AVA   \n2     2024-03-23       9             0           2DA           AVA   \n3     2024-03-23       4             0           2DA           AVA   \n4     2024-03-23      22             0           2DA           AVA   \n...          ...     ...           ...           ...           ...   \n4075  2024-03-24      22             0           7DA       WALCDSW   \n4076  2024-03-24       2             0           7DA       WALCDSW   \n4077  2024-03-24      10             0           7DA       WALCDSW   \n4078  2024-03-24      16             0           7DA       WALCDSW   \n4079  2024-03-24      23             0           7DA       WALCDSW   \n\n                            LABEL    XML_DATA_ITEM  POS       MW  \\\n0     Demand Forecast 2-Day Ahead  SYS_FCST_2DA_MW  1.8  1196.51   \n1     Demand Forecast 2-Day Ahead  SYS_FCST_2DA_MW  1.8  1186.79   \n2     Demand Forecast 2-Day Ahead  SYS_FCST_2DA_MW  1.8  1165.87   \n3     Demand Forecast 2-Day Ahead  SYS_FCST_2DA_MW  1.8   881.54   \n4     Demand Forecast 2-Day Ahead  SYS_FCST_2DA_MW  1.8  1133.86   \n...                           ...              ...  ...      ...   \n4075  Demand Forecast 7-Day Ahead  SYS_FCST_7DA_MW  0.8   164.48   \n4076  Demand Forecast 7-Day Ahead  SYS_FCST_7DA_MW  0.8   151.04   \n4077  Demand Forecast 7-Day Ahead  SYS_FCST_7DA_MW  0.8   150.19   \n4078  Demand Forecast 7-Day Ahead  SYS_FCST_7DA_MW  0.8   148.59   \n4079  Demand Forecast 7-Day Ahead  SYS_FCST_7DA_MW  0.8   158.11   \n\n     EXECUTION_TYPE  GROUP  \n0               2DA      1  \n1               2DA      1  \n2               2DA      1  \n3               2DA      1  \n4               2DA      1  \n...             ...    ...  \n4075            7DA    170  \n4076            7DA    170  \n4077            7DA    170  \n4078            7DA    170  \n4079            7DA    170  \n\n[4080 rows x 14 columns]",
      "text/html": "<div>\n<style scoped>\n    .dataframe tbody tr th:only-of-type {\n        vertical-align: middle;\n    }\n\n    .dataframe tbody tr th {\n        vertical-align: top;\n    }\n\n    .dataframe thead th {\n        text-align: right;\n    }\n</style>\n<table border=\"1\" class=\"dataframe\">\n  <thead>\n    <tr style=\"text-align: right;\">\n      <th></th>\n      <th>INTERVALSTARTTIME_GMT</th>\n      <th>INTERVALENDTIME_GMT</th>\n      <th>LOAD_TYPE</th>\n      <th>OPR_DT</th>\n      <th>OPR_HR</th>\n      <th>OPR_INTERVAL</th>\n      <th>MARKET_RUN_ID</th>\n      <th>TAC_AREA_NAME</th>\n      <th>LABEL</th>\n      <th>XML_DATA_ITEM</th>\n      <th>POS</th>\n      <th>MW</th>\n      <th>EXECUTION_TYPE</th>\n      <th>GROUP</th>\n    </tr>\n  </thead>\n  <tbody>\n    <tr>\n      <th>0</th>\n      <td>2024-03-23T17:00:00-00:00</td>\n      <td>2024-03-23T18:00:00-00:00</td>\n      <td>2</td>\n      <td>2024-03-23</td>\n      <td>11</td>\n      <td>0</td>\n      <td>2DA</td>\n      <td>AVA</td>\n      <td>Demand Forecast 2-Day Ahead</td>\n      <td>SYS_FCST_2DA_MW</td>\n      <td>1.8</td>\n      <td>1196.51</td>\n      <td>2DA</td>\n      <td>1</td>\n    </tr>\n    <tr>\n      <th>1</th>\n      <td>2024-03-23T18:00:00-00:00</td>\n      <td>2024-03-23T19:00:00-00:00</td>\n      <td>2</td>\n      <td>2024-03-23</td>\n      <td>12</td>\n      <td>0</td>\n      <td>2DA</td>\n      <td>AVA</td>\n      <td>Demand Forecast 2-Day Ahead</td>\n      <td>SYS_FCST_2DA_MW</td>\n      <td>1.8</td>\n      <td>1186.79</td>\n      <td>2DA</td>\n      <td>1</td>\n    </tr>\n    <tr>\n      <th>2</th>\n      <td>2024-03-23T15:00:00-00:00</td>\n      <td>2024-03-23T16:00:00-00:00</td>\n      <td>2</td>\n      <td>2024-03-23</td>\n      <td>9</td>\n      <td>0</td>\n      <td>2DA</td>\n      <td>AVA</td>\n      <td>Demand Forecast 2-Day Ahead</td>\n      <td>SYS_FCST_2DA_MW</td>\n      <td>1.8</td>\n      <td>1165.87</td>\n      <td>2DA</td>\n      <td>1</td>\n    </tr>\n    <tr>\n      <th>3</th>\n      <td>2024-03-23T10:00:00-00:00</td>\n      <td>2024-03-23T11:00:00-00:00</td>\n      <td>2</td>\n      <td>2024-03-23</td>\n      <td>4</td>\n      <td>0</td>\n      <td>2DA</td>\n      <td>AVA</td>\n      <td>Demand Forecast 2-Day Ahead</td>\n      <td>SYS_FCST_2DA_MW</td>\n      <td>1.8</td>\n      <td>881.54</td>\n      <td>2DA</td>\n      <td>1</td>\n    </tr>\n    <tr>\n      <th>4</th>\n      <td>2024-03-24T04:00:00-00:00</td>\n      <td>2024-03-24T05:00:00-00:00</td>\n      <td>2</td>\n      <td>2024-03-23</td>\n      <td>22</td>\n      <td>0</td>\n      <td>2DA</td>\n      <td>AVA</td>\n      <td>Demand Forecast 2-Day Ahead</td>\n      <td>SYS_FCST_2DA_MW</td>\n      <td>1.8</td>\n      <td>1133.86</td>\n      <td>2DA</td>\n      <td>1</td>\n    </tr>\n    <tr>\n      <th>...</th>\n      <td>...</td>\n      <td>...</td>\n      <td>...</td>\n      <td>...</td>\n      <td>...</td>\n      <td>...</td>\n      <td>...</td>\n      <td>...</td>\n      <td>...</td>\n      <td>...</td>\n      <td>...</td>\n      <td>...</td>\n      <td>...</td>\n      <td>...</td>\n    </tr>\n    <tr>\n      <th>4075</th>\n      <td>2024-03-25T04:00:00-00:00</td>\n      <td>2024-03-25T05:00:00-00:00</td>\n      <td>0</td>\n      <td>2024-03-24</td>\n      <td>22</td>\n      <td>0</td>\n      <td>7DA</td>\n      <td>WALCDSW</td>\n      <td>Demand Forecast 7-Day Ahead</td>\n      <td>SYS_FCST_7DA_MW</td>\n      <td>0.8</td>\n      <td>164.48</td>\n      <td>7DA</td>\n      <td>170</td>\n    </tr>\n    <tr>\n      <th>4076</th>\n      <td>2024-03-24T08:00:00-00:00</td>\n      <td>2024-03-24T09:00:00-00:00</td>\n      <td>0</td>\n      <td>2024-03-24</td>\n      <td>2</td>\n      <td>0</td>\n      <td>7DA</td>\n      <td>WALCDSW</td>\n      <td>Demand Forecast 7-Day Ahead</td>\n      <td>SYS_FCST_7DA_MW</td>\n      <td>0.8</td>\n      <td>151.04</td>\n      <td>7DA</td>\n      <td>170</td>\n    </tr>\n    <tr>\n      <th>4077</th>\n      <td>2024-03-24T16:00:00-00:00</td>\n      <td>2024-03-24T17:00:00-00:00</td>\n      <td>0</td>\n      <td>2024-03-24</td>\n      <td>10</td>\n      <td>0</td>\n      <td>7DA</td>\n      <td>WALCDSW</td>\n      <td>Demand Forecast 7-Day Ahead</td>\n      <td>SYS_FCST_7DA_MW</td>\n      <td>0.8</td>\n      <td>150.19</td>\n      <td>7DA</td>\n      <td>170</td>\n    </tr>\n    <tr>\n      <th>4078</th>\n      <td>2024-03-24T22:00:00-00:00</td>\n      <td>2024-03-24T23:00:00-00:00</td>\n      <td>0</td>\n      <td>2024-03-24</td>\n      <td>16</td>\n      <td>0</td>\n      <td>7DA</td>\n      <td>WALCDSW</td>\n      <td>Demand Forecast 7-Day Ahead</td>\n      <td>SYS_FCST_7DA_MW</td>\n      <td>0.8</td>\n      <td>148.59</td>\n      <td>7DA</td>\n      <td>170</td>\n    </tr>\n    <tr>\n      <th>4079</th>\n      <td>2024-03-25T05:00:00-00:00</td>\n      <td>2024-03-25T06:00:00-00:00</td>\n      <td>0</td>\n      <td>2024-03-24</td>\n      <td>23</td>\n      <td>0</td>\n      <td>7DA</td>\n      <td>WALCDSW</td>\n      <td>Demand Forecast 7-Day Ahead</td>\n      <td>SYS_FCST_7DA_MW</td>\n      <td>0.8</td>\n      <td>158.11</td>\n      <td>7DA</td>\n      <td>170</td>\n    </tr>\n  </tbody>\n</table>\n<p>4080 rows × 14 columns</p>\n</div>"
     },
     "execution_count": 47,
     "metadata": {},
     "output_type": "execute_result"
    }
   ],
   "source": [
    "data_dict = {'INTERVALSTARTTIME_GMT':'the start of the forecast',\n",
    "             'INTERVALENDTIME_GMT':'the end time of the forecast',\n",
    "             'LOAD_TYPE':'no idea what this is',\n",
    "             'OPR_DT':'no idea',\n",
    "             'OPR_HR':'operating hour?',\n",
    "             'OPR_INTERVAL':'some interval time',\n",
    "             'MARKET_RUN_ID':'2DA = two day ahead, DAM= day ahead market, 7DA = seven day ahead forecast', \n",
    "             'TAC_AREA_NAME':'Transmission access charge. From Claude - A transmission access charge (TAC) is a fee charged by transmission owners and operators, such as PG&E (Pacific Gas and Electric Company), to recover the costs associated with operating and maintaining their high-voltage transmission system.', \n",
    "             'LABEL':'same as Market Run ID',\n",
    "             'XML_DATA_ITEM':'System forecast for the MARKET RUN ID, same as Market run id', \n",
    "             'POS':'no idea', \n",
    "             'MW':'Megawatts?', \n",
    "             'EXECUTION_TYPE':'Same as Market Run ID', \n",
    "             'GROUP':'subset of TAC? Should be some kind of region code'}\n",
    "df"
   ],
   "metadata": {
    "collapsed": false,
    "ExecuteTime": {
     "end_time": "2024-03-23T04:10:32.693341782Z",
     "start_time": "2024-03-23T04:10:32.647575280Z"
    }
   },
   "id": "cb2a375e513ea367"
  },
  {
   "cell_type": "markdown",
   "source": [
    "# params used by pycaiso library\n",
    "not needed, unless they are neeeded, ya know?"
   ],
   "metadata": {
    "collapsed": false
   },
   "id": "b838119059bfbba8"
  },
  {
   "cell_type": "code",
   "execution_count": null,
   "outputs": [],
   "source": [
    "params: Dict[str, Any] = {\n",
    "        \"queryname\": QUERY_MAPPING[market],\n",
    "        \"market_run_id\": market,\n",
    "        \"startdatetime\": oasis._get_UTC_string(start),\n",
    "        \"enddatetime\": oasis._get_UTC_string(end),\n",
    "        \"version\": 1,\n",
    "        \"node\": node,\n",
    "        \"resultformat\": 6,\n",
    "    }"
   ],
   "metadata": {
    "collapsed": false
   },
   "id": "613d1ce24698de8e"
  },
  {
   "cell_type": "markdown",
   "source": [
    "# testing crap down below"
   ],
   "metadata": {
    "collapsed": false
   },
   "id": "8e82113035eaa6f9"
  },
  {
   "cell_type": "code",
   "execution_count": 16,
   "outputs": [],
   "source": [
    "import datetime as dt\n",
    "import urllib\n",
    "d1 = dt.date(2024,3,20)\n",
    "d2 = dt.date(2024,3,21) # dt.date.today()\n",
    "days = [d1 + dt.timedelta(days=x) for x in range((d2-d1).days + 1)]\n",
    "# specify url based on file types available\n",
    "file_types = ['demand', 'netdemand', 'fuelsource', 'storage', 'co2', 'rtm_forecast']\n",
    "url_format = \"http://www.caiso.com/outlook/SP/History/%s/%s.csv\""
   ],
   "metadata": {
    "collapsed": false,
    "ExecuteTime": {
     "end_time": "2024-03-23T02:03:00.281689749Z",
     "start_time": "2024-03-23T02:03:00.234500565Z"
    }
   },
   "id": "94940e31ee609914"
  },
  {
   "cell_type": "code",
   "execution_count": 17,
   "outputs": [
    {
     "data": {
      "text/plain": "<http.client.HTTPResponse at 0x7febe7763280>"
     },
     "execution_count": 17,
     "metadata": {},
     "output_type": "execute_result"
    }
   ],
   "source": [
    "day = days[0]\n",
    "file_type = 'demand'\n",
    "url = url_format % (day.strftime(\"%Y%m%d\"), file_type)\n",
    "file = urllib.request.urlopen(url)\n",
    "file"
   ],
   "metadata": {
    "collapsed": false,
    "ExecuteTime": {
     "end_time": "2024-03-23T02:03:01.274879814Z",
     "start_time": "2024-03-23T02:03:01.018277790Z"
    }
   },
   "id": "2b498e44197c157a"
  },
  {
   "cell_type": "code",
   "execution_count": 18,
   "outputs": [
    {
     "data": {
      "text/plain": "      Time  Day ahead forecast  Hour ahead forecast  Current demand  \\\n0    00:00               21866                20755           20680   \n1    00:05               20945                20755           20803   \n2    00:10               20945                20755           20864   \n3    00:15               20945                20755           20764   \n4    00:20               20945                20679           20722   \n..     ...                 ...                  ...             ...   \n284  23:40               21859                21301           21323   \n285  23:45               21859                21301           21223   \n286  23:50               21859                21089           21095   \n287  23:55               21859                21089           21006   \n288  00:00               21859                21089           20909   \n\n     Demand response  \n0                NaN  \n1                NaN  \n2                NaN  \n3                NaN  \n4                NaN  \n..               ...  \n284              NaN  \n285              NaN  \n286              NaN  \n287              NaN  \n288              NaN  \n\n[289 rows x 5 columns]",
      "text/html": "<div>\n<style scoped>\n    .dataframe tbody tr th:only-of-type {\n        vertical-align: middle;\n    }\n\n    .dataframe tbody tr th {\n        vertical-align: top;\n    }\n\n    .dataframe thead th {\n        text-align: right;\n    }\n</style>\n<table border=\"1\" class=\"dataframe\">\n  <thead>\n    <tr style=\"text-align: right;\">\n      <th></th>\n      <th>Time</th>\n      <th>Day ahead forecast</th>\n      <th>Hour ahead forecast</th>\n      <th>Current demand</th>\n      <th>Demand response</th>\n    </tr>\n  </thead>\n  <tbody>\n    <tr>\n      <th>0</th>\n      <td>00:00</td>\n      <td>21866</td>\n      <td>20755</td>\n      <td>20680</td>\n      <td>NaN</td>\n    </tr>\n    <tr>\n      <th>1</th>\n      <td>00:05</td>\n      <td>20945</td>\n      <td>20755</td>\n      <td>20803</td>\n      <td>NaN</td>\n    </tr>\n    <tr>\n      <th>2</th>\n      <td>00:10</td>\n      <td>20945</td>\n      <td>20755</td>\n      <td>20864</td>\n      <td>NaN</td>\n    </tr>\n    <tr>\n      <th>3</th>\n      <td>00:15</td>\n      <td>20945</td>\n      <td>20755</td>\n      <td>20764</td>\n      <td>NaN</td>\n    </tr>\n    <tr>\n      <th>4</th>\n      <td>00:20</td>\n      <td>20945</td>\n      <td>20679</td>\n      <td>20722</td>\n      <td>NaN</td>\n    </tr>\n    <tr>\n      <th>...</th>\n      <td>...</td>\n      <td>...</td>\n      <td>...</td>\n      <td>...</td>\n      <td>...</td>\n    </tr>\n    <tr>\n      <th>284</th>\n      <td>23:40</td>\n      <td>21859</td>\n      <td>21301</td>\n      <td>21323</td>\n      <td>NaN</td>\n    </tr>\n    <tr>\n      <th>285</th>\n      <td>23:45</td>\n      <td>21859</td>\n      <td>21301</td>\n      <td>21223</td>\n      <td>NaN</td>\n    </tr>\n    <tr>\n      <th>286</th>\n      <td>23:50</td>\n      <td>21859</td>\n      <td>21089</td>\n      <td>21095</td>\n      <td>NaN</td>\n    </tr>\n    <tr>\n      <th>287</th>\n      <td>23:55</td>\n      <td>21859</td>\n      <td>21089</td>\n      <td>21006</td>\n      <td>NaN</td>\n    </tr>\n    <tr>\n      <th>288</th>\n      <td>00:00</td>\n      <td>21859</td>\n      <td>21089</td>\n      <td>20909</td>\n      <td>NaN</td>\n    </tr>\n  </tbody>\n</table>\n<p>289 rows × 5 columns</p>\n</div>"
     },
     "execution_count": 18,
     "metadata": {},
     "output_type": "execute_result"
    }
   ],
   "source": [
    "pd.read_csv(file)"
   ],
   "metadata": {
    "collapsed": false,
    "ExecuteTime": {
     "end_time": "2024-03-23T02:03:02.227140103Z",
     "start_time": "2024-03-23T02:03:02.215679090Z"
    }
   },
   "id": "4bf4542fd89e5330"
  },
  {
   "cell_type": "code",
   "execution_count": null,
   "outputs": [],
   "source": [
    "\"http://oasis.caiso.com/mrtu-oasis/SingleZip?queryname=AS_REQ&startdate=20061002&enddate=20061002&market_run_id=DAM&as_type=ALL&as_region=ALL\""
   ],
   "metadata": {
    "collapsed": false
   },
   "id": "42df118ade18c5a7"
  },
  {
   "cell_type": "code",
   "execution_count": 20,
   "outputs": [
    {
     "name": "stdout",
     "output_type": "stream",
     "text": [
      "http://oasis.caiso.com/mrtu-oasis/SingleZip?queryname=SLD_FCST&market_run_id=DAM&startdate=20240320&enddate=20240321\n"
     ]
    },
    {
     "ename": "HTTPError",
     "evalue": "HTTP Error 404: Not Found",
     "output_type": "error",
     "traceback": [
      "\u001B[0;31m---------------------------------------------------------------------------\u001B[0m",
      "\u001B[0;31mHTTPError\u001B[0m                                 Traceback (most recent call last)",
      "Cell \u001B[0;32mIn[20], line 4\u001B[0m\n\u001B[1;32m      2\u001B[0m url \u001B[38;5;241m=\u001B[39m url_format \u001B[38;5;241m%\u001B[39m (d1\u001B[38;5;241m.\u001B[39mstrftime(\u001B[38;5;124m\"\u001B[39m\u001B[38;5;124m%\u001B[39m\u001B[38;5;124mY\u001B[39m\u001B[38;5;124m%\u001B[39m\u001B[38;5;124mm\u001B[39m\u001B[38;5;132;01m%d\u001B[39;00m\u001B[38;5;124m\"\u001B[39m), d2\u001B[38;5;241m.\u001B[39mstrftime(\u001B[38;5;124m\"\u001B[39m\u001B[38;5;124m%\u001B[39m\u001B[38;5;124mY\u001B[39m\u001B[38;5;124m%\u001B[39m\u001B[38;5;124mm\u001B[39m\u001B[38;5;132;01m%d\u001B[39;00m\u001B[38;5;124m\"\u001B[39m))\n\u001B[1;32m      3\u001B[0m \u001B[38;5;28mprint\u001B[39m(url)\n\u001B[0;32m----> 4\u001B[0m file \u001B[38;5;241m=\u001B[39m urllib\u001B[38;5;241m.\u001B[39mrequest\u001B[38;5;241m.\u001B[39murlopen(url)\n\u001B[1;32m      5\u001B[0m file\n",
      "File \u001B[0;32m~/anaconda3/envs/ev/lib/python3.11/urllib/request.py:216\u001B[0m, in \u001B[0;36murlopen\u001B[0;34m(url, data, timeout, cafile, capath, cadefault, context)\u001B[0m\n\u001B[1;32m    214\u001B[0m \u001B[38;5;28;01melse\u001B[39;00m:\n\u001B[1;32m    215\u001B[0m     opener \u001B[38;5;241m=\u001B[39m _opener\n\u001B[0;32m--> 216\u001B[0m \u001B[38;5;28;01mreturn\u001B[39;00m opener\u001B[38;5;241m.\u001B[39mopen(url, data, timeout)\n",
      "File \u001B[0;32m~/anaconda3/envs/ev/lib/python3.11/urllib/request.py:525\u001B[0m, in \u001B[0;36mOpenerDirector.open\u001B[0;34m(self, fullurl, data, timeout)\u001B[0m\n\u001B[1;32m    523\u001B[0m \u001B[38;5;28;01mfor\u001B[39;00m processor \u001B[38;5;129;01min\u001B[39;00m \u001B[38;5;28mself\u001B[39m\u001B[38;5;241m.\u001B[39mprocess_response\u001B[38;5;241m.\u001B[39mget(protocol, []):\n\u001B[1;32m    524\u001B[0m     meth \u001B[38;5;241m=\u001B[39m \u001B[38;5;28mgetattr\u001B[39m(processor, meth_name)\n\u001B[0;32m--> 525\u001B[0m     response \u001B[38;5;241m=\u001B[39m meth(req, response)\n\u001B[1;32m    527\u001B[0m \u001B[38;5;28;01mreturn\u001B[39;00m response\n",
      "File \u001B[0;32m~/anaconda3/envs/ev/lib/python3.11/urllib/request.py:634\u001B[0m, in \u001B[0;36mHTTPErrorProcessor.http_response\u001B[0;34m(self, request, response)\u001B[0m\n\u001B[1;32m    631\u001B[0m \u001B[38;5;66;03m# According to RFC 2616, \"2xx\" code indicates that the client's\u001B[39;00m\n\u001B[1;32m    632\u001B[0m \u001B[38;5;66;03m# request was successfully received, understood, and accepted.\u001B[39;00m\n\u001B[1;32m    633\u001B[0m \u001B[38;5;28;01mif\u001B[39;00m \u001B[38;5;129;01mnot\u001B[39;00m (\u001B[38;5;241m200\u001B[39m \u001B[38;5;241m<\u001B[39m\u001B[38;5;241m=\u001B[39m code \u001B[38;5;241m<\u001B[39m \u001B[38;5;241m300\u001B[39m):\n\u001B[0;32m--> 634\u001B[0m     response \u001B[38;5;241m=\u001B[39m \u001B[38;5;28mself\u001B[39m\u001B[38;5;241m.\u001B[39mparent\u001B[38;5;241m.\u001B[39merror(\n\u001B[1;32m    635\u001B[0m         \u001B[38;5;124m'\u001B[39m\u001B[38;5;124mhttp\u001B[39m\u001B[38;5;124m'\u001B[39m, request, response, code, msg, hdrs)\n\u001B[1;32m    637\u001B[0m \u001B[38;5;28;01mreturn\u001B[39;00m response\n",
      "File \u001B[0;32m~/anaconda3/envs/ev/lib/python3.11/urllib/request.py:563\u001B[0m, in \u001B[0;36mOpenerDirector.error\u001B[0;34m(self, proto, *args)\u001B[0m\n\u001B[1;32m    561\u001B[0m \u001B[38;5;28;01mif\u001B[39;00m http_err:\n\u001B[1;32m    562\u001B[0m     args \u001B[38;5;241m=\u001B[39m (\u001B[38;5;28mdict\u001B[39m, \u001B[38;5;124m'\u001B[39m\u001B[38;5;124mdefault\u001B[39m\u001B[38;5;124m'\u001B[39m, \u001B[38;5;124m'\u001B[39m\u001B[38;5;124mhttp_error_default\u001B[39m\u001B[38;5;124m'\u001B[39m) \u001B[38;5;241m+\u001B[39m orig_args\n\u001B[0;32m--> 563\u001B[0m     \u001B[38;5;28;01mreturn\u001B[39;00m \u001B[38;5;28mself\u001B[39m\u001B[38;5;241m.\u001B[39m_call_chain(\u001B[38;5;241m*\u001B[39margs)\n",
      "File \u001B[0;32m~/anaconda3/envs/ev/lib/python3.11/urllib/request.py:496\u001B[0m, in \u001B[0;36mOpenerDirector._call_chain\u001B[0;34m(self, chain, kind, meth_name, *args)\u001B[0m\n\u001B[1;32m    494\u001B[0m \u001B[38;5;28;01mfor\u001B[39;00m handler \u001B[38;5;129;01min\u001B[39;00m handlers:\n\u001B[1;32m    495\u001B[0m     func \u001B[38;5;241m=\u001B[39m \u001B[38;5;28mgetattr\u001B[39m(handler, meth_name)\n\u001B[0;32m--> 496\u001B[0m     result \u001B[38;5;241m=\u001B[39m func(\u001B[38;5;241m*\u001B[39margs)\n\u001B[1;32m    497\u001B[0m     \u001B[38;5;28;01mif\u001B[39;00m result \u001B[38;5;129;01mis\u001B[39;00m \u001B[38;5;129;01mnot\u001B[39;00m \u001B[38;5;28;01mNone\u001B[39;00m:\n\u001B[1;32m    498\u001B[0m         \u001B[38;5;28;01mreturn\u001B[39;00m result\n",
      "File \u001B[0;32m~/anaconda3/envs/ev/lib/python3.11/urllib/request.py:643\u001B[0m, in \u001B[0;36mHTTPDefaultErrorHandler.http_error_default\u001B[0;34m(self, req, fp, code, msg, hdrs)\u001B[0m\n\u001B[1;32m    642\u001B[0m \u001B[38;5;28;01mdef\u001B[39;00m \u001B[38;5;21mhttp_error_default\u001B[39m(\u001B[38;5;28mself\u001B[39m, req, fp, code, msg, hdrs):\n\u001B[0;32m--> 643\u001B[0m     \u001B[38;5;28;01mraise\u001B[39;00m HTTPError(req\u001B[38;5;241m.\u001B[39mfull_url, code, msg, hdrs, fp)\n",
      "\u001B[0;31mHTTPError\u001B[0m: HTTP Error 404: Not Found"
     ]
    }
   ],
   "source": [
    "url_format = \"http://oasis.caiso.com/mrtu-oasis/SingleZip?queryname=SLD_FCST&market_run_id=DAM&startdate=%s&enddate=%s\"\n",
    "url = url_format % (d1.strftime(\"%Y%m%d\"), d2.strftime(\"%Y%m%d\"))\n",
    "print(url)\n",
    "file = urllib.request.urlopen(url)\n",
    "file"
   ],
   "metadata": {
    "collapsed": false,
    "ExecuteTime": {
     "end_time": "2024-03-23T02:13:41.572117246Z",
     "start_time": "2024-03-23T02:13:41.311662541Z"
    }
   },
   "id": "d7046c9433347c5e"
  },
  {
   "cell_type": "code",
   "execution_count": null,
   "outputs": [],
   "source": [
    "http://oasis.caiso.com/oasisapi/SingleZip?"
   ],
   "metadata": {
    "collapsed": false
   },
   "id": "726f8f3c8ba88971"
  },
  {
   "cell_type": "code",
   "execution_count": 28,
   "outputs": [
    {
     "data": {
      "text/plain": "<http.client.HTTPResponse at 0x7febe8d5a4a0>"
     },
     "execution_count": 28,
     "metadata": {},
     "output_type": "execute_result"
    }
   ],
   "source": [
    "url = \"http://oasismap.caiso.com/oasisapi/SingleZip?queryname=AS_REQ&startdatetime=20240919T07:00-0000&enddatetime=20240920T07:00-0000&market_run_id=DAM&version=1&as_type=ALL&as_region=ALL\"\n",
    "file = urllib.request.urlopen(url)\n",
    "file"
   ],
   "metadata": {
    "collapsed": false,
    "ExecuteTime": {
     "end_time": "2024-03-23T02:18:27.553694664Z",
     "start_time": "2024-03-23T02:18:27.249461959Z"
    }
   },
   "id": "5a0d62061dfe65e0"
  },
  {
   "cell_type": "code",
   "execution_count": 33,
   "outputs": [
    {
     "data": {
      "text/plain": "b''"
     },
     "execution_count": 33,
     "metadata": {},
     "output_type": "execute_result"
    }
   ],
   "source": [
    "dir(file)\n",
    "file.peek()"
   ],
   "metadata": {
    "collapsed": false,
    "ExecuteTime": {
     "end_time": "2024-03-23T02:19:14.691837596Z",
     "start_time": "2024-03-23T02:19:14.682095765Z"
    }
   },
   "id": "7728349b3693c71e"
  },
  {
   "cell_type": "code",
   "execution_count": null,
   "outputs": [],
   "source": [],
   "metadata": {
    "collapsed": false
   },
   "id": "17064ea3ecc4a0a7"
  }
 ],
 "metadata": {
  "kernelspec": {
   "display_name": "Python 3",
   "language": "python",
   "name": "python3"
  },
  "language_info": {
   "codemirror_mode": {
    "name": "ipython",
    "version": 2
   },
   "file_extension": ".py",
   "mimetype": "text/x-python",
   "name": "python",
   "nbconvert_exporter": "python",
   "pygments_lexer": "ipython2",
   "version": "2.7.6"
  }
 },
 "nbformat": 4,
 "nbformat_minor": 5
}
