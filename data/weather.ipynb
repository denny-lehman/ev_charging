{
 "cells": [
  {
   "cell_type": "markdown",
   "source": [
    "# Weather data fetch tests\n",
    "This notebook will walk through how to get forecasted weather data for a location. \n",
    "\n",
    "the weather api used is from weather.gov: https://www.weather.gov/documentation/services-web-api"
   ],
   "metadata": {
    "collapsed": false
   },
   "id": "b1ec0ae3004f658b"
  },
  {
   "cell_type": "markdown",
   "source": [
    "# the weather fetching process is:\n",
    "1.  get the lat long for the sites\n",
    "2.  get the grid points\n",
    "3.  call the for the appropriate forecast \n"
   ],
   "metadata": {
    "collapsed": false
   },
   "id": "6ca69696d4a941c7"
  },
  {
   "cell_type": "markdown",
   "source": [
    "# Get lat long for each site\n",
    "Using google maps, I typed in the locations and then asked for the lat and long of that spot on the map. Here are the lat long coordinates for our locations\n",
    "![caltech](caltech_lat_long.png)"
   ],
   "metadata": {
    "collapsed": false
   },
   "id": "c1420a9d1f4c6b02"
  },
  {
   "cell_type": "code",
   "execution_count": 29,
   "outputs": [],
   "source": [
    "import requests\n",
    "caltech_lat =   34.134785646454844\n",
    "caltech_lon = -118.11691382579643\n",
    "\n",
    "jpl_lat = 34.20142342818471\n",
    "jpl_lon = -118.17126565774107\n",
    "\n",
    "office_lat = 37.33680466796926\n",
    "office_lon = -121.90743423142634"
   ],
   "metadata": {
    "collapsed": false,
    "ExecuteTime": {
     "end_time": "2024-04-02T20:53:47.762343715Z",
     "start_time": "2024-04-02T20:53:47.744874096Z"
    }
   },
   "id": "f06230aa8b7abded"
  },
  {
   "cell_type": "markdown",
   "source": [
    "# get grid points\n",
    "The way the weather api system works is by finding the station's grid points that are closest to the lat long coordinates. The code below gets the grid x and grid y from the lat long coordinates"
   ],
   "metadata": {
    "collapsed": false
   },
   "id": "e9bd9511d284266c"
  },
  {
   "cell_type": "code",
   "execution_count": 30,
   "outputs": [
    {
     "name": "stdout",
     "output_type": "stream",
     "text": [
      "https://api.weather.gov/points/34.134785646454844,-118.11691382579643\n",
      "status code: 200\n"
     ]
    },
    {
     "data": {
      "text/plain": "('LOX', 160, 48)"
     },
     "execution_count": 30,
     "metadata": {},
     "output_type": "execute_result"
    }
   ],
   "source": [
    "def get_grid_points(latitude, longitude):\n",
    "    url = f'https://api.weather.gov/points/{latitude},{longitude}'\n",
    "    print(url)\n",
    "    \n",
    "    r = requests.get(url)\n",
    "    \n",
    "    print('status code:', r.status_code)\n",
    "    payload = r.json()\n",
    "    \n",
    "    gridId = payload['properties']['gridId']\n",
    "    gridX = payload['properties']['gridX']\n",
    "    gridY = r.json()['properties']['gridY']\n",
    "    return gridId, gridX, gridY\n",
    "get_grid_points(caltech_lat, caltech_lon)"
   ],
   "metadata": {
    "collapsed": false,
    "ExecuteTime": {
     "end_time": "2024-04-02T20:53:49.119250318Z",
     "start_time": "2024-04-02T20:53:48.914559651Z"
    }
   },
   "id": "37dacae3df479aaf"
  },
  {
   "cell_type": "markdown",
   "source": [
    "# get forecast\n",
    "Once we have the office, gridx and gridy for the location, we can get three different kinds of weather forecasts\n",
    "\n",
    "    forecast - forecast for 12h periods over the next seven days\n",
    "    forecastHourly - forecast for hourly periods over the next seven days\n",
    "    forecastGridData - raw forecast data over the next seven days\n",
    "\n"
   ],
   "metadata": {
    "collapsed": false
   },
   "id": "3c9f03b78665502e"
  },
  {
   "cell_type": "code",
   "execution_count": 31,
   "outputs": [
    {
     "name": "stdout",
     "output_type": "stream",
     "text": [
      "https://api.weather.gov/gridpoints/LOX/160,48/forecast\n"
     ]
    },
    {
     "data": {
      "text/plain": "{'@context': ['https://geojson.org/geojson-ld/geojson-context.jsonld',\n  {'@version': '1.1',\n   'wx': 'https://api.weather.gov/ontology#',\n   'geo': 'http://www.opengis.net/ont/geosparql#',\n   'unit': 'http://codes.wmo.int/common/unit/',\n   '@vocab': 'https://api.weather.gov/ontology#'}],\n 'type': 'Feature',\n 'geometry': {'type': 'Polygon',\n  'coordinates': [[[-118.1416245, 34.1484987],\n    [-118.13699860000001, 34.1262836],\n    [-118.11015800000001, 34.1301103],\n    [-118.11477870000002, 34.1523259],\n    [-118.1416245, 34.1484987]]]},\n 'properties': {'updated': '2024-04-02T10:51:23+00:00',\n  'units': 'us',\n  'forecastGenerator': 'BaselineForecastGenerator',\n  'generatedAt': '2024-04-02T20:03:14+00:00',\n  'updateTime': '2024-04-02T10:51:23+00:00',\n  'validTimes': '2024-04-02T04:00:00+00:00/P7DT21H',\n  'elevation': {'unitCode': 'wmoUnit:m', 'value': 227.076},\n  'periods': [{'number': 1,\n    'name': 'This Afternoon',\n    'startTime': '2024-04-02T13:00:00-07:00',\n    'endTime': '2024-04-02T18:00:00-07:00',\n    'isDaytime': True,\n    'temperature': 78,\n    'temperatureUnit': 'F',\n    'temperatureTrend': None,\n    'probabilityOfPrecipitation': {'unitCode': 'wmoUnit:percent',\n     'value': None},\n    'dewpoint': {'unitCode': 'wmoUnit:degC', 'value': 10},\n    'relativeHumidity': {'unitCode': 'wmoUnit:percent', 'value': 45},\n    'windSpeed': '5 to 10 mph',\n    'windDirection': 'SW',\n    'icon': 'https://api.weather.gov/icons/land/day/few?size=medium',\n    'shortForecast': 'Sunny',\n    'detailedForecast': 'Sunny, with a high near 78. Southwest wind 5 to 10 mph.'},\n   {'number': 2,\n    'name': 'Tonight',\n    'startTime': '2024-04-02T18:00:00-07:00',\n    'endTime': '2024-04-03T06:00:00-07:00',\n    'isDaytime': False,\n    'temperature': 53,\n    'temperatureUnit': 'F',\n    'temperatureTrend': None,\n    'probabilityOfPrecipitation': {'unitCode': 'wmoUnit:percent',\n     'value': None},\n    'dewpoint': {'unitCode': 'wmoUnit:degC', 'value': 10},\n    'relativeHumidity': {'unitCode': 'wmoUnit:percent', 'value': 77},\n    'windSpeed': '5 mph',\n    'windDirection': 'NE',\n    'icon': 'https://api.weather.gov/icons/land/night/few?size=medium',\n    'shortForecast': 'Mostly Clear',\n    'detailedForecast': 'Mostly clear, with a low around 53. Northeast wind around 5 mph.'},\n   {'number': 3,\n    'name': 'Wednesday',\n    'startTime': '2024-04-03T06:00:00-07:00',\n    'endTime': '2024-04-03T18:00:00-07:00',\n    'isDaytime': True,\n    'temperature': 76,\n    'temperatureUnit': 'F',\n    'temperatureTrend': None,\n    'probabilityOfPrecipitation': {'unitCode': 'wmoUnit:percent',\n     'value': None},\n    'dewpoint': {'unitCode': 'wmoUnit:degC', 'value': 8.333333333333334},\n    'relativeHumidity': {'unitCode': 'wmoUnit:percent', 'value': 72},\n    'windSpeed': '5 to 10 mph',\n    'windDirection': 'SSE',\n    'icon': 'https://api.weather.gov/icons/land/day/few?size=medium',\n    'shortForecast': 'Sunny',\n    'detailedForecast': 'Sunny, with a high near 76. South southeast wind 5 to 10 mph.'},\n   {'number': 4,\n    'name': 'Wednesday Night',\n    'startTime': '2024-04-03T18:00:00-07:00',\n    'endTime': '2024-04-04T06:00:00-07:00',\n    'isDaytime': False,\n    'temperature': 49,\n    'temperatureUnit': 'F',\n    'temperatureTrend': None,\n    'probabilityOfPrecipitation': {'unitCode': 'wmoUnit:percent',\n     'value': None},\n    'dewpoint': {'unitCode': 'wmoUnit:degC', 'value': 7.777777777777778},\n    'relativeHumidity': {'unitCode': 'wmoUnit:percent', 'value': 86},\n    'windSpeed': '5 to 10 mph',\n    'windDirection': 'S',\n    'icon': 'https://api.weather.gov/icons/land/night/fog?size=medium',\n    'shortForecast': 'Patchy Fog',\n    'detailedForecast': 'Patchy fog after 11pm. Mostly cloudy, with a low around 49. South wind 5 to 10 mph.'},\n   {'number': 5,\n    'name': 'Thursday',\n    'startTime': '2024-04-04T06:00:00-07:00',\n    'endTime': '2024-04-04T18:00:00-07:00',\n    'isDaytime': True,\n    'temperature': 61,\n    'temperatureUnit': 'F',\n    'temperatureTrend': None,\n    'probabilityOfPrecipitation': {'unitCode': 'wmoUnit:percent',\n     'value': None},\n    'dewpoint': {'unitCode': 'wmoUnit:degC', 'value': 10},\n    'relativeHumidity': {'unitCode': 'wmoUnit:percent', 'value': 86},\n    'windSpeed': '5 to 20 mph',\n    'windDirection': 'S',\n    'icon': 'https://api.weather.gov/icons/land/day/fog/bkn?size=medium',\n    'shortForecast': 'Patchy Fog then Partly Sunny',\n    'detailedForecast': 'Patchy fog before 11am. Partly sunny, with a high near 61. South wind 5 to 20 mph, with gusts as high as 25 mph.'},\n   {'number': 6,\n    'name': 'Thursday Night',\n    'startTime': '2024-04-04T18:00:00-07:00',\n    'endTime': '2024-04-05T06:00:00-07:00',\n    'isDaytime': False,\n    'temperature': 42,\n    'temperatureUnit': 'F',\n    'temperatureTrend': None,\n    'probabilityOfPrecipitation': {'unitCode': 'wmoUnit:percent', 'value': 30},\n    'dewpoint': {'unitCode': 'wmoUnit:degC', 'value': 7.222222222222222},\n    'relativeHumidity': {'unitCode': 'wmoUnit:percent', 'value': 93},\n    'windSpeed': '5 to 20 mph',\n    'windDirection': 'SW',\n    'icon': 'https://api.weather.gov/icons/land/night/rain_showers,30?size=medium',\n    'shortForecast': 'Chance Rain Showers',\n    'detailedForecast': 'A chance of rain showers after 11pm. Mostly cloudy, with a low around 42. Chance of precipitation is 30%.'},\n   {'number': 7,\n    'name': 'Friday',\n    'startTime': '2024-04-05T06:00:00-07:00',\n    'endTime': '2024-04-05T18:00:00-07:00',\n    'isDaytime': True,\n    'temperature': 53,\n    'temperatureUnit': 'F',\n    'temperatureTrend': None,\n    'probabilityOfPrecipitation': {'unitCode': 'wmoUnit:percent', 'value': 30},\n    'dewpoint': {'unitCode': 'wmoUnit:degC', 'value': 5.555555555555555},\n    'relativeHumidity': {'unitCode': 'wmoUnit:percent', 'value': 94},\n    'windSpeed': '5 to 15 mph',\n    'windDirection': 'SW',\n    'icon': 'https://api.weather.gov/icons/land/day/tsra_sct,30?size=medium',\n    'shortForecast': 'Chance Showers And Thunderstorms',\n    'detailedForecast': 'A chance of rain showers before 11am, then a chance of showers and thunderstorms. Partly sunny, with a high near 53. Chance of precipitation is 30%.'},\n   {'number': 8,\n    'name': 'Friday Night',\n    'startTime': '2024-04-05T18:00:00-07:00',\n    'endTime': '2024-04-06T06:00:00-07:00',\n    'isDaytime': False,\n    'temperature': 39,\n    'temperatureUnit': 'F',\n    'temperatureTrend': None,\n    'probabilityOfPrecipitation': {'unitCode': 'wmoUnit:percent',\n     'value': None},\n    'dewpoint': {'unitCode': 'wmoUnit:degC', 'value': 5},\n    'relativeHumidity': {'unitCode': 'wmoUnit:percent', 'value': 87},\n    'windSpeed': '5 to 15 mph',\n    'windDirection': 'NW',\n    'icon': 'https://api.weather.gov/icons/land/night/rain_showers?size=medium',\n    'shortForecast': 'Chance Rain Showers',\n    'detailedForecast': 'A chance of rain showers before 5am. Partly cloudy, with a low around 39.'},\n   {'number': 9,\n    'name': 'Saturday',\n    'startTime': '2024-04-06T06:00:00-07:00',\n    'endTime': '2024-04-06T18:00:00-07:00',\n    'isDaytime': True,\n    'temperature': 61,\n    'temperatureUnit': 'F',\n    'temperatureTrend': None,\n    'probabilityOfPrecipitation': {'unitCode': 'wmoUnit:percent',\n     'value': None},\n    'dewpoint': {'unitCode': 'wmoUnit:degC', 'value': 5},\n    'relativeHumidity': {'unitCode': 'wmoUnit:percent', 'value': 86},\n    'windSpeed': '5 to 10 mph',\n    'windDirection': 'SSW',\n    'icon': 'https://api.weather.gov/icons/land/day/few?size=medium',\n    'shortForecast': 'Sunny',\n    'detailedForecast': 'Sunny, with a high near 61.'},\n   {'number': 10,\n    'name': 'Saturday Night',\n    'startTime': '2024-04-06T18:00:00-07:00',\n    'endTime': '2024-04-07T06:00:00-07:00',\n    'isDaytime': False,\n    'temperature': 43,\n    'temperatureUnit': 'F',\n    'temperatureTrend': None,\n    'probabilityOfPrecipitation': {'unitCode': 'wmoUnit:percent',\n     'value': None},\n    'dewpoint': {'unitCode': 'wmoUnit:degC', 'value': 5},\n    'relativeHumidity': {'unitCode': 'wmoUnit:percent', 'value': 84},\n    'windSpeed': '5 to 10 mph',\n    'windDirection': 'ESE',\n    'icon': 'https://api.weather.gov/icons/land/night/few?size=medium',\n    'shortForecast': 'Mostly Clear',\n    'detailedForecast': 'Mostly clear, with a low around 43.'},\n   {'number': 11,\n    'name': 'Sunday',\n    'startTime': '2024-04-07T06:00:00-07:00',\n    'endTime': '2024-04-07T18:00:00-07:00',\n    'isDaytime': True,\n    'temperature': 64,\n    'temperatureUnit': 'F',\n    'temperatureTrend': None,\n    'probabilityOfPrecipitation': {'unitCode': 'wmoUnit:percent',\n     'value': None},\n    'dewpoint': {'unitCode': 'wmoUnit:degC', 'value': 8.333333333333334},\n    'relativeHumidity': {'unitCode': 'wmoUnit:percent', 'value': 84},\n    'windSpeed': '5 to 10 mph',\n    'windDirection': 'SSE',\n    'icon': 'https://api.weather.gov/icons/land/day/sct?size=medium',\n    'shortForecast': 'Mostly Sunny',\n    'detailedForecast': 'Mostly sunny, with a high near 64.'},\n   {'number': 12,\n    'name': 'Sunday Night',\n    'startTime': '2024-04-07T18:00:00-07:00',\n    'endTime': '2024-04-08T06:00:00-07:00',\n    'isDaytime': False,\n    'temperature': 45,\n    'temperatureUnit': 'F',\n    'temperatureTrend': None,\n    'probabilityOfPrecipitation': {'unitCode': 'wmoUnit:percent',\n     'value': None},\n    'dewpoint': {'unitCode': 'wmoUnit:degC', 'value': 7.777777777777778},\n    'relativeHumidity': {'unitCode': 'wmoUnit:percent', 'value': 94},\n    'windSpeed': '5 to 10 mph',\n    'windDirection': 'SE',\n    'icon': 'https://api.weather.gov/icons/land/night/bkn?size=medium',\n    'shortForecast': 'Mostly Cloudy',\n    'detailedForecast': 'Mostly cloudy, with a low around 45.'},\n   {'number': 13,\n    'name': 'Monday',\n    'startTime': '2024-04-08T06:00:00-07:00',\n    'endTime': '2024-04-08T18:00:00-07:00',\n    'isDaytime': True,\n    'temperature': 65,\n    'temperatureUnit': 'F',\n    'temperatureTrend': None,\n    'probabilityOfPrecipitation': {'unitCode': 'wmoUnit:percent',\n     'value': None},\n    'dewpoint': {'unitCode': 'wmoUnit:degC', 'value': 8.333333333333334},\n    'relativeHumidity': {'unitCode': 'wmoUnit:percent', 'value': 94},\n    'windSpeed': '5 to 15 mph',\n    'windDirection': 'WSW',\n    'icon': 'https://api.weather.gov/icons/land/day/sct?size=medium',\n    'shortForecast': 'Mostly Sunny',\n    'detailedForecast': 'Mostly sunny, with a high near 65.'},\n   {'number': 14,\n    'name': 'Monday Night',\n    'startTime': '2024-04-08T18:00:00-07:00',\n    'endTime': '2024-04-09T06:00:00-07:00',\n    'isDaytime': False,\n    'temperature': 46,\n    'temperatureUnit': 'F',\n    'temperatureTrend': None,\n    'probabilityOfPrecipitation': {'unitCode': 'wmoUnit:percent',\n     'value': None},\n    'dewpoint': {'unitCode': 'wmoUnit:degC', 'value': 8.333333333333334},\n    'relativeHumidity': {'unitCode': 'wmoUnit:percent', 'value': 90},\n    'windSpeed': '5 to 15 mph',\n    'windDirection': 'NE',\n    'icon': 'https://api.weather.gov/icons/land/night/few?size=medium',\n    'shortForecast': 'Mostly Clear',\n    'detailedForecast': 'Mostly clear, with a low around 46.'}]}}"
     },
     "execution_count": 31,
     "metadata": {},
     "output_type": "execute_result"
    }
   ],
   "source": [
    "def get_weather_forecast(office, gridX, gridY, forecast_type='forecast'):\n",
    "    url = f'https://api.weather.gov/gridpoints/{office}/{gridX},{gridY}/{forecast_type}'\n",
    "    print(url)\n",
    "    r = requests.get(url)\n",
    "    return r.json()\n",
    "\n",
    "get_weather_forecast('LOX', 160, 48, 'forecast')"
   ],
   "metadata": {
    "collapsed": false,
    "ExecuteTime": {
     "end_time": "2024-04-02T20:53:50.264485837Z",
     "start_time": "2024-04-02T20:53:50.109155969Z"
    }
   },
   "id": "88ee153a313cf5ba"
  }
 ],
 "metadata": {
  "kernelspec": {
   "display_name": "Python 3",
   "language": "python",
   "name": "python3"
  },
  "language_info": {
   "codemirror_mode": {
    "name": "ipython",
    "version": 2
   },
   "file_extension": ".py",
   "mimetype": "text/x-python",
   "name": "python",
   "nbconvert_exporter": "python",
   "pygments_lexer": "ipython2",
   "version": "2.7.6"
  }
 },
 "nbformat": 4,
 "nbformat_minor": 5
}
