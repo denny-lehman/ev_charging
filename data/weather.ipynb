{
 "cells": [
  {
   "cell_type": "markdown",
   "source": [
    "# Weather data fetch tests\n",
    "This notebook will walk through how to get forecasted weather data for a location. \n",
    "\n",
    "the weather api used is from weather.gov: https://www.weather.gov/documentation/services-web-api"
   ],
   "metadata": {
    "collapsed": false
   },
   "id": "b1ec0ae3004f658b"
  },
  {
   "cell_type": "markdown",
   "source": [
    "# the weather fetching process is:\n",
    "1.  get the lat long for the sites\n",
    "2.  get the grid points\n",
    "3.  call the for the appropriate forecast \n"
   ],
   "metadata": {
    "collapsed": false
   },
   "id": "6ca69696d4a941c7"
  },
  {
   "cell_type": "markdown",
   "source": [
    "# Get lat long for each site\n",
    "Using google maps, I typed in the locations and then asked for the lat and long of that spot on the map. Here are the lat long coordinates for our locations\n",
    "![caltech](caltech_lat_long.png)"
   ],
   "metadata": {
    "collapsed": false
   },
   "id": "c1420a9d1f4c6b02"
  },
  {
   "cell_type": "code",
   "execution_count": 1,
   "outputs": [],
   "source": [
    "import requests\n",
    "import pandas as pd\n",
    "import json\n",
    "\n",
    "caltech_lat =   34.134785646454844\n",
    "caltech_lon = -118.11691382579643\n",
    "\n",
    "jpl_lat = 34.20142342818471\n",
    "jpl_lon = -118.17126565774107\n",
    "\n",
    "office_lat = 37.33680466796926\n",
    "office_lon = -121.90743423142634"
   ],
   "metadata": {
    "collapsed": false,
    "ExecuteTime": {
     "end_time": "2024-04-03T02:49:48.264375Z",
     "start_time": "2024-04-03T02:48:20.838228Z"
    }
   },
   "id": "f06230aa8b7abded"
  },
  {
   "cell_type": "markdown",
   "source": [
    "# get grid points\n",
    "The way the weather api system works is by finding the station's grid points that are closest to the lat long coordinates. The code below gets the grid x and grid y from the lat long coordinates"
   ],
   "metadata": {
    "collapsed": false
   },
   "id": "e9bd9511d284266c"
  },
  {
   "cell_type": "code",
   "execution_count": 2,
   "outputs": [
    {
     "name": "stdout",
     "output_type": "stream",
     "text": [
      "https://api.weather.gov/points/34.134785646454844,-118.11691382579643\n",
      "status code: 200\n"
     ]
    },
    {
     "data": {
      "text/plain": "('LOX', 160, 48)"
     },
     "execution_count": 2,
     "metadata": {},
     "output_type": "execute_result"
    }
   ],
   "source": [
    "def get_grid_points(latitude, longitude):\n",
    "    url = f'https://api.weather.gov/points/{latitude},{longitude}'\n",
    "    print(url)\n",
    "    \n",
    "    r = requests.get(url)\n",
    "    \n",
    "    print('status code:', r.status_code)\n",
    "    payload = r.json()\n",
    "    \n",
    "    gridId = payload['properties']['gridId']\n",
    "    gridX = payload['properties']['gridX']\n",
    "    gridY = r.json()['properties']['gridY']\n",
    "    return gridId, gridX, gridY\n",
    "cal = get_grid_points(caltech_lat, caltech_lon)\n",
    "off = get_grid_points(office_lat, office_lon)"
   ],
   "metadata": {
    "collapsed": false,
    "ExecuteTime": {
     "end_time": "2024-04-03T02:49:49.113369Z",
     "start_time": "2024-04-03T02:49:48.275928Z"
    }
   },
   "id": "37dacae3df479aaf"
  },
  {
   "cell_type": "code",
   "outputs": [
    {
     "name": "stdout",
     "output_type": "stream",
     "text": [
      "https://api.weather.gov/points/34.134785646454844,-118.11691382579643\n",
      "status code: 200\n",
      "https://api.weather.gov/points/34.20142342818471,-118.17126565774107\n",
      "status code: 200\n",
      "https://api.weather.gov/points/37.33680466796926,-121.90743423142634\n",
      "status code: 200\n"
     ]
    }
   ],
   "source": [
    "ct_grid, ct_grid_x, ct_grid_y = get_grid_points(caltech_lat, caltech_lon)\n",
    "jpl_grid, jpl_grid_x, jpl_grid_y = get_grid_points(jpl_lat, jpl_lon)\n",
    "office_grid, office_grid_x, office_grid_y = get_grid_points(office_lat, office_lon)"
   ],
   "metadata": {
    "collapsed": false,
    "ExecuteTime": {
     "end_time": "2024-04-03T02:49:50.138205Z",
     "start_time": "2024-04-03T02:49:49.151326Z"
    }
   },
   "id": "739fe8052f7dc21c",
   "execution_count": 3
  },
  {
   "cell_type": "markdown",
   "source": [
    "# get forecast\n",
    "Once we have the office, gridx and gridy for the location, we can get three different kinds of weather forecasts\n",
    "\n",
    "    forecast - forecast for 12h periods over the next seven days\n",
    "    forecastHourly - forecast for hourly periods over the next seven days\n",
    "    forecastGridData - raw forecast data over the next seven days\n",
    "\n"
   ],
   "metadata": {
    "collapsed": false
   },
   "id": "3c9f03b78665502e"
  },
  {
   "cell_type": "code",
   "execution_count": 4,
   "outputs": [
    {
     "data": {
      "text/plain": "\"\\ndef get_weather_forecast(office, gridX, gridY, forecast_type='forecast'):\\n    if forecast_type not in ['12_hour', '7day_hourly', '7day_grid']:\\n        print(f'{forecast_type} is not a valid option. please select 12_hour, 7day_hourly, or 7day_grid', )\\n        pass\\n    \\n    forecast_urls = {'12_hour':f'https://api.weather.gov/gridpoints/{office}/{gridX},{gridY}/forecast',\\n                     '7day_hourly':f'https://api.weather.gov/gridpoints/{office}/{gridX},{gridY}/forecast/hourly',\\n                     '7day_grid':f'https://api.weather.gov/gridpoints/{office}/{gridX},{gridY}'}\\n    \\n    url = forecast_urls[forecast_type]\\n    print(url)\\n    r = requests.get(url)\\n    return r.json()\\n\""
     },
     "execution_count": 4,
     "metadata": {},
     "output_type": "execute_result"
    }
   ],
   "source": [
    "'''\n",
    "def get_weather_forecast(office, gridX, gridY, forecast_type='forecast'):\n",
    "    if forecast_type not in ['12_hour', '7day_hourly', '7day_grid']:\n",
    "        print(f'{forecast_type} is not a valid option. please select 12_hour, 7day_hourly, or 7day_grid', )\n",
    "        pass\n",
    "    \n",
    "    forecast_urls = {'12_hour':f'https://api.weather.gov/gridpoints/{office}/{gridX},{gridY}/forecast',\n",
    "                     '7day_hourly':f'https://api.weather.gov/gridpoints/{office}/{gridX},{gridY}/forecast/hourly',\n",
    "                     '7day_grid':f'https://api.weather.gov/gridpoints/{office}/{gridX},{gridY}'}\n",
    "    \n",
    "    url = forecast_urls[forecast_type]\n",
    "    print(url)\n",
    "    r = requests.get(url)\n",
    "    return r.json()\n",
    "'''\n"
   ],
   "metadata": {
    "collapsed": false,
    "ExecuteTime": {
     "end_time": "2024-04-03T02:49:50.246137Z",
     "start_time": "2024-04-03T02:49:50.185675Z"
    }
   },
   "id": "88ee153a313cf5ba"
  },
  {
   "cell_type": "code",
   "outputs": [],
   "source": [
    "def get_weather_forecast(office, gridX, gridY):\n",
    "    url = f'https://api.weather.gov/gridpoints/{office}/{gridX},{gridY}/forecast'\n",
    "    print(url)\n",
    "    r = requests.get(url)\n",
    "    return r.json()"
   ],
   "metadata": {
    "collapsed": false,
    "ExecuteTime": {
     "end_time": "2024-04-03T02:49:50.319505Z",
     "start_time": "2024-04-03T02:49:50.264014Z"
    }
   },
   "id": "159714e484b3b321",
   "execution_count": 5
  },
  {
   "cell_type": "code",
   "outputs": [],
   "source": [
    "def get_hourly_weather_forecast(office, gridX, gridY):\n",
    "    url = f'https://api.weather.gov/gridpoints/{office}/{gridX},{gridY}/forecast/hourly'\n",
    "    print(url)\n",
    "    r = requests.get(url)\n",
    "    return r.json()"
   ],
   "metadata": {
    "collapsed": false,
    "ExecuteTime": {
     "end_time": "2024-04-03T02:49:50.393639Z",
     "start_time": "2024-04-03T02:49:50.334613Z"
    }
   },
   "id": "936c3633d0e4980",
   "execution_count": 6
  },
  {
   "cell_type": "code",
   "outputs": [],
   "source": [
    "def get_raw_weather_forecast(office, gridX, gridY):\n",
    "    url = f'https://api.weather.gov/gridpoints/{office}/{gridX},{gridY}'\n",
    "    print(url)\n",
    "    r = requests.get(url)\n",
    "    return r.json()"
   ],
   "metadata": {
    "collapsed": false,
    "ExecuteTime": {
     "end_time": "2024-04-03T02:49:50.565673Z",
     "start_time": "2024-04-03T02:49:50.423988Z"
    }
   },
   "id": "25d5f4e464dabdb",
   "execution_count": 7
  },
  {
   "cell_type": "code",
   "execution_count": 8,
   "outputs": [],
   "source": [
    "#forecast_12_hour = get_weather_forecast('LOX', 160, 48, '12_hour')\n",
    "#forecast_7day_hourly = get_weather_forecast('LOX', 160, 48, '7day_hourly')\n",
    "#forecast_7day_raw = get_weather_forecast('LOX', 160, 48, '7day_grid')"
   ],
   "metadata": {
    "collapsed": false,
    "ExecuteTime": {
     "end_time": "2024-04-03T02:49:50.747171Z",
     "start_time": "2024-04-03T02:49:50.633555Z"
    }
   },
   "id": "7b99a4f1c2a869b9"
  },
  {
   "cell_type": "code",
   "execution_count": 9,
   "outputs": [],
   "source": [
    "#forecast_7day_hourly"
   ],
   "metadata": {
    "collapsed": false,
    "ExecuteTime": {
     "end_time": "2024-04-03T02:49:50.978287Z",
     "start_time": "2024-04-03T02:49:50.877293Z"
    }
   },
   "id": "1099917ea3a12bb4"
  },
  {
   "cell_type": "code",
   "outputs": [
    {
     "name": "stdout",
     "output_type": "stream",
     "text": [
      "https://api.weather.gov/gridpoints/LOX/160,48/forecast/hourly\n"
     ]
    },
    {
     "data": {
      "text/plain": "{'@context': ['https://geojson.org/geojson-ld/geojson-context.jsonld',\n  {'@version': '1.1',\n   'wx': 'https://api.weather.gov/ontology#',\n   'geo': 'http://www.opengis.net/ont/geosparql#',\n   'unit': 'http://codes.wmo.int/common/unit/',\n   '@vocab': 'https://api.weather.gov/ontology#'}],\n 'type': 'Feature',\n 'geometry': {'type': 'Polygon',\n  'coordinates': [[[-121.9122352, 37.341288],\n    [-121.9067053, 37.3194264],\n    [-121.879278, 37.323810699999996],\n    [-121.8848026, 37.345672799999996],\n    [-121.9122352, 37.341288]]]},\n 'properties': {'updated': '2024-04-02T20:33:27+00:00',\n  'units': 'us',\n  'forecastGenerator': 'BaselineForecastGenerator',\n  'generatedAt': '2024-04-03T04:00:35+00:00',\n  'updateTime': '2024-04-02T20:33:27+00:00',\n  'validTimes': '2024-04-02T14:00:00+00:00/P7DT14H',\n  'elevation': {'unitCode': 'wmoUnit:m', 'value': 24.9936},\n  'periods': [{'number': 1,\n    'name': 'Tonight',\n    'startTime': '2024-04-02T21:00:00-07:00',\n    'endTime': '2024-04-03T06:00:00-07:00',\n    'isDaytime': False,\n    'temperature': 47,\n    'temperatureUnit': 'F',\n    'temperatureTrend': None,\n    'probabilityOfPrecipitation': {'unitCode': 'wmoUnit:percent',\n     'value': None},\n    'dewpoint': {'unitCode': 'wmoUnit:degC', 'value': 10.555555555555555},\n    'relativeHumidity': {'unitCode': 'wmoUnit:percent', 'value': 94},\n    'windSpeed': '2 to 6 mph',\n    'windDirection': 'W',\n    'icon': 'https://api.weather.gov/icons/land/night/few?size=medium',\n    'shortForecast': 'Mostly Clear',\n    'detailedForecast': 'Mostly clear, with a low around 47. West wind 2 to 6 mph.'},\n   {'number': 2,\n    'name': 'Wednesday',\n    'startTime': '2024-04-03T06:00:00-07:00',\n    'endTime': '2024-04-03T18:00:00-07:00',\n    'isDaytime': True,\n    'temperature': 69,\n    'temperatureUnit': 'F',\n    'temperatureTrend': 'falling',\n    'probabilityOfPrecipitation': {'unitCode': 'wmoUnit:percent',\n     'value': None},\n    'dewpoint': {'unitCode': 'wmoUnit:degC', 'value': 11.11111111111111},\n    'relativeHumidity': {'unitCode': 'wmoUnit:percent', 'value': 94},\n    'windSpeed': '2 to 14 mph',\n    'windDirection': 'WNW',\n    'icon': 'https://api.weather.gov/icons/land/day/bkn?size=medium',\n    'shortForecast': 'Partly Sunny',\n    'detailedForecast': 'Partly sunny. High near 69, with temperatures falling to around 62 in the afternoon. West northwest wind 2 to 14 mph, with gusts as high as 21 mph.'},\n   {'number': 3,\n    'name': 'Wednesday Night',\n    'startTime': '2024-04-03T18:00:00-07:00',\n    'endTime': '2024-04-04T06:00:00-07:00',\n    'isDaytime': False,\n    'temperature': 43,\n    'temperatureUnit': 'F',\n    'temperatureTrend': None,\n    'probabilityOfPrecipitation': {'unitCode': 'wmoUnit:percent', 'value': 40},\n    'dewpoint': {'unitCode': 'wmoUnit:degC', 'value': 7.222222222222222},\n    'relativeHumidity': {'unitCode': 'wmoUnit:percent', 'value': 79},\n    'windSpeed': '6 to 13 mph',\n    'windDirection': 'W',\n    'icon': 'https://api.weather.gov/icons/land/night/bkn/rain,40?size=medium',\n    'shortForecast': 'Mostly Cloudy then Chance Light Rain',\n    'detailedForecast': 'A chance of rain after 5am. Mostly cloudy, with a low around 43. West wind 6 to 13 mph, with gusts as high as 20 mph. Chance of precipitation is 40%. New rainfall amounts less than a tenth of an inch possible.'},\n   {'number': 4,\n    'name': 'Thursday',\n    'startTime': '2024-04-04T06:00:00-07:00',\n    'endTime': '2024-04-04T18:00:00-07:00',\n    'isDaytime': True,\n    'temperature': 56,\n    'temperatureUnit': 'F',\n    'temperatureTrend': None,\n    'probabilityOfPrecipitation': {'unitCode': 'wmoUnit:percent', 'value': 60},\n    'dewpoint': {'unitCode': 'wmoUnit:degC', 'value': 5},\n    'relativeHumidity': {'unitCode': 'wmoUnit:percent', 'value': 82},\n    'windSpeed': '6 to 13 mph',\n    'windDirection': 'SSW',\n    'icon': 'https://api.weather.gov/icons/land/day/tsra_sct,60?size=medium',\n    'shortForecast': 'Showers And Thunderstorms Likely',\n    'detailedForecast': 'A chance of rain before 11am, then showers and thunderstorms likely. Partly sunny, with a high near 56. South southwest wind 6 to 13 mph, with gusts as high as 20 mph. Chance of precipitation is 60%. New rainfall amounts between a quarter and half of an inch possible.'},\n   {'number': 5,\n    'name': 'Thursday Night',\n    'startTime': '2024-04-04T18:00:00-07:00',\n    'endTime': '2024-04-05T06:00:00-07:00',\n    'isDaytime': False,\n    'temperature': 38,\n    'temperatureUnit': 'F',\n    'temperatureTrend': None,\n    'probabilityOfPrecipitation': {'unitCode': 'wmoUnit:percent', 'value': 40},\n    'dewpoint': {'unitCode': 'wmoUnit:degC', 'value': 4.444444444444445},\n    'relativeHumidity': {'unitCode': 'wmoUnit:percent', 'value': 94},\n    'windSpeed': '7 to 13 mph',\n    'windDirection': 'SSW',\n    'icon': 'https://api.weather.gov/icons/land/night/tsra_hi,40/snow,40?size=medium',\n    'shortForecast': 'Chance Showers And Thunderstorms then Chance Rain And Snow',\n    'detailedForecast': 'A chance of showers and thunderstorms before 11pm, then a chance of rain between 11pm and 5am, then a chance of rain and snow. Mostly cloudy, with a low around 38. South southwest wind 7 to 13 mph, with gusts as high as 20 mph. Chance of precipitation is 40%. New rainfall amounts between a tenth and quarter of an inch possible.'},\n   {'number': 6,\n    'name': 'Friday',\n    'startTime': '2024-04-05T06:00:00-07:00',\n    'endTime': '2024-04-05T18:00:00-07:00',\n    'isDaytime': True,\n    'temperature': 58,\n    'temperatureUnit': 'F',\n    'temperatureTrend': None,\n    'probabilityOfPrecipitation': {'unitCode': 'wmoUnit:percent', 'value': 30},\n    'dewpoint': {'unitCode': 'wmoUnit:degC', 'value': 5.555555555555555},\n    'relativeHumidity': {'unitCode': 'wmoUnit:percent', 'value': 94},\n    'windSpeed': '6 to 16 mph',\n    'windDirection': 'W',\n    'icon': 'https://api.weather.gov/icons/land/day/snow,30?size=medium',\n    'shortForecast': 'Chance Rain And Snow',\n    'detailedForecast': 'A chance of rain and snow before 5pm. Mostly sunny, with a high near 58. Chance of precipitation is 30%. New rainfall amounts less than a tenth of an inch possible.'},\n   {'number': 7,\n    'name': 'Friday Night',\n    'startTime': '2024-04-05T18:00:00-07:00',\n    'endTime': '2024-04-06T06:00:00-07:00',\n    'isDaytime': False,\n    'temperature': 39,\n    'temperatureUnit': 'F',\n    'temperatureTrend': None,\n    'probabilityOfPrecipitation': {'unitCode': 'wmoUnit:percent',\n     'value': None},\n    'dewpoint': {'unitCode': 'wmoUnit:degC', 'value': 4.444444444444445},\n    'relativeHumidity': {'unitCode': 'wmoUnit:percent', 'value': 89},\n    'windSpeed': '6 to 16 mph',\n    'windDirection': 'W',\n    'icon': 'https://api.weather.gov/icons/land/night/few?size=medium',\n    'shortForecast': 'Mostly Clear',\n    'detailedForecast': 'Mostly clear, with a low around 39.'},\n   {'number': 8,\n    'name': 'Saturday',\n    'startTime': '2024-04-06T06:00:00-07:00',\n    'endTime': '2024-04-06T18:00:00-07:00',\n    'isDaytime': True,\n    'temperature': 62,\n    'temperatureUnit': 'F',\n    'temperatureTrend': None,\n    'probabilityOfPrecipitation': {'unitCode': 'wmoUnit:percent',\n     'value': None},\n    'dewpoint': {'unitCode': 'wmoUnit:degC', 'value': 5.555555555555555},\n    'relativeHumidity': {'unitCode': 'wmoUnit:percent', 'value': 89},\n    'windSpeed': '6 to 13 mph',\n    'windDirection': 'W',\n    'icon': 'https://api.weather.gov/icons/land/day/few?size=medium',\n    'shortForecast': 'Sunny',\n    'detailedForecast': 'Sunny, with a high near 62.'},\n   {'number': 9,\n    'name': 'Saturday Night',\n    'startTime': '2024-04-06T18:00:00-07:00',\n    'endTime': '2024-04-07T06:00:00-07:00',\n    'isDaytime': False,\n    'temperature': 42,\n    'temperatureUnit': 'F',\n    'temperatureTrend': None,\n    'probabilityOfPrecipitation': {'unitCode': 'wmoUnit:percent',\n     'value': None},\n    'dewpoint': {'unitCode': 'wmoUnit:degC', 'value': 5.555555555555555},\n    'relativeHumidity': {'unitCode': 'wmoUnit:percent', 'value': 90},\n    'windSpeed': '5 to 13 mph',\n    'windDirection': 'WSW',\n    'icon': 'https://api.weather.gov/icons/land/night/sct?size=medium',\n    'shortForecast': 'Partly Cloudy',\n    'detailedForecast': 'Partly cloudy, with a low around 42.'},\n   {'number': 10,\n    'name': 'Sunday',\n    'startTime': '2024-04-07T06:00:00-07:00',\n    'endTime': '2024-04-07T18:00:00-07:00',\n    'isDaytime': True,\n    'temperature': 62,\n    'temperatureUnit': 'F',\n    'temperatureTrend': None,\n    'probabilityOfPrecipitation': {'unitCode': 'wmoUnit:percent',\n     'value': None},\n    'dewpoint': {'unitCode': 'wmoUnit:degC', 'value': 6.666666666666667},\n    'relativeHumidity': {'unitCode': 'wmoUnit:percent', 'value': 90},\n    'windSpeed': '5 to 12 mph',\n    'windDirection': 'WSW',\n    'icon': 'https://api.weather.gov/icons/land/day/rain?size=medium',\n    'shortForecast': 'Slight Chance Light Rain',\n    'detailedForecast': 'A slight chance of rain between 11am and 5pm. Partly sunny, with a high near 62.'},\n   {'number': 11,\n    'name': 'Sunday Night',\n    'startTime': '2024-04-07T18:00:00-07:00',\n    'endTime': '2024-04-08T06:00:00-07:00',\n    'isDaytime': False,\n    'temperature': 42,\n    'temperatureUnit': 'F',\n    'temperatureTrend': None,\n    'probabilityOfPrecipitation': {'unitCode': 'wmoUnit:percent',\n     'value': None},\n    'dewpoint': {'unitCode': 'wmoUnit:degC', 'value': 6.666666666666667},\n    'relativeHumidity': {'unitCode': 'wmoUnit:percent', 'value': 94},\n    'windSpeed': '6 to 12 mph',\n    'windDirection': 'NW',\n    'icon': 'https://api.weather.gov/icons/land/night/few?size=medium',\n    'shortForecast': 'Mostly Clear',\n    'detailedForecast': 'Mostly clear, with a low around 42.'},\n   {'number': 12,\n    'name': 'Monday',\n    'startTime': '2024-04-08T06:00:00-07:00',\n    'endTime': '2024-04-08T18:00:00-07:00',\n    'isDaytime': True,\n    'temperature': 68,\n    'temperatureUnit': 'F',\n    'temperatureTrend': None,\n    'probabilityOfPrecipitation': {'unitCode': 'wmoUnit:percent',\n     'value': None},\n    'dewpoint': {'unitCode': 'wmoUnit:degC', 'value': 6.666666666666667},\n    'relativeHumidity': {'unitCode': 'wmoUnit:percent', 'value': 92},\n    'windSpeed': '6 to 14 mph',\n    'windDirection': 'NW',\n    'icon': 'https://api.weather.gov/icons/land/day/few?size=medium',\n    'shortForecast': 'Sunny',\n    'detailedForecast': 'Sunny, with a high near 68.'},\n   {'number': 13,\n    'name': 'Monday Night',\n    'startTime': '2024-04-08T18:00:00-07:00',\n    'endTime': '2024-04-09T06:00:00-07:00',\n    'isDaytime': False,\n    'temperature': 44,\n    'temperatureUnit': 'F',\n    'temperatureTrend': None,\n    'probabilityOfPrecipitation': {'unitCode': 'wmoUnit:percent',\n     'value': None},\n    'dewpoint': {'unitCode': 'wmoUnit:degC', 'value': 7.777777777777778},\n    'relativeHumidity': {'unitCode': 'wmoUnit:percent', 'value': 88},\n    'windSpeed': '5 to 14 mph',\n    'windDirection': 'W',\n    'icon': 'https://api.weather.gov/icons/land/night/few?size=medium',\n    'shortForecast': 'Mostly Clear',\n    'detailedForecast': 'Mostly clear, with a low around 44.'},\n   {'number': 14,\n    'name': 'Tuesday',\n    'startTime': '2024-04-09T06:00:00-07:00',\n    'endTime': '2024-04-09T18:00:00-07:00',\n    'isDaytime': True,\n    'temperature': 72,\n    'temperatureUnit': 'F',\n    'temperatureTrend': None,\n    'probabilityOfPrecipitation': {'unitCode': 'wmoUnit:percent',\n     'value': None},\n    'dewpoint': {'unitCode': 'wmoUnit:degC', 'value': 8.88888888888889},\n    'relativeHumidity': {'unitCode': 'wmoUnit:percent', 'value': 88},\n    'windSpeed': '5 to 10 mph',\n    'windDirection': 'NNE',\n    'icon': 'https://api.weather.gov/icons/land/day/few?size=medium',\n    'shortForecast': 'Sunny',\n    'detailedForecast': 'Sunny, with a high near 72.'}]}}"
     },
     "execution_count": 10,
     "metadata": {},
     "output_type": "execute_result"
    }
   ],
   "source": [
    "ct_hourly_forecast = get_hourly_weather_forecast(ct_grid, ct_grid_x, ct_grid_y)\n",
    "ct_hourly_forecast"
   ],
   "metadata": {
    "collapsed": false,
    "ExecuteTime": {
     "end_time": "2024-04-03T02:58:38.022397Z",
     "start_time": "2024-04-03T02:58:32.052206Z"
    }
   },
   "id": "7dca7c9b4c6198b9",
   "execution_count": 10
  },
  {
   "cell_type": "code",
   "outputs": [],
   "source": [
    "def create_hourly_forecast_df(json_forecast):\n",
    "    forecast = json_forecast['properties']['periods']\n",
    "    forecast_df = pd.DataFrame(forecast)\n",
    "    forecast_df['probabilityOfPrecipitationPercent'] = forecast_df['probabilityOfPrecipitation'].apply(lambda x: x['value'])\n",
    "    forecast_df['dewpoint_degC'] = forecast_df['dewpoint'].apply(lambda x: x['value'])\n",
    "    forecast_df['relativeHumidityPercent'] = forecast_df['relativeHumidity'].apply(lambda x: x['value'])\n",
    "    return forecast_df.drop(columns=['number', 'name', 'detailedForecast', 'dewpoint', 'probabilityOfPrecipitation', 'relativeHumidity', 'temperatureTrend'])"
   ],
   "metadata": {
    "collapsed": false,
    "ExecuteTime": {
     "end_time": "2024-04-03T03:58:11.898052Z",
     "start_time": "2024-04-03T03:58:11.892035Z"
    }
   },
   "id": "407cf07b053146e0",
   "execution_count": 21
  },
  {
   "cell_type": "code",
   "outputs": [
    {
     "data": {
      "text/plain": "                   startTime                    endTime  isDaytime  \\\n0  2024-04-02T19:00:00-07:00  2024-04-02T20:00:00-07:00      False   \n1  2024-04-02T20:00:00-07:00  2024-04-02T21:00:00-07:00      False   \n2  2024-04-02T21:00:00-07:00  2024-04-02T22:00:00-07:00      False   \n3  2024-04-02T22:00:00-07:00  2024-04-02T23:00:00-07:00      False   \n4  2024-04-02T23:00:00-07:00  2024-04-03T00:00:00-07:00      False   \n\n   temperature temperatureUnit windSpeed windDirection  \\\n0           68               F    10 mph           WSW   \n1           66               F     5 mph             W   \n2           63               F     5 mph             W   \n3           61               F     5 mph             W   \n4           59               F     5 mph           ENE   \n\n                                                icon shortForecast  \\\n0  https://api.weather.gov/icons/land/night/few,0...  Mostly Clear   \n1  https://api.weather.gov/icons/land/night/few,0...  Mostly Clear   \n2  https://api.weather.gov/icons/land/night/few,0...  Mostly Clear   \n3  https://api.weather.gov/icons/land/night/few,0...  Mostly Clear   \n4  https://api.weather.gov/icons/land/night/few,0...  Mostly Clear   \n\n   probabilityOfPrecipitationPercent  dewpoint_degC  relativeHumidityPercent  \n0                                  0       6.666667                       43  \n1                                  0       7.777778                       49  \n2                                  0       7.777778                       54  \n3                                  0       7.777778                       59  \n4                                  0       7.222222                       61  ",
      "text/html": "<div>\n<style scoped>\n    .dataframe tbody tr th:only-of-type {\n        vertical-align: middle;\n    }\n\n    .dataframe tbody tr th {\n        vertical-align: top;\n    }\n\n    .dataframe thead th {\n        text-align: right;\n    }\n</style>\n<table border=\"1\" class=\"dataframe\">\n  <thead>\n    <tr style=\"text-align: right;\">\n      <th></th>\n      <th>startTime</th>\n      <th>endTime</th>\n      <th>isDaytime</th>\n      <th>temperature</th>\n      <th>temperatureUnit</th>\n      <th>windSpeed</th>\n      <th>windDirection</th>\n      <th>icon</th>\n      <th>shortForecast</th>\n      <th>probabilityOfPrecipitationPercent</th>\n      <th>dewpoint_degC</th>\n      <th>relativeHumidityPercent</th>\n    </tr>\n  </thead>\n  <tbody>\n    <tr>\n      <th>0</th>\n      <td>2024-04-02T19:00:00-07:00</td>\n      <td>2024-04-02T20:00:00-07:00</td>\n      <td>False</td>\n      <td>68</td>\n      <td>F</td>\n      <td>10 mph</td>\n      <td>WSW</td>\n      <td>https://api.weather.gov/icons/land/night/few,0...</td>\n      <td>Mostly Clear</td>\n      <td>0</td>\n      <td>6.666667</td>\n      <td>43</td>\n    </tr>\n    <tr>\n      <th>1</th>\n      <td>2024-04-02T20:00:00-07:00</td>\n      <td>2024-04-02T21:00:00-07:00</td>\n      <td>False</td>\n      <td>66</td>\n      <td>F</td>\n      <td>5 mph</td>\n      <td>W</td>\n      <td>https://api.weather.gov/icons/land/night/few,0...</td>\n      <td>Mostly Clear</td>\n      <td>0</td>\n      <td>7.777778</td>\n      <td>49</td>\n    </tr>\n    <tr>\n      <th>2</th>\n      <td>2024-04-02T21:00:00-07:00</td>\n      <td>2024-04-02T22:00:00-07:00</td>\n      <td>False</td>\n      <td>63</td>\n      <td>F</td>\n      <td>5 mph</td>\n      <td>W</td>\n      <td>https://api.weather.gov/icons/land/night/few,0...</td>\n      <td>Mostly Clear</td>\n      <td>0</td>\n      <td>7.777778</td>\n      <td>54</td>\n    </tr>\n    <tr>\n      <th>3</th>\n      <td>2024-04-02T22:00:00-07:00</td>\n      <td>2024-04-02T23:00:00-07:00</td>\n      <td>False</td>\n      <td>61</td>\n      <td>F</td>\n      <td>5 mph</td>\n      <td>W</td>\n      <td>https://api.weather.gov/icons/land/night/few,0...</td>\n      <td>Mostly Clear</td>\n      <td>0</td>\n      <td>7.777778</td>\n      <td>59</td>\n    </tr>\n    <tr>\n      <th>4</th>\n      <td>2024-04-02T23:00:00-07:00</td>\n      <td>2024-04-03T00:00:00-07:00</td>\n      <td>False</td>\n      <td>59</td>\n      <td>F</td>\n      <td>5 mph</td>\n      <td>ENE</td>\n      <td>https://api.weather.gov/icons/land/night/few,0...</td>\n      <td>Mostly Clear</td>\n      <td>0</td>\n      <td>7.222222</td>\n      <td>61</td>\n    </tr>\n  </tbody>\n</table>\n</div>"
     },
     "execution_count": 22,
     "metadata": {},
     "output_type": "execute_result"
    }
   ],
   "source": [
    "ct_hourly_forecast_df = create_hourly_forecast_df(ct_hourly_forecast)\n",
    "ct_hourly_forecast_df.head()"
   ],
   "metadata": {
    "collapsed": false,
    "ExecuteTime": {
     "end_time": "2024-04-03T03:58:12.757033Z",
     "start_time": "2024-04-03T03:58:12.724169Z"
    }
   },
   "id": "29b2e508373037f",
   "execution_count": 22
  },
  {
   "cell_type": "code",
   "outputs": [],
   "source": [],
   "metadata": {
    "collapsed": false
   },
   "id": "46c8e5e67aed3eb2"
  }
 ],
 "metadata": {
  "kernelspec": {
   "display_name": "Python 3",
   "language": "python",
   "name": "python3"
  },
  "language_info": {
   "codemirror_mode": {
    "name": "ipython",
    "version": 2
   },
   "file_extension": ".py",
   "mimetype": "text/x-python",
   "name": "python",
   "nbconvert_exporter": "python",
   "pygments_lexer": "ipython2",
   "version": "2.7.6"
  }
 },
 "nbformat": 4,
 "nbformat_minor": 5
}
