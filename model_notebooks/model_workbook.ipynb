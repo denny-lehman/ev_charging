{
 "cells": [
  {
   "cell_type": "markdown",
   "source": [
    "# Model evaluation notebook\n",
    "\n",
    "in this notebook we will evaluate % availability. definitions are:\n",
    "\n",
    "X = \n",
    "    location: site_id\n",
    "    time: hour, dow, weekend, is_holiday, \n",
    "    weather: temperature, dew point, relative humidity, wind direction, wind speed\n",
    "    grid: net demand, solar, wind\n",
    "y = % available (for site)\n",
    "\n",
    "this will work for all sites.\n",
    "\n",
    "How will we do train test split?\n",
    "random 80-20 for now \n"
   ],
   "metadata": {
    "collapsed": false
   },
   "id": "6f902f119a45de93"
  },
  {
   "cell_type": "code",
   "execution_count": 1,
   "outputs": [
    {
     "name": "stdout",
     "output_type": "stream",
     "text": [
      "in the right place!\n"
     ]
    },
    {
     "data": {
      "text/plain": "'/home/denny/Documents/mids/ev_charging'"
     },
     "execution_count": 1,
     "metadata": {},
     "output_type": "execute_result"
    }
   ],
   "source": [
    "import os\n",
    "if 'model_notebooks' == os.getcwd().split('/')[-1]: os.chdir('..')\n",
    "if 'ev_charging' == os.getcwd().split('/')[-1]: print('in the right place!')\n",
    "else: os.chdir('/Users/varunvenkatesh/Documents/Github/ev_charging')\n",
    "os.getcwd()"
   ],
   "metadata": {
    "collapsed": false,
    "ExecuteTime": {
     "end_time": "2024-04-12T20:25:18.626793440Z",
     "start_time": "2024-04-12T20:25:16.101419722Z"
    }
   },
   "id": "85706eb52fbfa576"
  },
  {
   "cell_type": "code",
   "execution_count": 2,
   "outputs": [
    {
     "name": "stderr",
     "output_type": "stream",
     "text": [
      "2024-04-12 14:25:17.002 WARNING streamlit.runtime.caching.cache_data_api: No runtime found, using MemoryCacheStorageManager\n",
      "2024-04-12 14:25:17.004 WARNING streamlit.runtime.caching.cache_data_api: No runtime found, using MemoryCacheStorageManager\n",
      "2024-04-12 14:25:17.006 WARNING streamlit.runtime.caching.cache_data_api: No runtime found, using MemoryCacheStorageManager\n",
      "2024-04-12 14:25:17.007 WARNING streamlit.runtime.caching.cache_data_api: No runtime found, using MemoryCacheStorageManager\n",
      "2024-04-12 14:25:17.008 WARNING streamlit.runtime.caching.cache_data_api: No runtime found, using MemoryCacheStorageManager\n",
      "2024-04-12 14:25:17.009 WARNING streamlit.runtime.caching.cache_data_api: No runtime found, using MemoryCacheStorageManager\n",
      "2024-04-12 14:25:17.011 WARNING streamlit.runtime.caching.cache_data_api: No runtime found, using MemoryCacheStorageManager\n"
     ]
    }
   ],
   "source": [
    "import pandas as pd\n",
    "from src.weather import get_processed_hourly_7day_weather\n"
   ],
   "metadata": {
    "collapsed": false,
    "ExecuteTime": {
     "end_time": "2024-04-12T20:25:20.785435843Z",
     "start_time": "2024-04-12T20:25:16.121130228Z"
    }
   },
   "id": "6709b7eb792a8e6d"
  },
  {
   "cell_type": "markdown",
   "source": [
    "# Get historical weather"
   ],
   "metadata": {
    "collapsed": false
   },
   "id": "97356fe1df2a3e91"
  },
  {
   "cell_type": "code",
   "execution_count": 3,
   "outputs": [],
   "source": [
    "historical_weather = pd.DataFrame({})\n",
    "weather_features = ['temperature_degC', 'dewpoint_degC','relative_humidity_%', 'wind_speed_mph']\n",
    "hist_weather = pd.read_csv('./data/caltech_historical_weather.csv').set_index('time')[weather_features]\n",
    "hist_weather['site'] = 'Caltech'\n",
    "if historical_weather.empty: \n",
    "    historical_weather = hist_weather\n",
    "else:\n",
    "    historical_weather = pd.concat([historical_weather, hist_weather], axis=0)"
   ],
   "metadata": {
    "collapsed": false,
    "ExecuteTime": {
     "end_time": "2024-04-12T20:25:20.785960283Z",
     "start_time": "2024-04-12T20:25:17.050758491Z"
    }
   },
   "id": "1bb702358b8fce"
  },
  {
   "cell_type": "code",
   "execution_count": 4,
   "outputs": [],
   "source": [
    "weather_features = ['temperature_degC', 'dewpoint_degC','relative_humidity_%', 'wind_speed_mph']\n",
    "hist_weather = pd.read_csv('./data/caltech_historical_weather.csv').set_index('time')[weather_features]\n",
    "hist_weather['site'] = 'JPL'\n",
    "if historical_weather.empty: \n",
    "    historical_weather = hist_weather\n",
    "else:\n",
    "    historical_weather = pd.concat([historical_weather, hist_weather], axis=0)"
   ],
   "metadata": {
    "collapsed": false,
    "ExecuteTime": {
     "end_time": "2024-04-12T20:25:20.787370419Z",
     "start_time": "2024-04-12T20:25:17.080590307Z"
    }
   },
   "id": "3ef08baf0a5012d9"
  },
  {
   "cell_type": "code",
   "execution_count": 5,
   "outputs": [],
   "source": [
    "weather_features = ['temperature_degC', 'dewpoint_degC','relative_humidity_%', 'wind_speed_mph']\n",
    "hist_weather = pd.read_csv('./data/office_historical_weather.csv').set_index('time')[weather_features]\n",
    "hist_weather['site'] = 'Office001'\n",
    "if historical_weather.empty: \n",
    "    historical_weather = hist_weather\n",
    "else:\n",
    "    historical_weather = pd.concat([historical_weather, hist_weather], axis=0)"
   ],
   "metadata": {
    "collapsed": false,
    "ExecuteTime": {
     "end_time": "2024-04-12T20:25:20.788149842Z",
     "start_time": "2024-04-12T20:25:17.141374305Z"
    }
   },
   "id": "69281de520f4f11"
  },
  {
   "cell_type": "code",
   "execution_count": 6,
   "outputs": [],
   "source": [
    "historical_weather.index = pd.to_datetime(historical_weather.index).tz_localize('UTC-07:00')"
   ],
   "metadata": {
    "collapsed": false,
    "ExecuteTime": {
     "end_time": "2024-04-12T20:25:20.788678153Z",
     "start_time": "2024-04-12T20:25:17.246771908Z"
    }
   },
   "id": "509ba7de77618163"
  },
  {
   "cell_type": "code",
   "execution_count": 7,
   "outputs": [
    {
     "name": "stdout",
     "output_type": "stream",
     "text": [
      "<class 'pandas.core.frame.DataFrame'>\n",
      "RangeIndex: 97416 entries, 0 to 97415\n",
      "Data columns (total 6 columns):\n",
      " #   Column               Non-Null Count  Dtype                    \n",
      "---  ------               --------------  -----                    \n",
      " 0   time                 97416 non-null  datetime64[ns, UTC-07:00]\n",
      " 1   temperature_degC     97408 non-null  float64                  \n",
      " 2   dewpoint_degC        97405 non-null  float64                  \n",
      " 3   relative_humidity_%  97405 non-null  float64                  \n",
      " 4   wind_speed_mph       97407 non-null  float64                  \n",
      " 5   site                 97416 non-null  object                   \n",
      "dtypes: datetime64[ns, UTC-07:00](1), float64(4), object(1)\n",
      "memory usage: 4.5+ MB\n"
     ]
    }
   ],
   "source": [
    "# historical_weather.site.unique()\n",
    "historical_weather.reset_index().info()"
   ],
   "metadata": {
    "collapsed": false,
    "ExecuteTime": {
     "end_time": "2024-04-12T20:25:20.789825085Z",
     "start_time": "2024-04-12T20:25:17.253562059Z"
    }
   },
   "id": "5e2ee9c0d59b9eda"
  },
  {
   "cell_type": "markdown",
   "source": [
    "# get future weather"
   ],
   "metadata": {
    "collapsed": false
   },
   "id": "9dbf4a4ca7914e47"
  },
  {
   "cell_type": "code",
   "execution_count": 8,
   "outputs": [
    {
     "name": "stderr",
     "output_type": "stream",
     "text": [
      "2024-04-12 14:25:17.388 \n",
      "  \u001B[33m\u001B[1mWarning:\u001B[0m to view this Streamlit app on a browser, run it with the following\n",
      "  command:\n",
      "\n",
      "    streamlit run /home/denny/anaconda3/envs/ev/lib/python3.11/site-packages/ipykernel_launcher.py [ARGUMENTS]\n",
      "2024-04-12 14:25:17.391 No runtime found, using MemoryCacheStorageManager\n",
      "2024-04-12 14:25:17.393 No runtime found, using MemoryCacheStorageManager\n"
     ]
    },
    {
     "name": "stdout",
     "output_type": "stream",
     "text": [
      "https://api.weather.gov/points/34.134785646454844,-118.11691382579643\n"
     ]
    },
    {
     "name": "stderr",
     "output_type": "stream",
     "text": [
      "2024-04-12 14:25:17.590 No runtime found, using MemoryCacheStorageManager\n"
     ]
    },
    {
     "name": "stdout",
     "output_type": "stream",
     "text": [
      "status code: 200\n",
      "https://api.weather.gov/gridpoints/LOX/160,48/forecast/hourly\n"
     ]
    },
    {
     "name": "stderr",
     "output_type": "stream",
     "text": [
      "2024-04-12 14:25:18.120 No runtime found, using MemoryCacheStorageManager\n"
     ]
    }
   ],
   "source": [
    "from src.weather import get_processed_hourly_7day_weather\n",
    "site2latlon = {'Caltech':(34.134785646454844, -118.11691382579643),\n",
    "               'Office001':(37.33680466796926, -121.90743423142634),\n",
    "               'JPL':(34.20142342818471, -118.17126565774107)}\n",
    "future_weather = get_processed_hourly_7day_weather(*site2latlon['Caltech'])"
   ],
   "metadata": {
    "collapsed": false,
    "ExecuteTime": {
     "end_time": "2024-04-12T20:25:20.819750707Z",
     "start_time": "2024-04-12T20:25:17.297564503Z"
    }
   },
   "id": "dd4be84ceb45727c"
  },
  {
   "cell_type": "code",
   "execution_count": 9,
   "outputs": [],
   "source": [
    "# save if needed\n",
    "future_weather.to_csv('data/test_future_weather.csv')"
   ],
   "metadata": {
    "collapsed": false,
    "ExecuteTime": {
     "end_time": "2024-04-12T20:25:20.820479295Z",
     "start_time": "2024-04-12T20:25:18.190655094Z"
    }
   },
   "id": "76f6abd671052a2e"
  },
  {
   "cell_type": "markdown",
   "source": [
    " confirm that past and future weather have the same features"
   ],
   "metadata": {
    "collapsed": false
   },
   "id": "27db04112e197a72"
  },
  {
   "cell_type": "code",
   "execution_count": 10,
   "outputs": [
    {
     "name": "stdout",
     "output_type": "stream",
     "text": [
      "future weather features are \n",
      "['temperature_degC', 'dewpoint_degC', 'relative_humidity_%', 'wind_speed_mph'], \n",
      "and historical weather features are \n",
      "['temperature_degC', 'dewpoint_degC', 'relative_humidity_%', 'wind_speed_mph']\n"
     ]
    }
   ],
   "source": [
    "print(f'future weather features are \\n{list(future_weather[weather_features].columns)}, \\nand historical weather features are \\n{list(hist_weather[weather_features].columns)}')"
   ],
   "metadata": {
    "collapsed": false,
    "ExecuteTime": {
     "end_time": "2024-04-12T20:25:20.821462Z",
     "start_time": "2024-04-12T20:25:18.208768986Z"
    }
   },
   "id": "ddb6266f58ac96d9"
  },
  {
   "cell_type": "code",
   "execution_count": 10,
   "outputs": [],
   "source": [],
   "metadata": {
    "collapsed": false,
    "ExecuteTime": {
     "end_time": "2024-04-12T20:25:20.821980116Z",
     "start_time": "2024-04-12T20:25:18.214976563Z"
    }
   },
   "id": "97bec3d343455f51"
  },
  {
   "cell_type": "markdown",
   "source": [
    "# get caiso data"
   ],
   "metadata": {
    "collapsed": false
   },
   "id": "4b2bbf733f2861c6"
  },
  {
   "cell_type": "code",
   "execution_count": 11,
   "outputs": [],
   "source": [
    "from src import oasis\n",
    "import datetime\n",
    "import pandas as pd\n",
    "from src.oasis import SystemDemand\n",
    "import urllib\n",
    "import datetime\n",
    "sd = SystemDemand()"
   ],
   "metadata": {
    "collapsed": false,
    "ExecuteTime": {
     "end_time": "2024-04-12T20:25:20.822403192Z",
     "start_time": "2024-04-12T20:25:18.219064955Z"
    }
   },
   "id": "3b2e6b38d33461e5"
  },
  {
   "cell_type": "code",
   "execution_count": 12,
   "outputs": [],
   "source": [
    "start = datetime.datetime(2024,4,8)\n",
    "end = datetime.datetime(2024,4,9)\n",
    "demand_forecast = sd.get_demand_forecast(start, end)"
   ],
   "metadata": {
    "collapsed": false,
    "ExecuteTime": {
     "end_time": "2024-04-12T20:25:25.021309106Z",
     "start_time": "2024-04-12T20:25:18.227609863Z"
    }
   },
   "id": "40928a7962e89fa8"
  },
  {
   "cell_type": "code",
   "execution_count": 13,
   "outputs": [
    {
     "name": "stdout",
     "output_type": "stream",
     "text": [
      "<class 'pandas.core.frame.DataFrame'>\n",
      "RangeIndex: 16693 entries, 0 to 16692\n",
      "Data columns (total 15 columns):\n",
      " #   Column                 Non-Null Count  Dtype  \n",
      "---  ------                 --------------  -----  \n",
      " 0   index                  16693 non-null  int64  \n",
      " 1   INTERVALSTARTTIME_GMT  16693 non-null  object \n",
      " 2   INTERVALENDTIME_GMT    16693 non-null  object \n",
      " 3   LOAD_TYPE              16693 non-null  int64  \n",
      " 4   OPR_DT                 16693 non-null  object \n",
      " 5   OPR_HR                 16693 non-null  int64  \n",
      " 6   OPR_INTERVAL           16693 non-null  int64  \n",
      " 7   MARKET_RUN_ID          16693 non-null  object \n",
      " 8   TAC_AREA_NAME          16693 non-null  object \n",
      " 9   LABEL                  16693 non-null  object \n",
      " 10  XML_DATA_ITEM          16693 non-null  object \n",
      " 11  POS                    16693 non-null  float64\n",
      " 12  MW                     16693 non-null  float64\n",
      " 13  EXECUTION_TYPE         16693 non-null  object \n",
      " 14  GROUP                  16693 non-null  int64  \n",
      "dtypes: float64(2), int64(5), object(8)\n",
      "memory usage: 1.9+ MB\n"
     ]
    }
   ],
   "source": [
    "demand_forecast.reset_index().info()"
   ],
   "metadata": {
    "collapsed": false,
    "ExecuteTime": {
     "end_time": "2024-04-12T20:25:25.045741718Z",
     "start_time": "2024-04-12T20:25:25.021810135Z"
    }
   },
   "id": "bfe3398849393dba"
  },
  {
   "cell_type": "markdown",
   "source": [
    "# Get historical demand"
   ],
   "metadata": {
    "collapsed": false
   },
   "id": "bdda3299d172259f"
  },
  {
   "cell_type": "markdown",
   "source": [
    "the data from the request is the bytes for a zip file. to get it to a pandas dataframe,\n",
    "1. read the content with the io.BytesIO\n",
    "2. open the bytes as a zip file with ZipFile\n",
    "3. open the zip file by getting the first (and only) name in the extraction\n",
    "4. read the data using the .read() method of the file object\n",
    "5. convert the raw data to a string with BytesIO again\n",
    "6. read the bytes to a dataframe with the pd.read_csv file"
   ],
   "metadata": {
    "collapsed": false
   },
   "id": "5035bd21b17325eb"
  },
  {
   "cell_type": "code",
   "execution_count": 14,
   "outputs": [],
   "source": [
    "historical_caiso_actual_load = pd.read_csv('data/historical_caiso_actual_load.csv', index_col=[0])"
   ],
   "metadata": {
    "collapsed": false,
    "ExecuteTime": {
     "end_time": "2024-04-12T20:25:25.335604204Z",
     "start_time": "2024-04-12T20:25:25.043400570Z"
    }
   },
   "id": "a813d651f242fdd0"
  },
  {
   "cell_type": "code",
   "execution_count": 15,
   "outputs": [],
   "source": [
    "TACS = ['SCE-TAC', 'PGE-TAC']\n",
    "MARKET_RUN_IDS = ['ACTUAL']"
   ],
   "metadata": {
    "collapsed": false,
    "ExecuteTime": {
     "end_time": "2024-04-12T20:25:25.357736346Z",
     "start_time": "2024-04-12T20:25:25.333839418Z"
    }
   },
   "id": "59bdf754fb96d4c7"
  },
  {
   "cell_type": "code",
   "execution_count": 16,
   "outputs": [],
   "source": [
    "historical_caiso_actual_load['datetime'] = pd.to_datetime(historical_caiso_actual_load['OPR_DT']) + pd.to_timedelta(historical_caiso_actual_load['OPR_HR'], unit='h')\n",
    "historical_caiso_actual_load = historical_caiso_actual_load[\n",
    "    (historical_caiso_actual_load['TAC_AREA_NAME'].isin(TACS)) &\n",
    "    (historical_caiso_actual_load['MARKET_RUN_ID'].isin(MARKET_RUN_IDS))\n",
    "]"
   ],
   "metadata": {
    "collapsed": false,
    "ExecuteTime": {
     "end_time": "2024-04-12T20:25:25.397402956Z",
     "start_time": "2024-04-12T20:25:25.340838594Z"
    }
   },
   "id": "7e53b589a8e305a1"
  },
  {
   "cell_type": "code",
   "execution_count": 17,
   "outputs": [],
   "source": [
    "\n",
    "demand_forecast['datetime'] = pd.to_datetime(demand_forecast['OPR_DT']) + pd.to_timedelta(demand_forecast['OPR_HR'], unit='h')\n",
    "demand_forecast = demand_forecast[\n",
    "    (demand_forecast['TAC_AREA_NAME'].isin(TACS)) &\n",
    "    (demand_forecast['MARKET_RUN_ID'].isin(MARKET_RUN_IDS))\n",
    "]"
   ],
   "metadata": {
    "collapsed": false,
    "ExecuteTime": {
     "end_time": "2024-04-12T20:25:25.408531418Z",
     "start_time": "2024-04-12T20:25:25.397072473Z"
    }
   },
   "id": "1ae4c2c649924a4f"
  },
  {
   "cell_type": "code",
   "execution_count": 18,
   "outputs": [],
   "source": [
    "demand_features = ['datetime', 'TAC_AREA_NAME', 'MARKET_RUN_ID', 'MW']"
   ],
   "metadata": {
    "collapsed": false,
    "ExecuteTime": {
     "end_time": "2024-04-12T20:25:25.413585227Z",
     "start_time": "2024-04-12T20:25:25.405377884Z"
    }
   },
   "id": "57e6e4697618954e"
  },
  {
   "cell_type": "code",
   "execution_count": 19,
   "outputs": [
    {
     "data": {
      "text/plain": "array([ True,  True,  True,  True])"
     },
     "execution_count": 19,
     "metadata": {},
     "output_type": "execute_result"
    }
   ],
   "source": [
    "demand_forecast[demand_features].columns == historical_caiso_actual_load[demand_features].columns"
   ],
   "metadata": {
    "collapsed": false,
    "ExecuteTime": {
     "end_time": "2024-04-12T20:25:25.417689503Z",
     "start_time": "2024-04-12T20:25:25.412264569Z"
    }
   },
   "id": "9e998b74bf4e76d7"
  },
  {
   "cell_type": "code",
   "execution_count": 20,
   "outputs": [
    {
     "name": "stdout",
     "output_type": "stream",
     "text": [
      "<class 'pandas.core.frame.DataFrame'>\n",
      "RangeIndex: 48 entries, 0 to 47\n",
      "Data columns (total 16 columns):\n",
      " #   Column                 Non-Null Count  Dtype         \n",
      "---  ------                 --------------  -----         \n",
      " 0   index                  48 non-null     int64         \n",
      " 1   INTERVALSTARTTIME_GMT  48 non-null     object        \n",
      " 2   INTERVALENDTIME_GMT    48 non-null     object        \n",
      " 3   LOAD_TYPE              48 non-null     int64         \n",
      " 4   OPR_DT                 48 non-null     object        \n",
      " 5   OPR_HR                 48 non-null     int64         \n",
      " 6   OPR_INTERVAL           48 non-null     int64         \n",
      " 7   MARKET_RUN_ID          48 non-null     object        \n",
      " 8   TAC_AREA_NAME          48 non-null     object        \n",
      " 9   LABEL                  48 non-null     object        \n",
      " 10  XML_DATA_ITEM          48 non-null     object        \n",
      " 11  POS                    48 non-null     float64       \n",
      " 12  MW                     48 non-null     float64       \n",
      " 13  EXECUTION_TYPE         48 non-null     object        \n",
      " 14  GROUP                  48 non-null     int64         \n",
      " 15  datetime               48 non-null     datetime64[ns]\n",
      "dtypes: datetime64[ns](1), float64(2), int64(5), object(8)\n",
      "memory usage: 6.1+ KB\n"
     ]
    }
   ],
   "source": [
    "demand_forecast.reset_index().info()"
   ],
   "metadata": {
    "collapsed": false,
    "ExecuteTime": {
     "end_time": "2024-04-12T20:25:25.470735531Z",
     "start_time": "2024-04-12T20:25:25.418743593Z"
    }
   },
   "id": "19feb123853ab34a"
  },
  {
   "cell_type": "markdown",
   "source": [
    "# Modeling"
   ],
   "metadata": {
    "collapsed": false
   },
   "id": "8a23eded11db53c2"
  },
  {
   "cell_type": "code",
   "execution_count": 21,
   "outputs": [],
   "source": [
    "import numpy as np\n",
    "import pandas as pd\n",
    "import matplotlib.pyplot as plt\n",
    "from xgboost import XGBRegressor\n",
    "\n",
    "from datetime import datetime\n",
    "\n",
    "from sklearn.preprocessing import OneHotEncoder\n",
    "from sklearn.model_selection import train_test_split\n",
    "from sklearn.metrics import mean_squared_error, r2_score\n",
    "from sklearn.pipeline import Pipeline\n",
    "\n",
    "from src.data_preprocessing import  datetime_processing, userinput_processing, holiday_processing, create_all_site_x, create_all_site_y, create_x, update_varuns_x, get_start_end_times"
   ],
   "metadata": {
    "collapsed": false,
    "ExecuteTime": {
     "end_time": "2024-04-12T20:25:26.038857896Z",
     "start_time": "2024-04-12T20:25:25.461453027Z"
    }
   },
   "id": "4a2510ab81481d7f"
  },
  {
   "cell_type": "code",
   "execution_count": 22,
   "outputs": [],
   "source": [
    "df_c = pd.read_parquet('data/sessions/caltech/').reset_index(drop=True)\n",
    "df_c = datetime_processing(df_c)\n",
    "df_c = userinput_processing(df_c)\n",
    "\n",
    "df_j = pd.read_parquet('data/sessions/jpl/').reset_index(drop=True)\n",
    "df_j = datetime_processing(df_j)\n",
    "df_j = userinput_processing(df_j)\n",
    "\n",
    "df_o = pd.read_parquet('data/sessions/office001/').reset_index(drop=True)\n",
    "df_o = datetime_processing(df_o)\n",
    "df_o = userinput_processing(df_o)\n",
    "\n",
    "cols = list(df_c.columns)\n",
    "df = pd.concat([df_c[cols], df_j[cols], df_o[cols]], axis=0)"
   ],
   "metadata": {
    "collapsed": false,
    "ExecuteTime": {
     "end_time": "2024-04-12T20:25:36.942556122Z",
     "start_time": "2024-04-12T20:25:26.043720203Z"
    }
   },
   "id": "d71cbd73781dd7d7"
  },
  {
   "cell_type": "code",
   "execution_count": 23,
   "outputs": [
    {
     "name": "stdout",
     "output_type": "stream",
     "text": [
      "df is a dataframe comprised of these site ids: [2, 1, 19]\n"
     ]
    }
   ],
   "source": [
    "print(f'df is a dataframe comprised of these site ids: {list(df.siteID.unique())}')"
   ],
   "metadata": {
    "collapsed": false,
    "ExecuteTime": {
     "end_time": "2024-04-12T20:25:36.947973601Z",
     "start_time": "2024-04-12T20:25:36.945646476Z"
    }
   },
   "id": "a8d43c3fdffd361f"
  },
  {
   "cell_type": "markdown",
   "source": [
    "# Make X and y\n",
    "\n",
    "X contains 4 different sets of data - location, datetime, weather, energy demand"
   ],
   "metadata": {
    "collapsed": false
   },
   "id": "a458bbe4a0e332b"
  },
  {
   "cell_type": "code",
   "execution_count": 23,
   "outputs": [],
   "source": [],
   "metadata": {
    "collapsed": false,
    "ExecuteTime": {
     "end_time": "2024-04-12T20:25:36.952335647Z",
     "start_time": "2024-04-12T20:25:36.948188071Z"
    }
   },
   "id": "757cc4c9f73bdfeb"
  },
  {
   "cell_type": "code",
   "execution_count": 24,
   "outputs": [],
   "source": [
    "X = pd.DataFrame()\n",
    "sites_df = [df_o,df_c,df_j]\n",
    "sites = ['Office001','Caltech','JPL']\n",
    "site_ids = [2,1,19]\n",
    "site2id = { k:v for (k,v) in zip(sites, site_ids)}\n",
    "site2tac = {2:'PGE-TAC',\n",
    "            1:'SCE-TAC',\n",
    "            19:'SCE-TAC',\n",
    "            }\n",
    "    "
   ],
   "metadata": {
    "collapsed": false,
    "ExecuteTime": {
     "end_time": "2024-04-12T20:25:37.005478730Z",
     "start_time": "2024-04-12T20:25:36.950920165Z"
    }
   },
   "id": "69c95d83d6dd859"
  },
  {
   "cell_type": "code",
   "execution_count": 24,
   "outputs": [],
   "source": [],
   "metadata": {
    "collapsed": false,
    "ExecuteTime": {
     "end_time": "2024-04-12T20:25:37.005807055Z",
     "start_time": "2024-04-12T20:25:36.963802532Z"
    }
   },
   "id": "17f3cc928f54a4d"
  },
  {
   "cell_type": "code",
   "execution_count": 25,
   "outputs": [
    {
     "name": "stdout",
     "output_type": "stream",
     "text": [
      "Office001 2019-03-25 2021-09-12\n",
      "Caltech 2018-05-01 2021-09-14\n",
      "JPL 2018-09-05 2021-09-13\n"
     ]
    },
    {
     "data": {
      "text/plain": "                           dow  hour  month  is_holiday  actual_demand_MW  \\\n2019-03-25 00:00:00-07:00    0     0      3       False            9470.0   \n2019-03-25 01:00:00-07:00    0     1      3       False            9036.0   \n2019-03-25 02:00:00-07:00    0     2      3       False            8963.0   \n2019-03-25 03:00:00-07:00    0     3      3       False            8818.0   \n2019-03-25 04:00:00-07:00    0     4      3       False            8840.0   \n\n                           temperature_degC  dewpoint_degC  \\\n2019-03-25 00:00:00-07:00              18.9           -1.6   \n2019-03-25 01:00:00-07:00              19.4           -1.7   \n2019-03-25 02:00:00-07:00              15.0           -2.0   \n2019-03-25 03:00:00-07:00              13.3           -2.2   \n2019-03-25 04:00:00-07:00              13.3           -1.9   \n\n                           relative_humidity_%  wind_speed_mph       site  \n2019-03-25 00:00:00-07:00                 25.0            9.20  Office001  \n2019-03-25 01:00:00-07:00                 24.0            6.96  Office001  \n2019-03-25 02:00:00-07:00                 31.0           14.98  Office001  \n2019-03-25 03:00:00-07:00                 34.0           10.31  Office001  \n2019-03-25 04:00:00-07:00                 35.0            0.00  Office001  ",
      "text/html": "<div>\n<style scoped>\n    .dataframe tbody tr th:only-of-type {\n        vertical-align: middle;\n    }\n\n    .dataframe tbody tr th {\n        vertical-align: top;\n    }\n\n    .dataframe thead th {\n        text-align: right;\n    }\n</style>\n<table border=\"1\" class=\"dataframe\">\n  <thead>\n    <tr style=\"text-align: right;\">\n      <th></th>\n      <th>dow</th>\n      <th>hour</th>\n      <th>month</th>\n      <th>is_holiday</th>\n      <th>actual_demand_MW</th>\n      <th>temperature_degC</th>\n      <th>dewpoint_degC</th>\n      <th>relative_humidity_%</th>\n      <th>wind_speed_mph</th>\n      <th>site</th>\n    </tr>\n  </thead>\n  <tbody>\n    <tr>\n      <th>2019-03-25 00:00:00-07:00</th>\n      <td>0</td>\n      <td>0</td>\n      <td>3</td>\n      <td>False</td>\n      <td>9470.0</td>\n      <td>18.9</td>\n      <td>-1.6</td>\n      <td>25.0</td>\n      <td>9.20</td>\n      <td>Office001</td>\n    </tr>\n    <tr>\n      <th>2019-03-25 01:00:00-07:00</th>\n      <td>0</td>\n      <td>1</td>\n      <td>3</td>\n      <td>False</td>\n      <td>9036.0</td>\n      <td>19.4</td>\n      <td>-1.7</td>\n      <td>24.0</td>\n      <td>6.96</td>\n      <td>Office001</td>\n    </tr>\n    <tr>\n      <th>2019-03-25 02:00:00-07:00</th>\n      <td>0</td>\n      <td>2</td>\n      <td>3</td>\n      <td>False</td>\n      <td>8963.0</td>\n      <td>15.0</td>\n      <td>-2.0</td>\n      <td>31.0</td>\n      <td>14.98</td>\n      <td>Office001</td>\n    </tr>\n    <tr>\n      <th>2019-03-25 03:00:00-07:00</th>\n      <td>0</td>\n      <td>3</td>\n      <td>3</td>\n      <td>False</td>\n      <td>8818.0</td>\n      <td>13.3</td>\n      <td>-2.2</td>\n      <td>34.0</td>\n      <td>10.31</td>\n      <td>Office001</td>\n    </tr>\n    <tr>\n      <th>2019-03-25 04:00:00-07:00</th>\n      <td>0</td>\n      <td>4</td>\n      <td>3</td>\n      <td>False</td>\n      <td>8840.0</td>\n      <td>13.3</td>\n      <td>-1.9</td>\n      <td>35.0</td>\n      <td>0.00</td>\n      <td>Office001</td>\n    </tr>\n  </tbody>\n</table>\n</div>"
     },
     "execution_count": 25,
     "metadata": {},
     "output_type": "execute_result"
    }
   ],
   "source": [
    "X = pd.DataFrame()\n",
    "for sdf, id, site_name in zip(sites_df, site_ids, sites):\n",
    "    start, end = get_start_end_times(sdf)\n",
    "    print(site_name, start, end)\n",
    "    # time\n",
    "    x = pd.DataFrame(index=pd.date_range(start, end, inclusive='both', freq='h', tz='UTC-07:00'),\n",
    "                     columns=['dow', 'hour', 'month'])\n",
    "    x['dow'] = x.index.dayofweek\n",
    "    x['hour'] = x.index.hour\n",
    "    x['month'] = x.index.month\n",
    "    \n",
    "    x = holiday_processing(x)\n",
    "    \n",
    "    # print('x rows: ', x.shape[0])\n",
    "    # energy demand\n",
    "    demand = historical_caiso_actual_load[demand_features].set_index('datetime').rename(columns={'MW':'actual_demand_MW'}).sort_index()\n",
    "    demand = demand[demand['TAC_AREA_NAME'] == site2tac[id]][['actual_demand_MW']]\n",
    "    demand.index = pd.to_datetime(demand.index).tz_localize('UTC-07:00')\n",
    "    demand = demand.loc[x.index.min():x.index.max(),:]\n",
    "    # print('dem rows', demand.shape[0])\n",
    "    \n",
    "    x = pd.merge(x,demand, left_index=True, right_index=True, how='left')\n",
    "    \n",
    "    # weather and location\n",
    "    weather = historical_weather[historical_weather['site']==site_name]\n",
    "    weather = weather.loc[x.index.min():x.index.max(), :]\n",
    "    # print('weather rows:', weather.shape[0])\n",
    "    x = pd.merge(x, weather, left_index=True, right_index=True, how='left')\n",
    "    # print('together rows: ', x.shape[0])\n",
    "    if X.empty:\n",
    "        X = x\n",
    "    else:\n",
    "        X = pd.concat([X, x], axis=0)\n",
    "\n",
    "X.head()"
   ],
   "metadata": {
    "collapsed": false,
    "ExecuteTime": {
     "end_time": "2024-04-12T20:25:37.181832700Z",
     "start_time": "2024-04-12T20:25:37.005621114Z"
    }
   },
   "id": "597f405d35d57ef3"
  },
  {
   "cell_type": "markdown",
   "source": [
    "We've introduced duplicates based on daylight savings. Remove them"
   ],
   "metadata": {
    "collapsed": false
   },
   "id": "d5b94a463d3ef16a"
  },
  {
   "cell_type": "code",
   "execution_count": 26,
   "outputs": [
    {
     "data": {
      "text/plain": "index                      site     \n2019-11-04 01:00:00-07:00  JPL          2\n                           Caltech      2\n2018-11-05 01:00:00-07:00  Caltech      2\n                           JPL          2\n2019-11-04 01:00:00-07:00  Office001    2\n2020-09-18 07:00:00-07:00  Office001    1\n                           JPL          1\nName: count, dtype: int64"
     },
     "execution_count": 26,
     "metadata": {},
     "output_type": "execute_result"
    }
   ],
   "source": [
    "X.reset_index()[['index','site']].value_counts().head(7)"
   ],
   "metadata": {
    "collapsed": false,
    "ExecuteTime": {
     "end_time": "2024-04-12T20:25:37.260382846Z",
     "start_time": "2024-04-12T20:25:37.179818012Z"
    }
   },
   "id": "8d812897b4bc53bf"
  },
  {
   "cell_type": "code",
   "execution_count": 27,
   "outputs": [
    {
     "name": "stdout",
     "output_type": "stream",
     "text": [
      "with duplicates:     77720\n",
      "without duplicates:  77715\n"
     ]
    }
   ],
   "source": [
    "print('with duplicates:    ', X.shape[0])\n",
    "print('without duplicates: ', X['site'].reset_index().drop_duplicates(subset=['index','site']).shape[0])\n"
   ],
   "metadata": {
    "collapsed": false,
    "ExecuteTime": {
     "end_time": "2024-04-12T20:25:37.264703692Z",
     "start_time": "2024-04-12T20:25:37.222966264Z"
    }
   },
   "id": "d92edb79be576d6d"
  },
  {
   "cell_type": "code",
   "execution_count": 28,
   "outputs": [
    {
     "data": {
      "text/plain": "(77715, 10)"
     },
     "execution_count": 28,
     "metadata": {},
     "output_type": "execute_result"
    }
   ],
   "source": [
    "X = X.reset_index().drop_duplicates(subset=['index', 'site']).set_index('index')\n",
    "X.shape\n",
    "# X.set_index('site')"
   ],
   "metadata": {
    "collapsed": false,
    "ExecuteTime": {
     "end_time": "2024-04-12T20:25:37.275827537Z",
     "start_time": "2024-04-12T20:25:37.241009615Z"
    }
   },
   "id": "b17662adc5db5029"
  },
  {
   "cell_type": "markdown",
   "source": [
    "however, we did not have missing values in march for spring ahead (or maybe we did, but left join kept us a record)"
   ],
   "metadata": {
    "collapsed": false
   },
   "id": "3bb7aca37973d516"
  },
  {
   "cell_type": "code",
   "execution_count": 29,
   "outputs": [
    {
     "data": {
      "text/plain": "index                      site     \n2019-09-24 10:00:00-07:00  JPL          1\n                           Caltech      1\n2019-09-24 09:00:00-07:00  Office001    1\n2021-09-14 00:00:00-07:00  Caltech      1\nName: count, dtype: int64"
     },
     "execution_count": 29,
     "metadata": {},
     "output_type": "execute_result"
    }
   ],
   "source": [
    "X.reset_index()[['index','site']].value_counts().tail(4)"
   ],
   "metadata": {
    "collapsed": false,
    "ExecuteTime": {
     "end_time": "2024-04-12T20:25:37.332323900Z",
     "start_time": "2024-04-12T20:25:37.273321477Z"
    }
   },
   "id": "9aa517e2d894a274"
  },
  {
   "cell_type": "code",
   "execution_count": 30,
   "outputs": [
    {
     "data": {
      "text/plain": "                           dow  hour  month  is_holiday  actual_demand_MW  \\\nindex                                                                       \n2019-03-10 03:00:00-07:00    6     3      3       False               NaN   \n2019-03-10 03:00:00-07:00    6     3      3       False               NaN   \n\n                           temperature_degC  dewpoint_degC  \\\nindex                                                        \n2019-03-10 03:00:00-07:00              11.2            3.0   \n2019-03-10 03:00:00-07:00              11.2            3.0   \n\n                           relative_humidity_%  wind_speed_mph     site  \nindex                                                                    \n2019-03-10 03:00:00-07:00                 57.0             9.2  Caltech  \n2019-03-10 03:00:00-07:00                 57.0             9.2      JPL  ",
      "text/html": "<div>\n<style scoped>\n    .dataframe tbody tr th:only-of-type {\n        vertical-align: middle;\n    }\n\n    .dataframe tbody tr th {\n        vertical-align: top;\n    }\n\n    .dataframe thead th {\n        text-align: right;\n    }\n</style>\n<table border=\"1\" class=\"dataframe\">\n  <thead>\n    <tr style=\"text-align: right;\">\n      <th></th>\n      <th>dow</th>\n      <th>hour</th>\n      <th>month</th>\n      <th>is_holiday</th>\n      <th>actual_demand_MW</th>\n      <th>temperature_degC</th>\n      <th>dewpoint_degC</th>\n      <th>relative_humidity_%</th>\n      <th>wind_speed_mph</th>\n      <th>site</th>\n    </tr>\n    <tr>\n      <th>index</th>\n      <th></th>\n      <th></th>\n      <th></th>\n      <th></th>\n      <th></th>\n      <th></th>\n      <th></th>\n      <th></th>\n      <th></th>\n      <th></th>\n    </tr>\n  </thead>\n  <tbody>\n    <tr>\n      <th>2019-03-10 03:00:00-07:00</th>\n      <td>6</td>\n      <td>3</td>\n      <td>3</td>\n      <td>False</td>\n      <td>NaN</td>\n      <td>11.2</td>\n      <td>3.0</td>\n      <td>57.0</td>\n      <td>9.2</td>\n      <td>Caltech</td>\n    </tr>\n    <tr>\n      <th>2019-03-10 03:00:00-07:00</th>\n      <td>6</td>\n      <td>3</td>\n      <td>3</td>\n      <td>False</td>\n      <td>NaN</td>\n      <td>11.2</td>\n      <td>3.0</td>\n      <td>57.0</td>\n      <td>9.2</td>\n      <td>JPL</td>\n    </tr>\n  </tbody>\n</table>\n</div>"
     },
     "execution_count": 30,
     "metadata": {},
     "output_type": "execute_result"
    }
   ],
   "source": [
    "X[(X.index < '2020-03-01') & (X['actual_demand_MW'].isnull())]"
   ],
   "metadata": {
    "collapsed": false,
    "ExecuteTime": {
     "end_time": "2024-04-12T20:25:37.333730428Z",
     "start_time": "2024-04-12T20:25:37.317614183Z"
    }
   },
   "id": "7b820d8650008785"
  },
  {
   "cell_type": "markdown",
   "source": [
    "# impute march values"
   ],
   "metadata": {
    "collapsed": false
   },
   "id": "85671b1e84966044"
  },
  {
   "cell_type": "code",
   "execution_count": 31,
   "outputs": [],
   "source": [
    "# at 2 AM, the demand for Caltech and JPL was 9133. Use it for 3 AM\n",
    "X.loc['2019-03-10 03:00:00', 'actual_demand_MW'] = 9133"
   ],
   "metadata": {
    "collapsed": false,
    "ExecuteTime": {
     "end_time": "2024-04-12T20:25:37.398346743Z",
     "start_time": "2024-04-12T20:25:37.331566255Z"
    }
   },
   "id": "b58abdc02e4516d3"
  },
  {
   "cell_type": "code",
   "execution_count": 32,
   "outputs": [
    {
     "data": {
      "text/plain": "index\n2019-03-10 03:00:00-07:00    9133.0\n2019-03-10 03:00:00-07:00    9133.0\nName: actual_demand_MW, dtype: float64"
     },
     "execution_count": 32,
     "metadata": {},
     "output_type": "execute_result"
    }
   ],
   "source": [
    "X.loc['2019-03-10 03:00:00', 'actual_demand_MW']"
   ],
   "metadata": {
    "collapsed": false,
    "ExecuteTime": {
     "end_time": "2024-04-12T20:25:37.399439311Z",
     "start_time": "2024-04-12T20:25:37.374215143Z"
    }
   },
   "id": "b2f4a97135ff8280"
  },
  {
   "cell_type": "code",
   "execution_count": 33,
   "outputs": [
    {
     "name": "stdout",
     "output_type": "stream",
     "text": [
      "there are 77715 records\n"
     ]
    }
   ],
   "source": [
    "X['site'].value_counts().sum() == X.shape[0]\n",
    "print(f'there are {X.shape[0]} records')"
   ],
   "metadata": {
    "collapsed": false,
    "ExecuteTime": {
     "end_time": "2024-04-12T20:25:37.400031796Z",
     "start_time": "2024-04-12T20:25:37.374882960Z"
    }
   },
   "id": "d30943921e136d2f"
  },
  {
   "cell_type": "code",
   "execution_count": 34,
   "outputs": [
    {
     "data": {
      "text/plain": "site\nCaltech      29569\nJPL          26497\nOffice001    21649\nName: count, dtype: int64"
     },
     "execution_count": 34,
     "metadata": {},
     "output_type": "execute_result"
    }
   ],
   "source": [
    "X['site'].value_counts()"
   ],
   "metadata": {
    "collapsed": false,
    "ExecuteTime": {
     "end_time": "2024-04-12T20:25:37.436004960Z",
     "start_time": "2024-04-12T20:25:37.375206015Z"
    }
   },
   "id": "ec8772b73be58094"
  },
  {
   "cell_type": "markdown",
   "source": [
    "# Deal with covid\n",
    "we found (graphically) that covid effects start around march 3rd 2020, so we truncated our data to march 1st. Since we did not have dates that contained post covid data, we did not include any charges after 2020-03-01 "
   ],
   "metadata": {
    "collapsed": false
   },
   "id": "c68a98f3903a2e44"
  },
  {
   "cell_type": "code",
   "execution_count": 35,
   "outputs": [
    {
     "data": {
      "text/plain": "Timestamp('2021-09-14 00:00:00-0700', tz='UTC-07:00')"
     },
     "execution_count": 35,
     "metadata": {},
     "output_type": "execute_result"
    }
   ],
   "source": [
    "x = X[X.index < '2020-03-01']\n",
    "X.index.max()\n"
   ],
   "metadata": {
    "collapsed": false,
    "ExecuteTime": {
     "end_time": "2024-04-12T20:25:37.437654453Z",
     "start_time": "2024-04-12T20:25:37.380987226Z"
    }
   },
   "id": "5c16b446075321d9"
  },
  {
   "cell_type": "code",
   "execution_count": 36,
   "outputs": [],
   "source": [
    "cols = list(df_c.columns)\n",
    "df = pd.concat([df[cols] for df in sites_df], axis=0)\n",
    "y = create_all_site_y(df, regression=True)"
   ],
   "metadata": {
    "collapsed": false,
    "ExecuteTime": {
     "end_time": "2024-04-12T20:26:02.601691384Z",
     "start_time": "2024-04-12T20:25:37.394943998Z"
    }
   },
   "id": "9923dd251f842593"
  },
  {
   "cell_type": "code",
   "execution_count": 37,
   "outputs": [],
   "source": [
    "assert X.shape[0] == y.shape[0], 'X and y rows are not equal!, X shape = {} y shape {}'.format(X.shape, y.shape)"
   ],
   "metadata": {
    "collapsed": false,
    "ExecuteTime": {
     "end_time": "2024-04-12T20:26:02.602221713Z",
     "start_time": "2024-04-12T20:26:02.601373729Z"
    }
   },
   "id": "8c36b0e7987d6c7e"
  },
  {
   "cell_type": "code",
   "execution_count": 38,
   "outputs": [
    {
     "data": {
      "text/plain": "(37320,)"
     },
     "execution_count": 38,
     "metadata": {},
     "output_type": "execute_result"
    }
   ],
   "source": [
    "y = y[y.index < '2020-03-01']\n",
    "y.index.max()\n",
    "y.shape"
   ],
   "metadata": {
    "collapsed": false,
    "ExecuteTime": {
     "end_time": "2024-04-12T20:26:02.603824246Z",
     "start_time": "2024-04-12T20:26:02.601610820Z"
    }
   },
   "id": "e9d3e0bc073b7dd4"
  },
  {
   "cell_type": "code",
   "execution_count": 39,
   "outputs": [],
   "source": [
    "assert x.shape[0] == y.shape[0], 'forgot to trim y\\'s covid!'"
   ],
   "metadata": {
    "collapsed": false,
    "ExecuteTime": {
     "end_time": "2024-04-12T20:26:02.605615835Z",
     "start_time": "2024-04-12T20:26:02.601907695Z"
    }
   },
   "id": "e729c9b1c81bbfc7"
  },
  {
   "cell_type": "markdown",
   "source": [
    "# XGBoost"
   ],
   "metadata": {
    "collapsed": false
   },
   "id": "6e82989ebf987ecc"
  },
  {
   "cell_type": "code",
   "execution_count": 40,
   "outputs": [
    {
     "data": {
      "text/plain": "Index(['dow', 'hour', 'month', 'is_holiday', 'actual_demand_MW',\n       'temperature_degC', 'dewpoint_degC', 'relative_humidity_%',\n       'wind_speed_mph', 'site'],\n      dtype='object')"
     },
     "execution_count": 40,
     "metadata": {},
     "output_type": "execute_result"
    }
   ],
   "source": [
    "X.columns"
   ],
   "metadata": {
    "collapsed": false,
    "ExecuteTime": {
     "end_time": "2024-04-12T20:26:02.606185983Z",
     "start_time": "2024-04-12T20:26:02.602037520Z"
    }
   },
   "id": "5e4ec3977f197827"
  },
  {
   "cell_type": "code",
   "execution_count": 41,
   "outputs": [
    {
     "name": "stdout",
     "output_type": "stream",
     "text": [
      "training RMSE: 0.10343795009531298\n",
      "test RMSE    : 0.11621503859746715\n",
      "training r2: 0.8666744924696606\n",
      "test r2    : 0.8296671089743821\n"
     ]
    }
   ],
   "source": [
    "from sklearn.linear_model import LinearRegression\n",
    "from sklearn.preprocessing import OneHotEncoder, StandardScaler\n",
    "from sklearn.compose import ColumnTransformer\n",
    "\n",
    "X_train, X_test, y_train, y_test = train_test_split(x, y, test_size = .2)\n",
    "\n",
    "cat_cols = ['dow', 'hour', 'month', 'is_holiday','site']\n",
    "num_cols = [col for col in x.columns if col not in cat_cols]\n",
    "\n",
    "numeric_transformer = StandardScaler()\n",
    "categorical_transformer = OneHotEncoder(sparse_output=False, handle_unknown='ignore', drop='first')\n",
    "\n",
    "\n",
    "xgb_model = Pipeline(\n",
    "    steps=[\n",
    "        ('preprocessing', ColumnTransformer(\n",
    "            transformers=[\n",
    "                (\"num\", numeric_transformer, num_cols),\n",
    "                (\"cat\", categorical_transformer, cat_cols),\n",
    "            ])),\n",
    "        ('xgb', XGBRegressor()),\n",
    "        ]\n",
    ")\n",
    "\n",
    "xgb_model.fit(X_train, y_train)\n",
    "print(f'training RMSE: {np.sqrt(mean_squared_error(xgb_model.predict(X_train), y_train))}\\ntest RMSE    : {np.sqrt(mean_squared_error(xgb_model.predict(X_test), y_test))}')\n",
    "print(f'training r2: {xgb_model.score(X_train, y_train)}\\ntest r2    : {xgb_model.score(X_test, y_test)}')"
   ],
   "metadata": {
    "collapsed": false,
    "ExecuteTime": {
     "end_time": "2024-04-12T20:26:03.085665477Z",
     "start_time": "2024-04-12T20:26:02.602166831Z"
    }
   },
   "id": "ccdc30be92b6c2b"
  },
  {
   "cell_type": "code",
   "execution_count": 42,
   "outputs": [
    {
     "data": {
      "text/plain": "Text(0, 0.5, '% available')"
     },
     "execution_count": 42,
     "metadata": {},
     "output_type": "execute_result"
    },
    {
     "data": {
      "text/plain": "<Figure size 640x480 with 1 Axes>",
      "image/png": "[encoded data removed]"
     },
     "metadata": {},
     "output_type": "display_data"
    }
   ],
   "source": [
    "X_test = X_test.sort_index()\n",
    "y_test = y_test.sort_index()\n",
    "pred = pd.Series(xgb_model.predict(X_test), index=X_test.index)\n",
    "plt.title('XGB Regression model')\n",
    "plt.suptitle(f'test R2: {np.round(xgb_model.score(X_test, y_test),3)}')\n",
    "plt.plot(y_test.index, y_test)\n",
    "plt.plot(y_test.index, pred)\n",
    "plt.ylabel('% available')"
   ],
   "metadata": {
    "collapsed": false,
    "ExecuteTime": {
     "end_time": "2024-04-12T20:26:03.446315545Z",
     "start_time": "2024-04-12T20:26:03.085462025Z"
    }
   },
   "id": "4e97707abedf733f"
  },
  {
   "cell_type": "code",
   "execution_count": 43,
   "outputs": [
    {
     "data": {
      "text/plain": "'/home/denny/Documents/mids/ev_charging'"
     },
     "execution_count": 43,
     "metadata": {},
     "output_type": "execute_result"
    }
   ],
   "source": [
    "import pickle\n",
    "pickle.dump(xgb_model, open('./model_04_10.pkl','wb'))\n",
    "os.getcwd()"
   ],
   "metadata": {
    "collapsed": false,
    "ExecuteTime": {
     "end_time": "2024-04-12T20:26:03.454509461Z",
     "start_time": "2024-04-12T20:26:03.447967831Z"
    }
   },
   "id": "22924e720e155a8d"
  },
  {
   "cell_type": "markdown",
   "source": [
    "# feature importance"
   ],
   "metadata": {
    "collapsed": false
   },
   "id": "85deb31a9b06d82e"
  },
  {
   "cell_type": "code",
   "execution_count": 44,
   "outputs": [],
   "source": [
    "col_names = xgb_model.named_steps['preprocessing'].get_feature_names_out()\n",
    "model = xgb_model.named_steps['xgb']\n",
    "# https://stackoverflow.com/a/74967040/6432367\n",
    "model.get_booster().feature_names = list(col_names)\n",
    "feature_importance = model.get_booster().get_score()"
   ],
   "metadata": {
    "collapsed": false,
    "ExecuteTime": {
     "end_time": "2024-04-12T20:26:03.486228450Z",
     "start_time": "2024-04-12T20:26:03.454840591Z"
    }
   },
   "id": "7629a7fb1fd2352d"
  },
  {
   "cell_type": "code",
   "execution_count": 45,
   "outputs": [
    {
     "data": {
      "text/plain": "Text(0.5, 1.0, 'Feature importance by gain: ‘gain’ - the average gain across all splits the feature is used in.')"
     },
     "execution_count": 45,
     "metadata": {},
     "output_type": "execute_result"
    },
    {
     "data": {
      "text/plain": "<Figure size 2000x1000 with 1 Axes>",
      "image/png": "[encoded data removed]"
     },
     "metadata": {},
     "output_type": "display_data"
    }
   ],
   "source": [
    "feature_important = model.get_booster().get_score(importance_type='gain')\n",
    "keys = list(feature_important.keys())\n",
    "values = list(feature_important.values())\n",
    "\n",
    "data = pd.DataFrame(data=values, index=keys, columns=[\"score\"]).sort_values(by = \"score\", ascending=False)\n",
    "data.nlargest(40, columns=\"score\").plot(kind='barh', figsize = (20,10)) ## plot top 40 features\n",
    "plt.title('Feature importance by gain: ‘gain’ - the average gain across all splits the feature is used in.')\n",
    "# plt.title('Feature importance by weight: ‘weight’ - the number of times a feature is used to split the data across all trees.')"
   ],
   "metadata": {
    "collapsed": false,
    "ExecuteTime": {
     "end_time": "2024-04-12T20:26:03.856621036Z",
     "start_time": "2024-04-12T20:26:03.468727662Z"
    }
   },
   "id": "b9a519ea89f326f7"
  },
  {
   "cell_type": "markdown",
   "source": [
    "# Inference example"
   ],
   "metadata": {
    "collapsed": false
   },
   "id": "a8e7fd5ec814ddc"
  },
  {
   "cell_type": "code",
   "execution_count": 46,
   "outputs": [],
   "source": [
    "import pandas as pd\n",
    "sites = ['Office001','Caltech','JPL']\n",
    "site_ids = [2,1,19]\n",
    "site2id = { k:v for (k,v) in zip(sites, site_ids)}\n",
    "site2tac = {2:'PGE-TAC', 1:'SCE-TAC', 19:'SCE-TAC',}\n",
    "weather_features = ['temperature_degC', 'dewpoint_degC','relative_humidity_%', 'wind_speed_mph']\n",
    "demand_features = ['datetime', 'TAC_AREA_NAME', 'MARKET_RUN_ID', 'MW']"
   ],
   "metadata": {
    "collapsed": false,
    "ExecuteTime": {
     "end_time": "2024-04-12T20:26:03.860609723Z",
     "start_time": "2024-04-12T20:26:03.858542478Z"
    }
   },
   "id": "878725ff5a46586c"
  },
  {
   "cell_type": "code",
   "execution_count": 47,
   "outputs": [
    {
     "data": {
      "text/plain": "Index(['dow', 'hour', 'month', 'is_holiday', 'actual_demand_MW',\n       'temperature_degC', 'dewpoint_degC', 'relative_humidity_%',\n       'wind_speed_mph', 'site'],\n      dtype='object')"
     },
     "execution_count": 47,
     "metadata": {},
     "output_type": "execute_result"
    }
   ],
   "source": [
    "# columns_needed\n",
    "X_train.columns"
   ],
   "metadata": {
    "collapsed": false,
    "ExecuteTime": {
     "end_time": "2024-04-12T20:26:03.876696394Z",
     "start_time": "2024-04-12T20:26:03.860149579Z"
    }
   },
   "id": "beebf39165a93e86"
  },
  {
   "cell_type": "markdown",
   "source": [
    "# future weather"
   ],
   "metadata": {
    "collapsed": false
   },
   "id": "97c67162e65aaac9"
  },
  {
   "cell_type": "code",
   "execution_count": 48,
   "outputs": [
    {
     "name": "stdout",
     "output_type": "stream",
     "text": [
      "https://api.weather.gov/points/37.33680466796926,-121.90743423142634\n",
      "status code: 200\n",
      "https://api.weather.gov/gridpoints/MTR/99,82/forecast/hourly\n",
      "https://api.weather.gov/points/34.134785646454844,-118.11691382579643\n",
      "status code: 200\n",
      "https://api.weather.gov/gridpoints/LOX/160,48/forecast/hourly\n",
      "https://api.weather.gov/points/34.20142342818471,-118.17126565774107\n",
      "status code: 200\n",
      "https://api.weather.gov/gridpoints/LOX/159,51/forecast/hourly\n"
     ]
    }
   ],
   "source": [
    "from src.weather import get_processed_hourly_7day_weather\n",
    "site2latlon = {'Caltech':(34.134785646454844, -118.11691382579643),\n",
    "               'Office001':(37.33680466796926, -121.90743423142634),\n",
    "               'JPL':(34.20142342818471, -118.17126565774107)}\n",
    "future_weather = pd.DataFrame()\n",
    "for site in sites:\n",
    "    tmp_future_weather = get_processed_hourly_7day_weather(*site2latlon[site])\n",
    "    tmp_future_weather['site'] = site\n",
    "    if future_weather.empty:\n",
    "        future_weather = tmp_future_weather\n",
    "    else:\n",
    "        future_weather = pd.concat([future_weather, tmp_future_weather], axis=0)"
   ],
   "metadata": {
    "collapsed": false,
    "ExecuteTime": {
     "end_time": "2024-04-12T20:26:05.964694755Z",
     "start_time": "2024-04-12T20:26:03.879359080Z"
    }
   },
   "id": "df0ce21f920fbdb5"
  },
  {
   "cell_type": "code",
   "execution_count": 49,
   "outputs": [
    {
     "data": {
      "text/plain": "                           temperature_degC  dewpoint_degC  \\\ntime                                                         \n2024-04-12 13:00:00-07:00             21.11           9.44   \n2024-04-12 14:00:00-07:00             20.56           8.33   \n2024-04-12 15:00:00-07:00             20.56           7.78   \n2024-04-12 16:00:00-07:00             20.00           8.33   \n2024-04-12 17:00:00-07:00             18.89           7.22   \n\n                           relative_humidity_%  wind_speed_mph       site  \ntime                                                                       \n2024-04-12 13:00:00-07:00                   48               8  Office001  \n2024-04-12 14:00:00-07:00                   46               9  Office001  \n2024-04-12 15:00:00-07:00                   44              10  Office001  \n2024-04-12 16:00:00-07:00                   46              13  Office001  \n2024-04-12 17:00:00-07:00                   48              14  Office001  ",
      "text/html": "<div>\n<style scoped>\n    .dataframe tbody tr th:only-of-type {\n        vertical-align: middle;\n    }\n\n    .dataframe tbody tr th {\n        vertical-align: top;\n    }\n\n    .dataframe thead th {\n        text-align: right;\n    }\n</style>\n<table border=\"1\" class=\"dataframe\">\n  <thead>\n    <tr style=\"text-align: right;\">\n      <th></th>\n      <th>temperature_degC</th>\n      <th>dewpoint_degC</th>\n      <th>relative_humidity_%</th>\n      <th>wind_speed_mph</th>\n      <th>site</th>\n    </tr>\n    <tr>\n      <th>time</th>\n      <th></th>\n      <th></th>\n      <th></th>\n      <th></th>\n      <th></th>\n    </tr>\n  </thead>\n  <tbody>\n    <tr>\n      <th>2024-04-12 13:00:00-07:00</th>\n      <td>21.11</td>\n      <td>9.44</td>\n      <td>48</td>\n      <td>8</td>\n      <td>Office001</td>\n    </tr>\n    <tr>\n      <th>2024-04-12 14:00:00-07:00</th>\n      <td>20.56</td>\n      <td>8.33</td>\n      <td>46</td>\n      <td>9</td>\n      <td>Office001</td>\n    </tr>\n    <tr>\n      <th>2024-04-12 15:00:00-07:00</th>\n      <td>20.56</td>\n      <td>7.78</td>\n      <td>44</td>\n      <td>10</td>\n      <td>Office001</td>\n    </tr>\n    <tr>\n      <th>2024-04-12 16:00:00-07:00</th>\n      <td>20.00</td>\n      <td>8.33</td>\n      <td>46</td>\n      <td>13</td>\n      <td>Office001</td>\n    </tr>\n    <tr>\n      <th>2024-04-12 17:00:00-07:00</th>\n      <td>18.89</td>\n      <td>7.22</td>\n      <td>48</td>\n      <td>14</td>\n      <td>Office001</td>\n    </tr>\n  </tbody>\n</table>\n</div>"
     },
     "execution_count": 49,
     "metadata": {},
     "output_type": "execute_result"
    }
   ],
   "source": [
    "future_weather = future_weather[weather_features + ['site']]\n",
    "future_weather.head()"
   ],
   "metadata": {
    "collapsed": false,
    "ExecuteTime": {
     "end_time": "2024-04-12T20:26:05.978105873Z",
     "start_time": "2024-04-12T20:26:05.972969779Z"
    }
   },
   "id": "526274e330163c8"
  },
  {
   "cell_type": "code",
   "execution_count": 50,
   "outputs": [
    {
     "name": "stdout",
     "output_type": "stream",
     "text": [
      "<class 'pandas.core.frame.DataFrame'>\n",
      "RangeIndex: 156 entries, 0 to 155\n",
      "Data columns (total 6 columns):\n",
      " #   Column               Non-Null Count  Dtype                    \n",
      "---  ------               --------------  -----                    \n",
      " 0   time                 156 non-null    datetime64[ns, UTC-07:00]\n",
      " 1   temperature_degC     156 non-null    float64                  \n",
      " 2   dewpoint_degC        156 non-null    float64                  \n",
      " 3   relative_humidity_%  156 non-null    int64                    \n",
      " 4   wind_speed_mph       156 non-null    int64                    \n",
      " 5   site                 156 non-null    object                   \n",
      "dtypes: datetime64[ns, UTC-07:00](1), float64(2), int64(2), object(1)\n",
      "memory usage: 7.4+ KB\n"
     ]
    }
   ],
   "source": [
    "future_weather[future_weather['site'] == 'JPL'].reset_index().info()"
   ],
   "metadata": {
    "collapsed": false,
    "ExecuteTime": {
     "end_time": "2024-04-12T20:26:06.011476232Z",
     "start_time": "2024-04-12T20:26:05.980019805Z"
    }
   },
   "id": "4bbc729d57111cda"
  },
  {
   "cell_type": "markdown",
   "source": [
    "# future demand"
   ],
   "metadata": {
    "collapsed": false
   },
   "id": "19a1f0d5b03bef1c"
  },
  {
   "cell_type": "code",
   "execution_count": 51,
   "outputs": [],
   "source": [
    "import pytz\n",
    "# pytz.common_timezones"
   ],
   "metadata": {
    "collapsed": false,
    "ExecuteTime": {
     "end_time": "2024-04-12T20:26:06.035771626Z",
     "start_time": "2024-04-12T20:26:06.004565532Z"
    }
   },
   "id": "b995c8df9b1a48a3"
  },
  {
   "cell_type": "code",
   "execution_count": 52,
   "outputs": [],
   "source": [
    "from src.oasis import SystemDemand\n",
    "import datetime\n",
    "\n",
    "sd = SystemDemand()\n",
    "start = datetime.datetime.today()\n",
    "end = start + pd.to_timedelta(7, unit='d')\n",
    "demand_forecast = sd.get_demand_forecast(start, end)\n",
    "\n",
    "TACS = ['SCE-TAC', 'PGE-TAC']\n",
    "MARKET_RUN_IDS = ['ACTUAL']\n",
    "demand_forecast['datetime'] = pd.to_datetime(demand_forecast['OPR_DT']) + pd.to_timedelta(demand_forecast['OPR_HR'], unit='h')\n",
    "demand_forecast = demand_forecast[\n",
    "    (demand_forecast['TAC_AREA_NAME'].isin(TACS)) \n",
    "    & (demand_forecast['MARKET_RUN_ID'].isin(['7DA']))\n",
    "]\n",
    "\n",
    "# demand = historical_caiso_actual_load[demand_features].set_index('datetime').rename(columns={'MW':'actual_demand_MW'}).sort_index()\n",
    "# demand = demand[demand['TAC_AREA_NAME'] == site2tac[id]][['actual_demand_MW']]\n",
    "# demand.index = pd.to_datetime(demand.index, utc=True)"
   ],
   "metadata": {
    "collapsed": false,
    "ExecuteTime": {
     "end_time": "2024-04-12T20:26:12.014484090Z",
     "start_time": "2024-04-12T20:26:06.010062011Z"
    }
   },
   "id": "fe1bb05ce27e484b"
  },
  {
   "cell_type": "code",
   "execution_count": 53,
   "outputs": [
    {
     "data": {
      "text/plain": "          INTERVALSTARTTIME_GMT        INTERVALENDTIME_GMT  LOAD_TYPE  \\\n486   2024-04-13T00:00:00-00:00  2024-04-13T01:00:00-00:00          0   \n487   2024-04-13T06:00:00-00:00  2024-04-13T07:00:00-00:00          0   \n488   2024-04-13T01:00:00-00:00  2024-04-13T02:00:00-00:00          0   \n489   2024-04-13T03:00:00-00:00  2024-04-13T04:00:00-00:00          0   \n490   2024-04-13T05:00:00-00:00  2024-04-13T06:00:00-00:00          0   \n...                         ...                        ...        ...   \n8617  2024-04-19T13:00:00-00:00  2024-04-19T14:00:00-00:00          0   \n8618  2024-04-19T07:00:00-00:00  2024-04-19T08:00:00-00:00          0   \n8619  2024-04-19T08:00:00-00:00  2024-04-19T09:00:00-00:00          0   \n8620  2024-04-19T20:00:00-00:00  2024-04-19T21:00:00-00:00          0   \n8621  2024-04-19T16:00:00-00:00  2024-04-19T17:00:00-00:00          0   \n\n          OPR_DT  OPR_HR  OPR_INTERVAL MARKET_RUN_ID TAC_AREA_NAME  \\\n486   2024-04-12      18             0           7DA       PGE-TAC   \n487   2024-04-12      24             0           7DA       PGE-TAC   \n488   2024-04-12      19             0           7DA       PGE-TAC   \n489   2024-04-12      21             0           7DA       PGE-TAC   \n490   2024-04-12      23             0           7DA       PGE-TAC   \n...          ...     ...           ...           ...           ...   \n8617  2024-04-19       7             0           7DA       SCE-TAC   \n8618  2024-04-19       1             0           7DA       SCE-TAC   \n8619  2024-04-19       2             0           7DA       SCE-TAC   \n8620  2024-04-19      14             0           7DA       SCE-TAC   \n8621  2024-04-19      10             0           7DA       SCE-TAC   \n\n                            LABEL    XML_DATA_ITEM  POS        MW  \\\n486   Demand Forecast 7-Day Ahead  SYS_FCST_7DA_MW  0.1  10179.60   \n487   Demand Forecast 7-Day Ahead  SYS_FCST_7DA_MW  0.1   9734.55   \n488   Demand Forecast 7-Day Ahead  SYS_FCST_7DA_MW  0.1  11135.84   \n489   Demand Forecast 7-Day Ahead  SYS_FCST_7DA_MW  0.1  11674.53   \n490   Demand Forecast 7-Day Ahead  SYS_FCST_7DA_MW  0.1  10512.32   \n...                           ...              ...  ...       ...   \n8617  Demand Forecast 7-Day Ahead  SYS_FCST_7DA_MW  0.2   9911.15   \n8618  Demand Forecast 7-Day Ahead  SYS_FCST_7DA_MW  0.2   9206.35   \n8619  Demand Forecast 7-Day Ahead  SYS_FCST_7DA_MW  0.2   8892.47   \n8620  Demand Forecast 7-Day Ahead  SYS_FCST_7DA_MW  0.2   8001.76   \n8621  Demand Forecast 7-Day Ahead  SYS_FCST_7DA_MW  0.2   8913.96   \n\n     EXECUTION_TYPE  GROUP            datetime  \n486             7DA     55 2024-04-12 18:00:00  \n487             7DA     55 2024-04-13 00:00:00  \n488             7DA     55 2024-04-12 19:00:00  \n489             7DA     55 2024-04-12 21:00:00  \n490             7DA     55 2024-04-12 23:00:00  \n...             ...    ...                 ...  \n8617            7DA    432 2024-04-19 07:00:00  \n8618            7DA    432 2024-04-19 01:00:00  \n8619            7DA    432 2024-04-19 02:00:00  \n8620            7DA    432 2024-04-19 14:00:00  \n8621            7DA    432 2024-04-19 10:00:00  \n\n[336 rows x 15 columns]",
      "text/html": "<div>\n<style scoped>\n    .dataframe tbody tr th:only-of-type {\n        vertical-align: middle;\n    }\n\n    .dataframe tbody tr th {\n        vertical-align: top;\n    }\n\n    .dataframe thead th {\n        text-align: right;\n    }\n</style>\n<table border=\"1\" class=\"dataframe\">\n  <thead>\n    <tr style=\"text-align: right;\">\n      <th></th>\n      <th>INTERVALSTARTTIME_GMT</th>\n      <th>INTERVALENDTIME_GMT</th>\n      <th>LOAD_TYPE</th>\n      <th>OPR_DT</th>\n      <th>OPR_HR</th>\n      <th>OPR_INTERVAL</th>\n      <th>MARKET_RUN_ID</th>\n      <th>TAC_AREA_NAME</th>\n      <th>LABEL</th>\n      <th>XML_DATA_ITEM</th>\n      <th>POS</th>\n      <th>MW</th>\n      <th>EXECUTION_TYPE</th>\n      <th>GROUP</th>\n      <th>datetime</th>\n    </tr>\n  </thead>\n  <tbody>\n    <tr>\n      <th>486</th>\n      <td>2024-04-13T00:00:00-00:00</td>\n      <td>2024-04-13T01:00:00-00:00</td>\n      <td>0</td>\n      <td>2024-04-12</td>\n      <td>18</td>\n      <td>0</td>\n      <td>7DA</td>\n      <td>PGE-TAC</td>\n      <td>Demand Forecast 7-Day Ahead</td>\n      <td>SYS_FCST_7DA_MW</td>\n      <td>0.1</td>\n      <td>10179.60</td>\n      <td>7DA</td>\n      <td>55</td>\n      <td>2024-04-12 18:00:00</td>\n    </tr>\n    <tr>\n      <th>487</th>\n      <td>2024-04-13T06:00:00-00:00</td>\n      <td>2024-04-13T07:00:00-00:00</td>\n      <td>0</td>\n      <td>2024-04-12</td>\n      <td>24</td>\n      <td>0</td>\n      <td>7DA</td>\n      <td>PGE-TAC</td>\n      <td>Demand Forecast 7-Day Ahead</td>\n      <td>SYS_FCST_7DA_MW</td>\n      <td>0.1</td>\n      <td>9734.55</td>\n      <td>7DA</td>\n      <td>55</td>\n      <td>2024-04-13 00:00:00</td>\n    </tr>\n    <tr>\n      <th>488</th>\n      <td>2024-04-13T01:00:00-00:00</td>\n      <td>2024-04-13T02:00:00-00:00</td>\n      <td>0</td>\n      <td>2024-04-12</td>\n      <td>19</td>\n      <td>0</td>\n      <td>7DA</td>\n      <td>PGE-TAC</td>\n      <td>Demand Forecast 7-Day Ahead</td>\n      <td>SYS_FCST_7DA_MW</td>\n      <td>0.1</td>\n      <td>11135.84</td>\n      <td>7DA</td>\n      <td>55</td>\n      <td>2024-04-12 19:00:00</td>\n    </tr>\n    <tr>\n      <th>489</th>\n      <td>2024-04-13T03:00:00-00:00</td>\n      <td>2024-04-13T04:00:00-00:00</td>\n      <td>0</td>\n      <td>2024-04-12</td>\n      <td>21</td>\n      <td>0</td>\n      <td>7DA</td>\n      <td>PGE-TAC</td>\n      <td>Demand Forecast 7-Day Ahead</td>\n      <td>SYS_FCST_7DA_MW</td>\n      <td>0.1</td>\n      <td>11674.53</td>\n      <td>7DA</td>\n      <td>55</td>\n      <td>2024-04-12 21:00:00</td>\n    </tr>\n    <tr>\n      <th>490</th>\n      <td>2024-04-13T05:00:00-00:00</td>\n      <td>2024-04-13T06:00:00-00:00</td>\n      <td>0</td>\n      <td>2024-04-12</td>\n      <td>23</td>\n      <td>0</td>\n      <td>7DA</td>\n      <td>PGE-TAC</td>\n      <td>Demand Forecast 7-Day Ahead</td>\n      <td>SYS_FCST_7DA_MW</td>\n      <td>0.1</td>\n      <td>10512.32</td>\n      <td>7DA</td>\n      <td>55</td>\n      <td>2024-04-12 23:00:00</td>\n    </tr>\n    <tr>\n      <th>...</th>\n      <td>...</td>\n      <td>...</td>\n      <td>...</td>\n      <td>...</td>\n      <td>...</td>\n      <td>...</td>\n      <td>...</td>\n      <td>...</td>\n      <td>...</td>\n      <td>...</td>\n      <td>...</td>\n      <td>...</td>\n      <td>...</td>\n      <td>...</td>\n      <td>...</td>\n    </tr>\n    <tr>\n      <th>8617</th>\n      <td>2024-04-19T13:00:00-00:00</td>\n      <td>2024-04-19T14:00:00-00:00</td>\n      <td>0</td>\n      <td>2024-04-19</td>\n      <td>7</td>\n      <td>0</td>\n      <td>7DA</td>\n      <td>SCE-TAC</td>\n      <td>Demand Forecast 7-Day Ahead</td>\n      <td>SYS_FCST_7DA_MW</td>\n      <td>0.2</td>\n      <td>9911.15</td>\n      <td>7DA</td>\n      <td>432</td>\n      <td>2024-04-19 07:00:00</td>\n    </tr>\n    <tr>\n      <th>8618</th>\n      <td>2024-04-19T07:00:00-00:00</td>\n      <td>2024-04-19T08:00:00-00:00</td>\n      <td>0</td>\n      <td>2024-04-19</td>\n      <td>1</td>\n      <td>0</td>\n      <td>7DA</td>\n      <td>SCE-TAC</td>\n      <td>Demand Forecast 7-Day Ahead</td>\n      <td>SYS_FCST_7DA_MW</td>\n      <td>0.2</td>\n      <td>9206.35</td>\n      <td>7DA</td>\n      <td>432</td>\n      <td>2024-04-19 01:00:00</td>\n    </tr>\n    <tr>\n      <th>8619</th>\n      <td>2024-04-19T08:00:00-00:00</td>\n      <td>2024-04-19T09:00:00-00:00</td>\n      <td>0</td>\n      <td>2024-04-19</td>\n      <td>2</td>\n      <td>0</td>\n      <td>7DA</td>\n      <td>SCE-TAC</td>\n      <td>Demand Forecast 7-Day Ahead</td>\n      <td>SYS_FCST_7DA_MW</td>\n      <td>0.2</td>\n      <td>8892.47</td>\n      <td>7DA</td>\n      <td>432</td>\n      <td>2024-04-19 02:00:00</td>\n    </tr>\n    <tr>\n      <th>8620</th>\n      <td>2024-04-19T20:00:00-00:00</td>\n      <td>2024-04-19T21:00:00-00:00</td>\n      <td>0</td>\n      <td>2024-04-19</td>\n      <td>14</td>\n      <td>0</td>\n      <td>7DA</td>\n      <td>SCE-TAC</td>\n      <td>Demand Forecast 7-Day Ahead</td>\n      <td>SYS_FCST_7DA_MW</td>\n      <td>0.2</td>\n      <td>8001.76</td>\n      <td>7DA</td>\n      <td>432</td>\n      <td>2024-04-19 14:00:00</td>\n    </tr>\n    <tr>\n      <th>8621</th>\n      <td>2024-04-19T16:00:00-00:00</td>\n      <td>2024-04-19T17:00:00-00:00</td>\n      <td>0</td>\n      <td>2024-04-19</td>\n      <td>10</td>\n      <td>0</td>\n      <td>7DA</td>\n      <td>SCE-TAC</td>\n      <td>Demand Forecast 7-Day Ahead</td>\n      <td>SYS_FCST_7DA_MW</td>\n      <td>0.2</td>\n      <td>8913.96</td>\n      <td>7DA</td>\n      <td>432</td>\n      <td>2024-04-19 10:00:00</td>\n    </tr>\n  </tbody>\n</table>\n<p>336 rows × 15 columns</p>\n</div>"
     },
     "execution_count": 53,
     "metadata": {},
     "output_type": "execute_result"
    }
   ],
   "source": [
    "demand_forecast"
   ],
   "metadata": {
    "collapsed": false,
    "ExecuteTime": {
     "end_time": "2024-04-12T20:26:12.033310282Z",
     "start_time": "2024-04-12T20:26:12.022302579Z"
    }
   },
   "id": "28e55a44daceed64"
  },
  {
   "cell_type": "code",
   "execution_count": 54,
   "outputs": [],
   "source": [
    "demand = pd.DataFrame({})\n",
    "for site in sites:\n",
    "    tmp_demand = demand_forecast.loc[demand_forecast['TAC_AREA_NAME'] == site2tac[site2id[site]], demand_features].set_index('datetime')\n",
    "\n",
    "    tmp_demand['site'] = site\n",
    "    \n",
    "    tmp_demand.index = pd.to_datetime(tmp_demand.index)#.tz_localize('US/Pacific')\n",
    "\n",
    "    if demand.empty:\n",
    "        demand = tmp_demand\n",
    "    else:\n",
    "        demand = pd.concat([demand,tmp_demand], axis=0)\n",
    "demand = demand.rename(columns={'MW':'actual_demand_MW'}).sort_index()\n",
    "demand.index = demand.index.tz_localize('UTC-07:00')"
   ],
   "metadata": {
    "collapsed": false,
    "ExecuteTime": {
     "end_time": "2024-04-12T20:26:12.089677764Z",
     "start_time": "2024-04-12T20:26:12.033693715Z"
    }
   },
   "id": "fe68f04f59b8e093"
  },
  {
   "cell_type": "code",
   "execution_count": 55,
   "outputs": [
    {
     "data": {
      "text/plain": "                          TAC_AREA_NAME MARKET_RUN_ID  actual_demand_MW  \\\ndatetime                                                                  \n2024-04-12 16:00:00-07:00       SCE-TAC           7DA          10860.28   \n2024-04-12 16:00:00-07:00       SCE-TAC           7DA          10860.28   \n2024-04-12 16:00:00-07:00       PGE-TAC           7DA           7946.52   \n2024-04-12 17:00:00-07:00       SCE-TAC           7DA          11173.64   \n2024-04-12 17:00:00-07:00       SCE-TAC           7DA          11173.64   \n...                                 ...           ...               ...   \n2024-04-19 14:00:00-07:00       PGE-TAC           7DA           6271.75   \n2024-04-19 14:00:00-07:00       SCE-TAC           7DA           8001.76   \n2024-04-19 15:00:00-07:00       SCE-TAC           7DA           8055.98   \n2024-04-19 15:00:00-07:00       PGE-TAC           7DA           6249.42   \n2024-04-19 15:00:00-07:00       SCE-TAC           7DA           8055.98   \n\n                                site  \ndatetime                              \n2024-04-12 16:00:00-07:00        JPL  \n2024-04-12 16:00:00-07:00    Caltech  \n2024-04-12 16:00:00-07:00  Office001  \n2024-04-12 17:00:00-07:00        JPL  \n2024-04-12 17:00:00-07:00    Caltech  \n...                              ...  \n2024-04-19 14:00:00-07:00  Office001  \n2024-04-19 14:00:00-07:00        JPL  \n2024-04-19 15:00:00-07:00    Caltech  \n2024-04-19 15:00:00-07:00  Office001  \n2024-04-19 15:00:00-07:00        JPL  \n\n[504 rows x 4 columns]",
      "text/html": "<div>\n<style scoped>\n    .dataframe tbody tr th:only-of-type {\n        vertical-align: middle;\n    }\n\n    .dataframe tbody tr th {\n        vertical-align: top;\n    }\n\n    .dataframe thead th {\n        text-align: right;\n    }\n</style>\n<table border=\"1\" class=\"dataframe\">\n  <thead>\n    <tr style=\"text-align: right;\">\n      <th></th>\n      <th>TAC_AREA_NAME</th>\n      <th>MARKET_RUN_ID</th>\n      <th>actual_demand_MW</th>\n      <th>site</th>\n    </tr>\n    <tr>\n      <th>datetime</th>\n      <th></th>\n      <th></th>\n      <th></th>\n      <th></th>\n    </tr>\n  </thead>\n  <tbody>\n    <tr>\n      <th>2024-04-12 16:00:00-07:00</th>\n      <td>SCE-TAC</td>\n      <td>7DA</td>\n      <td>10860.28</td>\n      <td>JPL</td>\n    </tr>\n    <tr>\n      <th>2024-04-12 16:00:00-07:00</th>\n      <td>SCE-TAC</td>\n      <td>7DA</td>\n      <td>10860.28</td>\n      <td>Caltech</td>\n    </tr>\n    <tr>\n      <th>2024-04-12 16:00:00-07:00</th>\n      <td>PGE-TAC</td>\n      <td>7DA</td>\n      <td>7946.52</td>\n      <td>Office001</td>\n    </tr>\n    <tr>\n      <th>2024-04-12 17:00:00-07:00</th>\n      <td>SCE-TAC</td>\n      <td>7DA</td>\n      <td>11173.64</td>\n      <td>JPL</td>\n    </tr>\n    <tr>\n      <th>2024-04-12 17:00:00-07:00</th>\n      <td>SCE-TAC</td>\n      <td>7DA</td>\n      <td>11173.64</td>\n      <td>Caltech</td>\n    </tr>\n    <tr>\n      <th>...</th>\n      <td>...</td>\n      <td>...</td>\n      <td>...</td>\n      <td>...</td>\n    </tr>\n    <tr>\n      <th>2024-04-19 14:00:00-07:00</th>\n      <td>PGE-TAC</td>\n      <td>7DA</td>\n      <td>6271.75</td>\n      <td>Office001</td>\n    </tr>\n    <tr>\n      <th>2024-04-19 14:00:00-07:00</th>\n      <td>SCE-TAC</td>\n      <td>7DA</td>\n      <td>8001.76</td>\n      <td>JPL</td>\n    </tr>\n    <tr>\n      <th>2024-04-19 15:00:00-07:00</th>\n      <td>SCE-TAC</td>\n      <td>7DA</td>\n      <td>8055.98</td>\n      <td>Caltech</td>\n    </tr>\n    <tr>\n      <th>2024-04-19 15:00:00-07:00</th>\n      <td>PGE-TAC</td>\n      <td>7DA</td>\n      <td>6249.42</td>\n      <td>Office001</td>\n    </tr>\n    <tr>\n      <th>2024-04-19 15:00:00-07:00</th>\n      <td>SCE-TAC</td>\n      <td>7DA</td>\n      <td>8055.98</td>\n      <td>JPL</td>\n    </tr>\n  </tbody>\n</table>\n<p>504 rows × 4 columns</p>\n</div>"
     },
     "execution_count": 55,
     "metadata": {},
     "output_type": "execute_result"
    }
   ],
   "source": [
    "demand"
   ],
   "metadata": {
    "collapsed": false,
    "ExecuteTime": {
     "end_time": "2024-04-12T20:26:12.126477658Z",
     "start_time": "2024-04-12T20:26:12.056243985Z"
    }
   },
   "id": "5bbed058e6db9515"
  },
  {
   "cell_type": "code",
   "execution_count": 56,
   "outputs": [
    {
     "data": {
      "text/plain": "                          TAC_AREA_NAME MARKET_RUN_ID  actual_demand_MW  \\\ndatetime                                                                  \n2024-04-12 16:00:00-07:00       SCE-TAC           7DA          10860.28   \n2024-04-12 16:00:00-07:00       SCE-TAC           7DA          10860.28   \n2024-04-12 16:00:00-07:00       PGE-TAC           7DA           7946.52   \n2024-04-12 17:00:00-07:00       SCE-TAC           7DA          11173.64   \n2024-04-12 17:00:00-07:00       SCE-TAC           7DA          11173.64   \n\n                                site  \ndatetime                              \n2024-04-12 16:00:00-07:00        JPL  \n2024-04-12 16:00:00-07:00    Caltech  \n2024-04-12 16:00:00-07:00  Office001  \n2024-04-12 17:00:00-07:00        JPL  \n2024-04-12 17:00:00-07:00    Caltech  ",
      "text/html": "<div>\n<style scoped>\n    .dataframe tbody tr th:only-of-type {\n        vertical-align: middle;\n    }\n\n    .dataframe tbody tr th {\n        vertical-align: top;\n    }\n\n    .dataframe thead th {\n        text-align: right;\n    }\n</style>\n<table border=\"1\" class=\"dataframe\">\n  <thead>\n    <tr style=\"text-align: right;\">\n      <th></th>\n      <th>TAC_AREA_NAME</th>\n      <th>MARKET_RUN_ID</th>\n      <th>actual_demand_MW</th>\n      <th>site</th>\n    </tr>\n    <tr>\n      <th>datetime</th>\n      <th></th>\n      <th></th>\n      <th></th>\n      <th></th>\n    </tr>\n  </thead>\n  <tbody>\n    <tr>\n      <th>2024-04-12 16:00:00-07:00</th>\n      <td>SCE-TAC</td>\n      <td>7DA</td>\n      <td>10860.28</td>\n      <td>JPL</td>\n    </tr>\n    <tr>\n      <th>2024-04-12 16:00:00-07:00</th>\n      <td>SCE-TAC</td>\n      <td>7DA</td>\n      <td>10860.28</td>\n      <td>Caltech</td>\n    </tr>\n    <tr>\n      <th>2024-04-12 16:00:00-07:00</th>\n      <td>PGE-TAC</td>\n      <td>7DA</td>\n      <td>7946.52</td>\n      <td>Office001</td>\n    </tr>\n    <tr>\n      <th>2024-04-12 17:00:00-07:00</th>\n      <td>SCE-TAC</td>\n      <td>7DA</td>\n      <td>11173.64</td>\n      <td>JPL</td>\n    </tr>\n    <tr>\n      <th>2024-04-12 17:00:00-07:00</th>\n      <td>SCE-TAC</td>\n      <td>7DA</td>\n      <td>11173.64</td>\n      <td>Caltech</td>\n    </tr>\n  </tbody>\n</table>\n</div>"
     },
     "execution_count": 56,
     "metadata": {},
     "output_type": "execute_result"
    }
   ],
   "source": [
    "demand.head()"
   ],
   "metadata": {
    "collapsed": false,
    "ExecuteTime": {
     "end_time": "2024-04-12T20:26:12.132024270Z",
     "start_time": "2024-04-12T20:26:12.071776304Z"
    }
   },
   "id": "7ad2c8825c27cf75"
  },
  {
   "cell_type": "markdown",
   "source": [
    "# time features"
   ],
   "metadata": {
    "collapsed": false
   },
   "id": "f00bb992d212a459"
  },
  {
   "cell_type": "code",
   "execution_count": 57,
   "outputs": [],
   "source": [
    "def make_time_features(start_date:datetime.date, end_date:datetime.date, tz='UTC-07:00'):\n",
    "    \"\"\"returns a dataframe of time features (day of week, hour, month, and is_holiday\"\"\"\n",
    "    print(start_date, end_date)\n",
    "    # time\n",
    "    time_df = pd.DataFrame(index=pd.date_range(start_date, end_date, inclusive='both', freq='h', tz=tz),\n",
    "                     columns=['dow', 'hour', 'month'])\n",
    "    time_df['dow'] = time_df.index.dayofweek\n",
    "    time_df['hour'] = time_df.index.hour\n",
    "    time_df['month'] = time_df.index.month\n",
    "    \n",
    "    time_df = holiday_processing(time_df)\n",
    "    return time_df"
   ],
   "metadata": {
    "collapsed": false,
    "ExecuteTime": {
     "end_time": "2024-04-12T20:26:12.135236424Z",
     "start_time": "2024-04-12T20:26:12.091783942Z"
    }
   },
   "id": "3617304233370e24"
  },
  {
   "cell_type": "code",
   "execution_count": 58,
   "outputs": [
    {
     "name": "stdout",
     "output_type": "stream",
     "text": [
      "Office001 2024-04-12 14:26:06.012070 2024-04-19 14:26:06.012070\n",
      "2024-04-12 14:26:06.012070 2024-04-19 14:26:06.012070\n",
      "Caltech 2024-04-12 14:26:06.012070 2024-04-19 14:26:06.012070\n",
      "2024-04-12 14:26:06.012070 2024-04-19 14:26:06.012070\n",
      "JPL 2024-04-12 14:26:06.012070 2024-04-19 14:26:06.012070\n",
      "2024-04-12 14:26:06.012070 2024-04-19 14:26:06.012070\n"
     ]
    },
    {
     "data": {
      "text/plain": "                                  dow  hour  month  is_holiday       site\n2024-04-12 14:26:06.012070-07:00    4    14      4       False  Office001\n2024-04-12 15:26:06.012070-07:00    4    15      4       False  Office001\n2024-04-12 16:26:06.012070-07:00    4    16      4       False  Office001\n2024-04-12 17:26:06.012070-07:00    4    17      4       False  Office001\n2024-04-12 18:26:06.012070-07:00    4    18      4       False  Office001",
      "text/html": "<div>\n<style scoped>\n    .dataframe tbody tr th:only-of-type {\n        vertical-align: middle;\n    }\n\n    .dataframe tbody tr th {\n        vertical-align: top;\n    }\n\n    .dataframe thead th {\n        text-align: right;\n    }\n</style>\n<table border=\"1\" class=\"dataframe\">\n  <thead>\n    <tr style=\"text-align: right;\">\n      <th></th>\n      <th>dow</th>\n      <th>hour</th>\n      <th>month</th>\n      <th>is_holiday</th>\n      <th>site</th>\n    </tr>\n  </thead>\n  <tbody>\n    <tr>\n      <th>2024-04-12 14:26:06.012070-07:00</th>\n      <td>4</td>\n      <td>14</td>\n      <td>4</td>\n      <td>False</td>\n      <td>Office001</td>\n    </tr>\n    <tr>\n      <th>2024-04-12 15:26:06.012070-07:00</th>\n      <td>4</td>\n      <td>15</td>\n      <td>4</td>\n      <td>False</td>\n      <td>Office001</td>\n    </tr>\n    <tr>\n      <th>2024-04-12 16:26:06.012070-07:00</th>\n      <td>4</td>\n      <td>16</td>\n      <td>4</td>\n      <td>False</td>\n      <td>Office001</td>\n    </tr>\n    <tr>\n      <th>2024-04-12 17:26:06.012070-07:00</th>\n      <td>4</td>\n      <td>17</td>\n      <td>4</td>\n      <td>False</td>\n      <td>Office001</td>\n    </tr>\n    <tr>\n      <th>2024-04-12 18:26:06.012070-07:00</th>\n      <td>4</td>\n      <td>18</td>\n      <td>4</td>\n      <td>False</td>\n      <td>Office001</td>\n    </tr>\n  </tbody>\n</table>\n</div>"
     },
     "execution_count": 58,
     "metadata": {},
     "output_type": "execute_result"
    }
   ],
   "source": [
    "from src.data_preprocessing import  datetime_processing, userinput_processing, holiday_processing, create_all_site_x, create_all_site_y, create_x, update_varuns_x, get_start_end_times\n",
    "X = pd.DataFrame()\n",
    "for site in sites:\n",
    "    print(site, start, end)\n",
    "    # time dataframe with columns\n",
    "    # dow, hour, month, is_holiday\n",
    "    x = make_time_features(start, end)\n",
    "    x['site'] = site\n",
    "    if X.empty:\n",
    "        X = x\n",
    "    else:\n",
    "        X = pd.concat([X, x], axis=0)\n",
    "        \n",
    "X.head()"
   ],
   "metadata": {
    "collapsed": false,
    "ExecuteTime": {
     "end_time": "2024-04-12T20:26:12.282502231Z",
     "start_time": "2024-04-12T20:26:12.096818820Z"
    }
   },
   "id": "bf9c47443be21357"
  },
  {
   "cell_type": "code",
   "execution_count": 59,
   "outputs": [
    {
     "name": "stdout",
     "output_type": "stream",
     "text": [
      "<class 'pandas.core.frame.DataFrame'>\n",
      "RangeIndex: 507 entries, 0 to 506\n",
      "Data columns (total 6 columns):\n",
      " #   Column      Non-Null Count  Dtype                    \n",
      "---  ------      --------------  -----                    \n",
      " 0   index       507 non-null    datetime64[ns, UTC-07:00]\n",
      " 1   dow         507 non-null    int32                    \n",
      " 2   hour        507 non-null    int32                    \n",
      " 3   month       507 non-null    int32                    \n",
      " 4   is_holiday  507 non-null    bool                     \n",
      " 5   site        507 non-null    object                   \n",
      "dtypes: bool(1), datetime64[ns, UTC-07:00](1), int32(3), object(1)\n",
      "memory usage: 14.5+ KB\n"
     ]
    }
   ],
   "source": [
    "X.reset_index().info()"
   ],
   "metadata": {
    "collapsed": false,
    "ExecuteTime": {
     "end_time": "2024-04-12T20:26:12.284192106Z",
     "start_time": "2024-04-12T20:26:12.205327167Z"
    }
   },
   "id": "178a8d6d839236b7"
  },
  {
   "cell_type": "code",
   "execution_count": 60,
   "outputs": [
    {
     "name": "stdout",
     "output_type": "stream",
     "text": [
      "<class 'pandas.core.frame.DataFrame'>\n",
      "RangeIndex: 504 entries, 0 to 503\n",
      "Data columns (total 5 columns):\n",
      " #   Column            Non-Null Count  Dtype                    \n",
      "---  ------            --------------  -----                    \n",
      " 0   datetime          504 non-null    datetime64[ns, UTC-07:00]\n",
      " 1   TAC_AREA_NAME     504 non-null    object                   \n",
      " 2   MARKET_RUN_ID     504 non-null    object                   \n",
      " 3   actual_demand_MW  504 non-null    float64                  \n",
      " 4   site              504 non-null    object                   \n",
      "dtypes: datetime64[ns, UTC-07:00](1), float64(1), object(3)\n",
      "memory usage: 19.8+ KB\n"
     ]
    }
   ],
   "source": [
    "demand.reset_index().info()"
   ],
   "metadata": {
    "collapsed": false,
    "ExecuteTime": {
     "end_time": "2024-04-12T20:26:12.303556818Z",
     "start_time": "2024-04-12T20:26:12.221039354Z"
    }
   },
   "id": "1fd439294b47ea8c"
  },
  {
   "cell_type": "code",
   "execution_count": 61,
   "outputs": [
    {
     "name": "stdout",
     "output_type": "stream",
     "text": [
      "<class 'pandas.core.frame.DataFrame'>\n",
      "RangeIndex: 507 entries, 0 to 506\n",
      "Data columns (total 6 columns):\n",
      " #   Column      Non-Null Count  Dtype                    \n",
      "---  ------      --------------  -----                    \n",
      " 0   index       507 non-null    datetime64[ns, UTC-07:00]\n",
      " 1   dow         507 non-null    int32                    \n",
      " 2   hour        507 non-null    int32                    \n",
      " 3   month       507 non-null    int32                    \n",
      " 4   is_holiday  507 non-null    bool                     \n",
      " 5   site        507 non-null    object                   \n",
      "dtypes: bool(1), datetime64[ns, UTC-07:00](1), int32(3), object(1)\n",
      "memory usage: 14.5+ KB\n"
     ]
    }
   ],
   "source": [
    "X.reset_index().info()"
   ],
   "metadata": {
    "collapsed": false,
    "ExecuteTime": {
     "end_time": "2024-04-12T20:26:12.304435034Z",
     "start_time": "2024-04-12T20:26:12.261681872Z"
    }
   },
   "id": "43bb37c162dd1923"
  },
  {
   "cell_type": "code",
   "execution_count": 62,
   "outputs": [
    {
     "data": {
      "text/plain": "                                  dow  hour  month  is_holiday       site  \\\nindex                                                                       \n2024-04-12 14:26:06.012070-07:00    4    14      4       False  Office001   \n2024-04-12 15:26:06.012070-07:00    4    15      4       False  Office001   \n2024-04-12 16:26:06.012070-07:00    4    16      4       False  Office001   \n2024-04-12 17:26:06.012070-07:00    4    17      4       False  Office001   \n2024-04-12 18:26:06.012070-07:00    4    18      4       False  Office001   \n...                               ...   ...    ...         ...        ...   \n2024-04-19 10:26:06.012070-07:00    4    10      4       False        JPL   \n2024-04-19 11:26:06.012070-07:00    4    11      4       False        JPL   \n2024-04-19 12:26:06.012070-07:00    4    12      4       False        JPL   \n2024-04-19 13:26:06.012070-07:00    4    13      4       False        JPL   \n2024-04-19 14:26:06.012070-07:00    4    14      4       False        JPL   \n\n                                 datetime TAC_AREA_NAME MARKET_RUN_ID  \\\nindex                                                                   \n2024-04-12 14:26:06.012070-07:00      NaT           NaN           NaN   \n2024-04-12 15:26:06.012070-07:00      NaT           NaN           NaN   \n2024-04-12 16:26:06.012070-07:00      NaT           NaN           NaN   \n2024-04-12 17:26:06.012070-07:00      NaT           NaN           NaN   \n2024-04-12 18:26:06.012070-07:00      NaT           NaN           NaN   \n...                                   ...           ...           ...   \n2024-04-19 10:26:06.012070-07:00      NaT           NaN           NaN   \n2024-04-19 11:26:06.012070-07:00      NaT           NaN           NaN   \n2024-04-19 12:26:06.012070-07:00      NaT           NaN           NaN   \n2024-04-19 13:26:06.012070-07:00      NaT           NaN           NaN   \n2024-04-19 14:26:06.012070-07:00      NaT           NaN           NaN   \n\n                                  actual_demand_MW time  temperature_degC  \\\nindex                                                                       \n2024-04-12 14:26:06.012070-07:00               NaN  NaT               NaN   \n2024-04-12 15:26:06.012070-07:00               NaN  NaT               NaN   \n2024-04-12 16:26:06.012070-07:00               NaN  NaT               NaN   \n2024-04-12 17:26:06.012070-07:00               NaN  NaT               NaN   \n2024-04-12 18:26:06.012070-07:00               NaN  NaT               NaN   \n...                                            ...  ...               ...   \n2024-04-19 10:26:06.012070-07:00               NaN  NaT               NaN   \n2024-04-19 11:26:06.012070-07:00               NaN  NaT               NaN   \n2024-04-19 12:26:06.012070-07:00               NaN  NaT               NaN   \n2024-04-19 13:26:06.012070-07:00               NaN  NaT               NaN   \n2024-04-19 14:26:06.012070-07:00               NaN  NaT               NaN   \n\n                                  dewpoint_degC  relative_humidity_%  \\\nindex                                                                  \n2024-04-12 14:26:06.012070-07:00            NaN                  NaN   \n2024-04-12 15:26:06.012070-07:00            NaN                  NaN   \n2024-04-12 16:26:06.012070-07:00            NaN                  NaN   \n2024-04-12 17:26:06.012070-07:00            NaN                  NaN   \n2024-04-12 18:26:06.012070-07:00            NaN                  NaN   \n...                                         ...                  ...   \n2024-04-19 10:26:06.012070-07:00            NaN                  NaN   \n2024-04-19 11:26:06.012070-07:00            NaN                  NaN   \n2024-04-19 12:26:06.012070-07:00            NaN                  NaN   \n2024-04-19 13:26:06.012070-07:00            NaN                  NaN   \n2024-04-19 14:26:06.012070-07:00            NaN                  NaN   \n\n                                  wind_speed_mph  \nindex                                             \n2024-04-12 14:26:06.012070-07:00             NaN  \n2024-04-12 15:26:06.012070-07:00             NaN  \n2024-04-12 16:26:06.012070-07:00             NaN  \n2024-04-12 17:26:06.012070-07:00             NaN  \n2024-04-12 18:26:06.012070-07:00             NaN  \n...                                          ...  \n2024-04-19 10:26:06.012070-07:00             NaN  \n2024-04-19 11:26:06.012070-07:00             NaN  \n2024-04-19 12:26:06.012070-07:00             NaN  \n2024-04-19 13:26:06.012070-07:00             NaN  \n2024-04-19 14:26:06.012070-07:00             NaN  \n\n[507 rows x 14 columns]",
      "text/html": "<div>\n<style scoped>\n    .dataframe tbody tr th:only-of-type {\n        vertical-align: middle;\n    }\n\n    .dataframe tbody tr th {\n        vertical-align: top;\n    }\n\n    .dataframe thead th {\n        text-align: right;\n    }\n</style>\n<table border=\"1\" class=\"dataframe\">\n  <thead>\n    <tr style=\"text-align: right;\">\n      <th></th>\n      <th>dow</th>\n      <th>hour</th>\n      <th>month</th>\n      <th>is_holiday</th>\n      <th>site</th>\n      <th>datetime</th>\n      <th>TAC_AREA_NAME</th>\n      <th>MARKET_RUN_ID</th>\n      <th>actual_demand_MW</th>\n      <th>time</th>\n      <th>temperature_degC</th>\n      <th>dewpoint_degC</th>\n      <th>relative_humidity_%</th>\n      <th>wind_speed_mph</th>\n    </tr>\n    <tr>\n      <th>index</th>\n      <th></th>\n      <th></th>\n      <th></th>\n      <th></th>\n      <th></th>\n      <th></th>\n      <th></th>\n      <th></th>\n      <th></th>\n      <th></th>\n      <th></th>\n      <th></th>\n      <th></th>\n      <th></th>\n    </tr>\n  </thead>\n  <tbody>\n    <tr>\n      <th>2024-04-12 14:26:06.012070-07:00</th>\n      <td>4</td>\n      <td>14</td>\n      <td>4</td>\n      <td>False</td>\n      <td>Office001</td>\n      <td>NaT</td>\n      <td>NaN</td>\n      <td>NaN</td>\n      <td>NaN</td>\n      <td>NaT</td>\n      <td>NaN</td>\n      <td>NaN</td>\n      <td>NaN</td>\n      <td>NaN</td>\n    </tr>\n    <tr>\n      <th>2024-04-12 15:26:06.012070-07:00</th>\n      <td>4</td>\n      <td>15</td>\n      <td>4</td>\n      <td>False</td>\n      <td>Office001</td>\n      <td>NaT</td>\n      <td>NaN</td>\n      <td>NaN</td>\n      <td>NaN</td>\n      <td>NaT</td>\n      <td>NaN</td>\n      <td>NaN</td>\n      <td>NaN</td>\n      <td>NaN</td>\n    </tr>\n    <tr>\n      <th>2024-04-12 16:26:06.012070-07:00</th>\n      <td>4</td>\n      <td>16</td>\n      <td>4</td>\n      <td>False</td>\n      <td>Office001</td>\n      <td>NaT</td>\n      <td>NaN</td>\n      <td>NaN</td>\n      <td>NaN</td>\n      <td>NaT</td>\n      <td>NaN</td>\n      <td>NaN</td>\n      <td>NaN</td>\n      <td>NaN</td>\n    </tr>\n    <tr>\n      <th>2024-04-12 17:26:06.012070-07:00</th>\n      <td>4</td>\n      <td>17</td>\n      <td>4</td>\n      <td>False</td>\n      <td>Office001</td>\n      <td>NaT</td>\n      <td>NaN</td>\n      <td>NaN</td>\n      <td>NaN</td>\n      <td>NaT</td>\n      <td>NaN</td>\n      <td>NaN</td>\n      <td>NaN</td>\n      <td>NaN</td>\n    </tr>\n    <tr>\n      <th>2024-04-12 18:26:06.012070-07:00</th>\n      <td>4</td>\n      <td>18</td>\n      <td>4</td>\n      <td>False</td>\n      <td>Office001</td>\n      <td>NaT</td>\n      <td>NaN</td>\n      <td>NaN</td>\n      <td>NaN</td>\n      <td>NaT</td>\n      <td>NaN</td>\n      <td>NaN</td>\n      <td>NaN</td>\n      <td>NaN</td>\n    </tr>\n    <tr>\n      <th>...</th>\n      <td>...</td>\n      <td>...</td>\n      <td>...</td>\n      <td>...</td>\n      <td>...</td>\n      <td>...</td>\n      <td>...</td>\n      <td>...</td>\n      <td>...</td>\n      <td>...</td>\n      <td>...</td>\n      <td>...</td>\n      <td>...</td>\n      <td>...</td>\n    </tr>\n    <tr>\n      <th>2024-04-19 10:26:06.012070-07:00</th>\n      <td>4</td>\n      <td>10</td>\n      <td>4</td>\n      <td>False</td>\n      <td>JPL</td>\n      <td>NaT</td>\n      <td>NaN</td>\n      <td>NaN</td>\n      <td>NaN</td>\n      <td>NaT</td>\n      <td>NaN</td>\n      <td>NaN</td>\n      <td>NaN</td>\n      <td>NaN</td>\n    </tr>\n    <tr>\n      <th>2024-04-19 11:26:06.012070-07:00</th>\n      <td>4</td>\n      <td>11</td>\n      <td>4</td>\n      <td>False</td>\n      <td>JPL</td>\n      <td>NaT</td>\n      <td>NaN</td>\n      <td>NaN</td>\n      <td>NaN</td>\n      <td>NaT</td>\n      <td>NaN</td>\n      <td>NaN</td>\n      <td>NaN</td>\n      <td>NaN</td>\n    </tr>\n    <tr>\n      <th>2024-04-19 12:26:06.012070-07:00</th>\n      <td>4</td>\n      <td>12</td>\n      <td>4</td>\n      <td>False</td>\n      <td>JPL</td>\n      <td>NaT</td>\n      <td>NaN</td>\n      <td>NaN</td>\n      <td>NaN</td>\n      <td>NaT</td>\n      <td>NaN</td>\n      <td>NaN</td>\n      <td>NaN</td>\n      <td>NaN</td>\n    </tr>\n    <tr>\n      <th>2024-04-19 13:26:06.012070-07:00</th>\n      <td>4</td>\n      <td>13</td>\n      <td>4</td>\n      <td>False</td>\n      <td>JPL</td>\n      <td>NaT</td>\n      <td>NaN</td>\n      <td>NaN</td>\n      <td>NaN</td>\n      <td>NaT</td>\n      <td>NaN</td>\n      <td>NaN</td>\n      <td>NaN</td>\n      <td>NaN</td>\n    </tr>\n    <tr>\n      <th>2024-04-19 14:26:06.012070-07:00</th>\n      <td>4</td>\n      <td>14</td>\n      <td>4</td>\n      <td>False</td>\n      <td>JPL</td>\n      <td>NaT</td>\n      <td>NaN</td>\n      <td>NaN</td>\n      <td>NaN</td>\n      <td>NaT</td>\n      <td>NaN</td>\n      <td>NaN</td>\n      <td>NaN</td>\n      <td>NaN</td>\n    </tr>\n  </tbody>\n</table>\n<p>507 rows × 14 columns</p>\n</div>"
     },
     "execution_count": 62,
     "metadata": {},
     "output_type": "execute_result"
    }
   ],
   "source": [
    "tmp = pd.merge(X.reset_index(), demand.reset_index(), how='left', left_on=['index', 'site'], right_on=['datetime', 'site'])\n",
    "tmp = pd.merge(tmp, future_weather.reset_index(), how='left', left_on=['index','site'], right_on=['time', 'site'])\n",
    "tmp.set_index('index',inplace=True)\n",
    "tmp"
   ],
   "metadata": {
    "collapsed": false,
    "ExecuteTime": {
     "end_time": "2024-04-12T20:26:12.310202445Z",
     "start_time": "2024-04-12T20:26:12.262560075Z"
    }
   },
   "id": "4c109e774a94818"
  },
  {
   "cell_type": "code",
   "execution_count": 63,
   "outputs": [],
   "source": [
    "features = ['dow', 'hour', 'month', 'is_holiday', 'actual_demand_MW',\n",
    "       'temperature_degC', 'dewpoint_degC', 'relative_humidity_%',\n",
    "       'wind_speed_mph', 'site']\n",
    "tmp = tmp[features]"
   ],
   "metadata": {
    "collapsed": false,
    "ExecuteTime": {
     "end_time": "2024-04-12T20:26:12.426970331Z",
     "start_time": "2024-04-12T20:26:12.282878617Z"
    }
   },
   "id": "99b41c9d71dce8e8"
  },
  {
   "cell_type": "code",
   "execution_count": 64,
   "outputs": [
    {
     "data": {
      "text/plain": "Empty DataFrame\nColumns: [dow, hour, month, is_holiday, actual_demand_MW, temperature_degC, dewpoint_degC, relative_humidity_%, wind_speed_mph, site]\nIndex: []",
      "text/html": "<div>\n<style scoped>\n    .dataframe tbody tr th:only-of-type {\n        vertical-align: middle;\n    }\n\n    .dataframe tbody tr th {\n        vertical-align: top;\n    }\n\n    .dataframe thead th {\n        text-align: right;\n    }\n</style>\n<table border=\"1\" class=\"dataframe\">\n  <thead>\n    <tr style=\"text-align: right;\">\n      <th></th>\n      <th>dow</th>\n      <th>hour</th>\n      <th>month</th>\n      <th>is_holiday</th>\n      <th>actual_demand_MW</th>\n      <th>temperature_degC</th>\n      <th>dewpoint_degC</th>\n      <th>relative_humidity_%</th>\n      <th>wind_speed_mph</th>\n      <th>site</th>\n    </tr>\n    <tr>\n      <th>index</th>\n      <th></th>\n      <th></th>\n      <th></th>\n      <th></th>\n      <th></th>\n      <th></th>\n      <th></th>\n      <th></th>\n      <th></th>\n      <th></th>\n    </tr>\n  </thead>\n  <tbody>\n  </tbody>\n</table>\n</div>"
     },
     "execution_count": 64,
     "metadata": {},
     "output_type": "execute_result"
    }
   ],
   "source": [
    "tmp[(~tmp['actual_demand_MW'].isnull()) & (~tmp['temperature_degC'].isnull())]"
   ],
   "metadata": {
    "collapsed": false,
    "ExecuteTime": {
     "end_time": "2024-04-12T20:26:12.428954109Z",
     "start_time": "2024-04-12T20:26:12.325663443Z"
    }
   },
   "id": "14047f6072eb20a"
  },
  {
   "cell_type": "code",
   "execution_count": 65,
   "outputs": [
    {
     "data": {
      "text/plain": "Empty DataFrame\nColumns: [dow, hour, month, is_holiday, actual_demand_MW, temperature_degC, dewpoint_degC, relative_humidity_%, wind_speed_mph, site]\nIndex: []",
      "text/html": "<div>\n<style scoped>\n    .dataframe tbody tr th:only-of-type {\n        vertical-align: middle;\n    }\n\n    .dataframe tbody tr th {\n        vertical-align: top;\n    }\n\n    .dataframe thead th {\n        text-align: right;\n    }\n</style>\n<table border=\"1\" class=\"dataframe\">\n  <thead>\n    <tr style=\"text-align: right;\">\n      <th></th>\n      <th>dow</th>\n      <th>hour</th>\n      <th>month</th>\n      <th>is_holiday</th>\n      <th>actual_demand_MW</th>\n      <th>temperature_degC</th>\n      <th>dewpoint_degC</th>\n      <th>relative_humidity_%</th>\n      <th>wind_speed_mph</th>\n      <th>site</th>\n    </tr>\n    <tr>\n      <th>index</th>\n      <th></th>\n      <th></th>\n      <th></th>\n      <th></th>\n      <th></th>\n      <th></th>\n      <th></th>\n      <th></th>\n      <th></th>\n      <th></th>\n    </tr>\n  </thead>\n  <tbody>\n  </tbody>\n</table>\n</div>"
     },
     "execution_count": 65,
     "metadata": {},
     "output_type": "execute_result"
    }
   ],
   "source": [
    "# remove records missing data\n",
    "tmp = tmp[~tmp.isna().any(axis=1)]\n",
    "tmp"
   ],
   "metadata": {
    "collapsed": false,
    "ExecuteTime": {
     "end_time": "2024-04-12T20:26:12.430662671Z",
     "start_time": "2024-04-12T20:26:12.326201058Z"
    }
   },
   "id": "4c17ec9cf44af436"
  },
  {
   "cell_type": "markdown",
   "source": [
    "# grab model, inference"
   ],
   "metadata": {
    "collapsed": false
   },
   "id": "7a942f6905ccb3f9"
  },
  {
   "cell_type": "code",
   "execution_count": 66,
   "outputs": [
    {
     "data": {
      "text/plain": "Pipeline(steps=[('preprocessing',\n                 ColumnTransformer(transformers=[('num', StandardScaler(),\n                                                  ['actual_demand_MW',\n                                                   'temperature_degC',\n                                                   'dewpoint_degC',\n                                                   'relative_humidity_%',\n                                                   'wind_speed_mph']),\n                                                 ('cat',\n                                                  OneHotEncoder(drop='first',\n                                                                handle_unknown='ignore',\n                                                                sparse_output=False),\n                                                  ['dow', 'hour', 'month',\n                                                   'is_holiday', 'site'])])),\n                ('xgb',\n                 XGBRegressor(base_score=None, boo...\n                              feature_types=None, gamma=None, grow_policy=None,\n                              importance_type=None,\n                              interaction_constraints=None, learning_rate=None,\n                              max_bin=None, max_cat_threshold=None,\n                              max_cat_to_onehot=None, max_delta_step=None,\n                              max_depth=None, max_leaves=None,\n                              min_child_weight=None, missing=nan,\n                              monotone_constraints=None, multi_strategy=None,\n                              n_estimators=None, n_jobs=None,\n                              num_parallel_tree=None, random_state=None, ...))])",
      "text/html": "<style>#sk-container-id-1 {\n  /* Definition of color scheme common for light and dark mode */\n  --sklearn-color-text: black;\n  --sklearn-color-line: gray;\n  /* Definition of color scheme for unfitted estimators */\n  --sklearn-color-unfitted-level-0: #fff5e6;\n  --sklearn-color-unfitted-level-1: #f6e4d2;\n  --sklearn-color-unfitted-level-2: #ffe0b3;\n  --sklearn-color-unfitted-level-3: chocolate;\n  /* Definition of color scheme for fitted estimators */\n  --sklearn-color-fitted-level-0: #f0f8ff;\n  --sklearn-color-fitted-level-1: #d4ebff;\n  --sklearn-color-fitted-level-2: #b3dbfd;\n  --sklearn-color-fitted-level-3: cornflowerblue;\n\n  /* Specific color for light theme */\n  --sklearn-color-text-on-default-background: var(--sg-text-color, var(--theme-code-foreground, var(--jp-content-font-color1, black)));\n  --sklearn-color-background: var(--sg-background-color, var(--theme-background, var(--jp-layout-color0, white)));\n  --sklearn-color-border-box: var(--sg-text-color, var(--theme-code-foreground, var(--jp-content-font-color1, black)));\n  --sklearn-color-icon: #696969;\n\n  @media (prefers-color-scheme: dark) {\n    /* Redefinition of color scheme for dark theme */\n    --sklearn-color-text-on-default-background: var(--sg-text-color, var(--theme-code-foreground, var(--jp-content-font-color1, white)));\n    --sklearn-color-background: var(--sg-background-color, var(--theme-background, var(--jp-layout-color0, #111)));\n    --sklearn-color-border-box: var(--sg-text-color, var(--theme-code-foreground, var(--jp-content-font-color1, white)));\n    --sklearn-color-icon: #878787;\n  }\n}\n\n#sk-container-id-1 {\n  color: var(--sklearn-color-text);\n}\n\n#sk-container-id-1 pre {\n  padding: 0;\n}\n\n#sk-container-id-1 input.sk-hidden--visually {\n  border: 0;\n  clip: rect(1px 1px 1px 1px);\n  clip: rect(1px, 1px, 1px, 1px);\n  height: 1px;\n  margin: -1px;\n  overflow: hidden;\n  padding: 0;\n  position: absolute;\n  width: 1px;\n}\n\n#sk-container-id-1 div.sk-dashed-wrapped {\n  border: 1px dashed var(--sklearn-color-line);\n  margin: 0 0.4em 0.5em 0.4em;\n  box-sizing: border-box;\n  padding-bottom: 0.4em;\n  background-color: var(--sklearn-color-background);\n}\n\n#sk-container-id-1 div.sk-container {\n  /* jupyter's `normalize.less` sets `[hidden] { display: none; }`\n     but bootstrap.min.css set `[hidden] { display: none !important; }`\n     so we also need the `!important` here to be able to override the\n     default hidden behavior on the sphinx rendered scikit-learn.org.\n     See: https://github.com/scikit-learn/scikit-learn/issues/21755 */\n  display: inline-block !important;\n  position: relative;\n}\n\n#sk-container-id-1 div.sk-text-repr-fallback {\n  display: none;\n}\n\ndiv.sk-parallel-item,\ndiv.sk-serial,\ndiv.sk-item {\n  /* draw centered vertical line to link estimators */\n  background-image: linear-gradient(var(--sklearn-color-text-on-default-background), var(--sklearn-color-text-on-default-background));\n  background-size: 2px 100%;\n  background-repeat: no-repeat;\n  background-position: center center;\n}\n\n/* Parallel-specific style estimator block */\n\n#sk-container-id-1 div.sk-parallel-item::after {\n  content: \"\";\n  width: 100%;\n  border-bottom: 2px solid var(--sklearn-color-text-on-default-background);\n  flex-grow: 1;\n}\n\n#sk-container-id-1 div.sk-parallel {\n  display: flex;\n  align-items: stretch;\n  justify-content: center;\n  background-color: var(--sklearn-color-background);\n  position: relative;\n}\n\n#sk-container-id-1 div.sk-parallel-item {\n  display: flex;\n  flex-direction: column;\n}\n\n#sk-container-id-1 div.sk-parallel-item:first-child::after {\n  align-self: flex-end;\n  width: 50%;\n}\n\n#sk-container-id-1 div.sk-parallel-item:last-child::after {\n  align-self: flex-start;\n  width: 50%;\n}\n\n#sk-container-id-1 div.sk-parallel-item:only-child::after {\n  width: 0;\n}\n\n/* Serial-specific style estimator block */\n\n#sk-container-id-1 div.sk-serial {\n  display: flex;\n  flex-direction: column;\n  align-items: center;\n  background-color: var(--sklearn-color-background);\n  padding-right: 1em;\n  padding-left: 1em;\n}\n\n\n/* Toggleable style: style used for estimator/Pipeline/ColumnTransformer box that is\nclickable and can be expanded/collapsed.\n- Pipeline and ColumnTransformer use this feature and define the default style\n- Estimators will overwrite some part of the style using the `sk-estimator` class\n*/\n\n/* Pipeline and ColumnTransformer style (default) */\n\n#sk-container-id-1 div.sk-toggleable {\n  /* Default theme specific background. It is overwritten whether we have a\n  specific estimator or a Pipeline/ColumnTransformer */\n  background-color: var(--sklearn-color-background);\n}\n\n/* Toggleable label */\n#sk-container-id-1 label.sk-toggleable__label {\n  cursor: pointer;\n  display: block;\n  width: 100%;\n  margin-bottom: 0;\n  padding: 0.5em;\n  box-sizing: border-box;\n  text-align: center;\n}\n\n#sk-container-id-1 label.sk-toggleable__label-arrow:before {\n  /* Arrow on the left of the label */\n  content: \"▸\";\n  float: left;\n  margin-right: 0.25em;\n  color: var(--sklearn-color-icon);\n}\n\n#sk-container-id-1 label.sk-toggleable__label-arrow:hover:before {\n  color: var(--sklearn-color-text);\n}\n\n/* Toggleable content - dropdown */\n\n#sk-container-id-1 div.sk-toggleable__content {\n  max-height: 0;\n  max-width: 0;\n  overflow: hidden;\n  text-align: left;\n  /* unfitted */\n  background-color: var(--sklearn-color-unfitted-level-0);\n}\n\n#sk-container-id-1 div.sk-toggleable__content.fitted {\n  /* fitted */\n  background-color: var(--sklearn-color-fitted-level-0);\n}\n\n#sk-container-id-1 div.sk-toggleable__content pre {\n  margin: 0.2em;\n  border-radius: 0.25em;\n  color: var(--sklearn-color-text);\n  /* unfitted */\n  background-color: var(--sklearn-color-unfitted-level-0);\n}\n\n#sk-container-id-1 div.sk-toggleable__content.fitted pre {\n  /* unfitted */\n  background-color: var(--sklearn-color-fitted-level-0);\n}\n\n#sk-container-id-1 input.sk-toggleable__control:checked~div.sk-toggleable__content {\n  /* Expand drop-down */\n  max-height: 200px;\n  max-width: 100%;\n  overflow: auto;\n}\n\n#sk-container-id-1 input.sk-toggleable__control:checked~label.sk-toggleable__label-arrow:before {\n  content: \"▾\";\n}\n\n/* Pipeline/ColumnTransformer-specific style */\n\n#sk-container-id-1 div.sk-label input.sk-toggleable__control:checked~label.sk-toggleable__label {\n  color: var(--sklearn-color-text);\n  background-color: var(--sklearn-color-unfitted-level-2);\n}\n\n#sk-container-id-1 div.sk-label.fitted input.sk-toggleable__control:checked~label.sk-toggleable__label {\n  background-color: var(--sklearn-color-fitted-level-2);\n}\n\n/* Estimator-specific style */\n\n/* Colorize estimator box */\n#sk-container-id-1 div.sk-estimator input.sk-toggleable__control:checked~label.sk-toggleable__label {\n  /* unfitted */\n  background-color: var(--sklearn-color-unfitted-level-2);\n}\n\n#sk-container-id-1 div.sk-estimator.fitted input.sk-toggleable__control:checked~label.sk-toggleable__label {\n  /* fitted */\n  background-color: var(--sklearn-color-fitted-level-2);\n}\n\n#sk-container-id-1 div.sk-label label.sk-toggleable__label,\n#sk-container-id-1 div.sk-label label {\n  /* The background is the default theme color */\n  color: var(--sklearn-color-text-on-default-background);\n}\n\n/* On hover, darken the color of the background */\n#sk-container-id-1 div.sk-label:hover label.sk-toggleable__label {\n  color: var(--sklearn-color-text);\n  background-color: var(--sklearn-color-unfitted-level-2);\n}\n\n/* Label box, darken color on hover, fitted */\n#sk-container-id-1 div.sk-label.fitted:hover label.sk-toggleable__label.fitted {\n  color: var(--sklearn-color-text);\n  background-color: var(--sklearn-color-fitted-level-2);\n}\n\n/* Estimator label */\n\n#sk-container-id-1 div.sk-label label {\n  font-family: monospace;\n  font-weight: bold;\n  display: inline-block;\n  line-height: 1.2em;\n}\n\n#sk-container-id-1 div.sk-label-container {\n  text-align: center;\n}\n\n/* Estimator-specific */\n#sk-container-id-1 div.sk-estimator {\n  font-family: monospace;\n  border: 1px dotted var(--sklearn-color-border-box);\n  border-radius: 0.25em;\n  box-sizing: border-box;\n  margin-bottom: 0.5em;\n  /* unfitted */\n  background-color: var(--sklearn-color-unfitted-level-0);\n}\n\n#sk-container-id-1 div.sk-estimator.fitted {\n  /* fitted */\n  background-color: var(--sklearn-color-fitted-level-0);\n}\n\n/* on hover */\n#sk-container-id-1 div.sk-estimator:hover {\n  /* unfitted */\n  background-color: var(--sklearn-color-unfitted-level-2);\n}\n\n#sk-container-id-1 div.sk-estimator.fitted:hover {\n  /* fitted */\n  background-color: var(--sklearn-color-fitted-level-2);\n}\n\n/* Specification for estimator info (e.g. \"i\" and \"?\") */\n\n/* Common style for \"i\" and \"?\" */\n\n.sk-estimator-doc-link,\na:link.sk-estimator-doc-link,\na:visited.sk-estimator-doc-link {\n  float: right;\n  font-size: smaller;\n  line-height: 1em;\n  font-family: monospace;\n  background-color: var(--sklearn-color-background);\n  border-radius: 1em;\n  height: 1em;\n  width: 1em;\n  text-decoration: none !important;\n  margin-left: 1ex;\n  /* unfitted */\n  border: var(--sklearn-color-unfitted-level-1) 1pt solid;\n  color: var(--sklearn-color-unfitted-level-1);\n}\n\n.sk-estimator-doc-link.fitted,\na:link.sk-estimator-doc-link.fitted,\na:visited.sk-estimator-doc-link.fitted {\n  /* fitted */\n  border: var(--sklearn-color-fitted-level-1) 1pt solid;\n  color: var(--sklearn-color-fitted-level-1);\n}\n\n/* On hover */\ndiv.sk-estimator:hover .sk-estimator-doc-link:hover,\n.sk-estimator-doc-link:hover,\ndiv.sk-label-container:hover .sk-estimator-doc-link:hover,\n.sk-estimator-doc-link:hover {\n  /* unfitted */\n  background-color: var(--sklearn-color-unfitted-level-3);\n  color: var(--sklearn-color-background);\n  text-decoration: none;\n}\n\ndiv.sk-estimator.fitted:hover .sk-estimator-doc-link.fitted:hover,\n.sk-estimator-doc-link.fitted:hover,\ndiv.sk-label-container:hover .sk-estimator-doc-link.fitted:hover,\n.sk-estimator-doc-link.fitted:hover {\n  /* fitted */\n  background-color: var(--sklearn-color-fitted-level-3);\n  color: var(--sklearn-color-background);\n  text-decoration: none;\n}\n\n/* Span, style for the box shown on hovering the info icon */\n.sk-estimator-doc-link span {\n  display: none;\n  z-index: 9999;\n  position: relative;\n  font-weight: normal;\n  right: .2ex;\n  padding: .5ex;\n  margin: .5ex;\n  width: min-content;\n  min-width: 20ex;\n  max-width: 50ex;\n  color: var(--sklearn-color-text);\n  box-shadow: 2pt 2pt 4pt #999;\n  /* unfitted */\n  background: var(--sklearn-color-unfitted-level-0);\n  border: .5pt solid var(--sklearn-color-unfitted-level-3);\n}\n\n.sk-estimator-doc-link.fitted span {\n  /* fitted */\n  background: var(--sklearn-color-fitted-level-0);\n  border: var(--sklearn-color-fitted-level-3);\n}\n\n.sk-estimator-doc-link:hover span {\n  display: block;\n}\n\n/* \"?\"-specific style due to the `<a>` HTML tag */\n\n#sk-container-id-1 a.estimator_doc_link {\n  float: right;\n  font-size: 1rem;\n  line-height: 1em;\n  font-family: monospace;\n  background-color: var(--sklearn-color-background);\n  border-radius: 1rem;\n  height: 1rem;\n  width: 1rem;\n  text-decoration: none;\n  /* unfitted */\n  color: var(--sklearn-color-unfitted-level-1);\n  border: var(--sklearn-color-unfitted-level-1) 1pt solid;\n}\n\n#sk-container-id-1 a.estimator_doc_link.fitted {\n  /* fitted */\n  border: var(--sklearn-color-fitted-level-1) 1pt solid;\n  color: var(--sklearn-color-fitted-level-1);\n}\n\n/* On hover */\n#sk-container-id-1 a.estimator_doc_link:hover {\n  /* unfitted */\n  background-color: var(--sklearn-color-unfitted-level-3);\n  color: var(--sklearn-color-background);\n  text-decoration: none;\n}\n\n#sk-container-id-1 a.estimator_doc_link.fitted:hover {\n  /* fitted */\n  background-color: var(--sklearn-color-fitted-level-3);\n}\n</style><div id=\"sk-container-id-1\" class=\"sk-top-container\"><div class=\"sk-text-repr-fallback\"><pre>Pipeline(steps=[(&#x27;preprocessing&#x27;,\n                 ColumnTransformer(transformers=[(&#x27;num&#x27;, StandardScaler(),\n                                                  [&#x27;actual_demand_MW&#x27;,\n                                                   &#x27;temperature_degC&#x27;,\n                                                   &#x27;dewpoint_degC&#x27;,\n                                                   &#x27;relative_humidity_%&#x27;,\n                                                   &#x27;wind_speed_mph&#x27;]),\n                                                 (&#x27;cat&#x27;,\n                                                  OneHotEncoder(drop=&#x27;first&#x27;,\n                                                                handle_unknown=&#x27;ignore&#x27;,\n                                                                sparse_output=False),\n                                                  [&#x27;dow&#x27;, &#x27;hour&#x27;, &#x27;month&#x27;,\n                                                   &#x27;is_holiday&#x27;, &#x27;site&#x27;])])),\n                (&#x27;xgb&#x27;,\n                 XGBRegressor(base_score=None, boo...\n                              feature_types=None, gamma=None, grow_policy=None,\n                              importance_type=None,\n                              interaction_constraints=None, learning_rate=None,\n                              max_bin=None, max_cat_threshold=None,\n                              max_cat_to_onehot=None, max_delta_step=None,\n                              max_depth=None, max_leaves=None,\n                              min_child_weight=None, missing=nan,\n                              monotone_constraints=None, multi_strategy=None,\n                              n_estimators=None, n_jobs=None,\n                              num_parallel_tree=None, random_state=None, ...))])</pre><b>In a Jupyter environment, please rerun this cell to show the HTML representation or trust the notebook. <br />On GitHub, the HTML representation is unable to render, please try loading this page with nbviewer.org.</b></div><div class=\"sk-container\" hidden><div class=\"sk-item sk-dashed-wrapped\"><div class=\"sk-label-container\"><div class=\"sk-label fitted sk-toggleable\"><input class=\"sk-toggleable__control sk-hidden--visually\" id=\"sk-estimator-id-1\" type=\"checkbox\" ><label for=\"sk-estimator-id-1\" class=\"sk-toggleable__label fitted sk-toggleable__label-arrow fitted\">&nbsp;&nbsp;Pipeline<a class=\"sk-estimator-doc-link fitted\" rel=\"noreferrer\" target=\"_blank\" href=\"https://scikit-learn.org/1.4/modules/generated/sklearn.pipeline.Pipeline.html\">?<span>Documentation for Pipeline</span></a><span class=\"sk-estimator-doc-link fitted\">i<span>Fitted</span></span></label><div class=\"sk-toggleable__content fitted\"><pre>Pipeline(steps=[(&#x27;preprocessing&#x27;,\n                 ColumnTransformer(transformers=[(&#x27;num&#x27;, StandardScaler(),\n                                                  [&#x27;actual_demand_MW&#x27;,\n                                                   &#x27;temperature_degC&#x27;,\n                                                   &#x27;dewpoint_degC&#x27;,\n                                                   &#x27;relative_humidity_%&#x27;,\n                                                   &#x27;wind_speed_mph&#x27;]),\n                                                 (&#x27;cat&#x27;,\n                                                  OneHotEncoder(drop=&#x27;first&#x27;,\n                                                                handle_unknown=&#x27;ignore&#x27;,\n                                                                sparse_output=False),\n                                                  [&#x27;dow&#x27;, &#x27;hour&#x27;, &#x27;month&#x27;,\n                                                   &#x27;is_holiday&#x27;, &#x27;site&#x27;])])),\n                (&#x27;xgb&#x27;,\n                 XGBRegressor(base_score=None, boo...\n                              feature_types=None, gamma=None, grow_policy=None,\n                              importance_type=None,\n                              interaction_constraints=None, learning_rate=None,\n                              max_bin=None, max_cat_threshold=None,\n                              max_cat_to_onehot=None, max_delta_step=None,\n                              max_depth=None, max_leaves=None,\n                              min_child_weight=None, missing=nan,\n                              monotone_constraints=None, multi_strategy=None,\n                              n_estimators=None, n_jobs=None,\n                              num_parallel_tree=None, random_state=None, ...))])</pre></div> </div></div><div class=\"sk-serial\"><div class=\"sk-item sk-dashed-wrapped\"><div class=\"sk-label-container\"><div class=\"sk-label fitted sk-toggleable\"><input class=\"sk-toggleable__control sk-hidden--visually\" id=\"sk-estimator-id-2\" type=\"checkbox\" ><label for=\"sk-estimator-id-2\" class=\"sk-toggleable__label fitted sk-toggleable__label-arrow fitted\">&nbsp;preprocessing: ColumnTransformer<a class=\"sk-estimator-doc-link fitted\" rel=\"noreferrer\" target=\"_blank\" href=\"https://scikit-learn.org/1.4/modules/generated/sklearn.compose.ColumnTransformer.html\">?<span>Documentation for preprocessing: ColumnTransformer</span></a></label><div class=\"sk-toggleable__content fitted\"><pre>ColumnTransformer(transformers=[(&#x27;num&#x27;, StandardScaler(),\n                                 [&#x27;actual_demand_MW&#x27;, &#x27;temperature_degC&#x27;,\n                                  &#x27;dewpoint_degC&#x27;, &#x27;relative_humidity_%&#x27;,\n                                  &#x27;wind_speed_mph&#x27;]),\n                                (&#x27;cat&#x27;,\n                                 OneHotEncoder(drop=&#x27;first&#x27;,\n                                               handle_unknown=&#x27;ignore&#x27;,\n                                               sparse_output=False),\n                                 [&#x27;dow&#x27;, &#x27;hour&#x27;, &#x27;month&#x27;, &#x27;is_holiday&#x27;,\n                                  &#x27;site&#x27;])])</pre></div> </div></div><div class=\"sk-parallel\"><div class=\"sk-parallel-item\"><div class=\"sk-item\"><div class=\"sk-label-container\"><div class=\"sk-label fitted sk-toggleable\"><input class=\"sk-toggleable__control sk-hidden--visually\" id=\"sk-estimator-id-3\" type=\"checkbox\" ><label for=\"sk-estimator-id-3\" class=\"sk-toggleable__label fitted sk-toggleable__label-arrow fitted\">num</label><div class=\"sk-toggleable__content fitted\"><pre>[&#x27;actual_demand_MW&#x27;, &#x27;temperature_degC&#x27;, &#x27;dewpoint_degC&#x27;, &#x27;relative_humidity_%&#x27;, &#x27;wind_speed_mph&#x27;]</pre></div> </div></div><div class=\"sk-serial\"><div class=\"sk-item\"><div class=\"sk-estimator fitted sk-toggleable\"><input class=\"sk-toggleable__control sk-hidden--visually\" id=\"sk-estimator-id-4\" type=\"checkbox\" ><label for=\"sk-estimator-id-4\" class=\"sk-toggleable__label fitted sk-toggleable__label-arrow fitted\">&nbsp;StandardScaler<a class=\"sk-estimator-doc-link fitted\" rel=\"noreferrer\" target=\"_blank\" href=\"https://scikit-learn.org/1.4/modules/generated/sklearn.preprocessing.StandardScaler.html\">?<span>Documentation for StandardScaler</span></a></label><div class=\"sk-toggleable__content fitted\"><pre>StandardScaler()</pre></div> </div></div></div></div></div><div class=\"sk-parallel-item\"><div class=\"sk-item\"><div class=\"sk-label-container\"><div class=\"sk-label fitted sk-toggleable\"><input class=\"sk-toggleable__control sk-hidden--visually\" id=\"sk-estimator-id-5\" type=\"checkbox\" ><label for=\"sk-estimator-id-5\" class=\"sk-toggleable__label fitted sk-toggleable__label-arrow fitted\">cat</label><div class=\"sk-toggleable__content fitted\"><pre>[&#x27;dow&#x27;, &#x27;hour&#x27;, &#x27;month&#x27;, &#x27;is_holiday&#x27;, &#x27;site&#x27;]</pre></div> </div></div><div class=\"sk-serial\"><div class=\"sk-item\"><div class=\"sk-estimator fitted sk-toggleable\"><input class=\"sk-toggleable__control sk-hidden--visually\" id=\"sk-estimator-id-6\" type=\"checkbox\" ><label for=\"sk-estimator-id-6\" class=\"sk-toggleable__label fitted sk-toggleable__label-arrow fitted\">&nbsp;OneHotEncoder<a class=\"sk-estimator-doc-link fitted\" rel=\"noreferrer\" target=\"_blank\" href=\"https://scikit-learn.org/1.4/modules/generated/sklearn.preprocessing.OneHotEncoder.html\">?<span>Documentation for OneHotEncoder</span></a></label><div class=\"sk-toggleable__content fitted\"><pre>OneHotEncoder(drop=&#x27;first&#x27;, handle_unknown=&#x27;ignore&#x27;, sparse_output=False)</pre></div> </div></div></div></div></div></div></div><div class=\"sk-item\"><div class=\"sk-estimator fitted sk-toggleable\"><input class=\"sk-toggleable__control sk-hidden--visually\" id=\"sk-estimator-id-7\" type=\"checkbox\" ><label for=\"sk-estimator-id-7\" class=\"sk-toggleable__label fitted sk-toggleable__label-arrow fitted\">XGBRegressor</label><div class=\"sk-toggleable__content fitted\"><pre>XGBRegressor(base_score=None, booster=None, callbacks=None,\n             colsample_bylevel=None, colsample_bynode=None,\n             colsample_bytree=None, device=None, early_stopping_rounds=None,\n             enable_categorical=False, eval_metric=None, feature_types=None,\n             gamma=None, grow_policy=None, importance_type=None,\n             interaction_constraints=None, learning_rate=None, max_bin=None,\n             max_cat_threshold=None, max_cat_to_onehot=None,\n             max_delta_step=None, max_depth=None, max_leaves=None,\n             min_child_weight=None, missing=nan, monotone_constraints=None,\n             multi_strategy=None, n_estimators=None, n_jobs=None,\n             num_parallel_tree=None, random_state=None, ...)</pre></div> </div></div></div></div></div></div>"
     },
     "execution_count": 66,
     "metadata": {},
     "output_type": "execute_result"
    }
   ],
   "source": [
    "model = pickle.load(open('./model_04_10.pkl', 'rb'))\n",
    "model"
   ],
   "metadata": {
    "collapsed": false,
    "ExecuteTime": {
     "end_time": "2024-04-12T20:26:12.436519796Z",
     "start_time": "2024-04-12T20:26:12.326521639Z"
    }
   },
   "id": "b9d1c18d2ea4d454"
  },
  {
   "cell_type": "code",
   "execution_count": 67,
   "outputs": [
    {
     "ename": "ValueError",
     "evalue": "Found array with 0 sample(s) (shape=(0, 5)) while a minimum of 1 is required by StandardScaler.",
     "output_type": "error",
     "traceback": [
      "\u001B[0;31m---------------------------------------------------------------------------\u001B[0m",
      "\u001B[0;31mValueError\u001B[0m                                Traceback (most recent call last)",
      "Cell \u001B[0;32mIn[67], line 2\u001B[0m\n\u001B[1;32m      1\u001B[0m \u001B[38;5;28;01mfor\u001B[39;00m site \u001B[38;5;129;01min\u001B[39;00m sites:\n\u001B[0;32m----> 2\u001B[0m     pred \u001B[38;5;241m=\u001B[39m model\u001B[38;5;241m.\u001B[39mpredict(tmp[tmp[\u001B[38;5;124m'\u001B[39m\u001B[38;5;124msite\u001B[39m\u001B[38;5;124m'\u001B[39m]\u001B[38;5;241m==\u001B[39msite])\n\u001B[1;32m      3\u001B[0m     plt\u001B[38;5;241m.\u001B[39mplot(tmp[tmp[\u001B[38;5;124m'\u001B[39m\u001B[38;5;124msite\u001B[39m\u001B[38;5;124m'\u001B[39m]\u001B[38;5;241m==\u001B[39msite]\u001B[38;5;241m.\u001B[39mindex, pred, label\u001B[38;5;241m=\u001B[39msite)\n\u001B[1;32m      5\u001B[0m plt\u001B[38;5;241m.\u001B[39mtitle(\u001B[38;5;124m'\u001B[39m\u001B[38;5;124mExample of inference\u001B[39m\u001B[38;5;124m'\u001B[39m)\n",
      "File \u001B[0;32m~/anaconda3/envs/ev/lib/python3.11/site-packages/sklearn/pipeline.py:602\u001B[0m, in \u001B[0;36mPipeline.predict\u001B[0;34m(self, X, **params)\u001B[0m\n\u001B[1;32m    600\u001B[0m \u001B[38;5;28;01mif\u001B[39;00m \u001B[38;5;129;01mnot\u001B[39;00m _routing_enabled():\n\u001B[1;32m    601\u001B[0m     \u001B[38;5;28;01mfor\u001B[39;00m _, name, transform \u001B[38;5;129;01min\u001B[39;00m \u001B[38;5;28mself\u001B[39m\u001B[38;5;241m.\u001B[39m_iter(with_final\u001B[38;5;241m=\u001B[39m\u001B[38;5;28;01mFalse\u001B[39;00m):\n\u001B[0;32m--> 602\u001B[0m         Xt \u001B[38;5;241m=\u001B[39m transform\u001B[38;5;241m.\u001B[39mtransform(Xt)\n\u001B[1;32m    603\u001B[0m     \u001B[38;5;28;01mreturn\u001B[39;00m \u001B[38;5;28mself\u001B[39m\u001B[38;5;241m.\u001B[39msteps[\u001B[38;5;241m-\u001B[39m\u001B[38;5;241m1\u001B[39m][\u001B[38;5;241m1\u001B[39m]\u001B[38;5;241m.\u001B[39mpredict(Xt, \u001B[38;5;241m*\u001B[39m\u001B[38;5;241m*\u001B[39mparams)\n\u001B[1;32m    605\u001B[0m \u001B[38;5;66;03m# metadata routing enabled\u001B[39;00m\n",
      "File \u001B[0;32m~/anaconda3/envs/ev/lib/python3.11/site-packages/sklearn/utils/_set_output.py:295\u001B[0m, in \u001B[0;36m_wrap_method_output.<locals>.wrapped\u001B[0;34m(self, X, *args, **kwargs)\u001B[0m\n\u001B[1;32m    293\u001B[0m \u001B[38;5;129m@wraps\u001B[39m(f)\n\u001B[1;32m    294\u001B[0m \u001B[38;5;28;01mdef\u001B[39;00m \u001B[38;5;21mwrapped\u001B[39m(\u001B[38;5;28mself\u001B[39m, X, \u001B[38;5;241m*\u001B[39margs, \u001B[38;5;241m*\u001B[39m\u001B[38;5;241m*\u001B[39mkwargs):\n\u001B[0;32m--> 295\u001B[0m     data_to_wrap \u001B[38;5;241m=\u001B[39m f(\u001B[38;5;28mself\u001B[39m, X, \u001B[38;5;241m*\u001B[39margs, \u001B[38;5;241m*\u001B[39m\u001B[38;5;241m*\u001B[39mkwargs)\n\u001B[1;32m    296\u001B[0m     \u001B[38;5;28;01mif\u001B[39;00m \u001B[38;5;28misinstance\u001B[39m(data_to_wrap, \u001B[38;5;28mtuple\u001B[39m):\n\u001B[1;32m    297\u001B[0m         \u001B[38;5;66;03m# only wrap the first output for cross decomposition\u001B[39;00m\n\u001B[1;32m    298\u001B[0m         return_tuple \u001B[38;5;241m=\u001B[39m (\n\u001B[1;32m    299\u001B[0m             _wrap_data_with_container(method, data_to_wrap[\u001B[38;5;241m0\u001B[39m], X, \u001B[38;5;28mself\u001B[39m),\n\u001B[1;32m    300\u001B[0m             \u001B[38;5;241m*\u001B[39mdata_to_wrap[\u001B[38;5;241m1\u001B[39m:],\n\u001B[1;32m    301\u001B[0m         )\n",
      "File \u001B[0;32m~/anaconda3/envs/ev/lib/python3.11/site-packages/sklearn/compose/_column_transformer.py:1014\u001B[0m, in \u001B[0;36mColumnTransformer.transform\u001B[0;34m(self, X, **params)\u001B[0m\n\u001B[1;32m   1011\u001B[0m \u001B[38;5;28;01melse\u001B[39;00m:\n\u001B[1;32m   1012\u001B[0m     routed_params \u001B[38;5;241m=\u001B[39m \u001B[38;5;28mself\u001B[39m\u001B[38;5;241m.\u001B[39m_get_empty_routing()\n\u001B[0;32m-> 1014\u001B[0m Xs \u001B[38;5;241m=\u001B[39m \u001B[38;5;28mself\u001B[39m\u001B[38;5;241m.\u001B[39m_call_func_on_transformers(\n\u001B[1;32m   1015\u001B[0m     X,\n\u001B[1;32m   1016\u001B[0m     \u001B[38;5;28;01mNone\u001B[39;00m,\n\u001B[1;32m   1017\u001B[0m     _transform_one,\n\u001B[1;32m   1018\u001B[0m     column_as_labels\u001B[38;5;241m=\u001B[39mfit_dataframe_and_transform_dataframe,\n\u001B[1;32m   1019\u001B[0m     routed_params\u001B[38;5;241m=\u001B[39mrouted_params,\n\u001B[1;32m   1020\u001B[0m )\n\u001B[1;32m   1021\u001B[0m \u001B[38;5;28mself\u001B[39m\u001B[38;5;241m.\u001B[39m_validate_output(Xs)\n\u001B[1;32m   1023\u001B[0m \u001B[38;5;28;01mif\u001B[39;00m \u001B[38;5;129;01mnot\u001B[39;00m Xs:\n\u001B[1;32m   1024\u001B[0m     \u001B[38;5;66;03m# All transformers are None\u001B[39;00m\n",
      "File \u001B[0;32m~/anaconda3/envs/ev/lib/python3.11/site-packages/sklearn/compose/_column_transformer.py:823\u001B[0m, in \u001B[0;36mColumnTransformer._call_func_on_transformers\u001B[0;34m(self, X, y, func, column_as_labels, routed_params)\u001B[0m\n\u001B[1;32m    811\u001B[0m             extra_args \u001B[38;5;241m=\u001B[39m {}\n\u001B[1;32m    812\u001B[0m         jobs\u001B[38;5;241m.\u001B[39mappend(\n\u001B[1;32m    813\u001B[0m             delayed(func)(\n\u001B[1;32m    814\u001B[0m                 transformer\u001B[38;5;241m=\u001B[39mclone(trans) \u001B[38;5;28;01mif\u001B[39;00m \u001B[38;5;129;01mnot\u001B[39;00m fitted \u001B[38;5;28;01melse\u001B[39;00m trans,\n\u001B[0;32m   (...)\u001B[0m\n\u001B[1;32m    820\u001B[0m             )\n\u001B[1;32m    821\u001B[0m         )\n\u001B[0;32m--> 823\u001B[0m     \u001B[38;5;28;01mreturn\u001B[39;00m Parallel(n_jobs\u001B[38;5;241m=\u001B[39m\u001B[38;5;28mself\u001B[39m\u001B[38;5;241m.\u001B[39mn_jobs)(jobs)\n\u001B[1;32m    825\u001B[0m \u001B[38;5;28;01mexcept\u001B[39;00m \u001B[38;5;167;01mValueError\u001B[39;00m \u001B[38;5;28;01mas\u001B[39;00m e:\n\u001B[1;32m    826\u001B[0m     \u001B[38;5;28;01mif\u001B[39;00m \u001B[38;5;124m\"\u001B[39m\u001B[38;5;124mExpected 2D array, got 1D array instead\u001B[39m\u001B[38;5;124m\"\u001B[39m \u001B[38;5;129;01min\u001B[39;00m \u001B[38;5;28mstr\u001B[39m(e):\n",
      "File \u001B[0;32m~/anaconda3/envs/ev/lib/python3.11/site-packages/sklearn/utils/parallel.py:67\u001B[0m, in \u001B[0;36mParallel.__call__\u001B[0;34m(self, iterable)\u001B[0m\n\u001B[1;32m     62\u001B[0m config \u001B[38;5;241m=\u001B[39m get_config()\n\u001B[1;32m     63\u001B[0m iterable_with_config \u001B[38;5;241m=\u001B[39m (\n\u001B[1;32m     64\u001B[0m     (_with_config(delayed_func, config), args, kwargs)\n\u001B[1;32m     65\u001B[0m     \u001B[38;5;28;01mfor\u001B[39;00m delayed_func, args, kwargs \u001B[38;5;129;01min\u001B[39;00m iterable\n\u001B[1;32m     66\u001B[0m )\n\u001B[0;32m---> 67\u001B[0m \u001B[38;5;28;01mreturn\u001B[39;00m \u001B[38;5;28msuper\u001B[39m()\u001B[38;5;241m.\u001B[39m\u001B[38;5;21m__call__\u001B[39m(iterable_with_config)\n",
      "File \u001B[0;32m~/anaconda3/envs/ev/lib/python3.11/site-packages/joblib/parallel.py:1863\u001B[0m, in \u001B[0;36mParallel.__call__\u001B[0;34m(self, iterable)\u001B[0m\n\u001B[1;32m   1861\u001B[0m     output \u001B[38;5;241m=\u001B[39m \u001B[38;5;28mself\u001B[39m\u001B[38;5;241m.\u001B[39m_get_sequential_output(iterable)\n\u001B[1;32m   1862\u001B[0m     \u001B[38;5;28mnext\u001B[39m(output)\n\u001B[0;32m-> 1863\u001B[0m     \u001B[38;5;28;01mreturn\u001B[39;00m output \u001B[38;5;28;01mif\u001B[39;00m \u001B[38;5;28mself\u001B[39m\u001B[38;5;241m.\u001B[39mreturn_generator \u001B[38;5;28;01melse\u001B[39;00m \u001B[38;5;28mlist\u001B[39m(output)\n\u001B[1;32m   1865\u001B[0m \u001B[38;5;66;03m# Let's create an ID that uniquely identifies the current call. If the\u001B[39;00m\n\u001B[1;32m   1866\u001B[0m \u001B[38;5;66;03m# call is interrupted early and that the same instance is immediately\u001B[39;00m\n\u001B[1;32m   1867\u001B[0m \u001B[38;5;66;03m# re-used, this id will be used to prevent workers that were\u001B[39;00m\n\u001B[1;32m   1868\u001B[0m \u001B[38;5;66;03m# concurrently finalizing a task from the previous call to run the\u001B[39;00m\n\u001B[1;32m   1869\u001B[0m \u001B[38;5;66;03m# callback.\u001B[39;00m\n\u001B[1;32m   1870\u001B[0m \u001B[38;5;28;01mwith\u001B[39;00m \u001B[38;5;28mself\u001B[39m\u001B[38;5;241m.\u001B[39m_lock:\n",
      "File \u001B[0;32m~/anaconda3/envs/ev/lib/python3.11/site-packages/joblib/parallel.py:1792\u001B[0m, in \u001B[0;36mParallel._get_sequential_output\u001B[0;34m(self, iterable)\u001B[0m\n\u001B[1;32m   1790\u001B[0m \u001B[38;5;28mself\u001B[39m\u001B[38;5;241m.\u001B[39mn_dispatched_batches \u001B[38;5;241m+\u001B[39m\u001B[38;5;241m=\u001B[39m \u001B[38;5;241m1\u001B[39m\n\u001B[1;32m   1791\u001B[0m \u001B[38;5;28mself\u001B[39m\u001B[38;5;241m.\u001B[39mn_dispatched_tasks \u001B[38;5;241m+\u001B[39m\u001B[38;5;241m=\u001B[39m \u001B[38;5;241m1\u001B[39m\n\u001B[0;32m-> 1792\u001B[0m res \u001B[38;5;241m=\u001B[39m func(\u001B[38;5;241m*\u001B[39margs, \u001B[38;5;241m*\u001B[39m\u001B[38;5;241m*\u001B[39mkwargs)\n\u001B[1;32m   1793\u001B[0m \u001B[38;5;28mself\u001B[39m\u001B[38;5;241m.\u001B[39mn_completed_tasks \u001B[38;5;241m+\u001B[39m\u001B[38;5;241m=\u001B[39m \u001B[38;5;241m1\u001B[39m\n\u001B[1;32m   1794\u001B[0m \u001B[38;5;28mself\u001B[39m\u001B[38;5;241m.\u001B[39mprint_progress()\n",
      "File \u001B[0;32m~/anaconda3/envs/ev/lib/python3.11/site-packages/sklearn/utils/parallel.py:129\u001B[0m, in \u001B[0;36m_FuncWrapper.__call__\u001B[0;34m(self, *args, **kwargs)\u001B[0m\n\u001B[1;32m    127\u001B[0m     config \u001B[38;5;241m=\u001B[39m {}\n\u001B[1;32m    128\u001B[0m \u001B[38;5;28;01mwith\u001B[39;00m config_context(\u001B[38;5;241m*\u001B[39m\u001B[38;5;241m*\u001B[39mconfig):\n\u001B[0;32m--> 129\u001B[0m     \u001B[38;5;28;01mreturn\u001B[39;00m \u001B[38;5;28mself\u001B[39m\u001B[38;5;241m.\u001B[39mfunction(\u001B[38;5;241m*\u001B[39margs, \u001B[38;5;241m*\u001B[39m\u001B[38;5;241m*\u001B[39mkwargs)\n",
      "File \u001B[0;32m~/anaconda3/envs/ev/lib/python3.11/site-packages/sklearn/pipeline.py:1283\u001B[0m, in \u001B[0;36m_transform_one\u001B[0;34m(transformer, X, y, weight, params)\u001B[0m\n\u001B[1;32m   1261\u001B[0m \u001B[38;5;28;01mdef\u001B[39;00m \u001B[38;5;21m_transform_one\u001B[39m(transformer, X, y, weight, params):\n\u001B[1;32m   1262\u001B[0m \u001B[38;5;250m    \u001B[39m\u001B[38;5;124;03m\"\"\"Call transform and apply weight to output.\u001B[39;00m\n\u001B[1;32m   1263\u001B[0m \n\u001B[1;32m   1264\u001B[0m \u001B[38;5;124;03m    Parameters\u001B[39;00m\n\u001B[0;32m   (...)\u001B[0m\n\u001B[1;32m   1281\u001B[0m \u001B[38;5;124;03m        This should be of the form ``process_routing()[\"step_name\"]``.\u001B[39;00m\n\u001B[1;32m   1282\u001B[0m \u001B[38;5;124;03m    \"\"\"\u001B[39;00m\n\u001B[0;32m-> 1283\u001B[0m     res \u001B[38;5;241m=\u001B[39m transformer\u001B[38;5;241m.\u001B[39mtransform(X, \u001B[38;5;241m*\u001B[39m\u001B[38;5;241m*\u001B[39mparams\u001B[38;5;241m.\u001B[39mtransform)\n\u001B[1;32m   1284\u001B[0m     \u001B[38;5;66;03m# if we have a weight for this transformer, multiply output\u001B[39;00m\n\u001B[1;32m   1285\u001B[0m     \u001B[38;5;28;01mif\u001B[39;00m weight \u001B[38;5;129;01mis\u001B[39;00m \u001B[38;5;28;01mNone\u001B[39;00m:\n",
      "File \u001B[0;32m~/anaconda3/envs/ev/lib/python3.11/site-packages/sklearn/utils/_set_output.py:295\u001B[0m, in \u001B[0;36m_wrap_method_output.<locals>.wrapped\u001B[0;34m(self, X, *args, **kwargs)\u001B[0m\n\u001B[1;32m    293\u001B[0m \u001B[38;5;129m@wraps\u001B[39m(f)\n\u001B[1;32m    294\u001B[0m \u001B[38;5;28;01mdef\u001B[39;00m \u001B[38;5;21mwrapped\u001B[39m(\u001B[38;5;28mself\u001B[39m, X, \u001B[38;5;241m*\u001B[39margs, \u001B[38;5;241m*\u001B[39m\u001B[38;5;241m*\u001B[39mkwargs):\n\u001B[0;32m--> 295\u001B[0m     data_to_wrap \u001B[38;5;241m=\u001B[39m f(\u001B[38;5;28mself\u001B[39m, X, \u001B[38;5;241m*\u001B[39margs, \u001B[38;5;241m*\u001B[39m\u001B[38;5;241m*\u001B[39mkwargs)\n\u001B[1;32m    296\u001B[0m     \u001B[38;5;28;01mif\u001B[39;00m \u001B[38;5;28misinstance\u001B[39m(data_to_wrap, \u001B[38;5;28mtuple\u001B[39m):\n\u001B[1;32m    297\u001B[0m         \u001B[38;5;66;03m# only wrap the first output for cross decomposition\u001B[39;00m\n\u001B[1;32m    298\u001B[0m         return_tuple \u001B[38;5;241m=\u001B[39m (\n\u001B[1;32m    299\u001B[0m             _wrap_data_with_container(method, data_to_wrap[\u001B[38;5;241m0\u001B[39m], X, \u001B[38;5;28mself\u001B[39m),\n\u001B[1;32m    300\u001B[0m             \u001B[38;5;241m*\u001B[39mdata_to_wrap[\u001B[38;5;241m1\u001B[39m:],\n\u001B[1;32m    301\u001B[0m         )\n",
      "File \u001B[0;32m~/anaconda3/envs/ev/lib/python3.11/site-packages/sklearn/preprocessing/_data.py:1043\u001B[0m, in \u001B[0;36mStandardScaler.transform\u001B[0;34m(self, X, copy)\u001B[0m\n\u001B[1;32m   1040\u001B[0m check_is_fitted(\u001B[38;5;28mself\u001B[39m)\n\u001B[1;32m   1042\u001B[0m copy \u001B[38;5;241m=\u001B[39m copy \u001B[38;5;28;01mif\u001B[39;00m copy \u001B[38;5;129;01mis\u001B[39;00m \u001B[38;5;129;01mnot\u001B[39;00m \u001B[38;5;28;01mNone\u001B[39;00m \u001B[38;5;28;01melse\u001B[39;00m \u001B[38;5;28mself\u001B[39m\u001B[38;5;241m.\u001B[39mcopy\n\u001B[0;32m-> 1043\u001B[0m X \u001B[38;5;241m=\u001B[39m \u001B[38;5;28mself\u001B[39m\u001B[38;5;241m.\u001B[39m_validate_data(\n\u001B[1;32m   1044\u001B[0m     X,\n\u001B[1;32m   1045\u001B[0m     reset\u001B[38;5;241m=\u001B[39m\u001B[38;5;28;01mFalse\u001B[39;00m,\n\u001B[1;32m   1046\u001B[0m     accept_sparse\u001B[38;5;241m=\u001B[39m\u001B[38;5;124m\"\u001B[39m\u001B[38;5;124mcsr\u001B[39m\u001B[38;5;124m\"\u001B[39m,\n\u001B[1;32m   1047\u001B[0m     copy\u001B[38;5;241m=\u001B[39mcopy,\n\u001B[1;32m   1048\u001B[0m     dtype\u001B[38;5;241m=\u001B[39mFLOAT_DTYPES,\n\u001B[1;32m   1049\u001B[0m     force_all_finite\u001B[38;5;241m=\u001B[39m\u001B[38;5;124m\"\u001B[39m\u001B[38;5;124mallow-nan\u001B[39m\u001B[38;5;124m\"\u001B[39m,\n\u001B[1;32m   1050\u001B[0m )\n\u001B[1;32m   1052\u001B[0m \u001B[38;5;28;01mif\u001B[39;00m sparse\u001B[38;5;241m.\u001B[39missparse(X):\n\u001B[1;32m   1053\u001B[0m     \u001B[38;5;28;01mif\u001B[39;00m \u001B[38;5;28mself\u001B[39m\u001B[38;5;241m.\u001B[39mwith_mean:\n",
      "File \u001B[0;32m~/anaconda3/envs/ev/lib/python3.11/site-packages/sklearn/base.py:633\u001B[0m, in \u001B[0;36mBaseEstimator._validate_data\u001B[0;34m(self, X, y, reset, validate_separately, cast_to_ndarray, **check_params)\u001B[0m\n\u001B[1;32m    631\u001B[0m         out \u001B[38;5;241m=\u001B[39m X, y\n\u001B[1;32m    632\u001B[0m \u001B[38;5;28;01melif\u001B[39;00m \u001B[38;5;129;01mnot\u001B[39;00m no_val_X \u001B[38;5;129;01mand\u001B[39;00m no_val_y:\n\u001B[0;32m--> 633\u001B[0m     out \u001B[38;5;241m=\u001B[39m check_array(X, input_name\u001B[38;5;241m=\u001B[39m\u001B[38;5;124m\"\u001B[39m\u001B[38;5;124mX\u001B[39m\u001B[38;5;124m\"\u001B[39m, \u001B[38;5;241m*\u001B[39m\u001B[38;5;241m*\u001B[39mcheck_params)\n\u001B[1;32m    634\u001B[0m \u001B[38;5;28;01melif\u001B[39;00m no_val_X \u001B[38;5;129;01mand\u001B[39;00m \u001B[38;5;129;01mnot\u001B[39;00m no_val_y:\n\u001B[1;32m    635\u001B[0m     out \u001B[38;5;241m=\u001B[39m _check_y(y, \u001B[38;5;241m*\u001B[39m\u001B[38;5;241m*\u001B[39mcheck_params)\n",
      "File \u001B[0;32m~/anaconda3/envs/ev/lib/python3.11/site-packages/sklearn/utils/validation.py:1072\u001B[0m, in \u001B[0;36mcheck_array\u001B[0;34m(array, accept_sparse, accept_large_sparse, dtype, order, copy, force_all_finite, ensure_2d, allow_nd, ensure_min_samples, ensure_min_features, estimator, input_name)\u001B[0m\n\u001B[1;32m   1070\u001B[0m     n_samples \u001B[38;5;241m=\u001B[39m _num_samples(array)\n\u001B[1;32m   1071\u001B[0m     \u001B[38;5;28;01mif\u001B[39;00m n_samples \u001B[38;5;241m<\u001B[39m ensure_min_samples:\n\u001B[0;32m-> 1072\u001B[0m         \u001B[38;5;28;01mraise\u001B[39;00m \u001B[38;5;167;01mValueError\u001B[39;00m(\n\u001B[1;32m   1073\u001B[0m             \u001B[38;5;124m\"\u001B[39m\u001B[38;5;124mFound array with \u001B[39m\u001B[38;5;132;01m%d\u001B[39;00m\u001B[38;5;124m sample(s) (shape=\u001B[39m\u001B[38;5;132;01m%s\u001B[39;00m\u001B[38;5;124m) while a\u001B[39m\u001B[38;5;124m\"\u001B[39m\n\u001B[1;32m   1074\u001B[0m             \u001B[38;5;124m\"\u001B[39m\u001B[38;5;124m minimum of \u001B[39m\u001B[38;5;132;01m%d\u001B[39;00m\u001B[38;5;124m is required\u001B[39m\u001B[38;5;132;01m%s\u001B[39;00m\u001B[38;5;124m.\u001B[39m\u001B[38;5;124m\"\u001B[39m\n\u001B[1;32m   1075\u001B[0m             \u001B[38;5;241m%\u001B[39m (n_samples, array\u001B[38;5;241m.\u001B[39mshape, ensure_min_samples, context)\n\u001B[1;32m   1076\u001B[0m         )\n\u001B[1;32m   1078\u001B[0m \u001B[38;5;28;01mif\u001B[39;00m ensure_min_features \u001B[38;5;241m>\u001B[39m \u001B[38;5;241m0\u001B[39m \u001B[38;5;129;01mand\u001B[39;00m array\u001B[38;5;241m.\u001B[39mndim \u001B[38;5;241m==\u001B[39m \u001B[38;5;241m2\u001B[39m:\n\u001B[1;32m   1079\u001B[0m     n_features \u001B[38;5;241m=\u001B[39m array\u001B[38;5;241m.\u001B[39mshape[\u001B[38;5;241m1\u001B[39m]\n",
      "\u001B[0;31mValueError\u001B[0m: Found array with 0 sample(s) (shape=(0, 5)) while a minimum of 1 is required by StandardScaler."
     ]
    }
   ],
   "source": [
    "for site in sites:\n",
    "    pred = model.predict(tmp[tmp['site']==site])\n",
    "    plt.plot(tmp[tmp['site']==site].index, pred, label=site)\n",
    "    \n",
    "plt.title('Example of inference')\n",
    "plt.legend()\n"
   ],
   "metadata": {
    "collapsed": false,
    "ExecuteTime": {
     "end_time": "2024-04-12T20:26:14.129449314Z",
     "start_time": "2024-04-12T20:26:12.358362814Z"
    }
   },
   "id": "1ea4eb2d6e5cea18"
  },
  {
   "cell_type": "code",
   "execution_count": null,
   "outputs": [],
   "source": [],
   "metadata": {
    "collapsed": false,
    "ExecuteTime": {
     "end_time": "2024-04-12T20:26:14.132735833Z",
     "start_time": "2024-04-12T20:26:14.132209949Z"
    }
   },
   "id": "f71f880990115525"
  }
 ],
 "metadata": {
  "kernelspec": {
   "display_name": "Python 3",
   "language": "python",
   "name": "python3"
  },
  "language_info": {
   "codemirror_mode": {
    "name": "ipython",
    "version": 2
   },
   "file_extension": ".py",
   "mimetype": "text/x-python",
   "name": "python",
   "nbconvert_exporter": "python",
   "pygments_lexer": "ipython2",
   "version": "2.7.6"
  }
 },
 "nbformat": 4,
 "nbformat_minor": 5
}
